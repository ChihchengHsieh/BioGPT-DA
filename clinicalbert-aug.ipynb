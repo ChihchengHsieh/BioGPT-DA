{
 "cells": [
  {
   "cell_type": "code",
   "execution_count": 1,
   "metadata": {},
   "outputs": [],
   "source": [
    "import os\n",
    "import pandas as pd\n",
    "\n",
    "from tqdm import tqdm\n",
    "from transformers import pipeline, set_seed\n",
    "from transformers import BioGptTokenizer, BioGptForCausalLM\n",
    "from aug.bert import *\n",
    "\n",
    "MIMIC_EYE_PATH = \"F:\\\\mimic-eye\"\n",
    "\n",
    "REFLACX_LESION_LABEL_COLS = [\n",
    "    # \"Fibrosis\",\n",
    "    # \"Quality issue\",\n",
    "    # \"Wide mediastinum\",\n",
    "    # \"Fracture\",\n",
    "    # \"Airway wall thickening\",\n",
    "\n",
    "    ######################\n",
    "    # \"Hiatal hernia\",\n",
    "    # \"Acute fracture\",\n",
    "    # \"Interstitial lung disease\",\n",
    "    # \"Enlarged hilum\",\n",
    "    # \"Abnormal mediastinal contour\",\n",
    "    # \"High lung volume / emphysema\",\n",
    "    # \"Pneumothorax\",\n",
    "    # \"Lung nodule or mass\",\n",
    "    # \"Groundglass opacity\",\n",
    "    ######################\n",
    "    \"Pulmonary edema\",\n",
    "    \"Enlarged cardiac silhouette\",\n",
    "    \"Consolidation\",\n",
    "    \"Atelectasis\",\n",
    "    \"Pleural abnormality\",\n",
    "    # \"Support devices\",\n",
    "]\n",
    "\n",
    "\n",
    "CHEXPERT_LABEL_COLS = [\n",
    "    \"Atelectasis_chexpert\",\n",
    "    \"Cardiomegaly_chexpert\",\n",
    "    \"Consolidation_chexpert\",\n",
    "    \"Edema_chexpert\",\n",
    "    \"Enlarged Cardiomediastinum_chexpert\",\n",
    "    \"Fracture_chexpert\",\n",
    "    \"Lung Lesion_chexpert\",\n",
    "    \"Lung Opacity_chexpert\",\n",
    "    \"No Finding_chexpert\",\n",
    "    \"Pleural Effusion_chexpert\",\n",
    "    \"Pleural Other_chexpert\",\n",
    "    \"Pneumonia_chexpert\",\n",
    "    \"Pneumothorax_chexpert\",\n",
    "    \"Support Devices_chexpert\", \n",
    "]\n"
   ]
  },
  {
   "cell_type": "code",
   "execution_count": 2,
   "metadata": {},
   "outputs": [],
   "source": [
    "from transformers import AutoTokenizer, AutoModel, DistilBertForMaskedLM\n",
    "tokenizer = AutoTokenizer.from_pretrained(\"medicalai/ClinicalBERT\")\n",
    "model = DistilBertForMaskedLM.from_pretrained(\"medicalai/ClinicalBERT\")\n",
    "# model = AutoModel.from_pretrained(\"medicalai/ClinicalBERT\")"
   ]
  },
  {
   "cell_type": "code",
   "execution_count": 3,
   "metadata": {},
   "outputs": [],
   "source": [
    "mask_filler = pipeline('fill-mask', model=model, tokenizer=tokenizer)\n",
    "set_seed(0)"
   ]
  },
  {
   "cell_type": "code",
   "execution_count": 4,
   "metadata": {},
   "outputs": [
    {
     "data": {
      "text/plain": [
       "[{'score': 0.038724757730960846,\n",
       "  'token': 10197,\n",
       "  'token_str': '20',\n",
       "  'sequence': 'the average blood pressure is 20 mmhg.'},\n",
       " {'score': 0.03354965150356293,\n",
       "  'token': 121,\n",
       "  'token_str': '0',\n",
       "  'sequence': 'the average blood pressure is 0 mmhg.'},\n",
       " {'score': 0.02289050817489624,\n",
       "  'token': 10218,\n",
       "  'token_str': '18',\n",
       "  'sequence': 'the average blood pressure is 18 mmhg.'}]"
      ]
     },
     "execution_count": 4,
     "metadata": {},
     "output_type": "execute_result"
    }
   ],
   "source": [
    "mask_filler(\"The average blood pressure is [MASK] mmHg.\", top_k=3)"
   ]
  },
  {
   "cell_type": "code",
   "execution_count": 5,
   "metadata": {},
   "outputs": [],
   "source": [
    "df = pd.read_csv('./spreadsheets/reflacx_clinical.csv')\n",
    "df['temperature_c'] = df['temperature'].apply(lambda f :(f-32) * 5/9 )"
   ]
  },
  {
   "cell_type": "code",
   "execution_count": 6,
   "metadata": {},
   "outputs": [],
   "source": [
    "features_to_aug =  [\n",
    "            \"temperature_c\",\n",
    "            \"heartrate\",\n",
    "            \"resprate\",\n",
    "            \"o2sat\",\n",
    "            \"sbp\",\n",
    "            \"dbp\",\n",
    "        ]\n",
    "\n",
    "feature_to_name_map = {\n",
    "    \"temperature_c\": \"body temperature in degrees Celsius\",\n",
    "    \"heartrate\": \"heart rate in beats per minute\",\n",
    "    \"resprate\": \"respiratory rate in breaths per minute\",\n",
    "    \"o2sat\": \"peripheral oxygen saturation (%)\",\n",
    "    \"sbp\": \"systolic blood pressure (mmHg)\",\n",
    "    \"dbp\":\"diastolic blood pressure (mmHg)\",\n",
    "}"
   ]
  },
  {
   "cell_type": "code",
   "execution_count": 7,
   "metadata": {},
   "outputs": [],
   "source": [
    "report_format=False"
   ]
  },
  {
   "cell_type": "code",
   "execution_count": 8,
   "metadata": {},
   "outputs": [
    {
     "name": "stdout",
     "output_type": "stream",
     "text": [
      "Resolving temperature_c\n"
     ]
    },
    {
     "name": "stderr",
     "output_type": "stream",
     "text": [
      "100%|██████████| 799/799 [01:06<00:00, 11.96it/s]\n"
     ]
    },
    {
     "name": "stdout",
     "output_type": "stream",
     "text": [
      "Resolving heartrate\n"
     ]
    },
    {
     "name": "stderr",
     "output_type": "stream",
     "text": [
      "100%|██████████| 799/799 [01:07<00:00, 11.82it/s]\n"
     ]
    },
    {
     "name": "stdout",
     "output_type": "stream",
     "text": [
      "Resolving resprate\n"
     ]
    },
    {
     "name": "stderr",
     "output_type": "stream",
     "text": [
      "100%|██████████| 799/799 [01:07<00:00, 11.79it/s]\n"
     ]
    },
    {
     "name": "stdout",
     "output_type": "stream",
     "text": [
      "Resolving o2sat\n"
     ]
    },
    {
     "name": "stderr",
     "output_type": "stream",
     "text": [
      "100%|██████████| 799/799 [01:07<00:00, 11.92it/s]\n"
     ]
    },
    {
     "name": "stdout",
     "output_type": "stream",
     "text": [
      "Resolving sbp\n"
     ]
    },
    {
     "name": "stderr",
     "output_type": "stream",
     "text": [
      "100%|██████████| 799/799 [01:06<00:00, 12.04it/s]\n"
     ]
    },
    {
     "name": "stdout",
     "output_type": "stream",
     "text": [
      "Resolving dbp\n"
     ]
    },
    {
     "name": "stderr",
     "output_type": "stream",
     "text": [
      "100%|██████████| 799/799 [01:07<00:00, 11.83it/s]\n"
     ]
    }
   ],
   "source": [
    "# df = aug_df(MIMIC_EYE_PATH, REFLACX_LESION_LABEL_COLS, features_to_aug, feature_to_name_map, df, generator, progress=[1, 5, 25, 50], report_format=report_format)\n",
    "aug_feature_range = {f: (df[f].min(), df[f].max()) for f in features_to_aug}\n",
    "\n",
    "for f in features_to_aug:\n",
    "    df[f\"aug_{f}\"] = None\n",
    "\n",
    "for f in features_to_aug:\n",
    "    print(f\"Resolving {f}\")\n",
    "    # aug the instance one by one\n",
    "    for idx, data in tqdm(df.iterrows(), total=df.shape[0]):\n",
    "        prompt = get_prompt_for_mask(\n",
    "            MIMIC_EYE_PATH,\n",
    "            data,\n",
    "            REFLACX_LESION_LABEL_COLS,\n",
    "            feature_to_name_map,\n",
    "            f,\n",
    "            report_format=report_format,\n",
    "        )\n",
    "\n",
    "\n",
    "        v = get_generated_value(\n",
    "            mask_filler, prompt, aug_feature_range[f], top_k=100,\n",
    "        )\n",
    "        if v is None:\n",
    "            print(\n",
    "                f\"Couldn't find value for [{idx}] prompt: {prompt}\"\n",
    "            )\n",
    "\n",
    "            \n",
    "        df.at[idx, f\"aug_{f}\"] = v"
   ]
  },
  {
   "cell_type": "code",
   "execution_count": 9,
   "metadata": {},
   "outputs": [],
   "source": [
    "df[\"aug_temperature\"] = df[\"aug_temperature_c\"].apply(lambda c: (c*1.8)+32)\n",
    "if report_format:\n",
    "    df.to_csv('./spreadsheets/cb_aug_report.csv')\n",
    "else:\n",
    "    df.to_csv('./spreadsheets/cb_aug_text.csv')"
   ]
  },
  {
   "cell_type": "code",
   "execution_count": null,
   "metadata": {},
   "outputs": [],
   "source": []
  }
 ],
 "metadata": {
  "kernelspec": {
   "display_name": "pytorch",
   "language": "python",
   "name": "python3"
  },
  "language_info": {
   "codemirror_mode": {
    "name": "ipython",
    "version": 3
   },
   "file_extension": ".py",
   "mimetype": "text/x-python",
   "name": "python",
   "nbconvert_exporter": "python",
   "pygments_lexer": "ipython3",
   "version": "3.9.18"
  },
  "orig_nbformat": 4
 },
 "nbformat": 4,
 "nbformat_minor": 2
}
