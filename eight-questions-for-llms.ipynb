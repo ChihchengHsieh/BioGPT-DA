{
 "cells": [
  {
   "cell_type": "code",
   "execution_count": 1,
   "metadata": {},
   "outputs": [],
   "source": [
    "import os\n",
    "import pandas as pd\n",
    "\n",
    "from tqdm import tqdm\n",
    "from transformers import pipeline, set_seed\n",
    "from transformers import BioGptTokenizer, BioGptForCausalLM\n",
    "from aug.gpt import *\n",
    "import warnings\n",
    "warnings.filterwarnings(\"ignore\")\n",
    "MIMIC_EYE_PATH = \"F:\\\\mimic-eye\""
   ]
  },
  {
   "cell_type": "code",
   "execution_count": 2,
   "metadata": {},
   "outputs": [],
   "source": [
    "lesion = \"Atelectasis\"\n",
    "questions = [\n",
    "    f\"What is {lesion}?\",\n",
    "    f\"What are the symptoms associated with {lesion}?\",\n",
    "    f\"What can cause {lesion}?\",\n",
    "    f\"What are the patient’s symptoms that are relevant for {lesion}?\",\n",
    "    f\"What are the relevant clinical signs for the etiological diagnosis of {lesion}?\",\n",
    "    f\"What are the relevant laboratory data for the etiological diagnosis of {lesion}?\",\n",
    "    f\"What are the relevant clinical characteristics for the etiological diagnosis of {lesion}\",\n",
    "    f\"What are the patient’s personal relevant history for the etiological diagnosis of {lesion}\",\n",
    "]"
   ]
  },
  {
   "cell_type": "code",
   "execution_count": 3,
   "metadata": {},
   "outputs": [],
   "source": [
    "from transformers import AutoTokenizer, AutoModel, DistilBertForMaskedLM, BertForMaskedLM, LlamaForCausalLM, LlamaTokenizer, LlamaForCausalLM\n",
    "import torch"
   ]
  },
  {
   "cell_type": "code",
   "execution_count": 4,
   "metadata": {},
   "outputs": [
    {
     "data": {
      "text/plain": [
       "'\\nLLaMa2\\n'"
      ]
     },
     "execution_count": 4,
     "metadata": {},
     "output_type": "execute_result"
    }
   ],
   "source": [
    "'''\n",
    "LLaMa2\n",
    "'''\n",
    "\n",
    "# from transformers import (\n",
    "#     AutoTokenizer,\n",
    "#     AutoModel,\n",
    "#     DistilBertForMaskedLM,\n",
    "#     BertForMaskedLM,\n",
    "#     LlamaTokenizer,\n",
    "#     LlamaForCausalLM,\n",
    "# )\n",
    "# import torch\n",
    "# from secret import *\n",
    "\n",
    "# tokenizer = LlamaTokenizer.from_pretrained(\n",
    "#     \"meta-llama/Llama-2-7b-hf\", token=HUGGING_FACE_TOKEN\n",
    "# )\n",
    "# model = LlamaForCausalLM.from_pretrained(\n",
    "#     \"meta-llama/Llama-2-7b-hf\",\n",
    "#     token=HUGGING_FACE_TOKEN,\n",
    "#     device_map=\"auto\",\n",
    "#     torch_dtype=torch.float16,\n",
    "# )  # )\n",
    "# # model = AutoModel.from_pretrained(\"emilyalsentzer/Bio_ClinicalBERT\")\n",
    "# generator = pipeline(\"text-generation\", model=model, tokenizer=tokenizer)\n",
    "# set_seed(0)"
   ]
  },
  {
   "cell_type": "code",
   "execution_count": 5,
   "metadata": {},
   "outputs": [
    {
     "data": {
      "text/plain": [
       "'\\nMistral\\n'"
      ]
     },
     "execution_count": 5,
     "metadata": {},
     "output_type": "execute_result"
    }
   ],
   "source": [
    "'''\n",
    "Mistral\n",
    "'''\n",
    "\n",
    "# generator = pipeline(\"text-generation\", model=\"mistralai/Mistral-7B-v0.1\", torch_dtype=torch.bfloat16, device_map=\"auto\", pad_token_id=2, eos_token_id=2)"
   ]
  },
  {
   "cell_type": "code",
   "execution_count": 6,
   "metadata": {},
   "outputs": [],
   "source": [
    "# # do greedy\n",
    "# res_dict = {}\n",
    "# for q in questions:\n",
    "#     res = generator(f\"\"\"Question: {q} \n",
    "#                     Answer:\"\"\",  num_return_sequences=1, max_length=512)\n",
    "#     res_dict[q] = res[0]['generated_text']"
   ]
  },
  {
   "cell_type": "code",
   "execution_count": 7,
   "metadata": {},
   "outputs": [],
   "source": [
    "import openai\n",
    "from secret import *\n",
    "openai.api_key = OPENAI_API_KEY\n",
    "\n",
    "from tenacity import (\n",
    "    retry,\n",
    "    stop_after_attempt,\n",
    "    wait_random_exponential,\n",
    "    retry_if_exception_type\n",
    ")  # for exponential backoff\n",
    "\n",
    "\n",
    "@retry(\n",
    "    retry=retry_if_exception_type((openai.error.APIError, openai.error.APIConnectionError, openai.error.RateLimitError, openai.error.ServiceUnavailableError, openai.error.Timeout)), \n",
    "    wait=wait_random_exponential(multiplier=1, max=60), \n",
    "    stop=stop_after_attempt(10)\n",
    ")\n",
    "def chat_completion_with_backoff(**kwargs):\n",
    "    return openai.ChatCompletion.create(**kwargs)\n"
   ]
  },
  {
   "cell_type": "code",
   "execution_count": 8,
   "metadata": {},
   "outputs": [],
   "source": [
    "res_dict = {}\n",
    "for q in questions:\n",
    "    res = chat_completion_with_backoff(\n",
    "                # model=\"gpt-3.5-turbo\",\n",
    "                model=\"gpt-4\",\n",
    "                messages=[\n",
    "                    # {\"role\": \"system\", \"content\": \"You are a helpful assistant.\"},\n",
    "                    {\"role\": \"system\", \"content\": \"You are an experienced radiologist. Use a keyword-based report to answer the following questions.\"},\n",
    "                    {\"role\": \"user\", \"content\": f\"{q}\"},\n",
    "                ],\n",
    "                temperature=0.2,\n",
    "                n=1,\n",
    "            )\n",
    "    res_dict[q] = res"
   ]
  },
  {
   "cell_type": "code",
   "execution_count": 21,
   "metadata": {},
   "outputs": [],
   "source": [
    "# post-process res_dict\n",
    "processed_res_dict = {q: res_dict[q]['choices'][0]['message']['content'] for q in questions}"
   ]
  },
  {
   "cell_type": "code",
   "execution_count": 22,
   "metadata": {},
   "outputs": [
    {
     "data": {
      "text/plain": [
       "{'What is Atelectasis?': 'Atelectasis refers to the partial or complete collapse of a lung or a section (lobe) of a lung. It is typically caused by a blockage of the tiny airways (bronchioles) or by pressure on the outside of the lung. Atelectasis can lead to decreased oxygen levels in the blood, which can be serious if not treated promptly. Symptoms may include difficulty breathing, cough, and chest pain.',\n",
       " 'What are the symptoms associated with Atelectasis?': 'As a radiologist, I interpret imaging rather than directly dealing with symptoms. However, generally, symptoms of Atelectasis may include difficulty breathing, rapid shallow breathing, wheezing, coughing, and chest pain. Please consult with a healthcare provider for a comprehensive understanding.',\n",
       " 'What can cause Atelectasis?': '1. Airway Obstruction: This could be due to a tumor, foreign body, mucus plug, or severe asthma.\\n2. Compression: Conditions such as pleural effusion, pneumothorax, or a large tumor can compress the lung and cause atelectasis.\\n3. Postoperative: This is common after surgery, especially in the upper abdomen or chest. General anesthesia changes your regular pattern of breathing and affects the exchange of lung gases, which can lead to atelectasis.\\n4. Lung Diseases: Certain lung diseases like pneumonia or lung cancer can cause atelectasis.\\n5. Prolonged Bed Rest: Being in a horizontal position for extended periods can cause mucus to accumulate in the lungs, leading to atelectasis.\\n6. Neuromuscular Disorders: Conditions that affect the muscles needed for breathing, such as muscular dystrophy or myasthenia gravis, can lead to atelectasis.\\n7. Chest Injuries: Any injury that causes pain while breathing can lead to atelectasis.\\n8. Smoking: Chronic smoking can cause damage to the airways leading to atelectasis.',\n",
       " 'What are the patient’s symptoms that are relevant for Atelectasis?': \"As a language model AI developed by OpenAI, I don't have access to specific patient data or reports. However, in general, symptoms relevant for Atelectasis (lung collapse) may include:\\n\\n- Shortness of breath\\n- Rapid breathing\\n- Chest pain or discomfort\\n- Cough\\n- Decreased breath sounds on one side of the chest\\n- Increased heart rate\\n\\nPlease note that these symptoms can also be associated with other conditions, so a thorough medical evaluation is necessary for an accurate diagnosis.\",\n",
       " 'What are the relevant clinical signs for the etiological diagnosis of Atelectasis?': 'Clinical signs of Atelectasis may include:\\n\\n1. Decreased breath sounds: This is due to the collapse of a part or all of a lung, which can prevent the normal flow of air and sounds.\\n\\n2. Dyspnea: Shortness of breath or difficulty breathing is a common symptom of atelectasis.\\n\\n3. Tachypnea: Rapid breathing may occur as the body tries to compensate for the reduced lung capacity.\\n\\n4. Cyanosis: This is a bluish discoloration of the skin and mucous membranes due to low oxygen levels.\\n\\n5. Chest pain or discomfort: This can occur if the atelectasis is due to a blockage in the airways.\\n\\n6. Cough: A persistent cough can be a sign of atelectasis.\\n\\n7. Fever: In some cases, atelectasis can lead to a fever, especially if it is caused by an infection.\\n\\n8. Hypoxia: Low oxygen levels in the blood can be a sign of atelectasis.\\n\\n9. Pleural effusion: This is a buildup of fluid between the layers of tissue that line the lungs and chest cavity.\\n\\n10. Changes in chest X-ray or CT scan: These imaging tests can show areas of the lung that are collapsed or not inflating properly. \\n\\nPlease note that these signs and symptoms can also be associated with other lung conditions, so further diagnostic tests may be needed to confirm atelectasis.',\n",
       " 'What are the relevant laboratory data for the etiological diagnosis of Atelectasis?': 'As a radiologist, I primarily interpret imaging studies. However, I can tell you that laboratory data for the diagnosis of Atelectasis may not be directly relevant as the condition is typically diagnosed through imaging studies such as chest X-rays or CT scans. These imaging studies can show areas of collapsed lung. \\n\\nHowever, some laboratory tests can help determine the cause or complications of atelectasis. These may include:\\n\\n1. Complete Blood Count (CBC): To check for signs of infection or anemia.\\n2. Blood Gas Analysis: To assess the levels of oxygen and carbon dioxide in the blood.\\n3. Sputum Culture: To identify any bacteria or other pathogens that may be causing an infection.\\n4. Blood Culture: To check for the presence of bacteria or other pathogens in the blood.\\n\\nPlease consult with a pulmonologist or other appropriate specialist for a comprehensive understanding of the etiological diagnosis of atelectasis.',\n",
       " 'What are the relevant clinical characteristics for the etiological diagnosis of Atelectasis': '1. Patient History: History of recent surgery, especially thoracic surgery, or prolonged bed rest can be relevant. History of lung diseases, smoking, or exposure to respiratory irritants can also be important.\\n\\n2. Symptoms: Difficulty breathing, rapid shallow breathing, wheezing, cough, and chest pain or discomfort are common symptoms.\\n\\n3. Physical Examination: Decreased breath sounds, crackles, or decreased chest expansion on the affected side may be observed.\\n\\n4. Imaging Findings: Chest X-ray or CT scan showing areas of collapsed lung tissue, increased density, or displacement of structures such as the heart, major blood vessels, or airways.\\n\\n5. Laboratory Tests: Blood tests may show decreased oxygen levels or increased carbon dioxide levels. Sputum culture or bronchoscopy may be needed to identify any underlying infection.\\n\\n6. Risk Factors: Advanced age, general anesthesia, mechanical ventilation, neuromuscular disorders affecting the chest muscles, or conditions causing decreased lung volumes such as obesity or pregnancy.\\n\\n7. Underlying Conditions: Presence of lung diseases such as COPD, asthma, cystic fibrosis, or lung cancer can predispose to atelectasis. Other conditions such as pneumonia, tuberculosis, or lung injury can also cause atelectasis.',\n",
       " 'What are the patient’s personal relevant history for the etiological diagnosis of Atelectasis': \"As a language model AI developed by OpenAI, I don't have access to personal data about individuals unless it has been shared with me in the course of our conversation. I am designed to respect user privacy and confidentiality. Therefore, I don't have the patient's personal relevant history for the etiological diagnosis of Atelectasis. However, I can tell you that relevant history may include factors like recent surgeries, chronic lung diseases, smoking history, or any conditions that might affect the patient's ability to cough and clear secretions from the lungs.\"}"
      ]
     },
     "execution_count": 22,
     "metadata": {},
     "output_type": "execute_result"
    }
   ],
   "source": [
    "processed_res_dict"
   ]
  },
  {
   "cell_type": "code",
   "execution_count": 24,
   "metadata": {},
   "outputs": [
    {
     "name": "stdout",
     "output_type": "stream",
     "text": [
      "1\n",
      "Atelectasis refers to the partial or complete collapse of a lung or a section (lobe) of a lung. It is typically caused by a blockage of the tiny airways (bronchioles) or by pressure on the outside of the lung. Atelectasis can lead to decreased oxygen levels in the blood, which can be serious if not treated promptly. Symptoms may include difficulty breathing, cough, and chest pain.\n",
      "2\n",
      "As a radiologist, I interpret imaging rather than directly dealing with symptoms. However, generally, symptoms of Atelectasis may include difficulty breathing, rapid shallow breathing, wheezing, coughing, and chest pain. Please consult with a healthcare provider for a comprehensive understanding.\n",
      "3\n",
      "1. Airway Obstruction: This could be due to a tumor, foreign body, mucus plug, or severe asthma.\n",
      "2. Compression: Conditions such as pleural effusion, pneumothorax, or a large tumor can compress the lung and cause atelectasis.\n",
      "3. Postoperative: This is common after surgery, especially in the upper abdomen or chest. General anesthesia changes your regular pattern of breathing and affects the exchange of lung gases, which can lead to atelectasis.\n",
      "4. Lung Diseases: Certain lung diseases like pneumonia or lung cancer can cause atelectasis.\n",
      "5. Prolonged Bed Rest: Being in a horizontal position for extended periods can cause mucus to accumulate in the lungs, leading to atelectasis.\n",
      "6. Neuromuscular Disorders: Conditions that affect the muscles needed for breathing, such as muscular dystrophy or myasthenia gravis, can lead to atelectasis.\n",
      "7. Chest Injuries: Any injury that causes pain while breathing can lead to atelectasis.\n",
      "8. Smoking: Chronic smoking can cause damage to the airways leading to atelectasis.\n",
      "4\n",
      "As a language model AI developed by OpenAI, I don't have access to specific patient data or reports. However, in general, symptoms relevant for Atelectasis (lung collapse) may include:\n",
      "\n",
      "- Shortness of breath\n",
      "- Rapid breathing\n",
      "- Chest pain or discomfort\n",
      "- Cough\n",
      "- Decreased breath sounds on one side of the chest\n",
      "- Increased heart rate\n",
      "\n",
      "Please note that these symptoms can also be associated with other conditions, so a thorough medical evaluation is necessary for an accurate diagnosis.\n",
      "5\n",
      "Clinical signs of Atelectasis may include:\n",
      "\n",
      "1. Decreased breath sounds: This is due to the collapse of a part or all of a lung, which can prevent the normal flow of air and sounds.\n",
      "\n",
      "2. Dyspnea: Shortness of breath or difficulty breathing is a common symptom of atelectasis.\n",
      "\n",
      "3. Tachypnea: Rapid breathing may occur as the body tries to compensate for the reduced lung capacity.\n",
      "\n",
      "4. Cyanosis: This is a bluish discoloration of the skin and mucous membranes due to low oxygen levels.\n",
      "\n",
      "5. Chest pain or discomfort: This can occur if the atelectasis is due to a blockage in the airways.\n",
      "\n",
      "6. Cough: A persistent cough can be a sign of atelectasis.\n",
      "\n",
      "7. Fever: In some cases, atelectasis can lead to a fever, especially if it is caused by an infection.\n",
      "\n",
      "8. Hypoxia: Low oxygen levels in the blood can be a sign of atelectasis.\n",
      "\n",
      "9. Pleural effusion: This is a buildup of fluid between the layers of tissue that line the lungs and chest cavity.\n",
      "\n",
      "10. Changes in chest X-ray or CT scan: These imaging tests can show areas of the lung that are collapsed or not inflating properly. \n",
      "\n",
      "Please note that these signs and symptoms can also be associated with other lung conditions, so further diagnostic tests may be needed to confirm atelectasis.\n",
      "6\n",
      "As a radiologist, I primarily interpret imaging studies. However, I can tell you that laboratory data for the diagnosis of Atelectasis may not be directly relevant as the condition is typically diagnosed through imaging studies such as chest X-rays or CT scans. These imaging studies can show areas of collapsed lung. \n",
      "\n",
      "However, some laboratory tests can help determine the cause or complications of atelectasis. These may include:\n",
      "\n",
      "1. Complete Blood Count (CBC): To check for signs of infection or anemia.\n",
      "2. Blood Gas Analysis: To assess the levels of oxygen and carbon dioxide in the blood.\n",
      "3. Sputum Culture: To identify any bacteria or other pathogens that may be causing an infection.\n",
      "4. Blood Culture: To check for the presence of bacteria or other pathogens in the blood.\n",
      "\n",
      "Please consult with a pulmonologist or other appropriate specialist for a comprehensive understanding of the etiological diagnosis of atelectasis.\n",
      "7\n",
      "1. Patient History: History of recent surgery, especially thoracic surgery, or prolonged bed rest can be relevant. History of lung diseases, smoking, or exposure to respiratory irritants can also be important.\n",
      "\n",
      "2. Symptoms: Difficulty breathing, rapid shallow breathing, wheezing, cough, and chest pain or discomfort are common symptoms.\n",
      "\n",
      "3. Physical Examination: Decreased breath sounds, crackles, or decreased chest expansion on the affected side may be observed.\n",
      "\n",
      "4. Imaging Findings: Chest X-ray or CT scan showing areas of collapsed lung tissue, increased density, or displacement of structures such as the heart, major blood vessels, or airways.\n",
      "\n",
      "5. Laboratory Tests: Blood tests may show decreased oxygen levels or increased carbon dioxide levels. Sputum culture or bronchoscopy may be needed to identify any underlying infection.\n",
      "\n",
      "6. Risk Factors: Advanced age, general anesthesia, mechanical ventilation, neuromuscular disorders affecting the chest muscles, or conditions causing decreased lung volumes such as obesity or pregnancy.\n",
      "\n",
      "7. Underlying Conditions: Presence of lung diseases such as COPD, asthma, cystic fibrosis, or lung cancer can predispose to atelectasis. Other conditions such as pneumonia, tuberculosis, or lung injury can also cause atelectasis.\n",
      "8\n",
      "As a language model AI developed by OpenAI, I don't have access to personal data about individuals unless it has been shared with me in the course of our conversation. I am designed to respect user privacy and confidentiality. Therefore, I don't have the patient's personal relevant history for the etiological diagnosis of Atelectasis. However, I can tell you that relevant history may include factors like recent surgeries, chronic lung diseases, smoking history, or any conditions that might affect the patient's ability to cough and clear secretions from the lungs.\n"
     ]
    }
   ],
   "source": [
    "for i, q in enumerate(questions):\n",
    "    print(i+1)\n",
    "    print(processed_res_dict[q])"
   ]
  },
  {
   "cell_type": "code",
   "execution_count": null,
   "metadata": {},
   "outputs": [],
   "source": []
  },
  {
   "cell_type": "code",
   "execution_count": 12,
   "metadata": {},
   "outputs": [],
   "source": [
    "# Mistral\n",
    "# generator = pipeline(\"text-generation\", model=\"mistralai/Mistral-7B-v0.1\", torch_dtype=torch.bfloat16, device_map=\"auto\", pad_token_id=2, eos_token_id=2)\n",
    "# set_seed(0)\n",
    "# generator(\"The average blood pressure for human is \",  max_new_tokens=10, num_return_sequences=1, do_sample=True)"
   ]
  },
  {
   "cell_type": "code",
   "execution_count": 13,
   "metadata": {},
   "outputs": [],
   "source": [
    "# import openai\n",
    "# from secret import *\n",
    "# openai.api_key = OPENAI_API_KEY\n",
    "\n",
    "# from tenacity import (\n",
    "#     retry,\n",
    "#     stop_after_attempt,\n",
    "#     wait_random_exponential,\n",
    "#     retry_if_exception_type\n",
    "# )  # for exponential backoff\n",
    "\n",
    "\n",
    "# @retry(\n",
    "#     retry=retry_if_exception_type((openai.error.APIError, openai.error.APIConnectionError, openai.error.RateLimitError, openai.error.ServiceUnavailableError, openai.error.Timeout)), \n",
    "#     wait=wait_random_exponential(multiplier=1, max=60), \n",
    "#     stop=stop_after_attempt(10)\n",
    "# )\n",
    "# def chat_completion_with_backoff(**kwargs):\n",
    "#     return openai.ChatCompletion.create(**kwargs)\n",
    "\n",
    "\n",
    "# res = chat_completion_with_backoff(\n",
    "#                 # model=\"gpt-3.5-turbo\",\n",
    "#                 model=\"gpt-4\",\n",
    "#                 messages=[\n",
    "#                     # {\"role\": \"system\", \"content\": \"You are a helpful assistant.\"},\n",
    "#                     {\"role\": \"system\", \"content\": \"You are a medical expert predicting the possible value of clinical features.\"},\n",
    "#                     {\"role\": \"user\", \"content\": f\"What can be the next word for the following context (please only return one numerical word):\\n\\n {prompt}\"},\n",
    "#                 ],\n",
    "#                 temperature=0.2,\n",
    "#                 n=50\n",
    "#             )\n",
    "\n",
    "#             res = [c['message']['content'] for c in res['choices']]"
   ]
  },
  {
   "cell_type": "code",
   "execution_count": null,
   "metadata": {},
   "outputs": [],
   "source": []
  },
  {
   "cell_type": "code",
   "execution_count": null,
   "metadata": {},
   "outputs": [],
   "source": []
  }
 ],
 "metadata": {
  "kernelspec": {
   "display_name": "pytorch",
   "language": "python",
   "name": "python3"
  },
  "language_info": {
   "codemirror_mode": {
    "name": "ipython",
    "version": 3
   },
   "file_extension": ".py",
   "mimetype": "text/x-python",
   "name": "python",
   "nbconvert_exporter": "python",
   "pygments_lexer": "ipython3",
   "version": "3.9.18"
  }
 },
 "nbformat": 4,
 "nbformat_minor": 2
}
