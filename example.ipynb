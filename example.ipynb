{
 "cells": [
  {
   "cell_type": "code",
   "execution_count": 1,
   "metadata": {},
   "outputs": [],
   "source": [
    "from transformers import pipeline, set_seed\n",
    "from transformers import BioGptTokenizer, BioGptForCausalLM"
   ]
  },
  {
   "cell_type": "code",
   "execution_count": 2,
   "metadata": {},
   "outputs": [],
   "source": [
    "model = BioGptForCausalLM.from_pretrained(\"microsoft/biogpt\")\n",
    "tokenizer = BioGptTokenizer.from_pretrained(\"microsoft/biogpt\")\n",
    "generator = pipeline(\"text-generation\", model=model, tokenizer=tokenizer)\n",
    "set_seed(0)"
   ]
  },
  {
   "cell_type": "code",
   "execution_count": 6,
   "metadata": {},
   "outputs": [],
   "source": [
    "prompt = \"When radiologists is reading the x-ray image and making diagnosis, they need some clinical features about the patients, including\""
   ]
  },
  {
   "cell_type": "code",
   "execution_count": 7,
   "metadata": {},
   "outputs": [],
   "source": [
    "outputs = generator(\n",
    "    \"When radiologists is reading the x-ray image and making diagnosis, they need some clinical features about the patients, including\",\n",
    "    max_length=1024,\n",
    "    # max_new_tokens = 1,\n",
    "    num_return_sequences=10,\n",
    "    do_sample=True,\n",
    ")"
   ]
  },
  {
   "cell_type": "code",
   "execution_count": 8,
   "metadata": {},
   "outputs": [
    {
     "data": {
      "text/plain": [
       "[{'generated_text': 'When radiologists is reading the x-ray image and making diagnosis, they need some clinical features about the patients, including the presence of pulmonary nodules, a low-density shadow in both anterior and posterior regions of the lung on chest roentgenogram, and low-attenuation lung tissue on CT scan.'},\n",
       " {'generated_text': \"When radiologists is reading the x-ray image and making diagnosis, they need some clinical features about the patients, including the patient's age and sex, radiographic findings, clinical signs and symptoms, disease progression, and complications.\"},\n",
       " {'generated_text': 'When radiologists is reading the x-ray image and making diagnosis, they need some clinical features about the patients, including the size and site of the lesion and whether lung abscess or neoplasm is present.'},\n",
       " {'generated_text': 'When radiologists is reading the x-ray image and making diagnosis, they need some clinical features about the patients, including a history of surgery, pregnancy status, and the clinical symptoms.'},\n",
       " {'generated_text': 'When radiologists is reading the x-ray image and making diagnosis, they need some clinical features about the patients, including age, gender, smoking, diabetes, and alcoholism.'},\n",
       " {'generated_text': 'When radiologists is reading the x-ray image and making diagnosis, they need some clinical features about the patients, including the risk of malignancy in them, their general condition, whether they have symptoms, and whether they had a past history of cancer or a family history of cancer.'},\n",
       " {'generated_text': 'When radiologists is reading the x-ray image and making diagnosis, they need some clinical features about the patients, including the age, sex, the location of their lesion, and the nature of their lesion.'},\n",
       " {'generated_text': 'When radiologists is reading the x-ray image and making diagnosis, they need some clinical features about the patients, including age, signs of inflammation, and symptoms and signs obtained during the exam.'},\n",
       " {'generated_text': 'When radiologists is reading the x-ray image and making diagnosis, they need some clinical features about the patients, including presence or absence of pain, swelling, mass, and neurologic deficit.'},\n",
       " {'generated_text': 'When radiologists is reading the x-ray image and making diagnosis, they need some clinical features about the patients, including age and other imaging of the patient and radiological findings.'}]"
      ]
     },
     "execution_count": 8,
     "metadata": {},
     "output_type": "execute_result"
    }
   ],
   "source": [
    "outputs"
   ]
  },
  {
   "cell_type": "code",
   "execution_count": null,
   "metadata": {},
   "outputs": [],
   "source": []
  },
  {
   "cell_type": "code",
   "execution_count": null,
   "metadata": {},
   "outputs": [],
   "source": []
  }
 ],
 "metadata": {
  "kernelspec": {
   "display_name": "pytorch",
   "language": "python",
   "name": "python3"
  },
  "language_info": {
   "codemirror_mode": {
    "name": "ipython",
    "version": 3
   },
   "file_extension": ".py",
   "mimetype": "text/x-python",
   "name": "python",
   "nbconvert_exporter": "python",
   "pygments_lexer": "ipython3",
   "version": "3.9.16"
  },
  "orig_nbformat": 4
 },
 "nbformat": 4,
 "nbformat_minor": 2
}
