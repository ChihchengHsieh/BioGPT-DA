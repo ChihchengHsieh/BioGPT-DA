{
 "cells": [
  {
   "cell_type": "code",
   "execution_count": 1,
   "metadata": {},
   "outputs": [],
   "source": [
    "from transformers import pipeline, set_seed\n",
    "from transformers import BioGptTokenizer, BioGptForCausalLM"
   ]
  },
  {
   "cell_type": "code",
   "execution_count": 2,
   "metadata": {},
   "outputs": [],
   "source": [
    "model = BioGptForCausalLM.from_pretrained(\"microsoft/biogpt\")\n",
    "tokenizer = BioGptTokenizer.from_pretrained(\"microsoft/biogpt\")\n",
    "generator = pipeline(\"text-generation\", model=model, tokenizer=tokenizer)\n",
    "set_seed(0)"
   ]
  },
  {
   "cell_type": "code",
   "execution_count": 14,
   "metadata": {},
   "outputs": [
    {
     "data": {
      "text/plain": [
       "['14',\n",
       " '28',\n",
       " '0',\n",
       " '3',\n",
       " '28',\n",
       " '40',\n",
       " '980',\n",
       " '12',\n",
       " '74',\n",
       " '1.',\n",
       " '32',\n",
       " '18',\n",
       " '39',\n",
       " '17',\n",
       " '238</w>']"
      ]
     },
     "execution_count": 14,
     "metadata": {},
     "output_type": "execute_result"
    }
   ],
   "source": [
    "tokenizer.tokenize(\"142803284098012741.32183917238\")"
   ]
  },
  {
   "cell_type": "code",
   "execution_count": 3,
   "metadata": {},
   "outputs": [],
   "source": [
    "prompt = \"When radiologists is reading the x-ray image and making diagnosis, they need some clinical features about the patients, including\""
   ]
  },
  {
   "cell_type": "code",
   "execution_count": 25,
   "metadata": {},
   "outputs": [],
   "source": [
    "outputs = generator(\n",
    "    \"When radiologists is reading the x-ray image and making diagnosis, the clinical features radiologists need are listed as following:\",\n",
    "    max_length=1024,\n",
    "    # max_new_tokens = 1,\n",
    "    num_return_sequences=10,\n",
    "    do_sample=True,\n",
    ")"
   ]
  },
  {
   "cell_type": "code",
   "execution_count": 26,
   "metadata": {},
   "outputs": [
    {
     "data": {
      "text/plain": [
       "[{'generated_text': 'When radiologists is reading the x-ray image and making diagnosis, the clinical features radiologists need are listed as following: 1) age or gender of a patient or the number of times the x-ray is taken; and 2) a patient has an underlying condition.'},\n",
       " {'generated_text': 'When radiologists is reading the x-ray image and making diagnosis, the clinical features radiologists need are listed as following: clinical features; risk factors; history of trauma; history of cancer; age of onset; signs and symptoms; and auxiliary examinations.'},\n",
       " {'generated_text': 'When radiologists is reading the x-ray image and making diagnosis, the clinical features radiologists need are listed as following: X-ray diagnosis of the body part abnormality, symptoms of the body part abnormality, physical finding such as the change of posture, abnormal findings in the breathing mechanism with body movement, abnormal findings in the breathing mechanism with body movement and respiratory changes.'},\n",
       " {'generated_text': 'When radiologists is reading the x-ray image and making diagnosis, the clinical features radiologists need are listed as following: The patient history and history of abnormal findings in the radiograph are identified as primary concerns to enable the radiologist to understand the significance of the finding.'},\n",
       " {'generated_text': 'When radiologists is reading the x-ray image and making diagnosis, the clinical features radiologists need are listed as following: if the x-ray images cannot be viewed accurately, the patient must be advised to reduce radiation exposure of the patient.'},\n",
       " {'generated_text': 'When radiologists is reading the x-ray image and making diagnosis, the clinical features radiologists need are listed as following: age, gender, side of the eye (upper or lower), sign of exophthalmos, corneal shields, intraocular and optic nerve edema, corneal vascularization, and corneal opacity, in addition to the presence or absence of ocular trauma.'},\n",
       " {'generated_text': \"When radiologists is reading the x-ray image and making diagnosis, the clinical features radiologists need are listed as following: (1) When patients' physical symptoms such as joint pain, joint swelling, or weakness that cannot be explained by degenerative joint disease are detected, and symptoms of the same symptoms may not be present in other patients.\"},\n",
       " {'generated_text': 'When radiologists is reading the x-ray image and making diagnosis, the clinical features radiologists need are listed as following: a history of jaundice, elevated serum bilirubin of liver, abnormal liver functions test, abnormal radiology, or suspected malignancy.'},\n",
       " {'generated_text': 'When radiologists is reading the x-ray image and making diagnosis, the clinical features radiologists need are listed as following: \"I know which X-ray, the x-ray image which has something about this\" (in the English word).'},\n",
       " {'generated_text': 'When radiologists is reading the x-ray image and making diagnosis, the clinical features radiologists need are listed as following: 1) patients with a history of asbestos exposure, 2) patients with chronic cough, chest pain, back pain, dyspnea, or any other physical finding that is more suggestive of asbestosis, and 3) abnormal x-ray findings which are not found on chest x-ray studies that are not characteristic of asbestosis but which can be explained by other diagnoses.'}]"
      ]
     },
     "execution_count": 26,
     "metadata": {},
     "output_type": "execute_result"
    }
   ],
   "source": [
    "outputs"
   ]
  },
  {
   "cell_type": "code",
   "execution_count": 22,
   "metadata": {},
   "outputs": [
    {
     "data": {
      "text/plain": [
       "['When radiologists is reading the x-ray image and making diagnosis, the clinical features radiologists need are listed as following: (1) Pain or discomfort, (2) Soft tissue mass, (3) Nodule, (4) Consolidation, (5) Calcification, (6) Pigmented Mass, (7) Nodular Lesions), (8) Pleural effusion, (9) Pneumothorax, (10) Mass or Adhesion, (11) Nodule or Adhesion, (12) Calcification, (13) Pleural Effusion, (14) Aspiration, Mass, or Adhesion Diagnosis, (15) Pulmonary Nodule or Adhesion Diagnostic, (16) Spurious Image, (17) Pleural Mass (Cavitary), (18) Pleural Tumor (Pleural Effusion), (19) Pulmonary Nodule or Calcification, (20) Thoracic Outlet Syndrome, (21) Suspicion of Mediastinal Tumors.',\n",
       " 'When radiologists is reading the x-ray image and making diagnosis, the clinical features radiologists need are listed as following: \"Patient\\'s age, length of time-lapse between radiograph and computer-aided diagnosis system used, history of previous treatments, and presence of complications are included in the diagnostic questions.\"',\n",
       " 'When radiologists is reading the x-ray image and making diagnosis, the clinical features radiologists need are listed as following: 1) the location or the site of a lesion is noted; 2) the shape is described; and 3) the lesions are displayed in color.',\n",
       " 'When radiologists is reading the x-ray image and making diagnosis, the clinical features radiologists need are listed as following: (1) history: (a) a history of chronic diseases; (b) disease localization (e.g., lung cysts, masses); (c) age (b) physical appearance (a) \"risk to health\"; and (d) signs suggestive of malignancy (e.g., spiculated margins, irregular contours, pleural involvement, pleural thickening, etc.).',\n",
       " 'When radiologists is reading the x-ray image and making diagnosis, the clinical features radiologists need are listed as following: (1) the X-ray images should be seen carefully and evaluated carefully including the thickness and other details and (2) each lesion must be evaluated in terms of diagnostic significance and the results of other diagnostic modalities.',\n",
       " 'When radiologists is reading the x-ray image and making diagnosis, the clinical features radiologists need are listed as following: 1.',\n",
       " 'When radiologists is reading the x-ray image and making diagnosis, the clinical features radiologists need are listed as following: (a) patient age, (b) location of lesion, (c) size, (d) shape, (e) contrast enhancement, and (f) other associated features such as the location of bone metastases or soft tissue masses, chest wall, breast density, skin thickening, and pleural effusion.',\n",
       " 'When radiologists is reading the x-ray image and making diagnosis, the clinical features radiologists need are listed as following: (a) the patient age is at least 35 years or older, (b) the patient has one or more risk factors for breast cancer, (c) the mammograms are normal, or (d) the x-ray film is abnormal and is the mammographic diagnosis.',\n",
       " 'When radiologists is reading the x-ray image and making diagnosis, the clinical features radiologists need are listed as following: (1) The presence or absence of a lesion; it is not known whether there is a lesion; (2) The lesion is a bone lesion; it is not evident that there are multiple lesions; and (3) In some cases, more than one lesion is found.',\n",
       " 'When radiologists is reading the x-ray image and making diagnosis, the clinical features radiologists need are listed as following: 1.']"
      ]
     },
     "execution_count": 22,
     "metadata": {},
     "output_type": "execute_result"
    }
   ],
   "source": [
    "[o['generated_text'] for o in outputs]"
   ]
  },
  {
   "cell_type": "code",
   "execution_count": null,
   "metadata": {},
   "outputs": [],
   "source": [
    "\n",
    "(1) the patient's age, \n",
    "(2) the patient's history, \n",
    "(3) the patient's symptoms, \n",
    "(4) the patient's physical examination, \n",
    "(5) the patient's laboratory data, \n",
    "(6) the patient's x-ray findings, \n",
    "(7) the patient's x-ray findings, \n",
    "(8) the patient's x-ray findings, \n",
    "(9) the patient's x-ray findings, \n",
    "(10) the patient's x-ray findings, \n",
    "(11) the patient's x-ray findings, \n",
    "(12) the patient's x-ray findings, \n",
    "(13) the patient's x-ray findings, \n",
    "(14) the patient's x-ray findings, \n",
    "(15) the patient's x-ray findings, \n",
    "(16) the patient's x-ray findings, \n",
    "(17) the patient's x-ray findings, \n",
    "(18) the patient's x-ray findings, \n",
    "(19) the patient's x-ray findings, \n",
    "(20) the patient's x-ray findings, \n",
    "(21) the patient's x-ray findings, \n",
    "(22) the patient's x-ray findings, \n",
    "(23) the patient's x-ray findings, \n",
    "(24) the patient's x-ray findings, \n",
    "(25) the patient's x-ray findings,"
   ]
  }
 ],
 "metadata": {
  "kernelspec": {
   "display_name": "pytorch",
   "language": "python",
   "name": "python3"
  },
  "language_info": {
   "codemirror_mode": {
    "name": "ipython",
    "version": 3
   },
   "file_extension": ".py",
   "mimetype": "text/x-python",
   "name": "python",
   "nbconvert_exporter": "python",
   "pygments_lexer": "ipython3",
   "version": "3.9.18"
  },
  "orig_nbformat": 4
 },
 "nbformat": 4,
 "nbformat_minor": 2
}
