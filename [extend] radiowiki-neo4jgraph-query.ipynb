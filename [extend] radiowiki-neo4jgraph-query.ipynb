{
 "cells": [
  {
   "cell_type": "code",
   "execution_count": 1,
   "metadata": {},
   "outputs": [],
   "source": [
    "import re\n",
    "import os\n",
    "from langchain.vectorstores.neo4j_vector import Neo4jVector\n",
    "from langchain.document_loaders import WikipediaLoader\n",
    "from langchain.embeddings.openai import OpenAIEmbeddings\n",
    "from langchain.text_splitter import (\n",
    "    CharacterTextSplitter,\n",
    "    RecursiveCharacterTextSplitter,\n",
    ")\n",
    "from langchain.graphs import Neo4jGraph\n",
    "from transformers import AutoModelForSeq2SeqLM, AutoTokenizer\n",
    "from langchain.text_splitter import TokenTextSplitter\n",
    "\n",
    "from secret import *\n",
    "import chromadb\n",
    "\n",
    "os.environ[\"OPENAI_API_KEY\"] = OPENAI_API_KEY"
   ]
  },
  {
   "cell_type": "code",
   "execution_count": 2,
   "metadata": {},
   "outputs": [
    {
     "name": "stdout",
     "output_type": "stream",
     "text": [
      "\n",
      "        Node properties are the following:\n",
      "        []\n",
      "        Relationship properties are the following:\n",
      "        []\n",
      "        The relationships are the following:\n",
      "        []\n",
      "        \n"
     ]
    }
   ],
   "source": [
    "graph = Neo4jGraph(url=\"bolt://localhost:7687\", username=\"neo4j\", password=\"test1234\")\n",
    "graph.query(\n",
    "    \"\"\"\n",
    "MATCH (n)\n",
    "DETACH DELETE n\n",
    "\"\"\"\n",
    ")\n",
    "graph.refresh_schema()\n",
    "print(graph.schema)"
   ]
  },
  {
   "cell_type": "code",
   "execution_count": 3,
   "metadata": {},
   "outputs": [],
   "source": [
    "from loader.radiopaedia import RadiopaediaLoader\n",
    "radio_raw_documents = RadiopaediaLoader(query=\"Atelectasis\", diffbot_api_token=DIFFBOT_API_TOKEN).load()\n",
    "wiki_raw_documents = WikipediaLoader(query=\"Atelectasis\").load()\n",
    "raw_documents = radio_raw_documents + wiki_raw_documents"
   ]
  },
  {
   "cell_type": "code",
   "execution_count": 4,
   "metadata": {},
   "outputs": [
    {
     "data": {
      "text/plain": [
       "(20, 10)"
      ]
     },
     "execution_count": 4,
     "metadata": {},
     "output_type": "execute_result"
    }
   ],
   "source": [
    "len(radio_raw_documents), len(wiki_raw_documents)"
   ]
  },
  {
   "cell_type": "code",
   "execution_count": 5,
   "metadata": {},
   "outputs": [],
   "source": [
    "text_splitter = TokenTextSplitter(chunk_size=2048, chunk_overlap=24)\n",
    "documents = text_splitter.split_documents(\n",
    "    raw_documents\n",
    ")  # should I only take the first? which is the most relevant?"
   ]
  },
  {
   "cell_type": "code",
   "execution_count": 6,
   "metadata": {},
   "outputs": [
    {
     "data": {
      "text/plain": [
       "30"
      ]
     },
     "execution_count": 6,
     "metadata": {},
     "output_type": "execute_result"
    }
   ],
   "source": [
    "len(raw_documents)"
   ]
  },
  {
   "cell_type": "code",
   "execution_count": 7,
   "metadata": {},
   "outputs": [
    {
     "name": "stderr",
     "output_type": "stream",
     "text": [
      "100%|██████████| 30/30 [27:11<00:00, 54.39s/it]\n"
     ]
    },
    {
     "name": "stdout",
     "output_type": "stream",
     "text": [
      "\n",
      "        Node properties are the following:\n",
      "        [{'labels': 'Condition', 'properties': [{'property': 'name', 'type': 'STRING'}, {'property': 'description', 'type': 'STRING'}, {'property': 'alsoknownas', 'type': 'STRING'}, {'property': 'id', 'type': 'STRING'}, {'property': 'alsoKnownAs', 'type': 'STRING'}, {'property': 'dueTo', 'type': 'STRING'}, {'property': 'causedBy', 'type': 'STRING'}, {'property': 'affects', 'type': 'STRING'}, {'property': 'definition', 'type': 'STRING'}, {'property': 'unilateral', 'type': 'STRING'}]}, {'labels': 'Section', 'properties': [{'property': 'name', 'type': 'STRING'}, {'property': 'id', 'type': 'STRING'}, {'property': 'title', 'type': 'STRING'}, {'property': 'content', 'type': 'STRING'}, {'property': 'description', 'type': 'STRING'}]}, {'labels': 'Symptom', 'properties': [{'property': 'name', 'type': 'STRING'}, {'property': 'id', 'type': 'STRING'}]}, {'labels': 'Cause', 'properties': [{'property': 'name', 'type': 'STRING'}, {'property': 'id', 'type': 'STRING'}]}, {'labels': 'Risk factor', 'properties': [{'property': 'id', 'type': 'STRING'}]}, {'labels': 'Type', 'properties': [{'property': 'characteristics', 'type': 'STRING'}, {'property': 'name', 'type': 'STRING'}, {'property': 'id', 'type': 'STRING'}]}, {'labels': 'Diagnosis', 'properties': [{'property': 'name', 'type': 'STRING'}, {'property': 'id', 'type': 'STRING'}]}, {'labels': 'Anatomy', 'properties': [{'property': 'id', 'type': 'STRING'}, {'property': 'name', 'type': 'STRING'}, {'property': 'definition', 'type': 'STRING'}, {'property': 'plural', 'type': 'STRING'}]}, {'labels': 'Factor', 'properties': [{'property': 'description', 'type': 'STRING'}, {'property': 'name', 'type': 'STRING'}, {'property': 'id', 'type': 'STRING'}]}, {'labels': 'Concept', 'properties': [{'property': 'id', 'type': 'STRING'}, {'property': 'name', 'type': 'STRING'}, {'property': 'description', 'type': 'STRING'}, {'property': 'definition', 'type': 'STRING'}, {'property': 'subtype_of', 'type': 'STRING'}]}, {'labels': 'Procedure', 'properties': [{'property': 'name', 'type': 'STRING'}, {'property': 'id', 'type': 'STRING'}]}, {'labels': 'Organization', 'properties': [{'property': 'name', 'type': 'STRING'}, {'property': 'id', 'type': 'STRING'}, {'property': 'description', 'type': 'STRING'}]}, {'labels': 'Drug', 'properties': [{'property': 'brandname', 'type': 'STRING'}, {'property': 'medicaluses', 'type': 'STRING'}, {'property': 'id', 'type': 'STRING'}, {'property': 'name', 'type': 'STRING'}]}, {'labels': 'Enzyme', 'properties': [{'property': 'id', 'type': 'STRING'}, {'property': 'name', 'type': 'STRING'}]}, {'labels': 'Cell line', 'properties': [{'property': 'name', 'type': 'STRING'}, {'property': 'id', 'type': 'STRING'}]}, {'labels': 'Medical condition', 'properties': [{'property': 'description', 'type': 'STRING'}, {'property': 'name', 'type': 'STRING'}, {'property': 'id', 'type': 'STRING'}, {'property': 'references', 'type': 'STRING'}]}, {'labels': 'Substance', 'properties': [{'property': 'name', 'type': 'STRING'}, {'property': 'id', 'type': 'STRING'}]}, {'labels': 'Organ', 'properties': [{'property': 'id', 'type': 'STRING'}, {'property': 'name', 'type': 'STRING'}, {'property': 'location', 'type': 'STRING'}]}, {'labels': 'Person', 'properties': [{'property': 'name', 'type': 'STRING'}, {'property': 'id', 'type': 'STRING'}, {'property': 'nationality', 'type': 'STRING'}, {'property': 'birthdate', 'type': 'STRING'}, {'property': 'occupation', 'type': 'STRING'}, {'property': 'deathdate', 'type': 'STRING'}]}, {'labels': 'Location', 'properties': [{'property': 'id', 'type': 'STRING'}, {'property': 'name', 'type': 'STRING'}]}, {'labels': 'Disease', 'properties': [{'property': 'id', 'type': 'STRING'}, {'property': 'name', 'type': 'STRING'}]}, {'labels': 'Treatment', 'properties': [{'property': 'name', 'type': 'STRING'}, {'property': 'id', 'type': 'STRING'}]}, {'labels': 'Muscle', 'properties': [{'property': 'name', 'type': 'STRING'}, {'property': 'id', 'type': 'STRING'}, {'property': 'location', 'type': 'STRING'}]}, {'labels': 'Internal structure', 'properties': [{'property': 'id', 'type': 'STRING'}, {'property': 'name', 'type': 'STRING'}, {'property': 'location', 'type': 'STRING'}]}, {'labels': 'Bone', 'properties': [{'property': 'name', 'type': 'STRING'}, {'property': 'id', 'type': 'STRING'}, {'property': 'location', 'type': 'STRING'}]}, {'labels': 'External structure', 'properties': [{'property': 'location', 'type': 'STRING'}, {'property': 'id', 'type': 'STRING'}, {'property': 'name', 'type': 'STRING'}]}, {'labels': 'Part', 'properties': [{'property': 'description', 'type': 'STRING'}, {'property': 'id', 'type': 'STRING'}, {'property': 'name', 'type': 'STRING'}]}, {'labels': 'Term', 'properties': [{'property': 'name', 'type': 'STRING'}, {'property': 'definition', 'type': 'STRING'}, {'property': 'id', 'type': 'STRING'}, {'property': 'description', 'type': 'STRING'}]}, {'labels': 'Effect', 'properties': [{'property': 'id', 'type': 'STRING'}, {'property': 'name', 'type': 'STRING'}]}, {'labels': 'Process', 'properties': [{'property': 'id', 'type': 'STRING'}, {'property': 'name', 'type': 'STRING'}]}, {'labels': 'Property', 'properties': [{'property': 'id', 'type': 'STRING'}, {'property': 'name', 'type': 'STRING'}]}, {'labels': 'Subsection', 'properties': [{'property': 'id', 'type': 'STRING'}]}, {'labels': 'Diagnostic tool', 'properties': [{'property': 'id', 'type': 'STRING'}]}, {'labels': 'Diagnostic finding', 'properties': [{'property': 'id', 'type': 'STRING'}]}, {'labels': 'Medicalterm', 'properties': [{'property': 'id', 'type': 'STRING'}, {'property': 'name', 'type': 'STRING'}, {'property': 'plural', 'type': 'STRING'}, {'property': 'alsoknownas', 'type': 'STRING'}]}, {'labels': 'Imagingtechnique', 'properties': [{'property': 'id', 'type': 'STRING'}, {'property': 'name', 'type': 'STRING'}]}, {'labels': 'Atelectasistype', 'properties': [{'property': 'name', 'type': 'STRING'}, {'property': 'id', 'type': 'STRING'}]}, {'labels': 'Anatomicalstructure', 'properties': [{'property': 'id', 'type': 'STRING'}, {'property': 'name', 'type': 'STRING'}]}, {'labels': 'Language', 'properties': [{'property': 'id', 'type': 'STRING'}, {'property': 'name', 'type': 'STRING'}]}, {'labels': 'Medical term', 'properties': [{'property': 'name', 'type': 'STRING'}, {'property': 'id', 'type': 'STRING'}, {'property': 'plural', 'type': 'STRING'}, {'property': 'description', 'type': 'STRING'}, {'property': 'synonyms', 'type': 'STRING'}]}, {'labels': 'Pathology', 'properties': [{'property': 'name', 'type': 'STRING'}, {'property': 'aetiology', 'type': 'STRING'}, {'property': 'id', 'type': 'STRING'}, {'property': 'description', 'type': 'STRING'}]}, {'labels': 'Radiographic feature', 'properties': [{'property': 'name', 'type': 'STRING'}, {'property': 'id', 'type': 'STRING'}, {'property': 'description', 'type': 'STRING'}]}, {'labels': 'Differential diagnosis', 'properties': [{'property': 'name', 'type': 'STRING'}, {'property': 'id', 'type': 'STRING'}, {'property': 'possibleMimickingPattern', 'type': 'STRING'}]}, {'labels': 'Association', 'properties': [{'property': 'name', 'type': 'STRING'}, {'property': 'id', 'type': 'STRING'}, {'property': 'associatedcondition', 'type': 'STRING'}]}, {'labels': 'Aetiology', 'properties': [{'property': 'name', 'type': 'STRING'}, {'property': 'associatedconditions', 'type': 'STRING'}, {'property': 'id', 'type': 'STRING'}]}, {'labels': 'Radiographicfeature', 'properties': [{'property': 'id', 'type': 'STRING'}, {'property': 'name', 'type': 'STRING'}, {'property': 'description', 'type': 'STRING'}]}, {'labels': 'Nuclearmedicine', 'properties': [{'property': 'description', 'type': 'STRING'}, {'property': 'id', 'type': 'STRING'}, {'property': 'name', 'type': 'STRING'}]}, {'labels': 'Historyandetymology', 'properties': [{'property': 'description', 'type': 'STRING'}, {'property': 'id', 'type': 'STRING'}, {'property': 'name', 'type': 'STRING'}]}, {'labels': 'Anatomical structure', 'properties': [{'property': 'name', 'type': 'STRING'}, {'property': 'id', 'type': 'STRING'}]}, {'labels': 'Category', 'properties': [{'property': 'id', 'type': 'STRING'}, {'property': 'name', 'type': 'STRING'}]}, {'labels': 'Medicalcondition', 'properties': [{'property': 'name', 'type': 'STRING'}, {'property': 'definition', 'type': 'STRING'}, {'property': 'id', 'type': 'STRING'}]}, {'labels': 'Clinicoradiological stage', 'properties': [{'property': 'description', 'type': 'STRING'}, {'property': 'id', 'type': 'STRING'}, {'property': 'name', 'type': 'STRING'}]}, {'labels': 'Medical procedure', 'properties': [{'property': 'description', 'type': 'STRING'}, {'property': 'name', 'type': 'STRING'}, {'property': 'id', 'type': 'STRING'}]}, {'labels': 'Imaging technique', 'properties': [{'property': 'name', 'type': 'STRING'}, {'property': 'id', 'type': 'STRING'}]}, {'labels': 'Population', 'properties': [{'property': 'name', 'type': 'STRING'}, {'property': 'id', 'type': 'STRING'}]}, {'labels': 'Attribute', 'properties': [{'property': 'name', 'type': 'STRING'}, {'property': 'id', 'type': 'STRING'}]}, {'labels': 'Radiographic technique', 'properties': [{'property': 'name', 'type': 'STRING'}, {'property': 'id', 'type': 'STRING'}]}, {'labels': 'Lobe', 'properties': [{'property': 'name', 'type': 'STRING'}, {'property': 'id', 'type': 'STRING'}]}, {'labels': 'Feature', 'properties': [{'property': 'name', 'type': 'STRING'}, {'property': 'id', 'type': 'STRING'}]}, {'labels': 'Radiographic finding', 'properties': [{'property': 'id', 'type': 'STRING'}, {'property': 'name', 'type': 'STRING'}]}, {'labels': 'Radiation', 'properties': [{'property': 'id', 'type': 'STRING'}, {'property': 'name', 'type': 'STRING'}]}, {'labels': 'Topic', 'properties': [{'property': 'id', 'type': 'STRING'}, {'property': 'name', 'type': 'STRING'}]}, {'labels': 'Cell', 'properties': [{'property': 'name', 'type': 'STRING'}, {'property': 'id', 'type': 'STRING'}]}, {'labels': 'Group', 'properties': [{'property': 'id', 'type': 'STRING'}, {'property': 'name', 'type': 'STRING'}]}, {'labels': 'Complication', 'properties': [{'property': 'id', 'type': 'STRING'}, {'property': 'name', 'type': 'STRING'}]}, {'labels': 'Body part', 'properties': [{'property': 'id', 'type': 'STRING'}, {'property': 'name', 'type': 'STRING'}]}, {'labels': 'Characteristic', 'properties': [{'property': 'name', 'type': 'STRING'}, {'property': 'id', 'type': 'STRING'}]}, {'labels': 'Evidence', 'properties': [{'property': 'name', 'type': 'STRING'}, {'property': 'id', 'type': 'STRING'}]}, {'labels': 'Finding', 'properties': [{'property': 'name', 'type': 'STRING'}, {'property': 'id', 'type': 'STRING'}]}]\n",
      "        Relationship properties are the following:\n",
      "        [{'properties': [{'property': 'population', 'type': 'STRING'}, {'property': 'location', 'type': 'STRING'}], 'type': 'SEEN_IN'}, {'properties': [{'property': 'oxygenContent', 'type': 'STRING'}], 'type': 'CONTAINS'}, {'properties': [{'property': 'attribute', 'type': 'STRING'}], 'type': 'LIKELIHOOD_OF'}, {'properties': [{'property': 'decreases', 'type': 'STRING'}], 'type': 'AS'}, {'properties': [{'property': 'cause', 'type': 'STRING'}], 'type': 'INCREASE_IN'}]\n",
      "        The relationships are the following:\n",
      "        ['(:Condition)-[:ASSOCIATEDWITH]->(:Association)', '(:Condition)-[:ALSO_KNOWN_AS]->(:Condition)', '(:Condition)-[:SUBTYPE_OF]->(:Condition)', '(:Condition)-[:REFERS_TO]->(:Condition)', '(:Condition)-[:DUE_TO]->(:Cause)', '(:Condition)-[:DUE_TO]->(:Process)', '(:Condition)-[:DUE_TO]->(:Condition)', '(:Condition)-[:LOSS_OF]->(:Concept)', '(:Condition)-[:RELAX_BACK_TO]->(:Concept)', '(:Condition)-[:NO_SIGNIFICANT_INCREASE_IN]->(:Concept)', '(:Condition)-[:AS]->(:Concept)', '(:Condition)-[:NO_LONGER_HELD_AGAINST]->(:Concept)', '(:Condition)-[:RESULT]->(:Condition)', '(:Condition)-[:DESCRIBED_AS]->(:Condition)', '(:Condition)-[:GREATER_THAN]->(:Condition)', '(:Condition)-[:IS_CLOSELY_RELATED_TO]->(:Condition)', '(:Condition)-[:IS_A_FORM_OF]->(:Condition)', '(:Condition)-[:OCCURS_AS_A_RESULT_OF]->(:Cause)', '(:Condition)-[:REDUCES]->(:Effect)', '(:Condition)-[:IS_CLASSIC_IN]->(:Disease)', '(:Condition)-[:IS_COLLAPSED_FROM]->(:Body part)', '(:Condition)-[:SUBTYPE]->(:Condition)', '(:Condition)-[:MOST_COMMONLY_SEEN_IN]->(:Group)', '(:Condition)-[:CAUSE]->(:Substance)', '(:Condition)-[:TYPICALLY_SEEN_IN]->(:Anatomical structure)', '(:Condition)-[:ASSOCIATED_WITH]->(:Anatomical structure)', '(:Condition)-[:HAS_SYMPTOM]->(:Symptom)', '(:Condition)-[:MORE_COMMON_IN]->(:Population)', '(:Condition)-[:HAS_PATHOLOGY]->(:Pathology)', '(:Condition)-[:PROTECTIVE_MEASURE_AGAINST]->(:Anatomical structure)', '(:Condition)-[:LIKELIHOOD_OF]->(:Condition)', '(:Condition)-[:NOT_THOUGHT_TO_BE]->(:Attribute)', '(:Condition)-[:PRE-CLINICAL_FORM_OF]->(:Condition)', '(:Condition)-[:DO_NOT_APPEAR_TO]->(:Attribute)', '(:Condition)-[:MAY_BE_CAUSED_BY]->(:Cause)', '(:Condition)-[:MAY_BE_PART_OF]->(:Condition)', '(:Condition)-[:RESULTS_IN]->(:Symptom)', '(:Condition)-[:REPRESENTS]->(:Condition)', '(:Condition)-[:EXCLUDES]->(:Condition)', '(:Condition)-[:HAS]->(:Section)', '(:Condition)-[:DESCRIBES]->(:Term)', '(:Condition)-[:COMPRISES]->(:Part)', '(:Condition)-[:SPECIFIC_CONDITION]->(:Condition)', '(:Section)-[:MENTIONS]->(:Symptom)', '(:Section)-[:MENTIONS]->(:Characteristic)', '(:Section)-[:MENTIONS]->(:Cause)', '(:Section)-[:MENTIONS]->(:Evidence)', '(:Section)-[:MENTIONS]->(:Imaging technique)', '(:Section)-[:MENTIONS]->(:Finding)', '(:Section)-[:MENTIONS]->(:Treatment)', '(:Section)-[:MENTIONS]->(:Complication)', '(:Section)-[:MENTIONS]->(:Condition)', '(:Section)-[:MENTIONS]->(:Procedure)', '(:Section)-[:DEPENDS_ON]->(:Concept)', '(:Section)-[:IS_ABOUT]->(:Condition)', '(:Section)-[:MAY_PRESENT_AS]->(:Symptom)', '(:Section)-[:CAN_PRESENT_WITH_FEATURES_OF]->(:Condition)', '(:Section)-[:MAY_REVEAL]->(:Symptom)', '(:Section)-[:RESULTS_IN]->(:Effect)', '(:Section)-[:HAS]->(:Section)', '(:Section)-[:HAS]->(:Subsection)', '(:Section)-[:CONTAINS]->(:Condition)', '(:Section)-[:CONTAINS]->(:Cause)', '(:Section)-[:INCLUDES]->(:Cause)', '(:Section)-[:INCLUDES]->(:Symptom)', '(:Section)-[:INCLUDES]->(:Risk factor)', '(:Section)-[:INCLUDES]->(:Diagnostic tool)', '(:Section)-[:INCLUDES]->(:Diagnostic finding)', '(:Section)-[:CAN_BE_GROUPED_INTO]->(:Concept)', '(:Section)-[:IS_A_MORE_ADVANCED_FORM_OF]->(:Condition)', '(:Section)-[:DESCRIBES]->(:Condition)', '(:Cause)-[:ASSOCIATED_WITH]->(:Procedure)', '(:Type)-[:CHARACTERIZED_BY]->(:Condition)', '(:Diagnosis)-[:SHOULD_BE_DISTINGUISHED_FROM]->(:Radiographic finding)', '(:Diagnosis)-[:SHOULD_BE_DISTINGUISHED_FROM]->(:Medical condition)', '(:Anatomy)-[:CONTAINS]->(:External structure)', '(:Anatomy)-[:CONTAINS]->(:Bone)', '(:Anatomy)-[:CONTAINS]->(:Organ)', '(:Anatomy)-[:CONTAINS]->(:Internal structure)', '(:Anatomy)-[:CONTAINS]->(:Muscle)', '(:Anatomy)-[:PART_OF]->(:Anatomy)', '(:Anatomy)-[:SUPPORTS]->(:Bone)', '(:Factor)-[:CONTRIBUTES_TO]->(:Condition)', '(:Concept)-[:SUBCATEGORISEDAS]->(:Atelectasistype)', '(:Concept)-[:HASFEATURE]->(:Medicalterm)', '(:Concept)-[:HASSIGN]->(:Medicalterm)', '(:Concept)-[:HASSIGN]->(:Anatomicalstructure)', '(:Concept)-[:IN]->(:Concept)', '(:Concept)-[:INCLUDES]->(:Cause)', '(:Concept)-[:INCLUDES]->(:Concept)', '(:Concept)-[:SEEN_IN]->(:Concept)', '(:Concept)-[:EXIST_IN]->(:Concept)', '(:Concept)-[:HAS]->(:Concept)', '(:Concept)-[:REFERS_TO]->(:Concept)', '(:Concept)-[:OCCURS_DUE_TO]->(:Concept)', '(:Concept)-[:EXIST_BETWEEN]->(:Concept)', '(:Concept)-[:INCREASE_IN]->(:Concept)', '(:Concept)-[:CAUSES]->(:Concept)', '(:Concept)-[:IS_A_CHARACTERISTIC_OF]->(:Concept)', '(:Concept)-[:SEEN_ON]->(:Concept)', '(:Concept)-[:RADIATE_INTO]->(:Concept)', '(:Concept)-[:OCCUR_IN]->(:Concept)', '(:Concept)-[:SUBTYPE_OF]->(:Concept)', '(:Concept)-[:AETIOLOGY]->(:Concept)', '(:Concept)-[:CAUSE]->(:Concept)', '(:Concept)-[:PART_OF]->(:Concept)', '(:Concept)-[:INFLUENCES]->(:Concept)', '(:Concept)-[:ASSOCIATED_WITH]->(:Condition)', '(:Concept)-[:ASSOCIATED_WITH]->(:Concept)', '(:Concept)-[:INDICATION]->(:Concept)', '(:Concept)-[:DELIVERY_METHOD]->(:Concept)', '(:Concept)-[:SIDE_EFFECT]->(:Concept)', '(:Concept)-[:PROVIDES]->(:Concept)', '(:Concept)-[:INCLUDED_IN]->(:Organization)', '(:Concept)-[:CAUSED_BY]->(:Concept)', '(:Concept)-[:CAN_INCREASE_RISK_OF]->(:Concept)', '(:Concept)-[:CAN_CAUSE]->(:Concept)', '(:Concept)-[:PREFERRED_LEVEL_IN_CASES_OF]->(:Concept)', '(:Concept)-[:PREFERRED_LEVEL_IN_PEOPLE_AT_RISK_OF]->(:Concept)', '(:Concept)-[:CONTAINS]->(:Concept)', '(:Concept)-[:DISORDER_OF]->(:Concept)', '(:Concept)-[:DUE_TO]->(:Concept)', '(:Concept)-[:MANIFESTATION_OF]->(:Concept)', '(:Concept)-[:DEVELOP_AFTER]->(:Concept)', '(:Concept)-[:BECOME]->(:Concept)', '(:Concept)-[:CONSIST_OF]->(:Concept)', '(:Concept)-[:COVERED_BY]->(:Concept)', '(:Concept)-[:DISTRIBUTED_ON]->(:Concept)', '(:Concept)-[:RISK_FACTOR_FOR]->(:Concept)', '(:Concept)-[:EXPOSURE_TO]->(:Concept)', '(:Concept)-[:ENTER_THE]->(:Concept)', '(:Concept)-[:CLEARED_BY]->(:Concept)', '(:Concept)-[:REACH_THE]->(:Concept)', '(:Concept)-[:RETAINED_IN]->(:Concept)', '(:Concept)-[:CAUSE_THE]->(:Concept)', '(:Concept)-[:RECOGNISED_BY]->(:Concept)', '(:Concept)-[:ACCUMULATE_IN]->(:Concept)', '(:Concept)-[:ACTIVATE_THE]->(:Concept)', '(:Concept)-[:LEAD_TO]->(:Concept)', '(:Concept)-[:ENCOMPASS]->(:Concept)', '(:Concept)-[:REMAIN_UNCERTAIN]->(:Concept)', '(:Organization)-[:INCLUDES]->(:Concept)', '(:Drug)-[:HYDROLYZES]->(:Substance)', '(:Drug)-[:USEDFOR]->(:Condition)', '(:Drug)-[:REDUCESVISCOSITYIN]->(:Organ)', '(:Drug)-[:PROMOTESCLEARANCEOF]->(:Substance)', '(:Drug)-[:PRODUCEDIN]->(:Cell line)', '(:Drug)-[:SHOWNTOIMPROVE]->(:Condition)', '(:Drug)-[:CONTAINS]->(:Enzyme)', '(:Medical condition)-[:TREATED_WITH]->(:Medical procedure)', '(:Medical condition)-[:CLASSIFIED_INTO]->(:Clinicoradiological stage)', '(:Medical condition)-[:INCLUDES]->(:Medical condition)', '(:Medical condition)-[:SYNONYM]->(:Medical condition)', '(:Medical condition)-[:HAS_DISTINCTIVE_FEATURES]->(:Radiographic technique)', '(:Medical condition)-[:MOST_LIKELY_TO_BE_CHRONICALLY_COLLAPSED]->(:Lobe)', '(:Medical condition)-[:REFERRED_TO_AS]->(:Medical condition)', '(:Medical condition)-[:IN]->(:Anatomical structure)', '(:Medical condition)-[:SIGNS_OF_BOTH]->(:Medical condition)', '(:Substance)-[:PRODUCED_BY]->(:Cell)', '(:Location)-[:LOCATEDIN]->(:Condition)', '(:Term)-[:DESCRIBES]->(:Condition)', '(:Term)-[:REFERS_TO]->(:Organ)', '(:Term)-[:INDICATES]->(:Condition)', '(:Term)-[:CAN_BE_CAUSED_BY]->(:Condition)', '(:Medicalterm)-[:ORIGINATESFROM]->(:Medicalterm)', '(:Medicalterm)-[:ORIGINATESFROM]->(:Language)', '(:Medicalterm)-[:HAS]->(:Topic)', '(:Medicalterm)-[:DESCRIBES]->(:Medicalterm)', '(:Medicalterm)-[:ALSOKNOWNAS]->(:Medicalterm)', '(:Medicalterm)-[:HASCAUSE]->(:Medicalterm)', '(:Medicalterm)-[:HASCAUSE]->(:Organ)', '(:Medicalterm)-[:HASSHAPE]->(:Medicalterm)', '(:Medicalterm)-[:HASTYPES]->(:Medicalterm)', '(:Medicalterm)-[:NAMEDAFTER]->(:Person)', '(:Medicalterm)-[:REFERSTO]->(:Medicalterm)', '(:Medicalterm)-[:REFERSTO]->(:Organ)', '(:Medicalterm)-[:HASFEATURE]->(:Concept)', '(:Medicalterm)-[:CAN_RANGE_FROM]->(:Medicalterm)', '(:Medicalterm)-[:BETTER_APPRECIATED_ON]->(:Medicalterm)', '(:Medicalterm)-[:SUBTYPE_OF]->(:Medicalterm)', '(:Medicalterm)-[:REFERS_TO]->(:Anatomicalstructure)', '(:Medicalterm)-[:IS_A]->(:Medicalterm)', '(:Medicalterm)-[:DOES_NOT_ABUT]->(:Anatomicalstructure)', '(:Atelectasistype)-[:HASSIGN]->(:Medicalterm)', '(:Atelectasistype)-[:HASSIGN]->(:Anatomicalstructure)', '(:Atelectasistype)-[:HASCAUSE]->(:Medicalterm)', '(:Atelectasistype)-[:HASCAUSE]->(:Anatomicalstructure)', '(:Atelectasistype)-[:HASCAUSE]->(:Organ)', '(:Medical term)-[:SUBTYPE]->(:Medical term)', '(:Medical term)-[:SUPERTYPE]->(:Medical term)', '(:Pathology)-[:SUBTYPE]->(:Pathology)', '(:Pathology)-[:SUPERTYPE]->(:Pathology)', '(:Pathology)-[:CAUSES]->(:Condition)', '(:Radiographic feature)-[:SUBTYPE]->(:Radiographic feature)', '(:Radiographic feature)-[:SUPERTYPE]->(:Radiographic feature)', '(:Differential diagnosis)-[:POSSIBLE_MIMICKING]->(:Differential diagnosis)', '(:Association)-[:ASSOCIATEDCONDITION]->(:Condition)', '(:Aetiology)-[:ASSOCIATEDCONDITION]->(:Condition)', '(:Radiographicfeature)-[:HASFEATURE]->(:Condition)', '(:Nuclearmedicine)-[:HASFEATURE]->(:Condition)', '(:Historyandetymology)-[:DESCRIBEDBY]->(:Condition)', '(:Category)-[:BELONGS_TO]->(:Condition)', '(:Category)-[:DUE_TO]->(:Condition)', '(:Medicalcondition)-[:HASTERM]->(:Term)', '(:Medicalcondition)-[:HASSECTION]->(:Section)', '(:Radiographic technique)-[:REQUIRES_A_DEGREE_OF]->(:Medical condition)', '(:Radiographic technique)-[:REQUIRES_A_DEGREE_OF]->(:Radiographic finding)', '(:Radiographic technique)-[:FINDINGS_ARE_SUBTLE]->(:Radiographic finding)', '(:Radiographic technique)-[:NO_LONGER_VISIBLE]->(:Anatomical structure)', '(:Radiographic technique)-[:RENDERS_IT_NON-TANGENTAL]->(:Radiation)', '(:Radiographic technique)-[:MAY_HELP_IDENTIFY]->(:Radiographic technique)', '(:Radiographic technique)-[:OBSCURATION_OF]->(:Anatomical structure)', '(:Radiographic technique)-[:INCREASED_OPACITY_ADJACENT_TO]->(:Radiographic finding)', '(:Radiographic technique)-[:MAY_ALSO_BE_PRESENT]->(:Medical condition)', '(:Radiographic technique)-[:MAY_BE_PRESENT]->(:Radiographic finding)', '(:Radiographic technique)-[:APEX_AT]->(:Anatomical structure)', '(:Radiographic technique)-[:USUALLY_RELATIVELY_EASY_TO_IDENTIFY]->(:Medical condition)', '(:Radiographic technique)-[:APPEARING_AS]->(:Radiographic finding)', '(:Radiographic technique)-[:OVERLYING]->(:Anatomical structure)', '(:Radiographic technique)-[:ROTATES]->(:Anatomical structure)', '(:Radiographic technique)-[:ROTATES]->(:Lobe)', '(:Radiographic technique)-[:BOWS]->(:Anatomical structure)', '(:Radiographic technique)-[:IN]->(:Radiographic finding)', '(:Feature)-[:INCLUDES]->(:Radiographic technique)', '(:Radiographic finding)-[:SUGGESTS]->(:Radiographic finding)', '(:Radiographic finding)-[:SUGGESTS]->(:Medical condition)', '(:Topic)-[:HAS]->(:Imagingtechnique)', '(:Group)-[:ASSOCIATED_WITH]->(:Condition)']\n",
      "        \n"
     ]
    }
   ],
   "source": [
    "from tqdm import tqdm\n",
    "from aug.graph_doc import (\n",
    "    get_extraction_chain,\n",
    "    data_to_graph_doc,\n",
    "    chain_run,\n",
    "    add_graph_documents,\n",
    ")\n",
    "from langchain.chat_models import ChatOpenAI\n",
    "\n",
    "llm = ChatOpenAI(model=\"gpt-3.5-turbo-16k\", temperature=0)\n",
    "\n",
    "allowed_nodes = None\n",
    "allowed_rels = None\n",
    "# allowed_nodes = [\"Symptom\", \"Disease\"]\n",
    "# allowed_rels = [\"CAN_CAUSE\", \"DESCRIBE\", \"HAS\"]\n",
    "\n",
    "extract_chain = get_extraction_chain(llm, allowed_nodes, allowed_rels)\n",
    "gds = []\n",
    "\n",
    "for d in tqdm(documents, total=len(documents)):\n",
    "    data = chain_run(extract_chain, d.page_content)\n",
    "    # data = extract_chain.run(d.page_content)\n",
    "    # graph_document = GraphDocument(\n",
    "    #     nodes=[map_to_base_node(node) for node in data.nodes],\n",
    "    #     relationships=[map_to_base_relationship(rel) for rel in data.rels],\n",
    "    #     source=d,\n",
    "    # )\n",
    "    graph_document = data_to_graph_doc(data, d)\n",
    "    # add_graph_document(graph, graph_document)\n",
    "    gds.append(graph_document)\n",
    "\n",
    "graph = add_graph_documents(graph, gds)\n",
    "graph.refresh_schema()\n",
    "print(graph.schema)\n",
    "\n",
    "# 12m46.2s"
   ]
  },
  {
   "cell_type": "code",
   "execution_count": 8,
   "metadata": {},
   "outputs": [],
   "source": [
    "from langchain.chains import GraphCypherQAChain\n",
    "chain = GraphCypherQAChain.from_llm(\n",
    "    graph=graph,\n",
    "    cypher_llm=ChatOpenAI(temperature=0, model=\"gpt-3.5-turbo-16k\"),\n",
    "    qa_llm=ChatOpenAI(temperature=0, model=\"gpt-3.5-turbo-16k\"),\n",
    "    validate_cypher=True,  # Validate relationship directions\n",
    "    verbose=True,\n",
    ")"
   ]
  },
  {
   "cell_type": "code",
   "execution_count": 9,
   "metadata": {},
   "outputs": [
    {
     "name": "stdout",
     "output_type": "stream",
     "text": [
      "\n",
      "\n",
      "\u001b[1m> Entering new GraphCypherQAChain chain...\u001b[0m\n",
      "Generated Cypher:\n",
      "\u001b[32;1m\u001b[1;3mMATCH (c:Condition {name: 'Atelectasis'})\n",
      "RETURN c\u001b[0m\n",
      "Full Context:\n",
      "\u001b[32;1m\u001b[1;3m[{'c': {'name': 'Atelectasis', 'causedBy': 'normal exhalation or various medical conditions', 'affects': 'part or all of one lung', 'description': 'A condition where the alveoli are deflated down to little or no volume, as distinct from pulmonary consolidation, in which they are filled with liquid', 'definition': 'The collapse or closure of a lung resulting in reduced or absent gas exchange', 'unilateral': 'true', 'id': 'Atelectasis', 'alsoKnownAs': 'collapsed lung'}}]\u001b[0m\n",
      "\n",
      "\u001b[1m> Finished chain.\u001b[0m\n"
     ]
    },
    {
     "data": {
      "text/plain": [
       "'Atelectasis is a condition where part or all of one lung collapses or closes, resulting in reduced or absent gas exchange. It can be caused by normal exhalation or various medical conditions. The alveoli, which are small air sacs in the lungs, become deflated down to little or no volume. Atelectasis is also known as a collapsed lung.'"
      ]
     },
     "execution_count": 9,
     "metadata": {},
     "output_type": "execute_result"
    }
   ],
   "source": [
    "chain.run(\"What is Atelectasis?\")"
   ]
  },
  {
   "cell_type": "code",
   "execution_count": 10,
   "metadata": {},
   "outputs": [
    {
     "name": "stdout",
     "output_type": "stream",
     "text": [
      "\n",
      "\n",
      "\u001b[1m> Entering new GraphCypherQAChain chain...\u001b[0m\n",
      "Generated Cypher:\n",
      "\u001b[32;1m\u001b[1;3mMATCH (c:Condition {name: 'Atelectasis'})-[:HAS_SYMPTOM]->(s:Symptom)\n",
      "RETURN s.name\u001b[0m\n",
      "Full Context:\n",
      "\u001b[32;1m\u001b[1;3m[]\u001b[0m\n",
      "\n",
      "\u001b[1m> Finished chain.\u001b[0m\n"
     ]
    },
    {
     "data": {
      "text/plain": [
       "\"I'm sorry, but I don't have the information to answer your question. It would be best to consult a medical professional for accurate information on the symptoms of Atelectasis.\""
      ]
     },
     "execution_count": 10,
     "metadata": {},
     "output_type": "execute_result"
    }
   ],
   "source": [
    "chain.run(\"What are the symptoms of Atelectasis?\")"
   ]
  },
  {
   "cell_type": "code",
   "execution_count": 11,
   "metadata": {},
   "outputs": [
    {
     "name": "stdout",
     "output_type": "stream",
     "text": [
      "\n",
      "\n",
      "\u001b[1m> Entering new GraphCypherQAChain chain...\u001b[0m\n",
      "Generated Cypher:\n",
      "\u001b[32;1m\u001b[1;3mMATCH (c:Condition {name: 'Atelectasis'})-[:DUE_TO]->(cause:Cause)\n",
      "RETURN cause.name\u001b[0m\n",
      "Full Context:\n",
      "\u001b[32;1m\u001b[1;3m[]\u001b[0m\n",
      "\n",
      "\u001b[1m> Finished chain.\u001b[0m\n"
     ]
    },
    {
     "data": {
      "text/plain": [
       "'There are several factors that can cause atelectasis. Some common causes include blockage of the airways due to mucus, a foreign object, or a tumor, as well as lung diseases such as chronic obstructive pulmonary disease (COPD) or pneumonia. Additionally, certain medical procedures, such as anesthesia or prolonged bed rest, can also contribute to the development of atelectasis. It is important to consult with a healthcare professional for a proper diagnosis and treatment plan.'"
      ]
     },
     "execution_count": 11,
     "metadata": {},
     "output_type": "execute_result"
    }
   ],
   "source": [
    "chain.run(\"What can cause Atelectasis?\")"
   ]
  },
  {
   "cell_type": "code",
   "execution_count": 12,
   "metadata": {},
   "outputs": [
    {
     "name": "stdout",
     "output_type": "stream",
     "text": [
      "\n",
      "\n",
      "\u001b[1m> Entering new GraphCypherQAChain chain...\u001b[0m\n",
      "Generated Cypher:\n",
      "\u001b[32;1m\u001b[1;3mMATCH (a:Condition)-[:HAS]->(s:Section)-[:MENTIONS]->(f:Finding)\n",
      "WHERE a.name = 'Atelectasis'\n",
      "RETURN f.name\u001b[0m\n",
      "Full Context:\n",
      "\u001b[32;1m\u001b[1;3m[]\u001b[0m\n",
      "\n",
      "\u001b[1m> Finished chain.\u001b[0m\n"
     ]
    },
    {
     "data": {
      "text/plain": [
       "'To diagnose Atelectasis, radiologists typically look for certain clinical features. These may include signs such as lung collapse, airway obstruction, and reduced lung volume. Additionally, they may also consider the presence of symptoms such as shortness of breath, coughing, and chest pain. By evaluating these clinical features, radiologists can make an accurate diagnosis of Atelectasis.'"
      ]
     },
     "execution_count": 12,
     "metadata": {},
     "output_type": "execute_result"
    }
   ],
   "source": [
    "chain.run(\"What clinical features radiologists need for diagnosing Atelectasis?\")"
   ]
  },
  {
   "cell_type": "code",
   "execution_count": 13,
   "metadata": {},
   "outputs": [
    {
     "name": "stdout",
     "output_type": "stream",
     "text": [
      "\n",
      "\n",
      "\u001b[1m> Entering new GraphCypherQAChain chain...\u001b[0m\n",
      "Generated Cypher:\n",
      "\u001b[32;1m\u001b[1;3m\u001b[0m\n",
      "Full Context:\n",
      "\u001b[32;1m\u001b[1;3m[]\u001b[0m\n",
      "\n",
      "\u001b[1m> Finished chain.\u001b[0m\n"
     ]
    },
    {
     "data": {
      "text/plain": [
       "\"I'm sorry, but I don't have the information to answer your question about the radiographic features of Atelectasis.\""
      ]
     },
     "execution_count": 13,
     "metadata": {},
     "output_type": "execute_result"
    }
   ],
   "source": [
    "chain.run(\"what are radiographic features of Atelectasis?\")"
   ]
  },
  {
   "cell_type": "code",
   "execution_count": null,
   "metadata": {},
   "outputs": [],
   "source": []
  }
 ],
 "metadata": {
  "kernelspec": {
   "display_name": "pytorch",
   "language": "python",
   "name": "python3"
  },
  "language_info": {
   "codemirror_mode": {
    "name": "ipython",
    "version": 3
   },
   "file_extension": ".py",
   "mimetype": "text/x-python",
   "name": "python",
   "nbconvert_exporter": "python",
   "pygments_lexer": "ipython3",
   "version": "3.9.18"
  }
 },
 "nbformat": 4,
 "nbformat_minor": 2
}
