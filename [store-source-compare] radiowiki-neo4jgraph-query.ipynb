{
 "cells": [
  {
   "cell_type": "code",
   "execution_count": 1,
   "metadata": {},
   "outputs": [],
   "source": [
    "import re\n",
    "import os\n",
    "from langchain.vectorstores.neo4j_vector import Neo4jVector\n",
    "from langchain.document_loaders import WikipediaLoader\n",
    "from langchain.embeddings.openai import OpenAIEmbeddings\n",
    "from langchain.text_splitter import (\n",
    "    CharacterTextSplitter,\n",
    "    RecursiveCharacterTextSplitter,\n",
    ")\n",
    "from langchain.graphs import Neo4jGraph\n",
    "from transformers import AutoModelForSeq2SeqLM, AutoTokenizer\n",
    "from langchain.text_splitter import TokenTextSplitter\n",
    "\n",
    "from secret import *\n",
    "import chromadb\n",
    "\n",
    "os.environ[\"OPENAI_API_KEY\"] = OPENAI_API_KEY"
   ]
  },
  {
   "cell_type": "code",
   "execution_count": 2,
   "metadata": {},
   "outputs": [
    {
     "name": "stdout",
     "output_type": "stream",
     "text": [
      "Node properties are the following:\n",
      "\n",
      "Relationship properties are the following:\n",
      "\n",
      "The relationships are the following:\n",
      "\n"
     ]
    }
   ],
   "source": [
    "graph = Neo4jGraph(url=\"bolt://localhost:7687\", username=\"neo4j\", password=\"test1234\")\n",
    "graph.query(\n",
    "    \"\"\"\n",
    "MATCH (n)\n",
    "DETACH DELETE n\n",
    "\"\"\"\n",
    ")\n",
    "graph.refresh_schema()\n",
    "print(graph.schema)"
   ]
  },
  {
   "cell_type": "code",
   "execution_count": 3,
   "metadata": {},
   "outputs": [],
   "source": [
    "from loader.radiopaedia import RadioWebLoader\n",
    "search_query = \"Atelectasis\"\n",
    "radio_raw_documents = RadioWebLoader(search_query).load()\n",
    "wiki_raw_documents = WikipediaLoader(query=\"Atelectasis\").load()\n",
    "raw_documents = radio_raw_documents + wiki_raw_documents"
   ]
  },
  {
   "cell_type": "code",
   "execution_count": 4,
   "metadata": {},
   "outputs": [
    {
     "data": {
      "text/plain": [
       "(20, 25)"
      ]
     },
     "execution_count": 4,
     "metadata": {},
     "output_type": "execute_result"
    }
   ],
   "source": [
    "len(radio_raw_documents), len(wiki_raw_documents)"
   ]
  },
  {
   "cell_type": "code",
   "execution_count": 5,
   "metadata": {},
   "outputs": [],
   "source": [
    "text_splitter = TokenTextSplitter(chunk_size=2048, chunk_overlap=24)\n",
    "documents = text_splitter.split_documents(\n",
    "    raw_documents\n",
    ")  # should I only take the first? which is the most relevant?"
   ]
  },
  {
   "cell_type": "code",
   "execution_count": 6,
   "metadata": {},
   "outputs": [
    {
     "data": {
      "text/plain": [
       "45"
      ]
     },
     "execution_count": 6,
     "metadata": {},
     "output_type": "execute_result"
    }
   ],
   "source": [
    "len(raw_documents)"
   ]
  },
  {
   "cell_type": "code",
   "execution_count": 7,
   "metadata": {},
   "outputs": [
    {
     "name": "stderr",
     "output_type": "stream",
     "text": [
      "c:\\Users\\mike8\\anaconda3\\envs\\pytorch\\lib\\site-packages\\langchain_core\\_api\\deprecation.py:115: LangChainDeprecationWarning: The class `ChatOpenAI` was deprecated in LangChain 0.1.0 and will be removed in 0.2.0. Use langchain_openai.ChatOpenAI instead.\n",
      "  warn_deprecated(\n",
      "  0%|          | 0/78 [00:00<?, ?it/s]c:\\Users\\mike8\\anaconda3\\envs\\pytorch\\lib\\site-packages\\langchain_core\\_api\\deprecation.py:115: LangChainDeprecationWarning: The function `run` was deprecated in LangChain 0.1.0 and will be removed in 0.2.0. Use invoke instead.\n",
      "  warn_deprecated(\n",
      " 13%|█▎        | 10/78 [08:10<56:19, 49.70s/it] Retrying langchain_community.chat_models.openai.ChatOpenAI.completion_with_retry.<locals>._completion_with_retry in 4.0 seconds as it raised Timeout: Request timed out: HTTPSConnectionPool(host='api.openai.com', port=443): Read timed out. (read timeout=600).\n",
      " 17%|█▋        | 13/78 [25:38<3:42:30, 205.40s/it]"
     ]
    },
    {
     "name": "stdout",
     "output_type": "stream",
     "text": [
      "Not working for doc 13\n"
     ]
    },
    {
     "name": "stderr",
     "output_type": "stream",
     "text": [
      " 50%|█████     | 39/78 [49:45<25:06, 38.62s/it]   Retrying langchain_community.chat_models.openai.ChatOpenAI.completion_with_retry.<locals>._completion_with_retry in 4.0 seconds as it raised Timeout: Request timed out: HTTPSConnectionPool(host='api.openai.com', port=443): Read timed out. (read timeout=600).\n",
      " 54%|█████▍    | 42/78 [1:02:24<1:17:07, 128.54s/it]Retrying langchain_community.chat_models.openai.ChatOpenAI.completion_with_retry.<locals>._completion_with_retry in 4.0 seconds as it raised Timeout: Request timed out: HTTPSConnectionPool(host='api.openai.com', port=443): Read timed out. (read timeout=600).\n",
      " 65%|██████▌   | 51/78 [1:26:38<53:47, 119.53s/it]  "
     ]
    },
    {
     "name": "stdout",
     "output_type": "stream",
     "text": [
      "Not working for doc 51\n"
     ]
    },
    {
     "name": "stderr",
     "output_type": "stream",
     "text": [
      " 99%|█████████▊| 77/78 [1:58:14<02:20, 140.23s/it]"
     ]
    },
    {
     "name": "stdout",
     "output_type": "stream",
     "text": [
      "Not working for doc 77\n"
     ]
    },
    {
     "name": "stderr",
     "output_type": "stream",
     "text": [
      "100%|██████████| 78/78 [1:59:42<00:00, 92.09s/it] \n"
     ]
    },
    {
     "name": "stdout",
     "output_type": "stream",
     "text": [
      "Node properties are the following:\n",
      "Condition {name: STRING, id: STRING, description: STRING, definition: STRING, alsoknownas: STRING, causedby: STRING, transmission: STRING, complications: STRING, prevention: STRING, symptoms: STRING, diagnosis: STRING, treatment: STRING},Section {name: STRING, title: STRING, id: STRING, description: STRING},Symptom {id: STRING, name: STRING, description: STRING, temperature: STRING},Cause {description: STRING, name: STRING, id: STRING},Risk factor {description: STRING, id: STRING, name: STRING},Type {name: STRING, id: STRING, description: STRING, characteristics: STRING},Anatomy {id: STRING, name: STRING, definition: STRING, plural: STRING, description: STRING},Part of eardrum {description: STRING, id: STRING, name: STRING},Factor {description: STRING, name: STRING, id: STRING},Information {description: STRING, name: STRING, id: STRING},Concept {id: STRING, name: STRING, organization: STRING, year: STRING, definition: STRING, description: STRING, alternativenames: STRING},Procedure {id: STRING, name: STRING, description: STRING},Device {description: STRING, id: STRING, name: STRING},Risk {description: STRING, id: STRING, name: STRING},Measurement {name: STRING, id: STRING, description: STRING},Organization {id: STRING, name: STRING, description: STRING},Profession {description: STRING, id: STRING, name: STRING},Drug {brandname: STRING, medicaluses: STRING, id: STRING, name: STRING},Enzyme {id: STRING, name: STRING},Cell line {name: STRING, id: STRING},Medical condition {name: STRING, id: STRING},Substance {id: STRING, name: STRING, formation: STRING, components: STRING, description: STRING},Organ {id: STRING, name: STRING, location: STRING},Person {name: STRING, id: STRING, nationality: STRING, field: STRING, birthdate: STRING, occupation: STRING, deathdate: STRING, awards: STRING, specialization: STRING},Location {name: STRING, id: STRING, country: STRING},Disease {name: STRING, id: STRING, complications: STRING, symptoms: STRING, transmission: STRING},Treatment {id: STRING, name: STRING},Diagnostic test {id: STRING, name: STRING},Muscle {name: STRING, id: STRING, location: STRING},Internal structure {id: STRING, name: STRING, location: STRING},Bone {name: STRING, id: STRING, location: STRING},External structure {name: STRING, location: STRING, id: STRING},Term {description: STRING, id: STRING, name: STRING},Process {id: STRING, name: STRING},Property {id: STRING, name: STRING, description: STRING},Diagnostic tool {id: STRING},Medicalterm {name: STRING, definition: STRING, id: STRING},Anatomicalstructure {name: STRING, id: STRING, location: STRING},Medical term {id: STRING, name: STRING},Anatomical structure {name: STRING, id: STRING},Medicalcondition {summary: STRING, id: STRING, name: STRING, cause: STRING, differentialdiagnosis: STRING},Imaging technique {name: STRING, id: STRING},Attribute {id: STRING, name: STRING},Group {description: STRING, id: STRING, name: STRING},Imaging {name: STRING, id: STRING},Complication {name: STRING, id: STRING},Body part {id: STRING, name: STRING},Finding {name: STRING, id: STRING},Presentation {id: STRING, name: STRING, description: STRING},Therapy {id: STRING, name: STRING, description: STRING},Goal {description: STRING, id: STRING, name: STRING},Activity {description: STRING, name: STRING, id: STRING},Event {name: STRING, id: STRING},Bacteria {name: STRING, id: STRING, reservoir: STRING, gramstain: STRING, group: STRING},Microorganism {id: STRING, name: STRING},Medication {id: STRING, name: STRING, description: STRING},Chemicalsubstance {name: STRING, id: STRING},Bodyfluid {id: STRING},Disorder {description: STRING, name: STRING, id: STRING},Action {id: STRING, name: STRING},Object {id: STRING, name: STRING},Animal {id: STRING, name: STRING},Virus {id: STRING, name: STRING},Educational institution {name: STRING, id: STRING},Hospital {name: STRING, id: STRING},Country {id: STRING, name: STRING},Method {name: STRING, definition: STRING, id: STRING},Illness {name: STRING, id: STRING},Chemical {id: STRING, name: STRING},Transmission {name: STRING, id: STRING},Reservoir {id: STRING},Lipid {description: STRING, name: STRING, id: STRING},Function {description: STRING, name: STRING, id: STRING},Protein {id: STRING, name: STRING, description: STRING},Medicalprocedure {name: STRING, id: STRING, purpose: STRING, cause: STRING, diagnosticmethod: STRING},Injury {id: STRING, name: STRING},Medical specialty {name: STRING, id: STRING},Date {id: STRING, name: STRING},Book {name: STRING, id: STRING, title: STRING, purchaselink: STRING, publicationdate: STRING, publisher: STRING, isbn: STRING, pages: STRING},Journalarticle {name: STRING, id: STRING, citation: STRING, journal: STRING, title: STRING, publicationdate: STRING, volume: STRING, pages: STRING, issue: STRING, doi: STRING},Article {lastrevisedby: STRING, lastrevisedon: STRING, name: STRING, id: STRING, title: STRING, url: STRING, synonyms: STRING, citation: STRING, doi: STRING},Website {name: STRING, id: STRING},Imaging feature {name: STRING, id: STRING},Lesion {name: STRING, id: STRING},Pattern {name: STRING, id: STRING},Neoplasm {name: STRING, id: STRING},Metastasis {name: STRING, id: STRING},Screening {name: STRING, id: STRING},Staging {name: STRING, id: STRING},Case {name: STRING, id: STRING},Multiple choice question {id: STRING, name: STRING},Related article {name: STRING, id: STRING},Sign {name: STRING, id: STRING},Edition {status: STRING, id: STRING, name: STRING},Classification {id: STRING, name: STRING, year: STRING},Syndrome {id: STRING, name: STRING},Terminology {id: STRING, name: STRING},Page {id: STRING, name: STRING},Socialmedia {id: STRING, name: STRING},Communication {id: STRING, name: STRING},Issue {name: STRING, id: STRING},Medical_term {id: STRING, name: STRING},Criteria {id: STRING, name: STRING},Guideline {id: STRING, name: STRING},Mechanism-based atelectasis {id: STRING, name: STRING},Morphology-based atelectasis {name: STRING, id: STRING},Radiography projection {id: STRING, name: STRING},Approach {id: STRING, name: STRING},Medical device {name: STRING, id: STRING},Cancer {name: STRING, id: STRING},Military base {id: STRING, name: STRING},Military organization {name: STRING, id: STRING},Club {id: STRING, name: STRING},Region {id: STRING, name: STRING},Medicalsign {id: STRING, name: STRING, appearance: STRING}\n",
      "Relationship properties are the following:\n",
      "ADEQUATE_LEVEL_FOR_MOST_CONDITIONS {range: STRING},REQUIRES_RE-ASSESSMENT_BY {recommendation: STRING},PREFERRED_LEVEL_IN_THOSE_AT_RISK_OF {range: STRING},RECOMMENDED_LEVEL_IN_CASES_OF {range: STRING},TYPICAL_OXYGEN_CONTENT {percentage: STRING},RECOMMENDED_OXYGEN_THERAPY_GUIDELINES {recommendation: STRING},GOAL_OF {value: STRING}\n",
      "The relationships are the following:\n",
      "(:Condition)-[:PARTOFTREATMENT]->(:Procedure),(:Condition)-[:USEDFORDIAGNOSIS]->(:Diagnostic tool),(:Condition)-[:HASREFERENCE]->(:Article),(:Condition)-[:TREATEDBY]->(:Treatment),(:Condition)-[:AFFECTS]->(:Anatomy),(:Condition)-[:AFFECTS]->(:Anatomicalstructure),(:Condition)-[:AFFECTS]->(:Body part),(:Condition)-[:CAUSES]->(:Symptom),(:Condition)-[:LASTREVISEDBY]->(:Person),(:Condition)-[:LASTREVISEDON]->(:Date),(:Condition)-[:RELATED_TO]->(:Condition),(:Condition)-[:CAN_CAUSE]->(:Symptom),(:Condition)-[:CAN_CAUSE]->(:Condition),(:Condition)-[:CAUSE]->(:Disorder),(:Condition)-[:CAUSE]->(:Symptom),(:Condition)-[:CAUSE]->(:Microorganism),(:Condition)-[:CAUSE]->(:Body part),(:Condition)-[:CAUSE]->(:Condition),(:Condition)-[:IS_A_TYPE_OF]->(:Type),(:Condition)-[:HASCAUSE]->(:Condition),(:Condition)-[:HASCAUSE]->(:Cause),(:Condition)-[:HASCAUSE]->(:Process),(:Condition)-[:HASEFFECT]->(:Condition),(:Condition)-[:HASEFFECT]->(:Process),(:Condition)-[:COMPRISES]->(:Part of eardrum),(:Condition)-[:DESCRIBES]->(:Condition),(:Condition)-[:DEVELOPS_INTO]->(:Condition),(:Condition)-[:SPECIFIC_CONDITION]->(:Condition),(:Condition)-[:CAUSED_BY]->(:Condition),(:Condition)-[:CAUSED_BY]->(:Body part),(:Condition)-[:CAN_RESULT_IN]->(:Condition),(:Condition)-[:CAN_INCREASE_THE_RISK_OF]->(:Risk),(:Condition)-[:EMERGENCY_TREATMENT_FOR]->(:Concept),(:Condition)-[:STANDARD_TREATMENT_FOR]->(:Device),(:Condition)-[:MAY_BE_BENEFICIAL_IN]->(:Concept),(:Condition)-[:RESULTS_IN]->(:Condition),(:Condition)-[:TERM]->(:Condition),(:Condition)-[:ISASSOCIATEDWITH]->(:Process),(:Condition)-[:SUBTYPEOF]->(:Condition),(:Condition)-[:RISKFACTOR]->(:Procedure),(:Condition)-[:RISKFACTOR]->(:Bacteria),(:Condition)-[:RISKFACTOR]->(:Condition),(:Condition)-[:OCCURSAFTER]->(:Event),(:Condition)-[:HASSYMPTOM]->(:Symptom),(:Condition)-[:CAN_LEAD_TO]->(:Condition),(:Condition)-[:COMPARISON]->(:Condition),(:Condition)-[:CONDITION_OF]->(:Condition),(:Condition)-[:PRESENTS_IN]->(:Animal),(:Condition)-[:TYPE_OF]->(:Condition),(:Condition)-[:CAN_DEVELOP]->(:Condition),(:Condition)-[:CAN_BE_IN]->(:Object),(:Condition)-[:CANLEADTO]->(:Complication),(:Condition)-[:DIAGNOSEDBY]->(:Diagnostic test),(:Condition)-[:CAUSEDBY]->(:Bacteria),(:Condition)-[:TRANSMITTEDBY]->(:Transmission),(:Condition)-[:DECREASES]->(:Substance),(:Section)-[:ASSOCIATED_WITH]->(:Condition),(:Cause)-[:CAN_LEAD_TO]->(:Condition),(:Cause)-[:CAN_CAUSE]->(:Condition),(:Cause)-[:DUE_TO]->(:Cause),(:Cause)-[:HASEFFECT]->(:Condition),(:Cause)-[:HASEFFECT]->(:Cause),(:Cause)-[:HASCAUSE]->(:Cause),(:Risk factor)-[:ARE_AT_AN_INCREASED_RISK_FOR]->(:Condition),(:Type)-[:CHARACTERIZED_BY]->(:Condition),(:Anatomy)-[:PART_OF]->(:Anatomy),(:Anatomy)-[:EXTERNAL_TO]->(:External structure),(:Anatomy)-[:CONTAINS]->(:Bone),(:Anatomy)-[:CONTAINS]->(:Internal structure),(:Anatomy)-[:CONTAINS]->(:Organ),(:Anatomy)-[:CONTAINS]->(:Muscle),(:Factor)-[:CONTRIBUTES_TO]->(:Condition),(:Factor)-[:ISASSOCIATEDWITH]->(:Condition),(:Factor)-[:ISASSOCIATEDWITH]->(:Factor),(:Factor)-[:ISASSOCIATEDWITH]->(:Process),(:Factor)-[:HASEFFECT]->(:Process),(:Information)-[:RELATIVE_CONTRAINDICATION]->(:Symptom),(:Information)-[:RELATIVE_CONTRAINDICATION]->(:Condition),(:Information)-[:ABSOLUTE_CONTRAINDICATION]->(:Condition),(:Concept)-[:PUBLISHED_ON]->(:Concept),(:Concept)-[:HAS]->(:Concept),(:Concept)-[:DUE_TO]->(:Concept),(:Concept)-[:DISORDER_OF]->(:Concept),(:Concept)-[:ASSOCIATED_WITH]->(:Concept),(:Concept)-[:LAST_REVISED_BY]->(:Person),(:Concept)-[:IS_A]->(:Concept),(:Concept)-[:ARTICLE_CREATED_BY]->(:Person),(:Concept)-[:SUBTYPE]->(:Syndrome),(:Concept)-[:SEEN_IN]->(:Condition),(:Concept)-[:USED_IN]->(:Condition),(:Concept)-[:USED_IN]->(:Procedure),(:Concept)-[:ALSO_REFERRED_TO_AS]->(:Concept),(:Concept)-[:ACUTE_INDICATION_FOR_THERAPY]->(:Condition),(:Concept)-[:PROPHYLACTICALLY_GIVEN_DURING]->(:Procedure),(:Concept)-[:CHRONIC_INDICATION_FOR_THERAPY]->(:Condition),(:Concept)-[:CAN_BE_DELIVERED_VIA]->(:Procedure),(:Concept)-[:CAN_BE_DELIVERED_VIA]->(:Device),(:Concept)-[:RISK_OF]->(:Condition),(:Concept)-[:CAN_DRY_OUT]->(:Anatomy),(:Concept)-[:INCLUDED_IN]->(:Concept),(:Concept)-[:BASELINE_REQUIREMENT_FOR]->(:Condition),(:Concept)-[:PRESCRIBED_FOR_RELIEF_OF]->(:Symptom),(:Concept)-[:PRESCRIBED_FOR]->(:Condition),(:Concept)-[:CAN_ALSO_REFER_TO]->(:Concept),(:Concept)-[:LISTED_BY]->(:Organization),(:Concept)-[:CAN_BE_PROVIDED_BY]->(:Device),(:Concept)-[:ALTERNATIVE_TO]->(:Procedure),(:Concept)-[:TYPICAL_OXYGEN_CONTENT]->(:Concept),(:Concept)-[:COVERED_BY]->(:Concept),(:Concept)-[:DISTRIBUTED_ON]->(:Concept),(:Concept)-[:AFFECTS]->(:Concept),(:Concept)-[:DEVELOPS_OVER_TIME]->(:Concept),(:Concept)-[:COMPOSED_OF]->(:Concept),(:Concept)-[:INCLUDES]->(:Concept),(:Concept)-[:CAUSED_BY]->(:Concept),(:Concept)-[:RISK_FACTOR_FOR]->(:Concept),(:Concept)-[:OCCURS_IN]->(:Concept),(:Concept)-[:INCREASES_RISK_OF]->(:Concept),(:Concept)-[:CAUSES]->(:Concept),(:Concept)-[:INVOLVES]->(:Concept),(:Concept)-[:MIGRATES_TO]->(:Concept),(:Concept)-[:REACHES]->(:Concept),(:Concept)-[:TYPE_OF]->(:Concept),(:Concept)-[:LEADS_TO]->(:Concept),(:Concept)-[:EXPERIENCESCONTRACTIONSDURING]->(:Concept),(:Concept)-[:REVIEWED_IN]->(:Concept),(:Concept)-[:IMPAIRS]->(:Concept),(:Concept)-[:DIMINISHED_BY]->(:Concept),(:Concept)-[:UNCERTAIN]->(:Concept),(:Concept)-[:REFERS_TO]->(:Concept),(:Concept)-[:PART_OF]->(:Concept),(:Concept)-[:OCCURS_WITHIN]->(:Concept),(:Concept)-[:ASCRIBED_TO]->(:Concept),(:Concept)-[:REQUIRES]->(:Concept),(:Concept)-[:RESPONSE_TO]->(:Concept),(:Concept)-[:GUIDED_BY]->(:Concept),(:Concept)-[:LOCALIZED_BY]->(:Concept),(:Concept)-[:CONDUCTED_IN]->(:Concept),(:Concept)-[:AUSCULTATED_IN]->(:Concept),(:Concept)-[:NOTED_IN]->(:Concept),(:Concept)-[:EVALUATED_IN]->(:Concept),(:Concept)-[:DEFERRED_FOR]->(:Concept),(:Concept)-[:ROUTINELY_INCLUDES]->(:Concept),(:Concept)-[:MENTIONED_IN]->(:Concept),(:Concept)-[:GENRE_OF]->(:Concept),(:Concept)-[:RELATED_TO]->(:Concept),(:Concept)-[:MECHANISM]->(:Concept),(:Concept)-[:METHOD]->(:Method),(:Concept)-[:PREVENTION]->(:Concept),(:Concept)-[:EFFECT]->(:Concept),(:Concept)-[:WAS_FIRST_DESCRIBED_BY]->(:Person),(:Concept)-[:CANBEDIAGNOSEDIN]->(:Concept),(:Concept)-[:CANLEADTO]->(:Concept),(:Concept)-[:HASMUSCLES]->(:Concept),(:Concept)-[:HASVOLUME]->(:Concept),(:Concept)-[:CANBECAUSEDBY]->(:Concept),(:Concept)-[:ISINVOLVEDIN]->(:Concept),(:Concept)-[:CANBEACHIEVEDBY]->(:Concept),(:Concept)-[:SHOULDCONSULT]->(:Concept),(:Concept)-[:MAYSHOWMALFORMATIONORMALFUNCTIONING]->(:Concept),(:Concept)-[:MAYOBSERVEMALFORMATIONORMALFUNCTIONING]->(:Concept),(:Concept)-[:ISASUBTYPEOF]->(:Concept),(:Concept)-[:HASSYMPTOM]->(:Concept),(:Concept)-[:CANTRIGGER]->(:Concept),(:Concept)-[:PREVENTSREMOVALOF]->(:Concept),(:Concept)-[:CAUSESDROPIN]->(:Concept),(:Concept)-[:CANBECLOSEDTOACHIEVE]->(:Concept),(:Concept)-[:CANBEBLOCKEDTOACHIEVE]->(:Concept),(:Concept)-[:CANBEACTIVATEDTOACHIEVE]->(:Concept),(:Concept)-[:CANCAUSEDYSFUNCTIONIN]->(:Concept),(:Concept)-[:ISESSENTIALFOR]->(:Concept),(:Concept)-[:ISINTERRUPTEDDURING]->(:Concept),(:Concept)-[:CANINCREASETOLERANCEOF]->(:Concept),(:Concept)-[:USUALLYCANNOTSUSTAIN]->(:Concept),(:Concept)-[:BECOMESUNBEARABLEDURING]->(:Concept),(:Concept)-[:ISSTIMULATEDBY]->(:Concept),(:Concept)-[:ACCUMULATESIN]->(:Concept),(:Concept)-[:TRIGGERSIMPULSESFROM]->(:Concept),(:Concept)-[:ENABLESLONGERTOLERANCEOF]->(:Concept),(:Procedure)-[:USED_TO_MONITOR]->(:Concept),(:Procedure)-[:TREATMENT_FOR]->(:Condition),(:Procedure)-[:PERFORMED_IN]->(:Device),(:Procedure)-[:REQUIRES_RE-ASSESSMENT_BY]->(:Concept),(:Procedure)-[:RECOMMENDEDFOR]->(:Medication),(:Procedure)-[:HELPEDBY]->(:Symptom),(:Procedure)-[:HELPEDBY]->(:Bodyfluid),(:Procedure)-[:REQUIREDFOR]->(:Condition),(:Procedure)-[:CONSIDERS]->(:Condition),(:Procedure)-[:TREATS]->(:Condition),(:Procedure)-[:RISKFACTOR]->(:Condition),(:Procedure)-[:USEDIN]->(:Chemicalsubstance),(:Measurement)-[:PREFERRED_LEVEL_IN_THOSE_AT_RISK_OF]->(:Condition),(:Measurement)-[:RECOMMENDED_LEVEL_IN_CASES_OF]->(:Condition),(:Measurement)-[:ADEQUATE_LEVEL_FOR_MOST_CONDITIONS]->(:Concept),(:Measurement)-[:IF_TOLERATED_BY]->(:Activity),(:Measurement)-[:CAN_BE_INCREASED_TO_REACH]->(:Goal),(:Measurement)-[:AFFECTS]->(:Condition),(:Organization)-[:RECOMMENDED_OXYGEN_THERAPY_GUIDELINES]->(:Concept),(:Profession)-[:RE-ASSESSMENT_PERFORMED_BY]->(:Procedure),(:Drug)-[:PRODUCEDIN]->(:Cell line),(:Drug)-[:HYDROLYZES]->(:Substance),(:Drug)-[:USEDFOR]->(:Condition),(:Drug)-[:REDUCESVISCOSITYIN]->(:Organ),(:Drug)-[:PROMOTESCLEARANCEOF]->(:Substance),(:Drug)-[:SHOWNTOIMPROVE]->(:Condition),(:Drug)-[:CONTAINS]->(:Enzyme),(:Medical condition)-[:DUE_TO]->(:Cause),(:Substance)-[:SECRETED_BY]->(:Condition),(:Substance)-[:CAN_CAUSE_OBSTRUCTION_OF]->(:Body part),(:Substance)-[:CONTAINS]->(:Lipid),(:Substance)-[:LISTED_IN]->(:Medication),(:Substance)-[:FACILITATES]->(:Function),(:Substance)-[:PREVENTS]->(:Condition),(:Substance)-[:HAS]->(:Function),(:Person)-[:LAST_REVISED_ON]->(:Date),(:Person)-[:ARTICLE_CREATED_ON]->(:Date),(:Person)-[:DESCRIBEDBY]->(:Condition),(:Person)-[:USEDIN]->(:Procedure),(:Person)-[:REDUCEDDEATHSBY]->(:Condition),(:Person)-[:WORKEDAT]->(:Location),(:Person)-[:ADVICE_FOR]->(:Animal),(:Person)-[:MILITARY_SERVICE]->(:Military base),(:Person)-[:MILITARY_SERVICE]->(:Military organization),(:Person)-[:PARENT]->(:Person),(:Person)-[:INTEREST]->(:Medical condition),(:Person)-[:EDUCATION]->(:Educational institution),(:Person)-[:WORK]->(:Hospital),(:Person)-[:SPOUSE]->(:Person),(:Person)-[:PREDECESSOR]->(:Person),(:Person)-[:MEMBERSHIP]->(:Organization),(:Person)-[:MEMBERSHIP]->(:Club),(:Person)-[:PLACE_OF_DEATH]->(:Region),(:Person)-[:DISCOVERY]->(:Medical condition),(:Disease)-[:CAUSED_BY]->(:Virus),(:Disease)-[:FIRST_IDENTIFIED_IN]->(:Location),(:Term)-[:IS_A_TYPE_OF]->(:Condition),(:Process)-[:ISASSOCIATEDWITH]->(:Condition),(:Process)-[:HASEFFECT]->(:Process),(:Process)-[:AFFECTS]->(:Condition),(:Property)-[:IS_DEFINED_AS]->(:Property),(:Property)-[:CAUSES]->(:Substance),(:Property)-[:REDUCES]->(:Property),(:Property)-[:DECREASES]->(:Property),(:Medicalterm)-[:LOCATEDIN]->(:Anatomicalstructure),(:Anatomicalstructure)-[:LOCATEDIN]->(:Medicalterm),(:Anatomicalstructure)-[:LOCATION]->(:Medicalprocedure),(:Anatomicalstructure)-[:LOCATION]->(:Medicalcondition),(:Medicalcondition)-[:HASREFERENCE]->(:Article),(:Medicalcondition)-[:ASSOCIATEDWITH]->(:Medicalcondition),(:Medicalcondition)-[:SUBTYPEOF]->(:Medicalcondition),(:Medicalcondition)-[:CAUSEOF]->(:Medicalcondition),(:Medicalcondition)-[:CAUSE]->(:Medicalterm),(:Medicalcondition)-[:CAUSE]->(:Medicalcondition),(:Medicalcondition)-[:CAUSE]->(:Medicalsign),(:Medicalcondition)-[:ALSOKNOWNAS]->(:Medicalcondition),(:Medicalcondition)-[:DIFFERENTIALDIAGNOSIS]->(:Medicalprocedure),(:Body part)-[:NOT_FULLY_DEVELOPED]->(:Condition),(:Body part)-[:OBSTRUCTION_OF]->(:Condition),(:Presentation)-[:ASSOCIATED_WITH]->(:Condition),(:Therapy)-[:USED_FOR]->(:Therapy),(:Therapy)-[:MAY_BE_INDICATED_FOR]->(:Condition),(:Therapy)-[:DECREASES]->(:Symptom),(:Therapy)-[:USEFUL_IN_THE_TREATMENT_OF]->(:Condition),(:Therapy)-[:USEFUL_IF_THE_VOLUME_DELIVERED_EXCEEDS]->(:Activity),(:Therapy)-[:IS]->(:Therapy),(:Therapy)-[:IS_FOR]->(:Group),(:Therapy)-[:WHEN_TREATING]->(:Condition),(:Therapy)-[:SHOULD_BE]->(:Measurement),(:Goal)-[:MUST_BE_MEASURED]->(:Measurement),(:Goal)-[:MUST_BE_SET]->(:Measurement),(:Goal)-[:GOAL_OF]->(:Measurement),(:Event)-[:RESULTOF]->(:Condition),(:Event)-[:CAUSE]->(:Event),(:Event)-[:REDUCEDDEATHSBY]->(:Condition),(:Bacteria)-[:NATURALRESERVOIR]->(:Reservoir),(:Medication)-[:RECOMMENDEDFOR]->(:Condition),(:Disorder)-[:CAUSED_BY]->(:Condition),(:Disorder)-[:CAN_CAUSE_LUNG_COLLAPSE]->(:Condition),(:Disorder)-[:HAS]->(:Body part),(:Disorder)-[:NOT_CAUSED_BY]->(:Condition),(:Action)-[:ENCOURAGED_FOR]->(:Condition),(:Object)-[:CAN_CONTAIN]->(:Condition),(:Animal)-[:HAS]->(:Body part),(:Animal)-[:CAN_DEVELOP]->(:Condition),(:Method)-[:METHOD]->(:Method),(:Method)-[:PREVENTION]->(:Concept),(:Method)-[:MECHANISM]->(:Concept),(:Method)-[:EFFECT]->(:Concept),(:Illness)-[:IS_SEEN_PREFERENTIALLY_WITH]->(:Anatomical structure),(:Illness)-[:RESULTS_IN_ABRUPT_DECREASE_IN]->(:Concept),(:Illness)-[:RELEASED_FROM]->(:Anatomical structure),(:Illness)-[:RELEASED_FROM]->(:Chemical),(:Illness)-[:SUGGESTED_WHEN]->(:Concept),(:Illness)-[:FORMS_ADJACENT_TO]->(:Anatomical structure),(:Illness)-[:TREATMENT_CONSISTS_OF]->(:Procedure),(:Illness)-[:FOLLOWING_DRAINAGE_OF]->(:Illness),(:Illness)-[:PRESENTS_IN_THE_SAME_WAY_AS]->(:Illness),(:Illness)-[:CAN_OCCUR_IN_PATIENTS_WITH]->(:Anatomical structure),(:Function)-[:INCREASES]->(:Substance),(:Function)-[:REGULATES]->(:Substance),(:Function)-[:INVOLVES]->(:Protein),(:Medicalprocedure)-[:PURPOSE]->(:Medicalterm),(:Medicalprocedure)-[:CAUSE]->(:Medicalcondition),(:Medicalprocedure)-[:DIAGNOSTICMETHOD]->(:Medicalprocedure),(:Medicalprocedure)-[:DIAGNOSTICMETHOD]->(:Medicalterm),(:Article)-[:CREATEDON]->(:Date),(:Article)-[:CREATEDBY]->(:Person),(:Article)-[:PUBLISHEDON]->(:Website),(:Article)-[:HAS_SECTION]->(:Section),(:Medicalsign)-[:APPEARANCE]->(:Medicalprocedure),(:Medicalsign)-[:APPEARANCE]->(:Medicalsign)\n"
     ]
    }
   ],
   "source": [
    "from tqdm import tqdm\n",
    "from aug.graph_doc import (\n",
    "    get_extraction_chain,\n",
    "    data_to_graph_doc,\n",
    "    chain_run,\n",
    "    add_graph_documents,\n",
    ")\n",
    "from langchain.chat_models import ChatOpenAI\n",
    "\n",
    "llm = ChatOpenAI(model=\"gpt-3.5-turbo-16k\", temperature=0)\n",
    "\n",
    "allowed_nodes = None\n",
    "allowed_rels = None\n",
    "# allowed_nodes = [\"Symptom\", \"Disease\"]\n",
    "# allowed_rels = [\"CAN_CAUSE\", \"DESCRIBE\", \"HAS\"]\n",
    "\n",
    "extract_chain = get_extraction_chain(llm, allowed_nodes, allowed_rels)\n",
    "gds = []\n",
    "i=0\n",
    "for d in tqdm(documents, total=len(documents)):\n",
    "\n",
    "    i += 1\n",
    "    try:\n",
    "        data = chain_run(extract_chain, d.page_content)\n",
    "        graph_document = data_to_graph_doc(data, d)\n",
    "        # add_graph_document(graph, graph_document)\n",
    "        gds.append(graph_document)\n",
    "    except:\n",
    "        print(f\"Not working for doc {i}\")\n",
    "    # data = chain_run(extract_chain, d.page_content)\n",
    "    # # data = extract_chain.run(d.page_content)\n",
    "    # # graph_document = GraphDocument(\n",
    "    # #     nodes=[map_to_base_node(node) for node in data.nodes],\n",
    "    # #     relationships=[map_to_base_relationship(rel) for rel in data.rels],\n",
    "    # #     source=d,\n",
    "    # # )\n",
    "    # graph_document = data_to_graph_doc(data, d)\n",
    "    # # add_graph_document(graph, graph_document)\n",
    "    # gds.append(graph_document)\n",
    "\n",
    "graph = add_graph_documents(graph, gds)\n",
    "graph.refresh_schema()\n",
    "print(graph.schema)\n",
    "\n",
    "# 12m46.2s"
   ]
  },
  {
   "cell_type": "code",
   "execution_count": 8,
   "metadata": {},
   "outputs": [],
   "source": [
    "from langchain.chains import GraphCypherQAChain\n",
    "chain = GraphCypherQAChain.from_llm(\n",
    "    graph=graph,\n",
    "    cypher_llm=ChatOpenAI(temperature=0, model=\"gpt-3.5-turbo-16k\"),\n",
    "    qa_llm=ChatOpenAI(temperature=0, model=\"gpt-3.5-turbo-16k\"),\n",
    "    validate_cypher=True,  # Validate relationship directions\n",
    "    verbose=True,\n",
    ")"
   ]
  },
  {
   "cell_type": "code",
   "execution_count": 9,
   "metadata": {},
   "outputs": [],
   "source": [
    "lesion = \"Atelectasis\"\n",
    "questions = [\n",
    "    f\"What is {lesion}?\",\n",
    "    f\"What are the symptoms associated with {lesion}?\",\n",
    "    f\"What can cause {lesion}?\",\n",
    "    f\"What are the patient’s symptoms that are relevant for {lesion}?\",\n",
    "    f\"What are the relevant clinical signs for the etiological diagnosis of {lesion}?\",\n",
    "    f\"What are the relevant laboratory data for the etiological diagnosis of {lesion}?\",\n",
    "    f\"What are the relevant clinical characteristics for the etiological diagnosis of {lesion}\",\n",
    "    f\"What are the patient’s personal relevant history for the etiological diagnosis of {lesion}\",\n",
    "]"
   ]
  },
  {
   "cell_type": "code",
   "execution_count": 10,
   "metadata": {},
   "outputs": [
    {
     "name": "stdout",
     "output_type": "stream",
     "text": [
      "\n",
      "\n",
      "\u001b[1m> Entering new GraphCypherQAChain chain...\u001b[0m\n",
      "Generated Cypher:\n",
      "\u001b[32;1m\u001b[1;3mMATCH (c:Condition {name: \"Atelectasis\"})\n",
      "RETURN c\u001b[0m\n",
      "Full Context:\n",
      "\u001b[32;1m\u001b[1;3m[{'c': {'name': 'Atelectasis', 'id': 'Atelectasis'}}]\u001b[0m\n",
      "\n",
      "\u001b[1m> Finished chain.\u001b[0m\n",
      "\n",
      "\n",
      "\u001b[1m> Entering new GraphCypherQAChain chain...\u001b[0m\n",
      "Generated Cypher:\n",
      "\u001b[32;1m\u001b[1;3mMATCH (:Condition {name: \"Atelectasis\"})-[:HASSYMPTOM]->(symptom:Symptom)\n",
      "RETURN symptom.name\u001b[0m\n",
      "Full Context:\n",
      "\u001b[32;1m\u001b[1;3m[]\u001b[0m\n",
      "\n",
      "\u001b[1m> Finished chain.\u001b[0m\n",
      "\n",
      "\n",
      "\u001b[1m> Entering new GraphCypherQAChain chain...\u001b[0m\n",
      "Generated Cypher:\n",
      "\u001b[32;1m\u001b[1;3mMATCH (:Condition {name: \"Atelectasis\"})-[:CAUSE]->(cause:Condition)\n",
      "RETURN cause.name\u001b[0m\n",
      "Full Context:\n",
      "\u001b[32;1m\u001b[1;3m[]\u001b[0m\n",
      "\n",
      "\u001b[1m> Finished chain.\u001b[0m\n",
      "\n",
      "\n",
      "\u001b[1m> Entering new GraphCypherQAChain chain...\u001b[0m\n",
      "Generated Cypher:\n",
      "\u001b[32;1m\u001b[1;3mMATCH (c:Condition {name: \"Atelectasis\"})-[:CAUSES]->(s:Symptom)\n",
      "RETURN s.name AS symptom\u001b[0m\n",
      "Full Context:\n",
      "\u001b[32;1m\u001b[1;3m[]\u001b[0m\n",
      "\n",
      "\u001b[1m> Finished chain.\u001b[0m\n",
      "\n",
      "\n",
      "\u001b[1m> Entering new GraphCypherQAChain chain...\u001b[0m\n",
      "Generated Cypher:\n",
      "\u001b[32;1m\u001b[1;3m\u001b[0m\n",
      "Full Context:\n",
      "\u001b[32;1m\u001b[1;3m[]\u001b[0m\n",
      "\n",
      "\u001b[1m> Finished chain.\u001b[0m\n",
      "\n",
      "\n",
      "\u001b[1m> Entering new GraphCypherQAChain chain...\u001b[0m\n",
      "Generated Cypher:\n",
      "\u001b[32;1m\u001b[1;3m\u001b[0m\n",
      "Full Context:\n",
      "\u001b[32;1m\u001b[1;3m[]\u001b[0m\n",
      "\n",
      "\u001b[1m> Finished chain.\u001b[0m\n",
      "\n",
      "\n",
      "\u001b[1m> Entering new GraphCypherQAChain chain...\u001b[0m\n",
      "Generated Cypher:\n",
      "\u001b[32;1m\u001b[1;3mMATCH (c:Condition {name: \"Atelectasis\"})<-[:CHARACTERIZED_BY]-(t:Type)\n",
      "RETURN t.name\u001b[0m\n",
      "Full Context:\n",
      "\u001b[32;1m\u001b[1;3m[]\u001b[0m\n",
      "\n",
      "\u001b[1m> Finished chain.\u001b[0m\n",
      "\n",
      "\n",
      "\u001b[1m> Entering new GraphCypherQAChain chain...\u001b[0m\n",
      "Generated Cypher:\n",
      "\u001b[32;1m\u001b[1;3m\u001b[0m\n",
      "Full Context:\n",
      "\u001b[32;1m\u001b[1;3m[]\u001b[0m\n",
      "\n",
      "\u001b[1m> Finished chain.\u001b[0m\n"
     ]
    }
   ],
   "source": [
    "res_dict = {}\n",
    "for q in questions:\n",
    "    try:\n",
    "        res = chain.run(q)\n",
    "        res_dict[q] = res.strip()\n",
    "    except:\n",
    "        res_dict[q] = \"Generated Cypher Statement is not valid\"\n",
    "# res = chain.run(\"What is Atelectasis?\")"
   ]
  },
  {
   "cell_type": "code",
   "execution_count": 11,
   "metadata": {},
   "outputs": [
    {
     "name": "stdout",
     "output_type": "stream",
     "text": [
      "Atelectasis is a medical condition characterized by the collapse or closure of a lung or a part of it.\n",
      "I'm sorry, but I don't have the information to answer your question. It would be best to consult a medical professional for accurate information on the symptoms associated with Atelectasis.\n",
      "There are several factors that can cause atelectasis. Some common causes include blockage of the airways due to mucus, a foreign object, or a tumor, as well as lung diseases such as chronic obstructive pulmonary disease (COPD) or pneumonia. Additionally, certain medical procedures, such as anesthesia or prolonged bed rest, can also contribute to the development of atelectasis. It is important to consult with a healthcare professional for a proper diagnosis and treatment plan.\n",
      "I'm sorry, but I don't have the information to answer your question. Atelectasis is a condition where the lung or a portion of it collapses, and the symptoms can vary depending on the severity and location of the collapse. It is best to consult a healthcare professional for a proper diagnosis and understanding of the relevant symptoms.\n",
      "I'm sorry, but I don't have the information to answer your question.\n",
      "I'm sorry, but I don't have the information to answer your question.\n",
      "I'm sorry, but I don't have the information to answer your question.\n",
      "I'm sorry, but I don't have access to the patient's personal relevant history for the etiological diagnosis of Atelectasis.\n"
     ]
    }
   ],
   "source": [
    "for q in questions:\n",
    "    print(res_dict[q])"
   ]
  },
  {
   "cell_type": "code",
   "execution_count": null,
   "metadata": {},
   "outputs": [],
   "source": []
  },
  {
   "cell_type": "code",
   "execution_count": 12,
   "metadata": {},
   "outputs": [
    {
     "ename": "StopIteration",
     "evalue": "",
     "output_type": "error",
     "traceback": [
      "\u001b[1;31m---------------------------------------------------------------------------\u001b[0m",
      "\u001b[1;31mStopIteration\u001b[0m                             Traceback (most recent call last)",
      "Cell \u001b[1;32mIn[12], line 1\u001b[0m\n\u001b[1;32m----> 1\u001b[0m \u001b[38;5;28;01mraise\u001b[39;00m \u001b[38;5;167;01mStopIteration\u001b[39;00m()\n",
      "\u001b[1;31mStopIteration\u001b[0m: "
     ]
    }
   ],
   "source": [
    "raise StopIteration()"
   ]
  },
  {
   "cell_type": "code",
   "execution_count": null,
   "metadata": {},
   "outputs": [
    {
     "name": "stdout",
     "output_type": "stream",
     "text": [
      "\n",
      "\n",
      "\u001b[1m> Entering new GraphCypherQAChain chain...\u001b[0m\n",
      "Generated Cypher:\n",
      "\u001b[32;1m\u001b[1;3mMATCH (c:Condition {name: 'Atelectasis'})\n",
      "RETURN c\u001b[0m\n",
      "Full Context:\n",
      "\u001b[32;1m\u001b[1;3m[{'c': {'name': 'Atelectasis', 'causedBy': 'normal exhalation or various medical conditions', 'affects': 'part or all of one lung', 'description': 'A condition where the alveoli are deflated down to little or no volume, as distinct from pulmonary consolidation, in which they are filled with liquid', 'definition': 'The collapse or closure of a lung resulting in reduced or absent gas exchange', 'unilateral': 'true', 'id': 'Atelectasis', 'alsoKnownAs': 'collapsed lung'}}]\u001b[0m\n",
      "\n",
      "\u001b[1m> Finished chain.\u001b[0m\n"
     ]
    },
    {
     "data": {
      "text/plain": [
       "'Atelectasis is a condition where part or all of one lung collapses or closes, resulting in reduced or absent gas exchange. It can be caused by normal exhalation or various medical conditions. The alveoli, which are small air sacs in the lungs, become deflated down to little or no volume. Atelectasis is also known as a collapsed lung.'"
      ]
     },
     "execution_count": 9,
     "metadata": {},
     "output_type": "execute_result"
    }
   ],
   "source": [
    "chain.run(\"What is Atelectasis?\")"
   ]
  },
  {
   "cell_type": "code",
   "execution_count": null,
   "metadata": {},
   "outputs": [
    {
     "name": "stdout",
     "output_type": "stream",
     "text": [
      "\n",
      "\n",
      "\u001b[1m> Entering new GraphCypherQAChain chain...\u001b[0m\n",
      "Generated Cypher:\n",
      "\u001b[32;1m\u001b[1;3mMATCH (c:Condition {name: 'Atelectasis'})-[:HAS_SYMPTOM]->(s:Symptom)\n",
      "RETURN s.name\u001b[0m\n",
      "Full Context:\n",
      "\u001b[32;1m\u001b[1;3m[]\u001b[0m\n",
      "\n",
      "\u001b[1m> Finished chain.\u001b[0m\n"
     ]
    },
    {
     "data": {
      "text/plain": [
       "\"I'm sorry, but I don't have the information to answer your question. It would be best to consult a medical professional for accurate information on the symptoms of Atelectasis.\""
      ]
     },
     "execution_count": 10,
     "metadata": {},
     "output_type": "execute_result"
    }
   ],
   "source": [
    "chain.run(\"What are the symptoms of Atelectasis?\")"
   ]
  },
  {
   "cell_type": "code",
   "execution_count": null,
   "metadata": {},
   "outputs": [
    {
     "name": "stdout",
     "output_type": "stream",
     "text": [
      "\n",
      "\n",
      "\u001b[1m> Entering new GraphCypherQAChain chain...\u001b[0m\n",
      "Generated Cypher:\n",
      "\u001b[32;1m\u001b[1;3mMATCH (c:Condition {name: 'Atelectasis'})-[:DUE_TO]->(cause:Cause)\n",
      "RETURN cause.name\u001b[0m\n",
      "Full Context:\n",
      "\u001b[32;1m\u001b[1;3m[]\u001b[0m\n",
      "\n",
      "\u001b[1m> Finished chain.\u001b[0m\n"
     ]
    },
    {
     "data": {
      "text/plain": [
       "'There are several factors that can cause atelectasis. Some common causes include blockage of the airways due to mucus, a foreign object, or a tumor, as well as lung diseases such as chronic obstructive pulmonary disease (COPD) or pneumonia. Additionally, certain medical procedures, such as anesthesia or prolonged bed rest, can also contribute to the development of atelectasis. It is important to consult with a healthcare professional for a proper diagnosis and treatment plan.'"
      ]
     },
     "execution_count": 11,
     "metadata": {},
     "output_type": "execute_result"
    }
   ],
   "source": [
    "chain.run(\"What can cause Atelectasis?\")"
   ]
  },
  {
   "cell_type": "code",
   "execution_count": null,
   "metadata": {},
   "outputs": [
    {
     "name": "stdout",
     "output_type": "stream",
     "text": [
      "\n",
      "\n",
      "\u001b[1m> Entering new GraphCypherQAChain chain...\u001b[0m\n",
      "Generated Cypher:\n",
      "\u001b[32;1m\u001b[1;3mMATCH (a:Condition)-[:HAS]->(s:Section)-[:MENTIONS]->(f:Finding)\n",
      "WHERE a.name = 'Atelectasis'\n",
      "RETURN f.name\u001b[0m\n",
      "Full Context:\n",
      "\u001b[32;1m\u001b[1;3m[]\u001b[0m\n",
      "\n",
      "\u001b[1m> Finished chain.\u001b[0m\n"
     ]
    },
    {
     "data": {
      "text/plain": [
       "'To diagnose Atelectasis, radiologists typically look for certain clinical features. These may include signs such as lung collapse, airway obstruction, and reduced lung volume. Additionally, they may also consider the presence of symptoms such as shortness of breath, coughing, and chest pain. By evaluating these clinical features, radiologists can make an accurate diagnosis of Atelectasis.'"
      ]
     },
     "execution_count": 12,
     "metadata": {},
     "output_type": "execute_result"
    }
   ],
   "source": [
    "chain.run(\"What clinical features radiologists need for diagnosing Atelectasis?\")"
   ]
  },
  {
   "cell_type": "code",
   "execution_count": null,
   "metadata": {},
   "outputs": [
    {
     "name": "stdout",
     "output_type": "stream",
     "text": [
      "\n",
      "\n",
      "\u001b[1m> Entering new GraphCypherQAChain chain...\u001b[0m\n",
      "Generated Cypher:\n",
      "\u001b[32;1m\u001b[1;3m\u001b[0m\n",
      "Full Context:\n",
      "\u001b[32;1m\u001b[1;3m[]\u001b[0m\n",
      "\n",
      "\u001b[1m> Finished chain.\u001b[0m\n"
     ]
    },
    {
     "data": {
      "text/plain": [
       "\"I'm sorry, but I don't have the information to answer your question about the radiographic features of Atelectasis.\""
      ]
     },
     "execution_count": 13,
     "metadata": {},
     "output_type": "execute_result"
    }
   ],
   "source": [
    "chain.run(\"what are radiographic features of Atelectasis?\")"
   ]
  },
  {
   "cell_type": "code",
   "execution_count": null,
   "metadata": {},
   "outputs": [],
   "source": []
  }
 ],
 "metadata": {
  "kernelspec": {
   "display_name": "pytorch",
   "language": "python",
   "name": "python3"
  },
  "language_info": {
   "codemirror_mode": {
    "name": "ipython",
    "version": 3
   },
   "file_extension": ".py",
   "mimetype": "text/x-python",
   "name": "python",
   "nbconvert_exporter": "python",
   "pygments_lexer": "ipython3",
   "version": "3.9.18"
  }
 },
 "nbformat": 4,
 "nbformat_minor": 2
}
