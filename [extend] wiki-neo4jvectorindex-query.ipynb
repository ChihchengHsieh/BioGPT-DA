{
 "cells": [
  {
   "cell_type": "code",
   "execution_count": 6,
   "metadata": {},
   "outputs": [],
   "source": [
    "import re\n",
    "import os\n",
    "from langchain.vectorstores.neo4j_vector import Neo4jVector\n",
    "from langchain.document_loaders import WikipediaLoader\n",
    "from langchain.embeddings.openai import OpenAIEmbeddings\n",
    "from langchain.text_splitter import (\n",
    "    CharacterTextSplitter,\n",
    "    RecursiveCharacterTextSplitter,\n",
    ")\n",
    "from langchain.graphs import Neo4jGraph\n",
    "from transformers import AutoModelForSeq2SeqLM, AutoTokenizer\n",
    "from langchain.text_splitter import TokenTextSplitter\n",
    "\n",
    "from secret import *\n",
    "import chromadb\n",
    "\n",
    "os.environ[\"OPENAI_API_KEY\"] = OPENAI_API_KEY"
   ]
  },
  {
   "cell_type": "code",
   "execution_count": 7,
   "metadata": {},
   "outputs": [],
   "source": [
    "graph = Neo4jGraph(url=\"bolt://localhost:7687\", username=\"neo4j\", password=\"test1234\")\n",
    "graph.query(\n",
    "    \"\"\"\n",
    "MATCH (n)\n",
    "DETACH DELETE n\n",
    "\"\"\"\n",
    ")\n",
    "graph.refresh_schema()\n",
    "print(graph.schema)"
   ]
  },
  {
   "cell_type": "code",
   "execution_count": 8,
   "metadata": {},
   "outputs": [],
   "source": [
    "raw_documents = WikipediaLoader(query=\"Atelectasis\").load()\n",
    "text_splitter = TokenTextSplitter(chunk_size=2048, chunk_overlap=24)\n",
    "documents = text_splitter.split_documents(raw_documents) # should I only take the first? which is the most relevant?"
   ]
  },
  {
   "cell_type": "code",
   "execution_count": 9,
   "metadata": {},
   "outputs": [],
   "source": [
    "db = Neo4jVector.from_documents(\n",
    "    documents, OpenAIEmbeddings(), url=NOE4J_URL, username=\"neo4j\", password=\"test1234\"\n",
    ")\n",
    "\n",
    "retriever = db.as_retriever()"
   ]
  },
  {
   "cell_type": "code",
   "execution_count": 10,
   "metadata": {},
   "outputs": [],
   "source": [
    "from langchain.chains import RetrievalQAWithSourcesChain\n",
    "from langchain.chat_models import ChatOpenAI"
   ]
  },
  {
   "cell_type": "code",
   "execution_count": 13,
   "metadata": {},
   "outputs": [],
   "source": [
    "chain = RetrievalQAWithSourcesChain.from_chain_type(\n",
    "    ChatOpenAI(temperature=0, model=\"gpt-3.5-turbo-16k\"), chain_type=\"stuff\", retriever=retriever\n",
    ")"
   ]
  },
  {
   "cell_type": "code",
   "execution_count": 14,
   "metadata": {},
   "outputs": [
    {
     "data": {
      "text/plain": [
       "{'answer': 'Atelectasis is the collapse or closure of a lung resulting in reduced or absent gas exchange. It is usually unilateral, affecting part or all of one lung. It is governed by English law.\\n',\n",
       " 'sources': 'https://en.wikipedia.org/wiki/Atelectasis, 28-pl'}"
      ]
     },
     "execution_count": 14,
     "metadata": {},
     "output_type": "execute_result"
    }
   ],
   "source": [
    "chain(\n",
    "    {\"question\": \"What is Atelectasis?\"},\n",
    "    return_only_outputs=True,\n",
    ")"
   ]
  },
  {
   "cell_type": "code",
   "execution_count": 17,
   "metadata": {},
   "outputs": [
    {
     "data": {
      "text/plain": [
       "{'answer': 'The symptoms of Atelectasis may include cough (not prominent), chest pain (not common), breathing difficulty (fast and shallow), low oxygen saturation, pleural effusion (transudate type), cyanosis (late sign), and increased heart rate. However, it is a common misconception that atelectasis causes fever. There is no clinical evidence supporting this speculation. Atelectasis is often a common finding in chest X-rays and other radiological studies and may be caused by normal exhalation or various medical conditions. It is usually unilateral, affecting part or all of one lung. The most common cause of atelectasis is post-surgical atelectasis, which develops in 75-90% of people undergoing general anesthesia for a surgical procedure. Other causes include pulmonary tuberculosis, smoking, and age-related factors. The diagnosis of atelectasis is generally visible on chest X-ray, and treatment depends on the underlying cause. \\n',\n",
       " 'sources': 'https://en.wikipedia.org/wiki/Atelectasis'}"
      ]
     },
     "execution_count": 17,
     "metadata": {},
     "output_type": "execute_result"
    }
   ],
   "source": [
    "chain(\n",
    "    {\"question\": \"What are the symptoms of Atelectasis?\"},\n",
    "    return_only_outputs=True,\n",
    ")"
   ]
  },
  {
   "cell_type": "code",
   "execution_count": 18,
   "metadata": {},
   "outputs": [
    {
     "data": {
      "text/plain": [
       "{'answer': 'Atelectasis can be caused by normal exhalation or by various medical conditions such as post-operative complications, surfactant deficiency, and infant respiratory distress syndrome. It can also be caused by factors such as bronchial obstruction, poor surfactant spreading, and suction. (',\n",
       " 'sources': 'https://en.wikipedia.org/wiki/Atelectasis)'}"
      ]
     },
     "execution_count": 18,
     "metadata": {},
     "output_type": "execute_result"
    }
   ],
   "source": [
    "chain(\n",
    "    {\"question\": \"What can cause Atelectasis?\"},\n",
    "    return_only_outputs=True,\n",
    ")"
   ]
  },
  {
   "cell_type": "code",
   "execution_count": 21,
   "metadata": {},
   "outputs": [
    {
     "data": {
      "text/plain": [
       "{'answer': 'For diagnosing Atelectasis, radiologists need to look for signs such as lung opacification, loss of lung volume, displacement of interlobar fissures, and mobile structures within the thorax. These features are generally visible on a chest X-ray. Additionally, clinical symptoms such as cough, chest pain, breathing difficulty, low oxygen saturation, pleural effusion, cyanosis, and increased heart rate may also be present. A CT scan or bronchoscopy may be necessary if the cause of atelectasis is not clinically apparent. \\n',\n",
       " 'sources': 'https://en.wikipedia.org/wiki/Atelectasis'}"
      ]
     },
     "execution_count": 21,
     "metadata": {},
     "output_type": "execute_result"
    }
   ],
   "source": [
    "chain(\n",
    "    {\"question\": \"What clinical features radiologists need for diagnosing Atelectasis?\"},\n",
    "    return_only_outputs=True,\n",
    ")"
   ]
  },
  {
   "cell_type": "code",
   "execution_count": 22,
   "metadata": {},
   "outputs": [
    {
     "data": {
      "text/plain": [
       "{'answer': 'Radiographic features of atelectasis include the collapse or closure of a lung resulting in reduced or absent gas exchange, unilateral involvement of part or all of one lung, and deflation of the alveoli. It is often seen in chest X-rays and other radiological studies. Atelectasis is not synonymous with pneumothorax, although it can cause atelectasis. It can be caused by normal exhalation or various medical conditions. Acute atelectasis may occur as a post-operative complication or due to surfactant deficiency. In premature babies, it can lead to infant respiratory distress syndrome. \\n',\n",
       " 'sources': 'https://en.wikipedia.org/wiki/Atelectasis'}"
      ]
     },
     "execution_count": 22,
     "metadata": {},
     "output_type": "execute_result"
    }
   ],
   "source": [
    "chain(\n",
    "    {\"question\": \"what are radiographic features of Atelectasis?\"},\n",
    "    return_only_outputs=True,\n",
    ")"
   ]
  },
  {
   "cell_type": "code",
   "execution_count": null,
   "metadata": {},
   "outputs": [],
   "source": []
  }
 ],
 "metadata": {
  "kernelspec": {
   "display_name": "pytorch",
   "language": "python",
   "name": "python3"
  },
  "language_info": {
   "codemirror_mode": {
    "name": "ipython",
    "version": 3
   },
   "file_extension": ".py",
   "mimetype": "text/x-python",
   "name": "python",
   "nbconvert_exporter": "python",
   "pygments_lexer": "ipython3",
   "version": "3.9.18"
  }
 },
 "nbformat": 4,
 "nbformat_minor": 2
}
