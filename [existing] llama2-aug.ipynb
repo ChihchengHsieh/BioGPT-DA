{
 "cells": [
  {
   "cell_type": "code",
   "execution_count": 1,
   "metadata": {},
   "outputs": [],
   "source": [
    "import os\n",
    "import pandas as pd\n",
    "\n",
    "from tqdm import tqdm\n",
    "from transformers import pipeline, set_seed\n",
    "from transformers import BioGptTokenizer, BioGptForCausalLM\n",
    "from aug.gpt import *\n",
    "import warnings\n",
    "warnings.filterwarnings(\"ignore\")\n",
    "MIMIC_EYE_PATH = \"F:\\\\mimic-eye\"\n",
    "\n",
    "REFLACX_LESION_LABEL_COLS = [\n",
    "    # \"Fibrosis\",\n",
    "    # \"Quality issue\",\n",
    "    # \"Wide mediastinum\",\n",
    "    # \"Fracture\",\n",
    "    # \"Airway wall thickening\",\n",
    "\n",
    "    ######################\n",
    "    # \"Hiatal hernia\",\n",
    "    # \"Acute fracture\",\n",
    "    # \"Interstitial lung disease\",\n",
    "    # \"Enlarged hilum\",\n",
    "    # \"Abnormal mediastinal contour\",\n",
    "    # \"High lung volume / emphysema\",\n",
    "    # \"Pneumothorax\",\n",
    "    # \"Lung nodule or mass\",\n",
    "    # \"Groundglass opacity\",\n",
    "    ######################\n",
    "    \"Pulmonary edema\",\n",
    "    \"Enlarged cardiac silhouette\",\n",
    "    \"Consolidation\",\n",
    "    \"Atelectasis\",\n",
    "    \"Pleural abnormality\",\n",
    "    # \"Support devices\",\n",
    "]\n",
    "\n",
    "\n",
    "CHEXPERT_LABEL_COLS = [\n",
    "    \"Atelectasis_chexpert\",\n",
    "    \"Cardiomegaly_chexpert\",\n",
    "    \"Consolidation_chexpert\",\n",
    "    \"Edema_chexpert\",\n",
    "    \"Enlarged Cardiomediastinum_chexpert\",\n",
    "    \"Fracture_chexpert\",\n",
    "    \"Lung Lesion_chexpert\",\n",
    "    \"Lung Opacity_chexpert\",\n",
    "    \"No Finding_chexpert\",\n",
    "    \"Pleural Effusion_chexpert\",\n",
    "    \"Pleural Other_chexpert\",\n",
    "    \"Pneumonia_chexpert\",\n",
    "    \"Pneumothorax_chexpert\",\n",
    "    \"Support Devices_chexpert\", \n",
    "]\n"
   ]
  },
  {
   "cell_type": "code",
   "execution_count": 2,
   "metadata": {},
   "outputs": [
    {
     "data": {
      "application/vnd.jupyter.widget-view+json": {
       "model_id": "0f6e3fde11ce4088b969a4a5a3b40946",
       "version_major": 2,
       "version_minor": 0
      },
      "text/plain": [
       "Loading checkpoint shards:   0%|          | 0/2 [00:00<?, ?it/s]"
      ]
     },
     "metadata": {},
     "output_type": "display_data"
    }
   ],
   "source": [
    "from transformers import AutoTokenizer, AutoModel, DistilBertForMaskedLM, BertForMaskedLM, LlamaForCausalLM, LlamaTokenizer, LlamaForCausalLM\n",
    "import torch\n",
    "from secret import *\n",
    "tokenizer = LlamaTokenizer.from_pretrained(\"meta-llama/Llama-2-7b-hf\", token=HUGGING_FACE_TOKEN)\n",
    "model = LlamaForCausalLM.from_pretrained(\"meta-llama/Llama-2-7b-hf\", token=HUGGING_FACE_TOKEN, device_map='auto', torch_dtype=torch.float16)\n",
    "# model = AutoModel.from_pretrained(\"emilyalsentzer/Bio_ClinicalBERT\")\n",
    "generator = pipeline('text-generation', model=model, tokenizer=tokenizer)\n",
    "set_seed(0)"
   ]
  },
  {
   "cell_type": "code",
   "execution_count": 3,
   "metadata": {},
   "outputs": [],
   "source": [
    "# model_id=\"meta-llama/Llama-2-7b-hf\"\n",
    "    \n",
    "# tokenizer = AutoTokenizer.from_pretrained(model_id)\n",
    "# import torch\n",
    "# model =AutoModelForCausalLM.from_pretrained(model_id, load_in_8bit=True, device_map='auto', torch_dtype=torch.float16)"
   ]
  },
  {
   "cell_type": "code",
   "execution_count": 4,
   "metadata": {},
   "outputs": [
    {
     "data": {
      "text/plain": [
       "[{'generated_text': 'The average blood pressure for human is 120/80 mmHg.'}]"
      ]
     },
     "execution_count": 4,
     "metadata": {},
     "output_type": "execute_result"
    }
   ],
   "source": [
    "generator(\"The average blood pressure for human is \",  max_new_tokens=10, num_return_sequences=1, do_sample=True)"
   ]
  },
  {
   "cell_type": "code",
   "execution_count": 5,
   "metadata": {},
   "outputs": [],
   "source": [
    "df = pd.read_csv('./spreadsheets/reflacx_clinical.csv')\n",
    "df['temperature_c'] = df['temperature'].apply(lambda f :(f-32) * 5/9 )"
   ]
  },
  {
   "cell_type": "code",
   "execution_count": 6,
   "metadata": {},
   "outputs": [],
   "source": [
    "features_to_aug =  [\n",
    "            \"temperature_c\",\n",
    "            \"heartrate\",\n",
    "            \"resprate\",\n",
    "            \"o2sat\",\n",
    "            \"sbp\",\n",
    "            \"dbp\",\n",
    "        ]\n",
    "\n",
    "feature_to_name_map = {\n",
    "    \"temperature_c\": \"body temperature in degrees Celsius\",\n",
    "    \"heartrate\": \"heart rate in beats per minute\",\n",
    "    \"resprate\": \"respiratory rate in breaths per minute\",\n",
    "    \"o2sat\": \"peripheral oxygen saturation (%)\",\n",
    "    \"sbp\": \"systolic blood pressure (mmHg)\",\n",
    "    \"dbp\":\"diastolic blood pressure (mmHg)\",\n",
    "}"
   ]
  },
  {
   "cell_type": "code",
   "execution_count": 7,
   "metadata": {},
   "outputs": [
    {
     "name": "stdout",
     "output_type": "stream",
     "text": [
      "Resolving temperature_c\n"
     ]
    },
    {
     "name": "stderr",
     "output_type": "stream",
     "text": [
      "  0%|          | 0/799 [00:00<?, ?it/s]"
     ]
    },
    {
     "name": "stderr",
     "output_type": "stream",
     "text": [
      "100%|██████████| 799/799 [02:08<00:00,  6.23it/s]\n"
     ]
    },
    {
     "name": "stdout",
     "output_type": "stream",
     "text": [
      "Resolving heartrate\n"
     ]
    },
    {
     "name": "stderr",
     "output_type": "stream",
     "text": [
      "100%|██████████| 799/799 [02:19<00:00,  5.74it/s]\n"
     ]
    },
    {
     "name": "stdout",
     "output_type": "stream",
     "text": [
      "Resolving resprate\n"
     ]
    },
    {
     "name": "stderr",
     "output_type": "stream",
     "text": [
      "100%|██████████| 799/799 [05:41<00:00,  2.34it/s]  \n"
     ]
    },
    {
     "name": "stdout",
     "output_type": "stream",
     "text": [
      "Resolving o2sat\n"
     ]
    },
    {
     "name": "stderr",
     "output_type": "stream",
     "text": [
      "100%|██████████| 799/799 [05:26<00:00,  2.45it/s]  \n"
     ]
    },
    {
     "name": "stdout",
     "output_type": "stream",
     "text": [
      "Resolving sbp\n"
     ]
    },
    {
     "name": "stderr",
     "output_type": "stream",
     "text": [
      "100%|██████████| 799/799 [09:59<00:00,  1.33it/s]  \n"
     ]
    },
    {
     "name": "stdout",
     "output_type": "stream",
     "text": [
      "Resolving dbp\n"
     ]
    },
    {
     "name": "stderr",
     "output_type": "stream",
     "text": [
      "100%|██████████| 799/799 [21:29<00:00,  1.61s/it]  \n"
     ]
    },
    {
     "name": "stdout",
     "output_type": "stream",
     "text": [
      "Resolving temperature_c\n"
     ]
    },
    {
     "name": "stderr",
     "output_type": "stream",
     "text": [
      "100%|██████████| 799/799 [03:19<00:00,  4.00it/s]\n"
     ]
    },
    {
     "name": "stdout",
     "output_type": "stream",
     "text": [
      "Resolving heartrate\n"
     ]
    },
    {
     "name": "stderr",
     "output_type": "stream",
     "text": [
      "100%|██████████| 799/799 [03:20<00:00,  3.99it/s]\n"
     ]
    },
    {
     "name": "stdout",
     "output_type": "stream",
     "text": [
      "Resolving resprate\n"
     ]
    },
    {
     "name": "stderr",
     "output_type": "stream",
     "text": [
      "100%|██████████| 799/799 [13:44<00:00,  1.03s/it]  \n"
     ]
    },
    {
     "name": "stdout",
     "output_type": "stream",
     "text": [
      "Resolving o2sat\n"
     ]
    },
    {
     "name": "stderr",
     "output_type": "stream",
     "text": [
      "100%|██████████| 799/799 [20:17<00:00,  1.52s/it]  \n"
     ]
    },
    {
     "name": "stdout",
     "output_type": "stream",
     "text": [
      "Resolving sbp\n"
     ]
    },
    {
     "name": "stderr",
     "output_type": "stream",
     "text": [
      "100%|██████████| 799/799 [03:18<00:00,  4.03it/s]\n"
     ]
    },
    {
     "name": "stdout",
     "output_type": "stream",
     "text": [
      "Resolving dbp\n"
     ]
    },
    {
     "name": "stderr",
     "output_type": "stream",
     "text": [
      "100%|██████████| 799/799 [03:20<00:00,  3.99it/s]\n"
     ]
    }
   ],
   "source": [
    "for rf in [True, False]:\n",
    "    report_format = rf\n",
    "    df = pd.read_csv('./spreadsheets/reflacx_clinical.csv')\n",
    "    df['temperature_c'] = df['temperature'].apply(lambda f :(f-32) * 5/9 )\n",
    "    df = aug_df(MIMIC_EYE_PATH, REFLACX_LESION_LABEL_COLS, features_to_aug, feature_to_name_map, df, generator, progress=[1, 25], report_format=report_format)\n",
    "    df[\"aug_temperature\"] = df[\"aug_temperature_c\"].apply(lambda c: (c*1.8)+32 if not c is None else None)\n",
    "    if report_format:\n",
    "        df.to_csv('./spreadsheets/llama2_aug_report.csv')\n",
    "    else:\n",
    "        df.to_csv('./spreadsheets/llama2_aug_text.csv')"
   ]
  },
  {
   "cell_type": "code",
   "execution_count": 8,
   "metadata": {},
   "outputs": [],
   "source": [
    "# df['temperature_c'] = df['temperature'].apply(lambda f :(f-32) * 5/9 )\n",
    "# df = aug_df(MIMIC_EYE_PATH, REFLACX_LESION_LABEL_COLS, features_to_aug, feature_to_name_map, df, generator, progress=[1, 5, 25, 50], report_format=report_format)\n",
    "# df[\"aug_temperature\"] = df[\"aug_temperature_c\"].apply(lambda c: (c*1.8)+32)"
   ]
  },
  {
   "cell_type": "code",
   "execution_count": 9,
   "metadata": {},
   "outputs": [],
   "source": [
    "# df[\"aug_temperature\"] = df[\"aug_temperature_c\"].apply(lambda c: (c*1.8)+32)\n",
    "# if report_format:\n",
    "#     df.to_csv('./spreadsheets/llama2_aug_report.csv')\n",
    "# else:\n",
    "#     df.to_csv('./spreadsheets/llama2_aug_text.csv')"
   ]
  },
  {
   "cell_type": "code",
   "execution_count": null,
   "metadata": {},
   "outputs": [],
   "source": []
  },
  {
   "cell_type": "code",
   "execution_count": 10,
   "metadata": {},
   "outputs": [],
   "source": [
    "# # df = aug_df(MIMIC_EYE_PATH, REFLACX_LESION_LABEL_COLS, features_to_aug, feature_to_name_map, df, generator, progress=[1, 5, 25, 50], report_format=report_format)\n",
    "# aug_feature_range = {f: (df[f].min(), df[f].max()) for f in features_to_aug}\n",
    "\n",
    "# for f in features_to_aug:\n",
    "#     df[f\"aug_{f}\"] = None\n",
    "\n",
    "# for f in features_to_aug:\n",
    "#     print(f\"Resolving {f}\")\n",
    "#     # aug the instance one by one\n",
    "#     for idx, data in tqdm(df.iterrows(), total=df.shape[0]):\n",
    "#         prompt = get_prompt_for_mask(\n",
    "#             MIMIC_EYE_PATH,\n",
    "#             data,\n",
    "#             REFLACX_LESION_LABEL_COLS,\n",
    "#             feature_to_name_map,\n",
    "#             f,\n",
    "#             report_format=report_format,\n",
    "#         )\n",
    "\n",
    "\n",
    "#         v = get_generated_value(\n",
    "#             mask_filler, prompt, aug_feature_range[f], top_k=100,\n",
    "#         )\n",
    "#         if v is None:\n",
    "#             print(    \n",
    "#                 f\"Couldn't find value for [{idx}] prompt: {prompt}\"\n",
    "#             )\n",
    "\n",
    "            \n",
    "#         df.at[idx, f\"aug_{f}\"] = v"
   ]
  },
  {
   "cell_type": "code",
   "execution_count": 11,
   "metadata": {},
   "outputs": [],
   "source": [
    "# df[\"aug_temperature\"] = df[\"aug_temperature_c\"].apply(lambda c: (c*1.8)+32)\n",
    "# if report_format:\n",
    "#     df.to_csv('./spreadsheets/bcb_aug_report.csv')\n",
    "# else:\n",
    "#     df.to_csv('./spreadsheets/bcb_aug_text.csv')"
   ]
  },
  {
   "cell_type": "code",
   "execution_count": null,
   "metadata": {},
   "outputs": [],
   "source": []
  }
 ],
 "metadata": {
  "kernelspec": {
   "display_name": "pytorch",
   "language": "python",
   "name": "python3"
  },
  "language_info": {
   "codemirror_mode": {
    "name": "ipython",
    "version": 3
   },
   "file_extension": ".py",
   "mimetype": "text/x-python",
   "name": "python",
   "nbconvert_exporter": "python",
   "pygments_lexer": "ipython3",
   "version": "3.9.18"
  },
  "orig_nbformat": 4
 },
 "nbformat": 4,
 "nbformat_minor": 2
}
