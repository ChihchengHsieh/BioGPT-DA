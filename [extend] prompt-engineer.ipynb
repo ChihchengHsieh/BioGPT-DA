{
 "cells": [
  {
   "cell_type": "code",
   "execution_count": 1,
   "metadata": {},
   "outputs": [],
   "source": [
    "import os, re, openai, torch\n",
    "from secret import *\n",
    "from tenacity import (\n",
    "    retry,\n",
    "    stop_after_attempt,\n",
    "    wait_random_exponential,\n",
    "    retry_if_exception_type,\n",
    ")  # for exponential backoff\n",
    "openai.api_key = OPENAI_API_KEY\n",
    "@retry(\n",
    "    retry=retry_if_exception_type(\n",
    "        (\n",
    "            openai.error.APIError,\n",
    "            openai.error.APIConnectionError,\n",
    "            openai.error.RateLimitError,\n",
    "            openai.error.ServiceUnavailableError,\n",
    "            openai.error.Timeout,\n",
    "        )\n",
    "    ),\n",
    "    wait=wait_random_exponential(multiplier=1, max=60),\n",
    "    stop=stop_after_attempt(10),\n",
    ")\n",
    "def chat_completion_with_backoff(**kwargs):\n",
    "    return openai.ChatCompletion.create(**kwargs)"
   ]
  },
  {
   "cell_type": "code",
   "execution_count": 14,
   "metadata": {},
   "outputs": [],
   "source": [
    "import pandas as pd\n",
    "adjusted_prompt_df=  pd.read_csv('[NoPK] neo4j-vector-adjusted-prompt.csv')\n"
   ]
  },
  {
   "cell_type": "code",
   "execution_count": 17,
   "metadata": {},
   "outputs": [],
   "source": [
    "from aug.features import get_report"
   ]
  },
  {
   "cell_type": "code",
   "execution_count": 20,
   "metadata": {},
   "outputs": [
    {
     "name": "stdout",
     "output_type": "stream",
     "text": [
      "EXAMINATION:  CHEST PA AND LAT  INDICATION:  History: M with chest pain  TECHNIQUE:  Chest PA and lateral  COMPARISON:    FINDINGS:   The patient is status post median sternotomy and CABG.  Cardiac mediastinal and hilar contours are unchanged with the heart size within normal limits. Minimal atherosclerotic calcifications are noted at the aortic knob. Pulmonary vasculature is normal. Calcified granuloma is seen within the right apex.  Lungs are clear. Pulmonary vasculature is normal. No pleural effusion or pneumothorax is present. Minimal degenerative changes are seen within the thoracic spine.  IMPRESSION:   No acute cardiopulmonary abnormality. LESIONS: Atelectasi. AGE: 73. GENDER: Male.\n"
     ]
    }
   ],
   "source": [
    "print(get_report(adjusted_prompt_df[adjusted_prompt_df['chest pain']==True].iloc[0]))\n"
   ]
  },
  {
   "cell_type": "code",
   "execution_count": null,
   "metadata": {},
   "outputs": [],
   "source": []
  },
  {
   "cell_type": "code",
   "execution_count": 10,
   "metadata": {},
   "outputs": [],
   "source": [
    "prompt = \"\"\"\n",
    "**Prior Knowledge:**\n",
    "=========\n",
    "Question: What are the symptoms associated with atelectasis?\n",
    "Answer: The symptoms associated with atelectasis may include cough (not prominent), chest pain (not common), breathing difficulty (fast and shallow), low oxygen saturation, pleural effusion (transudate type), cyanosis (late sign), and increased heart rate. However, atelectasis can also be asymptomatic. Fever is not a symptom of atelectasis.\n",
    "Question: What can cause atelectasis?\n",
    "Answer: Atelectasis can be caused by various medical conditions, including post-surgical complications, surfactant deficiency, and poor surfactant spreading during inspiration. It can also be caused by blockage of a bronchiole or bronchus, such as by a foreign body, mucus plug, tumor, or compression from the outside. Risk factors for atelectasis include certain types of surgery, muscle relaxation, obesity, high oxygen, lower lung segments, age, chronic obstructive pulmonary disease or asthma, and type of anesthetic.\n",
    "Question: What are the patient’s symptoms that are relevant for atelectasis?\n",
    "Answer: The relevant symptoms for atelectasis include cough (not prominent), chest pain (not common), breathing difficulty (fast and shallow), low oxygen saturation, pleural effusion (transudate type), cyanosis (late sign), and increased heart rate.\n",
    "Question: What are the relevant clinical signs for the etiological diagnosis of atelectasis?\n",
    "Answer: The relevant clinical signs for the etiological diagnosis of atelectasis may include cough, chest pain (not common), breathing difficulty (fast and shallow), low oxygen saturation, pleural effusion (transudate type), cyanosis (late sign), and increased heart rate. However, it is important to note that atelectasis can also be asymptomatic.\n",
    "Question: What are the relevant laboratory data for the etiological diagnosis of atelectasis?\n",
    "Answer: The relevant laboratory data for the etiological diagnosis of atelectasis are not provided in the given information.\n",
    "Question: What are the relevant clinical characteristics for the etiological diagnosis of atelectasis\n",
    "Answer: The relevant clinical characteristics for the etiological diagnosis of atelectasis include cough (not prominent), chest pain (not common), breathing difficulty (fast and shallow), low oxygen saturation, pleural effusion (transudate type), cyanosis (late sign), and increased heart rate. It is important to note that atelectasis does not cause fever. The incidence of fever actually decreases as the incidence of atelectasis increases. There is no clinical evidence supporting the speculation that atelectasis causes fever.\n",
    "Question: What are the patient’s personal relevant history for the etiological diagnosis of atelectasis\n",
    "Answer: The patient's personal relevant history for the etiological diagnosis of atelectasis includes post-surgical atelectasis as a common cause, as well as pulmonary tuberculosis, smoking, and old age as risk factors. Other factors associated with the development of atelectasis include the presence of chronic obstructive pulmonary disease or asthma, and the type of anesthesia used. The diagnosis of atelectasis is generally confirmed through chest X-ray, which shows small volume linear shadows, usually peripherally or at the lung bases. CT chest or bronchoscopy may be necessary to determine the cause or confirm the absence of proximal obstruction.\n",
    "=========\n",
    "\n",
    "\n",
    "\n",
    "**Report:**\n",
    "=========\n",
    "INDICATION:  Central venous line placement.  TECHNIQUE:  Frontal chest radiograph.  COMPARISON:  Chest radiograph 12:42 today.  FINDINGS:   A right subclavian catheter has been placed in the interim. The catheter terminates at the confluence of the brachiocephalic vein and superior vena cava and if indicated could be advanced 3.7 cm for termination within the low SVC.  There is no pleural effusion or pneumothorax. The cardiac silhouette remains mildly enlarged. There is no focal airspace consolidation worrisome for pneumonia.  High density material is again seen in the paritally imaged colon in the left abdomen. Cholecystectomy clips are noted. There are carotid calcifications left greater than right. LESIONS: Enlarged cardiac silhouett. AGE: 69. GENDER: Female.\n",
    "=========\n",
    "\n",
    "Base on the prior knowledge and the report above, please predict whether the patient has following symptoms/clinical signs/laboratory data/clinical characteristics/clinical history? (Note: When it's not showing in the report, it doesn't mean the patient doesn't have it. Please speculate the result.)\n",
    "1. anesthesia.\n",
    "2. asthma.\n",
    "3. asymptomatic.\n",
    "4. breathing difficulty.\n",
    "5. chest pain.\n",
    "6. chronic obstructive pulmonary disease.\n",
    "7. cough.\n",
    "8. cyanosis.\n",
    "9. fever.\n",
    "10. pleural effusion.\n",
    "11. pulmonary tuberculosis.\n",
    "12. small volume linear shadows.\n",
    "13. smoking.\n",
    "\n",
    "Please return the answer ({True/False}/False only) with reasons followed by as the example below shown. \n",
    "\n",
    "1. anesthesia: {True/False}, because...\n",
    "2. asthma: {True/False}, because...\n",
    "3. asymptomatic: {True/False}, because...\n",
    "4. breathing difficulty: {True/False}, because...\n",
    "5. chest pain: {True/False}, because...\n",
    "6. chronic obstructive pulmonary disease: {True/False}, because...\n",
    "7. cough: {True/False}, because...\n",
    "8. cyanosis: {True/False}, because...\n",
    "9. fever: {True/False}, because...\n",
    "10. pleural effusion: {True/False}, because...\n",
    "11. pulmonary tuberculosis: {True/False}, because...\n",
    "12. small volume linear shadows: {True/False}, because...\n",
    "13. smoking: {True/False}, because...\n",
    "\n",
    "\"\"\""
   ]
  },
  {
   "cell_type": "code",
   "execution_count": 63,
   "metadata": {},
   "outputs": [],
   "source": [
    "prompt_with_chest_pain = \"\"\"\n",
    "**Prior Knowledge:**\n",
    "=========\n",
    "Question: What are the symptoms associated with atelectasis?\n",
    "Answer: The symptoms associated with atelectasis may include cough (not prominent), chest pain (not common), breathing difficulty (fast and shallow), low oxygen saturation, pleural effusion (transudate type), cyanosis (late sign), and increased heart rate. However, atelectasis can also be asymptomatic. Fever is not a symptom of atelectasis.\n",
    "Question: What can cause atelectasis?\n",
    "Answer: Atelectasis can be caused by various medical conditions, including post-surgical complications, surfactant deficiency, and poor surfactant spreading during inspiration. It can also be caused by blockage of a bronchiole or bronchus, such as by a foreign body, mucus plug, tumor, or compression from the outside. Risk factors for atelectasis include certain types of surgery, muscle relaxation, obesity, high oxygen, lower lung segments, age, chronic obstructive pulmonary disease or asthma, and type of anesthetic.\n",
    "Question: What are the patient’s symptoms that are relevant for atelectasis?\n",
    "Answer: The relevant symptoms for atelectasis include cough (not prominent), chest pain (not common), breathing difficulty (fast and shallow), low oxygen saturation, pleural effusion (transudate type), cyanosis (late sign), and increased heart rate.\n",
    "Question: What are the relevant clinical signs for the etiological diagnosis of atelectasis?\n",
    "Answer: The relevant clinical signs for the etiological diagnosis of atelectasis may include cough, chest pain (not common), breathing difficulty (fast and shallow), low oxygen saturation, pleural effusion (transudate type), cyanosis (late sign), and increased heart rate. However, it is important to note that atelectasis can also be asymptomatic.\n",
    "Question: What are the relevant laboratory data for the etiological diagnosis of atelectasis?\n",
    "Answer: The relevant laboratory data for the etiological diagnosis of atelectasis are not provided in the given information.\n",
    "Question: What are the relevant clinical characteristics for the etiological diagnosis of atelectasis\n",
    "Answer: The relevant clinical characteristics for the etiological diagnosis of atelectasis include cough (not prominent), chest pain (not common), breathing difficulty (fast and shallow), low oxygen saturation, pleural effusion (transudate type), cyanosis (late sign), and increased heart rate. It is important to note that atelectasis does not cause fever. The incidence of fever actually decreases as the incidence of atelectasis increases. There is no clinical evidence supporting the speculation that atelectasis causes fever.\n",
    "Question: What are the patient’s personal relevant history for the etiological diagnosis of atelectasis\n",
    "Answer: The patient's personal relevant history for the etiological diagnosis of atelectasis includes post-surgical atelectasis as a common cause, as well as pulmonary tuberculosis, smoking, and old age as risk factors. Other factors associated with the development of atelectasis include the presence of chronic obstructive pulmonary disease or asthma, and the type of anesthesia used. The diagnosis of atelectasis is generally confirmed through chest X-ray, which shows small volume linear shadows, usually peripherally or at the lung bases. CT chest or bronchoscopy may be necessary to determine the cause or confirm the absence of proximal obstruction.\n",
    "=========\n",
    "\n",
    "\n",
    "\n",
    "**Report:**\n",
    "=========\n",
    "EXAMINATION:  CHEST PA AND LAT  INDICATION:  History: M with chest pain  TECHNIQUE:  Chest PA and lateral  COMPARISON:    FINDINGS:   The patient is status post median sternotomy and CABG.  Cardiac mediastinal and hilar contours are unchanged with the heart size within normal limits. Minimal atherosclerotic calcifications are noted at the aortic knob. Pulmonary vasculature is normal. Calcified granuloma is seen within the right apex.  Lungs are clear. Pulmonary vasculature is normal. No pleural effusion or pneumothorax is present. Minimal degenerative changes are seen within the thoracic spine.  IMPRESSION:   No acute cardiopulmonary abnormality. LESIONS: Atelectasis. AGE: 73. GENDER: Male.\n",
    "=========\n",
    "\n",
    "Please predict whether the patient has following symptoms/clinical signs/laboratory data/clinical characteristics/clinical history? (Note: When a symptom is not evident in the report, it does not necessarily imply the absence of the condition in the patient. Please consider and speculate on the potential results.)\n",
    "\n",
    "(Note: do not use the report)\n",
    "\n",
    "1. anesthesia.\n",
    "2. asthma.\n",
    "3. asymptomatic.\n",
    "4. breathing difficulty.\n",
    "5. chest pain.\n",
    "6. chronic obstructive pulmonary disease.\n",
    "7. cough.\n",
    "8. cyanosis.\n",
    "9. fever.\n",
    "10. pleural effusion.\n",
    "11. pulmonary tuberculosis.\n",
    "12. small volume linear shadows.\n",
    "13. smoking.\n",
    "\n",
    "Please return the answer ({True/False}/False only). Explain your answer.\n",
    "\"\"\""
   ]
  },
  {
   "cell_type": "code",
   "execution_count": 64,
   "metadata": {},
   "outputs": [],
   "source": [
    "res = chat_completion_with_backoff(\n",
    "        model=\"gpt-3.5-turbo\",\n",
    "        # model=\"gpt-4\",\n",
    "        messages=[\n",
    "            {\"role\": \"system\", \"content\": \"You are a helpful clinical expert.\"},\n",
    "            # {\"role\": \"system\", \"content\": \"You are an experienced radiologist. Use a keyword-based report to answer the following questions.\"},\n",
    "            {\"role\": \"user\", \"content\": prompt_with_chest_pain},\n",
    "        ],\n",
    "        temperature=0,\n",
    "        n=1,\n",
    "    )"
   ]
  },
  {
   "cell_type": "code",
   "execution_count": 65,
   "metadata": {},
   "outputs": [
    {
     "name": "stdout",
     "output_type": "stream",
     "text": [
      "\n",
      "**Prior Knowledge:**\n",
      "=========\n",
      "Question: What are the symptoms associated with atelectasis?\n",
      "Answer: The symptoms associated with atelectasis may include cough (not prominent), chest pain (not common), breathing difficulty (fast and shallow), low oxygen saturation, pleural effusion (transudate type), cyanosis (late sign), and increased heart rate. However, atelectasis can also be asymptomatic. Fever is not a symptom of atelectasis.\n",
      "Question: What can cause atelectasis?\n",
      "Answer: Atelectasis can be caused by various medical conditions, including post-surgical complications, surfactant deficiency, and poor surfactant spreading during inspiration. It can also be caused by blockage of a bronchiole or bronchus, such as by a foreign body, mucus plug, tumor, or compression from the outside. Risk factors for atelectasis include certain types of surgery, muscle relaxation, obesity, high oxygen, lower lung segments, age, chronic obstructive pulmonary disease or asthma, and type of anesthetic.\n",
      "Question: What are the patient’s symptoms that are relevant for atelectasis?\n",
      "Answer: The relevant symptoms for atelectasis include cough (not prominent), chest pain (not common), breathing difficulty (fast and shallow), low oxygen saturation, pleural effusion (transudate type), cyanosis (late sign), and increased heart rate.\n",
      "Question: What are the relevant clinical signs for the etiological diagnosis of atelectasis?\n",
      "Answer: The relevant clinical signs for the etiological diagnosis of atelectasis may include cough, chest pain (not common), breathing difficulty (fast and shallow), low oxygen saturation, pleural effusion (transudate type), cyanosis (late sign), and increased heart rate. However, it is important to note that atelectasis can also be asymptomatic.\n",
      "Question: What are the relevant laboratory data for the etiological diagnosis of atelectasis?\n",
      "Answer: The relevant laboratory data for the etiological diagnosis of atelectasis are not provided in the given information.\n",
      "Question: What are the relevant clinical characteristics for the etiological diagnosis of atelectasis\n",
      "Answer: The relevant clinical characteristics for the etiological diagnosis of atelectasis include cough (not prominent), chest pain (not common), breathing difficulty (fast and shallow), low oxygen saturation, pleural effusion (transudate type), cyanosis (late sign), and increased heart rate. It is important to note that atelectasis does not cause fever. The incidence of fever actually decreases as the incidence of atelectasis increases. There is no clinical evidence supporting the speculation that atelectasis causes fever.\n",
      "Question: What are the patient’s personal relevant history for the etiological diagnosis of atelectasis\n",
      "Answer: The patient's personal relevant history for the etiological diagnosis of atelectasis includes post-surgical atelectasis as a common cause, as well as pulmonary tuberculosis, smoking, and old age as risk factors. Other factors associated with the development of atelectasis include the presence of chronic obstructive pulmonary disease or asthma, and the type of anesthesia used. The diagnosis of atelectasis is generally confirmed through chest X-ray, which shows small volume linear shadows, usually peripherally or at the lung bases. CT chest or bronchoscopy may be necessary to determine the cause or confirm the absence of proximal obstruction.\n",
      "=========\n",
      "\n",
      "\n",
      "\n",
      "**Report:**\n",
      "=========\n",
      "EXAMINATION:  CHEST PA AND LAT  INDICATION:  History: M with chest pain  TECHNIQUE:  Chest PA and lateral  COMPARISON:    FINDINGS:   The patient is status post median sternotomy and CABG.  Cardiac mediastinal and hilar contours are unchanged with the heart size within normal limits. Minimal atherosclerotic calcifications are noted at the aortic knob. Pulmonary vasculature is normal. Calcified granuloma is seen within the right apex.  Lungs are clear. Pulmonary vasculature is normal. No pleural effusion or pneumothorax is present. Minimal degenerative changes are seen within the thoracic spine.  IMPRESSION:   No acute cardiopulmonary abnormality. LESIONS: Atelectasis. AGE: 73. GENDER: Male.\n",
      "=========\n",
      "\n",
      "Please predict whether the patient has following symptoms/clinical signs/laboratory data/clinical characteristics/clinical history? (Note: When a symptom is not evident in the report, it does not necessarily imply the absence of the condition in the patient. Please consider and speculate on the potential results.)\n",
      "\n",
      "(Note: do not use the report)\n",
      "\n",
      "1. anesthesia.\n",
      "2. asthma.\n",
      "3. asymptomatic.\n",
      "4. breathing difficulty.\n",
      "5. chest pain.\n",
      "6. chronic obstructive pulmonary disease.\n",
      "7. cough.\n",
      "8. cyanosis.\n",
      "9. fever.\n",
      "10. pleural effusion.\n",
      "11. pulmonary tuberculosis.\n",
      "12. small volume linear shadows.\n",
      "13. smoking.\n",
      "\n",
      "Please return the answer ({True/False}/False only). Explain your answer.\n",
      "\n"
     ]
    }
   ],
   "source": [
    "print(prompt_with_chest_pain)"
   ]
  },
  {
   "cell_type": "code",
   "execution_count": 67,
   "metadata": {},
   "outputs": [
    {
     "name": "stdout",
     "output_type": "stream",
     "text": [
      "1. Anesthesia - False. The report does not mention the use of anesthesia.\n",
      "2. Asthma - False. The report does not mention the presence of asthma.\n",
      "3. Asymptomatic - False. The patient has reported chest pain, which is a symptom.\n",
      "4. Breathing difficulty - False. The report does not mention any breathing difficulties.\n",
      "5. Chest pain - True. The patient has reported chest pain.\n",
      "6. Chronic obstructive pulmonary disease - False. The report does not mention the presence of chronic obstructive pulmonary disease.\n",
      "7. Cough - False. The report does not mention any cough.\n",
      "8. Cyanosis - False. The report does not mention any signs of cyanosis.\n",
      "9. Fever - False. The report does not mention any fever.\n",
      "10. Pleural effusion - False. The report specifically states that no pleural effusion is present.\n",
      "11. Pulmonary tuberculosis - False. The report does not mention the presence of pulmonary tuberculosis.\n",
      "12. Small volume linear shadows - False. The report does not mention the presence of small volume linear shadows.\n",
      "13. Smoking - False. The report does not mention any history of smoking.\n"
     ]
    }
   ],
   "source": [
    "print(res['choices'][0]['message']['content'])"
   ]
  },
  {
   "cell_type": "code",
   "execution_count": 69,
   "metadata": {},
   "outputs": [],
   "source": [
    "text= \"\"\"\"\n",
    "1. Anesthesia - False. The report does not mention the use of anesthesia.\n",
    "2. Asthma - False. The report does not mention the presence of asthma.\n",
    "3. Asymptomatic - False. The patient has reported chest pain, which is a symptom.\n",
    "4. Breathing difficulty - False. The report does not mention any breathing difficulties.\n",
    "5. Chest pain - True. The patient has reported chest pain.\n",
    "6. Chronic obstructive pulmonary disease - False. The report does not mention the presence of chronic obstructive pulmonary disease.\n",
    "7. Cough - False. The report does not mention any cough.\n",
    "8. Cyanosis - False. The report does not mention any signs of cyanosis.\n",
    "9. Fever - False. The report does not mention any fever.\n",
    "10. Pleural effusion - False. The report specifically states that no pleural effusion is present.\n",
    "11. Pulmonary tuberculosis - False. The report does not mention the presence of pulmonary tuberculosis.\n",
    "12. Small volume linear shadows - False. The report does not mention the presence of small volume linear shadows.\n",
    "13. Smoking - False. The report does not mention any history of smoking.\n",
    "\"\"\""
   ]
  },
  {
   "cell_type": "code",
   "execution_count": 83,
   "metadata": {},
   "outputs": [],
   "source": [
    "ans = text.strip().split(\"\\n\")[1][3:]\n",
    "boolean_ans = ans[ans.index(\"-\")+2:ans.index(\".\")] \n",
    "reason = ans[ans.index(\".\")+2:]\n"
   ]
  },
  {
   "cell_type": "code",
   "execution_count": 90,
   "metadata": {},
   "outputs": [
    {
     "data": {
      "text/plain": [
       "''"
      ]
     },
     "execution_count": 90,
     "metadata": {},
     "output_type": "execute_result"
    }
   ],
   "source": [
    "text.strip().split(\"\\n\")[0][3:]"
   ]
  },
  {
   "cell_type": "code",
   "execution_count": 91,
   "metadata": {},
   "outputs": [
    {
     "data": {
      "text/plain": [
       "'fsdaf'"
      ]
     },
     "execution_count": 91,
     "metadata": {},
     "output_type": "execute_result"
    }
   ],
   "source": [
    "\"fsdaf\".strip().lower()"
   ]
  },
  {
   "cell_type": "code",
   "execution_count": 36,
   "metadata": {},
   "outputs": [
    {
     "name": "stdout",
     "output_type": "stream",
     "text": [
      "1. anesthesia: False, because the report does not mention the use of anesthesia.\n",
      "2. asthma: False, because the report does not mention any history or symptoms of asthma.\n",
      "3. asymptomatic: True, because the report does not mention any symptoms associated with atelectasis such as cough, chest pain, or breathing difficulty.\n",
      "4. breathing difficulty: False, because the report does not mention any breathing difficulty.\n",
      "5. chest pain: True, because the report mentions that the patient has a history of chest pain.\n",
      "6. chronic obstructive pulmonary disease: False, because the report does not mention any history or symptoms of chronic obstructive pulmonary disease.\n",
      "7. cough: False, because the report does not mention any cough.\n",
      "8. cyanosis: False, because the report does not mention any signs of cyanosis.\n",
      "9. fever: False, because the report does not mention any fever.\n",
      "10. pleural effusion: False, because the report states \"No pleural effusion or pneumothorax is present.\"\n",
      "11. pulmonary tuberculosis: False, because the report does not mention any history or symptoms of pulmonary tuberculosis.\n",
      "12. small volume linear shadows: False, because the report does not mention any small volume linear shadows.\n",
      "13. smoking: False, because the report does not mention any history of smoking.\n"
     ]
    }
   ],
   "source": [
    "print(res['choices'][0]['message']['content'])"
   ]
  },
  {
   "cell_type": "code",
   "execution_count": 9,
   "metadata": {},
   "outputs": [
    {
     "name": "stdout",
     "output_type": "stream",
     "text": [
      "1. anesthesia: False, because the report does not mention the patient undergoing any recent anesthesia.\n",
      "2. asthma: False, because the report does not mention the patient having asthma.\n",
      "3. asymptomatic: True, because the report does not mention any symptoms that the patient is experiencing.\n",
      "4. breathing difficulty: False, because the report does not mention the patient having difficulty breathing.\n",
      "5. chest pain: False, because the report does not mention the patient experiencing chest pain.\n",
      "6. chronic obstructive pulmonary disease: False, because the report does not mention the patient having chronic obstructive pulmonary disease.\n",
      "7. cough: False, because the report does not mention the patient having a cough.\n",
      "8. cyanosis: False, because the report does not mention the patient showing signs of cyanosis.\n",
      "9. fever: False, because the report does not mention the patient having a fever.\n",
      "10. pleural effusion: False, because the report specifically states that there is no pleural effusion.\n",
      "11. pulmonary tuberculosis: False, because the report does not mention the patient having pulmonary tuberculosis.\n",
      "12. small volume linear shadows: False, because the report does not mention the presence of small volume linear shadows.\n",
      "13. smoking: False, because the report does not mention the patient having a history of smoking.\n"
     ]
    }
   ],
   "source": [
    "print(res['choices'][0]['message']['content'])"
   ]
  },
  {
   "cell_type": "code",
   "execution_count": 13,
   "metadata": {},
   "outputs": [
    {
     "name": "stdout",
     "output_type": "stream",
     "text": [
      "1. anesthesia: False, because the report does not mention the use of anesthesia.\n",
      "2. asthma: False, because the report does not mention any history or symptoms of asthma.\n",
      "3. asymptomatic: True, because the report does not mention any symptoms that are typically associated with atelectasis such as cough, chest pain, or breathing difficulty.\n",
      "4. breathing difficulty: False, because the report does not mention any signs of breathing difficulty.\n",
      "5. chest pain: False, because the report does not mention any signs of chest pain.\n",
      "6. chronic obstructive pulmonary disease: False, because the report does not mention any history or symptoms of chronic obstructive pulmonary disease.\n",
      "7. cough: False, because the report does not mention any signs of cough.\n",
      "8. cyanosis: False, because the report does not mention any signs of cyanosis.\n",
      "9. fever: False, because the report does not mention any signs of fever.\n",
      "10. pleural effusion: False, because the report specifically states that there is no pleural effusion.\n",
      "11. pulmonary tuberculosis: False, because the report does not mention any history or symptoms of pulmonary tuberculosis.\n",
      "12. small volume linear shadows: False, because the report does not mention any signs of small volume linear shadows, which are typically seen in chest X-rays of patients with atelectasis.\n",
      "13. smoking: False, because the report does not mention any history of smoking.\n"
     ]
    }
   ],
   "source": [
    "print(res['choices'][0]['message']['content'])"
   ]
  },
  {
   "cell_type": "code",
   "execution_count": 25,
   "metadata": {},
   "outputs": [
    {
     "name": "stdout",
     "output_type": "stream",
     "text": [
      "1. anesthesia: False, because the report does not mention the use of anesthesia.\n",
      "2. asthma: False, because the report does not mention any history or symptoms of asthma.\n",
      "3. asymptomatic: True, because the report does not mention any symptoms associated with atelectasis such as cough, chest pain, or breathing difficulty.\n",
      "4. breathing difficulty: False, because the report does not mention any breathing difficulty.\n",
      "5. chest pain: True, because the report mentions that the patient has a history of chest pain.\n",
      "6. chronic obstructive pulmonary disease: False, because the report does not mention any history or symptoms of chronic obstructive pulmonary disease.\n",
      "7. cough: False, because the report does not mention any cough.\n",
      "8. cyanosis: False, because the report does not mention any signs of cyanosis.\n",
      "9. fever: False, because the report does not mention any fever.\n",
      "10. pleural effusion: False, because the report states \"No pleural effusion or pneumothorax is present.\"\n",
      "11. pulmonary tuberculosis: False, because the report does not mention any history or symptoms of pulmonary tuberculosis.\n",
      "12. small volume linear shadows: False, because the report does not mention any small volume linear shadows.\n",
      "13. smoking: False, because the report does not mention any history of smoking.\n"
     ]
    }
   ],
   "source": [
    "print(res['choices'][0]['message']['content'])"
   ]
  },
  {
   "cell_type": "code",
   "execution_count": 28,
   "metadata": {},
   "outputs": [
    {
     "name": "stdout",
     "output_type": "stream",
     "text": [
      "1. anesthesia: False, because the report does not mention the patient undergoing any recent anesthesia.\n",
      "2. asthma: False, because the report does not mention the patient having asthma.\n",
      "3. asymptomatic: True, because the report does not mention any symptoms associated with atelectasis such as cough, chest pain, or breathing difficulty.\n",
      "4. breathing difficulty: False, because the report does not mention the patient having breathing difficulty.\n",
      "5. chest pain: True, because the report mentions that the patient has a history of chest pain.\n",
      "6. chronic obstructive pulmonary disease: False, because the report does not mention the patient having chronic obstructive pulmonary disease.\n",
      "7. cough: False, because the report does not mention the patient having a cough.\n",
      "8. cyanosis: False, because the report does not mention the patient having cyanosis.\n",
      "9. fever: False, because the report does not mention the patient having a fever.\n",
      "10. pleural effusion: False, because the report states \"No pleural effusion or pneumothorax is present.\"\n",
      "11. pulmonary tuberculosis: False, because the report does not mention the patient having pulmonary tuberculosis.\n",
      "12. small volume linear shadows: False, because the report does not mention the presence of small volume linear shadows.\n",
      "13. smoking: False, because the report does not mention the patient having a history of smoking.\n"
     ]
    }
   ],
   "source": [
    "print(res['choices'][0]['message']['content'])"
   ]
  },
  {
   "cell_type": "code",
   "execution_count": 33,
   "metadata": {},
   "outputs": [
    {
     "name": "stdout",
     "output_type": "stream",
     "text": [
      "1. anesthesia: False, because the report does not mention the patient undergoing any recent procedures that would require anesthesia.\n",
      "2. asthma: False, because the report does not mention any history or symptoms of asthma.\n",
      "3. asymptomatic: True, because the report does not mention any symptoms associated with atelectasis such as cough, chest pain, or breathing difficulty.\n",
      "4. breathing difficulty: False, because the report does not mention the patient experiencing any breathing difficulty.\n",
      "5. chest pain: True, because the report mentions that the patient has a history of chest pain.\n",
      "6. chronic obstructive pulmonary disease: False, because the report does not mention any history or symptoms of chronic obstructive pulmonary disease.\n",
      "7. cough: False, because the report does not mention the patient experiencing any cough.\n",
      "8. cyanosis: False, because the report does not mention any signs of cyanosis.\n",
      "9. fever: False, because the report does not mention the patient having a fever.\n",
      "10. pleural effusion: False, because the report specifically states that no pleural effusion is present.\n",
      "11. pulmonary tuberculosis: False, because the report does not mention any history or symptoms of pulmonary tuberculosis.\n",
      "12. small volume linear shadows: False, because the report does not mention the presence of small volume linear shadows, which are typically seen in atelectasis.\n",
      "13. smoking: False, because the report does not mention any history of smoking.\n"
     ]
    }
   ],
   "source": [
    "print(res['choices'][0]['message']['content'])"
   ]
  },
  {
   "cell_type": "code",
   "execution_count": 38,
   "metadata": {},
   "outputs": [
    {
     "name": "stdout",
     "output_type": "stream",
     "text": [
      "1. anesthesia: False, because there is no mention of anesthesia in the report.\n",
      "2. asthma: False, because there is no mention of asthma in the report.\n",
      "3. asymptomatic: True, because there is no mention of any symptoms in the report.\n",
      "4. breathing difficulty: False, because there is no mention of breathing difficulty in the report.\n",
      "5. chest pain: True, because the report mentions that the patient has chest pain.\n",
      "6. chronic obstructive pulmonary disease: False, because there is no mention of chronic obstructive pulmonary disease in the report.\n",
      "7. cough: False, because there is no mention of cough in the report.\n",
      "8. cyanosis: False, because there is no mention of cyanosis in the report.\n",
      "9. fever: False, because there is no mention of fever in the report.\n",
      "10. pleural effusion: False, because there is no mention of pleural effusion in the report.\n",
      "11. pulmonary tuberculosis: False, because there is no mention of pulmonary tuberculosis in the report.\n",
      "12. small volume linear shadows: True, because the report mentions \"small volume linear shadows\" in the lungs.\n",
      "13. smoking: False, because there is no mention of smoking in the report.\n"
     ]
    }
   ],
   "source": [
    "print(res['choices'][0]['message']['content'])"
   ]
  },
  {
   "cell_type": "code",
   "execution_count": null,
   "metadata": {},
   "outputs": [],
   "source": []
  }
 ],
 "metadata": {
  "kernelspec": {
   "display_name": "pytorch",
   "language": "python",
   "name": "python3"
  },
  "language_info": {
   "codemirror_mode": {
    "name": "ipython",
    "version": 3
   },
   "file_extension": ".py",
   "mimetype": "text/x-python",
   "name": "python",
   "nbconvert_exporter": "python",
   "pygments_lexer": "ipython3",
   "version": "3.9.18"
  }
 },
 "nbformat": 4,
 "nbformat_minor": 2
}
