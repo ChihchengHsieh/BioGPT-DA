{
 "cells": [
  {
   "cell_type": "code",
   "execution_count": 1,
   "metadata": {},
   "outputs": [],
   "source": [
    "import pandas as pd\n",
    "from sklearn.metrics import mean_squared_error"
   ]
  },
  {
   "cell_type": "code",
   "execution_count": 2,
   "metadata": {},
   "outputs": [],
   "source": [
    "aug_features =  [\n",
    "            \"temperature\",\n",
    "            \"heartrate\",\n",
    "            \"resprate\",\n",
    "            \"o2sat\",\n",
    "            \"sbp\",\n",
    "            \"dbp\",\n",
    "        ]"
   ]
  },
  {
   "cell_type": "code",
   "execution_count": 3,
   "metadata": {},
   "outputs": [],
   "source": [
    "df_paths = [\n",
    "    './spreadsheets/reflacx_clinical_aug_text.csv',\n",
    "    './spreadsheets/reflacx_clinical_aug_report.csv',\n",
    "]"
   ]
  },
  {
   "cell_type": "code",
   "execution_count": 2,
   "metadata": {},
   "outputs": [],
   "source": [
    "df = pd.read_csv('./spreadsheets/reflacx_clinical_aug_text.csv')"
   ]
  },
  {
   "cell_type": "code",
   "execution_count": 5,
   "metadata": {},
   "outputs": [],
   "source": [
    "import numpy as np\n",
    "from sklearn.preprocessing import StandardScaler\n",
    "\n",
    "def get_mse(path, aug_features, standardise= False):\n",
    "    df = pd.read_csv(path)\n",
    "    if standardise:\n",
    "        scaler = StandardScaler()\n",
    "        scaler.fit(df[aug_features])\n",
    "        df[aug_features] = scaler.transform(df[aug_features])\n",
    "        df[[f\"aug_{f}\" for f in aug_features]] = scaler.transform(df[[f\"aug_{f}\" for f in aug_features]].rename(columns={f\"aug_{f}\": f for f in aug_features}))\n",
    "\n",
    "    return {f: mean_squared_error(df[f], df[f\"aug_{f}\"]) for f in aug_features} "
   ]
  },
  {
   "cell_type": "code",
   "execution_count": 16,
   "metadata": {},
   "outputs": [],
   "source": [
    "mse_df = pd.DataFrame([get_mse(p, aug_features, standardise=True) for p in df_paths])\n",
    "mse_df.index = [\"text\", \"report-like\"]\n",
    "mse_df['mean'] = mse_df.mean(axis=1)"
   ]
  },
  {
   "cell_type": "code",
   "execution_count": 17,
   "metadata": {},
   "outputs": [
    {
     "data": {
      "text/html": [
       "<div>\n",
       "<style scoped>\n",
       "    .dataframe tbody tr th:only-of-type {\n",
       "        vertical-align: middle;\n",
       "    }\n",
       "\n",
       "    .dataframe tbody tr th {\n",
       "        vertical-align: top;\n",
       "    }\n",
       "\n",
       "    .dataframe thead th {\n",
       "        text-align: right;\n",
       "    }\n",
       "</style>\n",
       "<table border=\"1\" class=\"dataframe\">\n",
       "  <thead>\n",
       "    <tr style=\"text-align: right;\">\n",
       "      <th></th>\n",
       "      <th>temperature</th>\n",
       "      <th>heartrate</th>\n",
       "      <th>resprate</th>\n",
       "      <th>o2sat</th>\n",
       "      <th>sbp</th>\n",
       "      <th>dbp</th>\n",
       "      <th>mean</th>\n",
       "    </tr>\n",
       "  </thead>\n",
       "  <tbody>\n",
       "    <tr>\n",
       "      <th>text</th>\n",
       "      <td>4.112083</td>\n",
       "      <td>2.202168</td>\n",
       "      <td>16.381184</td>\n",
       "      <td>10.522749</td>\n",
       "      <td>3.966509</td>\n",
       "      <td>1.308085</td>\n",
       "      <td>6.415463</td>\n",
       "    </tr>\n",
       "    <tr>\n",
       "      <th>report-like</th>\n",
       "      <td>6.124333</td>\n",
       "      <td>1.733392</td>\n",
       "      <td>108.269147</td>\n",
       "      <td>7.798897</td>\n",
       "      <td>3.628127</td>\n",
       "      <td>1.836225</td>\n",
       "      <td>21.565020</td>\n",
       "    </tr>\n",
       "  </tbody>\n",
       "</table>\n",
       "</div>"
      ],
      "text/plain": [
       "             temperature  heartrate    resprate      o2sat       sbp  \\\n",
       "text            4.112083   2.202168   16.381184  10.522749  3.966509   \n",
       "report-like     6.124333   1.733392  108.269147   7.798897  3.628127   \n",
       "\n",
       "                  dbp       mean  \n",
       "text         1.308085   6.415463  \n",
       "report-like  1.836225  21.565020  "
      ]
     },
     "execution_count": 17,
     "metadata": {},
     "output_type": "execute_result"
    }
   ],
   "source": [
    "mse_df"
   ]
  },
  {
   "cell_type": "code",
   "execution_count": null,
   "metadata": {},
   "outputs": [],
   "source": []
  }
 ],
 "metadata": {
  "kernelspec": {
   "display_name": "pytorch",
   "language": "python",
   "name": "python3"
  },
  "language_info": {
   "codemirror_mode": {
    "name": "ipython",
    "version": 3
   },
   "file_extension": ".py",
   "mimetype": "text/x-python",
   "name": "python",
   "nbconvert_exporter": "python",
   "pygments_lexer": "ipython3",
   "version": "3.9.16"
  },
  "orig_nbformat": 4
 },
 "nbformat": 4,
 "nbformat_minor": 2
}
