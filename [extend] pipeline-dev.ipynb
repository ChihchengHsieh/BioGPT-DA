{
 "cells": [
  {
   "cell_type": "code",
   "execution_count": 1,
   "metadata": {},
   "outputs": [],
   "source": [
    "from aug.features import *\n",
    "import warnings\n",
    "warnings.filterwarnings(\"ignore\")"
   ]
  },
  {
   "cell_type": "code",
   "execution_count": 2,
   "metadata": {},
   "outputs": [],
   "source": [
    "def get_questions_by_lesion(lesion: str):\n",
    "    questions = [\n",
    "        # f\"What is {lesion}?\", # don't need the first one for extending features.\n",
    "        f\"What are the symptoms associated with {lesion}?\",\n",
    "        f\"What can cause {lesion}?\",        \n",
    "        f\"What are the patient’s symptoms that are relevant for {lesion}?\",\n",
    "        f\"What are the relevant clinical signs for the etiological diagnosis of {lesion}?\",\n",
    "        f\"What are the relevant laboratory data for the etiological diagnosis of {lesion}?\",\n",
    "        f\"What are the relevant clinical characteristics for the etiological diagnosis of {lesion}\",\n",
    "        f\"What are the patient’s personal relevant history for the etiological diagnosis of {lesion}\",\n",
    "    ]\n",
    "    return questions"
   ]
  },
  {
   "cell_type": "code",
   "execution_count": 3,
   "metadata": {},
   "outputs": [],
   "source": [
    "lesion = \"atelectasis\"\n",
    "## adding prior knowledge from 8 questions.\n",
    "questions = get_questions_by_lesion(lesion)\n",
    "documents = request_documents(lesion)\n",
    "responses = neo4jgraph_get_responses(questions, documents)\n",
    "keywords = responses_to_keywords(lesion, responses)\n",
    "keywords"
   ]
  },
  {
   "cell_type": "code",
   "execution_count": null,
   "metadata": {},
   "outputs": [],
   "source": [
    "identified_keywords = {\n",
    "    \"boolean\": [\n",
    "        \"blockage of the airways\",\n",
    "        \"chest pain\",\n",
    "        \"chronic obstructive pulmonary disease (copd)\",\n",
    "        \"collapse or closure of a lung\",\n",
    "        \"coughing\",\n",
    "        \"foreign object\",\n",
    "        \"pneumonia\",\n",
    "        \"prolonged bed rest\",\n",
    "        \"rapid breathing\",\n",
    "        \"reduced or absent gas exchange\",\n",
    "        \"shortness of breath\",\n",
    "    ],\n",
    "    \"numerical\": [\"oxygen saturation\"],  # 'low oxygen levels',\n",
    "    # 'lung diseases',\n",
    "    # 'mucus',\n",
    "    # 'pneumonia',\n",
    "    # 'surgery',\n",
    "    # 'tumor'\n",
    "}"
   ]
  },
  {
   "cell_type": "code",
   "execution_count": null,
   "metadata": {},
   "outputs": [],
   "source": [
    "# identified_keywords = {  # networkx\n",
    "#     \"boolean\": [\n",
    "#         \"abnormal chest x-ray findings\",\n",
    "#         \"abnormal lung sounds\",\n",
    "#         \"collapsed lung tissue\" \"bluish skin color\",\n",
    "#         \"chest pain\",\n",
    "#         \"coughing\",\n",
    "#         \"coughing up blood\",\n",
    "#         \"crackling sounds in the lungs\",\n",
    "#         \"decreased appetite\",\n",
    "#         \"decreased breath sounds\",\n",
    "#         \"decreased oxygen saturation\",\n",
    "#         \"difficulty breathing\",\n",
    "#         \"difficulty speaking\",\n",
    "#         \"dyspnea\",\n",
    "#         \"fatigue\",\n",
    "#         \"history of being on mechanical ventilation\",\n",
    "#         \"history of chest trauma or injury\",\n",
    "#         \"history of chronic obstructive pulmonary disease (copd)\",\n",
    "#         \"history of lung cancer\",\n",
    "#         \"history of lung diseases\",\n",
    "#         \"history of neuromuscular disorders\",\n",
    "#         \"history of prolonged bed rest or immobility\",\n",
    "#         \"history of recent surgery\",\n",
    "#         \"history of respiratory infections\",\n",
    "#         \"history of smoking for 20 years\",\n",
    "#         \"advanced age\",\n",
    "#         \"low oxygen levels\",\n",
    "#         \"obesity\",\n",
    "#         \"fungi in sputum culture\",\n",
    "#         \"presence of bacteria\",\n",
    "#         \"rapid breathing\",\n",
    "#         \"shortness of breath\",\n",
    "#         \"smoking\",\n",
    "#         \"tachypnea\",\n",
    "#         \"underlying lung diseases\",\n",
    "#         \"viruses\",\n",
    "#         \"wheezing\",\n",
    "#         \"white-out appearance in the affected area of the lung\",\n",
    "#     ],\n",
    "#     \"numerical\": [\"levels of oxygen and carbon dioxide in the blood\"],\n",
    "#     #  'amount of air that can be inhaled and exhaled',\n",
    "#     #  'use of accessory muscles',\n",
    "#     #  'viruses',\n",
    "# }"
   ]
  },
  {
   "cell_type": "code",
   "execution_count": null,
   "metadata": {},
   "outputs": [],
   "source": [
    "# identified_keywords = { # Neo4jVector\n",
    "#     \"boolean\": [\n",
    "#         \"anesthesia\",\n",
    "#         \"asthma\",\n",
    "#         \"asymptomatic\",\n",
    "#         \"blockage of the airway\",\n",
    "#         \"breathing difficulty\",\n",
    "#         \"chest pain\",\n",
    "#         \"chronic obstructive pulmonary disease\",\n",
    "#         \"cough\",\n",
    "#         \"cyanosis\",\n",
    "#         \"dilated aorta\",\n",
    "#         # \"fever\", # Can be consider as body temperature.\n",
    "#         \"hypoventilation\",\n",
    "#         \"lower lung segments\",\n",
    "#         \"lung tumor\",\n",
    "#         \"muscle relaxation\",\n",
    "#         \"obesity\",\n",
    "#         \"pleural effusion\",\n",
    "#         \"poor surfactant spreading during inspiration\",\n",
    "#         \"post-surgical complications\",\n",
    "#         \"pulmonary tuberculosis\",\n",
    "#         \"small volume linear shadows\",\n",
    "#         \"smoking\",\n",
    "#         \"surfactant deficiency\",\n",
    "#         \"type of anesthetic\",\n",
    "#         # Response: Risk factors for atelectasis include certain types of surgery, muscle relaxation, obesity, high oxygen, and lower lung segments.',\n",
    "#         \"high oxygen\",  # A cause, not a symptom. Has the patient been the situation with high oxygen.\n",
    "#     ],\n",
    "#     \"numerical\": [\n",
    "#         \"heart rate\", # \"increased heart rate\",\n",
    "#         \"oxygen saturation (%)\", # \"low oxygen saturation\",\n",
    "#         # \"age\", # \"old age\",\n",
    "#     ],\n",
    "# }"
   ]
  },
  {
   "cell_type": "code",
   "execution_count": null,
   "metadata": {},
   "outputs": [],
   "source": [
    "import pandas as pd\n",
    "df = pd.read_csv('./spreadsheets/reflacx_clinical.csv')\n",
    "sample_df = df.iloc[:100]"
   ]
  },
  {
   "cell_type": "code",
   "execution_count": null,
   "metadata": {},
   "outputs": [],
   "source": [
    "results = []\n",
    "for idx, data in sample_df.iterrows():\n",
    "    r = get_possible_values(data, identified_keywords)\n",
    "    results.append(r)"
   ]
  },
  {
   "cell_type": "code",
   "execution_count": null,
   "metadata": {},
   "outputs": [],
   "source": [
    "for f in identified_keywords['numerical'] + identified_keywords['boolean']:\n",
    "    sample_df[f] = None\n",
    "    sample_df[f] = [ r[f] for r in results]"
   ]
  },
  {
   "cell_type": "code",
   "execution_count": null,
   "metadata": {},
   "outputs": [],
   "source": [
    "sample_df.to_csv('[prior-knowledge] neo4j-vector.csv')"
   ]
  },
  {
   "cell_type": "code",
   "execution_count": null,
   "metadata": {},
   "outputs": [],
   "source": []
  },
  {
   "cell_type": "code",
   "execution_count": null,
   "metadata": {},
   "outputs": [],
   "source": []
  },
  {
   "cell_type": "code",
   "execution_count": null,
   "metadata": {},
   "outputs": [],
   "source": []
  },
  {
   "cell_type": "code",
   "execution_count": null,
   "metadata": {},
   "outputs": [],
   "source": []
  },
  {
   "cell_type": "code",
   "execution_count": null,
   "metadata": {},
   "outputs": [],
   "source": []
  },
  {
   "cell_type": "code",
   "execution_count": null,
   "metadata": {},
   "outputs": [
    {
     "ename": "StopIteration",
     "evalue": "",
     "output_type": "error",
     "traceback": [
      "\u001b[1;31m---------------------------------------------------------------------------\u001b[0m",
      "\u001b[1;31mStopIteration\u001b[0m                             Traceback (most recent call last)",
      "Cell \u001b[1;32mIn[9], line 1\u001b[0m\n\u001b[1;32m----> 1\u001b[0m \u001b[38;5;28;01mraise\u001b[39;00m \u001b[38;5;167;01mStopIteration\u001b[39;00m()\n",
      "\u001b[1;31mStopIteration\u001b[0m: "
     ]
    }
   ],
   "source": [
    "raise StopIteration()"
   ]
  },
  {
   "cell_type": "code",
   "execution_count": null,
   "metadata": {},
   "outputs": [],
   "source": [
    "import os\n",
    "from enum import Enum\n",
    "from loader.radiopaedia import RadioWebLoader\n",
    "from langchain.document_loaders import WikipediaLoader\n",
    "from langchain.text_splitter import TokenTextSplitter\n",
    "\n",
    "from langchain.indexes import GraphIndexCreator\n",
    "from langchain.graphs.networkx_graph import KnowledgeTriple\n",
    "from langchain.llms import OpenAI\n",
    "from langchain.chains import GraphQAChain\n",
    "from langchain.graphs import Neo4jGraph\n",
    "from secret import *\n",
    "\n",
    "from langchain.vectorstores.neo4j_vector import Neo4jVector\n",
    "from langchain.embeddings.openai import OpenAIEmbeddings\n",
    "from langchain.chains import RetrievalQAWithSourcesChain\n",
    "from langchain.chat_models import ChatOpenAI\n",
    "from langchain_core.documents import Document\n",
    "\n",
    "os.environ[\"OPENAI_API_KEY\"] = OPENAI_API_KEY\n",
    "\n",
    "class DocumentSource(Enum):\n",
    "    Wikipedia = \"wikipedia\"\n",
    "    Radiopaedia = \"radiopaedia\"\n",
    "\n",
    "class StoreType(Enum):\n",
    "    Neo4jVectorIndex = \"neo4jvectorindex\"\n",
    "    Neo4jGraph = \"neo4jgraph\"\n",
    "    NetworkXGraph =\"networkxgraph\"\n",
    "\n",
    "CLEAN_QUERY = \"\"\"\n",
    "    MATCH (n)\n",
    "    DETACH DELETE n\n",
    "    \"\"\"\n",
    "\n",
    "def get_questions_by_lesion(lesion: str):\n",
    "    questions = [\n",
    "        # f\"What is {lesion}?\", # don't need the first one for extending features.\n",
    "        f\"What are the symptoms associated with {lesion}?\",\n",
    "        f\"What can cause {lesion}?\",\n",
    "        f\"What are the patient’s symptoms that are relevant for {lesion}?\",\n",
    "        f\"What are the relevant clinical signs for the etiological diagnosis of {lesion}?\",\n",
    "        f\"What are the relevant laboratory data for the etiological diagnosis of {lesion}?\",\n",
    "        f\"What are the relevant clinical characteristics for the etiological diagnosis of {lesion}\",\n",
    "        f\"What are the patient’s personal relevant history for the etiological diagnosis of {lesion}\",\n",
    "    ]\n",
    "    return questions\n",
    "\n",
    "def request_documents(\n",
    "        lesion: str,\n",
    "        sources: list[DocumentSource] = [\n",
    "            DocumentSource.Radiopaedia,\n",
    "            DocumentSource.Wikipedia,\n",
    "        ],\n",
    "        top1_only=True,\n",
    "        text_splitter = TokenTextSplitter(\n",
    "            chunk_size=2048, chunk_overlap=24\n",
    "        ),\n",
    "    ):\n",
    "        raw_documents = []\n",
    "        # retrieve raw_documents\n",
    "        if DocumentSource.Radiopaedia in sources:\n",
    "            if top1_only:\n",
    "                raw_documents.extend(\n",
    "                    RadioWebLoader(lesion, only_first=True).load()\n",
    "                )\n",
    "            else:\n",
    "                raw_documents.extend(\n",
    "                    RadioWebLoader(lesion, only_first=False).load()\n",
    "                )\n",
    "\n",
    "        if DocumentSource.Wikipedia in sources:\n",
    "            if top1_only:\n",
    "                raw_documents.extend(\n",
    "                    WikipediaLoader(query=\"Atelectasis\", load_max_docs=1).load()\n",
    "                )\n",
    "            else:\n",
    "                raw_documents.extend(WikipediaLoader(query=\"Atelectasis\").load())\n",
    "\n",
    "        # pre-process documents\n",
    "        documents = text_splitter.split_documents(raw_documents)\n",
    "        return documents\n",
    "\n",
    "\n",
    "def clean_and_get_neo4jgraph(url: str=NOE4J_URL, username: str= NEO4J_USERNAME, password: str= NOE4J_PASSWORD,):\n",
    "    graph = Neo4jGraph(url=url, username=username, password=password)\n",
    "    graph.query(CLEAN_QUERY)\n",
    "    graph.refresh_schema()\n",
    "    print(graph.schema)\n",
    "    return graph\n",
    "\n",
    "def networkx_get_responses(questions: list[str], documents: list[Document]):\n",
    "    index_creator = GraphIndexCreator(llm=OpenAI(temperature=0))\n",
    "    graph = None\n",
    "    for d in documents:\n",
    "        g_temp = index_creator.from_text(d.page_content)\n",
    "        if graph is None:\n",
    "            graph = g_temp\n",
    "        else:\n",
    "            triplets = graph.get_triples()\n",
    "            for t in triplets:\n",
    "                graph.add_triple(knowledge_triple=KnowledgeTriple(*t))\n",
    "    chain = GraphQAChain.from_llm(OpenAI(temperature=0), graph=graph, verbose=True)\n",
    "    res_dict = {}\n",
    "    for q in questions:\n",
    "        res = chain.run(q)\n",
    "        res_dict[q] = res.strip()\n",
    "    return res_dict\n",
    "\n",
    "def neo4jvector_get_responses(questions: list[str], documents: list[Document]):\n",
    "    _ = clean_and_get_neo4jgraph()\n",
    "    db = Neo4jVector.from_documents(\n",
    "        documents, OpenAIEmbeddings(), url=NOE4J_URL, username=NEO4J_USERNAME, password=NOE4J_PASSWORD\n",
    "    )\n",
    "    retriever = db.as_retriever()\n",
    "    chain = RetrievalQAWithSourcesChain.from_chain_type(\n",
    "        ChatOpenAI(temperature=0, model=\"gpt-3.5-turbo-16k\"), chain_type=\"stuff\", retriever=retriever\n",
    "    )\n",
    "    res_dict = {}\n",
    "    for q in questions:\n",
    "        res = chain(\n",
    "            {\"question\": q},\n",
    "            return_only_outputs=True,\n",
    "        )\n",
    "        res_dict[q] = res[\"answer\"].strip()\n",
    "    return res_dict\n",
    "\n",
    "from tqdm import tqdm\n",
    "from aug.graph_doc import (\n",
    "    get_extraction_chain,\n",
    "    data_to_graph_doc,\n",
    "    chain_run,\n",
    "    add_graph_documents,\n",
    ")\n",
    "from langchain.chat_models import ChatOpenAI\n",
    "from langchain.chains import GraphCypherQAChain\n",
    "\n",
    "def neo4jgraph_get_responses(questions: list[str], documents: list[Document]):\n",
    "    graph = clean_and_get_neo4jgraph()\n",
    "\n",
    "    llm = ChatOpenAI(model=\"gpt-3.5-turbo-16k\", temperature=0)\n",
    "\n",
    "    allowed_nodes = None\n",
    "    allowed_rels = None\n",
    "    # allowed_nodes = [\"Symptom\", \"Disease\"]\n",
    "    # allowed_rels = [\"CAN_CAUSE\", \"DESCRIBE\", \"HAS\"]\n",
    "\n",
    "    extract_chain = get_extraction_chain(llm, allowed_nodes, allowed_rels)\n",
    "    gds = []\n",
    "\n",
    "    for d in tqdm(documents, total=len(documents)):\n",
    "        data = chain_run(extract_chain, d.page_content)\n",
    "        # data = extract_chain.run(d.page_content)\n",
    "        # graph_document = GraphDocument(\n",
    "        #     nodes=[map_to_base_node(node) for node in data.nodes],\n",
    "        #     relationships=[map_to_base_relationship(rel) for rel in data.rels],\n",
    "        #     source=d,\n",
    "        # )\n",
    "        graph_document = data_to_graph_doc(data, d)\n",
    "        # add_graph_document(graph, graph_document)\n",
    "        gds.append(graph_document)\n",
    "\n",
    "    graph = add_graph_documents(graph, gds)\n",
    "    graph.refresh_schema()\n",
    "    print(graph.schema)\n",
    "\n",
    "    chain = GraphCypherQAChain.from_llm(\n",
    "        graph=graph,\n",
    "        cypher_llm=ChatOpenAI(temperature=0, model=\"gpt-3.5-turbo-16k\"),\n",
    "        qa_llm=ChatOpenAI(temperature=0, model=\"gpt-3.5-turbo-16k\"),\n",
    "        validate_cypher=True,  # Validate relationship directions\n",
    "        verbose=True,\n",
    "    )\n",
    "\n",
    "    res_dict = {}\n",
    "    for q in questions:\n",
    "        try:\n",
    "            res = chain.run(q)\n",
    "            res_dict[q] = res.strip()\n",
    "        except:\n",
    "            res_dict[q] = \"Generated Cypher Statement is not valid\"\n",
    "    return res_dict\n",
    "\n",
    "def get_responses_from_documents(questions: list[str], documents: list[Document], store_type: StoreType):\n",
    "    if store_type == StoreType.NetworkXGraph:\n",
    "        return networkx_get_responses(questions,documents)\n",
    "    elif store_type == StoreType.Neo4jVectorIndex:\n",
    "        return neo4jvector_get_responses(questions,documents)\n",
    "    elif store_type == StoreType.Neo4jGraph:\n",
    "        return neo4jgraph_get_responses(questions,documents)\n",
    "    else:\n",
    "        raise NotImplementedError(f\"stor type {store_type} is not supported.\")\n",
    "\n",
    "import openai\n",
    "from secret import *\n",
    "openai.api_key = OPENAI_API_KEY\n",
    "\n",
    "from tenacity import (\n",
    "    retry,\n",
    "    stop_after_attempt,\n",
    "    wait_random_exponential,\n",
    "    retry_if_exception_type\n",
    ")  # for exponential backoff\n",
    "\n",
    "@retry(\n",
    "    retry=retry_if_exception_type((openai.error.APIError, openai.error.APIConnectionError, openai.error.RateLimitError, openai.error.ServiceUnavailableError, openai.error.Timeout)), \n",
    "    wait=wait_random_exponential(multiplier=1, max=60), \n",
    "    stop=stop_after_attempt(10)\n",
    ")\n",
    "def chat_completion_with_backoff(**kwargs):\n",
    "    return openai.ChatCompletion.create(**kwargs)\n",
    "\n",
    "def responses_to_keywords(lesion, responses: dict[str, str]):\n",
    "    combined_response = \" \".join(list(responses.values()))\n",
    "    prompt = f\"\"\"For the subsequent paragraph, isolate solely those clinical keywords that are can be represented as symptoms or numerical values or boolean values (note: please separate the keywords by comma): \n",
    "    \"{combined_response}\\\"\n",
    "    \"\"\"\n",
    "    res = chat_completion_with_backoff(\n",
    "                # model=\"gpt-3.5-turbo\",\n",
    "                model=\"gpt-4\",\n",
    "                messages=[\n",
    "                    {\"role\": \"system\", \"content\": \"You are a helpful clinical expert.\"},\n",
    "                    # {\"role\": \"system\", \"content\": \"You are an experienced radiologist. Use a keyword-based report to answer the following questions.\"},\n",
    "                    {\"role\": \"user\", \"content\": prompt},\n",
    "                ],\n",
    "                temperature=0,\n",
    "                n=1,\n",
    "            )\n",
    "    keywords = [k.lower().strip() for k in res['choices'][0]['message']['content'].replace(\".\", \"\").split(\",\") if lesion in k.lower().strip()  ]\n",
    "    return set(keywords)    "
   ]
  },
  {
   "cell_type": "code",
   "execution_count": null,
   "metadata": {},
   "outputs": [
    {
     "name": "stdout",
     "output_type": "stream",
     "text": [
      "Node properties are the following:\n",
      "\n",
      "Relationship properties are the following:\n",
      "\n",
      "The relationships are the following:\n",
      "\n"
     ]
    }
   ],
   "source": [
    "lesion = \"atelectasis\"\n",
    "questions = get_questions_by_lesion(lesion)\n",
    "documents = request_documents(lesion)\n",
    "responses = neo4jvector_get_responses(questions, documents)\n",
    "keywords = responses_to_keywords(lesion, responses)"
   ]
  },
  {
   "cell_type": "code",
   "execution_count": null,
   "metadata": {},
   "outputs": [
    {
     "data": {
      "text/plain": [
       "{'What are the symptoms associated with atelectasis?': 'The symptoms associated with atelectasis may include cough (not prominent), chest pain (not common), breathing difficulty (fast and shallow), low oxygen saturation, pleural effusion (transudate type), cyanosis (late sign), and increased heart rate. However, atelectasis does not cause fever.',\n",
       " 'What can cause atelectasis?': 'Atelectasis can be caused by various medical conditions, including post-surgical complications, surfactant deficiency, pulmonary tuberculosis, and blockage of the airway. It can also be caused by factors such as poor surfactant spreading during inspiration and relaxation atelectasis. Risk factors for atelectasis include certain types of surgery, muscle relaxation, obesity, high oxygen, and lower lung segments.',\n",
       " 'What are the patient’s symptoms that are relevant for atelectasis?': 'The relevant symptoms for atelectasis include cough (not prominent), chest pain (not common), breathing difficulty (fast and shallow), low oxygen saturation, pleural effusion (transudate type), cyanosis (late sign), and increased heart rate.',\n",
       " 'What are the relevant clinical signs for the etiological diagnosis of atelectasis?': 'The relevant clinical signs for the etiological diagnosis of atelectasis may include cough, chest pain (not common), breathing difficulty (fast and shallow), low oxygen saturation, pleural effusion (transudate type), cyanosis (late sign), and increased heart rate. However, it is important to note that atelectasis may also be asymptomatic.',\n",
       " 'What are the relevant laboratory data for the etiological diagnosis of atelectasis?': 'The relevant laboratory data for the etiological diagnosis of atelectasis are not provided in the given information.',\n",
       " 'What are the relevant clinical characteristics for the etiological diagnosis of atelectasis': 'The relevant clinical characteristics for the etiological diagnosis of atelectasis include cough (not prominent), chest pain (not common), breathing difficulty (fast and shallow), low oxygen saturation, pleural effusion (transudate type), cyanosis (late sign), and increased heart rate. It is important to note that atelectasis does not cause fever. The most common cause of atelectasis is post-surgical atelectasis, which develops in 75-90% of people undergoing general anesthesia for a surgical procedure. Other causes include pulmonary tuberculosis, adjacent compression (e.g., lung tumor, dilated aorta), passive atelectasis (e.g., pleural effusion, pneumothorax), dependent atelectasis (in the posterior portions of the lung due to patients not fully expanding their lungs while lying for long periods), and poor surfactant spreading during inspiration. Risk factors associated with increased likelihood of atelectasis development include type of surgery, use of muscle relaxation, obesity, high oxygen, and lower lung segments. Factors associated with the development of atelectasis include age, presence of chronic obstructive pulmonary disease or asthma, and type of anesthetic. Diagnosis of atelectasis is generally visible on chest X-ray, and chest CT or bronchoscopy may be necessary to determine the cause. Treatment involves managing the underlying cause and promoting deeper breathing if the cause is due to hypoventilation.',\n",
       " 'What are the patient’s personal relevant history for the etiological diagnosis of atelectasis': \"The patient's personal relevant history for the etiological diagnosis of atelectasis includes post-surgical atelectasis as a common cause, as well as pulmonary tuberculosis, smoking, and old age as risk factors. Other factors associated with the development of atelectasis include the presence of chronic obstructive pulmonary disease or asthma, and the type of anesthesia used. The diagnosis of atelectasis is generally confirmed through chest X-ray, which shows small volume linear shadows, usually peripherally or at the lung bases. CT chest or bronchoscopy may be necessary to determine the cause or confirm the absence of proximal obstruction.\"}"
      ]
     },
     "execution_count": 22,
     "metadata": {},
     "output_type": "execute_result"
    }
   ],
   "source": [
    "responses"
   ]
  },
  {
   "cell_type": "code",
   "execution_count": null,
   "metadata": {},
   "outputs": [
    {
     "data": {
      "text/plain": [
       "{'75-90% of people undergoing general anesthesia',\n",
       " 'asthma',\n",
       " 'asymptomatic',\n",
       " 'blockage of the airway',\n",
       " 'breathing difficulty',\n",
       " 'bronchoscopy',\n",
       " 'certain types of surgery',\n",
       " 'chest ct',\n",
       " 'chest pain',\n",
       " 'chest x-ray',\n",
       " 'chronic obstructive pulmonary disease',\n",
       " 'cough',\n",
       " 'cyanosis',\n",
       " 'dependent atelectasis',\n",
       " 'dilated aorta',\n",
       " 'fever',\n",
       " 'high oxygen',\n",
       " 'hypoventilation',\n",
       " 'increased heart rate',\n",
       " 'low oxygen saturation',\n",
       " 'lower lung segments',\n",
       " 'lung tumor',\n",
       " 'muscle relaxation',\n",
       " 'obesity',\n",
       " 'old age',\n",
       " 'passive atelectasis',\n",
       " 'pleural effusion',\n",
       " 'poor surfactant spreading during inspiration',\n",
       " 'post-surgical complications',\n",
       " 'pulmonary tuberculosis',\n",
       " 'relaxation atelectasis',\n",
       " 'small volume linear shadows',\n",
       " 'smoking',\n",
       " 'surfactant deficiency',\n",
       " 'type of anesthetic'}"
      ]
     },
     "execution_count": 21,
     "metadata": {},
     "output_type": "execute_result"
    }
   ],
   "source": [
    "keywords"
   ]
  },
  {
   "cell_type": "code",
   "execution_count": null,
   "metadata": {},
   "outputs": [],
   "source": [
    "identified_keywords = {\n",
    "    \"boolean\": [\n",
    "        \"anesthesia\",\n",
    "        \"asthma\",\n",
    "        \"asymptomatic\",\n",
    "        \"blockage of the airway\",\n",
    "        \"breathing difficulty\",\n",
    "        \"chest pain\",\n",
    "        \"chronic obstructive pulmonary disease\",\n",
    "        \"cough\",\n",
    "        \"cyanosis\",\n",
    "        \"dilated aorta\",\n",
    "        # \"fever\", # Can be consider as body temperature.\n",
    "        \"hypoventilation\",\n",
    "        \"lower lung segments\",\n",
    "        \"lung tumor\",\n",
    "        \"muscle relaxation\",\n",
    "        \"obesity\",\n",
    "        \"pleural effusion\",\n",
    "        \"poor surfactant spreading during inspiration\",\n",
    "        \"post-surgical complications\",\n",
    "        \"pulmonary tuberculosis\",\n",
    "        \"small volume linear shadows\",\n",
    "        \"smoking\",\n",
    "        \"surfactant deficiency\",\n",
    "        \"type of anesthetic\",\n",
    "        # Response: Risk factors for atelectasis include certain types of surgery, muscle relaxation, obesity, high oxygen, and lower lung segments.',\n",
    "        \"high oxygen\",  # A cause, not a symptom. Has the patient been the situation with high oxygen.\n",
    "    ],\n",
    "    \"numerical\": [\n",
    "        \"heart rate\", # \"increased heart rate\",\n",
    "        \"oxygen saturation (%)\", # \"low oxygen saturation\",\n",
    "        # \"age\", # \"old age\",\n",
    "    ],\n",
    "}\n",
    "# The features that triage table has have been commented."
   ]
  },
  {
   "cell_type": "code",
   "execution_count": null,
   "metadata": {},
   "outputs": [],
   "source": [
    "from aug.gpt import get_diagnosis\n",
    "import re\n",
    "\n",
    "MIMIC_EYE_PATH = \"F:\\\\mimic-eye\"\n",
    "\n",
    "REFLACX_LESION_LABEL_COLS = [\n",
    "    # \"Fibrosis\",\n",
    "    # \"Quality issue\",\n",
    "    # \"Wide mediastinum\",\n",
    "    # \"Fracture\",\n",
    "    # \"Airway wall thickening\",\n",
    "\n",
    "    ######################\n",
    "    # \"Hiatal hernia\",\n",
    "    # \"Acute fracture\",\n",
    "    # \"Interstitial lung disease\",\n",
    "    # \"Enlarged hilum\",\n",
    "    # \"Abnormal mediastinal contour\",\n",
    "    # \"High lung volume / emphysema\",\n",
    "    # \"Pneumothorax\",\n",
    "    # \"Lung nodule or mass\",\n",
    "    # \"Groundglass opacity\",\n",
    "    ######################\n",
    "    \"Pulmonary edema\",\n",
    "    \"Enlarged cardiac silhouette\",\n",
    "    \"Consolidation\",\n",
    "    \"Atelectasis\",\n",
    "    \"Pleural abnormality\",\n",
    "    # \"Support devices\",\n",
    "]\n",
    "\n",
    "CHEXPERT_LABEL_COLS = [\n",
    "    \"Atelectasis_chexpert\",\n",
    "    \"Cardiomegaly_chexpert\",\n",
    "    \"Consolidation_chexpert\",\n",
    "    \"Edema_chexpert\",\n",
    "    \"Enlarged Cardiomediastinum_chexpert\",\n",
    "    \"Fracture_chexpert\",\n",
    "    \"Lung Lesion_chexpert\",\n",
    "    \"Lung Opacity_chexpert\",\n",
    "    \"No Finding_chexpert\",\n",
    "    \"Pleural Effusion_chexpert\",\n",
    "    \"Pleural Other_chexpert\",\n",
    "    \"Pneumonia_chexpert\",\n",
    "    \"Pneumothorax_chexpert\",\n",
    "    \"Support Devices_chexpert\", \n",
    "]\n",
    "\n",
    "\n",
    "def get_report(\n",
    "    data,\n",
    "    mimic_eye_path: str = MIMIC_EYE_PATH,\n",
    "    label_cols: str = REFLACX_LESION_LABEL_COLS,\n",
    "    report_format=True,\n",
    "):\n",
    "    # reflacx_id = data['id']\n",
    "    patient_id = data[\"subject_id\"]\n",
    "    study_id = data[\"study_id\"]\n",
    "    # dicom_id = data['dicom_id']\n",
    "    report_path = os.path.join(\n",
    "        mimic_eye_path,\n",
    "        f\"patient_{patient_id}\",\n",
    "        \"CXR-DICOM\",\n",
    "        f\"s{study_id}.txt\",\n",
    "    )\n",
    "    with open(report_path) as f:\n",
    "        report = f.read()\n",
    "\n",
    "    report = report.strip().replace(\"FINAL REPORT\\n\", \"\").replace(\"\\n\", \"\").strip()\n",
    "\n",
    "    age = data[\"age\"]\n",
    "    gender = \"Female\" if data[\"gender\"] == \"F\" else \"Male\"\n",
    "    if report_format:\n",
    "        return re.sub(\n",
    "            \"[^0-9A-Za-z.\\s\\:']\",\n",
    "            \"\",\n",
    "            f\"{report} LESIONS:{get_diagnosis(data, label_cols)}. AGE: {age}. GENDER: {gender}.\",\n",
    "        )\n",
    "    else:\n",
    "        # return f\"A {age} years old {gender} patient diagnosed with{get_diagnosis(data, label_cols)}. And, This patient has the radiology report: \\n{report}\\nThis patients is most likely to have {feature_to_name[desired_clinical_feature]} around\"\n",
    "        # return f\"A {age} years old {gender} patient diagnosed with{get_diagnosis(data, label_cols)}. And, This patient has the radiology report: \\n{report}\\nThe {feature_to_name[desired_clinical_feature]} of this patient is around\".replace(\"_\", \"\")\n",
    "        return re.sub(\n",
    "            \"[^0-9A-Za-z.\\s\\:']\",\n",
    "            \"\",\n",
    "            f\"A {age} years old {gender} patient diagnosed with{get_diagnosis(data, label_cols)}. And, This patient has the radiology report: \\n{report}\",\n",
    "        )"
   ]
  },
  {
   "cell_type": "code",
   "execution_count": null,
   "metadata": {},
   "outputs": [],
   "source": [
    "import pandas as pd\n",
    "df = pd.read_csv('./spreadsheets/reflacx_clinical.csv')"
   ]
  },
  {
   "cell_type": "code",
   "execution_count": null,
   "metadata": {},
   "outputs": [],
   "source": [
    "def get_boolean_results(report, identified_keywords):\n",
    "    if not \"boolean\" in identified_keywords or len(identified_keywords[\"boolean\"]) <= 0:\n",
    "        return None\n",
    "\n",
    "    boolean_prompt = f\"\"\"{report}\n",
    "    According to the report above, does the patient has the following attributes? (Return True or False only, and separate the answer for each attribute by comma.)\n",
    "    \"\"\"\n",
    "    for i, k in enumerate(identified_keywords[\"boolean\"]):\n",
    "        boolean_prompt += f\"{i}. {k}.\\n\"\n",
    "\n",
    "    res = chat_completion_with_backoff(\n",
    "        # model=\"gpt-3.5-turbo\",\n",
    "        model=\"gpt-4\",\n",
    "        messages=[\n",
    "            # {\"role\": \"system\", \"content\": \"You are a helpful assistant.\"},\n",
    "            {\n",
    "                \"role\": \"system\",\n",
    "                \"content\": \"You are a medical expert.\",\n",
    "            },\n",
    "            {\n",
    "                \"role\": \"user\",\n",
    "                \"content\": boolean_prompt,\n",
    "            },\n",
    "        ],\n",
    "        temperature=0,\n",
    "        n=1,\n",
    "    )\n",
    "\n",
    "    values = res[\"choices\"][0][\"message\"][\"content\"].strip().split(\",\")\n",
    "\n",
    "    results = {\n",
    "        k: v.strip().replace(\".\", \"\") == \"True\"\n",
    "        for k, v in zip(identified_keywords[\"boolean\"], values)\n",
    "    }\n",
    "\n",
    "    return results\n",
    "\n",
    "\n",
    "def get_numerical_results(report, identified_keywords):\n",
    "    if (\n",
    "        not \"numerical\" in identified_keywords\n",
    "        or len(identified_keywords[\"numerical\"]) <= 0\n",
    "    ):\n",
    "        return None\n",
    "\n",
    "    prompt = f\"\"\"{report}\n",
    "    \"\"\"\n",
    "    for i, k in enumerate(identified_keywords[\"numerical\"]):\n",
    "        prompt += f\"{k.upper()}: [MASK].\\n\"\n",
    "\n",
    "    prompt += \"\"\"\n",
    "    What can be the numerical values covered by the token [MASK]? Please return only one single numerical values (not range) for each [MASK], and separate the answers by comma.\n",
    "    \"\"\"\n",
    "\n",
    "    res = chat_completion_with_backoff(\n",
    "        # model=\"gpt-3.5-turbo\",\n",
    "        model=\"gpt-4\",\n",
    "        messages=[\n",
    "            # {\"role\": \"system\", \"content\": \"You are a helpful assistant.\"},\n",
    "            {\n",
    "                \"role\": \"system\",\n",
    "                \"content\": \"You are a medical expert.\",\n",
    "            },\n",
    "            {\n",
    "                \"role\": \"user\",\n",
    "                \"content\": prompt,\n",
    "            },\n",
    "        ],\n",
    "        temperature=0,\n",
    "        n=1,\n",
    "    )\n",
    "\n",
    "    values = res[\"choices\"][0][\"message\"][\"content\"].strip().split(\",\")\n",
    "    values = [v.strip().replace(\".\", \"\") for v in values]\n",
    "    values = [int(v) if v.isdecimal() else None for v in values]\n",
    "\n",
    "    results = {k: v for k, v in zip(identified_keywords[\"numerical\"], values)}\n",
    "\n",
    "    return results\n",
    "\n",
    "\n",
    "def get_possible_values(\n",
    "    data: pd.Series,\n",
    "    identified_keywords: dict[str, list[str]],\n",
    "):\n",
    "    report = get_report(data)\n",
    "\n",
    "    boolean_results = get_boolean_results(report, identified_keywords)\n",
    "    numerical_results = get_numerical_results(report, identified_keywords)\n",
    "\n",
    "    results = {}\n",
    "    results.update(boolean_results)\n",
    "    results.update(numerical_results)\n",
    "\n",
    "    return results"
   ]
  },
  {
   "cell_type": "code",
   "execution_count": null,
   "metadata": {},
   "outputs": [],
   "source": [
    "results = get_possible_values(df.iloc[0], identified_keywords)"
   ]
  },
  {
   "cell_type": "code",
   "execution_count": null,
   "metadata": {},
   "outputs": [
    {
     "data": {
      "text/plain": [
       "{'anesthesia': False,\n",
       " 'asthma': False,\n",
       " 'asymptomatic': True,\n",
       " 'blockage of the airway': False,\n",
       " 'breathing difficulty': False,\n",
       " 'chest pain': False,\n",
       " 'chronic obstructive pulmonary disease': False,\n",
       " 'cough': False,\n",
       " 'cyanosis': False,\n",
       " 'dilated aorta': False,\n",
       " 'hypoventilation': False,\n",
       " 'lower lung segments': False,\n",
       " 'lung tumor': False,\n",
       " 'muscle relaxation': False,\n",
       " 'obesity': False,\n",
       " 'pleural effusion': False,\n",
       " 'poor surfactant spreading during inspiration': False,\n",
       " 'post-surgical complications': False,\n",
       " 'pulmonary tuberculosis': False,\n",
       " 'small volume linear shadows': False,\n",
       " 'smoking': False,\n",
       " 'surfactant deficiency': False,\n",
       " 'type of anesthetic': False,\n",
       " 'heart rate': 60,\n",
       " 'oxygen saturation (%)': 98}"
      ]
     },
     "execution_count": 165,
     "metadata": {},
     "output_type": "execute_result"
    }
   ],
   "source": [
    "results"
   ]
  },
  {
   "cell_type": "code",
   "execution_count": null,
   "metadata": {},
   "outputs": [],
   "source": []
  },
  {
   "cell_type": "code",
   "execution_count": null,
   "metadata": {},
   "outputs": [],
   "source": []
  },
  {
   "cell_type": "code",
   "execution_count": null,
   "metadata": {},
   "outputs": [],
   "source": [
    "data = df.iloc[0]"
   ]
  },
  {
   "cell_type": "code",
   "execution_count": null,
   "metadata": {},
   "outputs": [],
   "source": [
    "report = get_report(\n",
    "               data\n",
    "            )"
   ]
  },
  {
   "cell_type": "code",
   "execution_count": null,
   "metadata": {},
   "outputs": [
    {
     "name": "stdout",
     "output_type": "stream",
     "text": [
      "INDICATION:  Central venous line placement.  TECHNIQUE:  Frontal chest radiograph.  COMPARISON:  Chest radiograph 12:42 today.  FINDINGS:   A right subclavian catheter has been placed in the interim. The catheter terminates at the confluence of the brachiocephalic vein and superior vena cava and if indicated could be advanced 3.7 cm for termination within the low SVC.  There is no pleural effusion or pneumothorax. The cardiac silhouette remains mildly enlarged. There is no focal airspace consolidation worrisome for pneumonia.  High density material is again seen in the paritally imaged colon in the left abdomen. Cholecystectomy clips are noted. There are carotid calcifications left greater than right. LESIONS: Enlarged cardiac silhouett. AGE: 69. GENDER: Female.\n"
     ]
    }
   ],
   "source": [
    "print(report)"
   ]
  },
  {
   "cell_type": "code",
   "execution_count": null,
   "metadata": {},
   "outputs": [],
   "source": [
    "prompt = f\"\"\"{report}\n",
    "According to the report above, does the patient has the following attributes? (Return True or False only, and separate the answer for each attribute by comma.)\n",
    "\"\"\""
   ]
  },
  {
   "cell_type": "code",
   "execution_count": null,
   "metadata": {},
   "outputs": [
    {
     "data": {
      "text/plain": [
       "'INDICATION:  Central venous line placement.  TECHNIQUE:  Frontal chest radiograph.  COMPARISON:  Chest radiograph 12:42 today.  FINDINGS:   A right subclavian catheter has been placed in the interim. The catheter terminates at the confluence of the brachiocephalic vein and superior vena cava and if indicated could be advanced 3.7 cm for termination within the low SVC.  There is no pleural effusion or pneumothorax. The cardiac silhouette remains mildly enlarged. There is no focal airspace consolidation worrisome for pneumonia.  High density material is again seen in the paritally imaged colon in the left abdomen. Cholecystectomy clips are noted. There are carotid calcifications left greater than right. LESIONS: Enlarged cardiac silhouett. AGE: 69. GENDER: Female.\\nAccording to the report above, does the patient has the following attributes? (Return True or False only, and separate the answer for each attribute by comma)\\n'"
      ]
     },
     "execution_count": 74,
     "metadata": {},
     "output_type": "execute_result"
    }
   ],
   "source": [
    "prompt"
   ]
  },
  {
   "cell_type": "code",
   "execution_count": null,
   "metadata": {},
   "outputs": [],
   "source": [
    "for i, k in enumerate(identified_keywords['boolean']):\n",
    "    prompt += f\"{i}. {k}.\\n\""
   ]
  },
  {
   "cell_type": "code",
   "execution_count": null,
   "metadata": {},
   "outputs": [
    {
     "data": {
      "text/plain": [
       "'INDICATION:  Central venous line placement.  TECHNIQUE:  Frontal chest radiograph.  COMPARISON:  Chest radiograph 12:42 today.  FINDINGS:   A right subclavian catheter has been placed in the interim. The catheter terminates at the confluence of the brachiocephalic vein and superior vena cava and if indicated could be advanced 3.7 cm for termination within the low SVC.  There is no pleural effusion or pneumothorax. The cardiac silhouette remains mildly enlarged. There is no focal airspace consolidation worrisome for pneumonia.  High density material is again seen in the paritally imaged colon in the left abdomen. Cholecystectomy clips are noted. There are carotid calcifications left greater than right. LESIONS: Enlarged cardiac silhouett. AGE: 69. GENDER: Female.\\nAccording to the report above, does the patient has the following attributes? (Return True or False only, and separate the answer for each attribute by comma)\\n0. anesthesia.\\n1. asthma.\\n2. asymptomatic.\\n3. blockage of the airway.\\n4. breathing difficulty.\\n5. chest pain.\\n6. chronic obstructive pulmonary disease.\\n7. cough.\\n8. cyanosis.\\n9. dilated aorta.\\n10. hypoventilation.\\n11. lower lung segments.\\n12. lung tumor.\\n13. muscle relaxation.\\n14. obesity.\\n15. pleural effusion.\\n16. poor surfactant spreading during inspiration.\\n17. post-surgical complications.\\n18. pulmonary tuberculosis.\\n19. small volume linear shadows.\\n20. smoking.\\n21. surfactant deficiency.\\n22. type of anesthetic.\\n23. high oxygen.\\n'"
      ]
     },
     "execution_count": 76,
     "metadata": {},
     "output_type": "execute_result"
    }
   ],
   "source": [
    "prompt"
   ]
  },
  {
   "cell_type": "code",
   "execution_count": null,
   "metadata": {},
   "outputs": [],
   "source": [
    "res = chat_completion_with_backoff(\n",
    "    # model=\"gpt-3.5-turbo\",\n",
    "    model=\"gpt-4\",\n",
    "    messages=[\n",
    "        # {\"role\": \"system\", \"content\": \"You are a helpful assistant.\"},\n",
    "        {\n",
    "            \"role\": \"system\",\n",
    "            \"content\": \"You are a medical expert.\",\n",
    "        },\n",
    "        {\n",
    "            \"role\": \"user\",\n",
    "            \"content\": prompt,\n",
    "        },\n",
    "    ],\n",
    "    temperature=0,\n",
    "    n=1,\n",
    ")"
   ]
  },
  {
   "cell_type": "code",
   "execution_count": null,
   "metadata": {},
   "outputs": [
    {
     "data": {
      "text/plain": [
       "<OpenAIObject chat.completion id=chatcmpl-8kS2v281iRh0lMfVx3gZ7N2Sf4GDo at 0x234544b7b80> JSON: {\n",
       "  \"id\": \"chatcmpl-8kS2v281iRh0lMfVx3gZ7N2Sf4GDo\",\n",
       "  \"object\": \"chat.completion\",\n",
       "  \"created\": 1706081589,\n",
       "  \"model\": \"gpt-4-0613\",\n",
       "  \"choices\": [\n",
       "    {\n",
       "      \"index\": 0,\n",
       "      \"message\": {\n",
       "        \"role\": \"assistant\",\n",
       "        \"content\": \"False, False, True, False, False, False, False, False, False, False, False, False, False, False, False, False, False, False, False, False, False, False, False.\"\n",
       "      },\n",
       "      \"logprobs\": null,\n",
       "      \"finish_reason\": \"stop\"\n",
       "    }\n",
       "  ],\n",
       "  \"usage\": {\n",
       "    \"prompt_tokens\": 379,\n",
       "    \"completion_tokens\": 46,\n",
       "    \"total_tokens\": 425\n",
       "  },\n",
       "  \"system_fingerprint\": null\n",
       "}"
      ]
     },
     "execution_count": 78,
     "metadata": {},
     "output_type": "execute_result"
    }
   ],
   "source": [
    "res['choices'][0]['message']['conten"
   ]
  },
  {
   "cell_type": "code",
   "execution_count": null,
   "metadata": {},
   "outputs": [],
   "source": [
    "prompt = f\"\"\"{report}\n",
    "According to the report above, what are the possible values of following attributes for the patient? (Return numerical value only, and separate the answer for each attribute by comma.)\n",
    "\"\"\""
   ]
  },
  {
   "cell_type": "code",
   "execution_count": null,
   "metadata": {},
   "outputs": [],
   "source": [
    "prompt = f\"\"\"{report}\n",
    "\"\"\"\n",
    "for i, k in enumerate(identified_keywords['numerical']):\n",
    "    prompt += f\"{k.upper()}: [MASK].\\n\"\n",
    "\n",
    "prompt+=\"\"\"\n",
    "What can be the numerical values covered by the token [MASK]? Please return only one single numerical values (not range) for each [MASK], and separate the answers by comma.\n",
    "\"\"\""
   ]
  },
  {
   "cell_type": "code",
   "execution_count": null,
   "metadata": {},
   "outputs": [],
   "source": [
    "# prompt +=\"\"\"\n",
    "# In case the report lacks the required information, please make an attempt to estimate a plausible value. \n",
    "# For the answers, please return numerical value only.\n",
    "# \"\"\""
   ]
  },
  {
   "cell_type": "code",
   "execution_count": null,
   "metadata": {},
   "outputs": [],
   "source": [
    "prompt = f\"\"\"{report}\n",
    "\"\"\"\n",
    "for i, k in enumerate(identified_keywords['numerical']):\n",
    "    prompt += f\"{k.upper()}: [MASK].\\n\"\n",
    "\n",
    "prompt+=\"\"\"\n",
    "What can be the numerical values covered by the token [MASK]? Please return only one single numerical values (not range) for each [MASK], and separate the answers by comma.\n",
    "\"\"\"\n",
    "\n",
    "res = chat_completion_with_backoff(\n",
    "    # model=\"gpt-3.5-turbo\",\n",
    "    model=\"gpt-4\",\n",
    "    messages=[\n",
    "        # {\"role\": \"system\", \"content\": \"You are a helpful assistant.\"},\n",
    "        {\n",
    "            \"role\": \"system\",\n",
    "            \"content\": \"You are a medical expert.\",\n",
    "        },\n",
    "        {\n",
    "            \"role\": \"user\",\n",
    "            \"content\": prompt,\n",
    "        },\n",
    "    ],\n",
    "    temperature=0,\n",
    "    n=1,\n",
    ")"
   ]
  },
  {
   "cell_type": "code",
   "execution_count": null,
   "metadata": {},
   "outputs": [
    {
     "data": {
      "text/plain": [
       "'60, 98'"
      ]
     },
     "execution_count": 148,
     "metadata": {},
     "output_type": "execute_result"
    }
   ],
   "source": [
    "res['choices'][0]['message']['content']"
   ]
  },
  {
   "cell_type": "markdown",
   "metadata": {},
   "source": []
  },
  {
   "cell_type": "code",
   "execution_count": null,
   "metadata": {},
   "outputs": [],
   "source": []
  },
  {
   "cell_type": "code",
   "execution_count": null,
   "metadata": {},
   "outputs": [],
   "source": []
  },
  {
   "cell_type": "code",
   "execution_count": null,
   "metadata": {},
   "outputs": [],
   "source": []
  },
  {
   "cell_type": "code",
   "execution_count": null,
   "metadata": {},
   "outputs": [],
   "source": []
  },
  {
   "cell_type": "code",
   "execution_count": null,
   "metadata": {},
   "outputs": [],
   "source": []
  }
 ],
 "metadata": {
  "kernelspec": {
   "display_name": "pytorch",
   "language": "python",
   "name": "python3"
  },
  "language_info": {
   "codemirror_mode": {
    "name": "ipython",
    "version": 3
   },
   "file_extension": ".py",
   "mimetype": "text/x-python",
   "name": "python",
   "nbconvert_exporter": "python",
   "pygments_lexer": "ipython3",
   "version": "3.9.18"
  }
 },
 "nbformat": 4,
 "nbformat_minor": 2
}
