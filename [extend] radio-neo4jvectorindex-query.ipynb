{
 "cells": [
  {
   "cell_type": "code",
   "execution_count": 1,
   "metadata": {},
   "outputs": [],
   "source": [
    "import re\n",
    "import os\n",
    "from langchain.vectorstores.neo4j_vector import Neo4jVector\n",
    "from langchain.document_loaders import WikipediaLoader\n",
    "from langchain.embeddings.openai import OpenAIEmbeddings\n",
    "from langchain.text_splitter import (\n",
    "    CharacterTextSplitter,\n",
    "    RecursiveCharacterTextSplitter,\n",
    ")\n",
    "from langchain.graphs import Neo4jGraph\n",
    "from transformers import AutoModelForSeq2SeqLM, AutoTokenizer\n",
    "from langchain.text_splitter import TokenTextSplitter\n",
    "\n",
    "from secret import *\n",
    "import chromadb\n",
    "\n",
    "os.environ[\"OPENAI_API_KEY\"] = OPENAI_API_KEY"
   ]
  },
  {
   "cell_type": "code",
   "execution_count": 2,
   "metadata": {},
   "outputs": [
    {
     "name": "stdout",
     "output_type": "stream",
     "text": [
      "\n",
      "        Node properties are the following:\n",
      "        []\n",
      "        Relationship properties are the following:\n",
      "        []\n",
      "        The relationships are the following:\n",
      "        []\n",
      "        \n"
     ]
    }
   ],
   "source": [
    "graph = Neo4jGraph(url=\"bolt://localhost:7687\", username=\"neo4j\", password=\"test1234\")\n",
    "graph.query(\n",
    "    \"\"\"\n",
    "MATCH (n)\n",
    "DETACH DELETE n\n",
    "\"\"\"\n",
    ")\n",
    "graph.refresh_schema()\n",
    "print(graph.schema)"
   ]
  },
  {
   "cell_type": "code",
   "execution_count": 3,
   "metadata": {},
   "outputs": [
    {
     "data": {
      "text/plain": [
       "['https://radiopaedia.org/articles/atelectasis-summary?lang=gb',\n",
       " 'https://radiopaedia.org/articles/linear-atelectasis?lang=gb',\n",
       " 'https://radiopaedia.org/articles/lung-atelectasis?lang=gb',\n",
       " 'https://radiopaedia.org/articles/subsegmental-atelectasis?lang=gb',\n",
       " 'https://radiopaedia.org/articles/round-atelectasis?lang=gb',\n",
       " 'https://radiopaedia.org/articles/passive-atelectasis-1?lang=gb',\n",
       " 'https://radiopaedia.org/articles/compressive-atelectasis?lang=gb',\n",
       " 'https://radiopaedia.org/articles/cicatrisation-atelectasis?lang=gb',\n",
       " 'https://radiopaedia.org/articles/segmental-atelectasis?lang=gb',\n",
       " 'https://radiopaedia.org/articles/adhesive-atelectasis?lang=gb',\n",
       " 'https://radiopaedia.org/articles/resorptive-obstructive-atelectasis?lang=gb',\n",
       " 'https://radiopaedia.org/articles/chronic-maxillary-atelectasis?lang=gb',\n",
       " 'https://radiopaedia.org/articles/middle-ear-atelectasis?lang=gb',\n",
       " 'https://radiopaedia.org/articles/gravity-dependent-atelectasis-1?lang=gb',\n",
       " 'https://radiopaedia.org/articles/crow-feet-sign-round-atelectasis?lang=gb',\n",
       " 'https://radiopaedia.org/articles/osteophyte-induced-adjacent-pulmonary-atelectasis-and-fibrosis-1?lang=gb',\n",
       " 'https://radiopaedia.org/articles/lobar-lung-collapse?lang=gb',\n",
       " 'https://radiopaedia.org/articles/anectasis?lang=gb',\n",
       " 'https://radiopaedia.org/articles/right-middle-lobe-collapse?lang=gb',\n",
       " 'https://radiopaedia.org/articles/left-lower-lobe-collapse?lang=gb']"
      ]
     },
     "execution_count": 3,
     "metadata": {},
     "output_type": "execute_result"
    }
   ],
   "source": [
    "import logging\n",
    "from urllib.parse import urljoin\n",
    "import requests\n",
    "from bs4 import BeautifulSoup\n",
    "\n",
    "search_query = \"atelectasis\"\n",
    "URL = f\"https://radiopaedia.org/search?lang=gb&q={search_query}&scope=articles\"\n",
    "page = requests.get(URL)\n",
    "soup = BeautifulSoup(page.content, \"html.parser\")\n",
    "radio_address = \"https://radiopaedia.org\"\n",
    "all_address = [\n",
    "    f\"{radio_address}{e['href']}\"\n",
    "    for e in soup.find_all(\"a\", class_=\"search-result search-result-article\")\n",
    "]\n",
    "all_address"
   ]
  },
  {
   "cell_type": "code",
   "execution_count": 4,
   "metadata": {},
   "outputs": [],
   "source": [
    "from langchain.document_loaders import DiffbotLoader\n",
    "\n",
    "raw_documents = DiffbotLoader(\n",
    "    urls=all_address,\n",
    "    api_token=DIFFBOT_API_TOKEN,\n",
    ").load()\n",
    "text_splitter = TokenTextSplitter(chunk_size=2048, chunk_overlap=24)\n",
    "documents = text_splitter.split_documents(\n",
    "    raw_documents\n",
    ")  # should I only take the first? which is the most relevant?"
   ]
  },
  {
   "cell_type": "code",
   "execution_count": 5,
   "metadata": {},
   "outputs": [],
   "source": [
    "db = Neo4jVector.from_documents(\n",
    "    documents, OpenAIEmbeddings(), url=NOE4J_URL, username=\"neo4j\", password=\"test1234\"\n",
    ")\n",
    "\n",
    "retriever = db.as_retriever()\n",
    "# 4s"
   ]
  },
  {
   "cell_type": "code",
   "execution_count": 6,
   "metadata": {},
   "outputs": [],
   "source": [
    "from langchain.chains import RetrievalQAWithSourcesChain\n",
    "from langchain.chat_models import ChatOpenAI"
   ]
  },
  {
   "cell_type": "code",
   "execution_count": 7,
   "metadata": {},
   "outputs": [],
   "source": [
    "chain = RetrievalQAWithSourcesChain.from_chain_type(\n",
    "    ChatOpenAI(temperature=0, model=\"gpt-3.5-turbo-16k\"), chain_type=\"stuff\", retriever=retriever\n",
    ")"
   ]
  },
  {
   "cell_type": "code",
   "execution_count": 8,
   "metadata": {},
   "outputs": [
    {
     "data": {
      "text/plain": [
       "{'answer': 'Atelectasis refers to collapse or incomplete expansion of pulmonary parenchyma. It can be classified based on underlying mechanism (resorptive, passive, compressive, cicatrisation, adhesive, gravity dependent) or by morphology (linear, round, lung, lobar, segmental, subsegmental). The radiographic features of atelectasis vary depending on the underlying mechanism and type. It is better appreciated on CT scans. Segmental atelectasis specifically refers to the collapse of one or several segments of a lung lobe. \\n',\n",
       " 'sources': ''}"
      ]
     },
     "execution_count": 8,
     "metadata": {},
     "output_type": "execute_result"
    }
   ],
   "source": [
    "chain(\n",
    "    {\"question\": \"What is Atelectasis?\"},\n",
    "    return_only_outputs=True,\n",
    ")"
   ]
  },
  {
   "cell_type": "code",
   "execution_count": 9,
   "metadata": {},
   "outputs": [
    {
     "data": {
      "text/plain": [
       "{'answer': 'The symptoms of Atelectasis can vary depending on the underlying cause. Common symptoms include breathlessness and cough, but it can also be asymptomatic. The presentation of symptoms also depends on the extent and speed of development of atelectasis. Physical examination may reveal diminished movement of the affected area, dullness on percussion, decreased or absent breath sounds, and deviation of the trachea. Treatment involves managing the underlying cause and may include deeper breathing exercises. Imaging, such as chest x-ray or CT, can confirm the presence of atelectasis and help determine the cause. \\n',\n",
       " 'sources': ''}"
      ]
     },
     "execution_count": 9,
     "metadata": {},
     "output_type": "execute_result"
    }
   ],
   "source": [
    "chain(\n",
    "    {\"question\": \"What are the symptoms of Atelectasis?\"},\n",
    "    return_only_outputs=True,\n",
    ")"
   ]
  },
  {
   "cell_type": "code",
   "execution_count": 10,
   "metadata": {},
   "outputs": [
    {
     "data": {
      "text/plain": [
       "{'answer': 'Atelectasis can be caused by various factors, including adjacent compression (such as a lung tumor or dilated aorta), passive atelectasis (when the lung relaxes away from the pleural surface), dependent atelectasis (due to patients not fully expanding their lungs while lying for long periods), and adhesive atelectasis (due to a decrease or absence of pulmonary surfactant). Other causes include simple pneumothorax, diaphragmatic abnormalities, conditions of hypoventilation, pleural effusion, and chest wall mass lesions. Cicatrisation atelectasis can occur as a result of scarring or fibrosis. \\n',\n",
       " 'sources': ''}"
      ]
     },
     "execution_count": 10,
     "metadata": {},
     "output_type": "execute_result"
    }
   ],
   "source": [
    "chain(\n",
    "    {\"question\": \"What can cause Atelectasis?\"},\n",
    "    return_only_outputs=True,\n",
    ")"
   ]
  },
  {
   "cell_type": "code",
   "execution_count": 11,
   "metadata": {},
   "outputs": [
    {
     "data": {
      "text/plain": [
       "{'answer': 'Radiologists need to look for the following clinical features for diagnosing Atelectasis:\\n- Small volume linear shadows on chest x-rays, usually peripherally or at the lung bases.\\n- Triangular opacity in the posteromedial aspect of the left lung (retrocardiac sail sign) for left lower lobe collapse.\\n- Linear bands radiating from a mass into adjacent lung tissue resembling the feet of a crow for round atelectasis.\\n- Loss of negative intrapleural pressure leading to relaxation of the lung and possible hypoxia and respiratory failure for passive atelectasis.\\n',\n",
       " 'sources': ''}"
      ]
     },
     "execution_count": 11,
     "metadata": {},
     "output_type": "execute_result"
    }
   ],
   "source": [
    "chain(\n",
    "    {\"question\": \"What clinical features radiologists need for diagnosing Atelectasis?\"},\n",
    "    return_only_outputs=True,\n",
    ")"
   ]
  },
  {
   "cell_type": "code",
   "execution_count": 12,
   "metadata": {},
   "outputs": [
    {
     "data": {
      "text/plain": [
       "{'answer': 'Radiographic features of atelectasis include small volume linear shadows on chest x-rays, usually peripherally or at the lung bases. CT scans can provide a more accurate depiction of the involved lung and can help determine the cause of atelectasis. Other radiographic features may include displacement of interlobar fissures, crowding of pulmonary vessels and bronchi, and compensatory hyperexpansion of the surrounding or contralateral lung. Linear atelectasis, also known as Fleischner lines, may appear as thin, linear densities in the lung bases parallel to the diaphragm. Segmental atelectasis refers to the collapse of one or several segments of a lung lobe. The crow feet sign is a characteristic feature seen in round atelectasis on CT scans, appearing as linear bands radiating from a mass into adjacent lung tissue. \\n',\n",
       " 'sources': ''}"
      ]
     },
     "execution_count": 12,
     "metadata": {},
     "output_type": "execute_result"
    }
   ],
   "source": [
    "chain(\n",
    "    {\"question\": \"what are radiographic features of Atelectasis?\"},\n",
    "    return_only_outputs=True,\n",
    ")"
   ]
  },
  {
   "cell_type": "code",
   "execution_count": null,
   "metadata": {},
   "outputs": [],
   "source": []
  }
 ],
 "metadata": {
  "kernelspec": {
   "display_name": "pytorch",
   "language": "python",
   "name": "python3"
  },
  "language_info": {
   "codemirror_mode": {
    "name": "ipython",
    "version": 3
   },
   "file_extension": ".py",
   "mimetype": "text/x-python",
   "name": "python",
   "nbconvert_exporter": "python",
   "pygments_lexer": "ipython3",
   "version": "3.9.18"
  }
 },
 "nbformat": 4,
 "nbformat_minor": 2
}
