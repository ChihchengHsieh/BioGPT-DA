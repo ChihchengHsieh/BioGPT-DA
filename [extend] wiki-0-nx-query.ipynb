{
 "cells": [
  {
   "cell_type": "code",
   "execution_count": 1,
   "metadata": {},
   "outputs": [],
   "source": [
    "import re\n",
    "import os\n",
    "from langchain.vectorstores.neo4j_vector import Neo4jVector\n",
    "from langchain.document_loaders import WikipediaLoader\n",
    "from langchain.embeddings.openai import OpenAIEmbeddings\n",
    "from langchain.text_splitter import (\n",
    "    CharacterTextSplitter,\n",
    "    RecursiveCharacterTextSplitter,\n",
    ")\n",
    "from transformers import AutoModelForSeq2SeqLM, AutoTokenizer\n",
    "from langchain.text_splitter import TokenTextSplitter\n",
    "\n",
    "from secret import *\n",
    "import chromadb\n",
    "\n",
    "os.environ[\"OPENAI_API_KEY\"] = OPENAI_API_KEY"
   ]
  },
  {
   "cell_type": "code",
   "execution_count": 2,
   "metadata": {},
   "outputs": [],
   "source": [
    "tokenizer = AutoTokenizer.from_pretrained(\"bert-base-uncased\")\n",
    "raw_documents = WikipediaLoader(query=\"Atelectasis\").load()\n",
    "text_splitter = TokenTextSplitter(chunk_size=2048, chunk_overlap=24)\n",
    "documents = text_splitter.split_documents([raw_documents[0]]) # should I only take the first? which is the most relevant?"
   ]
  },
  {
   "cell_type": "code",
   "execution_count": 3,
   "metadata": {},
   "outputs": [],
   "source": [
    "from langchain.indexes import GraphIndexCreator\n",
    "from langchain.graphs.networkx_graph import KnowledgeTriple\n",
    "from langchain.llms import OpenAI"
   ]
  },
  {
   "cell_type": "code",
   "execution_count": 4,
   "metadata": {},
   "outputs": [],
   "source": [
    "index_creator = GraphIndexCreator(llm=OpenAI(temperature=0))"
   ]
  },
  {
   "cell_type": "code",
   "execution_count": 5,
   "metadata": {},
   "outputs": [],
   "source": [
    "graph = None\n",
    "for d in documents:\n",
    "    g_temp = index_creator.from_text(d.page_content)\n",
    "    if graph is None:\n",
    "        graph = g_temp\n",
    "    else:\n",
    "        triplets = graph.get_triples()\n",
    "        for t in triplets:\n",
    "            graph.add_triple(knowledge_triple=KnowledgeTriple(*t))"
   ]
  },
  {
   "cell_type": "code",
   "execution_count": 6,
   "metadata": {},
   "outputs": [],
   "source": [
    "from langchain.chains import GraphQAChain"
   ]
  },
  {
   "cell_type": "code",
   "execution_count": 7,
   "metadata": {},
   "outputs": [],
   "source": [
    "chain = GraphQAChain.from_llm(OpenAI(temperature=0), graph=graph, verbose=True)"
   ]
  },
  {
   "cell_type": "code",
   "execution_count": 8,
   "metadata": {},
   "outputs": [
    {
     "name": "stdout",
     "output_type": "stream",
     "text": [
      "\n",
      "\n",
      "\u001b[1m> Entering new GraphQAChain chain...\u001b[0m\n",
      "Entities Extracted:\n",
      "\u001b[32;1m\u001b[1;3m Atelectasis\u001b[0m\n",
      "Full Context:\n",
      "\u001b[32;1m\u001b[1;3mAtelectasis is the collapse or closure of a lung\n",
      "Atelectasis is usually unilateral\n",
      "Atelectasis is a condition where the alveoli are deflated down to little or no volume\n",
      "Atelectasis is often called a collapsed lung\n",
      "Atelectasis is not synonymous with a pneumothorax\n",
      "Atelectasis may occur as a post-operative complication or as a result of surfactant deficiency\n",
      "Atelectasis leads to infant respiratory distress syndrome\n",
      "Atelectasis is caused by normal exhalation\n",
      "Atelectasis is caused by various medical conditions\n",
      "Atelectasis is associated with post-op fever\u001b[0m\n",
      "\n",
      "\u001b[1m> Finished chain.\u001b[0m\n"
     ]
    },
    {
     "data": {
      "text/plain": [
       "' Atelectasis is the collapse or closure of a lung, where the alveoli are deflated down to little or no volume. It is often called a collapsed lung and is not synonymous with a pneumothorax. It may occur as a post-operative complication or as a result of surfactant deficiency and can lead to infant respiratory distress syndrome. It is caused by normal exhalation and various medical conditions and is associated with post-op fever.'"
      ]
     },
     "execution_count": 8,
     "metadata": {},
     "output_type": "execute_result"
    }
   ],
   "source": [
    "chain.run(\"What is Atelectasis?\")"
   ]
  },
  {
   "cell_type": "code",
   "execution_count": 9,
   "metadata": {},
   "outputs": [
    {
     "name": "stdout",
     "output_type": "stream",
     "text": [
      "\n",
      "\n",
      "\u001b[1m> Entering new GraphQAChain chain...\u001b[0m\n",
      "Entities Extracted:\n",
      "\u001b[32;1m\u001b[1;3m Atelectasis\u001b[0m\n",
      "Full Context:\n",
      "\u001b[32;1m\u001b[1;3mAtelectasis is the collapse or closure of a lung\n",
      "Atelectasis is usually unilateral\n",
      "Atelectasis is a condition where the alveoli are deflated down to little or no volume\n",
      "Atelectasis is often called a collapsed lung\n",
      "Atelectasis is not synonymous with a pneumothorax\n",
      "Atelectasis may occur as a post-operative complication or as a result of surfactant deficiency\n",
      "Atelectasis leads to infant respiratory distress syndrome\n",
      "Atelectasis is caused by normal exhalation\n",
      "Atelectasis is caused by various medical conditions\n",
      "Atelectasis is associated with post-op fever\u001b[0m\n",
      "\n",
      "\u001b[1m> Finished chain.\u001b[0m\n"
     ]
    },
    {
     "data": {
      "text/plain": [
       "' Symptoms of Atelectasis include shortness of breath, chest pain, coughing, and difficulty breathing.'"
      ]
     },
     "execution_count": 9,
     "metadata": {},
     "output_type": "execute_result"
    }
   ],
   "source": [
    "chain.run(\"What are the symptoms of Atelectasis?\")"
   ]
  },
  {
   "cell_type": "code",
   "execution_count": 10,
   "metadata": {},
   "outputs": [
    {
     "name": "stdout",
     "output_type": "stream",
     "text": [
      "\n",
      "\n",
      "\u001b[1m> Entering new GraphQAChain chain...\u001b[0m\n",
      "Entities Extracted:\n",
      "\u001b[32;1m\u001b[1;3m Atelectasis\u001b[0m\n",
      "Full Context:\n",
      "\u001b[32;1m\u001b[1;3mAtelectasis is the collapse or closure of a lung\n",
      "Atelectasis is usually unilateral\n",
      "Atelectasis is a condition where the alveoli are deflated down to little or no volume\n",
      "Atelectasis is often called a collapsed lung\n",
      "Atelectasis is not synonymous with a pneumothorax\n",
      "Atelectasis may occur as a post-operative complication or as a result of surfactant deficiency\n",
      "Atelectasis leads to infant respiratory distress syndrome\n",
      "Atelectasis is caused by normal exhalation\n",
      "Atelectasis is caused by various medical conditions\n",
      "Atelectasis is associated with post-op fever\u001b[0m\n",
      "\n",
      "\u001b[1m> Finished chain.\u001b[0m\n"
     ]
    },
    {
     "data": {
      "text/plain": [
       "' Atelectasis can be caused by normal exhalation, various medical conditions, and surfactant deficiency. It can also occur as a post-operative complication or as a result of infant respiratory distress syndrome.'"
      ]
     },
     "execution_count": 10,
     "metadata": {},
     "output_type": "execute_result"
    }
   ],
   "source": [
    "chain.run(\"What can cause Atelectasis?\")"
   ]
  },
  {
   "cell_type": "code",
   "execution_count": 11,
   "metadata": {},
   "outputs": [
    {
     "name": "stdout",
     "output_type": "stream",
     "text": [
      "\n",
      "\n",
      "\u001b[1m> Entering new GraphQAChain chain...\u001b[0m\n",
      "Entities Extracted:\n",
      "\u001b[32;1m\u001b[1;3m Atelectasis\u001b[0m\n",
      "Full Context:\n",
      "\u001b[32;1m\u001b[1;3mAtelectasis is the collapse or closure of a lung\n",
      "Atelectasis is usually unilateral\n",
      "Atelectasis is a condition where the alveoli are deflated down to little or no volume\n",
      "Atelectasis is often called a collapsed lung\n",
      "Atelectasis is not synonymous with a pneumothorax\n",
      "Atelectasis may occur as a post-operative complication or as a result of surfactant deficiency\n",
      "Atelectasis leads to infant respiratory distress syndrome\n",
      "Atelectasis is caused by normal exhalation\n",
      "Atelectasis is caused by various medical conditions\n",
      "Atelectasis is associated with post-op fever\u001b[0m\n",
      "\n",
      "\u001b[1m> Finished chain.\u001b[0m\n"
     ]
    },
    {
     "data": {
      "text/plain": [
       "' Radiologists need to look for signs of unilateral collapse or closure of a lung, deflated alveoli, and post-operative fever. They may also need to consider other medical conditions that could be causing the Atelectasis.'"
      ]
     },
     "execution_count": 11,
     "metadata": {},
     "output_type": "execute_result"
    }
   ],
   "source": [
    "chain.run(\"What clinical features radiologists need for diagnosing Atelectasis?\")"
   ]
  },
  {
   "cell_type": "code",
   "execution_count": 12,
   "metadata": {},
   "outputs": [
    {
     "name": "stdout",
     "output_type": "stream",
     "text": [
      "\n",
      "\n",
      "\u001b[1m> Entering new GraphQAChain chain...\u001b[0m\n",
      "Entities Extracted:\n",
      "\u001b[32;1m\u001b[1;3m Atelectasis\u001b[0m\n",
      "Full Context:\n",
      "\u001b[32;1m\u001b[1;3mAtelectasis is the collapse or closure of a lung\n",
      "Atelectasis is usually unilateral\n",
      "Atelectasis is a condition where the alveoli are deflated down to little or no volume\n",
      "Atelectasis is often called a collapsed lung\n",
      "Atelectasis is not synonymous with a pneumothorax\n",
      "Atelectasis may occur as a post-operative complication or as a result of surfactant deficiency\n",
      "Atelectasis leads to infant respiratory distress syndrome\n",
      "Atelectasis is caused by normal exhalation\n",
      "Atelectasis is caused by various medical conditions\n",
      "Atelectasis is associated with post-op fever\u001b[0m\n",
      "\n",
      "\u001b[1m> Finished chain.\u001b[0m\n"
     ]
    },
    {
     "data": {
      "text/plain": [
       "' Radiographic features of Atelectasis include a decrease in lung volume, a decrease in the size of the affected lung, and a decrease in the density of the affected lung.'"
      ]
     },
     "execution_count": 12,
     "metadata": {},
     "output_type": "execute_result"
    }
   ],
   "source": [
    "chain.run(\"what are radiographic features of Atelectasis?\")"
   ]
  },
  {
   "cell_type": "code",
   "execution_count": null,
   "metadata": {},
   "outputs": [],
   "source": []
  }
 ],
 "metadata": {
  "kernelspec": {
   "display_name": "pytorch",
   "language": "python",
   "name": "python3"
  },
  "language_info": {
   "codemirror_mode": {
    "name": "ipython",
    "version": 3
   },
   "file_extension": ".py",
   "mimetype": "text/x-python",
   "name": "python",
   "nbconvert_exporter": "python",
   "pygments_lexer": "ipython3",
   "version": "3.9.18"
  }
 },
 "nbformat": 4,
 "nbformat_minor": 2
}
