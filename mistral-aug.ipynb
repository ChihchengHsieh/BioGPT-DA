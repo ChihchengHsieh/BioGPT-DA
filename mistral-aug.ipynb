{
 "cells": [
  {
   "cell_type": "code",
   "execution_count": 1,
   "metadata": {},
   "outputs": [],
   "source": [
    "import os\n",
    "import pandas as pd\n",
    "\n",
    "from tqdm import tqdm\n",
    "from transformers import pipeline, set_seed\n",
    "from transformers import BioGptTokenizer, BioGptForCausalLM\n",
    "from aug.gpt import *\n",
    "\n",
    "import warnings\n",
    "warnings.filterwarnings(\"ignore\")\n",
    "\n",
    "MIMIC_EYE_PATH = \"F:\\\\mimic-eye\"\n",
    "\n",
    "REFLACX_LESION_LABEL_COLS = [\n",
    "    # \"Fibrosis\",\n",
    "    # \"Quality issue\",\n",
    "    # \"Wide mediastinum\",\n",
    "    # \"Fracture\",\n",
    "    # \"Airway wall thickening\",\n",
    "\n",
    "    ######################\n",
    "    # \"Hiatal hernia\",\n",
    "    # \"Acute fracture\",\n",
    "    # \"Interstitial lung disease\",\n",
    "    # \"Enlarged hilum\",\n",
    "    # \"Abnormal mediastinal contour\",\n",
    "    # \"High lung volume / emphysema\",\n",
    "    # \"Pneumothorax\",\n",
    "    # \"Lung nodule or mass\",\n",
    "    # \"Groundglass opacity\",\n",
    "    ######################\n",
    "    \"Pulmonary edema\",\n",
    "    \"Enlarged cardiac silhouette\",\n",
    "    \"Consolidation\",\n",
    "    \"Atelectasis\",\n",
    "    \"Pleural abnormality\",\n",
    "    # \"Support devices\",\n",
    "]\n",
    "\n",
    "\n",
    "CHEXPERT_LABEL_COLS = [\n",
    "    \"Atelectasis_chexpert\",\n",
    "    \"Cardiomegaly_chexpert\",\n",
    "    \"Consolidation_chexpert\",\n",
    "    \"Edema_chexpert\",\n",
    "    \"Enlarged Cardiomediastinum_chexpert\",\n",
    "    \"Fracture_chexpert\",\n",
    "    \"Lung Lesion_chexpert\",\n",
    "    \"Lung Opacity_chexpert\",\n",
    "    \"No Finding_chexpert\",\n",
    "    \"Pleural Effusion_chexpert\",\n",
    "    \"Pleural Other_chexpert\",\n",
    "    \"Pneumonia_chexpert\",\n",
    "    \"Pneumothorax_chexpert\",\n",
    "    \"Support Devices_chexpert\", \n",
    "]\n"
   ]
  },
  {
   "cell_type": "code",
   "execution_count": 2,
   "metadata": {},
   "outputs": [
    {
     "data": {
      "application/vnd.jupyter.widget-view+json": {
       "model_id": "8f8fa9d167514d29977946fd970a1dbd",
       "version_major": 2,
       "version_minor": 0
      },
      "text/plain": [
       "Loading checkpoint shards:   0%|          | 0/2 [00:00<?, ?it/s]"
      ]
     },
     "metadata": {},
     "output_type": "display_data"
    }
   ],
   "source": [
    "from transformers import AutoTokenizer, AutoModel, DistilBertForMaskedLM, BertForMaskedLM, LlamaForCausalLM, LlamaTokenizer, LlamaForCausalLM\n",
    "import torch\n",
    "from secret import *\n",
    "generator = pipeline(\"text-generation\", model=\"mistralai/Mistral-7B-v0.1\", torch_dtype=torch.bfloat16, device_map=\"auto\", pad_token_id=2, eos_token_id=2)\n",
    "set_seed(0)\n",
    "# tokenizer = LlamaTokenizer.from_pretrained(\"meta-llama/Llama-2-7b-hf\", token=HUGGING_FACE_TOKEN)\n",
    "# model = LlamaForCausalLM.from_pretrained(\"meta-llama/Llama-2-7b-hf\", token=HUGGING_FACE_TOKEN) #, device_map='auto', torch_dtype=torch.float16)\n",
    "# model = AutoModel.from_pretrained(\"emilyalsentzer/Bio_ClinicalBERT\") "
   ]
  },
  {
   "cell_type": "code",
   "execution_count": 3,
   "metadata": {},
   "outputs": [],
   "source": [
    "# model_id=\"meta-llama/Llama-2-7b-hf\"\n",
    "    \n",
    "# tokenizer = AutoTokenizer.from_pretrained(model_id)\n",
    "# import torch\n",
    "# model =AutoModelForCausalLM.from_pretrained(model_id, load_in_8bit=True, device_map='auto', torch_dtype=torch.float16)"
   ]
  },
  {
   "cell_type": "code",
   "execution_count": 4,
   "metadata": {},
   "outputs": [
    {
     "data": {
      "text/plain": [
       "[{'generated_text': 'The average blood pressure for human is 100-140mm Hg'}]"
      ]
     },
     "execution_count": 4,
     "metadata": {},
     "output_type": "execute_result"
    }
   ],
   "source": [
    "generator(\"The average blood pressure for human is \",  max_new_tokens=10, num_return_sequences=1, do_sample=True)"
   ]
  },
  {
   "cell_type": "code",
   "execution_count": 5,
   "metadata": {},
   "outputs": [],
   "source": [
    "features_to_aug =  [\n",
    "            \"temperature_c\",\n",
    "            \"heartrate\",\n",
    "            \"resprate\",\n",
    "            \"o2sat\",\n",
    "            \"sbp\",\n",
    "            \"dbp\",\n",
    "        ]\n",
    "\n",
    "feature_to_name_map = {\n",
    "    \"temperature_c\": \"body temperature in degrees Celsius\",\n",
    "    \"heartrate\": \"heart rate in beats per minute\",\n",
    "    \"resprate\": \"respiratory rate in breaths per minute\",\n",
    "    \"o2sat\": \"peripheral oxygen saturation (%)\",\n",
    "    \"sbp\": \"systolic blood pressure (mmHg)\",\n",
    "    \"dbp\":\"diastolic blood pressure (mmHg)\",\n",
    "}"
   ]
  },
  {
   "cell_type": "code",
   "execution_count": 6,
   "metadata": {},
   "outputs": [
    {
     "name": "stdout",
     "output_type": "stream",
     "text": [
      "Resolving temperature_c\n"
     ]
    },
    {
     "name": "stderr",
     "output_type": "stream",
     "text": [
      "100%|██████████| 799/799 [03:20<00:00,  3.99it/s]\n"
     ]
    },
    {
     "name": "stdout",
     "output_type": "stream",
     "text": [
      "Resolving heartrate\n"
     ]
    },
    {
     "name": "stderr",
     "output_type": "stream",
     "text": [
      "100%|██████████| 799/799 [02:48<00:00,  4.73it/s]\n"
     ]
    },
    {
     "name": "stdout",
     "output_type": "stream",
     "text": [
      "Resolving resprate\n"
     ]
    },
    {
     "name": "stderr",
     "output_type": "stream",
     "text": [
      "100%|██████████| 799/799 [03:41<00:00,  3.61it/s]\n"
     ]
    },
    {
     "name": "stdout",
     "output_type": "stream",
     "text": [
      "Resolving o2sat\n"
     ]
    },
    {
     "name": "stderr",
     "output_type": "stream",
     "text": [
      "100%|██████████| 799/799 [03:43<00:00,  3.58it/s]\n"
     ]
    },
    {
     "name": "stdout",
     "output_type": "stream",
     "text": [
      "Resolving sbp\n"
     ]
    },
    {
     "name": "stderr",
     "output_type": "stream",
     "text": [
      " 23%|██▎       | 186/799 [01:00<03:42,  2.76it/s]"
     ]
    }
   ],
   "source": [
    "for rf in [True, False]:\n",
    "    report_format = rf\n",
    "    df = pd.read_csv('./spreadsheets/reflacx_clinical.csv')\n",
    "    df['temperature_c'] = df['temperature'].apply(lambda f :(f-32) * 5/9 )\n",
    "    df = aug_df(MIMIC_EYE_PATH, REFLACX_LESION_LABEL_COLS, features_to_aug, feature_to_name_map, df, generator, progress=[1, 5, 25, 50], report_format=report_format)\n",
    "    df[\"aug_temperature\"] = df[\"aug_temperature_c\"].apply(lambda c: (c*1.8)+32 if not c is None else None)\n",
    "    \n",
    "    if report_format:\n",
    "        df.to_csv('./spreadsheets/mistral_aug_report.csv')  \n",
    "    else:   \n",
    "        df.to_csv('./spreadsheets/mistral_aug_text.csv')"
   ]
  },
  {
   "cell_type": "code",
   "execution_count": null,
   "metadata": {},
   "outputs": [],
   "source": []
  },
  {
   "cell_type": "code",
   "execution_count": null,
   "metadata": {},
   "outputs": [],
   "source": []
  }
 ],
 "metadata": {
  "kernelspec": {
   "display_name": "pytorch",
   "language": "python",
   "name": "python3"
  },
  "language_info": {
   "codemirror_mode": {
    "name": "ipython",
    "version": 3
   },
   "file_extension": ".py",
   "mimetype": "text/x-python",
   "name": "python",
   "nbconvert_exporter": "python",
   "pygments_lexer": "ipython3",
   "version": "3.9.18"
  },
  "orig_nbformat": 4
 },
 "nbformat": 4,
 "nbformat_minor": 2
}
