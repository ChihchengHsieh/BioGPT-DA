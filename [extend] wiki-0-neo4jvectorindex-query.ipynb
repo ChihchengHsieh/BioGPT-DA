{
 "cells": [
  {
   "cell_type": "code",
   "execution_count": 1,
   "metadata": {},
   "outputs": [],
   "source": [
    "import re\n",
    "import os\n",
    "from langchain.vectorstores.neo4j_vector import Neo4jVector\n",
    "from langchain.document_loaders import WikipediaLoader\n",
    "from langchain.embeddings.openai import OpenAIEmbeddings\n",
    "from langchain.text_splitter import (\n",
    "    CharacterTextSplitter,\n",
    "    RecursiveCharacterTextSplitter,\n",
    ")\n",
    "from langchain.graphs import Neo4jGraph\n",
    "from transformers import AutoModelForSeq2SeqLM, AutoTokenizer\n",
    "from langchain.text_splitter import TokenTextSplitter\n",
    "\n",
    "from secret import *\n",
    "import chromadb\n",
    "\n",
    "os.environ[\"OPENAI_API_KEY\"] = OPENAI_API_KEY"
   ]
  },
  {
   "cell_type": "code",
   "execution_count": 2,
   "metadata": {},
   "outputs": [
    {
     "name": "stdout",
     "output_type": "stream",
     "text": [
      "\n",
      "        Node properties are the following:\n",
      "        []\n",
      "        Relationship properties are the following:\n",
      "        []\n",
      "        The relationships are the following:\n",
      "        []\n",
      "        \n"
     ]
    }
   ],
   "source": [
    "graph = Neo4jGraph(url=\"bolt://localhost:7687\", username=\"neo4j\", password=\"test1234\")\n",
    "graph.query(\n",
    "    \"\"\"\n",
    "MATCH (n)\n",
    "DETACH DELETE n\n",
    "\"\"\"\n",
    ")\n",
    "graph.refresh_schema()\n",
    "print(graph.schema)"
   ]
  },
  {
   "cell_type": "code",
   "execution_count": 3,
   "metadata": {},
   "outputs": [],
   "source": [
    "raw_documents = WikipediaLoader(query=\"Atelectasis\").load()\n",
    "text_splitter = TokenTextSplitter(chunk_size=2048, chunk_overlap=24)\n",
    "documents = text_splitter.split_documents([raw_documents[0]]) # should I only take the first? which is the most relevant?"
   ]
  },
  {
   "cell_type": "code",
   "execution_count": 4,
   "metadata": {},
   "outputs": [],
   "source": [
    "db = Neo4jVector.from_documents(\n",
    "    documents, OpenAIEmbeddings(), url=NOE4J_URL, username=\"neo4j\", password=\"test1234\"\n",
    ")\n",
    "\n",
    "retriever = db.as_retriever()"
   ]
  },
  {
   "cell_type": "code",
   "execution_count": 5,
   "metadata": {},
   "outputs": [],
   "source": [
    "from langchain.chains import RetrievalQAWithSourcesChain\n",
    "from langchain.chat_models import ChatOpenAI"
   ]
  },
  {
   "cell_type": "code",
   "execution_count": 6,
   "metadata": {},
   "outputs": [],
   "source": [
    "chain = RetrievalQAWithSourcesChain.from_chain_type(\n",
    "    ChatOpenAI(temperature=0, model=\"gpt-3.5-turbo-16k\"), chain_type=\"stuff\", retriever=retriever\n",
    ")"
   ]
  },
  {
   "cell_type": "code",
   "execution_count": 7,
   "metadata": {},
   "outputs": [
    {
     "data": {
      "text/plain": [
       "{'answer': 'Atelectasis is the collapse or closure of a lung resulting in reduced or absent gas exchange. It is usually unilateral, affecting part or all of one lung. It is a condition where the alveoli are deflated down to little or no volume. It is often called a collapsed lung, although that term may also refer to pneumothorax. It is a very common finding in chest X-rays and other radiological studies, and may be caused by normal exhalation or by various medical conditions. The most common cause is post-surgical atelectasis, characterized by restricted breathing after abdominal surgery. Other causes include pulmonary tuberculosis, blockage of a bronchiole or bronchus, poor surfactant spreading during inspiration, and relaxation atelectasis. Diagnosis is generally done through chest X-ray, and additional tests such as CT scan or bronchoscopy may be necessary. \\n',\n",
       " 'sources': 'https://en.wikipedia.org/wiki/Atelectasis'}"
      ]
     },
     "execution_count": 7,
     "metadata": {},
     "output_type": "execute_result"
    }
   ],
   "source": [
    "chain(\n",
    "    {\"question\": \"What is Atelectasis?\"},\n",
    "    return_only_outputs=True,\n",
    ")"
   ]
  },
  {
   "cell_type": "code",
   "execution_count": 8,
   "metadata": {},
   "outputs": [
    {
     "data": {
      "text/plain": [
       "{'answer': 'The symptoms of Atelectasis may include cough, chest pain, breathing difficulty, low oxygen saturation, pleural effusion, cyanosis, and increased heart rate. However, it is important to note that some individuals may have no signs or symptoms. It is a common misconception that atelectasis causes fever, but there is no clinical evidence supporting this speculation. Atelectasis can be diagnosed through chest X-ray, which may show lung opacification and/or loss of lung volume. In some cases, additional tests such as chest CT or bronchoscopy may be necessary to determine the cause of atelectasis.\\n',\n",
       " 'sources': 'https://en.wikipedia.org/wiki/Atelectasis'}"
      ]
     },
     "execution_count": 8,
     "metadata": {},
     "output_type": "execute_result"
    }
   ],
   "source": [
    "chain(\n",
    "    {\"question\": \"What are the symptoms of Atelectasis?\"},\n",
    "    return_only_outputs=True,\n",
    ")"
   ]
  },
  {
   "cell_type": "code",
   "execution_count": 9,
   "metadata": {},
   "outputs": [
    {
     "data": {
      "text/plain": [
       "{'answer': 'Atelectasis can be caused by various medical conditions, post-operative complications, surfactant deficiency, and restricted breathing after abdominal surgery. Other causes include pulmonary tuberculosis, blockage of a bronchiole or bronchus, poor surfactant spreading, and disruption of contact between the parietal and visceral pleurae. Risk factors for atelectasis include certain types of surgery, use of muscle relaxation, obesity, high oxygen, lower lung segments, age, presence of chronic obstructive pulmonary disease or asthma, and type of anesthetic. Diagnosis is typically done through chest X-ray, but additional imaging or bronchoscopy may be necessary in some cases.\\n',\n",
       " 'sources': 'https://en.wikipedia.org/wiki/Atelectasis'}"
      ]
     },
     "execution_count": 9,
     "metadata": {},
     "output_type": "execute_result"
    }
   ],
   "source": [
    "chain(\n",
    "    {\"question\": \"What can cause Atelectasis?\"},\n",
    "    return_only_outputs=True,\n",
    ")"
   ]
  },
  {
   "cell_type": "code",
   "execution_count": 10,
   "metadata": {},
   "outputs": [
    {
     "data": {
      "text/plain": [
       "{'answer': 'Radiologists need to look for signs and symptoms such as cough, chest pain, breathing difficulty, low oxygen saturation, pleural effusion, cyanosis, and increased heart rate for diagnosing Atelectasis. Clinically significant atelectasis is generally visible on chest X-ray, which may show lung opacification and/or loss of lung volume. Additional diagnostic tools such as chest CT or bronchoscopy may be necessary if the cause of atelectasis is not clinically apparent.\\n',\n",
       " 'sources': 'https://en.wikipedia.org/wiki/Atelectasis'}"
      ]
     },
     "execution_count": 10,
     "metadata": {},
     "output_type": "execute_result"
    }
   ],
   "source": [
    "chain(\n",
    "    {\"question\": \"What clinical features radiologists need for diagnosing Atelectasis?\"},\n",
    "    return_only_outputs=True,\n",
    ")"
   ]
  },
  {
   "cell_type": "code",
   "execution_count": 11,
   "metadata": {},
   "outputs": [
    {
     "data": {
      "text/plain": [
       "{'answer': 'The radiographic features of atelectasis include lung opacification and/or loss of lung volume, as visible on a chest X-ray. Post-surgical atelectasis typically presents as bibasal in pattern. Additional diagnostic tools such as chest CT or bronchoscopy may be necessary if the cause of atelectasis is not clinically apparent.\\n',\n",
       " 'sources': 'https://en.wikipedia.org/wiki/Atelectasis'}"
      ]
     },
     "execution_count": 11,
     "metadata": {},
     "output_type": "execute_result"
    }
   ],
   "source": [
    "chain(\n",
    "    {\"question\": \"what are radiographic features of Atelectasis?\"},\n",
    "    return_only_outputs=True,\n",
    ")"
   ]
  },
  {
   "cell_type": "code",
   "execution_count": null,
   "metadata": {},
   "outputs": [],
   "source": []
  }
 ],
 "metadata": {
  "kernelspec": {
   "display_name": "pytorch",
   "language": "python",
   "name": "python3"
  },
  "language_info": {
   "codemirror_mode": {
    "name": "ipython",
    "version": 3
   },
   "file_extension": ".py",
   "mimetype": "text/x-python",
   "name": "python",
   "nbconvert_exporter": "python",
   "pygments_lexer": "ipython3",
   "version": "3.9.18"
  }
 },
 "nbformat": 4,
 "nbformat_minor": 2
}
