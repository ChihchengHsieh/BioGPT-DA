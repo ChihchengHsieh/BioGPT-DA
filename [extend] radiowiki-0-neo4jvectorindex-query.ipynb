{
 "cells": [
  {
   "cell_type": "code",
   "execution_count": 1,
   "metadata": {},
   "outputs": [],
   "source": [
    "import re\n",
    "import os\n",
    "from langchain.vectorstores.neo4j_vector import Neo4jVector\n",
    "from langchain.document_loaders import WikipediaLoader\n",
    "from langchain.embeddings.openai import OpenAIEmbeddings\n",
    "from langchain.text_splitter import (\n",
    "    CharacterTextSplitter,\n",
    "    RecursiveCharacterTextSplitter,\n",
    ")\n",
    "from langchain.graphs import Neo4jGraph\n",
    "from transformers import AutoModelForSeq2SeqLM, AutoTokenizer\n",
    "from langchain.text_splitter import TokenTextSplitter\n",
    "\n",
    "from secret import *\n",
    "import chromadb\n",
    "\n",
    "os.environ[\"OPENAI_API_KEY\"] = OPENAI_API_KEY"
   ]
  },
  {
   "cell_type": "code",
   "execution_count": 2,
   "metadata": {},
   "outputs": [
    {
     "name": "stdout",
     "output_type": "stream",
     "text": [
      "Node properties are the following:\n",
      "\n",
      "Relationship properties are the following:\n",
      "\n",
      "The relationships are the following:\n",
      "\n"
     ]
    }
   ],
   "source": [
    "graph = Neo4jGraph(url=\"bolt://localhost:7687\", username=\"neo4j\", password=\"test1234\")\n",
    "graph.query(\n",
    "    \"\"\"\n",
    "MATCH (n)\n",
    "DETACH DELETE n\n",
    "\"\"\"\n",
    ")\n",
    "graph.refresh_schema()\n",
    "print(graph.schema)"
   ]
  },
  {
   "cell_type": "code",
   "execution_count": 3,
   "metadata": {},
   "outputs": [],
   "source": [
    "from loader.radiopaedia import RadioWebLoader\n",
    "search_query = \"Atelectasis\"\n",
    "radio_raw_documents = RadioWebLoader(search_query, only_first=True).load()\n",
    "wiki_raw_documents = [WikipediaLoader(query=\"Atelectasis\").load()[0]]\n",
    "raw_documents = radio_raw_documents + wiki_raw_documents"
   ]
  },
  {
   "cell_type": "code",
   "execution_count": 4,
   "metadata": {},
   "outputs": [
    {
     "data": {
      "text/plain": [
       "(1, 1)"
      ]
     },
     "execution_count": 4,
     "metadata": {},
     "output_type": "execute_result"
    }
   ],
   "source": [
    "len(radio_raw_documents), len(wiki_raw_documents)"
   ]
  },
  {
   "cell_type": "code",
   "execution_count": 5,
   "metadata": {},
   "outputs": [],
   "source": [
    "text_splitter = TokenTextSplitter(chunk_size=2048, chunk_overlap=24)\n",
    "documents = text_splitter.split_documents(\n",
    "    raw_documents\n",
    ")  # should I only take the first? which is the most relevant?"
   ]
  },
  {
   "cell_type": "code",
   "execution_count": 6,
   "metadata": {},
   "outputs": [
    {
     "name": "stderr",
     "output_type": "stream",
     "text": [
      "c:\\Users\\mike8\\anaconda3\\envs\\pytorch\\lib\\site-packages\\langchain_core\\_api\\deprecation.py:115: LangChainDeprecationWarning: The class `OpenAIEmbeddings` was deprecated in LangChain 0.1.0 and will be removed in 0.2.0. Use langchain_openai.OpenAIEmbeddings instead.\n",
      "  warn_deprecated(\n"
     ]
    }
   ],
   "source": [
    "db = Neo4jVector.from_documents(\n",
    "    documents, OpenAIEmbeddings(), url=NOE4J_URL, username=\"neo4j\", password=\"test1234\"\n",
    ")\n",
    "\n",
    "retriever = db.as_retriever()\n",
    "# 4s"
   ]
  },
  {
   "cell_type": "code",
   "execution_count": 7,
   "metadata": {},
   "outputs": [],
   "source": [
    "from langchain.chains import RetrievalQAWithSourcesChain\n",
    "from langchain.chat_models import ChatOpenAI"
   ]
  },
  {
   "cell_type": "code",
   "execution_count": 8,
   "metadata": {},
   "outputs": [
    {
     "name": "stderr",
     "output_type": "stream",
     "text": [
      "c:\\Users\\mike8\\anaconda3\\envs\\pytorch\\lib\\site-packages\\langchain_core\\_api\\deprecation.py:115: LangChainDeprecationWarning: The class `ChatOpenAI` was deprecated in LangChain 0.1.0 and will be removed in 0.2.0. Use langchain_openai.ChatOpenAI instead.\n",
      "  warn_deprecated(\n"
     ]
    }
   ],
   "source": [
    "chain = RetrievalQAWithSourcesChain.from_chain_type(\n",
    "    ChatOpenAI(temperature=0, model=\"gpt-3.5-turbo-16k\"), chain_type=\"stuff\", retriever=retriever\n",
    ")"
   ]
  },
  {
   "cell_type": "code",
   "execution_count": 9,
   "metadata": {},
   "outputs": [],
   "source": [
    "lesion = \"Atelectasis\"\n",
    "questions = [\n",
    "    f\"What is {lesion}?\",\n",
    "    f\"What are the symptoms associated with {lesion}?\",\n",
    "    f\"What can cause {lesion}?\",\n",
    "    f\"What are the patient’s symptoms that are relevant for {lesion}?\",\n",
    "    f\"What are the relevant clinical signs for the etiological diagnosis of {lesion}?\",\n",
    "    f\"What are the relevant laboratory data for the etiological diagnosis of {lesion}?\",\n",
    "    f\"What are the relevant clinical characteristics for the etiological diagnosis of {lesion}\",\n",
    "    f\"What are the patient’s personal relevant history for the etiological diagnosis of {lesion}\",\n",
    "]"
   ]
  },
  {
   "cell_type": "code",
   "execution_count": 10,
   "metadata": {},
   "outputs": [
    {
     "data": {
      "text/plain": [
       "langchain.chains.qa_with_sources.retrieval.RetrievalQAWithSourcesChain"
      ]
     },
     "execution_count": 10,
     "metadata": {},
     "output_type": "execute_result"
    }
   ],
   "source": [
    "type(chain)"
   ]
  },
  {
   "cell_type": "code",
   "execution_count": 11,
   "metadata": {},
   "outputs": [
    {
     "name": "stderr",
     "output_type": "stream",
     "text": [
      "c:\\Users\\mike8\\anaconda3\\envs\\pytorch\\lib\\site-packages\\langchain_core\\_api\\deprecation.py:115: LangChainDeprecationWarning: The function `__call__` was deprecated in LangChain 0.1.0 and will be removed in 0.2.0. Use invoke instead.\n",
      "  warn_deprecated(\n"
     ]
    }
   ],
   "source": [
    "res_dict = {}\n",
    "for q in questions:\n",
    "    res = chain(\n",
    "        {\"question\": q},\n",
    "        return_only_outputs=True,\n",
    "    )\n",
    "    res_dict[q] = res[\"answer\"].strip()"
   ]
  },
  {
   "cell_type": "code",
   "execution_count": null,
   "metadata": {},
   "outputs": [],
   "source": [
    "res_dict"
   ]
  },
  {
   "cell_type": "code",
   "execution_count": 12,
   "metadata": {},
   "outputs": [
    {
     "name": "stdout",
     "output_type": "stream",
     "text": [
      "Atelectasis is the partial collapse or closure of a lung resulting in reduced or absent gas exchange. It is usually unilateral, affecting part or all of one lung. It is a condition where the alveoli are deflated down to little or no volume. It is often referred to informally as a collapsed lung, although more accurately it usually involves only a partial collapse. It can be caused by normal exhalation or various medical conditions. It is a common finding in chest X-rays and other radiological studies. The most common cause is post-surgical atelectasis, but it can also be caused by pulmonary tuberculosis, smoking, and other factors. The diagnosis of atelectasis is generally visible on chest X-ray, and treatment involves managing the underlying cause.\n",
      "The symptoms associated with Atelectasis may include cough (not prominent), chest pain (not common), breathing difficulty (fast and shallow), low oxygen saturation, pleural effusion (transudate type), cyanosis (late sign), and increased heart rate. However, it is important to note that Atelectasis can also be asymptomatic.\n",
      "Atelectasis can be caused by various factors, including post-surgical complications, surfactant deficiency, pulmonary tuberculosis, blockage of the airway, and poor surfactant spreading during inspiration. Other risk factors include certain types of surgery, muscle relaxation, obesity, high oxygen, lower lung segments, age, chronic obstructive pulmonary disease or asthma, and type of anesthetic.\n",
      "The relevant symptoms for Atelectasis may include cough (not prominent), chest pain (not common), breathing difficulty (fast and shallow), low oxygen saturation, pleural effusion (transudate type), cyanosis (late sign), and increased heart rate.\n",
      "The relevant clinical signs for the etiological diagnosis of Atelectasis may include cough, chest pain (not common), breathing difficulty (fast and shallow), low oxygen saturation, pleural effusion (transudate type), cyanosis (late sign), and increased heart rate. However, it is important to note that atelectasis may also be asymptomatic.\n",
      "The relevant laboratory data for the etiological diagnosis of Atelectasis are not provided in the given information.\n",
      "The relevant clinical characteristics for the etiological diagnosis of Atelectasis include cough (not prominent), chest pain (not common), breathing difficulty (fast and shallow), low oxygen saturation, pleural effusion (transudate type), cyanosis (late sign), and increased heart rate. It is important to note that fever is not a clinical characteristic of atelectasis. The most common cause of atelectasis is post-surgical atelectasis, which develops in 75-90% of people undergoing general anesthesia for a surgical procedure. Other causes include pulmonary tuberculosis, smoking, and age. Diagnosis of atelectasis is generally visible on chest X-ray, which shows small volume linear shadows, usually peripherally or at the lung bases. CT chest or bronchoscopy may be necessary to determine the cause or confirm the absence of proximal obstruction. Treatment involves managing the underlying cause and promoting deeper breathing if the cause is due to hypoventilation.\n",
      "The patient's personal relevant history for the etiological diagnosis of Atelectasis includes post-surgical atelectasis as a common cause, as well as pulmonary tuberculosis, smoking, and being elderly as additional risk factors. Other factors associated with the development of atelectasis include age, presence of chronic obstructive pulmonary disease or asthma, and type of anesthetic. The condition can also be caused by adjacent compression, passive atelectasis, dependent atelectasis, and poor surfactant spreading during inspiration.\n"
     ]
    }
   ],
   "source": [
    "for q in questions:\n",
    "    print(res_dict[q])"
   ]
  },
  {
   "cell_type": "code",
   "execution_count": 13,
   "metadata": {},
   "outputs": [
    {
     "ename": "StopIteration",
     "evalue": "",
     "output_type": "error",
     "traceback": [
      "\u001b[1;31m---------------------------------------------------------------------------\u001b[0m",
      "\u001b[1;31mStopIteration\u001b[0m                             Traceback (most recent call last)",
      "Cell \u001b[1;32mIn[13], line 1\u001b[0m\n\u001b[1;32m----> 1\u001b[0m \u001b[38;5;28;01mraise\u001b[39;00m \u001b[38;5;167;01mStopIteration\u001b[39;00m()\n",
      "\u001b[1;31mStopIteration\u001b[0m: "
     ]
    }
   ],
   "source": [
    "raise StopIteration()"
   ]
  },
  {
   "cell_type": "code",
   "execution_count": null,
   "metadata": {},
   "outputs": [
    {
     "data": {
      "text/plain": [
       "{'answer': 'Atelectasis is the collapse or closure of a lung resulting in reduced or absent gas exchange. It is usually unilateral, affecting part or all of one lung. It is a condition where the alveoli are deflated down to little or no volume. It can be caused by normal exhalation or various medical conditions. Atelectasis is not synonymous with a pneumothorax, although a pneumothorax can cause atelectasis. It can occur as a post-operative complication or as a result of surfactant deficiency. It is a common finding in chest X-rays and other radiological studies. The most common cause is post-surgical atelectasis, which develops in 75-90% of people undergoing general anesthesia for a surgical procedure. Other causes include pulmonary tuberculosis, obstruction of the airway, poor surfactant spreading, and compression of the lung by a space-occupying lesion. Clinically significant atelectasis is generally visible on chest X-ray and may require further imaging or bronchoscopy for diagnosis. Treatment involves managing the underlying cause. (\"https://en.wikipedia.org/wiki/Atelectasis\", \"https://radiopaedia.org/articles/anectasis?lang=gb\", \"https://radiopaedia.org/articles/atelectasis-summary?lang=gb\", \"https://radiopaedia.org/articles/lung-atelectasis?lang=gb\")\\n',\n",
       " 'sources': 'https://en.wikipedia.org/wiki/Atelectasis, https://radiopaedia.org/articles/anectasis?lang=gb, https://radiopaedia.org/articles/atelectasis-summary?lang=gb, https://radiopaedia.org/articles/lung-atelectasis?lang=gb'}"
      ]
     },
     "execution_count": 9,
     "metadata": {},
     "output_type": "execute_result"
    }
   ],
   "source": [
    "chain(\n",
    "    {\"question\": \"What is Atelectasis?\"},\n",
    "    return_only_outputs=True,\n",
    ")"
   ]
  },
  {
   "cell_type": "code",
   "execution_count": null,
   "metadata": {},
   "outputs": [
    {
     "data": {
      "text/plain": [
       "{'answer': 'The symptoms of Atelectasis may include cough (not prominent), chest pain (not common), breathing difficulty (fast and shallow), low oxygen saturation, pleural effusion (transudate type), cyanosis (late sign), and increased heart rate. However, it is important to note that atelectasis can also be asymptomatic. \\n',\n",
       " 'sources': 'https://en.wikipedia.org/wiki/Atelectasis, https://radiopaedia.org/articles/atelectasis-summary?lang=gb, https://radiopaedia.org/articles/passive-atelectasis-1?lang=gb, https://radiopaedia.org/articles/lung-atelectasis?lang=gb'}"
      ]
     },
     "execution_count": 10,
     "metadata": {},
     "output_type": "execute_result"
    }
   ],
   "source": [
    "chain(\n",
    "    {\"question\": \"What are the symptoms of Atelectasis?\"},\n",
    "    return_only_outputs=True,\n",
    ")"
   ]
  },
  {
   "cell_type": "code",
   "execution_count": null,
   "metadata": {},
   "outputs": [
    {
     "data": {
      "text/plain": [
       "{'answer': 'Atelectasis can be caused by various factors, including post-surgical complications, surfactant deficiency, pulmonary tuberculosis, blockage of the airway, compression from external factors, poor surfactant spreading, and certain risk factors such as type of surgery, obesity, high oxygen, and presence of chronic obstructive pulmonary disease or asthma. It can also occur due to passive atelectasis or adhesive atelectasis. \\n',\n",
       " 'sources': ''}"
      ]
     },
     "execution_count": 11,
     "metadata": {},
     "output_type": "execute_result"
    }
   ],
   "source": [
    "chain(\n",
    "    {\"question\": \"What can cause Atelectasis?\"},\n",
    "    return_only_outputs=True,\n",
    ")"
   ]
  },
  {
   "cell_type": "code",
   "execution_count": null,
   "metadata": {},
   "outputs": [
    {
     "data": {
      "text/plain": [
       "{'answer': 'Radiologists need to look for small volume linear shadows on chest x-rays, usually peripherally or at the lung bases, to diagnose atelectasis. They can also use CT scans to accurately depict the involved lung and determine the cause. Additionally, the presence of the crow feet sign, which appears as linear bands radiating from a mass into adjacent lung tissue, can be a characteristic feature of round atelectasis. The clinical presentation of atelectasis can vary depending on the extent and speed of development, but common symptoms include breathlessness, cough, and diminished breath sounds. The underlying causes of atelectasis can include adjacent compression, passive atelectasis, and dependent atelectasis. Treatment involves managing the underlying cause and promoting deeper breathing if hypoventilation is the cause. \\n',\n",
       " 'sources': ''}"
      ]
     },
     "execution_count": 12,
     "metadata": {},
     "output_type": "execute_result"
    }
   ],
   "source": [
    "chain(\n",
    "    {\"question\": \"What clinical features radiologists need for diagnosing Atelectasis?\"},\n",
    "    return_only_outputs=True,\n",
    ")"
   ]
  },
  {
   "cell_type": "code",
   "execution_count": null,
   "metadata": {},
   "outputs": [
    {
     "data": {
      "text/plain": [
       "{'answer': 'Radiographic features of atelectasis include small volume linear shadows on chest x-rays, usually peripherally or at the lung bases. The underlying cause may also be visible. CT chest allows for a more accurate depiction of the involved lung and can help determine the cause. Round atelectasis can be seen on CT as linear bands radiating from a mass into adjacent lung tissue, resembling the feet of a crow. Atelectasis can also be classified based on underlying mechanism (resorptive, passive, compressive, cicatrisation, adhesive, gravity dependent) or morphology (linear, round, lung, lobar, segmental, subsegmental). The radiographic features vary depending on the type and mechanism of atelectasis. \\n',\n",
       " 'sources': ''}"
      ]
     },
     "execution_count": 13,
     "metadata": {},
     "output_type": "execute_result"
    }
   ],
   "source": [
    "chain(\n",
    "    {\"question\": \"what are radiographic features of Atelectasis?\"},\n",
    "    return_only_outputs=True,\n",
    ")"
   ]
  },
  {
   "cell_type": "code",
   "execution_count": null,
   "metadata": {},
   "outputs": [],
   "source": []
  }
 ],
 "metadata": {
  "kernelspec": {
   "display_name": "pytorch",
   "language": "python",
   "name": "python3"
  },
  "language_info": {
   "codemirror_mode": {
    "name": "ipython",
    "version": 3
   },
   "file_extension": ".py",
   "mimetype": "text/x-python",
   "name": "python",
   "nbconvert_exporter": "python",
   "pygments_lexer": "ipython3",
   "version": "3.9.18"
  }
 },
 "nbformat": 4,
 "nbformat_minor": 2
}
