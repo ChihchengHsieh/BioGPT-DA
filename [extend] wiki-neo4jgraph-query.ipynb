{
 "cells": [
  {
   "cell_type": "code",
   "execution_count": 1,
   "metadata": {},
   "outputs": [],
   "source": [
    "import re\n",
    "import os\n",
    "from langchain.vectorstores.neo4j_vector import Neo4jVector\n",
    "from langchain.document_loaders import WikipediaLoader\n",
    "from langchain.embeddings.openai import OpenAIEmbeddings\n",
    "from langchain.text_splitter import (\n",
    "    CharacterTextSplitter,\n",
    "    RecursiveCharacterTextSplitter,\n",
    ")\n",
    "from langchain.graphs import Neo4jGraph\n",
    "from transformers import AutoModelForSeq2SeqLM, AutoTokenizer\n",
    "from langchain.text_splitter import TokenTextSplitter\n",
    "\n",
    "from secret import *\n",
    "import chromadb\n",
    "\n",
    "os.environ[\"OPENAI_API_KEY\"] = OPENAI_API_KEY"
   ]
  },
  {
   "cell_type": "code",
   "execution_count": 2,
   "metadata": {},
   "outputs": [
    {
     "name": "stdout",
     "output_type": "stream",
     "text": [
      "Node properties are the following:\n",
      "\n",
      "Relationship properties are the following:\n",
      "\n",
      "The relationships are the following:\n",
      "\n"
     ]
    }
   ],
   "source": [
    "graph = Neo4jGraph(url=\"bolt://localhost:7687\", username=\"neo4j\", password=\"test1234\")\n",
    "graph.query(\n",
    "    \"\"\"\n",
    "MATCH (n)\n",
    "DETACH DELETE n\n",
    "\"\"\"\n",
    ")\n",
    "graph.refresh_schema()\n",
    "print(graph.schema)"
   ]
  },
  {
   "cell_type": "code",
   "execution_count": 3,
   "metadata": {},
   "outputs": [],
   "source": [
    "raw_documents = WikipediaLoader(query=\"Atelectasis\").load()\n",
    "text_splitter = TokenTextSplitter(chunk_size=2048, chunk_overlap=24)\n",
    "documents = text_splitter.split_documents(raw_documents) # should I only take the first? which is the most relevant?"
   ]
  },
  {
   "cell_type": "code",
   "execution_count": 4,
   "metadata": {},
   "outputs": [
    {
     "name": "stderr",
     "output_type": "stream",
     "text": [
      "c:\\Users\\mike8\\anaconda3\\envs\\pytorch\\lib\\site-packages\\langchain_core\\_api\\deprecation.py:115: LangChainDeprecationWarning: The class `ChatOpenAI` was deprecated in LangChain 0.1.0 and will be removed in 0.2.0. Use langchain_openai.ChatOpenAI instead.\n",
      "  warn_deprecated(\n",
      "  0%|          | 0/25 [00:00<?, ?it/s]c:\\Users\\mike8\\anaconda3\\envs\\pytorch\\lib\\site-packages\\langchain_core\\_api\\deprecation.py:115: LangChainDeprecationWarning: The function `run` was deprecated in LangChain 0.1.0 and will be removed in 0.2.0. Use invoke instead.\n",
      "  warn_deprecated(\n",
      " 84%|████████▍ | 21/25 [27:42<03:56, 59.00s/it] Retrying langchain_community.chat_models.openai.ChatOpenAI.completion_with_retry.<locals>._completion_with_retry in 4.0 seconds as it raised Timeout: Request timed out: HTTPSConnectionPool(host='api.openai.com', port=443): Read timed out. (read timeout=600).\n",
      " 96%|█████████▌| 24/25 [43:07<03:13, 193.50s/it]"
     ]
    },
    {
     "name": "stdout",
     "output_type": "stream",
     "text": [
      "Not working for doc 24\n"
     ]
    },
    {
     "name": "stderr",
     "output_type": "stream",
     "text": [
      "100%|██████████| 25/25 [44:08<00:00, 105.95s/it]\n"
     ]
    },
    {
     "name": "stdout",
     "output_type": "stream",
     "text": [
      "Node properties are the following:\n",
      "Condition {affects: STRING, name: STRING, description: STRING, definition: STRING, unilateral: STRING, id: STRING, mechanism: STRING, treatment: STRING, epidemiology: STRING, diagnosis: STRING, signsandsymptoms: STRING, cause: STRING, alsoknownas: STRING, causedby: STRING, transmission: STRING, complications: STRING, prevention: STRING, symptoms: STRING},Section {name: STRING, id: STRING, description: STRING},Symptom {description: STRING, id: STRING, name: STRING, temperature: STRING},Cause {description: STRING, name: STRING, id: STRING},Risk factor {description: STRING, id: STRING, name: STRING},Type {name: STRING, id: STRING, description: STRING, characteristics: STRING},Anatomy {id: STRING, name: STRING, definition: STRING, plural: STRING, description: STRING},Part of eardrum {description: STRING, id: STRING, name: STRING},Factor {description: STRING, name: STRING, id: STRING},Information {description: STRING, name: STRING, id: STRING},Concept {name: STRING, definition: STRING, id: STRING, description: STRING},Procedure {description: STRING, id: STRING, name: STRING},Device {description: STRING, id: STRING, name: STRING},Risk {description: STRING, id: STRING, name: STRING},Measurement {name: STRING, id: STRING, description: STRING},Organization {name: STRING, id: STRING, description: STRING},Profession {description: STRING, id: STRING, name: STRING},Drug {medicaluses: STRING, name: STRING, brandname: STRING, legalstatus: STRING, id: STRING},Enzyme {id: STRING, name: STRING, description: STRING},Cell line {name: STRING, id: STRING},Medical condition {id: STRING, name: STRING, definition: STRING, causes: STRING, secondaryTo: STRING},Substance {id: STRING, name: STRING, formation: STRING, components: STRING, description: STRING},Organ {id: STRING, name: STRING, location: STRING},Person {id: STRING, name: STRING, nationality: STRING, field: STRING, birthdate: STRING, occupation: STRING, deathdate: STRING, awards: STRING, specialization: STRING},Location {name: STRING, id: STRING},Disease {name: STRING, id: STRING, symptoms: STRING, transmission: STRING},Treatment {id: STRING, name: STRING},Diagnostic test {id: STRING, name: STRING},Muscle {name: STRING, id: STRING, location: STRING},Internal structure {id: STRING, name: STRING, location: STRING},Bone {name: STRING, id: STRING, location: STRING},External structure {location: STRING, id: STRING, name: STRING},Term {description: STRING, id: STRING, name: STRING, translatedAs: STRING},Process {id: STRING, name: STRING},Property {description: STRING, id: STRING, name: STRING},Diagnostic tool {id: STRING},Medicalterm {name: STRING, definition: STRING, id: STRING},Anatomicalstructure {name: STRING, id: STRING, location: STRING},Anatomical structure {id: STRING, name: STRING},Medicalcondition {cause: STRING, name: STRING, id: STRING, definition: STRING, differentialdiagnosis: STRING},Medical procedure {name: STRING, id: STRING},Group {description: STRING, id: STRING, name: STRING},Complication {name: STRING, id: STRING},Body part {id: STRING, name: STRING},Anatomic condition {id: STRING},Surgical intervention {id: STRING},Presentation {description: STRING, id: STRING, name: STRING},Gas mixture {description: STRING, id: STRING, name: STRING},Therapy {id: STRING, name: STRING, description: STRING},Goal {description: STRING, id: STRING, name: STRING},Activity {description: STRING, name: STRING, id: STRING},Event {id: STRING, name: STRING},Bacteria {name: STRING, id: STRING, reservoir: STRING, gramstain: STRING, group: STRING},Microorganism {id: STRING, name: STRING},Medication {id: STRING, name: STRING, description: STRING},Chemicalsubstance {name: STRING, id: STRING},Bodyfluid {id: STRING},Disorder {description: STRING, name: STRING, id: STRING},Stage of life {id: STRING, name: STRING},Action {id: STRING, name: STRING},Occupation {id: STRING, name: STRING},Object {id: STRING, name: STRING},Animal {id: STRING},Virus {id: STRING, name: STRING},Testing method {id: STRING, name: STRING},Measure {id: STRING, name: STRING},Educational institution {name: STRING, id: STRING},Hospital {name: STRING, id: STRING},Country {id: STRING, name: STRING},Method {name: STRING, definition: STRING, id: STRING},Illness {name: STRING, id: STRING},Chemical {id: STRING, name: STRING},Transmission {name: STRING, id: STRING},Reservoir {id: STRING},Lipid {description: STRING, name: STRING, id: STRING},Function {description: STRING, name: STRING, id: STRING},Tissue {description: STRING, id: STRING, name: STRING},Protein {id: STRING, name: STRING, description: STRING},Medicalprocedure {name: STRING, id: STRING, purpose: STRING, cause: STRING},Medical instrument {id: STRING, name: STRING},Abnormal breath sound {name: STRING, formerlyReferredToAs: STRING, id: STRING, refersTo: STRING, originatingInOrNear: STRING, originatingAt: STRING, indicativeOf: STRING, characteristics: STRING}\n",
      "Relationship properties are the following:\n",
      "\n",
      "The relationships are the following:\n",
      "(:Condition)-[:CAN_CAUSE]->(:Symptom),(:Condition)-[:CAN_CAUSE]->(:Condition),(:Condition)-[:INCLUDE]->(:Cause),(:Condition)-[:CAUSE]->(:Symptom),(:Condition)-[:CAUSE]->(:Cause),(:Condition)-[:CAUSE]->(:Condition),(:Condition)-[:CAUSE]->(:Microorganism),(:Condition)-[:IS_A_TYPE_OF]->(:Type),(:Condition)-[:IS_A_TYPE_OF]->(:Condition),(:Condition)-[:CAN_BE_A_CAUSE_FOR]->(:Cause),(:Condition)-[:CAN_RESULT_IN]->(:Condition),(:Condition)-[:RISKFACTOR]->(:Anatomic condition),(:Condition)-[:RISKFACTOR]->(:Anatomy),(:Condition)-[:INVOLVEDINMECHANISM]->(:Anatomy),(:Condition)-[:DIAGNOSEDBY]->(:Diagnostic tool),(:Condition)-[:DIAGNOSEDBY]->(:Anatomy),(:Condition)-[:DIAGNOSEDBY]->(:Diagnostic test),(:Condition)-[:TREATEDBY]->(:Surgical intervention),(:Condition)-[:TREATEDBY]->(:Treatment),(:Condition)-[:AFFECTS]->(:Anatomy),(:Condition)-[:AFFECTS]->(:Anatomicalstructure),(:Condition)-[:CAUSES]->(:Symptom),(:Condition)-[:CAUSED_BY]->(:Condition),(:Condition)-[:DESCRIBES]->(:Condition),(:Condition)-[:COMPRISES]->(:Part of eardrum),(:Condition)-[:DEVELOPS_INTO]->(:Condition),(:Condition)-[:SPECIFIC_CONDITION]->(:Condition),(:Condition)-[:ACUTE_INDICATION_FOR]->(:Concept),(:Condition)-[:INITIAL_INDICATION_FOR]->(:Procedure),(:Condition)-[:EXCEPTION_TO_OXYGEN_THERAPY_RECOMMENDATIONS]->(:Concept),(:Condition)-[:CHRONIC_INDICATION_FOR]->(:Concept),(:Condition)-[:COMPLICATION_OF]->(:Concept),(:Condition)-[:PREFERRED_OXYGEN_SATURATION_RANGE_FOR]->(:Concept),(:Condition)-[:INDICATION_FOR]->(:Concept),(:Condition)-[:BENEFICIAL_IN]->(:Concept),(:Condition)-[:RESULT]->(:Condition),(:Condition)-[:FACTOR]->(:Factor),(:Condition)-[:PROCESS]->(:Process),(:Condition)-[:TERM]->(:Condition),(:Condition)-[:RISKFACTORFOR]->(:Procedure),(:Condition)-[:RISKFACTORFOR]->(:Condition),(:Condition)-[:RISKFACTORFOR]->(:Bacteria),(:Condition)-[:HASSYMPTOM]->(:Symptom),(:Condition)-[:OCCURSAFTER]->(:Event),(:Condition)-[:SUBTYPEOF]->(:Condition),(:Condition)-[:CAN_LEAD_TO]->(:Cause),(:Condition)-[:CAN_LEAD_TO]->(:Condition),(:Condition)-[:TIP_THEM_OVER_THE_EDGE_FROM_BEING]->(:Condition),(:Condition)-[:CAN_EXPAND_AND_CAUSE]->(:Condition),(:Condition)-[:CAN_BE]->(:Action),(:Condition)-[:LINING]->(:Body part),(:Condition)-[:OF]->(:Stage of life),(:Condition)-[:OF]->(:Body part),(:Condition)-[:RESULTING_FROM]->(:Substance),(:Condition)-[:CAUSEDBY]->(:Bacteria),(:Condition)-[:TRANSMITTEDBY]->(:Transmission),(:Condition)-[:CANLEADTO]->(:Complication),(:Condition)-[:OCCURS_IN]->(:Substance),(:Section)-[:DESCRIBES]->(:Condition),(:Cause)-[:CAN_CAUSE]->(:Condition),(:Cause)-[:CAUSE]->(:Condition),(:Cause)-[:CAUSE]->(:Cause),(:Cause)-[:IN]->(:Body part),(:Cause)-[:IN]->(:Stage of life),(:Cause)-[:REDUCES]->(:Process),(:Cause)-[:SECRETED_BY]->(:Substance),(:Cause)-[:CAN_RESULT_IN]->(:Condition),(:Risk factor)-[:INCREASES_LIKELIHOOD_OF]->(:Condition),(:Type)-[:CHARACTERIZED_BY]->(:Condition),(:Anatomy)-[:CONTAINS]->(:External structure),(:Anatomy)-[:CONTAINS]->(:Bone),(:Anatomy)-[:CONTAINS]->(:Internal structure),(:Anatomy)-[:CONTAINS]->(:Organ),(:Anatomy)-[:CONTAINS]->(:Muscle),(:Anatomy)-[:PART_OF]->(:Anatomy),(:Anatomy)-[:SUPPORTS]->(:Bone),(:Anatomy)-[:AFFECTED_BY]->(:Concept),(:Factor)-[:CONTRIBUTES_TO]->(:Condition),(:Factor)-[:FACTOR]->(:Factor),(:Information)-[:INCLUDES]->(:Symptom),(:Information)-[:INCLUDES]->(:Condition),(:Concept)-[:SEEN_IN]->(:Condition),(:Concept)-[:DISORDER_OF]->(:Concept),(:Concept)-[:DUE_TO]->(:Concept),(:Concept)-[:DISTRIBUTED_ON]->(:Concept),(:Concept)-[:DEVELOP_AFTER]->(:Concept),(:Concept)-[:BECOME]->(:Concept),(:Concept)-[:CONSIST_OF]->(:Concept),(:Concept)-[:COVERED_BY]->(:Concept),(:Concept)-[:ASSOCIATED_WITH]->(:Concept),(:Concept)-[:ASSOCIATED_WITH]->(:Term),(:Concept)-[:MANIFESTATION_OF]->(:Concept),(:Concept)-[:INCLUDES]->(:Concept),(:Concept)-[:RISK_FACTOR_FOR]->(:Concept),(:Concept)-[:EXPOSURE_TO]->(:Concept),(:Concept)-[:ENTER_THE]->(:Concept),(:Concept)-[:CLEARED_BY]->(:Concept),(:Concept)-[:REACH_THE]->(:Concept),(:Concept)-[:RETAINED_IN]->(:Concept),(:Concept)-[:CAUSE_THE]->(:Concept),(:Concept)-[:RECOGNISED_BY]->(:Concept),(:Concept)-[:ACCUMULATE_IN]->(:Concept),(:Concept)-[:ACTIVATE_THE]->(:Concept),(:Concept)-[:LEAD_TO]->(:Concept),(:Concept)-[:ENCOMPASS]->(:Concept),(:Concept)-[:REMAIN_UNCERTAIN]->(:Concept),(:Concept)-[:ALSO_REFERRED_TO_AS]->(:Concept),(:Concept)-[:REFERS_TO]->(:Concept),(:Concept)-[:PROVISION_OF]->(:Concept),(:Concept)-[:HAS]->(:Concept),(:Concept)-[:IS]->(:Method),(:Concept)-[:EFFECT]->(:Concept),(:Concept)-[:MECHANISM]->(:Concept),(:Concept)-[:PREVENTION]->(:Concept),(:Concept)-[:USES]->(:Method),(:Concept)-[:WAS_FIRST_DESCRIBED_BY]->(:Person),(:Concept)-[:CAUSES]->(:Concept),(:Procedure)-[:PROPHYLACTICALLY_GIVEN_DURING]->(:Concept),(:Procedure)-[:DELIVERY_METHOD_FOR]->(:Concept),(:Procedure)-[:INDICATION_FOR]->(:Concept),(:Procedure)-[:METHOD_OF_MONITORING]->(:Concept),(:Procedure)-[:TREATMENT_FOR]->(:Condition),(:Procedure)-[:TREATMENT_METHOD_FOR]->(:Condition),(:Procedure)-[:PREVIOUS_TREATMENT_FOR]->(:Procedure),(:Procedure)-[:RECOMMENDEDFOR]->(:Medication),(:Procedure)-[:HELPEDBY]->(:Symptom),(:Procedure)-[:HELPEDBY]->(:Bodyfluid),(:Procedure)-[:REQUIREDFOR]->(:Procedure),(:Procedure)-[:TREATS]->(:Condition),(:Procedure)-[:CONSIDERS]->(:Condition),(:Procedure)-[:RISKFACTORFOR]->(:Condition),(:Procedure)-[:USEDFOR]->(:Chemicalsubstance),(:Device)-[:DELIVERY_METHOD_FOR]->(:Concept),(:Device)-[:TREATMENT_METHOD_FOR]->(:Condition),(:Device)-[:METHOD_OF_PROVIDING]->(:Concept),(:Risk)-[:RISK_ASSOCIATED_WITH]->(:Concept),(:Measurement)-[:MEASUREMENT_USED_IN]->(:Concept),(:Measurement)-[:INCREASE_IN]->(:Concept),(:Organization)-[:INCLUDED_IN]->(:Concept),(:Organization)-[:RECOMMENDED_GUIDELINES_BY]->(:Concept),(:Profession)-[:ASSESSMENT_REQUIRED_BY]->(:Procedure),(:Drug)-[:PROMOTES_IMPROVED_CLEARANCE_OF]->(:Substance),(:Drug)-[:HYDROLYZES]->(:Substance),(:Drug)-[:REDUCES_VISCOSITY_IN]->(:Organ),(:Drug)-[:PRODUCED_IN]->(:Cell line),(:Drug)-[:SHOWN_TO_IMPROVE_LUNG_FUNCTION_IN]->(:Medical condition),(:Drug)-[:USED_FOR]->(:Medical condition),(:Drug)-[:CONTAINS]->(:Enzyme),(:Medical condition)-[:ASSOCIATED_WITH]->(:Term),(:Medical condition)-[:DISCOVERED_BY]->(:Person),(:Medical condition)-[:CAUSED_BY]->(:Term),(:Medical condition)-[:SECONDARY_TO]->(:Medical condition),(:Substance)-[:PREVENTS]->(:Condition),(:Substance)-[:COATS]->(:Condition),(:Substance)-[:LISTED_IN]->(:Medication),(:Substance)-[:FACILITATES]->(:Function),(:Substance)-[:CONTAINS]->(:Lipid),(:Substance)-[:CAUSED_BY]->(:Term),(:Person)-[:DESCRIBEDBY]->(:Condition),(:Person)-[:WORKEDAT]->(:Location),(:Person)-[:USED]->(:Procedure),(:Person)-[:DECREASED]->(:Condition),(:Person)-[:WORK]->(:Organization),(:Person)-[:WORK]->(:Hospital),(:Person)-[:WORK]->(:Location),(:Person)-[:EDUCATION]->(:Educational institution),(:Person)-[:SPOUSE]->(:Person),(:Person)-[:MEMBERSHIP]->(:Organization),(:Person)-[:PREDECESSOR]->(:Person),(:Person)-[:CHILD]->(:Person),(:Person)-[:DEATH_LOCATION]->(:Location),(:Person)-[:CLINICAL_INTEREST]->(:Medical condition),(:Person)-[:PARENT]->(:Person),(:Person)-[:ADOPTED]->(:Term),(:Person)-[:USED_AT_THE_BEDSIDE]->(:Term),(:Disease)-[:PREVENTED_BY]->(:Measure),(:Disease)-[:CAUSED_BY]->(:Virus),(:Disease)-[:FIRST_IDENTIFIED_IN]->(:Location),(:Disease)-[:RESULTED_IN]->(:Event),(:Disease)-[:DETECTED_BY]->(:Testing method),(:Disease)-[:TREATED_BY]->(:Treatment),(:Term)-[:ASSOCIATED_WITH]->(:Process),(:Term)-[:ASSOCIATED_WITH]->(:Organ),(:Term)-[:ASSOCIATED_WITH]->(:Medical condition),(:Term)-[:ASSOCIATED_WITH]->(:Medical instrument),(:Term)-[:RECOMMENDED_SUBSTITUTE_FOR]->(:Term),(:Process)-[:CAUSE]->(:Cause),(:Process)-[:CAUSE]->(:Condition),(:Process)-[:FACTOR]->(:Factor),(:Process)-[:PROCESS]->(:Process),(:Process)-[:CAUSED_BY]->(:Term),(:Process)-[:ASSOCIATED_WITH]->(:Term),(:Property)-[:IS_DEFINED_AS]->(:Property),(:Property)-[:CAUSES]->(:Property),(:Property)-[:CAUSES]->(:Tissue),(:Property)-[:REDUCES]->(:Property),(:Property)-[:REDUCES]->(:Substance),(:Medicalterm)-[:CAUSE]->(:Medicalcondition),(:Medicalterm)-[:TREATMENT]->(:Medicalprocedure),(:Medicalterm)-[:ISLOCATEDIN]->(:Anatomicalstructure),(:Anatomicalstructure)-[:FROM]->(:Medicalterm),(:Anatomical structure)-[:ASSOCIATED_WITH]->(:Term),(:Anatomical structure)-[:CAUSED_BY]->(:Term),(:Medicalcondition)-[:IS]->(:Medicalterm),(:Medicalcondition)-[:IS]->(:Medicalcondition),(:Medicalcondition)-[:CAUSE]->(:Medicalterm),(:Medicalcondition)-[:FROM]->(:Medicalterm),(:Medicalcondition)-[:DIFFERENTIALDIAGNOSIS]->(:Medicalterm),(:Medical procedure)-[:ASSOCIATED_WITH]->(:Term),(:Body part)-[:CAN_CAUSE]->(:Condition),(:Presentation)-[:ASSOCIATED_WITH]->(:Condition),(:Gas mixture)-[:ALTERNATIVE_TREATMENT_TO]->(:Condition),(:Therapy)-[:IS_USED_TO]->(:Therapy),(:Therapy)-[:MAY_BE_INDICATED_FOR]->(:Condition),(:Therapy)-[:DECREASES]->(:Symptom),(:Therapy)-[:IS_USEFUL_IN_THE_TREATMENT_OF]->(:Condition),(:Therapy)-[:IS]->(:Therapy),(:Therapy)-[:IS_FOR]->(:Group),(:Therapy)-[:CAN_BE_INCREASED_TO_REACH]->(:Measurement),(:Therapy)-[:WHEN_TREATING]->(:Condition),(:Therapy)-[:SHOULD_BE]->(:Measurement),(:Therapy)-[:IF_TOLERATED_BY]->(:Activity),(:Goal)-[:OF]->(:Measurement),(:Goal)-[:MUST_BE]->(:Measurement),(:Event)-[:RESULTIN]->(:Condition),(:Event)-[:CAUSE]->(:Event),(:Event)-[:DECREASED]->(:Condition),(:Bacteria)-[:NATURALRESERVOIR]->(:Reservoir),(:Medication)-[:RECOMMENDEDFOR]->(:Condition),(:Disorder)-[:NOT_CAUSED_BY]->(:Condition),(:Disorder)-[:NOT_CAUSED_BY]->(:Cause),(:Disorder)-[:CAN_BE_A_CAUSE_FOR]->(:Condition),(:Disorder)-[:HAS]->(:Condition),(:Disorder)-[:HAS]->(:Symptom),(:Disorder)-[:HAS]->(:Body part),(:Disorder)-[:CAN_BE_A_SECONDARY_SYMPTOM_CAUSED_BY]->(:Condition),(:Disorder)-[:MOST_FREQUENTLY_CAUSED_BY]->(:Cause),(:Stage of life)-[:MAY_BE]->(:Condition),(:Stage of life)-[:MAY_END_UP_WITH]->(:Condition),(:Occupation)-[:TO]->(:Animal),(:Object)-[:CAN_CONTAIN]->(:Cause),(:Animal)-[:MAKE_SURE]->(:Body part),(:Animal)-[:SHOULD]->(:Action),(:Animal)-[:EXPAND_AS_FULLY_AS_POSSIBLE]->(:Body part),(:Method)-[:IS]->(:Method),(:Method)-[:BENEFITSFROM]->(:Concept),(:Illness)-[:OCCURS_IN]->(:Anatomical structure),(:Illness)-[:FORMS_ADJACENT_TO]->(:Anatomical structure),(:Illness)-[:IS_SEEN_PREFERENTIALLY_WITH]->(:Anatomical structure),(:Illness)-[:RESULTS_IN_AN_ABRUPT_DECREASE_IN]->(:Concept),(:Illness)-[:IS_RELEASED_FROM]->(:Chemical),(:Illness)-[:TREATMENT_CONSISTS_OF]->(:Procedure),(:Illness)-[:RATHER_THAN]->(:Procedure),(:Illness)-[:IS_SUGGESTED_WHEN]->(:Concept),(:Illness)-[:PRESENTS_IN_THE_SAME_WAY_AS]->(:Illness),(:Illness)-[:CAN_OCCUR_IN_PATIENTS_WITH]->(:Anatomical structure),(:Illness)-[:FOLLOWING_DRAINAGE_OF]->(:Illness),(:Function)-[:INCREASES]->(:Substance),(:Function)-[:INCREASES]->(:Property),(:Function)-[:REGULATES]->(:Substance),(:Function)-[:ATTRIBUTED_TO]->(:Substance),(:Tissue)-[:AFFECTS]->(:Property),(:Protein)-[:INVOLVED_IN]->(:Function),(:Medicalprocedure)-[:AIDIN]->(:Medicalterm),(:Medicalprocedure)-[:CAUSE]->(:Medicalterm),(:Medicalprocedure)-[:FROM]->(:Medicalterm),(:Abnormal breath sound)-[:FORMERLY_REFERRED_TO_AS]->(:Term),(:Abnormal breath sound)-[:REFERS_TO]->(:Term),(:Abnormal breath sound)-[:ORIGINATING_IN_OR_NEAR]->(:Term),(:Abnormal breath sound)-[:ORIGINATING_AT]->(:Term),(:Abnormal breath sound)-[:CHARACTERIZED_AS]->(:Term)\n"
     ]
    }
   ],
   "source": [
    "from tqdm import tqdm\n",
    "from aug.graph_doc import (\n",
    "    get_extraction_chain,\n",
    "    data_to_graph_doc,\n",
    "    chain_run,\n",
    "    add_graph_documents,\n",
    ")\n",
    "from langchain.chat_models import ChatOpenAI\n",
    "\n",
    "llm = ChatOpenAI(model=\"gpt-3.5-turbo-16k\", temperature=0)\n",
    "\n",
    "allowed_nodes = None\n",
    "allowed_rels = None\n",
    "# allowed_nodes = [\"Symptom\", \"Disease\"]\n",
    "# allowed_rels = [\"CAN_CAUSE\", \"DESCRIBE\", \"HAS\"]\n",
    "\n",
    "extract_chain = get_extraction_chain(llm, allowed_nodes, allowed_rels)\n",
    "gds = []\n",
    "\n",
    "i = 0\n",
    "for d in tqdm(documents, total=len(documents)):\n",
    "    # data = extract_chain.run(d.page_content)\n",
    "    # graph_document = GraphDocument(\n",
    "    #     nodes=[map_to_base_node(node) for node in data.nodes],\n",
    "    #     relationships=[map_to_base_relationship(rel) for rel in data.rels],\n",
    "    #     source=d,\n",
    "    # )\n",
    "    i += 1\n",
    "    try:\n",
    "        data = chain_run(extract_chain, d.page_content)\n",
    "        graph_document = data_to_graph_doc(data, d)\n",
    "        # add_graph_document(graph, graph_document)\n",
    "        gds.append(graph_document)\n",
    "    except:\n",
    "        print(f\"Not working for doc {i}\")\n",
    "\n",
    "add_graph_documents(graph, gds)\n",
    "\n",
    "graph.refresh_schema()\n",
    "print(graph.schema)"
   ]
  },
  {
   "cell_type": "code",
   "execution_count": 5,
   "metadata": {},
   "outputs": [],
   "source": [
    "from langchain.chains import GraphCypherQAChain\n",
    "chain = GraphCypherQAChain.from_llm(\n",
    "    graph=graph,\n",
    "    cypher_llm=ChatOpenAI(temperature=0, model=\"gpt-3.5-turbo-16k\"),\n",
    "    qa_llm=ChatOpenAI(temperature=0, model=\"gpt-3.5-turbo-16k\"),\n",
    "    validate_cypher=True,  # Validate relationship directions\n",
    "    verbose=True,\n",
    ")"
   ]
  },
  {
   "cell_type": "code",
   "execution_count": 10,
   "metadata": {},
   "outputs": [],
   "source": [
    "lesion = \"Atelectasis\"\n",
    "questions = [\n",
    "    f\"What is {lesion}?\",\n",
    "    f\"What are the symptoms associated with {lesion}?\",\n",
    "    f\"What can cause {lesion}?\",\n",
    "    f\"What are the patient’s symptoms that are relevant for {lesion}?\",\n",
    "    f\"What are the relevant clinical signs for the etiological diagnosis of {lesion}?\",\n",
    "    f\"What are the relevant laboratory data for the etiological diagnosis of {lesion}?\",\n",
    "    f\"What are the relevant clinical characteristics for the etiological diagnosis of {lesion}\",\n",
    "    f\"What are the patient’s personal relevant history for the etiological diagnosis of {lesion}\",\n",
    "]"
   ]
  },
  {
   "cell_type": "code",
   "execution_count": 12,
   "metadata": {},
   "outputs": [
    {
     "name": "stdout",
     "output_type": "stream",
     "text": [
      "\n",
      "\n",
      "\u001b[1m> Entering new GraphCypherQAChain chain...\u001b[0m\n",
      "Generated Cypher:\n",
      "\u001b[32;1m\u001b[1;3mMATCH (c:Condition {name: \"Atelectasis\"})\n",
      "RETURN c\u001b[0m\n",
      "Full Context:\n",
      "\u001b[32;1m\u001b[1;3m[{'c': {'name': 'Atelectasis', 'affects': 'part or all of one lung', 'description': 'Atelectasis is a condition where the alveoli are deflated down to little or no volume, as distinct from pulmonary consolidation, in which they are filled with liquid. It is often referred to informally as a collapsed lung, although more accurately it usually involves only a partial collapse, and that ambiguous term is also informally used for a fully collapsed lung caused by a pneumothorax. It is a very common finding in chest X-rays and other radiological studies, and may be caused by normal exhalation or by various medical conditions. Although frequently described as a collapse of lung tissue, atelectasis is not synonymous with a pneumothorax, which is a more specific condition that can cause atelectasis.', 'definition': 'The partial collapse or closure of a lung resulting in reduced or absent gas exchange.', 'unilateral': 'true', 'id': 'Atelectasis'}}]\u001b[0m\n",
      "\n",
      "\u001b[1m> Finished chain.\u001b[0m\n",
      "\n",
      "\n",
      "\u001b[1m> Entering new GraphCypherQAChain chain...\u001b[0m\n",
      "Generated Cypher:\n",
      "\u001b[32;1m\u001b[1;3mMATCH (:Condition {name: 'Atelectasis'})-[:CAUSES]->(symptom:Symptom)\n",
      "RETURN symptom.name\u001b[0m\n",
      "Full Context:\n",
      "\u001b[32;1m\u001b[1;3m[]\u001b[0m\n",
      "\n",
      "\u001b[1m> Finished chain.\u001b[0m\n",
      "\n",
      "\n",
      "\u001b[1m> Entering new GraphCypherQAChain chain...\u001b[0m\n",
      "Generated Cypher:\n",
      "\u001b[32;1m\u001b[1;3mMATCH (:Condition {name: 'Atelectasis'})-[:CAN_CAUSE]->(c:Condition)\n",
      "RETURN c.name\u001b[0m\n",
      "Full Context:\n",
      "\u001b[32;1m\u001b[1;3m[{'c.name': 'Pleural Effusion'}]\u001b[0m\n",
      "\n",
      "\u001b[1m> Finished chain.\u001b[0m\n",
      "\n",
      "\n",
      "\u001b[1m> Entering new GraphCypherQAChain chain...\u001b[0m\n",
      "Generated Cypher:\n",
      "\u001b[32;1m\u001b[1;3mMATCH (p:Person)-[:DESCRIBEDBY]->(c:Condition {name: \"Atelectasis\"})-[:HASSYMPTOM]->(s:Symptom)\n",
      "WHERE p.name = \"patient\"\n",
      "RETURN s.name AS symptom\u001b[0m\n",
      "Full Context:\n",
      "\u001b[32;1m\u001b[1;3m[]\u001b[0m\n",
      "\n",
      "\u001b[1m> Finished chain.\u001b[0m\n",
      "\n",
      "\n",
      "\u001b[1m> Entering new GraphCypherQAChain chain...\u001b[0m\n",
      "Generated Cypher:\n",
      "\u001b[32;1m\u001b[1;3mMATCH (c:Condition {name: \"Atelectasis\"})-[:CAUSES]->(s:Symptom)\n",
      "RETURN s.name AS ClinicalSigns\u001b[0m\n",
      "Full Context:\n",
      "\u001b[32;1m\u001b[1;3m[]\u001b[0m\n",
      "\n",
      "\u001b[1m> Finished chain.\u001b[0m\n",
      "\n",
      "\n",
      "\u001b[1m> Entering new GraphCypherQAChain chain...\u001b[0m\n",
      "Generated Cypher:\n",
      "\u001b[32;1m\u001b[1;3mMATCH (c:Condition {name: \"Atelectasis\"})-[:DIAGNOSEDBY]->(dt:Diagnostic test)\n",
      "RETURN dt.name AS Diagnostic_Test\u001b[0m\n",
      "\n",
      "\n",
      "\u001b[1m> Entering new GraphCypherQAChain chain...\u001b[0m\n",
      "Generated Cypher:\n",
      "\u001b[32;1m\u001b[1;3mMATCH (c:Condition {name: \"Atelectasis\"})-[:INCLUDE]->(cause:Cause)\n",
      "RETURN cause.description\u001b[0m\n",
      "Full Context:\n",
      "\u001b[32;1m\u001b[1;3m[{'cause.description': None}, {'cause.description': None}, {'cause.description': None}]\u001b[0m\n",
      "\n",
      "\u001b[1m> Finished chain.\u001b[0m\n",
      "\n",
      "\n",
      "\u001b[1m> Entering new GraphCypherQAChain chain...\u001b[0m\n",
      "Generated Cypher:\n",
      "\u001b[32;1m\u001b[1;3mMATCH (p:Person)-[:DESCRIBEDBY]->(c:Condition {name: \"Atelectasis\"})\n",
      "RETURN p.name, p.birthdate, p.nationality, p.occupation, p.specialization\u001b[0m\n",
      "Full Context:\n",
      "\u001b[32;1m\u001b[1;3m[]\u001b[0m\n",
      "\n",
      "\u001b[1m> Finished chain.\u001b[0m\n"
     ]
    }
   ],
   "source": [
    "res_dict = {}\n",
    "for q in questions:\n",
    "    try:\n",
    "        res = chain.run(q)\n",
    "        res_dict[q] = res.strip()\n",
    "    except:\n",
    "        res_dict[q] = \"Generated Cypher Statement is not valid\"\n",
    "# res = chain.run(\"What is Atelectasis?\")"
   ]
  },
  {
   "cell_type": "code",
   "execution_count": 13,
   "metadata": {},
   "outputs": [
    {
     "name": "stdout",
     "output_type": "stream",
     "text": [
      "Atelectasis is a condition where part or all of one lung is affected. It is characterized by the deflation of the alveoli, which are the tiny air sacs in the lungs. This condition is often referred to as a collapsed lung, although it usually involves only a partial collapse. Atelectasis is a common finding in chest X-rays and other radiological studies. It can be caused by normal exhalation or various medical conditions. It is important to note that atelectasis is not synonymous with a pneumothorax, which is a more specific condition that can cause atelectasis.\n",
      "I'm sorry, but I don't have the information to answer your question. It would be best to consult a medical professional for accurate information on the symptoms associated with Atelectasis.\n",
      "I'm sorry, but I don't have enough information to provide a helpful answer.\n",
      "I'm sorry, but I don't have the information to answer your question. It would be best to consult a medical professional for accurate and reliable information regarding the symptoms of Atelectasis.\n",
      "I'm sorry, but I don't have the information to answer your question.\n",
      "Generated Cypher Statement is not valid\n",
      "I'm sorry, but I don't have the information to answer your question.\n",
      "I'm sorry, but I don't have access to the patient's personal relevant history for the etiological diagnosis of Atelectasis.\n"
     ]
    }
   ],
   "source": [
    "for q in questions:\n",
    "    print(res_dict[q])"
   ]
  },
  {
   "cell_type": "code",
   "execution_count": 7,
   "metadata": {},
   "outputs": [
    {
     "ename": "StopIteration",
     "evalue": "",
     "output_type": "error",
     "traceback": [
      "\u001b[1;31m---------------------------------------------------------------------------\u001b[0m",
      "\u001b[1;31mStopIteration\u001b[0m                             Traceback (most recent call last)",
      "Cell \u001b[1;32mIn[7], line 1\u001b[0m\n\u001b[1;32m----> 1\u001b[0m \u001b[38;5;28;01mraise\u001b[39;00m \u001b[38;5;167;01mStopIteration\u001b[39;00m()\n",
      "\u001b[1;31mStopIteration\u001b[0m: "
     ]
    }
   ],
   "source": [
    "raise StopIteration()"
   ]
  },
  {
   "cell_type": "code",
   "execution_count": null,
   "metadata": {},
   "outputs": [
    {
     "name": "stdout",
     "output_type": "stream",
     "text": [
      "\n",
      "\n",
      "\u001b[1m> Entering new GraphCypherQAChain chain...\u001b[0m\n",
      "Generated Cypher:\n",
      "\u001b[32;1m\u001b[1;3m\u001b[0m\n",
      "Full Context:\n",
      "\u001b[32;1m\u001b[1;3m[]\u001b[0m\n",
      "\n",
      "\u001b[1m> Finished chain.\u001b[0m\n"
     ]
    },
    {
     "data": {
      "text/plain": [
       "\"I'm sorry, but I don't have the information to answer your question. It would be best to consult a medical professional for accurate information on the symptoms of Atelectasis.\""
      ]
     },
     "execution_count": 7,
     "metadata": {},
     "output_type": "execute_result"
    }
   ],
   "source": [
    "chain.run(\"What are the symptoms of Atelectasis?\")"
   ]
  },
  {
   "cell_type": "code",
   "execution_count": null,
   "metadata": {},
   "outputs": [
    {
     "name": "stdout",
     "output_type": "stream",
     "text": [
      "\n",
      "\n",
      "\u001b[1m> Entering new GraphCypherQAChain chain...\u001b[0m\n",
      "Generated Cypher:\n",
      "\u001b[32;1m\u001b[1;3mMATCH (:Condition {name: 'Atelectasis'})-[:HASCAUSE]->(cause:Cause)\n",
      "RETURN cause.name\u001b[0m\n",
      "Full Context:\n",
      "\u001b[32;1m\u001b[1;3m[]\u001b[0m\n",
      "\n",
      "\u001b[1m> Finished chain.\u001b[0m\n"
     ]
    },
    {
     "data": {
      "text/plain": [
       "'There are several factors that can cause atelectasis. Some common causes include blockage of the airways due to mucus, a foreign object, or a tumor, as well as lung diseases such as chronic obstructive pulmonary disease (COPD) or pneumonia. Additionally, certain medical procedures, such as anesthesia or prolonged bed rest, can also contribute to the development of atelectasis. It is important to consult with a healthcare professional for a proper diagnosis and treatment plan.'"
      ]
     },
     "execution_count": 8,
     "metadata": {},
     "output_type": "execute_result"
    }
   ],
   "source": [
    "chain.run(\"What can cause Atelectasis?\")"
   ]
  },
  {
   "cell_type": "code",
   "execution_count": null,
   "metadata": {},
   "outputs": [
    {
     "name": "stdout",
     "output_type": "stream",
     "text": [
      "\n",
      "\n",
      "\u001b[1m> Entering new GraphCypherQAChain chain...\u001b[0m\n",
      "Generated Cypher:\n",
      "\u001b[32;1m\u001b[1;3mMATCH (c:Condition {name: 'Atelectasis'})-[:DESCRIBES]->(t:Term)\n",
      "RETURN t.name AS ClinicalFeaturesRadiologistsNeedForDiagnosingAtelectasis\u001b[0m\n",
      "Full Context:\n",
      "\u001b[32;1m\u001b[1;3m[]\u001b[0m\n",
      "\n",
      "\u001b[1m> Finished chain.\u001b[0m\n"
     ]
    },
    {
     "data": {
      "text/plain": [
       "'To diagnose Atelectasis, radiologists typically look for certain clinical features. These may include signs such as lung collapse, airway obstruction, and reduced lung volume. Additionally, they may also consider the presence of symptoms such as shortness of breath, coughing, and decreased breath sounds. By evaluating these clinical features, radiologists can help in diagnosing Atelectasis.'"
      ]
     },
     "execution_count": 9,
     "metadata": {},
     "output_type": "execute_result"
    }
   ],
   "source": [
    "chain.run(\"What clinical features radiologists need for diagnosing Atelectasis?\")"
   ]
  },
  {
   "cell_type": "code",
   "execution_count": null,
   "metadata": {},
   "outputs": [
    {
     "name": "stdout",
     "output_type": "stream",
     "text": [
      "\n",
      "\n",
      "\u001b[1m> Entering new GraphCypherQAChain chain...\u001b[0m\n",
      "Generated Cypher:\n",
      "\u001b[32;1m\u001b[1;3mMATCH (c:Condition {name: 'Atelectasis'})-[:HASCAUSE]->(r:Condition)-[:HASEFFECT]->(p:Process)\n",
      "RETURN p.name\u001b[0m\n",
      "Full Context:\n",
      "\u001b[32;1m\u001b[1;3m[]\u001b[0m\n",
      "\n",
      "\u001b[1m> Finished chain.\u001b[0m\n"
     ]
    },
    {
     "data": {
      "text/plain": [
       "\"I'm sorry, but I don't have the information to answer your question about the radiographic features of Atelectasis.\""
      ]
     },
     "execution_count": 10,
     "metadata": {},
     "output_type": "execute_result"
    }
   ],
   "source": [
    "chain.run(\"what are radiographic features of Atelectasis?\")"
   ]
  },
  {
   "cell_type": "code",
   "execution_count": null,
   "metadata": {},
   "outputs": [],
   "source": []
  }
 ],
 "metadata": {
  "kernelspec": {
   "display_name": "pytorch",
   "language": "python",
   "name": "python3"
  },
  "language_info": {
   "codemirror_mode": {
    "name": "ipython",
    "version": 3
   },
   "file_extension": ".py",
   "mimetype": "text/x-python",
   "name": "python",
   "nbconvert_exporter": "python",
   "pygments_lexer": "ipython3",
   "version": "3.9.18"
  }
 },
 "nbformat": 4,
 "nbformat_minor": 2
}
