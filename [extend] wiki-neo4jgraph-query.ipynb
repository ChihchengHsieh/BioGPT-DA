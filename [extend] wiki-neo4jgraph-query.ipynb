{
 "cells": [
  {
   "cell_type": "code",
   "execution_count": 1,
   "metadata": {},
   "outputs": [],
   "source": [
    "import re\n",
    "import os\n",
    "from langchain.vectorstores.neo4j_vector import Neo4jVector\n",
    "from langchain.document_loaders import WikipediaLoader\n",
    "from langchain.embeddings.openai import OpenAIEmbeddings\n",
    "from langchain.text_splitter import (\n",
    "    CharacterTextSplitter,\n",
    "    RecursiveCharacterTextSplitter,\n",
    ")\n",
    "from langchain.graphs import Neo4jGraph\n",
    "from transformers import AutoModelForSeq2SeqLM, AutoTokenizer\n",
    "from langchain.text_splitter import TokenTextSplitter\n",
    "\n",
    "from secret import *\n",
    "import chromadb\n",
    "\n",
    "os.environ[\"OPENAI_API_KEY\"] = OPENAI_API_KEY"
   ]
  },
  {
   "cell_type": "code",
   "execution_count": 2,
   "metadata": {},
   "outputs": [
    {
     "name": "stdout",
     "output_type": "stream",
     "text": [
      "\n",
      "        Node properties are the following:\n",
      "        []\n",
      "        Relationship properties are the following:\n",
      "        []\n",
      "        The relationships are the following:\n",
      "        []\n",
      "        \n"
     ]
    }
   ],
   "source": [
    "graph = Neo4jGraph(url=\"bolt://localhost:7687\", username=\"neo4j\", password=\"test1234\")\n",
    "graph.query(\n",
    "    \"\"\"\n",
    "MATCH (n)\n",
    "DETACH DELETE n\n",
    "\"\"\"\n",
    ")\n",
    "graph.refresh_schema()\n",
    "print(graph.schema)"
   ]
  },
  {
   "cell_type": "code",
   "execution_count": 3,
   "metadata": {},
   "outputs": [],
   "source": [
    "raw_documents = WikipediaLoader(query=\"Atelectasis\").load()\n",
    "text_splitter = TokenTextSplitter(chunk_size=2048, chunk_overlap=24)\n",
    "documents = text_splitter.split_documents(raw_documents) # should I only take the first? which is the most relevant?"
   ]
  },
  {
   "cell_type": "code",
   "execution_count": 4,
   "metadata": {},
   "outputs": [
    {
     "name": "stderr",
     "output_type": "stream",
     "text": [
      "100%|██████████| 10/10 [07:19<00:00, 43.97s/it]\n"
     ]
    },
    {
     "name": "stdout",
     "output_type": "stream",
     "text": [
      "\n",
      "        Node properties are the following:\n",
      "        [{'labels': 'Condition', 'properties': [{'property': 'causedBy', 'type': 'STRING'}, {'property': 'affects', 'type': 'STRING'}, {'property': 'description', 'type': 'STRING'}, {'property': 'id', 'type': 'STRING'}, {'property': 'name', 'type': 'STRING'}, {'property': 'definition', 'type': 'STRING'}, {'property': 'unilateral', 'type': 'STRING'}, {'property': 'alsoKnownAs', 'type': 'STRING'}, {'property': 'prevalenceIn', 'type': 'STRING'}, {'property': 'history', 'type': 'STRING'}, {'property': 'mechanism', 'type': 'STRING'}, {'property': 'treatment', 'type': 'STRING'}, {'property': 'epidemiology', 'type': 'STRING'}, {'property': 'diagnosis', 'type': 'STRING'}, {'property': 'signsandsymptoms', 'type': 'STRING'}]}, {'labels': 'Section', 'properties': [{'property': 'name', 'type': 'STRING'}, {'property': 'id', 'type': 'STRING'}, {'property': 'description', 'type': 'STRING'}]}, {'labels': 'Symptom', 'properties': [{'property': 'description', 'type': 'STRING'}, {'property': 'id', 'type': 'STRING'}, {'property': 'name', 'type': 'STRING'}]}, {'labels': 'Cause', 'properties': [{'property': 'name', 'type': 'STRING'}, {'property': 'id', 'type': 'STRING'}, {'property': 'characterizedBy', 'type': 'STRING'}, {'property': 'developsIn', 'type': 'STRING'}, {'property': 'increasedRiskFor', 'type': 'STRING'}, {'property': 'possibleCauses', 'type': 'STRING'}, {'property': 'causes', 'type': 'STRING'}, {'property': 'disruptsTheContactBetween', 'type': 'STRING'}]}, {'labels': 'Type', 'properties': [{'property': 'characteristics', 'type': 'STRING'}, {'property': 'name', 'type': 'STRING'}, {'property': 'id', 'type': 'STRING'}]}, {'labels': 'Anatomy', 'properties': [{'property': 'id', 'type': 'STRING'}, {'property': 'name', 'type': 'STRING'}, {'property': 'definition', 'type': 'STRING'}, {'property': 'plural', 'type': 'STRING'}, {'property': 'description', 'type': 'STRING'}]}, {'labels': 'Factor', 'properties': [{'property': 'description', 'type': 'STRING'}, {'property': 'name', 'type': 'STRING'}, {'property': 'id', 'type': 'STRING'}]}, {'labels': 'Concept', 'properties': [{'property': 'description', 'type': 'STRING'}, {'property': 'id', 'type': 'STRING'}, {'property': 'name', 'type': 'STRING'}, {'property': 'definition', 'type': 'STRING'}]}, {'labels': 'Procedure', 'properties': [{'property': 'description', 'type': 'STRING'}, {'property': 'id', 'type': 'STRING'}, {'property': 'name', 'type': 'STRING'}]}, {'labels': 'Device', 'properties': [{'property': 'description', 'type': 'STRING'}, {'property': 'id', 'type': 'STRING'}, {'property': 'name', 'type': 'STRING'}]}, {'labels': 'Risk', 'properties': [{'property': 'description', 'type': 'STRING'}, {'property': 'id', 'type': 'STRING'}, {'property': 'name', 'type': 'STRING'}]}, {'labels': 'Measurement', 'properties': [{'property': 'name', 'type': 'STRING'}, {'property': 'id', 'type': 'STRING'}, {'property': 'description', 'type': 'STRING'}]}, {'labels': 'Organization', 'properties': [{'property': 'name', 'type': 'STRING'}, {'property': 'id', 'type': 'STRING'}, {'property': 'description', 'type': 'STRING'}]}, {'labels': 'Profession', 'properties': [{'property': 'description', 'type': 'STRING'}, {'property': 'id', 'type': 'STRING'}, {'property': 'name', 'type': 'STRING'}]}, {'labels': 'Drug', 'properties': [{'property': 'brandname', 'type': 'STRING'}, {'property': 'medicaluses', 'type': 'STRING'}, {'property': 'id', 'type': 'STRING'}, {'property': 'name', 'type': 'STRING'}]}, {'labels': 'Enzyme', 'properties': [{'property': 'id', 'type': 'STRING'}, {'property': 'name', 'type': 'STRING'}]}, {'labels': 'Cell line', 'properties': [{'property': 'name', 'type': 'STRING'}, {'property': 'id', 'type': 'STRING'}]}, {'labels': 'Substance', 'properties': [{'property': 'id', 'type': 'STRING'}, {'property': 'name', 'type': 'STRING'}]}, {'labels': 'Organ', 'properties': [{'property': 'id', 'type': 'STRING'}, {'property': 'name', 'type': 'STRING'}, {'property': 'location', 'type': 'STRING'}]}, {'labels': 'Muscle', 'properties': [{'property': 'name', 'type': 'STRING'}, {'property': 'id', 'type': 'STRING'}, {'property': 'location', 'type': 'STRING'}]}, {'labels': 'Internal structure', 'properties': [{'property': 'id', 'type': 'STRING'}, {'property': 'name', 'type': 'STRING'}, {'property': 'location', 'type': 'STRING'}]}, {'labels': 'Bone', 'properties': [{'property': 'name', 'type': 'STRING'}, {'property': 'id', 'type': 'STRING'}, {'property': 'location', 'type': 'STRING'}]}, {'labels': 'External structure', 'properties': [{'property': 'location', 'type': 'STRING'}, {'property': 'id', 'type': 'STRING'}, {'property': 'name', 'type': 'STRING'}]}, {'labels': 'Part', 'properties': [{'property': 'description', 'type': 'STRING'}, {'property': 'id', 'type': 'STRING'}, {'property': 'name', 'type': 'STRING'}]}, {'labels': 'Term', 'properties': [{'property': 'name', 'type': 'STRING'}, {'property': 'id', 'type': 'STRING'}, {'property': 'description', 'type': 'STRING'}]}, {'labels': 'Process', 'properties': [{'property': 'id', 'type': 'STRING'}, {'property': 'name', 'type': 'STRING'}]}, {'labels': 'Property', 'properties': [{'property': 'id', 'type': 'STRING'}, {'property': 'name', 'type': 'STRING'}]}]\n",
      "        Relationship properties are the following:\n",
      "        [{'properties': [{'property': 'oxygenContent', 'type': 'STRING'}], 'type': 'TYPICALLY_CONTAINS'}, {'properties': [{'property': 'range', 'type': 'STRING'}], 'type': 'ADEQUATE_LEVEL_FOR_MOST_CONDITIONS'}, {'properties': [{'property': 'range', 'type': 'STRING'}], 'type': 'PREFERRED_LEVEL_FOR_THOSE_AT_RISK_OF'}, {'properties': [{'property': 'range', 'type': 'STRING'}], 'type': 'RECOMMENDED_LEVEL_FOR'}, {'properties': [{'property': 'saturationsNotStartedAbove', 'type': 'STRING'}, {'property': 'saturationsGreaterThan', 'type': 'STRING'}], 'type': 'RECOMMENDED_STOPPING_POINT_FOR_OXYGEN_THERAPY'}, {'properties': [{'property': 'oxygenConcentration', 'type': 'STRING'}], 'type': 'STANDARD_TREATMENT_FOR'}, {'properties': [{'property': 'avoidanceOfHyperoxicEnvironments', 'type': 'STRING'}], 'type': 'MAY_BE_BENEFICIAL_IN'}, {'properties': [{'property': 'initialHypoxemiaHasResolved', 'type': 'STRING'}], 'type': 'ADDITIONAL_TREATMENT_MAY_BE_UNNECESSARY_IF'}, {'properties': [{'property': 'timeWindow', 'type': 'STRING'}], 'type': 'RECOMMENDED_TREATMENT_FOR'}, {'properties': [{'property': 'priorToPrescriptionRenewal', 'type': 'STRING'}], 'type': 'SHOULD_BE_RE-ASSESSED_BY'}]\n",
      "        The relationships are the following:\n",
      "        ['(:Condition)-[:HASEFFECT]->(:Condition)', '(:Condition)-[:HASEFFECT]->(:Process)', '(:Condition)-[:CAN_CAUSE]->(:Condition)', '(:Condition)-[:HASCAUSE]->(:Condition)', '(:Condition)-[:HASCAUSE]->(:Cause)', '(:Condition)-[:HASCAUSE]->(:Process)', '(:Condition)-[:IS_ALSO_KNOWN_AS]->(:Condition)', '(:Condition)-[:COMPRISES]->(:Part)', '(:Condition)-[:DESCRIBES]->(:Term)', '(:Condition)-[:CAUSED_BY]->(:Condition)', '(:Condition)-[:CAN_INCREASE_THE_RISK_OF]->(:Risk)', '(:Condition)-[:CAN_RESULT_IN]->(:Condition)', '(:Condition)-[:EMERGENCY_TREATMENT_FOR]->(:Condition)', '(:Condition)-[:RECOMMENDED_TREATMENT_FOR]->(:Procedure)', '(:Condition)-[:STANDARD_TREATMENT_FOR]->(:Device)', '(:Condition)-[:MAY_BE_BENEFICIAL_IN]->(:Concept)', '(:Condition)-[:SUBTYPE_OF]->(:Condition)', '(:Condition)-[:CAN_LEAD_TO]->(:Condition)', '(:Condition)-[:RESULT]->(:Condition)', '(:Condition)-[:TERM]->(:Condition)', '(:Condition)-[:ISASSOCIATEDWITH]->(:Process)', '(:Cause)-[:CAUSES]->(:Condition)', '(:Cause)-[:HASEFFECT]->(:Condition)', '(:Cause)-[:HASEFFECT]->(:Cause)', '(:Cause)-[:HASCAUSE]->(:Cause)', '(:Type)-[:CHARACTERIZED_BY]->(:Condition)', '(:Anatomy)-[:CONTAINS]->(:External structure)', '(:Anatomy)-[:CONTAINS]->(:Internal structure)', '(:Anatomy)-[:CONTAINS]->(:Bone)', '(:Anatomy)-[:CONTAINS]->(:Organ)', '(:Anatomy)-[:CONTAINS]->(:Muscle)', '(:Anatomy)-[:PART_OF]->(:Anatomy)', '(:Anatomy)-[:SUPPORTS]->(:Bone)', '(:Factor)-[:CONTRIBUTES_TO]->(:Condition)', '(:Factor)-[:ISASSOCIATEDWITH]->(:Condition)', '(:Factor)-[:ISASSOCIATEDWITH]->(:Factor)', '(:Factor)-[:ISASSOCIATEDWITH]->(:Process)', '(:Factor)-[:HASEFFECT]->(:Process)', '(:Concept)-[:USED_IN]->(:Condition)', '(:Concept)-[:USED_IN]->(:Procedure)', '(:Concept)-[:INCLUDED_IN]->(:Concept)', '(:Concept)-[:ALSO_REFERRED_TO_AS]->(:Concept)', '(:Concept)-[:ACUTE_INDICATION_FOR_THERAPY]->(:Condition)', '(:Concept)-[:PROPHYLACTICALLY_GIVEN_DURING]->(:Procedure)', '(:Concept)-[:CHRONIC_INDICATION_FOR_THERAPY]->(:Condition)', '(:Concept)-[:CAN_BE_DELIVERED_VIA]->(:Device)', '(:Concept)-[:CAN_BE_DELIVERED_VIA]->(:Procedure)', '(:Concept)-[:CAN_DRY_OUT]->(:Anatomy)', '(:Concept)-[:CAN_REFER_TO]->(:Concept)', '(:Concept)-[:CAN_BE_PROVIDED_BY]->(:Device)', '(:Concept)-[:TYPICALLY_CONTAINS]->(:Concept)', '(:Concept)-[:ASSOCIATED_WITH]->(:Condition)', '(:Concept)-[:ASSOCIATED_WITH]->(:Concept)', '(:Concept)-[:DISORDER_OF]->(:Concept)', '(:Concept)-[:DUE_TO]->(:Concept)', '(:Concept)-[:DISTRIBUTED_ON]->(:Concept)', '(:Concept)-[:DEVELOP_AFTER]->(:Concept)', '(:Concept)-[:BECOME]->(:Concept)', '(:Concept)-[:CONSIST_OF]->(:Concept)', '(:Concept)-[:COVERED_BY]->(:Concept)', '(:Concept)-[:MANIFESTATION_OF]->(:Concept)', '(:Concept)-[:INCLUDES]->(:Concept)', '(:Concept)-[:RISK_FACTOR_FOR]->(:Concept)', '(:Concept)-[:EXPOSURE_TO]->(:Concept)', '(:Concept)-[:ENTER_THE]->(:Concept)', '(:Concept)-[:CAUSE_THE]->(:Concept)', '(:Concept)-[:REACH_THE]->(:Concept)', '(:Concept)-[:RETAINED_IN]->(:Concept)', '(:Concept)-[:CLEARED_BY]->(:Concept)', '(:Concept)-[:MIGRATE_TO]->(:Concept)', '(:Concept)-[:ACCUMULATE_IN]->(:Concept)', '(:Concept)-[:LEAD_TO]->(:Concept)', '(:Concept)-[:INCLUDE]->(:Concept)', '(:Concept)-[:UNCERTAIN]->(:Concept)', '(:Procedure)-[:USED_TO_MONITOR]->(:Concept)', '(:Procedure)-[:ALTERNATIVE_TO]->(:Concept)', '(:Procedure)-[:SHOULD_BE_RE-ASSESSED_BY]->(:Profession)', '(:Procedure)-[:ADDITIONAL_TREATMENT_MAY_BE_UNNECESSARY_IF]->(:Concept)', '(:Measurement)-[:RECOMMENDED_LEVEL_FOR]->(:Condition)', '(:Measurement)-[:ADEQUATE_LEVEL_FOR_MOST_CONDITIONS]->(:Concept)', '(:Measurement)-[:PREFERRED_LEVEL_FOR_THOSE_AT_RISK_OF]->(:Condition)', '(:Organization)-[:RECOMMENDED_STOPPING_POINT_FOR_OXYGEN_THERAPY]->(:Concept)', '(:Drug)-[:PROMOTESCLEARANCEOF]->(:Substance)', '(:Drug)-[:HYDROLYZES]->(:Substance)', '(:Drug)-[:USEDFOR]->(:Condition)', '(:Drug)-[:REDUCESVISCOSITYIN]->(:Organ)', '(:Drug)-[:PRODUCEDIN]->(:Cell line)', '(:Drug)-[:SHOWNTOIMPROVE]->(:Condition)', '(:Drug)-[:CONTAINS]->(:Enzyme)', '(:Term)-[:INDICATES]->(:Condition)', '(:Term)-[:CAN_BE_CAUSED_BY]->(:Condition)', '(:Term)-[:CAN_OCCUR_AS_A_RESULT_OF]->(:Condition)', '(:Process)-[:ISASSOCIATEDWITH]->(:Condition)', '(:Process)-[:HASEFFECT]->(:Process)']\n",
      "        \n"
     ]
    }
   ],
   "source": [
    "from tqdm import tqdm\n",
    "from aug.graph_doc import (\n",
    "    get_extraction_chain,\n",
    "    data_to_graph_doc,\n",
    "    chain_run,\n",
    "    add_graph_documents,\n",
    ")\n",
    "from langchain.chat_models import ChatOpenAI\n",
    "\n",
    "llm = ChatOpenAI(model=\"gpt-3.5-turbo-16k\", temperature=0)\n",
    "\n",
    "allowed_nodes = None\n",
    "allowed_rels = None\n",
    "# allowed_nodes = [\"Symptom\", \"Disease\"]\n",
    "# allowed_rels = [\"CAN_CAUSE\", \"DESCRIBE\", \"HAS\"]\n",
    "\n",
    "extract_chain = get_extraction_chain(llm, allowed_nodes, allowed_rels)\n",
    "gds = []\n",
    "\n",
    "for d in tqdm(documents, total=len(documents)):\n",
    "    data = chain_run(extract_chain, d.page_content)\n",
    "    # data = extract_chain.run(d.page_content)\n",
    "    # graph_document = GraphDocument(\n",
    "    #     nodes=[map_to_base_node(node) for node in data.nodes],\n",
    "    #     relationships=[map_to_base_relationship(rel) for rel in data.rels],\n",
    "    #     source=d,\n",
    "    # )\n",
    "    graph_document = data_to_graph_doc(data, d)\n",
    "    # add_graph_document(graph, graph_document)\n",
    "    gds.append(graph_document)\n",
    "\n",
    "add_graph_documents(graph, gds)\n",
    "\n",
    "graph.refresh_schema()\n",
    "print(graph.schema)"
   ]
  },
  {
   "cell_type": "code",
   "execution_count": 5,
   "metadata": {},
   "outputs": [],
   "source": [
    "from langchain.chains import GraphCypherQAChain\n",
    "chain = GraphCypherQAChain.from_llm(\n",
    "    graph=graph,\n",
    "    cypher_llm=ChatOpenAI(temperature=0, model=\"gpt-3.5-turbo-16k\"),\n",
    "    qa_llm=ChatOpenAI(temperature=0, model=\"gpt-3.5-turbo-16k\"),\n",
    "    validate_cypher=True,  # Validate relationship directions\n",
    "    verbose=True,\n",
    ")"
   ]
  },
  {
   "cell_type": "code",
   "execution_count": 6,
   "metadata": {},
   "outputs": [
    {
     "name": "stdout",
     "output_type": "stream",
     "text": [
      "\n",
      "\n",
      "\u001b[1m> Entering new GraphCypherQAChain chain...\u001b[0m\n",
      "Generated Cypher:\n",
      "\u001b[32;1m\u001b[1;3mMATCH (c:Condition {name: 'Atelectasis'})\n",
      "RETURN c\u001b[0m\n",
      "Full Context:\n",
      "\u001b[32;1m\u001b[1;3m[{'c': {'name': 'Atelectasis', 'causedBy': 'normal exhalation or various medical conditions', 'affects': 'part or all of one lung', 'description': 'A condition where the alveoli are deflated down to little or no volume, as distinct from pulmonary consolidation', 'definition': 'The collapse or closure of a lung resulting in reduced or absent gas exchange', 'unilateral': 'true', 'id': 'Atelectasis', 'alsoKnownAs': 'collapsed lung'}}]\u001b[0m\n",
      "\n",
      "\u001b[1m> Finished chain.\u001b[0m\n"
     ]
    },
    {
     "data": {
      "text/plain": [
       "'Atelectasis is a condition where part or all of one lung collapses or closes, resulting in reduced or absent gas exchange. It can be caused by normal exhalation or various medical conditions. The alveoli, which are small air sacs in the lungs, become deflated down to little or no volume. Atelectasis is also known as a collapsed lung.'"
      ]
     },
     "execution_count": 6,
     "metadata": {},
     "output_type": "execute_result"
    }
   ],
   "source": [
    "chain.run(\"What is Atelectasis?\")"
   ]
  },
  {
   "cell_type": "code",
   "execution_count": 7,
   "metadata": {},
   "outputs": [
    {
     "name": "stdout",
     "output_type": "stream",
     "text": [
      "\n",
      "\n",
      "\u001b[1m> Entering new GraphCypherQAChain chain...\u001b[0m\n",
      "Generated Cypher:\n",
      "\u001b[32;1m\u001b[1;3m\u001b[0m\n",
      "Full Context:\n",
      "\u001b[32;1m\u001b[1;3m[]\u001b[0m\n",
      "\n",
      "\u001b[1m> Finished chain.\u001b[0m\n"
     ]
    },
    {
     "data": {
      "text/plain": [
       "\"I'm sorry, but I don't have the information to answer your question. It would be best to consult a medical professional for accurate information on the symptoms of Atelectasis.\""
      ]
     },
     "execution_count": 7,
     "metadata": {},
     "output_type": "execute_result"
    }
   ],
   "source": [
    "chain.run(\"What are the symptoms of Atelectasis?\")"
   ]
  },
  {
   "cell_type": "code",
   "execution_count": 8,
   "metadata": {},
   "outputs": [
    {
     "name": "stdout",
     "output_type": "stream",
     "text": [
      "\n",
      "\n",
      "\u001b[1m> Entering new GraphCypherQAChain chain...\u001b[0m\n",
      "Generated Cypher:\n",
      "\u001b[32;1m\u001b[1;3mMATCH (:Condition {name: 'Atelectasis'})-[:HASCAUSE]->(cause:Cause)\n",
      "RETURN cause.name\u001b[0m\n",
      "Full Context:\n",
      "\u001b[32;1m\u001b[1;3m[]\u001b[0m\n",
      "\n",
      "\u001b[1m> Finished chain.\u001b[0m\n"
     ]
    },
    {
     "data": {
      "text/plain": [
       "'There are several factors that can cause atelectasis. Some common causes include blockage of the airways due to mucus, a foreign object, or a tumor, as well as lung diseases such as chronic obstructive pulmonary disease (COPD) or pneumonia. Additionally, certain medical procedures, such as anesthesia or prolonged bed rest, can also contribute to the development of atelectasis. It is important to consult with a healthcare professional for a proper diagnosis and treatment plan.'"
      ]
     },
     "execution_count": 8,
     "metadata": {},
     "output_type": "execute_result"
    }
   ],
   "source": [
    "chain.run(\"What can cause Atelectasis?\")"
   ]
  },
  {
   "cell_type": "code",
   "execution_count": 9,
   "metadata": {},
   "outputs": [
    {
     "name": "stdout",
     "output_type": "stream",
     "text": [
      "\n",
      "\n",
      "\u001b[1m> Entering new GraphCypherQAChain chain...\u001b[0m\n",
      "Generated Cypher:\n",
      "\u001b[32;1m\u001b[1;3mMATCH (c:Condition {name: 'Atelectasis'})-[:DESCRIBES]->(t:Term)\n",
      "RETURN t.name AS ClinicalFeaturesRadiologistsNeedForDiagnosingAtelectasis\u001b[0m\n",
      "Full Context:\n",
      "\u001b[32;1m\u001b[1;3m[]\u001b[0m\n",
      "\n",
      "\u001b[1m> Finished chain.\u001b[0m\n"
     ]
    },
    {
     "data": {
      "text/plain": [
       "'To diagnose Atelectasis, radiologists typically look for certain clinical features. These may include signs such as lung collapse, airway obstruction, and reduced lung volume. Additionally, they may also consider the presence of symptoms such as shortness of breath, coughing, and decreased breath sounds. By evaluating these clinical features, radiologists can help in diagnosing Atelectasis.'"
      ]
     },
     "execution_count": 9,
     "metadata": {},
     "output_type": "execute_result"
    }
   ],
   "source": [
    "chain.run(\"What clinical features radiologists need for diagnosing Atelectasis?\")"
   ]
  },
  {
   "cell_type": "code",
   "execution_count": 10,
   "metadata": {},
   "outputs": [
    {
     "name": "stdout",
     "output_type": "stream",
     "text": [
      "\n",
      "\n",
      "\u001b[1m> Entering new GraphCypherQAChain chain...\u001b[0m\n",
      "Generated Cypher:\n",
      "\u001b[32;1m\u001b[1;3mMATCH (c:Condition {name: 'Atelectasis'})-[:HASCAUSE]->(r:Condition)-[:HASEFFECT]->(p:Process)\n",
      "RETURN p.name\u001b[0m\n",
      "Full Context:\n",
      "\u001b[32;1m\u001b[1;3m[]\u001b[0m\n",
      "\n",
      "\u001b[1m> Finished chain.\u001b[0m\n"
     ]
    },
    {
     "data": {
      "text/plain": [
       "\"I'm sorry, but I don't have the information to answer your question about the radiographic features of Atelectasis.\""
      ]
     },
     "execution_count": 10,
     "metadata": {},
     "output_type": "execute_result"
    }
   ],
   "source": [
    "chain.run(\"what are radiographic features of Atelectasis?\")"
   ]
  },
  {
   "cell_type": "code",
   "execution_count": null,
   "metadata": {},
   "outputs": [],
   "source": []
  }
 ],
 "metadata": {
  "kernelspec": {
   "display_name": "pytorch",
   "language": "python",
   "name": "python3"
  },
  "language_info": {
   "codemirror_mode": {
    "name": "ipython",
    "version": 3
   },
   "file_extension": ".py",
   "mimetype": "text/x-python",
   "name": "python",
   "nbconvert_exporter": "python",
   "pygments_lexer": "ipython3",
   "version": "3.9.18"
  }
 },
 "nbformat": 4,
 "nbformat_minor": 2
}
