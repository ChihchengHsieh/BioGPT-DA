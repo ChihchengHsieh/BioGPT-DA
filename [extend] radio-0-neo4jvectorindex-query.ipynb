{
 "cells": [
  {
   "cell_type": "code",
   "execution_count": 1,
   "metadata": {},
   "outputs": [],
   "source": [
    "import re\n",
    "import os\n",
    "from langchain.vectorstores.neo4j_vector import Neo4jVector\n",
    "from langchain.document_loaders import WikipediaLoader\n",
    "from langchain.embeddings.openai import OpenAIEmbeddings\n",
    "from langchain.text_splitter import (\n",
    "    CharacterTextSplitter,\n",
    "    RecursiveCharacterTextSplitter,\n",
    ")\n",
    "from langchain.graphs import Neo4jGraph\n",
    "from transformers import AutoModelForSeq2SeqLM, AutoTokenizer\n",
    "from langchain.text_splitter import TokenTextSplitter\n",
    "\n",
    "from secret import *\n",
    "import chromadb\n",
    "\n",
    "os.environ[\"OPENAI_API_KEY\"] = OPENAI_API_KEY"
   ]
  },
  {
   "cell_type": "code",
   "execution_count": 2,
   "metadata": {},
   "outputs": [
    {
     "name": "stdout",
     "output_type": "stream",
     "text": [
      "\n",
      "        Node properties are the following:\n",
      "        []\n",
      "        Relationship properties are the following:\n",
      "        []\n",
      "        The relationships are the following:\n",
      "        []\n",
      "        \n"
     ]
    }
   ],
   "source": [
    "graph = Neo4jGraph(url=\"bolt://localhost:7687\", username=\"neo4j\", password=\"test1234\")\n",
    "graph.query(\n",
    "    \"\"\"\n",
    "MATCH (n)\n",
    "DETACH DELETE n\n",
    "\"\"\"\n",
    ")\n",
    "graph.refresh_schema()\n",
    "print(graph.schema)"
   ]
  },
  {
   "cell_type": "code",
   "execution_count": 3,
   "metadata": {},
   "outputs": [
    {
     "data": {
      "text/plain": [
       "['https://radiopaedia.org/articles/atelectasis-summary?lang=gb',\n",
       " 'https://radiopaedia.org/articles/linear-atelectasis?lang=gb',\n",
       " 'https://radiopaedia.org/articles/lung-atelectasis?lang=gb',\n",
       " 'https://radiopaedia.org/articles/subsegmental-atelectasis?lang=gb',\n",
       " 'https://radiopaedia.org/articles/round-atelectasis?lang=gb',\n",
       " 'https://radiopaedia.org/articles/passive-atelectasis-1?lang=gb',\n",
       " 'https://radiopaedia.org/articles/compressive-atelectasis?lang=gb',\n",
       " 'https://radiopaedia.org/articles/cicatrisation-atelectasis?lang=gb',\n",
       " 'https://radiopaedia.org/articles/segmental-atelectasis?lang=gb',\n",
       " 'https://radiopaedia.org/articles/adhesive-atelectasis?lang=gb',\n",
       " 'https://radiopaedia.org/articles/resorptive-obstructive-atelectasis?lang=gb',\n",
       " 'https://radiopaedia.org/articles/chronic-maxillary-atelectasis?lang=gb',\n",
       " 'https://radiopaedia.org/articles/middle-ear-atelectasis?lang=gb',\n",
       " 'https://radiopaedia.org/articles/gravity-dependent-atelectasis-1?lang=gb',\n",
       " 'https://radiopaedia.org/articles/crow-feet-sign-round-atelectasis?lang=gb',\n",
       " 'https://radiopaedia.org/articles/osteophyte-induced-adjacent-pulmonary-atelectasis-and-fibrosis-1?lang=gb',\n",
       " 'https://radiopaedia.org/articles/lobar-lung-collapse?lang=gb',\n",
       " 'https://radiopaedia.org/articles/anectasis?lang=gb',\n",
       " 'https://radiopaedia.org/articles/right-middle-lobe-collapse?lang=gb',\n",
       " 'https://radiopaedia.org/articles/left-lower-lobe-collapse?lang=gb']"
      ]
     },
     "execution_count": 3,
     "metadata": {},
     "output_type": "execute_result"
    }
   ],
   "source": [
    "import logging\n",
    "from urllib.parse import urljoin\n",
    "import requests\n",
    "from bs4 import BeautifulSoup\n",
    "\n",
    "search_query = \"atelectasis\"\n",
    "URL = f\"https://radiopaedia.org/search?lang=gb&q={search_query}&scope=articles\"\n",
    "page = requests.get(URL)\n",
    "soup = BeautifulSoup(page.content, \"html.parser\")\n",
    "radio_address = \"https://radiopaedia.org\"\n",
    "all_address = [\n",
    "    f\"{radio_address}{e['href']}\"\n",
    "    for e in soup.find_all(\"a\", class_=\"search-result search-result-article\")\n",
    "]\n",
    "all_address"
   ]
  },
  {
   "cell_type": "code",
   "execution_count": 4,
   "metadata": {},
   "outputs": [],
   "source": [
    "from langchain.document_loaders import DiffbotLoader\n",
    "\n",
    "raw_documents = DiffbotLoader(\n",
    "    urls=[all_address[0]],\n",
    "    api_token=DIFFBOT_API_TOKEN,\n",
    ").load()\n",
    "text_splitter = TokenTextSplitter(chunk_size=2048, chunk_overlap=24)\n",
    "documents = text_splitter.split_documents(\n",
    "    raw_documents\n",
    ")  # should I only take the first? which is the most relevant?"
   ]
  },
  {
   "cell_type": "code",
   "execution_count": 5,
   "metadata": {},
   "outputs": [],
   "source": [
    "db = Neo4jVector.from_documents(\n",
    "    documents, OpenAIEmbeddings(), url=NOE4J_URL, username=\"neo4j\", password=\"test1234\"\n",
    ")\n",
    "\n",
    "retriever = db.as_retriever()"
   ]
  },
  {
   "cell_type": "code",
   "execution_count": 6,
   "metadata": {},
   "outputs": [],
   "source": [
    "from langchain.chains import RetrievalQAWithSourcesChain\n",
    "from langchain.chat_models import ChatOpenAI"
   ]
  },
  {
   "cell_type": "code",
   "execution_count": 7,
   "metadata": {},
   "outputs": [],
   "source": [
    "chain = RetrievalQAWithSourcesChain.from_chain_type(\n",
    "    ChatOpenAI(temperature=0, model=\"gpt-3.5-turbo-16k\"), chain_type=\"stuff\", retriever=retriever\n",
    ")"
   ]
  },
  {
   "cell_type": "code",
   "execution_count": 8,
   "metadata": {},
   "outputs": [
    {
     "data": {
      "text/plain": [
       "{'answer': 'Atelectasis is a condition that describes small areas of collapsed lung. It can be caused by adjacent compression, passive atelectasis, or dependent atelectasis. The presentation of atelectasis can vary depending on the underlying cause, but it is usually characterized by breathlessness. Imaging, such as chest x-rays or CT scans, can confirm the presence of atelectasis and help determine the cause. Treatment involves managing the underlying cause and promoting deeper breathing if hypoventilation is a factor. \\n',\n",
       " 'sources': 'https://radiopaedia.org/articles/atelectasis-summary?lang=gb'}"
      ]
     },
     "execution_count": 8,
     "metadata": {},
     "output_type": "execute_result"
    }
   ],
   "source": [
    "chain(\n",
    "    {\"question\": \"What is Atelectasis?\"},\n",
    "    return_only_outputs=True,\n",
    ")"
   ]
  },
  {
   "cell_type": "code",
   "execution_count": 9,
   "metadata": {},
   "outputs": [
    {
     "data": {
      "text/plain": [
       "{'answer': 'The symptoms of Atelectasis can vary depending on the underlying cause. Common symptoms include breathlessness, but it can also be asymptomatic. The presentation of symptoms also depends on the underlying cause. \\n',\n",
       " 'sources': 'https://radiopaedia.org/articles/atelectasis-summary?lang=gb'}"
      ]
     },
     "execution_count": 9,
     "metadata": {},
     "output_type": "execute_result"
    }
   ],
   "source": [
    "chain(\n",
    "    {\"question\": \"What are the symptoms of Atelectasis?\"},\n",
    "    return_only_outputs=True,\n",
    ")"
   ]
  },
  {
   "cell_type": "code",
   "execution_count": 10,
   "metadata": {},
   "outputs": [
    {
     "data": {
      "text/plain": [
       "{'answer': 'Atelectasis can be caused by adjacent compression (e.g. lung tumor, dilated aorta, large osteophyte), passive atelectasis (e.g. pleural effusion, pneumothorax), and dependent atelectasis (in the posterior portions of the lung due to patients not fully expanding their lungs while lying for long periods). \\n',\n",
       " 'sources': 'https://radiopaedia.org/articles/atelectasis-summary?lang=gb'}"
      ]
     },
     "execution_count": 10,
     "metadata": {},
     "output_type": "execute_result"
    }
   ],
   "source": [
    "chain(\n",
    "    {\"question\": \"What can cause Atelectasis?\"},\n",
    "    return_only_outputs=True,\n",
    ")"
   ]
  },
  {
   "cell_type": "code",
   "execution_count": 11,
   "metadata": {},
   "outputs": [
    {
     "data": {
      "text/plain": [
       "{'answer': 'For diagnosing atelectasis, radiologists need to look for small volume linear shadows on chest x-rays, usually peripherally or at the lung bases. The underlying cause may also be visible on the x-ray. CT scans can provide a more accurate depiction of the involved lung and can be helpful in determining the cause or confirming the absence of proximal obstruction. However, most cases of atelectasis are diagnosed and managed without CT investigation.\\n',\n",
       " 'sources': 'https://radiopaedia.org/articles/atelectasis-summary?lang=gb'}"
      ]
     },
     "execution_count": 11,
     "metadata": {},
     "output_type": "execute_result"
    }
   ],
   "source": [
    "chain(\n",
    "    {\"question\": \"What clinical features radiologists need for diagnosing Atelectasis?\"},\n",
    "    return_only_outputs=True,\n",
    ")"
   ]
  },
  {
   "cell_type": "code",
   "execution_count": 12,
   "metadata": {},
   "outputs": [
    {
     "data": {
      "text/plain": [
       "{'answer': 'Radiographic features of atelectasis on a chest x-ray include small volume linear shadows, usually peripherally or at the lung bases. Lobar collapse will have a more typical appearance based on the lobe involved, whereas atelectasis can be more eccentric in position and appearance. CT chest allows for a more accurate depiction of the involved lung and can be helpful in determining the cause or confirming the absence of proximal obstruction. However, most cases of atelectasis are diagnosed and managed without CT investigation.\\n',\n",
       " 'sources': 'https://radiopaedia.org/articles/atelectasis-summary?lang=gb'}"
      ]
     },
     "execution_count": 12,
     "metadata": {},
     "output_type": "execute_result"
    }
   ],
   "source": [
    "chain(\n",
    "    {\"question\": \"what are radiographic features of Atelectasis?\"},\n",
    "    return_only_outputs=True,\n",
    ")"
   ]
  },
  {
   "cell_type": "code",
   "execution_count": null,
   "metadata": {},
   "outputs": [],
   "source": []
  }
 ],
 "metadata": {
  "kernelspec": {
   "display_name": "pytorch",
   "language": "python",
   "name": "python3"
  },
  "language_info": {
   "codemirror_mode": {
    "name": "ipython",
    "version": 3
   },
   "file_extension": ".py",
   "mimetype": "text/x-python",
   "name": "python",
   "nbconvert_exporter": "python",
   "pygments_lexer": "ipython3",
   "version": "3.9.18"
  }
 },
 "nbformat": 4,
 "nbformat_minor": 2
}
