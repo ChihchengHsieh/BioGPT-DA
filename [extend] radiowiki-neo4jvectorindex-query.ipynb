{
 "cells": [
  {
   "cell_type": "code",
   "execution_count": 1,
   "metadata": {},
   "outputs": [],
   "source": [
    "import re\n",
    "import os\n",
    "from langchain.vectorstores.neo4j_vector import Neo4jVector\n",
    "from langchain.document_loaders import WikipediaLoader\n",
    "from langchain.embeddings.openai import OpenAIEmbeddings\n",
    "from langchain.text_splitter import (\n",
    "    CharacterTextSplitter,\n",
    "    RecursiveCharacterTextSplitter,\n",
    ")\n",
    "from langchain.graphs import Neo4jGraph\n",
    "from transformers import AutoModelForSeq2SeqLM, AutoTokenizer\n",
    "from langchain.text_splitter import TokenTextSplitter\n",
    "\n",
    "from secret import *\n",
    "import chromadb\n",
    "\n",
    "os.environ[\"OPENAI_API_KEY\"] = OPENAI_API_KEY"
   ]
  },
  {
   "cell_type": "code",
   "execution_count": 2,
   "metadata": {},
   "outputs": [
    {
     "name": "stdout",
     "output_type": "stream",
     "text": [
      "Node properties are the following:\n",
      "\n",
      "Relationship properties are the following:\n",
      "\n",
      "The relationships are the following:\n",
      "\n"
     ]
    }
   ],
   "source": [
    "graph = Neo4jGraph(url=\"bolt://localhost:7687\", username=\"neo4j\", password=\"test1234\")\n",
    "graph.query(\n",
    "    \"\"\"\n",
    "MATCH (n)\n",
    "DETACH DELETE n\n",
    "\"\"\"\n",
    ")\n",
    "graph.refresh_schema()\n",
    "print(graph.schema)"
   ]
  },
  {
   "cell_type": "code",
   "execution_count": 3,
   "metadata": {},
   "outputs": [],
   "source": [
    "from loader.radiopaedia import RadioWebLoader\n",
    "search_query = \"Atelectasis\"\n",
    "radio_raw_documents = RadioWebLoader(search_query).load()\n",
    "wiki_raw_documents = WikipediaLoader(query=\"Atelectasis\").load()\n",
    "raw_documents = radio_raw_documents + wiki_raw_documents"
   ]
  },
  {
   "cell_type": "code",
   "execution_count": 4,
   "metadata": {},
   "outputs": [
    {
     "data": {
      "text/plain": [
       "(20, 25)"
      ]
     },
     "execution_count": 4,
     "metadata": {},
     "output_type": "execute_result"
    }
   ],
   "source": [
    "len(radio_raw_documents), len(wiki_raw_documents)"
   ]
  },
  {
   "cell_type": "code",
   "execution_count": 5,
   "metadata": {},
   "outputs": [],
   "source": [
    "text_splitter = TokenTextSplitter(chunk_size=2048, chunk_overlap=24)\n",
    "documents = text_splitter.split_documents(\n",
    "    raw_documents\n",
    ")  # should I only take the first? which is the most relevant?"
   ]
  },
  {
   "cell_type": "code",
   "execution_count": 6,
   "metadata": {},
   "outputs": [
    {
     "name": "stderr",
     "output_type": "stream",
     "text": [
      "c:\\Users\\mike8\\anaconda3\\envs\\pytorch\\lib\\site-packages\\langchain_core\\_api\\deprecation.py:115: LangChainDeprecationWarning: The class `OpenAIEmbeddings` was deprecated in LangChain 0.1.0 and will be removed in 0.2.0. Use langchain_openai.OpenAIEmbeddings instead.\n",
      "  warn_deprecated(\n"
     ]
    }
   ],
   "source": [
    "db = Neo4jVector.from_documents(\n",
    "    documents, OpenAIEmbeddings(), url=NOE4J_URL, username=\"neo4j\", password=\"test1234\"\n",
    ")\n",
    "\n",
    "retriever = db.as_retriever()\n",
    "# 4s"
   ]
  },
  {
   "cell_type": "code",
   "execution_count": 7,
   "metadata": {},
   "outputs": [],
   "source": [
    "from langchain.chains import RetrievalQAWithSourcesChain\n",
    "from langchain.chat_models import ChatOpenAI"
   ]
  },
  {
   "cell_type": "code",
   "execution_count": 8,
   "metadata": {},
   "outputs": [
    {
     "name": "stderr",
     "output_type": "stream",
     "text": [
      "c:\\Users\\mike8\\anaconda3\\envs\\pytorch\\lib\\site-packages\\langchain_core\\_api\\deprecation.py:115: LangChainDeprecationWarning: The class `ChatOpenAI` was deprecated in LangChain 0.1.0 and will be removed in 0.2.0. Use langchain_openai.ChatOpenAI instead.\n",
      "  warn_deprecated(\n"
     ]
    }
   ],
   "source": [
    "chain = RetrievalQAWithSourcesChain.from_chain_type(\n",
    "    ChatOpenAI(temperature=0, model=\"gpt-3.5-turbo-16k\"), chain_type=\"stuff\", retriever=retriever\n",
    ")"
   ]
  },
  {
   "cell_type": "code",
   "execution_count": 9,
   "metadata": {},
   "outputs": [],
   "source": [
    "lesion = \"Atelectasis\"\n",
    "questions = [\n",
    "    f\"What is {lesion}?\",\n",
    "    f\"What are the symptoms associated with {lesion}?\",\n",
    "    f\"What can cause {lesion}?\",\n",
    "    f\"What are the patient’s symptoms that are relevant for {lesion}?\",\n",
    "    f\"What are the relevant clinical signs for the etiological diagnosis of {lesion}?\",\n",
    "    f\"What are the relevant laboratory data for the etiological diagnosis of {lesion}?\",\n",
    "    f\"What are the relevant clinical characteristics for the etiological diagnosis of {lesion}\",\n",
    "    f\"What are the patient’s personal relevant history for the etiological diagnosis of {lesion}\",\n",
    "]"
   ]
  },
  {
   "cell_type": "code",
   "execution_count": 10,
   "metadata": {},
   "outputs": [
    {
     "name": "stderr",
     "output_type": "stream",
     "text": [
      "c:\\Users\\mike8\\anaconda3\\envs\\pytorch\\lib\\site-packages\\langchain_core\\_api\\deprecation.py:115: LangChainDeprecationWarning: The function `__call__` was deprecated in LangChain 0.1.0 and will be removed in 0.2.0. Use invoke instead.\n",
      "  warn_deprecated(\n"
     ]
    }
   ],
   "source": [
    "res_dict = {}\n",
    "for q in questions:\n",
    "    res = chain(\n",
    "        {\"question\": q},\n",
    "        return_only_outputs=True,\n",
    "    )\n",
    "    res_dict[q] = res[\"answer\"].strip()"
   ]
  },
  {
   "cell_type": "code",
   "execution_count": 11,
   "metadata": {},
   "outputs": [
    {
     "name": "stdout",
     "output_type": "stream",
     "text": [
      "Atelectasis is the partial collapse or closure of a lung resulting in reduced or absent gas exchange. It is usually unilateral, affecting part or all of one lung. It is a condition where the alveoli are deflated down to little or no volume. The term \"atelectasis\" is used to describe small areas of collapsed lung, and it is often seen on chest X-rays. The underlying cause of atelectasis can vary, including post-surgical complications, surfactant deficiency, or obstructive factors such as tumors or mucus plugs. The diagnosis of atelectasis is typically confirmed through imaging, such as chest X-rays or CT scans. Treatment involves managing the underlying cause and promoting deeper breathing.\n",
      "The symptoms associated with atelectasis may include cough (not prominent), chest pain (not common), breathing difficulty (fast and shallow), low oxygen saturation, pleural effusion (transudate type), cyanosis (late sign), and increased heart rate. It is important to note that atelectasis does not cause fever.\n",
      "Passive atelectasis can be caused by conditions such as simple pneumothorax, diaphragmatic abnormalities, and conditions of hypoventilation such as pleural effusion or chest wall mass lesions.\n",
      "The relevant symptoms for Atelectasis include cough, chest pain (not common), breathing difficulty (fast and shallow), low oxygen saturation, pleural effusion (transudate type), cyanosis (late sign), and increased heart rate. However, it is important to note that Atelectasis may also be asymptomatic.\n",
      "The relevant clinical signs for the etiological diagnosis of Atelectasis may include cough, chest pain, breathing difficulty, low oxygen saturation, pleural effusion, cyanosis, and increased heart rate. However, it is important to note that atelectasis can also be asymptomatic. A chest X-ray is usually used to confirm the presence of atelectasis and determine the underlying cause. CT imaging may be necessary in some cases to further evaluate the condition.\n",
      "The relevant laboratory data for the etiological diagnosis of Atelectasis are not provided in the given information.\n",
      "The relevant clinical characteristics for the etiological diagnosis of atelectasis include partial collapse or closure of a lung resulting in reduced or absent gas exchange, usually unilateral and affecting part or all of one lung. It is often seen as a common finding in chest X-rays and other radiological studies. The causes of atelectasis can include post-surgical complications, surfactant deficiency, obstructing neoplasms, mucus plugging, and foreign body aspiration, among others. Risk factors associated with atelectasis include type of surgery, use of muscle relaxation, obesity, high oxygen, lower lung segments, age, presence of chronic obstructive pulmonary disease or asthma, and type of anesthetic. Diagnosis of atelectasis is generally visible on chest X-ray, and additional imaging such as CT or bronchoscopy may be necessary to determine the cause.\n",
      "The patient's personal relevant history for the etiological diagnosis of Atelectasis includes conditions such as pleural effusion, pneumothorax, diaphragmatic abnormalities (such as diaphragmatic hernia or paralysis), and chest wall mass lesions. These conditions can lead to passive atelectasis, which is a form of lung atelectasis caused by the loss of negative pressure in the pleural space. Other causes of atelectasis include obstructive atelectasis and compressive atelectasis. The clinical presentation of atelectasis can vary depending on the extent and speed of development, but common symptoms include cough, hypoxia, and respiratory failure. Diagnosis is typically made through imaging studies such as chest X-rays or CT scans.\n"
     ]
    }
   ],
   "source": [
    "for q in questions:\n",
    "    print(res_dict[q])"
   ]
  },
  {
   "cell_type": "code",
   "execution_count": 12,
   "metadata": {},
   "outputs": [
    {
     "ename": "StopIteration",
     "evalue": "",
     "output_type": "error",
     "traceback": [
      "\u001b[1;31m---------------------------------------------------------------------------\u001b[0m",
      "\u001b[1;31mStopIteration\u001b[0m                             Traceback (most recent call last)",
      "Cell \u001b[1;32mIn[12], line 1\u001b[0m\n\u001b[1;32m----> 1\u001b[0m \u001b[38;5;28;01mraise\u001b[39;00m \u001b[38;5;167;01mStopIteration\u001b[39;00m()\n",
      "\u001b[1;31mStopIteration\u001b[0m: "
     ]
    }
   ],
   "source": [
    "raise StopIteration()"
   ]
  },
  {
   "cell_type": "code",
   "execution_count": null,
   "metadata": {},
   "outputs": [
    {
     "data": {
      "text/plain": [
       "{'answer': 'Atelectasis is the collapse or closure of a lung resulting in reduced or absent gas exchange. It is usually unilateral, affecting part or all of one lung. It is a condition where the alveoli are deflated down to little or no volume. It can be caused by normal exhalation or various medical conditions. Atelectasis is not synonymous with a pneumothorax, although a pneumothorax can cause atelectasis. It can occur as a post-operative complication or as a result of surfactant deficiency. It is a common finding in chest X-rays and other radiological studies. The most common cause is post-surgical atelectasis, which develops in 75-90% of people undergoing general anesthesia for a surgical procedure. Other causes include pulmonary tuberculosis, obstruction of the airway, poor surfactant spreading, and compression of the lung by a space-occupying lesion. Clinically significant atelectasis is generally visible on chest X-ray and may require further imaging or bronchoscopy for diagnosis. Treatment involves managing the underlying cause. (\"https://en.wikipedia.org/wiki/Atelectasis\", \"https://radiopaedia.org/articles/anectasis?lang=gb\", \"https://radiopaedia.org/articles/atelectasis-summary?lang=gb\", \"https://radiopaedia.org/articles/lung-atelectasis?lang=gb\")\\n',\n",
       " 'sources': 'https://en.wikipedia.org/wiki/Atelectasis, https://radiopaedia.org/articles/anectasis?lang=gb, https://radiopaedia.org/articles/atelectasis-summary?lang=gb, https://radiopaedia.org/articles/lung-atelectasis?lang=gb'}"
      ]
     },
     "execution_count": 9,
     "metadata": {},
     "output_type": "execute_result"
    }
   ],
   "source": [
    "chain(\n",
    "    {\"question\": \"What is Atelectasis?\"},\n",
    "    return_only_outputs=True,\n",
    ")"
   ]
  },
  {
   "cell_type": "code",
   "execution_count": null,
   "metadata": {},
   "outputs": [
    {
     "data": {
      "text/plain": [
       "{'answer': 'The symptoms of Atelectasis may include cough (not prominent), chest pain (not common), breathing difficulty (fast and shallow), low oxygen saturation, pleural effusion (transudate type), cyanosis (late sign), and increased heart rate. However, it is important to note that atelectasis can also be asymptomatic. \\n',\n",
       " 'sources': 'https://en.wikipedia.org/wiki/Atelectasis, https://radiopaedia.org/articles/atelectasis-summary?lang=gb, https://radiopaedia.org/articles/passive-atelectasis-1?lang=gb, https://radiopaedia.org/articles/lung-atelectasis?lang=gb'}"
      ]
     },
     "execution_count": 10,
     "metadata": {},
     "output_type": "execute_result"
    }
   ],
   "source": [
    "chain(\n",
    "    {\"question\": \"What are the symptoms of Atelectasis?\"},\n",
    "    return_only_outputs=True,\n",
    ")"
   ]
  },
  {
   "cell_type": "code",
   "execution_count": null,
   "metadata": {},
   "outputs": [
    {
     "data": {
      "text/plain": [
       "{'answer': 'Atelectasis can be caused by various factors, including post-surgical complications, surfactant deficiency, pulmonary tuberculosis, blockage of the airway, compression from external factors, poor surfactant spreading, and certain risk factors such as type of surgery, obesity, high oxygen, and presence of chronic obstructive pulmonary disease or asthma. It can also occur due to passive atelectasis or adhesive atelectasis. \\n',\n",
       " 'sources': ''}"
      ]
     },
     "execution_count": 11,
     "metadata": {},
     "output_type": "execute_result"
    }
   ],
   "source": [
    "chain(\n",
    "    {\"question\": \"What can cause Atelectasis?\"},\n",
    "    return_only_outputs=True,\n",
    ")"
   ]
  },
  {
   "cell_type": "code",
   "execution_count": null,
   "metadata": {},
   "outputs": [
    {
     "data": {
      "text/plain": [
       "{'answer': 'Radiologists need to look for small volume linear shadows on chest x-rays, usually peripherally or at the lung bases, to diagnose atelectasis. They can also use CT scans to accurately depict the involved lung and determine the cause. Additionally, the presence of the crow feet sign, which appears as linear bands radiating from a mass into adjacent lung tissue, can be a characteristic feature of round atelectasis. The clinical presentation of atelectasis can vary depending on the extent and speed of development, but common symptoms include breathlessness, cough, and diminished breath sounds. The underlying causes of atelectasis can include adjacent compression, passive atelectasis, and dependent atelectasis. Treatment involves managing the underlying cause and promoting deeper breathing if hypoventilation is the cause. \\n',\n",
       " 'sources': ''}"
      ]
     },
     "execution_count": 12,
     "metadata": {},
     "output_type": "execute_result"
    }
   ],
   "source": [
    "chain(\n",
    "    {\"question\": \"What clinical features radiologists need for diagnosing Atelectasis?\"},\n",
    "    return_only_outputs=True,\n",
    ")"
   ]
  },
  {
   "cell_type": "code",
   "execution_count": null,
   "metadata": {},
   "outputs": [
    {
     "data": {
      "text/plain": [
       "{'answer': 'Radiographic features of atelectasis include small volume linear shadows on chest x-rays, usually peripherally or at the lung bases. The underlying cause may also be visible. CT chest allows for a more accurate depiction of the involved lung and can help determine the cause. Round atelectasis can be seen on CT as linear bands radiating from a mass into adjacent lung tissue, resembling the feet of a crow. Atelectasis can also be classified based on underlying mechanism (resorptive, passive, compressive, cicatrisation, adhesive, gravity dependent) or morphology (linear, round, lung, lobar, segmental, subsegmental). The radiographic features vary depending on the type and mechanism of atelectasis. \\n',\n",
       " 'sources': ''}"
      ]
     },
     "execution_count": 13,
     "metadata": {},
     "output_type": "execute_result"
    }
   ],
   "source": [
    "chain(\n",
    "    {\"question\": \"what are radiographic features of Atelectasis?\"},\n",
    "    return_only_outputs=True,\n",
    ")"
   ]
  },
  {
   "cell_type": "code",
   "execution_count": null,
   "metadata": {},
   "outputs": [],
   "source": []
  }
 ],
 "metadata": {
  "kernelspec": {
   "display_name": "pytorch",
   "language": "python",
   "name": "python3"
  },
  "language_info": {
   "codemirror_mode": {
    "name": "ipython",
    "version": 3
   },
   "file_extension": ".py",
   "mimetype": "text/x-python",
   "name": "python",
   "nbconvert_exporter": "python",
   "pygments_lexer": "ipython3",
   "version": "3.9.18"
  }
 },
 "nbformat": 4,
 "nbformat_minor": 2
}
