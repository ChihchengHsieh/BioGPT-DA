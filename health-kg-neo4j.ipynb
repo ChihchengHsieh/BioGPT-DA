{
 "cells": [
  {
   "cell_type": "code",
   "execution_count": 1,
   "metadata": {},
   "outputs": [],
   "source": [
    "from langchain.chat_models import ChatOpenAI\n",
    "from langchain.chains import GraphCypherQAChain\n",
    "from langchain.graphs import Neo4jGraph\n",
    "from secret import *\n",
    "import os\n",
    "os.environ[\"OPENAI_API_KEY\"] = OPENAI_API_KEY"
   ]
  },
  {
   "cell_type": "code",
   "execution_count": 2,
   "metadata": {},
   "outputs": [],
   "source": [
    "graph = Neo4jGraph(\n",
    "    url = \"bolt://localhost:7687\",\n",
    "    username = \"neo4j\",\n",
    "    password = \"health1234\"\n",
    ")"
   ]
  },
  {
   "cell_type": "code",
   "execution_count": 3,
   "metadata": {},
   "outputs": [
    {
     "data": {
      "text/plain": [
       "[]"
      ]
     },
     "execution_count": 3,
     "metadata": {},
     "output_type": "execute_result"
    }
   ],
   "source": [
    "graph.query(\n",
    "\"\"\"\n",
    "MATCH (n)\n",
    "DETACH DELETE n\n",
    "\"\"\"\n",
    ")"
   ]
  },
  {
   "cell_type": "code",
   "execution_count": 4,
   "metadata": {},
   "outputs": [],
   "source": [
    "import pandas as pd\n",
    "df = pd.read_csv('health-kg.csv')"
   ]
  },
  {
   "cell_type": "code",
   "execution_count": 6,
   "metadata": {},
   "outputs": [],
   "source": [
    "import re\n",
    "def get_sp_dict(symptoms):\n",
    "    symptoms = symptoms.split(\", \")\n",
    "    s_p_dict = {}\n",
    "    for symptom in symptoms:\n",
    "        s, p = symptom.split(\" (\")\n",
    "        p = float(\n",
    "            re.sub(\n",
    "                \"[^0-9A-Za-z.\\s\\:']\",\n",
    "                \"\",\n",
    "                p,\n",
    "            )\n",
    "        )\n",
    "        s_p_dict[s] = p\n",
    "    return s_p_dict"
   ]
  },
  {
   "cell_type": "code",
   "execution_count": 7,
   "metadata": {},
   "outputs": [],
   "source": [
    "def camel_case(s):\n",
    "    # Use regular expression substitution to replace underscores and hyphens with spaces,\n",
    "    # then title case the string (capitalize the first letter of each word), and remove spaces\n",
    "    s = re.sub(r\"(_|-)+\", \" \", s).title().replace(\" \", \"\")\n",
    "    \n",
    "    # Join the string, ensuring the first letter is lowercase\n",
    "    return ''.join([s[0].lower(), s[1:]])"
   ]
  },
  {
   "cell_type": "code",
   "execution_count": 8,
   "metadata": {},
   "outputs": [],
   "source": [
    "from tqdm import tqdm"
   ]
  },
  {
   "cell_type": "code",
   "execution_count": 9,
   "metadata": {},
   "outputs": [],
   "source": [
    "query = \"CREATE \""
   ]
  },
  {
   "cell_type": "code",
   "execution_count": 26,
   "metadata": {},
   "outputs": [
    {
     "data": {
      "text/plain": [
       "0                          abscess\n",
       "1                      acid reflux\n",
       "2              acute renal failure\n",
       "3             alcohol intoxication\n",
       "4                       alcoholism\n",
       "                  ...             \n",
       "151                type 2 diabetes\n",
       "152             ulcerative colitis\n",
       "153    upper respiratory infection\n",
       "154        urinary tract infection\n",
       "155           vitamin d deficiency\n",
       "Name: Diseases, Length: 156, dtype: object"
      ]
     },
     "execution_count": 26,
     "metadata": {},
     "output_type": "execute_result"
    }
   ],
   "source": [
    "df[\"Diseases\"]"
   ]
  },
  {
   "cell_type": "code",
   "execution_count": 10,
   "metadata": {},
   "outputs": [
    {
     "name": "stderr",
     "output_type": "stream",
     "text": [
      "100%|██████████| 156/156 [00:00<?, ?it/s]\n"
     ]
    }
   ],
   "source": [
    "for i, d in tqdm(enumerate(df[\"Diseases\"]), total=len(df)):\n",
    "    d = re.sub(\n",
    "        \"[^0-9A-Za-z ]\",\n",
    "        \"\",\n",
    "        d,\n",
    "    )\n",
    "\n",
    "    query += \"(%s:Disease {name: '%s'}),\" % (\n",
    "        camel_case(d),\n",
    "        d,\n",
    "    )\n",
    "\n",
    "    # if i+1 < len(df):\n",
    "    #     query +=\",\"\n",
    "        \n"
   ]
  },
  {
   "cell_type": "code",
   "execution_count": 11,
   "metadata": {},
   "outputs": [],
   "source": [
    "# graph.query(query)"
   ]
  },
  {
   "cell_type": "code",
   "execution_count": 12,
   "metadata": {},
   "outputs": [],
   "source": [
    "all_symptoms = []\n",
    "for sp_dict in list(df[\"Symptoms\"].apply(get_sp_dict)):\n",
    "    all_symptoms.extend(list(sp_dict.keys()))"
   ]
  },
  {
   "cell_type": "code",
   "execution_count": 13,
   "metadata": {},
   "outputs": [],
   "source": [
    "all_symptoms =set(all_symptoms)"
   ]
  },
  {
   "cell_type": "code",
   "execution_count": 14,
   "metadata": {},
   "outputs": [
    {
     "data": {
      "text/plain": [
       "330"
      ]
     },
     "execution_count": 14,
     "metadata": {},
     "output_type": "execute_result"
    }
   ],
   "source": [
    "len(all_symptoms)"
   ]
  },
  {
   "cell_type": "code",
   "execution_count": 15,
   "metadata": {},
   "outputs": [
    {
     "name": "stderr",
     "output_type": "stream",
     "text": [
      "100%|██████████| 330/330 [00:00<00:00, 329317.23it/s]\n"
     ]
    }
   ],
   "source": [
    "for i, s in tqdm(enumerate(all_symptoms), total=len(all_symptoms)):\n",
    "    s = re.sub(\n",
    "        \"[^0-9A-Za-z ]\",\n",
    "        \"\",\n",
    "        s,\n",
    "    )\n",
    "\n",
    "    query += \"(%s:Symptom {name: '%s'}),\" % (\n",
    "        camel_case(s),\n",
    "        s,\n",
    "    )\n",
    "\n",
    "    # if i+1 < len(all_symptoms):\n",
    "    #     query +=\",\""
   ]
  },
  {
   "cell_type": "code",
   "execution_count": 16,
   "metadata": {},
   "outputs": [],
   "source": [
    "# graph.query(query)"
   ]
  },
  {
   "cell_type": "code",
   "execution_count": 17,
   "metadata": {},
   "outputs": [
    {
     "name": "stderr",
     "output_type": "stream",
     "text": [
      "100%|██████████| 156/156 [00:00<00:00, 9793.03it/s]\n"
     ]
    }
   ],
   "source": [
    "for i, data in tqdm(df.iterrows(), total=len(df)):\n",
    "    d = re.sub(\n",
    "        \"[^0-9A-Za-z ]\",\n",
    "        \"\",\n",
    "        data[\"Diseases\"],\n",
    "    )\n",
    "\n",
    "    symptoms = data[\"Symptoms\"]\n",
    "    sp_dict = get_sp_dict(symptoms)\n",
    "    for s, p in sp_dict.items():\n",
    "        query += \"(%s)-[:HAS {prob: %f}]->(%s),\" % (\n",
    "            camel_case(d),\n",
    "            p,\n",
    "            camel_case(s),\n",
    "        )"
   ]
  },
  {
   "cell_type": "code",
   "execution_count": 18,
   "metadata": {},
   "outputs": [
    {
     "data": {
      "text/plain": [
       "[]"
      ]
     },
     "execution_count": 18,
     "metadata": {},
     "output_type": "execute_result"
    }
   ],
   "source": [
    "graph.query(query[:-1])  # remove last comma"
   ]
  },
  {
   "cell_type": "code",
   "execution_count": null,
   "metadata": {},
   "outputs": [],
   "source": [
    "# MATCH p=()-[r:HAS]->(fever:Symptom {name: \"fever\"}) RETURN p LIMIT 25\n",
    "# MATCH p=(abscess:Disease {name:\"abscess\"})-[r:HAS]->() RETURN p LIMIT 25"
   ]
  }
 ],
 "metadata": {
  "kernelspec": {
   "display_name": "pytorch",
   "language": "python",
   "name": "python3"
  },
  "language_info": {
   "codemirror_mode": {
    "name": "ipython",
    "version": 3
   },
   "file_extension": ".py",
   "mimetype": "text/x-python",
   "name": "python",
   "nbconvert_exporter": "python",
   "pygments_lexer": "ipython3",
   "version": "3.9.18"
  }
 },
 "nbformat": 4,
 "nbformat_minor": 2
}
