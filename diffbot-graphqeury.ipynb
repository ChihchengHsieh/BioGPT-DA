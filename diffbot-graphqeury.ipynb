{
 "cells": [
  {
   "cell_type": "code",
   "execution_count": 1,
   "metadata": {},
   "outputs": [],
   "source": [
    "from langchain.chat_models import ChatOpenAI\n",
    "from langchain.chains import GraphCypherQAChain\n",
    "from langchain.graphs import Neo4jGraph\n",
    "from secret import *\n",
    "import os\n",
    "os.environ[\"OPENAI_API_KEY\"] = OPENAI_API_KEY"
   ]
  },
  {
   "cell_type": "code",
   "execution_count": 2,
   "metadata": {},
   "outputs": [],
   "source": [
    "graph = Neo4jGraph(\n",
    "    url = \"bolt://localhost:7687\",\n",
    "    username = \"neo4j\",\n",
    "    password = \"test1234\"\n",
    ")"
   ]
  },
  {
   "cell_type": "code",
   "execution_count": 3,
   "metadata": {},
   "outputs": [
    {
     "data": {
      "text/plain": [
       "[]"
      ]
     },
     "execution_count": 3,
     "metadata": {},
     "output_type": "execute_result"
    }
   ],
   "source": [
    "graph.query(\n",
    "    \"\"\"\n",
    "MATCH (n)\n",
    "DETACH DELETE n\n",
    "\"\"\"\n",
    ")"
   ]
  },
  {
   "cell_type": "code",
   "execution_count": 4,
   "metadata": {},
   "outputs": [],
   "source": [
    "graph.refresh_schema()"
   ]
  },
  {
   "cell_type": "code",
   "execution_count": 5,
   "metadata": {},
   "outputs": [
    {
     "name": "stdout",
     "output_type": "stream",
     "text": [
      "\n",
      "        Node properties are the following:\n",
      "        []\n",
      "        Relationship properties are the following:\n",
      "        []\n",
      "        The relationships are the following:\n",
      "        []\n",
      "        \n"
     ]
    }
   ],
   "source": [
    "print(graph.schema)"
   ]
  },
  {
   "cell_type": "code",
   "execution_count": 6,
   "metadata": {},
   "outputs": [],
   "source": [
    "from langchain_experimental.graph_transformers.diffbot import DiffbotGraphTransformer\n",
    "\n",
    "diffbot_nlp = DiffbotGraphTransformer(diffbot_api_key=DIFFBOT_API_TOKEN)"
   ]
  },
  {
   "cell_type": "code",
   "execution_count": 7,
   "metadata": {},
   "outputs": [],
   "source": [
    "from langchain.document_loaders import WikipediaLoader\n",
    "\n",
    "query = \"pulmonary edema\"\n",
    "# query = \"Atelectasis\"\n",
    "# query = \"Warren Buffett\"\n",
    "raw_documents = WikipediaLoader(query=query).load()\n",
    "graph_documents, all_results = diffbot_nlp.convert_to_graph_documents(raw_documents)\n",
    "# took 1m4.0s"
   ]
  },
  {
   "cell_type": "code",
   "execution_count": 8,
   "metadata": {},
   "outputs": [
    {
     "data": {
      "text/plain": [
       "[{'facts': []},\n",
       " {'facts': []},\n",
       " {'facts': []},\n",
       " {'facts': []},\n",
       " {'facts': []},\n",
       " {'facts': []},\n",
       " {'facts': []},\n",
       " {'facts': []},\n",
       " {'facts': []},\n",
       " {'facts': []}]"
      ]
     },
     "execution_count": 8,
     "metadata": {},
     "output_type": "execute_result"
    }
   ],
   "source": [
    "all_results"
   ]
  },
  {
   "cell_type": "code",
   "execution_count": null,
   "metadata": {},
   "outputs": [],
   "source": []
  },
  {
   "cell_type": "code",
   "execution_count": 8,
   "metadata": {},
   "outputs": [
    {
     "data": {
      "text/plain": [
       "[GraphDocument(nodes=[], relationships=[], source=Document(page_content='Pulmonary edema, also known as pulmonary congestion, is excessive liquid accumulation in the tissue and air spaces (usually alveoli) of the lungs. It leads to impaired gas exchange and may cause hypoxemia and respiratory failure. It is due to either failure of the left ventricle of the heart to remove oxygenated blood adequately from the pulmonary circulation (cardiogenic pulmonary edema), or an injury to the lung tissue directly or blood vessels of the lung (non-cardiogenic pulmonary edema).Treatment is focused on three aspects: firstly improving respiratory function, secondly, treating the underlying cause, and thirdly preventing further damage and assuring full recovery to the lung. Pulmonary edema, especially when sudden (acute), can lead to respiratory failure or cardiac arrest due to hypoxia. It is a cardinal feature of congestive heart failure. The term edema is from the Greek οἴδημα (oidēma, \"swelling\"), from οἰδέω (oidéō, \"(I) swell\").\\n\\n\\n== Types ==\\nClassically it is cardiogenic (left ventricular) but fluid may also accumulate due to damage to the lung. This damage may be from direct external injuries or injuries mediated by high pressures within the pulmonary circulation. When directly or indirectly caused by increased left ventricular pressure, pulmonary edema may form when mean pulmonary pressure rises from the normal average of 15 mmHg to above 25 mmHg, where pulmonary fluid may form. Broadly, the causes of pulmonary edema can be divided into cardiogenic and non-cardiogenic. By convention, cardiogenic specifically refers to left ventricular causes.\\n\\n\\n=== Cardiogenic ===\\nCongestive heart failure which is due to the heart\\'s inability to pump the blood out of the pulmonary circulation at a sufficient rate resulting in elevation in pulmonary wedge pressure and edema – this usually is due to left ventricular failure, but may also be from arrhythmias, or fluid overload, (e.g. from kidney failure or intravenous therapy).\\nHypertensive crisis can cause pulmonary edema as the elevation in blood pressure and increased afterload on the left ventricle hinders forward flow in blood vessels and causes the elevation in wedge pressure and subsequent pulmonary edema.\\n\\n\\n=== Non-cardiogenic ===\\nNegative pressure pulmonary edema in which a significant negative (internal) pressure in the chest (such as from an inhalation against an upper airway obstruction) ruptures capillaries and floods the alveoli with blood. Negative pressure pulmonary edema has an incidence in the range of 0.05-0.1% in cases of general anesthesia. The negative pressure causes a significant increase in preload, thereby increasing pulmonary blood volume.  There is also a significant increase in left ventricular afterload, which causes a decreased cardiac output.  The increase in pulmonary blood volume and pressure along with a decrease in cardiac output to the lungs will increase the pulmonary transudative pressures and the risk of pulmonary edema. With all this occurring, pulmonary vascular resistance increases causing a shift of the intraventricular septum.  The ventricular septal shift to the left causes a left ventricular diastolic dysfunction, which further increases pulmonary hydrostatic pressures and the risk.\\nNeurogenic causes  (seizures, head trauma, strangulation, electrocution).\\nPulmonary embolismAcute lung injury may also cause pulmonary edema directly through injury to the vasculature and parenchyma of the lung. It includes acute lung injury and acute respiratory distress syndrome. (ALI-ARDS) cover many of these causes, but they may also include:\\n\\nInhalation of hot or toxic gases\\nPulmonary contusion, i.e., high-energy trauma (e.g. vehicle accidents)\\nAspiration, e.g., gastric fluid\\nReexpansion, i.e. post large volume thoracocentesis, resolution of pneumothorax, post decortication, removal of endobronchial obstruction, effectively a form of negative pressure pulmonary oedema.\\nReperfusion injury, i.e., postpulmonary thromboendartectomy or lung transplantat', metadata={'title': 'Pulmonary edema', 'summary': 'Pulmonary edema, also known as pulmonary congestion, is excessive liquid accumulation in the tissue and air spaces (usually alveoli) of the lungs. It leads to impaired gas exchange and may cause hypoxemia and respiratory failure. It is due to either failure of the left ventricle of the heart to remove oxygenated blood adequately from the pulmonary circulation (cardiogenic pulmonary edema), or an injury to the lung tissue directly or blood vessels of the lung (non-cardiogenic pulmonary edema).Treatment is focused on three aspects: firstly improving respiratory function, secondly, treating the underlying cause, and thirdly preventing further damage and assuring full recovery to the lung. Pulmonary edema, especially when sudden (acute), can lead to respiratory failure or cardiac arrest due to hypoxia. It is a cardinal feature of congestive heart failure. The term edema is from the Greek οἴδημα (oidēma, \"swelling\"), from οἰδέω (oidéō, \"(I) swell\").', 'source': 'https://en.wikipedia.org/wiki/Pulmonary_edema'})),\n",
       " GraphDocument(nodes=[], relationships=[], source=Document(page_content='High-altitude pulmonary edema (HAPE) is a life-threatening form of non-cardiogenic pulmonary edema that occurs in otherwise healthy people at altitudes typically above 2,500 meters (8,200 ft). However, cases have also been reported between 1,500–2,500 metres or 4,900–8,200 feet in more vulnerable subjects.\\nClassically, HAPE occurs in persons normally living at low altitude who travel to an altitude above 2,500 meters (8,200 feet). Re-entry HAPE is also an entity that has been described in persons who normally live at high altitude but who develop pulmonary edema after returning from a stay at low altitude. It is severe presentation of altitude sickness.\\nThere are many factors that can make a person more susceptible to developing HAPE, including genetic factors, but detailed understanding is lacking and currently under investigation. HAPE remains the major cause of death related to high-altitude exposure, with a high mortality rate in the absence of adequate emergency treatment.\\n\\n\\n== Signs and symptoms ==\\nPhysiological and symptomatic changes often vary according to the altitude involved.The Lake Louise Consensus Definition for high-altitude pulmonary edema has set widely used criteria for defining HAPE symptoms.In the presence of a recent gain in altitude, the presence of the following:\\nSymptoms: at least two of:\\n\\nShortness of breath at rest\\nCough\\nWeakness or decreased exercise performance\\nChest tightness or congestionSigns: at least two of:\\n\\nCrackles or wheezing (while breathing) in at least one lung field\\nCentral blue skin color\\nTachypnea (rapid breathing)\\nTachycardia (rapid heart rate)Acute mountain sickness and high altitude cerebral edema may also be present in conjunction with HAPE, however these symptoms may be subtle or not present at all. The most reliable sign of HAPE is severe fatigue or exercise intolerance, especially in a climber that was previously not displaying this symptom.\\n\\n\\n== Risk factors ==\\nThere are multiple factors that can contribute to the development of HAPE, including sex (male), genetic factors, prior development of HAPE, ascent rate, cold exposure, peak altitude, intensity of physical exertion, and certain underlying medical conditions (e.g., pulmonary hypertension). Anatomic abnormalities that are predisposing include congenital absence of pulmonary artery, and left-to-right intracardiac shunts (e.g., atrial and ventricular septal defects), both of which increase pulmonary blood flow. HAPE-susceptible (HAPE-s) individuals were also found to be four times more likely to have a patent foramen ovale (PFO) than those who were HAPE-resistant. There is currently no indication or recommendation for people with PFO to pursue closure prior to extreme altitude exposure.In studies performed at sea level, HAPE-s people were found to have exaggerated circulatory response to both hypoxia at rest and during exercise. In these individuals, the pulmonary artery pressure (PAP) and pulmonary vascular resistance (PVR) were shown to be abnormally high. Microneurographic recordings in these individuals developed a direct link between PAP rise and sympathetic nervous system over-activation, which could explain the exaggerated response to hypoxia in these persons.Endothelial tissue dysfunction has also been linked to development of HAPE, including reduced synthesis of NO (a potent vasodilator), increased levels of endothelin (a potent vasconstrictor), and an impaired ability to transport sodium and water across the epithelium and out of the alveoli.Data on the genetic basis for HAPE susceptibility is conflicting and interpretation is difficult. Genes implicated in the development of HAPE include those in the renin-angiotensin system (RAS), NO pathway, and hypoxia-inducible factor pathway (HIF). Future genomic testing could provide a clearer picture of the genetic factors that contribute to HAPE.\\n\\n\\n== Pathophysiology ==\\nThough it remains a topic of intense investigation, multiple studies and reviews over the last several', metadata={'title': 'High-altitude pulmonary edema', 'summary': 'High-altitude pulmonary edema (HAPE) is a life-threatening form of non-cardiogenic pulmonary edema that occurs in otherwise healthy people at altitudes typically above 2,500 meters (8,200 ft). However, cases have also been reported between 1,500–2,500 metres or 4,900–8,200 feet in more vulnerable subjects.\\nClassically, HAPE occurs in persons normally living at low altitude who travel to an altitude above 2,500 meters (8,200 feet). Re-entry HAPE is also an entity that has been described in persons who normally live at high altitude but who develop pulmonary edema after returning from a stay at low altitude. It is severe presentation of altitude sickness.\\nThere are many factors that can make a person more susceptible to developing HAPE, including genetic factors, but detailed understanding is lacking and currently under investigation. HAPE remains the major cause of death related to high-altitude exposure, with a high mortality rate in the absence of adequate emergency treatment.', 'source': 'https://en.wikipedia.org/wiki/High-altitude_pulmonary_edema'})),\n",
       " GraphDocument(nodes=[], relationships=[], source=Document(page_content='Swimming induced pulmonary edema (SIPE), also known as immersion pulmonary edema, is a life threatening condition that occurs when fluids from the blood leak abnormally from the small vessels of the lung (pulmonary capillaries) into the airspaces (alveoli).SIPE usually occurs during exertion in conditions of water immersion, such as swimming and diving. With the recent surge in popularity of triathlons and swimming in open water events there has been an increasing incidence of SIPE. It has been reported in scuba divers, apnea (breath hold) free-diving competitors, combat swimmers, and triathletes.  The causes are incompletely understood as of 2010. There is evidence that SIPE may be the leading cause of death among recreational scuba divers.\\n\\n\\n== Signs and symptoms ==\\nAs with other forms of pulmonary edema, the hallmark of SIPE is a cough which may lead to  frothy or blood-tinged sputum. Symptoms include:\\n\\nShortness of breath out of proportion to effort being expended. Rapid, heavy or uneven breathing, or uncontrollable coughing.\\nCrackles, rattling or ‘junky’ feelings deep in the chest associated with breathing effort – usually progressively worsening with increasing shortness of breath and may be cause for a panic attack\\nCough, usually distressing and productive or not of a little pink, frothy or blood-tinged sputum (hemoptysis)\\nThe wetsuit may feel as though it is hindering breathing ability.\\nThe diver feels that their breathing equipment is not working properly, with a high work of breathing, even though later tests indicate that the equipment was working correctly. A diver switching their demand valves, or using a buddy’s air supply, or repeatedly purging a rebreather may indicate the onset of SIPE, particularly if there is an adequate supply pressure, and may signal that they are out of gas, or reject a working alternative gas supply\\nA diver may have difficulty breathing at the surface.\\nConfusion or apparently irrational behaviour.\\n\\n\\n== Risk factors ==\\nIt has been described in scuba divers, long-distance swimmers, and breath-hold divers.\\nPreexisting cardiac disease and high blood pressure Hypertension correlates with greater increases in peripheral vasoconstriction on cold exposure. Combined with diastolic dysfunction due to hypertrophy of left ventricular walls causes high risk.\\nImmersion in cold water. Immersion in cold water increases peripheral vasoconstriction and thereby increases afterload on the left ventricle. It probably also further increases preload.\\nStress or exertion during immersion. Stress and exertion increase cardiac work, induce catecholamine release and increase cardiac filling pressures.\\nFemale sex\\nAntiplatelet agents such as aspirin or fish oil\\nExcessive pre-hydration before immersion\\nNegative pressure inspiration when diving. Use of a snorkel and some types of scuba equipment may cause a negative pressure difference between the air-source and lung centroid, which will cause a greater leakage of fluid into the alveoli.\\n\\n\\n== Mechanism ==\\nImmersion causes increased external hydrostatic pressure, leading to redistribution of blood from the periphery to the chest, which increases cardiac filling pressures and stroke volume, and also reduces total lung capacity. There is a movement of fluid from the alveolar capillaries into the alveoli and extravascular lung tissues, which increases with time, and is normal in healthy humans when immersed. This is normally counteracted by the release of BNP which causes sodium and water excretion through the kidneys. This natriuresis is slow, so lung water increase is to some extent normal, but in susceptible people a higher rate of accumulation produces symptoms of SIPEThe alveoli of the lungs fill with edema fluid, causing dyspnoea, cough and frothy or bloodstained sputum. Gas exchange is affected, and as hypoxia increases there may be a loss of consciousness. Oxygenation in divers may be affected by breathing gas mix and partial pressure reduction due to ascent. In se', metadata={'title': 'Swimming-induced pulmonary edema', 'summary': 'Swimming induced pulmonary edema (SIPE), also known as immersion pulmonary edema, is a life threatening condition that occurs when fluids from the blood leak abnormally from the small vessels of the lung (pulmonary capillaries) into the airspaces (alveoli).SIPE usually occurs during exertion in conditions of water immersion, such as swimming and diving. With the recent surge in popularity of triathlons and swimming in open water events there has been an increasing incidence of SIPE. It has been reported in scuba divers, apnea (breath hold) free-diving competitors, combat swimmers, and triathletes.  The causes are incompletely understood as of 2010. There is evidence that SIPE may be the leading cause of death among recreational scuba divers.', 'source': 'https://en.wikipedia.org/wiki/Swimming-induced_pulmonary_edema'})),\n",
       " GraphDocument(nodes=[], relationships=[], source=Document(page_content=\"Edema, also spelled oedema, and also known as fluid retention, dropsy, hydropsy and swelling, is the build-up of fluid in the body's tissue. Most commonly, the legs or arms are affected. Symptoms may include skin which feels tight, the area may feel heavy, and joint stiffness. Other symptoms depend on the underlying cause.Causes may include venous insufficiency, heart failure, kidney problems, low protein levels, liver problems, deep vein thrombosis, infections, angioedema, certain medications, and lymphedema. It may also occur in immobile patients (stroke, spinal cord injury, aging), or with temporary immobility such as prolonged sitting or standing, and during menstruation or pregnancy. The condition is more concerning if it starts suddenly, or pain or shortness of breath is present.Treatment depends on the underlying cause. If the underlying mechanism involves sodium retention, decreased salt intake and a diuretic may be used. Elevating the legs and support stockings may be useful for edema of the legs. Older people are more commonly affected. The word is from the Greek οἴδημα oídēma meaning 'swelling'.\\n\\n\\n== Signs and symptoms ==\\n\\n\\n=== Specific area ===\\nAn edema will occur in specific organs as part of inflammations, tendinitis or pancreatitis, for instance. Certain organs develop edema through tissue specific mechanisms. Examples of edema in specific organs:\\n\\nPeripheral edema (“dependent” edema of legs) is extracellular fluid accumulation in the lower extremities caused by the effects of gravity, and occurs when fluid pools in the lower parts of the body, including the feet, legs, or hands.  This often occurs in immobile patients, such as paraplegics or quadriplegics, pregnant women, or in otherwise healthy people due to hypervolemia or maintaining a standing or seated posture for an extended period of time. It can occur due to diminished venous return of blood to the heart due to congestive heart failure or pulmonary hypertension. It can also occur in patients with increased hydrostatic venous pressure or decreased oncotic venous pressure, due to obstruction of lymphatic or venous vessels draining the lower extremity. Certain drugs (for example, amlodipine) can cause pedal edema.\\nCerebral edema is extracellular fluid accumulation in the brain. It can occur in toxic or abnormal metabolic states and conditions such as systemic lupus or reduced oxygen at high altitudes. It causes drowsiness or loss of consciousness, leading to brain herniation and death.\\nPulmonary edema occurs when the pressure in blood vessels in the lung is raised because of obstruction to the removal of blood via the pulmonary veins. This is usually due to failure of the left ventricle of the heart. It can also occur in altitude sickness or on inhalation of toxic chemicals. Pulmonary edema produces shortness of breath. Pleural effusions may occur when fluid also accumulates in the pleural cavity.\\nEdema may also be found in the cornea of the eye with glaucoma, severe conjunctivitis, keratitis, or after surgery. Affected people may perceive coloured haloes around bright lights.\\nEdema surrounding the eyes is called periorbital edema (puffy eyes) . The periorbital tissues are most noticeably swollen immediately after waking, perhaps as a result of the gravitational redistribution of fluid in the horizontal position.\\nCommon appearances of cutaneous edema are observed with mosquito bites, spider bites, bee stings (wheal and flare), and skin contact with certain plants such as poison ivy or western poison oak, the latter of which are termed contact dermatitis.\\nAnother cutaneous form of edema is myxedema, which is caused by increased deposition of connective tissue. In myxedema (and a variety of other rarer conditions) edema is caused by an increased tendency of the tissue to hold water within its extracellular space. In myxedema, this is due to  an increase in hydrophilic carbohydrate-rich molecules (perhaps mostly hyaluronin) deposited in the tissue matrix. Ede\", metadata={'title': 'Edema', 'summary': \"Edema, also spelled oedema, and also known as fluid retention, dropsy, hydropsy and swelling, is the build-up of fluid in the body's tissue. Most commonly, the legs or arms are affected. Symptoms may include skin which feels tight, the area may feel heavy, and joint stiffness. Other symptoms depend on the underlying cause.Causes may include venous insufficiency, heart failure, kidney problems, low protein levels, liver problems, deep vein thrombosis, infections, angioedema, certain medications, and lymphedema. It may also occur in immobile patients (stroke, spinal cord injury, aging), or with temporary immobility such as prolonged sitting or standing, and during menstruation or pregnancy. The condition is more concerning if it starts suddenly, or pain or shortness of breath is present.Treatment depends on the underlying cause. If the underlying mechanism involves sodium retention, decreased salt intake and a diuretic may be used. Elevating the legs and support stockings may be useful for edema of the legs. Older people are more commonly affected. The word is from the Greek οἴδημα oídēma meaning 'swelling'.\", 'source': 'https://en.wikipedia.org/wiki/Edema'})),\n",
       " GraphDocument(nodes=[], relationships=[], source=Document(page_content=\"Respiratory failure results from inadequate gas exchange by the respiratory system, meaning that the arterial oxygen, carbon dioxide, or both cannot be kept at normal levels. A drop in the oxygen carried in the blood is known as hypoxemia; a rise in arterial carbon dioxide levels is called hypercapnia. Respiratory failure is classified as either Type 1 or Type 2, based on whether there is a high carbon dioxide level, and can be acute or chronic. In clinical trials, the definition of respiratory failure usually includes increased respiratory rate, abnormal blood gases (hypoxemia, hypercapnia, or both), and evidence of increased work of breathing. Respiratory failure causes an altered mental status due to ischemia in the brain.\\nThe typical partial pressure reference values are oxygen Pa O2 more than 80 mmHg (11 kPa) and carbon dioxide Pa CO2 less than 45 mmHg (6.0 kPa).\\n\\n\\n== Cause ==\\nA variety of conditions that can potentially result in respiratory failure. The etiologies of each type of respiratory failure (see below) may differ, as well. Different types of conditions may cause respiratory failure:\\n\\nConditions that reduce the flow of air into and out of the lungs, including physical obstruction by foreign bodies or masses and reduced breathing due to drugs or changes to the chest.\\nConditions that impair the lungs' blood supply. These include thromboembolic conditions and conditions that reduce the output of the right heart, such as right heart failure and some myocardial infarctions.\\nConditions that limit the ability of the lung tissue to exchange oxygen and carbon dioxide between the blood and the air within the lungs. Any disease which can damage the lung tissue can fit into this category. The most common causes are (in no particular order) infections, interstitial lung disease, and pulmonary edema.\\n\\n\\n== Types ==\\nRespiratory failure is generally organized into 4 types. Below is a diagram that provides a general overview of the 4 types of respiratory failure, their distinguishing characteristics, and major causes of each.\\n\\n\\n=== Type 1 ===\\nType 1 respiratory failure is characterized by a low level of oxygen in the blood (hypoxemia) (PaO2) < 60 mmHg with a normal (normocapnia) or low (hypocapnia) level of carbon dioxide (PaCO2) in the blood.The fundamental defect in type 1 respiratory failure is a failure of oxygenation characterized by:\\n\\nType I respiratory failure is caused by conditions that affect oxygenation and therefore lead to lower-than-normal oxygen in the blood. These include:\\n\\nLow ambient oxygen (e.g. at high altitude).\\nVentilation-perfusion mismatch (parts of the lung receive oxygen but not enough blood to absorb it, e.g. pulmonary embolism, Acute respiratory distress syndrome, Chronic obstructive pulmonary disease, Congestive heart failure.\\nAlveolar hypoventilation (decreased minute volume due to reduced respiratory muscle activity, e.g. in acute neuromuscular disease); this form can also cause type 2 respiratory failure if severe.\\nDiffusion problem (oxygen cannot enter the capillaries due to parenchymal disease, e.g. in pneumonia or ARDS).\\nRight-to-left shunt (oxygenated blood mixes with non-oxygenated blood from the venous system, e.g. Arteriovenous malformation, Complete atelectasis, Severe pneumonia, Severe pulmonary edema).\\n\\n\\n=== Type 2 ===\\nHypoxemia (PaO2 <8kPa or normal) with hypercapnia (PaCO2 >6.0kPa).\\nThe basic defect in type 2 respiratory failure is characterized by:\\n\\nType 2 respiratory failure is caused by inadequate alveolar ventilation; both oxygen and carbon dioxide are affected.  Defined as the buildup of carbon dioxide levels (PaCO2) that has been generated by the body but cannot be eliminated. The underlying causes include:\\n\\nIncreased airways resistance (chronic obstructive pulmonary disease, asthma, suffocation)\\nReduced breathing effort (drug effects, brain stem lesion, extreme obesity)\\nA decrease in the area of the lung available for gas exchange (such as in chronic bronchitis)\\nNeuromuscular pro\", metadata={'title': 'Respiratory failure', 'summary': 'Respiratory failure results from inadequate gas exchange by the respiratory system, meaning that the arterial oxygen, carbon dioxide, or both cannot be kept at normal levels. A drop in the oxygen carried in the blood is known as hypoxemia; a rise in arterial carbon dioxide levels is called hypercapnia. Respiratory failure is classified as either Type 1 or Type 2, based on whether there is a high carbon dioxide level, and can be acute or chronic. In clinical trials, the definition of respiratory failure usually includes increased respiratory rate, abnormal blood gases (hypoxemia, hypercapnia, or both), and evidence of increased work of breathing. Respiratory failure causes an altered mental status due to ischemia in the brain.\\nThe typical partial pressure reference values are oxygen Pa O2 more than 80 mmHg (11 kPa) and carbon dioxide Pa CO2 less than 45 mmHg (6.0 kPa).', 'source': 'https://en.wikipedia.org/wiki/Respiratory_failure'})),\n",
       " GraphDocument(nodes=[], relationships=[], source=Document(page_content=\"A pulmonary consolidation is a region of normally compressible lung tissue that has filled with liquid instead of air. The condition is marked by induration (swelling or hardening of normally soft tissue) of a normally aerated lung. It is considered a radiologic sign. Consolidation occurs through accumulation of inflammatory cellular exudate in the alveoli and adjoining ducts. The liquid can be pulmonary edema, inflammatory exudate, pus, inhaled water, or blood (from bronchial tree or hemorrhage from a pulmonary artery). Consolidation must be present to diagnose pneumonia: the signs of lobar pneumonia are characteristic and clinically referred to as consolidation.\\n\\n\\n== Signs ==\\nSigns that consolidation may have occurred include:\\n\\nExpansion of the thorax on inspiration is reduced on the affected side\\nVocal fremitus is increased on the affected side\\nPercussion note is impaired in the affected area\\nBreath sounds are bronchial\\nPossible medium, late, or pan-inspiratory crackles\\nVocal resonance is increased. Here, the patient's voice (or whisper, as in whispered pectoriloquy) can be heard more clearly when there is consolidation, as opposed to the healthy lung where speech sounds muffled.\\nA pleural rub may be present.\\nA lower PAO2 than calculated in the alveolar gas equation\\n\\n\\n== Diagnosis ==\\n\\n\\n=== Radiology ===\\nTypically, an area of white lung is seen on a standard X-ray. Consolidated tissue is more radio-opaque than normally aerated lung parenchyma, so that it is clearly demonstrable in radiography and on CT scans. Consolidation is often a middle-to-late stage feature/complication in pulmonary infections.\\n\\n\\n== See also ==\\nPulmonary infiltrate\\n\\n\\n== References ==\\n\\n\\n== External links ==\", metadata={'title': 'Pulmonary consolidation', 'summary': 'A pulmonary consolidation is a region of normally compressible lung tissue that has filled with liquid instead of air. The condition is marked by induration (swelling or hardening of normally soft tissue) of a normally aerated lung. It is considered a radiologic sign. Consolidation occurs through accumulation of inflammatory cellular exudate in the alveoli and adjoining ducts. The liquid can be pulmonary edema, inflammatory exudate, pus, inhaled water, or blood (from bronchial tree or hemorrhage from a pulmonary artery). Consolidation must be present to diagnose pneumonia: the signs of lobar pneumonia are characteristic and clinically referred to as consolidation.', 'source': 'https://en.wikipedia.org/wiki/Pulmonary_consolidation'})),\n",
       " GraphDocument(nodes=[], relationships=[], source=Document(page_content=\"Interstitial lung disease (ILD), or diffuse parenchymal lung disease (DPLD), is a group of respiratory diseases affecting the interstitium (the tissue) and space around the alveoli (air sacs) of the lungs. It concerns alveolar epithelium, pulmonary capillary endothelium, basement membrane, and perivascular and perilymphatic tissues. It may occur when an injury to the lungs triggers an abnormal healing response. Ordinarily, the body generates just the right amount of tissue to repair damage, but in interstitial lung disease, the repair process is disrupted, and the tissue around the air sacs (alveoli) becomes scarred and thickened. This makes it more difficult for oxygen to pass into the bloodstream. The disease presents itself with the following symptoms: shortness of breath, nonproductive coughing, fatigue, and weight loss, which tend to develop slowly, over several months. The average rate of survival for someone with this disease is between three and five years. The term ILD is used to distinguish these diseases from obstructive airways diseases.\\nThere are specific types in children, known as children's interstitial lung diseases. The acronym ChILD is sometimes used for this group of diseases.Prolonged ILD may result in pulmonary fibrosis, but this is not always the case. Idiopathic pulmonary fibrosis is interstitial lung disease for which no obvious cause can be identified (idiopathic) and is associated with typical findings both radiographic (basal and pleural-based fibrosis with honeycombing) and pathologic (temporally and spatially heterogeneous fibrosis, histopathologic honeycombing, and fibroblastic foci).\\nIn 2015, interstitial lung disease, together with pulmonary sarcoidosis, affected 1.9 million people. They resulted in 122,000 deaths.\\n\\n\\n== Causes ==\\nAn ILD may be classified as to whether its cause is not known (idiopathic) or known (secondary).\\n\\n\\n=== Idiopathic ===\\nIdiopathic interstitial pneumonia is the term given to ILDs with an unknown cause. They represent the majority of cases of interstitial lung diseases (up to two-thirds of cases). They were subclassified by the American Thoracic Society in 2002 into 7 subgroups:\\nIdiopathic pulmonary fibrosis (IPF): the most common subgroup\\nDesquamative interstitial pneumonia (DIP)\\nAcute interstitial pneumonia (AIP): also known as Hamman-Rich syndrome\\nNonspecific interstitial pneumonia (NSIP)\\nRespiratory bronchiolitis-associated interstitial lung disease (RB-ILD)\\nCryptogenic organizing pneumonia (COP): also known by the older name bronchiolitis obliterans organizing pneumonia (BOOP)\\nLymphoid interstitial pneumonia (LIP)\\n\\n\\n=== Secondary ===\\nSecondary ILDs are those diseases with a known etiology, including:\\n\\n\\n==== Connective tissue and autoimmune diseases ====\\nSarcoidosis\\nRheumatoid arthritis\\nSystemic lupus erythematosus\\nSystemic sclerosis\\nPolymyositis\\nDermatomyositis\\nAntisynthetase syndrome\\n\\n\\n==== Inhaled substances (pneumoconiosis) ====\\nInorganic\\nSilicosis\\nAsbestosis\\nBerylliosis\\nIndustrial printing chemicals (e.g. carbon black, ink mist)\\nOrganic\\nHypersensitivity pneumonitis (extrinsic allergic alveolitis)\\n\\n\\n==== Drug-induced ====\\nAntibiotics (e.g., nitrofurantoin and sulfa drugs)\\nChemotherapeutic drugs\\nAntiarrhythmic agents\\nCigarette smokingSmoking-related interstitial fibrosis (SRIF) is an example of a type of interstitial lung disease known to be caused by smoking.\\n\\n\\n==== Infection ====\\nCoronavirus disease 2019 (COVID-19)\\nAtypical pneumonia\\nPneumocystis pneumonia (PCP)\\nTuberculosis\\nChlamydia trachomatis\\nRespiratory syncytial virus\\n\\n\\n==== Malignancy ====\\nLymphangitic carcinomatosis\\n\\n\\n==== Childhood interstitial lung disease and ILD predominately in children ====\\n\\nDiffuse developmental disorders\\nGrowth abnormalities and deficient alveolarisation\\nInfant conditions of undefined cause\\nILD related to alveolar surfactant region\\n\\n\\n== Diagnosis ==\\nInvestigation is tailored towards the symptoms and signs. A proper and detailed history looking for the occupational exposures and f\", metadata={'title': 'Interstitial lung disease', 'summary': \"Interstitial lung disease (ILD), or diffuse parenchymal lung disease (DPLD), is a group of respiratory diseases affecting the interstitium (the tissue) and space around the alveoli (air sacs) of the lungs. It concerns alveolar epithelium, pulmonary capillary endothelium, basement membrane, and perivascular and perilymphatic tissues. It may occur when an injury to the lungs triggers an abnormal healing response. Ordinarily, the body generates just the right amount of tissue to repair damage, but in interstitial lung disease, the repair process is disrupted, and the tissue around the air sacs (alveoli) becomes scarred and thickened. This makes it more difficult for oxygen to pass into the bloodstream. The disease presents itself with the following symptoms: shortness of breath, nonproductive coughing, fatigue, and weight loss, which tend to develop slowly, over several months. The average rate of survival for someone with this disease is between three and five years. The term ILD is used to distinguish these diseases from obstructive airways diseases.\\nThere are specific types in children, known as children's interstitial lung diseases. The acronym ChILD is sometimes used for this group of diseases.Prolonged ILD may result in pulmonary fibrosis, but this is not always the case. Idiopathic pulmonary fibrosis is interstitial lung disease for which no obvious cause can be identified (idiopathic) and is associated with typical findings both radiographic (basal and pleural-based fibrosis with honeycombing) and pathologic (temporally and spatially heterogeneous fibrosis, histopathologic honeycombing, and fibroblastic foci).\\nIn 2015, interstitial lung disease, together with pulmonary sarcoidosis, affected 1.9 million people. They resulted in 122,000 deaths.\", 'source': 'https://en.wikipedia.org/wiki/Interstitial_lung_disease'})),\n",
       " GraphDocument(nodes=[], relationships=[], source=Document(page_content='The pulmonary wedge pressure (PWP) (also called pulmonary arterial wedge pressure (PAWP), pulmonary capillary wedge pressure (PCWP), pulmonary artery occlusion pressure (PAOP), or cross-sectional pressure) is the pressure measured by wedging a pulmonary artery catheter with an inflated balloon into a small pulmonary arterial branch. It estimates the left atrial pressure.\\nPulmonary venous wedge pressure (PVWP) is not synonymous with the above; PVWP has been shown to correlate with pulmonary artery pressures in studies, albeit unreliably.Physiologically, distinctions can be drawn among pulmonary artery pressure, pulmonary capillary wedge pressure, pulmonary venous pressure and left atrial pressure, but not all of these can be measured in a clinical context.Noninvasive estimation techniques have been proposed.\\n\\n\\n== Clinical significance ==\\nBecause of the large compliance of pulmonary circulation, it provides an indirect measure of the left atrial pressure.For example, it is considered the gold standard for determining the cause of acute pulmonary edema; this is likely to be present at a PWP of >20mmHg. It has also been used to diagnose severity of left ventricular failure and mitral stenosis, given that elevated pulmonary capillary wedge pressure strongly suggests failure of left ventricular output.Traditionally, it was believed that pulmonary edema with normal PWP suggested a diagnosis of acute respiratory distress syndrome (ARDS) or non cardiogenic pulmonary edema (as in opiate poisoning).  However, since capillary hydrostatic pressure exceeds wedge pressure once the balloon is deflated (to promote a gradient for forward flow), a normal wedge pressure cannot  conclusively differentiate between hydrostatic pulmonary edema and ARDS.Physiological pressure: 6–12 mm Hg.\\n\\n\\n== References ==\\n\\n\\n== External links ==\\nOverview at cvphysiology.com\\nPulmonary+wedge+pressure at the U.S. National Library of Medicine Medical Subject Headings (MeSH)', metadata={'title': 'Pulmonary wedge pressure', 'summary': 'The pulmonary wedge pressure (PWP) (also called pulmonary arterial wedge pressure (PAWP), pulmonary capillary wedge pressure (PCWP), pulmonary artery occlusion pressure (PAOP), or cross-sectional pressure) is the pressure measured by wedging a pulmonary artery catheter with an inflated balloon into a small pulmonary arterial branch. It estimates the left atrial pressure.\\nPulmonary venous wedge pressure (PVWP) is not synonymous with the above; PVWP has been shown to correlate with pulmonary artery pressures in studies, albeit unreliably.Physiologically, distinctions can be drawn among pulmonary artery pressure, pulmonary capillary wedge pressure, pulmonary venous pressure and left atrial pressure, but not all of these can be measured in a clinical context.Noninvasive estimation techniques have been proposed.', 'source': 'https://en.wikipedia.org/wiki/Pulmonary_wedge_pressure'})),\n",
       " GraphDocument(nodes=[], relationships=[], source=Document(page_content='Pneumonia is an inflammatory condition of the lung primarily affecting the small air sacs known as alveoli. Symptoms typically include some combination of productive or dry cough, chest pain, fever, and difficulty breathing. The severity of the condition is variable.Pneumonia is usually caused by infection with viruses or bacteria, and less commonly by other microorganisms. Identifying the responsible pathogen can be difficult. Diagnosis is often based on symptoms and physical examination. Chest X-rays, blood tests, and culture of the sputum may help confirm the diagnosis. The disease may be classified by where it was acquired, such as community- or hospital-acquired or healthcare-associated pneumonia.Risk factors for pneumonia include cystic fibrosis, chronic obstructive pulmonary disease (COPD), sickle cell disease, asthma, diabetes, heart failure, a history of smoking, a poor ability to cough (such as following a stroke), and a weak immune system.Vaccines to prevent certain types of pneumonia (such as those caused by Streptococcus pneumoniae bacteria, linked to influenza, or linked to COVID-19) are available. Other methods of prevention include hand washing to prevent infection, not smoking, and social distancing.Treatment depends on the underlying cause. Pneumonia believed to be due to bacteria is treated with antibiotics. If the pneumonia is severe, the affected person is generally hospitalized. Oxygen therapy may be used if oxygen levels are low.Each year, pneumonia affects about 450 million people globally (7% of the population) and results in about 4 million deaths. With the introduction of antibiotics and vaccines in the 20th century, survival has greatly improved. Nevertheless, pneumonia remains a leading cause of death in developing countries, and also among the very old, the very young, and the chronically ill. Pneumonia often shortens the period of suffering among those already close to death and has thus been called \"the old man\\'s friend\".\\n\\n\\n== Signs and symptoms ==\\nPeople with infectious pneumonia often have a productive cough, fever accompanied by shaking chills, shortness of breath, sharp or stabbing chest pain during deep breaths, and an increased rate of breathing. In elderly people, confusion may be the most prominent sign.The typical signs and symptoms in children under five are fever, cough, and fast or difficult breathing. Fever is not very specific, as it occurs in many other common illnesses and may be absent in those with severe disease, malnutrition or in the elderly. In addition, a cough is frequently absent in children less than 2 months old. More severe signs and symptoms in children may include blue-tinged skin, unwillingness to drink, convulsions, ongoing vomiting, extremes of temperature, or a decreased level of consciousness.Bacterial and viral cases of pneumonia usually result in similar symptoms. Some causes are associated with classic, but non-specific, clinical characteristics. Pneumonia caused by Legionella may occur with abdominal pain, diarrhea, or confusion. Pneumonia caused by Streptococcus pneumoniae is associated with rusty colored sputum. Pneumonia caused by Klebsiella may have bloody sputum often described as \"currant jelly\". Bloody sputum (known as hemoptysis) may also occur with tuberculosis, Gram-negative pneumonia, lung abscesses and more commonly acute bronchitis. Pneumonia caused by Mycoplasma pneumoniae may occur in association with swelling of the lymph nodes in the neck, joint pain, or a middle ear infection. Viral pneumonia presents more commonly with wheezing than bacterial pneumonia. Pneumonia was historically divided into \"typical\" and \"atypical\" based on the belief that the presentation predicted the underlying cause. However, evidence has not supported this distinction, therefore it is no longer emphasized.\\n\\n\\n== Cause ==\\nPneumonia is due to infections caused primarily by bacteria or viruses and less commonly by fungi and parasites. Although more than 100 strains of ', metadata={'title': 'Pneumonia', 'summary': 'Pneumonia is an inflammatory condition of the lung primarily affecting the small air sacs known as alveoli. Symptoms typically include some combination of productive or dry cough, chest pain, fever, and difficulty breathing. The severity of the condition is variable.Pneumonia is usually caused by infection with viruses or bacteria, and less commonly by other microorganisms. Identifying the responsible pathogen can be difficult. Diagnosis is often based on symptoms and physical examination. Chest X-rays, blood tests, and culture of the sputum may help confirm the diagnosis. The disease may be classified by where it was acquired, such as community- or hospital-acquired or healthcare-associated pneumonia.Risk factors for pneumonia include cystic fibrosis, chronic obstructive pulmonary disease (COPD), sickle cell disease, asthma, diabetes, heart failure, a history of smoking, a poor ability to cough (such as following a stroke), and a weak immune system.Vaccines to prevent certain types of pneumonia (such as those caused by Streptococcus pneumoniae bacteria, linked to influenza, or linked to COVID-19) are available. Other methods of prevention include hand washing to prevent infection, not smoking, and social distancing.Treatment depends on the underlying cause. Pneumonia believed to be due to bacteria is treated with antibiotics. If the pneumonia is severe, the affected person is generally hospitalized. Oxygen therapy may be used if oxygen levels are low.Each year, pneumonia affects about 450 million people globally (7% of the population) and results in about 4 million deaths. With the introduction of antibiotics and vaccines in the 20th century, survival has greatly improved. Nevertheless, pneumonia remains a leading cause of death in developing countries, and also among the very old, the very young, and the chronically ill. Pneumonia often shortens the period of suffering among those already close to death and has thus been called \"the old man\\'s friend\".', 'source': 'https://en.wikipedia.org/wiki/Pneumonia'})),\n",
       " GraphDocument(nodes=[], relationships=[], source=Document(page_content='Negative-pressure pulmonary edema (NPPE), also known as Postobstructive Pulmonary Edema, is a clinical phenomenon that results from the generation of large negative pressures in the airways during attempted inspiration against some form of obstruction of the upper airways. The most common reported cause of NPPE reported in adults is laryngospasm, while the most implicated causes in children are infectious croup and epiglottitis. The large negative pressures created in the airways by inhalation against an upper airway obstruction can lead to fluid being drawn from blood vessels supplying the lungs into the alveoli, causing pulmonary edema and impaired ability for oxygen exchange (hypoxemia). The main treatment for NPPE is supportive care in an intensive care unit and can be fatal without intervention.\\n\\n\\n== Physiology ==\\nNPPE develops as a result of significant negative pressure generated in the chest cavity by inspiration against an upper airway obstruction. These negative pressures in the chest lead to increase venous supply to the right side of the heart (preload) while simultaneously creating more resistance for the left side of the heart to supply blood to the rest of the body (afterload). This large negative force also results in a decrease of the forces exerted by fluids outside of the pulmonary blood vessels. This results in an increased amount of fluid shifting from these vessels into the lower pressure extravascular space. While there normally is a net passage of fluid out of the vasculature at baseline, this is a small enough amount to be drained from the extravascular space by the lymphatic system, and as such fluid does not accumulate. In the setting of NPPE, the excess shift of fluid overcome the ability of the lymphatic system, and fluid (edema) accumulates in the alveoli of the lungs. As these structures are important for gas exchange during respiration, patients with NPPE struggle to have adequate oxygen supply to the tissues of their body.\\n\\n\\n== Causes ==\\nThere are a variety of causes of NPPE, which can theoretically result from any upper airway obstruction. In adults, the most frequent cause is laryngospasm (involuntary contraction of the vocal cords) after extubation, making up approximately 50% of all adults cases of NPPE. The incidence of NPPE as a result of postextubation laryngospasm has been estimated to be between 0.1-3.0%. In the pediatric setting, the reported most common causes of NPPE are both infectious in nature: croup and epiglottitis. Other reported causes include endotracheal tube obstruction (e.g., from patient biting down on tube), tumors/masses compressing the upper airway, choking on foreign objects, strangulation. Interestingly, the use of sugammadex to reverse neuromuscular blockade (the mechanism of paralysis during surgery) has also been associated with increased incidence of NPPERisk factors associated with development of NPPE include male sex, younger age, increased cardiovascular fitness, and undergoing head or neck surgery.\\n\\n\\n== Signs and symptoms ==\\nSee signs and symptoms of pulmonary edema\\n\\n\\n== Diagnosis ==\\nDiagnosis of NPPE is essentially a diagnosis of exclusion. When a patient presents with acute pulmonary edema in the perioperative setting, cardiac causes should first be excluded. This can be done with electrocardiogram, echocardiogram, measurement of cardiac enzymes, etc. Other causes of pulmonary edema that require rapid intervention and should be considered first include fluid overload, brain injury, and anaphylaxis. If when considering these differentials, there is no evidence for administration of excessive fluids, no focal signs suggesting a brain injury, and so signs of allergic reaction, one can then consider NPPE. Clinical signs supportive of upper airway obstruction such as stridor and/or wheezing in the setting of pulmonary edema point to the diagnosis of NPPE.\\n\\n\\n== Treatment ==\\nNPPE is potentially fatal, and prompt recognition is important to prevent adverse outcome', metadata={'title': 'Negative-pressure pulmonary edema', 'summary': 'Negative-pressure pulmonary edema (NPPE), also known as Postobstructive Pulmonary Edema, is a clinical phenomenon that results from the generation of large negative pressures in the airways during attempted inspiration against some form of obstruction of the upper airways. The most common reported cause of NPPE reported in adults is laryngospasm, while the most implicated causes in children are infectious croup and epiglottitis. The large negative pressures created in the airways by inhalation against an upper airway obstruction can lead to fluid being drawn from blood vessels supplying the lungs into the alveoli, causing pulmonary edema and impaired ability for oxygen exchange (hypoxemia). The main treatment for NPPE is supportive care in an intensive care unit and can be fatal without intervention.', 'source': 'https://en.wikipedia.org/wiki/Negative-pressure_pulmonary_edema'}))]"
      ]
     },
     "execution_count": 8,
     "metadata": {},
     "output_type": "execute_result"
    }
   ],
   "source": [
    "graph_documents"
   ]
  },
  {
   "cell_type": "code",
   "execution_count": 8,
   "metadata": {},
   "outputs": [],
   "source": [
    "graph.add_graph_documents(graph_documents)"
   ]
  },
  {
   "cell_type": "code",
   "execution_count": 9,
   "metadata": {},
   "outputs": [],
   "source": [
    "graph.refresh_schema()"
   ]
  },
  {
   "cell_type": "code",
   "execution_count": 10,
   "metadata": {},
   "outputs": [
    {
     "name": "stdout",
     "output_type": "stream",
     "text": [
      "\n",
      "        Node properties are the following:\n",
      "        [{'labels': 'Organization', 'properties': [{'property': 'id', 'type': 'STRING'}, {'property': 'name', 'type': 'STRING'}, {'property': 'foundingDate', 'type': 'STRING'}]}, {'labels': 'Person', 'properties': [{'property': 'name', 'type': 'STRING'}, {'property': 'positionHeld', 'type': 'STRING'}, {'property': 'id', 'type': 'STRING'}, {'property': 'age', 'type': 'STRING'}, {'property': 'dateOfBirth', 'type': 'STRING'}, {'property': 'numberOfChildren', 'type': 'STRING'}, {'property': 'academicDegree', 'type': 'STRING'}, {'property': 'dateOfDeath', 'type': 'STRING'}]}, {'labels': 'Skill', 'properties': [{'property': 'id', 'type': 'STRING'}, {'property': 'name', 'type': 'STRING'}]}, {'labels': 'Location', 'properties': [{'property': 'id', 'type': 'STRING'}, {'property': 'name', 'type': 'STRING'}]}, {'labels': 'Disease', 'properties': [{'property': 'id', 'type': 'STRING'}, {'property': 'name', 'type': 'STRING'}]}, {'labels': 'Award', 'properties': [{'property': 'id', 'type': 'STRING'}, {'property': 'name', 'type': 'STRING'}]}]\n",
      "        Relationship properties are the following:\n",
      "        [{'properties': [{'property': 'evidence', 'type': 'STRING'}, {'property': 'isNotCurrent', 'type': 'STRING'}, {'property': 'startTime', 'type': 'STRING'}, {'property': 'isCurrent', 'type': 'STRING'}], 'type': 'FAMILY_MEMBER'}, {'properties': [{'property': 'evidence', 'type': 'STRING'}, {'property': 'isNotCurrent', 'type': 'STRING'}, {'property': 'startTime', 'type': 'STRING'}, {'property': 'isCurrent', 'type': 'STRING'}], 'type': 'SOCIAL_RELATIONSHIP'}, {'properties': [{'property': 'evidence', 'type': 'STRING'}], 'type': 'HAS_CHILD'}, {'properties': [{'property': 'evidence', 'type': 'STRING'}], 'type': 'FOUNDED_BY'}, {'properties': [{'property': 'endTime', 'type': 'STRING'}, {'property': 'evidence', 'type': 'STRING'}, {'property': 'isNotCurrent', 'type': 'STRING'}, {'property': 'startTime', 'type': 'STRING'}], 'type': 'EDUCATED_AT'}, {'properties': [{'property': 'evidence', 'type': 'STRING'}], 'type': 'WORK_RELATIONSHIP'}, {'properties': [{'property': 'evidence', 'type': 'STRING'}], 'type': 'INTERESTED_IN'}, {'properties': [{'property': 'evidence', 'type': 'STRING'}], 'type': 'FIELD_OF_WORK'}, {'properties': [{'property': 'positionHeld', 'type': 'STRING'}, {'property': 'evidence', 'type': 'STRING'}, {'property': 'isCurrent', 'type': 'STRING'}, {'property': 'isNotCurrent', 'type': 'STRING'}, {'property': 'startTime', 'type': 'STRING'}, {'property': 'endTime', 'type': 'STRING'}], 'type': 'EMPLOYEE_OR_MEMBER_OF'}, {'properties': [{'property': 'evidence', 'type': 'STRING'}], 'type': 'HAS_PARENT'}, {'properties': [{'property': 'evidence', 'type': 'STRING'}, {'property': 'isCurrent', 'type': 'STRING'}, {'property': 'startTime', 'type': 'STRING'}], 'type': 'ORGANIZATION_LOCATIONS'}, {'properties': [{'property': 'evidence', 'type': 'STRING'}, {'property': 'startTime', 'type': 'STRING'}, {'property': 'isCurrent', 'type': 'STRING'}, {'property': 'isNotCurrent', 'type': 'STRING'}], 'type': 'PERSON_LOCATION'}, {'properties': [{'property': 'evidence', 'type': 'STRING'}], 'type': 'PLACE_OF_BIRTH'}, {'properties': [{'property': 'evidence', 'type': 'STRING'}], 'type': 'ACQUIRED_BY'}, {'properties': [{'property': 'evidence', 'type': 'STRING'}], 'type': 'NATIONALITY'}, {'properties': [{'property': 'evidence', 'type': 'STRING'}, {'property': 'isCurrent', 'type': 'STRING'}], 'type': 'CHIEF_EXECUTIVE_OFFICER'}, {'properties': [{'property': 'evidence', 'type': 'STRING'}], 'type': 'INDUSTRY'}, {'properties': [{'property': 'evidence', 'type': 'STRING'}, {'property': 'isNotCurrent', 'type': 'STRING'}, {'property': 'startTime', 'type': 'STRING'}, {'property': 'isCurrent', 'type': 'STRING'}], 'type': 'ROMANTIC_RELATIONSHIP'}, {'properties': [{'property': 'evidence', 'type': 'STRING'}, {'property': 'isNotCurrent', 'type': 'STRING'}, {'property': 'startTime', 'type': 'STRING'}, {'property': 'isCurrent', 'type': 'STRING'}], 'type': 'SPOUSE'}, {'properties': [{'property': 'evidence', 'type': 'STRING'}], 'type': 'CAUSE_OF_DEATH'}, {'properties': [{'property': 'evidence', 'type': 'STRING'}], 'type': 'PLACE_OF_DEATH'}, {'properties': [{'property': 'evidence', 'type': 'STRING'}], 'type': 'SIBLING'}, {'properties': [{'property': 'evidence', 'type': 'STRING'}, {'property': 'isNotCurrent', 'type': 'STRING'}], 'type': 'BOARD_MEMBER'}, {'properties': [{'property': 'evidence', 'type': 'STRING'}], 'type': 'GEOGRAPHIC_HERITAGE'}, {'properties': [{'property': 'evidence', 'type': 'STRING'}], 'type': 'AWARDS'}]\n",
      "        The relationships are the following:\n",
      "        ['(:Organization)-[:INDUSTRY]->(:Skill)', '(:Organization)-[:ACQUIRED_BY]->(:Organization)', '(:Organization)-[:ORGANIZATION_LOCATIONS]->(:Location)', '(:Organization)-[:CHIEF_EXECUTIVE_OFFICER]->(:Person)', '(:Organization)-[:FOUNDED_BY]->(:Person)', '(:Organization)-[:BOARD_MEMBER]->(:Person)', '(:Person)-[:FAMILY_MEMBER]->(:Person)', '(:Person)-[:SOCIAL_RELATIONSHIP]->(:Person)', '(:Person)-[:HAS_CHILD]->(:Person)', '(:Person)-[:EDUCATED_AT]->(:Organization)', '(:Person)-[:WORK_RELATIONSHIP]->(:Person)', '(:Person)-[:INTERESTED_IN]->(:Skill)', '(:Person)-[:FIELD_OF_WORK]->(:Skill)', '(:Person)-[:EMPLOYEE_OR_MEMBER_OF]->(:Organization)', '(:Person)-[:HAS_PARENT]->(:Person)', '(:Person)-[:PERSON_LOCATION]->(:Location)', '(:Person)-[:PLACE_OF_BIRTH]->(:Location)', '(:Person)-[:NATIONALITY]->(:Location)', '(:Person)-[:ROMANTIC_RELATIONSHIP]->(:Person)', '(:Person)-[:SPOUSE]->(:Person)', '(:Person)-[:SIBLING]->(:Person)', '(:Person)-[:GEOGRAPHIC_HERITAGE]->(:Location)', '(:Person)-[:CAUSE_OF_DEATH]->(:Disease)', '(:Person)-[:PLACE_OF_DEATH]->(:Location)', '(:Person)-[:AWARDS]->(:Award)']\n",
      "        \n"
     ]
    }
   ],
   "source": [
    "print(graph.schema)"
   ]
  },
  {
   "cell_type": "code",
   "execution_count": 11,
   "metadata": {},
   "outputs": [],
   "source": [
    "chain = GraphCypherQAChain.from_llm(\n",
    "    cypher_llm=ChatOpenAI(temperature=0, model_name=\"gpt-3.5-turbo-16k\"),\n",
    "    qa_llm=ChatOpenAI(temperature=0, model_name=\"gpt-3.5-turbo-16k\"),\n",
    "    graph=graph,\n",
    "    verbose=True,\n",
    ")"
   ]
  },
  {
   "cell_type": "code",
   "execution_count": 12,
   "metadata": {},
   "outputs": [
    {
     "name": "stdout",
     "output_type": "stream",
     "text": [
      "\n",
      "\n",
      "\u001b[1m> Entering new GraphCypherQAChain chain...\u001b[0m\n",
      "Generated Cypher:\n",
      "\u001b[32;1m\u001b[1;3mMATCH (p:Person)-[:EDUCATED_AT]->(o:Organization)\n",
      "WHERE p.name = 'Warren Buffett'\n",
      "RETURN o.name\u001b[0m\n",
      "Full Context:\n",
      "\u001b[32;1m\u001b[1;3m[{'o.name': 'University of Nebraska-Lincoln'}, {'o.name': 'New York Institute of Finance'}, {'o.name': \"Penn's Fels Institute of Government\"}, {'o.name': 'Woodrow Wilson High School'}, {'o.name': 'Columbia Business School'}, {'o.name': 'Alice Deal Junior High School'}]\u001b[0m\n",
      "\n",
      "\u001b[1m> Finished chain.\u001b[0m\n"
     ]
    },
    {
     "data": {
      "text/plain": [
       "'Warren Buffett attended the University of Nebraska-Lincoln.'"
      ]
     },
     "execution_count": 12,
     "metadata": {},
     "output_type": "execute_result"
    }
   ],
   "source": [
    "# chain.run(\"Which university did Warren Buffett attend?\")"
   ]
  },
  {
   "cell_type": "code",
   "execution_count": 13,
   "metadata": {},
   "outputs": [],
   "source": [
    "# chain.run(\"What's Atelectasis?\")"
   ]
  },
  {
   "cell_type": "code",
   "execution_count": 14,
   "metadata": {},
   "outputs": [
    {
     "name": "stdout",
     "output_type": "stream",
     "text": [
      "\n",
      "        Node properties are the following:\n",
      "        [{'labels': 'Organization', 'properties': [{'property': 'id', 'type': 'STRING'}, {'property': 'name', 'type': 'STRING'}, {'property': 'foundingDate', 'type': 'STRING'}]}, {'labels': 'Person', 'properties': [{'property': 'name', 'type': 'STRING'}, {'property': 'positionHeld', 'type': 'STRING'}, {'property': 'id', 'type': 'STRING'}, {'property': 'age', 'type': 'STRING'}, {'property': 'dateOfBirth', 'type': 'STRING'}, {'property': 'numberOfChildren', 'type': 'STRING'}, {'property': 'academicDegree', 'type': 'STRING'}, {'property': 'dateOfDeath', 'type': 'STRING'}]}, {'labels': 'Skill', 'properties': [{'property': 'id', 'type': 'STRING'}, {'property': 'name', 'type': 'STRING'}]}, {'labels': 'Location', 'properties': [{'property': 'id', 'type': 'STRING'}, {'property': 'name', 'type': 'STRING'}]}, {'labels': 'Disease', 'properties': [{'property': 'id', 'type': 'STRING'}, {'property': 'name', 'type': 'STRING'}]}, {'labels': 'Award', 'properties': [{'property': 'id', 'type': 'STRING'}, {'property': 'name', 'type': 'STRING'}]}]\n",
      "        Relationship properties are the following:\n",
      "        [{'properties': [{'property': 'evidence', 'type': 'STRING'}, {'property': 'isNotCurrent', 'type': 'STRING'}, {'property': 'startTime', 'type': 'STRING'}, {'property': 'isCurrent', 'type': 'STRING'}], 'type': 'FAMILY_MEMBER'}, {'properties': [{'property': 'evidence', 'type': 'STRING'}, {'property': 'isNotCurrent', 'type': 'STRING'}, {'property': 'startTime', 'type': 'STRING'}, {'property': 'isCurrent', 'type': 'STRING'}], 'type': 'SOCIAL_RELATIONSHIP'}, {'properties': [{'property': 'evidence', 'type': 'STRING'}], 'type': 'HAS_CHILD'}, {'properties': [{'property': 'evidence', 'type': 'STRING'}], 'type': 'FOUNDED_BY'}, {'properties': [{'property': 'endTime', 'type': 'STRING'}, {'property': 'evidence', 'type': 'STRING'}, {'property': 'isNotCurrent', 'type': 'STRING'}, {'property': 'startTime', 'type': 'STRING'}], 'type': 'EDUCATED_AT'}, {'properties': [{'property': 'evidence', 'type': 'STRING'}], 'type': 'WORK_RELATIONSHIP'}, {'properties': [{'property': 'evidence', 'type': 'STRING'}], 'type': 'INTERESTED_IN'}, {'properties': [{'property': 'evidence', 'type': 'STRING'}], 'type': 'FIELD_OF_WORK'}, {'properties': [{'property': 'positionHeld', 'type': 'STRING'}, {'property': 'evidence', 'type': 'STRING'}, {'property': 'isCurrent', 'type': 'STRING'}, {'property': 'isNotCurrent', 'type': 'STRING'}, {'property': 'startTime', 'type': 'STRING'}, {'property': 'endTime', 'type': 'STRING'}], 'type': 'EMPLOYEE_OR_MEMBER_OF'}, {'properties': [{'property': 'evidence', 'type': 'STRING'}], 'type': 'HAS_PARENT'}, {'properties': [{'property': 'evidence', 'type': 'STRING'}, {'property': 'isCurrent', 'type': 'STRING'}, {'property': 'startTime', 'type': 'STRING'}], 'type': 'ORGANIZATION_LOCATIONS'}, {'properties': [{'property': 'evidence', 'type': 'STRING'}, {'property': 'startTime', 'type': 'STRING'}, {'property': 'isCurrent', 'type': 'STRING'}, {'property': 'isNotCurrent', 'type': 'STRING'}], 'type': 'PERSON_LOCATION'}, {'properties': [{'property': 'evidence', 'type': 'STRING'}], 'type': 'PLACE_OF_BIRTH'}, {'properties': [{'property': 'evidence', 'type': 'STRING'}], 'type': 'ACQUIRED_BY'}, {'properties': [{'property': 'evidence', 'type': 'STRING'}], 'type': 'NATIONALITY'}, {'properties': [{'property': 'evidence', 'type': 'STRING'}, {'property': 'isCurrent', 'type': 'STRING'}], 'type': 'CHIEF_EXECUTIVE_OFFICER'}, {'properties': [{'property': 'evidence', 'type': 'STRING'}], 'type': 'INDUSTRY'}, {'properties': [{'property': 'evidence', 'type': 'STRING'}, {'property': 'isNotCurrent', 'type': 'STRING'}, {'property': 'startTime', 'type': 'STRING'}, {'property': 'isCurrent', 'type': 'STRING'}], 'type': 'ROMANTIC_RELATIONSHIP'}, {'properties': [{'property': 'evidence', 'type': 'STRING'}, {'property': 'isNotCurrent', 'type': 'STRING'}, {'property': 'startTime', 'type': 'STRING'}, {'property': 'isCurrent', 'type': 'STRING'}], 'type': 'SPOUSE'}, {'properties': [{'property': 'evidence', 'type': 'STRING'}], 'type': 'CAUSE_OF_DEATH'}, {'properties': [{'property': 'evidence', 'type': 'STRING'}], 'type': 'PLACE_OF_DEATH'}, {'properties': [{'property': 'evidence', 'type': 'STRING'}], 'type': 'SIBLING'}, {'properties': [{'property': 'evidence', 'type': 'STRING'}, {'property': 'isNotCurrent', 'type': 'STRING'}], 'type': 'BOARD_MEMBER'}, {'properties': [{'property': 'evidence', 'type': 'STRING'}], 'type': 'GEOGRAPHIC_HERITAGE'}, {'properties': [{'property': 'evidence', 'type': 'STRING'}], 'type': 'AWARDS'}]\n",
      "        The relationships are the following:\n",
      "        ['(:Organization)-[:INDUSTRY]->(:Skill)', '(:Organization)-[:ACQUIRED_BY]->(:Organization)', '(:Organization)-[:ORGANIZATION_LOCATIONS]->(:Location)', '(:Organization)-[:CHIEF_EXECUTIVE_OFFICER]->(:Person)', '(:Organization)-[:FOUNDED_BY]->(:Person)', '(:Organization)-[:BOARD_MEMBER]->(:Person)', '(:Person)-[:FAMILY_MEMBER]->(:Person)', '(:Person)-[:SOCIAL_RELATIONSHIP]->(:Person)', '(:Person)-[:HAS_CHILD]->(:Person)', '(:Person)-[:EDUCATED_AT]->(:Organization)', '(:Person)-[:WORK_RELATIONSHIP]->(:Person)', '(:Person)-[:INTERESTED_IN]->(:Skill)', '(:Person)-[:FIELD_OF_WORK]->(:Skill)', '(:Person)-[:EMPLOYEE_OR_MEMBER_OF]->(:Organization)', '(:Person)-[:HAS_PARENT]->(:Person)', '(:Person)-[:PERSON_LOCATION]->(:Location)', '(:Person)-[:PLACE_OF_BIRTH]->(:Location)', '(:Person)-[:NATIONALITY]->(:Location)', '(:Person)-[:ROMANTIC_RELATIONSHIP]->(:Person)', '(:Person)-[:SPOUSE]->(:Person)', '(:Person)-[:SIBLING]->(:Person)', '(:Person)-[:GEOGRAPHIC_HERITAGE]->(:Location)', '(:Person)-[:CAUSE_OF_DEATH]->(:Disease)', '(:Person)-[:PLACE_OF_DEATH]->(:Location)', '(:Person)-[:AWARDS]->(:Award)']\n",
      "        \n"
     ]
    }
   ],
   "source": [
    "# print(graph.schema)"
   ]
  },
  {
   "cell_type": "code",
   "execution_count": null,
   "metadata": {},
   "outputs": [],
   "source": []
  },
  {
   "cell_type": "code",
   "execution_count": null,
   "metadata": {},
   "outputs": [],
   "source": []
  }
 ],
 "metadata": {
  "kernelspec": {
   "display_name": "pytorch",
   "language": "python",
   "name": "python3"
  },
  "language_info": {
   "codemirror_mode": {
    "name": "ipython",
    "version": 3
   },
   "file_extension": ".py",
   "mimetype": "text/x-python",
   "name": "python",
   "nbconvert_exporter": "python",
   "pygments_lexer": "ipython3",
   "version": "3.9.18"
  }
 },
 "nbformat": 4,
 "nbformat_minor": 2
}
