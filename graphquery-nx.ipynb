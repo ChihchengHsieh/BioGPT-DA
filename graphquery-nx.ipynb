{
 "cells": [
  {
   "cell_type": "code",
   "execution_count": 1,
   "metadata": {},
   "outputs": [],
   "source": [
    "import re\n",
    "import os\n",
    "from langchain.vectorstores.neo4j_vector import Neo4jVector\n",
    "from langchain.document_loaders import WikipediaLoader\n",
    "from langchain.embeddings.openai import OpenAIEmbeddings\n",
    "from langchain.text_splitter import CharacterTextSplitter, RecursiveCharacterTextSplitter\n",
    "from transformers import AutoModelForSeq2SeqLM, AutoTokenizer\n",
    "from langchain.text_splitter import TokenTextSplitter\n",
    "from secret import *\n",
    "import chromadb\n",
    "\n",
    "os.environ[\"OPENAI_API_KEY\"] = OPENAI_API_KEY"
   ]
  },
  {
   "cell_type": "code",
   "execution_count": 2,
   "metadata": {},
   "outputs": [],
   "source": [
    "tokenizer = AutoTokenizer.from_pretrained(\"bert-base-uncased\")\n",
    "\n",
    "def bert_len(text):\n",
    "    tokens = tokenizer.encode(text)\n",
    "    return len(tokens)\n",
    "\n",
    "raw_documents = WikipediaLoader(query=\"Atelectasis\").load()\n",
    "\n",
    "text_splitter = TokenTextSplitter(chunk_size=2048, chunk_overlap=24)\n",
    "# text_splitter = RecursiveCharacterTextSplitter(\n",
    "#           chunk_size = 200,\n",
    "#           chunk_overlap  = 20,\n",
    "#           length_function = bert_len,\n",
    "#           separators=['\\n\\n', '\\n', ' ', ''],\n",
    "#       )\n",
    "#print(raw_documents)\n",
    "# documents = text_splitter.create_documents([raw_documents[0].page_content])\n",
    "documents = text_splitter.split_documents(raw_documents)"
   ]
  },
  {
   "cell_type": "code",
   "execution_count": null,
   "metadata": {},
   "outputs": [],
   "source": [
    "import networkx as nx\n",
    "import matplotlib.pyplot as plt\n",
    "def plot_graph(kg):\n",
    "    ''' Plots graph based on knowledge graph '''\n",
    "    # Create graph\n",
    "    G = nx.DiGraph()\n",
    "    G.add_edges_from((source, target, {'relation': relation}) for source, relation, target in kg)\n",
    " \n",
    "    # Plot the graph\n",
    "    plt.figure(figsize=(10,6), dpi=300)\n",
    "    pos = nx.spring_layout(G, k=3, seed=0)\n",
    " \n",
    "    nx.draw_networkx_nodes(G, pos, node_size=1500)\n",
    "    nx.draw_networkx_edges(G, pos, edge_color='gray')\n",
    "    nx.draw_networkx_labels(G, pos, font_size=12)\n",
    "    edge_labels = nx.get_edge_attributes(G, 'relation')\n",
    "    nx.draw_networkx_edge_labels(G, pos, edge_labels=edge_labels, font_size=10)\n",
    " \n",
    "    # Display the plot\n",
    "    plt.axis('off')\n",
    "    st.show()"
   ]
  },
  {
   "cell_type": "code",
   "execution_count": 3,
   "metadata": {},
   "outputs": [],
   "source": [
    "from langchain.indexes import GraphIndexCreator\n",
    "from langchain.llms import OpenAI"
   ]
  },
  {
   "cell_type": "code",
   "execution_count": 4,
   "metadata": {},
   "outputs": [],
   "source": [
    "index_creator = GraphIndexCreator(llm=OpenAI(temperature=0))"
   ]
  },
  {
   "cell_type": "code",
   "execution_count": 5,
   "metadata": {},
   "outputs": [],
   "source": [
    "graph = index_creator.from_text(raw_documents[0].page_content)"
   ]
  },
  {
   "cell_type": "code",
   "execution_count": 43,
   "metadata": {},
   "outputs": [],
   "source": [
    "# from IPython.display import SVG\n",
    "# graph.draw_graphviz(filename=\"web.svg\")"
   ]
  },
  {
   "cell_type": "code",
   "execution_count": 6,
   "metadata": {},
   "outputs": [
    {
     "data": {
      "text/plain": [
       "[('Atelectasis', 'a lung', 'is the collapse or closure of'),\n",
       " ('Atelectasis', 'unilateral', 'is usually'),\n",
       " ('Atelectasis',\n",
       "  'the alveoli are deflated down to little or no volume',\n",
       "  'is a condition where'),\n",
       " ('Atelectasis', 'a collapsed lung', 'is often called'),\n",
       " ('Atelectasis', 'a pneumothorax', 'is not synonymous with'),\n",
       " ('Atelectasis',\n",
       "  'or as a result of surfactant deficiency',\n",
       "  'may occur as a post-operative complication'),\n",
       " ('Atelectasis', 'infant respiratory distress syndrome', 'leads to'),\n",
       " ('Atelectasis', 'normal exhalation', 'is caused by'),\n",
       " ('Atelectasis', 'various medical conditions', 'is caused by'),\n",
       " ('Atelectasis', 'post-op fever', 'is associated with'),\n",
       " ('Descartes', 'antique scooters', 'likes to drive'),\n",
       " ('Descartes', 'mandolin', 'plays'),\n",
       " ('Nevada', 'state', 'is a'),\n",
       " ('Nevada', 'US', 'is in'),\n",
       " ('Nevada', 'gold', 'is the number 1 producer of')]"
      ]
     },
     "execution_count": 6,
     "metadata": {},
     "output_type": "execute_result"
    }
   ],
   "source": [
    "graph.get_triples()"
   ]
  },
  {
   "cell_type": "code",
   "execution_count": 7,
   "metadata": {},
   "outputs": [
    {
     "ename": "AttributeError",
     "evalue": "'NetworkxEntityGraph' object has no attribute '_NetworkxEntityGraph__graph'",
     "output_type": "error",
     "traceback": [
      "\u001b[1;31m---------------------------------------------------------------------------\u001b[0m",
      "\u001b[1;31mAttributeError\u001b[0m                            Traceback (most recent call last)",
      "\u001b[1;32mc:\\Users\\mike8\\OneDrive\\文件\\GitHub\\BioGPT-DA\\graphquery-nx.ipynb Cell 9\u001b[0m line \u001b[0;36m1\n\u001b[1;32m----> <a href='vscode-notebook-cell:/c%3A/Users/mike8/OneDrive/%E6%96%87%E4%BB%B6/GitHub/BioGPT-DA/graphquery-nx.ipynb#X65sZmlsZQ%3D%3D?line=0'>1</a>\u001b[0m g \u001b[39m=\u001b[39m graph\u001b[39m.\u001b[39;49mget_graph()\n",
      "File \u001b[1;32mc:\\Users\\mike8\\anaconda3\\envs\\pytorch\\lib\\site-packages\\langchain\\graphs\\networkx_graph.py:135\u001b[0m, in \u001b[0;36mNetworkxEntityGraph.get_graph\u001b[1;34m(self)\u001b[0m\n\u001b[0;32m    134\u001b[0m \u001b[39mdef\u001b[39;00m \u001b[39mget_graph\u001b[39m(\u001b[39mself\u001b[39m,):\n\u001b[1;32m--> 135\u001b[0m     \u001b[39mreturn\u001b[39;00m \u001b[39mself\u001b[39;49m\u001b[39m.\u001b[39;49m__graph\n",
      "\u001b[1;31mAttributeError\u001b[0m: 'NetworkxEntityGraph' object has no attribute '_NetworkxEntityGraph__graph'"
     ]
    }
   ],
   "source": [
    "g = graph.get_graph()"
   ]
  },
  {
   "cell_type": "code",
   "execution_count": 9,
   "metadata": {},
   "outputs": [
    {
     "data": {
      "text/plain": [
       "NodeView(('Atelectasis', 'a lung', 'unilateral', 'the alveoli are deflated down to little or no volume', 'a collapsed lung', 'a pneumothorax', 'or as a result of surfactant deficiency', 'infant respiratory distress syndrome', 'Descartes', 'antique scooters', 'mandolin', 'Nevada', 'state', 'US', 'gold', 'normal exhalation', 'various medical conditions', 'post-op fever'))"
      ]
     },
     "execution_count": 9,
     "metadata": {},
     "output_type": "execute_result"
    }
   ],
   "source": [
    "graph._graph.nodes"
   ]
  },
  {
   "cell_type": "code",
   "execution_count": 12,
   "metadata": {},
   "outputs": [
    {
     "data": {
      "text/plain": [
       "OutEdgeView([('Atelectasis', 'a lung'), ('Atelectasis', 'unilateral'), ('Atelectasis', 'the alveoli are deflated down to little or no volume'), ('Atelectasis', 'a collapsed lung'), ('Atelectasis', 'a pneumothorax'), ('Atelectasis', 'or as a result of surfactant deficiency'), ('Atelectasis', 'infant respiratory distress syndrome'), ('Atelectasis', 'normal exhalation'), ('Atelectasis', 'various medical conditions'), ('Atelectasis', 'post-op fever'), ('Descartes', 'antique scooters'), ('Descartes', 'mandolin'), ('Nevada', 'state'), ('Nevada', 'US'), ('Nevada', 'gold')])"
      ]
     },
     "execution_count": 12,
     "metadata": {},
     "output_type": "execute_result"
    }
   ],
   "source": [
    "graph._graph.edges"
   ]
  },
  {
   "cell_type": "code",
   "execution_count": 14,
   "metadata": {},
   "outputs": [],
   "source": [
    "import networkx as nx"
   ]
  },
  {
   "cell_type": "code",
   "execution_count": 15,
   "metadata": {},
   "outputs": [],
   "source": [
    "rlation = nx.get_edge_attributes(graph._graph,'relation')"
   ]
  },
  {
   "cell_type": "code",
   "execution_count": 16,
   "metadata": {},
   "outputs": [
    {
     "data": {
      "text/plain": [
       "'is not synonymous with'"
      ]
     },
     "execution_count": 16,
     "metadata": {},
     "output_type": "execute_result"
    }
   ],
   "source": [
    "rlation[('Atelectasis', 'a pneumothorax')]"
   ]
  },
  {
   "cell_type": "code",
   "execution_count": null,
   "metadata": {},
   "outputs": [],
   "source": []
  },
  {
   "cell_type": "code",
   "execution_count": null,
   "metadata": {},
   "outputs": [],
   "source": []
  },
  {
   "cell_type": "code",
   "execution_count": null,
   "metadata": {},
   "outputs": [],
   "source": []
  },
  {
   "cell_type": "code",
   "execution_count": null,
   "metadata": {},
   "outputs": [],
   "source": []
  },
  {
   "cell_type": "code",
   "execution_count": 8,
   "metadata": {},
   "outputs": [],
   "source": [
    "graph_1 = index_creator.from_text(raw_documents[1].page_content)"
   ]
  },
  {
   "cell_type": "code",
   "execution_count": 10,
   "metadata": {},
   "outputs": [
    {
     "data": {
      "text/plain": [
       "[('Thorax', 'anatomy of humans', 'is a part of'),\n",
       " ('Thorax', 'anatomy of mammals', 'is a part of'),\n",
       " ('Thorax', 'anatomy of other tetrapod animals', 'is a part of'),\n",
       " ('Thorax', 'neck and abdomen', 'is located between'),\n",
       " ('Thorax', \"creature's body\", 'is one of the three main divisions of'),\n",
       " ('Thorax', 'thoracic cavity', 'includes'),\n",
       " ('Thorax', 'thoracic wall', 'includes'),\n",
       " ('Thorax', 'organs', 'contains'),\n",
       " ('Thorax', 'muscles', 'contains'),\n",
       " ('Thorax', 'internal structures', 'contains'),\n",
       " ('Thorax', 'diseases', 'is affected by'),\n",
       " ('Thorax', 'chest pain', 'is a symptom of'),\n",
       " ('Thorax', 'Greek θώραξ thorax', 'comes from'),\n",
       " ('Thorax', 'Latin thorax', 'comes from'),\n",
       " ('Thorax', 'body between neck and abdomen', 'is the chest region of'),\n",
       " ('Thorax', 'rib cage', 'is protected and supported by'),\n",
       " ('Thorax', 'spine', 'is protected and supported by')]"
      ]
     },
     "execution_count": 10,
     "metadata": {},
     "output_type": "execute_result"
    }
   ],
   "source": [
    "graph_1.get_triples()"
   ]
  },
  {
   "cell_type": "code",
   "execution_count": 11,
   "metadata": {},
   "outputs": [],
   "source": [
    "graph_2 = index_creator.from_text(raw_documents[2].page_content)"
   ]
  },
  {
   "cell_type": "code",
   "execution_count": 12,
   "metadata": {},
   "outputs": [
    {
     "data": {
      "text/plain": [
       "[('Silent sinus syndrome', 'spontaneous collapse of an air sinus', 'is a'),\n",
       " ('Silent sinus syndrome', 'negative sinus pressures', 'is associated with'),\n",
       " ('Silent sinus syndrome', 'facial asymmetry', 'can cause'),\n",
       " ('Silent sinus syndrome', 'diplopia', 'can cause'),\n",
       " ('Silent sinus syndrome', 'enophthalmos', 'can cause'),\n",
       " ('Silent sinus syndrome', 'using a CT scan', 'is diagnosed'),\n",
       " ('Silent sinus syndrome', 'with surgery', 'is treated'),\n",
       " ('Silent sinus syndrome', 'middle age', 'is slightly more common in'),\n",
       " ('Silent sinus syndrome', 'headaches', 'can cause'),\n",
       " ('Silent sinus syndrome', 'a feeling of fullness in the nose', 'can cause'),\n",
       " ('Silent sinus syndrome', 'bacteria in the maxillary sinus', 'is caused by'),\n",
       " ('Silent sinus syndrome', 'a blocked connection to the nose', 'is caused by'),\n",
       " ('Silent sinus syndrome',\n",
       "  'stage three chronic maxillary atelectasis',\n",
       "  'is a subtype of'),\n",
       " ('Silent sinus syndrome',\n",
       "  'maxillary sinus hypoplasi',\n",
       "  'must be distinguished from')]"
      ]
     },
     "execution_count": 12,
     "metadata": {},
     "output_type": "execute_result"
    }
   ],
   "source": [
    "graph_2.get_triples()"
   ]
  },
  {
   "cell_type": "code",
   "execution_count": null,
   "metadata": {},
   "outputs": [],
   "source": []
  },
  {
   "cell_type": "code",
   "execution_count": null,
   "metadata": {},
   "outputs": [],
   "source": []
  },
  {
   "cell_type": "code",
   "execution_count": 45,
   "metadata": {},
   "outputs": [],
   "source": [
    "from langchain.chains import GraphQAChain"
   ]
  },
  {
   "cell_type": "code",
   "execution_count": 46,
   "metadata": {},
   "outputs": [],
   "source": [
    "chain = GraphQAChain.from_llm(OpenAI(temperature=0), graph=graph, verbose=True)"
   ]
  },
  {
   "cell_type": "code",
   "execution_count": 47,
   "metadata": {},
   "outputs": [
    {
     "name": "stdout",
     "output_type": "stream",
     "text": [
      "\n",
      "\n",
      "\u001b[1m> Entering new GraphQAChain chain...\u001b[0m\n",
      "Entities Extracted:\n",
      "\u001b[32;1m\u001b[1;3m Atelectasis\u001b[0m\n",
      "Full Context:\n",
      "\u001b[32;1m\u001b[1;3mAtelectasis is the collapse or closure of a lung\n",
      "Atelectasis is usually unilateral\n",
      "Atelectasis is a condition where the alveoli are deflated down to little or no volume\n",
      "Atelectasis is often called a collapsed lung\n",
      "Atelectasis is not synonymous with a pneumothorax\n",
      "Atelectasis may occur as a post-operative complication or as a result of surfactant deficiency\n",
      "Atelectasis leads to infant respiratory distress syndrome\n",
      "Atelectasis is caused by normal exhalation\n",
      "Atelectasis is caused by various medical conditions\n",
      "Atelectasis is associated with post-op fever\u001b[0m\n",
      "\n",
      "\u001b[1m> Finished chain.\u001b[0m\n"
     ]
    },
    {
     "data": {
      "text/plain": [
       "' Symptoms of Atelectasis include shortness of breath, chest pain, coughing, and difficulty breathing.'"
      ]
     },
     "execution_count": 47,
     "metadata": {},
     "output_type": "execute_result"
    }
   ],
   "source": [
    "chain.run(\"What are the symptoms of Atelectasis?\")"
   ]
  },
  {
   "cell_type": "code",
   "execution_count": null,
   "metadata": {},
   "outputs": [],
   "source": []
  },
  {
   "cell_type": "code",
   "execution_count": null,
   "metadata": {},
   "outputs": [],
   "source": []
  },
  {
   "cell_type": "code",
   "execution_count": null,
   "metadata": {},
   "outputs": [],
   "source": []
  },
  {
   "cell_type": "code",
   "execution_count": null,
   "metadata": {},
   "outputs": [],
   "source": []
  },
  {
   "cell_type": "code",
   "execution_count": null,
   "metadata": {},
   "outputs": [],
   "source": []
  },
  {
   "cell_type": "code",
   "execution_count": null,
   "metadata": {},
   "outputs": [],
   "source": []
  },
  {
   "cell_type": "code",
   "execution_count": null,
   "metadata": {},
   "outputs": [],
   "source": []
  },
  {
   "cell_type": "code",
   "execution_count": 37,
   "metadata": {},
   "outputs": [],
   "source": [
    "documents = text_splitter.create_documents([raw_documents[0].page_content])"
   ]
  },
  {
   "cell_type": "code",
   "execution_count": 25,
   "metadata": {},
   "outputs": [],
   "source": [
    "from langchain.indexes import GraphIndexCreator\n",
    "from langchain.llms import OpenAI"
   ]
  },
  {
   "cell_type": "code",
   "execution_count": 38,
   "metadata": {},
   "outputs": [],
   "source": [
    "index_creator = GraphIndexCreator(llm=OpenAI(temperature=0))"
   ]
  },
  {
   "cell_type": "code",
   "execution_count": 39,
   "metadata": {},
   "outputs": [],
   "source": [
    "graph = index_creator.from_text(documents[0].page_content)"
   ]
  },
  {
   "cell_type": "code",
   "execution_count": 28,
   "metadata": {},
   "outputs": [
    {
     "data": {
      "text/plain": [
       "<langchain.graphs.networkx_graph.NetworkxEntityGraph at 0x12611205520>"
      ]
     },
     "execution_count": 28,
     "metadata": {},
     "output_type": "execute_result"
    }
   ],
   "source": [
    "graph"
   ]
  },
  {
   "cell_type": "code",
   "execution_count": 43,
   "metadata": {},
   "outputs": [
    {
     "data": {
      "text/plain": [
       "[('Atelectasis', 'a lung', 'is the collapse or closure of'),\n",
       " ('Atelectasis', 'reduced or absent gas exchange', 'results in'),\n",
       " ('Atelectasis', 'unilateral', 'is usually'),\n",
       " ('Atelectasis', 'part or all of one lung', 'affects'),\n",
       " ('Atelectasis', 'the alveoli are deflated down', 'is a condition where')]"
      ]
     },
     "execution_count": 43,
     "metadata": {},
     "output_type": "execute_result"
    }
   ],
   "source": [
    "graph.draw_graphviz()"
   ]
  },
  {
   "cell_type": "code",
   "execution_count": 13,
   "metadata": {},
   "outputs": [],
   "source": [
    "from langchain.indexes import GraphIndexCreator\n",
    "from langchain.llms import OpenAI"
   ]
  },
  {
   "cell_type": "code",
   "execution_count": 33,
   "metadata": {},
   "outputs": [],
   "source": [
    "from langchain. graphs.neo4j_graph import Neo4jGraph"
   ]
  },
  {
   "cell_type": "code",
   "execution_count": 44,
   "metadata": {},
   "outputs": [
    {
     "ename": "ImportError",
     "evalue": "Could not import pygraphviz python package. Please install it with:`pip install pygraphviz`.",
     "output_type": "error",
     "traceback": [
      "\u001b[1;31m---------------------------------------------------------------------------\u001b[0m",
      "\u001b[1;31mModuleNotFoundError\u001b[0m                       Traceback (most recent call last)",
      "File \u001b[1;32mc:\\Users\\mike8\\anaconda3\\envs\\pytorch\\lib\\site-packages\\langchain\\graphs\\networkx_graph.py:157\u001b[0m, in \u001b[0;36mNetworkxEntityGraph.draw_graphviz\u001b[1;34m(self, **kwargs)\u001b[0m\n\u001b[0;32m    156\u001b[0m \u001b[39mtry\u001b[39;00m:\n\u001b[1;32m--> 157\u001b[0m     \u001b[39mimport\u001b[39;00m \u001b[39mpygraphviz\u001b[39;00m  \u001b[39m# noqa: F401\u001b[39;00m\n\u001b[0;32m    159\u001b[0m \u001b[39mexcept\u001b[39;00m \u001b[39mImportError\u001b[39;00m \u001b[39mas\u001b[39;00m e:\n",
      "\u001b[1;31mModuleNotFoundError\u001b[0m: No module named 'pygraphviz'",
      "\nDuring handling of the above exception, another exception occurred:\n",
      "\u001b[1;31mImportError\u001b[0m                               Traceback (most recent call last)",
      "\u001b[1;32mc:\\Users\\mike8\\OneDrive\\文件\\GitHub\\BioGPT-DA\\test.ipynb Cell 11\u001b[0m line \u001b[0;36m2\n\u001b[0;32m      <a href='vscode-notebook-cell:/c%3A/Users/mike8/OneDrive/%E6%96%87%E4%BB%B6/GitHub/BioGPT-DA/test.ipynb#X36sZmlsZQ%3D%3D?line=0'>1</a>\u001b[0m \u001b[39mfrom\u001b[39;00m \u001b[39mIPython\u001b[39;00m\u001b[39m.\u001b[39;00m\u001b[39mdisplay\u001b[39;00m \u001b[39mimport\u001b[39;00m SVG\n\u001b[1;32m----> <a href='vscode-notebook-cell:/c%3A/Users/mike8/OneDrive/%E6%96%87%E4%BB%B6/GitHub/BioGPT-DA/test.ipynb#X36sZmlsZQ%3D%3D?line=1'>2</a>\u001b[0m graph\u001b[39m.\u001b[39;49mdraw_graphviz(layout\u001b[39m=\u001b[39;49m\u001b[39m\"\u001b[39;49m\u001b[39mdot\u001b[39;49m\u001b[39m\"\u001b[39;49m, filename\u001b[39m=\u001b[39;49m\u001b[39m\"\u001b[39;49m\u001b[39mweb.svg\u001b[39;49m\u001b[39m\"\u001b[39;49m)\n\u001b[0;32m      <a href='vscode-notebook-cell:/c%3A/Users/mike8/OneDrive/%E6%96%87%E4%BB%B6/GitHub/BioGPT-DA/test.ipynb#X36sZmlsZQ%3D%3D?line=2'>3</a>\u001b[0m SVG(\u001b[39m'\u001b[39m\u001b[39mweb.svg\u001b[39m\u001b[39m'\u001b[39m)\n",
      "File \u001b[1;32mc:\\Users\\mike8\\anaconda3\\envs\\pytorch\\lib\\site-packages\\langchain\\graphs\\networkx_graph.py:172\u001b[0m, in \u001b[0;36mNetworkxEntityGraph.draw_graphviz\u001b[1;34m(self, **kwargs)\u001b[0m\n\u001b[0;32m    165\u001b[0m         \u001b[39mraise\u001b[39;00m \u001b[39mImportError\u001b[39;00m(\n\u001b[0;32m    166\u001b[0m             \u001b[39m\"\u001b[39m\u001b[39mCould not import graphviz debian package. \u001b[39m\u001b[39m\"\u001b[39m\n\u001b[0;32m    167\u001b[0m             \u001b[39m\"\u001b[39m\u001b[39mPlease install it with:\u001b[39m\u001b[39m\"\u001b[39m\n\u001b[0;32m    168\u001b[0m             \u001b[39m\"\u001b[39m\u001b[39m`sudo apt-get update`\u001b[39m\u001b[39m\"\u001b[39m\n\u001b[0;32m    169\u001b[0m             \u001b[39m\"\u001b[39m\u001b[39m`sudo apt-get install graphviz graphviz-dev`\u001b[39m\u001b[39m\"\u001b[39m\n\u001b[0;32m    170\u001b[0m         )\n\u001b[0;32m    171\u001b[0m     \u001b[39melse\u001b[39;00m:\n\u001b[1;32m--> 172\u001b[0m         \u001b[39mraise\u001b[39;00m \u001b[39mImportError\u001b[39;00m(\n\u001b[0;32m    173\u001b[0m             \u001b[39m\"\u001b[39m\u001b[39mCould not import pygraphviz python package. \u001b[39m\u001b[39m\"\u001b[39m\n\u001b[0;32m    174\u001b[0m             \u001b[39m\"\u001b[39m\u001b[39mPlease install it with:\u001b[39m\u001b[39m\"\u001b[39m\n\u001b[0;32m    175\u001b[0m             \u001b[39m\"\u001b[39m\u001b[39m`pip install pygraphviz`.\u001b[39m\u001b[39m\"\u001b[39m\n\u001b[0;32m    176\u001b[0m         )\n\u001b[0;32m    178\u001b[0m graph \u001b[39m=\u001b[39m to_agraph(\u001b[39mself\u001b[39m\u001b[39m.\u001b[39m_graph)  \u001b[39m# --> pygraphviz.agraph.AGraph\u001b[39;00m\n\u001b[0;32m    179\u001b[0m \u001b[39m# pygraphviz.github.io/documentation/stable/tutorial.html#layout-and-drawing\u001b[39;00m\n",
      "\u001b[1;31mImportError\u001b[0m: Could not import pygraphviz python package. Please install it with:`pip install pygraphviz`."
     ]
    }
   ],
   "source": [
    "from IPython.display import SVG\n",
    "graph.draw_graphviz(layout=\"dot\", filename=\"web.svg\")\n",
    "SVG('web.svg')"
   ]
  },
  {
   "cell_type": "code",
   "execution_count": null,
   "metadata": {},
   "outputs": [],
   "source": []
  },
  {
   "cell_type": "code",
   "execution_count": 14,
   "metadata": {},
   "outputs": [],
   "source": [
    "index_creator = GraphIndexCreator(llm=OpenAI(temperature=0))"
   ]
  },
  {
   "cell_type": "code",
   "execution_count": 15,
   "metadata": {},
   "outputs": [],
   "source": [
    "neo4j_vector = Neo4jVector.from_documents(\n",
    "    documents,\n",
    "    # hf,\n",
    "    OpenAIEmbeddings(),\n",
    "    url=NOE4J_URL,\n",
    "    username=\"neo4j\",\n",
    "    password=NOE4J_PASSWORD,\n",
    ")"
   ]
  },
  {
   "cell_type": "code",
   "execution_count": 16,
   "metadata": {},
   "outputs": [
    {
     "name": "stdout",
     "output_type": "stream",
     "text": [
      "Atelectasis is the collapse or closure of a lung resulting in reduced or absent gas exchange.  It is usually unilateral, affecting part or all of one lung. It is a condition where the alveoli are deflated down\n",
      "\n",
      "Atelectasis is the collapse or closure of a lung resulting in reduced or absent gas exchange.  It is usually unilateral, affecting part or all of one lung. It is a condition where the alveoli are deflated down\n"
     ]
    }
   ],
   "source": [
    "query = \"What is atelectasis?\"\n",
    "vector_results = neo4j_vector.similarity_search(query, k=2)\n",
    "for i, res in enumerate(vector_results):\n",
    "    print(res.page_content)\n",
    "    if i != len(vector_results)-1:\n",
    "        print()\n",
    "vector_result = vector_results[0].page_content"
   ]
  },
  {
   "cell_type": "code",
   "execution_count": 17,
   "metadata": {},
   "outputs": [],
   "source": [
    "from langchain.chat_models import ChatOpenAI\n",
    "from langchain.chains import GraphCypherQAChain\n",
    "from langchain.graphs import Neo4jGraph"
   ]
  },
  {
   "cell_type": "code",
   "execution_count": 18,
   "metadata": {},
   "outputs": [
    {
     "name": "stdout",
     "output_type": "stream",
     "text": [
      "\n",
      "        Node properties are the following:\n",
      "        [{'labels': 'Chunk', 'properties': [{'property': 'id', 'type': 'STRING'}, {'property': 'text', 'type': 'STRING'}, {'property': 'embedding', 'type': 'LIST'}]}]\n",
      "        Relationship properties are the following:\n",
      "        []\n",
      "        The relationships are the following:\n",
      "        []\n",
      "        \n"
     ]
    }
   ],
   "source": [
    "graph = Neo4jGraph(\n",
    "        url = NOE4J_URL,\n",
    "    username = 'neo4j',\n",
    "    password = NOE4J_PASSWORD\n",
    ")\n",
    "\n",
    "print(graph.schema)"
   ]
  },
  {
   "cell_type": "code",
   "execution_count": 19,
   "metadata": {},
   "outputs": [
    {
     "name": "stdout",
     "output_type": "stream",
     "text": [
      "\n",
      "\n",
      "\u001b[1m> Entering new GraphCypherQAChain chain...\u001b[0m\n",
      "Generated Cypher:\n",
      "\u001b[32;1m\u001b[1;3mMATCH (c:Chunk)-[:HAS_SYMPTOM]->(s:Symptom)\n",
      "WHERE c.text = 'Atelectasis'\n",
      "RETURN s.property\u001b[0m\n",
      "Full Context:\n",
      "\u001b[32;1m\u001b[1;3m[]\u001b[0m\n",
      "\n",
      "\u001b[1m> Finished chain.\u001b[0m\n"
     ]
    },
    {
     "data": {
      "text/plain": [
       "\"I'm sorry, but I don't have the information to answer your question. Atelectasis is a medical condition characterized by the collapse or closure of a lung or a part of it, resulting in reduced or absent gas exchange. The symptoms of atelectasis can vary depending on the severity and location of the collapse. Common symptoms may include shortness of breath, rapid breathing, chest pain, coughing, and low oxygen levels. However, it is always best to consult a healthcare professional for an accurate diagnosis and appropriate treatment.\""
      ]
     },
     "execution_count": 19,
     "metadata": {},
     "output_type": "execute_result"
    }
   ],
   "source": [
    "chain = GraphCypherQAChain.from_llm(\n",
    "    ChatOpenAI(temperature=0), graph=graph, verbose=True\n",
    ")\n",
    "\n",
    "graph_result = chain.run(\"What are the symptoms of Atelectasis\")\n",
    "graph_result"
   ]
  },
  {
   "cell_type": "code",
   "execution_count": null,
   "metadata": {},
   "outputs": [],
   "source": []
  }
 ],
 "metadata": {
  "kernelspec": {
   "display_name": "pytorch",
   "language": "python",
   "name": "python3"
  },
  "language_info": {
   "codemirror_mode": {
    "name": "ipython",
    "version": 3
   },
   "file_extension": ".py",
   "mimetype": "text/x-python",
   "name": "python",
   "nbconvert_exporter": "python",
   "pygments_lexer": "ipython3",
   "version": "3.9.18"
  }
 },
 "nbformat": 4,
 "nbformat_minor": 2
}
