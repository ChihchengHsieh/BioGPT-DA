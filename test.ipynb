{
 "cells": [
  {
   "cell_type": "code",
   "execution_count": 1,
   "metadata": {},
   "outputs": [],
   "source": [
    "from langchain.chat_models import ChatOpenAI\n",
    "from langchain.chains import GraphCypherQAChain\n",
    "from langchain.graphs import Neo4jGraph\n",
    "from secret import *\n",
    "import os\n",
    "os.environ[\"OPENAI_API_KEY\"] = OPENAI_API_KEY"
   ]
  },
  {
   "cell_type": "code",
   "execution_count": 2,
   "metadata": {},
   "outputs": [],
   "source": [
    "graph = Neo4jGraph(url=\"bolt://localhost:7687\", username=\"neo4j\", password=\"snomed1234\")"
   ]
  },
  {
   "cell_type": "code",
   "execution_count": 3,
   "metadata": {},
   "outputs": [
    {
     "name": "stdout",
     "output_type": "stream",
     "text": [
      "\n",
      "        Node properties are the following:\n",
      "        [{'labels': 'Disease', 'properties': [{'property': 'name', 'type': 'STRING'}]}, {'labels': 'Symptom', 'properties': [{'property': 'name', 'type': 'STRING'}]}, {'labels': 'ObjectConcept', 'properties': [{'property': 'nodetype', 'type': 'STRING'}, {'property': 'history', 'type': 'STRING'}, {'property': 'moduleId', 'type': 'STRING'}, {'property': 'definitionStatusId', 'type': 'STRING'}, {'property': 'effectiveTime', 'type': 'STRING'}, {'property': 'id', 'type': 'STRING'}, {'property': 'sctid', 'type': 'STRING'}, {'property': 'FSN', 'type': 'STRING'}, {'property': 'active', 'type': 'STRING'}]}, {'labels': 'Description', 'properties': [{'property': 'typeId', 'type': 'STRING'}, {'property': 'term', 'type': 'STRING'}, {'property': 'id128bit', 'type': 'STRING'}, {'property': 'descriptionType', 'type': 'STRING'}, {'property': 'refsetId', 'type': 'STRING'}, {'property': 'acceptabilityId', 'type': 'STRING'}, {'property': 'caseSignificanceId', 'type': 'STRING'}, {'property': 'moduleId', 'type': 'STRING'}, {'property': 'nodetype', 'type': 'STRING'}, {'property': 'effectiveTime', 'type': 'STRING'}, {'property': 'history', 'type': 'STRING'}, {'property': 'languageCode', 'type': 'STRING'}, {'property': 'id', 'type': 'STRING'}, {'property': 'sctid', 'type': 'STRING'}, {'property': 'active', 'type': 'STRING'}]}, {'labels': 'RoleGroup', 'properties': [{'property': 'sctid', 'type': 'STRING'}, {'property': 'rolegroup', 'type': 'STRING'}, {'property': 'nodetype', 'type': 'STRING'}]}]\n",
      "        Relationship properties are the following:\n",
      "        [{'properties': [{'property': 'typeId', 'type': 'STRING'}, {'property': 'characteristicTypeId', 'type': 'STRING'}, {'property': 'effectiveTime', 'type': 'STRING'}, {'property': 'moduleId', 'type': 'STRING'}, {'property': 'id', 'type': 'STRING'}, {'property': 'active', 'type': 'STRING'}, {'property': 'history', 'type': 'STRING'}, {'property': 'destinationId', 'type': 'STRING'}, {'property': 'relationshipGroup', 'type': 'STRING'}, {'property': 'sourceId', 'type': 'STRING'}], 'type': 'ISA'}, {'properties': [{'property': 'characteristicTypeId', 'type': 'STRING'}, {'property': 'moduleId', 'type': 'STRING'}, {'property': 'typeId', 'type': 'STRING'}, {'property': 'effectiveTime', 'type': 'STRING'}, {'property': 'history', 'type': 'STRING'}, {'property': 'id', 'type': 'STRING'}, {'property': 'sctid', 'type': 'STRING'}, {'property': 'rolegroup', 'type': 'STRING'}, {'property': 'modifierId', 'type': 'STRING'}, {'property': 'active', 'type': 'STRING'}], 'type': 'FINDING_SITE'}, {'properties': [{'property': 'characteristicTypeId', 'type': 'STRING'}, {'property': 'moduleId', 'type': 'STRING'}, {'property': 'typeId', 'type': 'STRING'}, {'property': 'effectiveTime', 'type': 'STRING'}, {'property': 'history', 'type': 'STRING'}, {'property': 'id', 'type': 'STRING'}, {'property': 'sctid', 'type': 'STRING'}, {'property': 'rolegroup', 'type': 'STRING'}, {'property': 'modifierId', 'type': 'STRING'}, {'property': 'active', 'type': 'STRING'}], 'type': 'PART_OF'}, {'properties': [{'property': 'characteristicTypeId', 'type': 'STRING'}, {'property': 'moduleId', 'type': 'STRING'}, {'property': 'typeId', 'type': 'STRING'}, {'property': 'effectiveTime', 'type': 'STRING'}, {'property': 'history', 'type': 'STRING'}, {'property': 'id', 'type': 'STRING'}, {'property': 'sctid', 'type': 'STRING'}, {'property': 'rolegroup', 'type': 'STRING'}, {'property': 'modifierId', 'type': 'STRING'}, {'property': 'active', 'type': 'STRING'}], 'type': 'PATHOLOGICAL_PROCESS_QUALIFIER_VALUE'}, {'properties': [{'property': 'characteristicTypeId', 'type': 'STRING'}, {'property': 'moduleId', 'type': 'STRING'}, {'property': 'typeId', 'type': 'STRING'}, {'property': 'effectiveTime', 'type': 'STRING'}, {'property': 'history', 'type': 'STRING'}, {'property': 'id', 'type': 'STRING'}, {'property': 'sctid', 'type': 'STRING'}, {'property': 'rolegroup', 'type': 'STRING'}, {'property': 'modifierId', 'type': 'STRING'}, {'property': 'active', 'type': 'STRING'}], 'type': 'CAUSATIVE_AGENT'}, {'properties': [{'property': 'characteristicTypeId', 'type': 'STRING'}, {'property': 'moduleId', 'type': 'STRING'}, {'property': 'typeId', 'type': 'STRING'}, {'property': 'effectiveTime', 'type': 'STRING'}, {'property': 'history', 'type': 'STRING'}, {'property': 'id', 'type': 'STRING'}, {'property': 'sctid', 'type': 'STRING'}, {'property': 'rolegroup', 'type': 'STRING'}, {'property': 'modifierId', 'type': 'STRING'}, {'property': 'active', 'type': 'STRING'}], 'type': 'EXTENT'}, {'properties': [{'property': 'characteristicTypeId', 'type': 'STRING'}, {'property': 'moduleId', 'type': 'STRING'}, {'property': 'typeId', 'type': 'STRING'}, {'property': 'effectiveTime', 'type': 'STRING'}, {'property': 'history', 'type': 'STRING'}, {'property': 'id', 'type': 'STRING'}, {'property': 'sctid', 'type': 'STRING'}, {'property': 'rolegroup', 'type': 'STRING'}, {'property': 'modifierId', 'type': 'STRING'}, {'property': 'active', 'type': 'STRING'}], 'type': 'ASSOCIATED_MORPHOLOGY'}, {'properties': [{'property': 'characteristicTypeId', 'type': 'STRING'}, {'property': 'moduleId', 'type': 'STRING'}, {'property': 'typeId', 'type': 'STRING'}, {'property': 'effectiveTime', 'type': 'STRING'}, {'property': 'history', 'type': 'STRING'}, {'property': 'id', 'type': 'STRING'}, {'property': 'sctid', 'type': 'STRING'}, {'property': 'rolegroup', 'type': 'STRING'}, {'property': 'modifierId', 'type': 'STRING'}, {'property': 'active', 'type': 'STRING'}], 'type': 'METHOD'}, {'properties': [{'property': 'characteristicTypeId', 'type': 'STRING'}, {'property': 'moduleId', 'type': 'STRING'}, {'property': 'typeId', 'type': 'STRING'}, {'property': 'effectiveTime', 'type': 'STRING'}, {'property': 'history', 'type': 'STRING'}, {'property': 'id', 'type': 'STRING'}, {'property': 'sctid', 'type': 'STRING'}, {'property': 'rolegroup', 'type': 'STRING'}, {'property': 'modifierId', 'type': 'STRING'}, {'property': 'active', 'type': 'STRING'}], 'type': 'PROCEDURE_SITE'}, {'properties': [{'property': 'characteristicTypeId', 'type': 'STRING'}, {'property': 'moduleId', 'type': 'STRING'}, {'property': 'typeId', 'type': 'STRING'}, {'property': 'effectiveTime', 'type': 'STRING'}, {'property': 'history', 'type': 'STRING'}, {'property': 'id', 'type': 'STRING'}, {'property': 'sctid', 'type': 'STRING'}, {'property': 'rolegroup', 'type': 'STRING'}, {'property': 'modifierId', 'type': 'STRING'}, {'property': 'active', 'type': 'STRING'}], 'type': 'USING'}, {'properties': [{'property': 'characteristicTypeId', 'type': 'STRING'}, {'property': 'moduleId', 'type': 'STRING'}, {'property': 'typeId', 'type': 'STRING'}, {'property': 'effectiveTime', 'type': 'STRING'}, {'property': 'history', 'type': 'STRING'}, {'property': 'id', 'type': 'STRING'}, {'property': 'sctid', 'type': 'STRING'}, {'property': 'rolegroup', 'type': 'STRING'}, {'property': 'modifierId', 'type': 'STRING'}, {'property': 'active', 'type': 'STRING'}], 'type': 'DIRECT_MORPHOLOGY'}, {'properties': [{'property': 'characteristicTypeId', 'type': 'STRING'}, {'property': 'moduleId', 'type': 'STRING'}, {'property': 'typeId', 'type': 'STRING'}, {'property': 'effectiveTime', 'type': 'STRING'}, {'property': 'history', 'type': 'STRING'}, {'property': 'id', 'type': 'STRING'}, {'property': 'sctid', 'type': 'STRING'}, {'property': 'rolegroup', 'type': 'STRING'}, {'property': 'modifierId', 'type': 'STRING'}, {'property': 'active', 'type': 'STRING'}], 'type': 'OCCURRENCE'}, {'properties': [{'property': 'characteristicTypeId', 'type': 'STRING'}, {'property': 'moduleId', 'type': 'STRING'}, {'property': 'typeId', 'type': 'STRING'}, {'property': 'effectiveTime', 'type': 'STRING'}, {'property': 'history', 'type': 'STRING'}, {'property': 'id', 'type': 'STRING'}, {'property': 'sctid', 'type': 'STRING'}, {'property': 'rolegroup', 'type': 'STRING'}, {'property': 'modifierId', 'type': 'STRING'}, {'property': 'active', 'type': 'STRING'}], 'type': 'INTERPRETS'}, {'properties': [{'property': 'characteristicTypeId', 'type': 'STRING'}, {'property': 'moduleId', 'type': 'STRING'}, {'property': 'typeId', 'type': 'STRING'}, {'property': 'effectiveTime', 'type': 'STRING'}, {'property': 'history', 'type': 'STRING'}, {'property': 'id', 'type': 'STRING'}, {'property': 'sctid', 'type': 'STRING'}, {'property': 'rolegroup', 'type': 'STRING'}, {'property': 'modifierId', 'type': 'STRING'}, {'property': 'active', 'type': 'STRING'}], 'type': 'HAS_INTENT'}, {'properties': [{'property': 'characteristicTypeId', 'type': 'STRING'}, {'property': 'moduleId', 'type': 'STRING'}, {'property': 'typeId', 'type': 'STRING'}, {'property': 'effectiveTime', 'type': 'STRING'}, {'property': 'history', 'type': 'STRING'}, {'property': 'id', 'type': 'STRING'}, {'property': 'sctid', 'type': 'STRING'}, {'property': 'rolegroup', 'type': 'STRING'}, {'property': 'modifierId', 'type': 'STRING'}, {'property': 'active', 'type': 'STRING'}], 'type': 'COURSE'}, {'properties': [{'property': 'characteristicTypeId', 'type': 'STRING'}, {'property': 'moduleId', 'type': 'STRING'}, {'property': 'typeId', 'type': 'STRING'}, {'property': 'effectiveTime', 'type': 'STRING'}, {'property': 'history', 'type': 'STRING'}, {'property': 'id', 'type': 'STRING'}, {'property': 'sctid', 'type': 'STRING'}, {'property': 'rolegroup', 'type': 'STRING'}, {'property': 'modifierId', 'type': 'STRING'}, {'property': 'active', 'type': 'STRING'}], 'type': 'HAS_MEASURED_COMPONENT'}, {'properties': [{'property': 'characteristicTypeId', 'type': 'STRING'}, {'property': 'moduleId', 'type': 'STRING'}, {'property': 'typeId', 'type': 'STRING'}, {'property': 'effectiveTime', 'type': 'STRING'}, {'property': 'history', 'type': 'STRING'}, {'property': 'id', 'type': 'STRING'}, {'property': 'sctid', 'type': 'STRING'}, {'property': 'rolegroup', 'type': 'STRING'}, {'property': 'modifierId', 'type': 'STRING'}, {'property': 'active', 'type': 'STRING'}], 'type': 'APPROACH'}, {'properties': [{'property': 'characteristicTypeId', 'type': 'STRING'}, {'property': 'moduleId', 'type': 'STRING'}, {'property': 'typeId', 'type': 'STRING'}, {'property': 'effectiveTime', 'type': 'STRING'}, {'property': 'history', 'type': 'STRING'}, {'property': 'id', 'type': 'STRING'}, {'property': 'sctid', 'type': 'STRING'}, {'property': 'rolegroup', 'type': 'STRING'}, {'property': 'modifierId', 'type': 'STRING'}, {'property': 'active', 'type': 'STRING'}], 'type': 'ACCESS'}, {'properties': [{'property': 'characteristicTypeId', 'type': 'STRING'}, {'property': 'moduleId', 'type': 'STRING'}, {'property': 'typeId', 'type': 'STRING'}, {'property': 'effectiveTime', 'type': 'STRING'}, {'property': 'history', 'type': 'STRING'}, {'property': 'id', 'type': 'STRING'}, {'property': 'sctid', 'type': 'STRING'}, {'property': 'rolegroup', 'type': 'STRING'}, {'property': 'modifierId', 'type': 'STRING'}, {'property': 'active', 'type': 'STRING'}], 'type': 'REVISION_STATUS'}, {'properties': [{'property': 'characteristicTypeId', 'type': 'STRING'}, {'property': 'moduleId', 'type': 'STRING'}, {'property': 'typeId', 'type': 'STRING'}, {'property': 'effectiveTime', 'type': 'STRING'}, {'property': 'history', 'type': 'STRING'}, {'property': 'id', 'type': 'STRING'}, {'property': 'sctid', 'type': 'STRING'}, {'property': 'rolegroup', 'type': 'STRING'}, {'property': 'modifierId', 'type': 'STRING'}, {'property': 'active', 'type': 'STRING'}], 'type': 'DIRECT_SUBSTANCE'}, {'properties': [{'property': 'characteristicTypeId', 'type': 'STRING'}, {'property': 'moduleId', 'type': 'STRING'}, {'property': 'typeId', 'type': 'STRING'}, {'property': 'effectiveTime', 'type': 'STRING'}, {'property': 'history', 'type': 'STRING'}, {'property': 'id', 'type': 'STRING'}, {'property': 'sctid', 'type': 'STRING'}, {'property': 'rolegroup', 'type': 'STRING'}, {'property': 'modifierId', 'type': 'STRING'}, {'property': 'active', 'type': 'STRING'}], 'type': 'DIRECT_DEVICE'}, {'properties': [{'property': 'characteristicTypeId', 'type': 'STRING'}, {'property': 'moduleId', 'type': 'STRING'}, {'property': 'typeId', 'type': 'STRING'}, {'property': 'effectiveTime', 'type': 'STRING'}, {'property': 'history', 'type': 'STRING'}, {'property': 'id', 'type': 'STRING'}, {'property': 'sctid', 'type': 'STRING'}, {'property': 'rolegroup', 'type': 'STRING'}, {'property': 'modifierId', 'type': 'STRING'}, {'property': 'active', 'type': 'STRING'}], 'type': 'ASSOCIATED_FINDING'}, {'properties': [{'property': 'characteristicTypeId', 'type': 'STRING'}, {'property': 'moduleId', 'type': 'STRING'}, {'property': 'typeId', 'type': 'STRING'}, {'property': 'effectiveTime', 'type': 'STRING'}, {'property': 'history', 'type': 'STRING'}, {'property': 'id', 'type': 'STRING'}, {'property': 'sctid', 'type': 'STRING'}, {'property': 'rolegroup', 'type': 'STRING'}, {'property': 'modifierId', 'type': 'STRING'}, {'property': 'active', 'type': 'STRING'}], 'type': 'LATERALITY'}, {'properties': [{'property': 'characteristicTypeId', 'type': 'STRING'}, {'property': 'moduleId', 'type': 'STRING'}, {'property': 'typeId', 'type': 'STRING'}, {'property': 'effectiveTime', 'type': 'STRING'}, {'property': 'history', 'type': 'STRING'}, {'property': 'id', 'type': 'STRING'}, {'property': 'sctid', 'type': 'STRING'}, {'property': 'rolegroup', 'type': 'STRING'}, {'property': 'modifierId', 'type': 'STRING'}, {'property': 'active', 'type': 'STRING'}], 'type': 'COMMUNICATION_WITH_WOUND'}, {'properties': [{'property': 'characteristicTypeId', 'type': 'STRING'}, {'property': 'moduleId', 'type': 'STRING'}, {'property': 'typeId', 'type': 'STRING'}, {'property': 'effectiveTime', 'type': 'STRING'}, {'property': 'history', 'type': 'STRING'}, {'property': 'id', 'type': 'STRING'}, {'property': 'sctid', 'type': 'STRING'}, {'property': 'rolegroup', 'type': 'STRING'}, {'property': 'modifierId', 'type': 'STRING'}, {'property': 'active', 'type': 'STRING'}], 'type': 'HAS_DEFINITIONAL_MANIFESTATION'}, {'properties': [{'property': 'characteristicTypeId', 'type': 'STRING'}, {'property': 'moduleId', 'type': 'STRING'}, {'property': 'typeId', 'type': 'STRING'}, {'property': 'effectiveTime', 'type': 'STRING'}, {'property': 'history', 'type': 'STRING'}, {'property': 'id', 'type': 'STRING'}, {'property': 'sctid', 'type': 'STRING'}, {'property': 'rolegroup', 'type': 'STRING'}, {'property': 'modifierId', 'type': 'STRING'}, {'property': 'active', 'type': 'STRING'}], 'type': 'HAS_FOCUS'}, {'properties': [{'property': 'characteristicTypeId', 'type': 'STRING'}, {'property': 'moduleId', 'type': 'STRING'}, {'property': 'typeId', 'type': 'STRING'}, {'property': 'effectiveTime', 'type': 'STRING'}, {'property': 'history', 'type': 'STRING'}, {'property': 'id', 'type': 'STRING'}, {'property': 'sctid', 'type': 'STRING'}, {'property': 'rolegroup', 'type': 'STRING'}, {'property': 'modifierId', 'type': 'STRING'}, {'property': 'active', 'type': 'STRING'}], 'type': 'PRIORITY'}, {'properties': [{'property': 'characteristicTypeId', 'type': 'STRING'}, {'property': 'moduleId', 'type': 'STRING'}, {'property': 'typeId', 'type': 'STRING'}, {'property': 'effectiveTime', 'type': 'STRING'}, {'property': 'history', 'type': 'STRING'}, {'property': 'id', 'type': 'STRING'}, {'property': 'sctid', 'type': 'STRING'}, {'property': 'rolegroup', 'type': 'STRING'}, {'property': 'modifierId', 'type': 'STRING'}, {'property': 'active', 'type': 'STRING'}], 'type': 'TEMPORALLY_FOLLOWS'}, {'properties': [{'property': 'characteristicTypeId', 'type': 'STRING'}, {'property': 'moduleId', 'type': 'STRING'}, {'property': 'typeId', 'type': 'STRING'}, {'property': 'effectiveTime', 'type': 'STRING'}, {'property': 'history', 'type': 'STRING'}, {'property': 'id', 'type': 'STRING'}, {'property': 'sctid', 'type': 'STRING'}, {'property': 'rolegroup', 'type': 'STRING'}, {'property': 'modifierId', 'type': 'STRING'}, {'property': 'active', 'type': 'STRING'}], 'type': 'ONSET'}, {'properties': [{'property': 'characteristicTypeId', 'type': 'STRING'}, {'property': 'moduleId', 'type': 'STRING'}, {'property': 'typeId', 'type': 'STRING'}, {'property': 'effectiveTime', 'type': 'STRING'}, {'property': 'history', 'type': 'STRING'}, {'property': 'id', 'type': 'STRING'}, {'property': 'sctid', 'type': 'STRING'}, {'property': 'rolegroup', 'type': 'STRING'}, {'property': 'modifierId', 'type': 'STRING'}, {'property': 'active', 'type': 'STRING'}], 'type': 'HAS_ACTIVE_INGREDIENT'}, {'properties': [{'property': 'characteristicTypeId', 'type': 'STRING'}, {'property': 'moduleId', 'type': 'STRING'}, {'property': 'typeId', 'type': 'STRING'}, {'property': 'effectiveTime', 'type': 'STRING'}, {'property': 'history', 'type': 'STRING'}, {'property': 'id', 'type': 'STRING'}, {'property': 'sctid', 'type': 'STRING'}, {'property': 'rolegroup', 'type': 'STRING'}, {'property': 'modifierId', 'type': 'STRING'}, {'property': 'active', 'type': 'STRING'}], 'type': 'ASSOCIATED_PROCEDURE'}, {'properties': [{'property': 'characteristicTypeId', 'type': 'STRING'}, {'property': 'moduleId', 'type': 'STRING'}, {'property': 'typeId', 'type': 'STRING'}, {'property': 'effectiveTime', 'type': 'STRING'}, {'property': 'history', 'type': 'STRING'}, {'property': 'id', 'type': 'STRING'}, {'property': 'sctid', 'type': 'STRING'}, {'property': 'rolegroup', 'type': 'STRING'}, {'property': 'modifierId', 'type': 'STRING'}, {'property': 'active', 'type': 'STRING'}], 'type': 'COMPONENT'}, {'properties': [{'property': 'characteristicTypeId', 'type': 'STRING'}, {'property': 'moduleId', 'type': 'STRING'}, {'property': 'typeId', 'type': 'STRING'}, {'property': 'effectiveTime', 'type': 'STRING'}, {'property': 'history', 'type': 'STRING'}, {'property': 'id', 'type': 'STRING'}, {'property': 'sctid', 'type': 'STRING'}, {'property': 'rolegroup', 'type': 'STRING'}, {'property': 'modifierId', 'type': 'STRING'}, {'property': 'active', 'type': 'STRING'}], 'type': 'HAS_SPECIMEN'}, {'properties': [{'property': 'characteristicTypeId', 'type': 'STRING'}, {'property': 'moduleId', 'type': 'STRING'}, {'property': 'typeId', 'type': 'STRING'}, {'property': 'effectiveTime', 'type': 'STRING'}, {'property': 'history', 'type': 'STRING'}, {'property': 'id', 'type': 'STRING'}, {'property': 'sctid', 'type': 'STRING'}, {'property': 'rolegroup', 'type': 'STRING'}, {'property': 'modifierId', 'type': 'STRING'}, {'property': 'active', 'type': 'STRING'}], 'type': 'HAS_INTERPRETATION'}, {'properties': [{'property': 'characteristicTypeId', 'type': 'STRING'}, {'property': 'moduleId', 'type': 'STRING'}, {'property': 'typeId', 'type': 'STRING'}, {'property': 'effectiveTime', 'type': 'STRING'}, {'property': 'history', 'type': 'STRING'}, {'property': 'id', 'type': 'STRING'}, {'property': 'sctid', 'type': 'STRING'}, {'property': 'rolegroup', 'type': 'STRING'}, {'property': 'modifierId', 'type': 'STRING'}, {'property': 'active', 'type': 'STRING'}], 'type': 'ACCESS_INSTRUMENT'}, {'properties': [{'property': 'characteristicTypeId', 'type': 'STRING'}, {'property': 'moduleId', 'type': 'STRING'}, {'property': 'typeId', 'type': 'STRING'}, {'property': 'effectiveTime', 'type': 'STRING'}, {'property': 'history', 'type': 'STRING'}, {'property': 'id', 'type': 'STRING'}, {'property': 'sctid', 'type': 'STRING'}, {'property': 'rolegroup', 'type': 'STRING'}, {'property': 'modifierId', 'type': 'STRING'}, {'property': 'active', 'type': 'STRING'}], 'type': 'PATHOLOGICAL_PROCESS'}, {'properties': [{'property': 'characteristicTypeId', 'type': 'STRING'}, {'property': 'moduleId', 'type': 'STRING'}, {'property': 'typeId', 'type': 'STRING'}, {'property': 'effectiveTime', 'type': 'STRING'}, {'property': 'history', 'type': 'STRING'}, {'property': 'id', 'type': 'STRING'}, {'property': 'sctid', 'type': 'STRING'}, {'property': 'rolegroup', 'type': 'STRING'}, {'property': 'modifierId', 'type': 'STRING'}, {'property': 'active', 'type': 'STRING'}], 'type': 'SPECIMEN_SOURCE_TOPOGRAPHY'}, {'properties': [{'property': 'characteristicTypeId', 'type': 'STRING'}, {'property': 'moduleId', 'type': 'STRING'}, {'property': 'typeId', 'type': 'STRING'}, {'property': 'effectiveTime', 'type': 'STRING'}, {'property': 'history', 'type': 'STRING'}, {'property': 'id', 'type': 'STRING'}, {'property': 'sctid', 'type': 'STRING'}, {'property': 'rolegroup', 'type': 'STRING'}, {'property': 'modifierId', 'type': 'STRING'}, {'property': 'active', 'type': 'STRING'}], 'type': 'SPECIMEN_PROCEDURE'}, {'properties': [{'property': 'characteristicTypeId', 'type': 'STRING'}, {'property': 'moduleId', 'type': 'STRING'}, {'property': 'typeId', 'type': 'STRING'}, {'property': 'effectiveTime', 'type': 'STRING'}, {'property': 'history', 'type': 'STRING'}, {'property': 'id', 'type': 'STRING'}, {'property': 'sctid', 'type': 'STRING'}, {'property': 'rolegroup', 'type': 'STRING'}, {'property': 'modifierId', 'type': 'STRING'}, {'property': 'active', 'type': 'STRING'}], 'type': 'SPECIMEN_SUBSTANCE'}, {'properties': [{'property': 'characteristicTypeId', 'type': 'STRING'}, {'property': 'moduleId', 'type': 'STRING'}, {'property': 'typeId', 'type': 'STRING'}, {'property': 'effectiveTime', 'type': 'STRING'}, {'property': 'history', 'type': 'STRING'}, {'property': 'id', 'type': 'STRING'}, {'property': 'sctid', 'type': 'STRING'}, {'property': 'rolegroup', 'type': 'STRING'}, {'property': 'modifierId', 'type': 'STRING'}, {'property': 'active', 'type': 'STRING'}], 'type': 'SCALE_TYPE'}, {'properties': [{'property': 'characteristicTypeId', 'type': 'STRING'}, {'property': 'moduleId', 'type': 'STRING'}, {'property': 'typeId', 'type': 'STRING'}, {'property': 'effectiveTime', 'type': 'STRING'}, {'property': 'history', 'type': 'STRING'}, {'property': 'id', 'type': 'STRING'}, {'property': 'sctid', 'type': 'STRING'}, {'property': 'rolegroup', 'type': 'STRING'}, {'property': 'modifierId', 'type': 'STRING'}, {'property': 'active', 'type': 'STRING'}], 'type': 'PROPERTY'}, {'properties': [{'property': 'characteristicTypeId', 'type': 'STRING'}, {'property': 'moduleId', 'type': 'STRING'}, {'property': 'typeId', 'type': 'STRING'}, {'property': 'effectiveTime', 'type': 'STRING'}, {'property': 'history', 'type': 'STRING'}, {'property': 'id', 'type': 'STRING'}, {'property': 'sctid', 'type': 'STRING'}, {'property': 'rolegroup', 'type': 'STRING'}, {'property': 'modifierId', 'type': 'STRING'}, {'property': 'active', 'type': 'STRING'}], 'type': 'PROCEDURE_SITE__INDIRECT'}, {'properties': [{'property': 'characteristicTypeId', 'type': 'STRING'}, {'property': 'moduleId', 'type': 'STRING'}, {'property': 'typeId', 'type': 'STRING'}, {'property': 'effectiveTime', 'type': 'STRING'}, {'property': 'history', 'type': 'STRING'}, {'property': 'id', 'type': 'STRING'}, {'property': 'sctid', 'type': 'STRING'}, {'property': 'rolegroup', 'type': 'STRING'}, {'property': 'modifierId', 'type': 'STRING'}, {'property': 'active', 'type': 'STRING'}], 'type': 'AFTER'}, {'properties': [{'property': 'characteristicTypeId', 'type': 'STRING'}, {'property': 'moduleId', 'type': 'STRING'}, {'property': 'typeId', 'type': 'STRING'}, {'property': 'effectiveTime', 'type': 'STRING'}, {'property': 'history', 'type': 'STRING'}, {'property': 'id', 'type': 'STRING'}, {'property': 'sctid', 'type': 'STRING'}, {'property': 'rolegroup', 'type': 'STRING'}, {'property': 'modifierId', 'type': 'STRING'}, {'property': 'active', 'type': 'STRING'}], 'type': 'ASSOCIATED_WITH'}, {'properties': [{'property': 'characteristicTypeId', 'type': 'STRING'}, {'property': 'moduleId', 'type': 'STRING'}, {'property': 'typeId', 'type': 'STRING'}, {'property': 'effectiveTime', 'type': 'STRING'}, {'property': 'history', 'type': 'STRING'}, {'property': 'id', 'type': 'STRING'}, {'property': 'sctid', 'type': 'STRING'}, {'property': 'rolegroup', 'type': 'STRING'}, {'property': 'modifierId', 'type': 'STRING'}, {'property': 'active', 'type': 'STRING'}], 'type': 'TEMPORAL_CONTEXT'}, {'properties': [{'property': 'characteristicTypeId', 'type': 'STRING'}, {'property': 'moduleId', 'type': 'STRING'}, {'property': 'typeId', 'type': 'STRING'}, {'property': 'effectiveTime', 'type': 'STRING'}, {'property': 'history', 'type': 'STRING'}, {'property': 'id', 'type': 'STRING'}, {'property': 'sctid', 'type': 'STRING'}, {'property': 'rolegroup', 'type': 'STRING'}, {'property': 'modifierId', 'type': 'STRING'}, {'property': 'active', 'type': 'STRING'}], 'type': 'FINDING_CONTEXT'}, {'properties': [{'property': 'characteristicTypeId', 'type': 'STRING'}, {'property': 'moduleId', 'type': 'STRING'}, {'property': 'typeId', 'type': 'STRING'}, {'property': 'effectiveTime', 'type': 'STRING'}, {'property': 'history', 'type': 'STRING'}, {'property': 'id', 'type': 'STRING'}, {'property': 'sctid', 'type': 'STRING'}, {'property': 'rolegroup', 'type': 'STRING'}, {'property': 'modifierId', 'type': 'STRING'}, {'property': 'active', 'type': 'STRING'}], 'type': 'SUBJECT_RELATIONSHIP_CONTEXT'}, {'properties': [{'property': 'characteristicTypeId', 'type': 'STRING'}, {'property': 'moduleId', 'type': 'STRING'}, {'property': 'typeId', 'type': 'STRING'}, {'property': 'effectiveTime', 'type': 'STRING'}, {'property': 'history', 'type': 'STRING'}, {'property': 'id', 'type': 'STRING'}, {'property': 'sctid', 'type': 'STRING'}, {'property': 'rolegroup', 'type': 'STRING'}, {'property': 'modifierId', 'type': 'STRING'}, {'property': 'active', 'type': 'STRING'}], 'type': 'DUE_TO'}, {'properties': [{'property': 'characteristicTypeId', 'type': 'STRING'}, {'property': 'moduleId', 'type': 'STRING'}, {'property': 'typeId', 'type': 'STRING'}, {'property': 'effectiveTime', 'type': 'STRING'}, {'property': 'history', 'type': 'STRING'}, {'property': 'id', 'type': 'STRING'}, {'property': 'sctid', 'type': 'STRING'}, {'property': 'rolegroup', 'type': 'STRING'}, {'property': 'modifierId', 'type': 'STRING'}, {'property': 'active', 'type': 'STRING'}], 'type': 'PROCEDURE_CONTEXT'}, {'properties': [{'property': 'characteristicTypeId', 'type': 'STRING'}, {'property': 'moduleId', 'type': 'STRING'}, {'property': 'typeId', 'type': 'STRING'}, {'property': 'effectiveTime', 'type': 'STRING'}, {'property': 'history', 'type': 'STRING'}, {'property': 'id', 'type': 'STRING'}, {'property': 'sctid', 'type': 'STRING'}, {'property': 'rolegroup', 'type': 'STRING'}, {'property': 'modifierId', 'type': 'STRING'}, {'property': 'active', 'type': 'STRING'}], 'type': 'PROCEDURE_SITE__DIRECT'}, {'properties': [{'property': 'characteristicTypeId', 'type': 'STRING'}, {'property': 'moduleId', 'type': 'STRING'}, {'property': 'typeId', 'type': 'STRING'}, {'property': 'effectiveTime', 'type': 'STRING'}, {'property': 'history', 'type': 'STRING'}, {'property': 'id', 'type': 'STRING'}, {'property': 'sctid', 'type': 'STRING'}, {'property': 'rolegroup', 'type': 'STRING'}, {'property': 'modifierId', 'type': 'STRING'}, {'property': 'active', 'type': 'STRING'}], 'type': 'PROCEDURE_MORPHOLOGY'}, {'properties': [{'property': 'characteristicTypeId', 'type': 'STRING'}, {'property': 'moduleId', 'type': 'STRING'}, {'property': 'typeId', 'type': 'STRING'}, {'property': 'effectiveTime', 'type': 'STRING'}, {'property': 'history', 'type': 'STRING'}, {'property': 'id', 'type': 'STRING'}, {'property': 'sctid', 'type': 'STRING'}, {'property': 'rolegroup', 'type': 'STRING'}, {'property': 'modifierId', 'type': 'STRING'}, {'property': 'active', 'type': 'STRING'}], 'type': 'HAS_MANUFACTURED_DOSE_FORM'}, {'properties': [{'property': 'characteristicTypeId', 'type': 'STRING'}, {'property': 'moduleId', 'type': 'STRING'}, {'property': 'typeId', 'type': 'STRING'}, {'property': 'effectiveTime', 'type': 'STRING'}, {'property': 'history', 'type': 'STRING'}, {'property': 'id', 'type': 'STRING'}, {'property': 'sctid', 'type': 'STRING'}, {'property': 'rolegroup', 'type': 'STRING'}, {'property': 'modifierId', 'type': 'STRING'}, {'property': 'active', 'type': 'STRING'}], 'type': 'FINDING_METHOD'}, {'properties': [{'property': 'characteristicTypeId', 'type': 'STRING'}, {'property': 'moduleId', 'type': 'STRING'}, {'property': 'typeId', 'type': 'STRING'}, {'property': 'effectiveTime', 'type': 'STRING'}, {'property': 'history', 'type': 'STRING'}, {'property': 'id', 'type': 'STRING'}, {'property': 'sctid', 'type': 'STRING'}, {'property': 'rolegroup', 'type': 'STRING'}, {'property': 'modifierId', 'type': 'STRING'}, {'property': 'active', 'type': 'STRING'}], 'type': 'FINDING_INFORMER'}, {'properties': [{'property': 'characteristicTypeId', 'type': 'STRING'}, {'property': 'moduleId', 'type': 'STRING'}, {'property': 'typeId', 'type': 'STRING'}, {'property': 'effectiveTime', 'type': 'STRING'}, {'property': 'history', 'type': 'STRING'}, {'property': 'id', 'type': 'STRING'}, {'property': 'sctid', 'type': 'STRING'}, {'property': 'rolegroup', 'type': 'STRING'}, {'property': 'modifierId', 'type': 'STRING'}, {'property': 'active', 'type': 'STRING'}], 'type': 'USING_DEVICE'}, {'properties': [{'property': 'characteristicTypeId', 'type': 'STRING'}, {'property': 'moduleId', 'type': 'STRING'}, {'property': 'typeId', 'type': 'STRING'}, {'property': 'effectiveTime', 'type': 'STRING'}, {'property': 'history', 'type': 'STRING'}, {'property': 'id', 'type': 'STRING'}, {'property': 'sctid', 'type': 'STRING'}, {'property': 'rolegroup', 'type': 'STRING'}, {'property': 'modifierId', 'type': 'STRING'}, {'property': 'active', 'type': 'STRING'}], 'type': 'USING_SUBSTANCE'}, {'properties': [{'property': 'characteristicTypeId', 'type': 'STRING'}, {'property': 'moduleId', 'type': 'STRING'}, {'property': 'typeId', 'type': 'STRING'}, {'property': 'effectiveTime', 'type': 'STRING'}, {'property': 'history', 'type': 'STRING'}, {'property': 'id', 'type': 'STRING'}, {'property': 'sctid', 'type': 'STRING'}, {'property': 'rolegroup', 'type': 'STRING'}, {'property': 'modifierId', 'type': 'STRING'}, {'property': 'active', 'type': 'STRING'}], 'type': 'CLINICAL_COURSE'}, {'properties': [{'property': 'characteristicTypeId', 'type': 'STRING'}, {'property': 'moduleId', 'type': 'STRING'}, {'property': 'typeId', 'type': 'STRING'}, {'property': 'effectiveTime', 'type': 'STRING'}, {'property': 'history', 'type': 'STRING'}, {'property': 'id', 'type': 'STRING'}, {'property': 'sctid', 'type': 'STRING'}, {'property': 'rolegroup', 'type': 'STRING'}, {'property': 'modifierId', 'type': 'STRING'}, {'property': 'active', 'type': 'STRING'}], 'type': 'USING_ENERGY'}, {'properties': [{'property': 'characteristicTypeId', 'type': 'STRING'}, {'property': 'moduleId', 'type': 'STRING'}, {'property': 'typeId', 'type': 'STRING'}, {'property': 'effectiveTime', 'type': 'STRING'}, {'property': 'history', 'type': 'STRING'}, {'property': 'id', 'type': 'STRING'}, {'property': 'sctid', 'type': 'STRING'}, {'property': 'rolegroup', 'type': 'STRING'}, {'property': 'modifierId', 'type': 'STRING'}, {'property': 'active', 'type': 'STRING'}], 'type': 'USING_ACCESS_DEVICE'}, {'properties': [{'property': 'characteristicTypeId', 'type': 'STRING'}, {'property': 'moduleId', 'type': 'STRING'}, {'property': 'typeId', 'type': 'STRING'}, {'property': 'effectiveTime', 'type': 'STRING'}, {'property': 'history', 'type': 'STRING'}, {'property': 'id', 'type': 'STRING'}, {'property': 'sctid', 'type': 'STRING'}, {'property': 'rolegroup', 'type': 'STRING'}, {'property': 'modifierId', 'type': 'STRING'}, {'property': 'active', 'type': 'STRING'}], 'type': 'SURGICAL_APPROACH'}, {'properties': [{'property': 'characteristicTypeId', 'type': 'STRING'}, {'property': 'moduleId', 'type': 'STRING'}, {'property': 'typeId', 'type': 'STRING'}, {'property': 'effectiveTime', 'type': 'STRING'}, {'property': 'history', 'type': 'STRING'}, {'property': 'id', 'type': 'STRING'}, {'property': 'sctid', 'type': 'STRING'}, {'property': 'rolegroup', 'type': 'STRING'}, {'property': 'modifierId', 'type': 'STRING'}, {'property': 'active', 'type': 'STRING'}], 'type': 'CHARACTERIZES'}, {'properties': [{'property': 'characteristicTypeId', 'type': 'STRING'}, {'property': 'moduleId', 'type': 'STRING'}, {'property': 'typeId', 'type': 'STRING'}, {'property': 'effectiveTime', 'type': 'STRING'}, {'property': 'history', 'type': 'STRING'}, {'property': 'id', 'type': 'STRING'}, {'property': 'sctid', 'type': 'STRING'}, {'property': 'rolegroup', 'type': 'STRING'}, {'property': 'modifierId', 'type': 'STRING'}, {'property': 'active', 'type': 'STRING'}], 'type': 'PROCESS_OUTPUT'}, {'properties': [{'property': 'characteristicTypeId', 'type': 'STRING'}, {'property': 'moduleId', 'type': 'STRING'}, {'property': 'typeId', 'type': 'STRING'}, {'property': 'effectiveTime', 'type': 'STRING'}, {'property': 'history', 'type': 'STRING'}, {'property': 'id', 'type': 'STRING'}, {'property': 'sctid', 'type': 'STRING'}, {'property': 'rolegroup', 'type': 'STRING'}, {'property': 'modifierId', 'type': 'STRING'}, {'property': 'active', 'type': 'STRING'}], 'type': 'INHERES_IN'}, {'properties': [{'property': 'characteristicTypeId', 'type': 'STRING'}, {'property': 'moduleId', 'type': 'STRING'}, {'property': 'typeId', 'type': 'STRING'}, {'property': 'effectiveTime', 'type': 'STRING'}, {'property': 'history', 'type': 'STRING'}, {'property': 'id', 'type': 'STRING'}, {'property': 'sctid', 'type': 'STRING'}, {'property': 'rolegroup', 'type': 'STRING'}, {'property': 'modifierId', 'type': 'STRING'}, {'property': 'active', 'type': 'STRING'}], 'type': 'TECHNIQUE'}, {'properties': [{'property': 'characteristicTypeId', 'type': 'STRING'}, {'property': 'moduleId', 'type': 'STRING'}, {'property': 'typeId', 'type': 'STRING'}, {'property': 'effectiveTime', 'type': 'STRING'}, {'property': 'history', 'type': 'STRING'}, {'property': 'id', 'type': 'STRING'}, {'property': 'sctid', 'type': 'STRING'}, {'property': 'rolegroup', 'type': 'STRING'}, {'property': 'modifierId', 'type': 'STRING'}, {'property': 'active', 'type': 'STRING'}], 'type': 'HAS_BASIS_OF_STRENGTH_SUBSTANCE'}, {'properties': [{'property': 'characteristicTypeId', 'type': 'STRING'}, {'property': 'moduleId', 'type': 'STRING'}, {'property': 'typeId', 'type': 'STRING'}, {'property': 'effectiveTime', 'type': 'STRING'}, {'property': 'history', 'type': 'STRING'}, {'property': 'id', 'type': 'STRING'}, {'property': 'sctid', 'type': 'STRING'}, {'property': 'rolegroup', 'type': 'STRING'}, {'property': 'modifierId', 'type': 'STRING'}, {'property': 'active', 'type': 'STRING'}], 'type': 'HAS_PRESENTATION_STRENGTH_NUMERATOR_VALUE'}, {'properties': [{'property': 'characteristicTypeId', 'type': 'STRING'}, {'property': 'moduleId', 'type': 'STRING'}, {'property': 'typeId', 'type': 'STRING'}, {'property': 'effectiveTime', 'type': 'STRING'}, {'property': 'history', 'type': 'STRING'}, {'property': 'id', 'type': 'STRING'}, {'property': 'sctid', 'type': 'STRING'}, {'property': 'rolegroup', 'type': 'STRING'}, {'property': 'modifierId', 'type': 'STRING'}, {'property': 'active', 'type': 'STRING'}], 'type': 'HAS_PRESENTATION_STRENGTH_NUMERATOR_UNIT'}, {'properties': [{'property': 'characteristicTypeId', 'type': 'STRING'}, {'property': 'moduleId', 'type': 'STRING'}, {'property': 'typeId', 'type': 'STRING'}, {'property': 'effectiveTime', 'type': 'STRING'}, {'property': 'history', 'type': 'STRING'}, {'property': 'id', 'type': 'STRING'}, {'property': 'sctid', 'type': 'STRING'}, {'property': 'rolegroup', 'type': 'STRING'}, {'property': 'modifierId', 'type': 'STRING'}, {'property': 'active', 'type': 'STRING'}], 'type': 'HAS_PRESENTATION_STRENGTH_DENOMINATOR_VALUE'}, {'properties': [{'property': 'characteristicTypeId', 'type': 'STRING'}, {'property': 'moduleId', 'type': 'STRING'}, {'property': 'typeId', 'type': 'STRING'}, {'property': 'effectiveTime', 'type': 'STRING'}, {'property': 'history', 'type': 'STRING'}, {'property': 'id', 'type': 'STRING'}, {'property': 'sctid', 'type': 'STRING'}, {'property': 'rolegroup', 'type': 'STRING'}, {'property': 'modifierId', 'type': 'STRING'}, {'property': 'active', 'type': 'STRING'}], 'type': 'HAS_PRESENTATION_STRENGTH_DENOMINATOR_UNIT'}, {'properties': [{'property': 'characteristicTypeId', 'type': 'STRING'}, {'property': 'moduleId', 'type': 'STRING'}, {'property': 'typeId', 'type': 'STRING'}, {'property': 'effectiveTime', 'type': 'STRING'}, {'property': 'history', 'type': 'STRING'}, {'property': 'id', 'type': 'STRING'}, {'property': 'sctid', 'type': 'STRING'}, {'property': 'rolegroup', 'type': 'STRING'}, {'property': 'modifierId', 'type': 'STRING'}, {'property': 'active', 'type': 'STRING'}], 'type': 'HAS_DISPOSITION'}, {'properties': [{'property': 'characteristicTypeId', 'type': 'STRING'}, {'property': 'moduleId', 'type': 'STRING'}, {'property': 'typeId', 'type': 'STRING'}, {'property': 'effectiveTime', 'type': 'STRING'}, {'property': 'history', 'type': 'STRING'}, {'property': 'id', 'type': 'STRING'}, {'property': 'sctid', 'type': 'STRING'}, {'property': 'rolegroup', 'type': 'STRING'}, {'property': 'modifierId', 'type': 'STRING'}, {'property': 'active', 'type': 'STRING'}], 'type': 'HAS_DOSE_FORM_ADMINISTRATION_METHOD'}, {'properties': [{'property': 'characteristicTypeId', 'type': 'STRING'}, {'property': 'moduleId', 'type': 'STRING'}, {'property': 'typeId', 'type': 'STRING'}, {'property': 'effectiveTime', 'type': 'STRING'}, {'property': 'history', 'type': 'STRING'}, {'property': 'id', 'type': 'STRING'}, {'property': 'sctid', 'type': 'STRING'}, {'property': 'rolegroup', 'type': 'STRING'}, {'property': 'modifierId', 'type': 'STRING'}, {'property': 'active', 'type': 'STRING'}], 'type': 'HAS_DOSE_FORM_INTENDED_SITE'}, {'properties': [{'property': 'characteristicTypeId', 'type': 'STRING'}, {'property': 'moduleId', 'type': 'STRING'}, {'property': 'typeId', 'type': 'STRING'}, {'property': 'effectiveTime', 'type': 'STRING'}, {'property': 'history', 'type': 'STRING'}, {'property': 'id', 'type': 'STRING'}, {'property': 'sctid', 'type': 'STRING'}, {'property': 'rolegroup', 'type': 'STRING'}, {'property': 'modifierId', 'type': 'STRING'}, {'property': 'active', 'type': 'STRING'}], 'type': 'HAS_DOSE_FORM_RELEASE_CHARACTERISTIC'}, {'properties': [{'property': 'characteristicTypeId', 'type': 'STRING'}, {'property': 'moduleId', 'type': 'STRING'}, {'property': 'typeId', 'type': 'STRING'}, {'property': 'effectiveTime', 'type': 'STRING'}, {'property': 'history', 'type': 'STRING'}, {'property': 'id', 'type': 'STRING'}, {'property': 'sctid', 'type': 'STRING'}, {'property': 'rolegroup', 'type': 'STRING'}, {'property': 'modifierId', 'type': 'STRING'}, {'property': 'active', 'type': 'STRING'}], 'type': 'HAS_BASIC_DOSE_FORM'}, {'properties': [{'property': 'characteristicTypeId', 'type': 'STRING'}, {'property': 'moduleId', 'type': 'STRING'}, {'property': 'typeId', 'type': 'STRING'}, {'property': 'effectiveTime', 'type': 'STRING'}, {'property': 'history', 'type': 'STRING'}, {'property': 'id', 'type': 'STRING'}, {'property': 'sctid', 'type': 'STRING'}, {'property': 'rolegroup', 'type': 'STRING'}, {'property': 'modifierId', 'type': 'STRING'}, {'property': 'active', 'type': 'STRING'}], 'type': 'HAS_DOSE_FORM_TRANSFORMATION'}, {'properties': [{'property': 'characteristicTypeId', 'type': 'STRING'}, {'property': 'moduleId', 'type': 'STRING'}, {'property': 'typeId', 'type': 'STRING'}, {'property': 'effectiveTime', 'type': 'STRING'}, {'property': 'history', 'type': 'STRING'}, {'property': 'id', 'type': 'STRING'}, {'property': 'sctid', 'type': 'STRING'}, {'property': 'rolegroup', 'type': 'STRING'}, {'property': 'modifierId', 'type': 'STRING'}, {'property': 'active', 'type': 'STRING'}], 'type': 'IS_MODIFICATION_OF'}, {'properties': [{'property': 'characteristicTypeId', 'type': 'STRING'}, {'property': 'moduleId', 'type': 'STRING'}, {'property': 'typeId', 'type': 'STRING'}, {'property': 'effectiveTime', 'type': 'STRING'}, {'property': 'history', 'type': 'STRING'}, {'property': 'id', 'type': 'STRING'}, {'property': 'sctid', 'type': 'STRING'}, {'property': 'rolegroup', 'type': 'STRING'}, {'property': 'modifierId', 'type': 'STRING'}, {'property': 'active', 'type': 'STRING'}], 'type': 'HAS_PRECISE_ACTIVE_INGREDIENT'}, {'properties': [{'property': 'characteristicTypeId', 'type': 'STRING'}, {'property': 'moduleId', 'type': 'STRING'}, {'property': 'typeId', 'type': 'STRING'}, {'property': 'effectiveTime', 'type': 'STRING'}, {'property': 'history', 'type': 'STRING'}, {'property': 'id', 'type': 'STRING'}, {'property': 'sctid', 'type': 'STRING'}, {'property': 'rolegroup', 'type': 'STRING'}, {'property': 'modifierId', 'type': 'STRING'}, {'property': 'active', 'type': 'STRING'}], 'type': 'HAS_UNIT_OF_PRESENTATION'}, {'properties': [{'property': 'characteristicTypeId', 'type': 'STRING'}, {'property': 'moduleId', 'type': 'STRING'}, {'property': 'typeId', 'type': 'STRING'}, {'property': 'effectiveTime', 'type': 'STRING'}, {'property': 'history', 'type': 'STRING'}, {'property': 'id', 'type': 'STRING'}, {'property': 'sctid', 'type': 'STRING'}, {'property': 'rolegroup', 'type': 'STRING'}, {'property': 'modifierId', 'type': 'STRING'}, {'property': 'active', 'type': 'STRING'}], 'type': 'COUNT_OF_BASE_OF_ACTIVE_INGREDIENT'}, {'properties': [{'property': 'characteristicTypeId', 'type': 'STRING'}, {'property': 'moduleId', 'type': 'STRING'}, {'property': 'typeId', 'type': 'STRING'}, {'property': 'effectiveTime', 'type': 'STRING'}, {'property': 'history', 'type': 'STRING'}, {'property': 'id', 'type': 'STRING'}, {'property': 'sctid', 'type': 'STRING'}, {'property': 'rolegroup', 'type': 'STRING'}, {'property': 'modifierId', 'type': 'STRING'}, {'property': 'active', 'type': 'STRING'}], 'type': 'HAS_CONCENTRATION_STRENGTH_DENOMINATOR_VALUE'}, {'properties': [{'property': 'characteristicTypeId', 'type': 'STRING'}, {'property': 'moduleId', 'type': 'STRING'}, {'property': 'typeId', 'type': 'STRING'}, {'property': 'effectiveTime', 'type': 'STRING'}, {'property': 'history', 'type': 'STRING'}, {'property': 'id', 'type': 'STRING'}, {'property': 'sctid', 'type': 'STRING'}, {'property': 'rolegroup', 'type': 'STRING'}, {'property': 'modifierId', 'type': 'STRING'}, {'property': 'active', 'type': 'STRING'}], 'type': 'HAS_CONCENTRATION_STRENGTH_NUMERATOR_VALUE'}, {'properties': [{'property': 'characteristicTypeId', 'type': 'STRING'}, {'property': 'moduleId', 'type': 'STRING'}, {'property': 'typeId', 'type': 'STRING'}, {'property': 'effectiveTime', 'type': 'STRING'}, {'property': 'history', 'type': 'STRING'}, {'property': 'id', 'type': 'STRING'}, {'property': 'sctid', 'type': 'STRING'}, {'property': 'rolegroup', 'type': 'STRING'}, {'property': 'modifierId', 'type': 'STRING'}, {'property': 'active', 'type': 'STRING'}], 'type': 'HAS_CONCENTRATION_STRENGTH_NUMERATOR_UNIT'}, {'properties': [{'property': 'characteristicTypeId', 'type': 'STRING'}, {'property': 'moduleId', 'type': 'STRING'}, {'property': 'typeId', 'type': 'STRING'}, {'property': 'effectiveTime', 'type': 'STRING'}, {'property': 'history', 'type': 'STRING'}, {'property': 'id', 'type': 'STRING'}, {'property': 'sctid', 'type': 'STRING'}, {'property': 'rolegroup', 'type': 'STRING'}, {'property': 'modifierId', 'type': 'STRING'}, {'property': 'active', 'type': 'STRING'}], 'type': 'HAS_CONCENTRATION_STRENGTH_DENOMINATOR_UNIT'}, {'properties': [{'property': 'characteristicTypeId', 'type': 'STRING'}, {'property': 'moduleId', 'type': 'STRING'}, {'property': 'typeId', 'type': 'STRING'}, {'property': 'effectiveTime', 'type': 'STRING'}, {'property': 'history', 'type': 'STRING'}, {'property': 'id', 'type': 'STRING'}, {'property': 'sctid', 'type': 'STRING'}, {'property': 'rolegroup', 'type': 'STRING'}, {'property': 'modifierId', 'type': 'STRING'}, {'property': 'active', 'type': 'STRING'}], 'type': 'PLAYS_ROLE'}, {'properties': [{'property': 'characteristicTypeId', 'type': 'STRING'}, {'property': 'moduleId', 'type': 'STRING'}, {'property': 'typeId', 'type': 'STRING'}, {'property': 'effectiveTime', 'type': 'STRING'}, {'property': 'history', 'type': 'STRING'}, {'property': 'id', 'type': 'STRING'}, {'property': 'sctid', 'type': 'STRING'}, {'property': 'rolegroup', 'type': 'STRING'}, {'property': 'modifierId', 'type': 'STRING'}, {'property': 'active', 'type': 'STRING'}], 'type': 'HAS_REALIZATION'}, {'properties': [{'property': 'characteristicTypeId', 'type': 'STRING'}, {'property': 'moduleId', 'type': 'STRING'}, {'property': 'typeId', 'type': 'STRING'}, {'property': 'effectiveTime', 'type': 'STRING'}, {'property': 'history', 'type': 'STRING'}, {'property': 'id', 'type': 'STRING'}, {'property': 'sctid', 'type': 'STRING'}, {'property': 'rolegroup', 'type': 'STRING'}, {'property': 'modifierId', 'type': 'STRING'}, {'property': 'active', 'type': 'STRING'}], 'type': 'HAS_DEVICE_INTENDED_SITE'}, {'properties': [{'property': 'characteristicTypeId', 'type': 'STRING'}, {'property': 'moduleId', 'type': 'STRING'}, {'property': 'typeId', 'type': 'STRING'}, {'property': 'effectiveTime', 'type': 'STRING'}, {'property': 'history', 'type': 'STRING'}, {'property': 'id', 'type': 'STRING'}, {'property': 'sctid', 'type': 'STRING'}, {'property': 'rolegroup', 'type': 'STRING'}, {'property': 'modifierId', 'type': 'STRING'}, {'property': 'active', 'type': 'STRING'}], 'type': 'HAS_DEVICE_CHARACTERISTIC'}, {'properties': [{'property': 'characteristicTypeId', 'type': 'STRING'}, {'property': 'moduleId', 'type': 'STRING'}, {'property': 'typeId', 'type': 'STRING'}, {'property': 'effectiveTime', 'type': 'STRING'}, {'property': 'history', 'type': 'STRING'}, {'property': 'id', 'type': 'STRING'}, {'property': 'sctid', 'type': 'STRING'}, {'property': 'rolegroup', 'type': 'STRING'}, {'property': 'modifierId', 'type': 'STRING'}, {'property': 'active', 'type': 'STRING'}], 'type': 'RELATIVE_TO'}, {'properties': [{'property': 'characteristicTypeId', 'type': 'STRING'}, {'property': 'moduleId', 'type': 'STRING'}, {'property': 'typeId', 'type': 'STRING'}, {'property': 'effectiveTime', 'type': 'STRING'}, {'property': 'history', 'type': 'STRING'}, {'property': 'id', 'type': 'STRING'}, {'property': 'sctid', 'type': 'STRING'}, {'property': 'rolegroup', 'type': 'STRING'}, {'property': 'modifierId', 'type': 'STRING'}, {'property': 'active', 'type': 'STRING'}], 'type': 'PROCESS_ACTS_ON'}]\n",
      "        The relationships are the following:\n",
      "        ['(:Disease)-[:CAUSE]->(:Symptom)', '(:ObjectConcept)-[:HAS_ROLE_GROUP]->(:RoleGroup)', '(:ObjectConcept)-[:HAS_DESCRIPTION]->(:Description)', '(:ObjectConcept)-[:ISA]->(:ObjectConcept)', '(:RoleGroup)-[:HAS_INTERPRETATION]->(:ObjectConcept)', '(:RoleGroup)-[:INTERPRETS]->(:ObjectConcept)', '(:RoleGroup)-[:ASSOCIATED_MORPHOLOGY]->(:ObjectConcept)', '(:RoleGroup)-[:FINDING_SITE]->(:ObjectConcept)', '(:RoleGroup)-[:HAS_FOCUS]->(:ObjectConcept)', '(:RoleGroup)-[:PROCEDURE_SITE]->(:ObjectConcept)', '(:RoleGroup)-[:METHOD]->(:ObjectConcept)', '(:RoleGroup)-[:DIRECT_DEVICE]->(:ObjectConcept)', '(:RoleGroup)-[:ACCESS_INSTRUMENT]->(:ObjectConcept)', '(:RoleGroup)-[:USING_SUBSTANCE]->(:ObjectConcept)', '(:RoleGroup)-[:APPROACH]->(:ObjectConcept)', '(:RoleGroup)-[:PROCEDURE_SITE__DIRECT]->(:ObjectConcept)', '(:RoleGroup)-[:DIRECT_SUBSTANCE]->(:ObjectConcept)', '(:RoleGroup)-[:DUE_TO]->(:ObjectConcept)', '(:RoleGroup)-[:SURGICAL_APPROACH]->(:ObjectConcept)', '(:RoleGroup)-[:USING_ACCESS_DEVICE]->(:ObjectConcept)', '(:RoleGroup)-[:PROCEDURE_DEVICE]->(:ObjectConcept)', '(:RoleGroup)-[:ACCESS]->(:ObjectConcept)', '(:RoleGroup)-[:PROCEDURE_SITE__INDIRECT]->(:ObjectConcept)', '(:RoleGroup)-[:DIRECT_MORPHOLOGY]->(:ObjectConcept)', '(:RoleGroup)-[:CLINICAL_COURSE]->(:ObjectConcept)', '(:RoleGroup)-[:RECIPIENT_CATEGORY]->(:ObjectConcept)', '(:RoleGroup)-[:HAS_INTENT]->(:ObjectConcept)', '(:RoleGroup)-[:USING]->(:ObjectConcept)', '(:RoleGroup)-[:LATERALITY]->(:ObjectConcept)', '(:RoleGroup)-[:PART_OF]->(:ObjectConcept)', '(:RoleGroup)-[:COMPONENT]->(:ObjectConcept)', '(:RoleGroup)-[:HAS_MEASURED_COMPONENT]->(:ObjectConcept)', '(:RoleGroup)-[:PATHOLOGICAL_PROCESS]->(:ObjectConcept)', '(:RoleGroup)-[:CAUSATIVE_AGENT]->(:ObjectConcept)', '(:RoleGroup)-[:PATHOLOGICAL_PROCESS_QUALIFIER_VALUE]->(:ObjectConcept)', '(:RoleGroup)-[:USING_ENERGY]->(:ObjectConcept)', '(:RoleGroup)-[:OCCURRENCE]->(:ObjectConcept)', '(:RoleGroup)-[:ONSET]->(:ObjectConcept)', '(:RoleGroup)-[:COURSE]->(:ObjectConcept)', '(:RoleGroup)-[:USING_DEVICE]->(:ObjectConcept)', '(:RoleGroup)-[:HAS_DEFINITIONAL_MANIFESTATION]->(:ObjectConcept)', '(:RoleGroup)-[:EXTENT]->(:ObjectConcept)', '(:RoleGroup)-[:ASSOCIATED_ETIOLOGIC_FINDING]->(:ObjectConcept)', '(:RoleGroup)-[:PRIORITY]->(:ObjectConcept)', '(:RoleGroup)-[:ASSOCIATED_WITH]->(:ObjectConcept)', '(:RoleGroup)-[:TEMPORALLY_FOLLOWS]->(:ObjectConcept)', '(:RoleGroup)-[:AFTER]->(:ObjectConcept)', '(:RoleGroup)-[:SEVERITY]->(:ObjectConcept)', '(:RoleGroup)-[:REVISION_STATUS]->(:ObjectConcept)', '(:RoleGroup)-[:HAS_DISPOSITION]->(:ObjectConcept)', '(:RoleGroup)-[:FINDING_METHOD]->(:ObjectConcept)', '(:RoleGroup)-[:FINDING_CONTEXT]->(:ObjectConcept)', '(:RoleGroup)-[:SUBJECT_RELATIONSHIP_CONTEXT]->(:ObjectConcept)', '(:RoleGroup)-[:ASSOCIATED_FINDING]->(:ObjectConcept)', '(:RoleGroup)-[:TEMPORAL_CONTEXT]->(:ObjectConcept)', '(:RoleGroup)-[:COMMUNICATION_WITH_WOUND]->(:ObjectConcept)', '(:RoleGroup)-[:HAS_SPECIMEN]->(:ObjectConcept)', '(:RoleGroup)-[:PLAYS_ROLE]->(:ObjectConcept)', '(:RoleGroup)-[:HAS_ACTIVE_INGREDIENT]->(:ObjectConcept)', '(:RoleGroup)-[:PROCEDURE_CONTEXT]->(:ObjectConcept)', '(:RoleGroup)-[:ASSOCIATED_PROCEDURE]->(:ObjectConcept)', '(:RoleGroup)-[:SPECIMEN_PROCEDURE]->(:ObjectConcept)', '(:RoleGroup)-[:SPECIMEN_SOURCE_TOPOGRAPHY]->(:ObjectConcept)', '(:RoleGroup)-[:HAS_MANUFACTURED_DOSE_FORM]->(:ObjectConcept)', '(:RoleGroup)-[:SPECIMEN_SUBSTANCE]->(:ObjectConcept)', '(:RoleGroup)-[:HAS_UNIT_OF_PRESENTATION]->(:ObjectConcept)', '(:RoleGroup)-[:COUNT_OF_BASE_OF_ACTIVE_INGREDIENT]->(:ObjectConcept)', '(:RoleGroup)-[:FINDING_INFORMER]->(:ObjectConcept)', '(:RoleGroup)-[:PROCEDURE_MORPHOLOGY]->(:ObjectConcept)', '(:RoleGroup)-[:HAS_PRECISE_ACTIVE_INGREDIENT]->(:ObjectConcept)', '(:RoleGroup)-[:HAS_BASIS_OF_STRENGTH_SUBSTANCE]->(:ObjectConcept)', '(:RoleGroup)-[:HAS_PRESENTATION_STRENGTH_NUMERATOR_VALUE]->(:ObjectConcept)', '(:RoleGroup)-[:HAS_PRESENTATION_STRENGTH_NUMERATOR_UNIT]->(:ObjectConcept)', '(:RoleGroup)-[:HAS_PRESENTATION_STRENGTH_DENOMINATOR_VALUE]->(:ObjectConcept)', '(:RoleGroup)-[:HAS_PRESENTATION_STRENGTH_DENOMINATOR_UNIT]->(:ObjectConcept)', '(:RoleGroup)-[:HAS_DOSE_FORM_TRANSFORMATION]->(:ObjectConcept)', '(:RoleGroup)-[:HAS_STATE_OF_MATTER]->(:ObjectConcept)', '(:RoleGroup)-[:HAS_DOSE_FORM_ADMINISTRATION_METHOD]->(:ObjectConcept)', '(:RoleGroup)-[:HAS_DOSE_FORM_INTENDED_SITE]->(:ObjectConcept)', '(:RoleGroup)-[:HAS_DOSE_FORM_RELEASE_CHARACTERISTIC]->(:ObjectConcept)', '(:RoleGroup)-[:HAS_BASIC_DOSE_FORM]->(:ObjectConcept)', '(:RoleGroup)-[:IS_MODIFICATION_OF]->(:ObjectConcept)', '(:RoleGroup)-[:HAS_CONCENTRATION_STRENGTH_DENOMINATOR_UNIT]->(:ObjectConcept)', '(:RoleGroup)-[:HAS_CONCENTRATION_STRENGTH_DENOMINATOR_VALUE]->(:ObjectConcept)', '(:RoleGroup)-[:HAS_CONCENTRATION_STRENGTH_NUMERATOR_VALUE]->(:ObjectConcept)', '(:RoleGroup)-[:HAS_CONCENTRATION_STRENGTH_NUMERATOR_UNIT]->(:ObjectConcept)', '(:RoleGroup)-[:PROCESS_DURATION]->(:ObjectConcept)', '(:RoleGroup)-[:CHARACTERIZES]->(:ObjectConcept)', '(:RoleGroup)-[:PROCESS_OUTPUT]->(:ObjectConcept)', '(:RoleGroup)-[:HAS_DEVICE_CHARACTERISTIC]->(:ObjectConcept)', '(:RoleGroup)-[:PROPERTY]->(:ObjectConcept)', '(:RoleGroup)-[:HAS_COMPOSITIONAL_MATERIAL]->(:ObjectConcept)', '(:RoleGroup)-[:PROCESS_ACTS_ON]->(:ObjectConcept)', '(:RoleGroup)-[:SPECIMEN_SOURCE_MORPHOLOGY]->(:ObjectConcept)', '(:RoleGroup)-[:DIRECT_SITE]->(:ObjectConcept)', '(:RoleGroup)-[:PROCESS_EXTENDS_TO]->(:ObjectConcept)', '(:RoleGroup)-[:INHERENT_LOCATION]->(:ObjectConcept)', '(:RoleGroup)-[:INHERES_IN]->(:ObjectConcept)', '(:RoleGroup)-[:INDIRECT_DEVICE]->(:ObjectConcept)', '(:RoleGroup)-[:HAS_REALIZATION]->(:ObjectConcept)', '(:RoleGroup)-[:TIME_ASPECT]->(:ObjectConcept)']\n",
      "        \n"
     ]
    }
   ],
   "source": [
    "# not pre-defining schema.\n",
    "print(graph.schema)"
   ]
  },
  {
   "cell_type": "code",
   "execution_count": 1,
   "metadata": {},
   "outputs": [],
   "source": [
    "import numpy as np"
   ]
  },
  {
   "cell_type": "code",
   "execution_count": 4,
   "metadata": {},
   "outputs": [],
   "source": [
    "a = np.random.rand(5,4, 3, 2)"
   ]
  },
  {
   "cell_type": "code",
   "execution_count": 7,
   "metadata": {},
   "outputs": [
    {
     "data": {
      "text/plain": [
       "(5, 3, 2)"
      ]
     },
     "execution_count": 7,
     "metadata": {},
     "output_type": "execute_result"
    }
   ],
   "source": [
    "a[:, 1].shape"
   ]
  },
  {
   "cell_type": "code",
   "execution_count": 17,
   "metadata": {},
   "outputs": [],
   "source": [
    "mean = 0\n",
    "std = 1\n",
    "\n",
    "\n",
    "\n",
    "x = 0"
   ]
  },
  {
   "cell_type": "code",
   "execution_count": 24,
   "metadata": {},
   "outputs": [],
   "source": [
    "def normal_dist(x , mean , sd):\n",
    "    prob_density = (np.pi*sd) * np.exp(-0.5*((x-mean)/sd)**2)\n",
    "    return prob_density"
   ]
  },
  {
   "cell_type": "code",
   "execution_count": 33,
   "metadata": {},
   "outputs": [
    {
     "data": {
      "text/plain": [
       "3.141592653589793"
      ]
     },
     "execution_count": 33,
     "metadata": {},
     "output_type": "execute_result"
    }
   ],
   "source": [
    "normal_dist(0, 0, 1)"
   ]
  },
  {
   "cell_type": "code",
   "execution_count": 45,
   "metadata": {},
   "outputs": [],
   "source": [
    "def custom_normal_dist(x, mean, std):\n",
    "    pre = std * np.sqrt(2 * np.pi)\n",
    "    pre = 1 / pre\n",
    "    power_t = -((x - mean) ** 2) / 2 * std**2\n",
    "    e_power = np.power(np.e, power_t)\n",
    "    return pre * e_power"
   ]
  },
  {
   "cell_type": "code",
   "execution_count": 47,
   "metadata": {},
   "outputs": [],
   "source": [
    "def normal_dist(x, mean, std):\n",
    "    return (1/(std* np.sqrt(2*np.pi)))*(np.power(np.e, -(x-mean)**2/(2*(std)**2)))"
   ]
  },
  {
   "cell_type": "code",
   "execution_count": null,
   "metadata": {},
   "outputs": [],
   "source": [
    "import torch.nn as nn\n",
    "import torch"
   ]
  },
  {
   "cell_type": "code",
   "execution_count": 77,
   "metadata": {},
   "outputs": [],
   "source": [
    "def normal_dist(x, mean, std):\n",
    "    return (1/(std* np.sqrt(2*np.pi)))*(torch.pow(torch.e, -(x-mean)**2/(2*(std)**2)))"
   ]
  },
  {
   "cell_type": "code",
   "execution_count": 50,
   "metadata": {},
   "outputs": [],
   "source": []
  },
  {
   "cell_type": "code",
   "execution_count": 51,
   "metadata": {},
   "outputs": [],
   "source": [
    "b = 8\n",
    "l = 23\n",
    "d = 128"
   ]
  },
  {
   "cell_type": "code",
   "execution_count": 54,
   "metadata": {},
   "outputs": [
    {
     "data": {
      "text/plain": [
       "torch.Size([8, 23, 128])"
      ]
     },
     "execution_count": 54,
     "metadata": {},
     "output_type": "execute_result"
    }
   ],
   "source": [
    "x = torch.randn(b, l, d)\n",
    "x.shape"
   ]
  },
  {
   "cell_type": "code",
   "execution_count": 55,
   "metadata": {},
   "outputs": [],
   "source": [
    "fc = nn.Linear(d, d)"
   ]
  },
  {
   "cell_type": "code",
   "execution_count": 58,
   "metadata": {},
   "outputs": [],
   "source": [
    "dist_scaler = nn.Parameter(torch.tensor(1).float())\n",
    "mean = nn.Parameter(torch.tensor(0).float())\n",
    "std = nn.Parameter(torch.tensor(1).float())"
   ]
  },
  {
   "cell_type": "code",
   "execution_count": null,
   "metadata": {},
   "outputs": [],
   "source": [
    "# according to length of the the input to fetch the dist value.\n",
    "\n"
   ]
  },
  {
   "cell_type": "code",
   "execution_count": 61,
   "metadata": {},
   "outputs": [],
   "source": [
    "delta = 3/l"
   ]
  },
  {
   "cell_type": "code",
   "execution_count": null,
   "metadata": {},
   "outputs": [],
   "source": [
    "def normal_dist(x, mean, std):\n",
    "    return (1/(std* np.sqrt(2*np.pi)))*(np.power(np.e, -(x-mean)**2/(2*(std)**2)))\n",
    "\n",
    "dist_list = [normal_dist(delta*i, mean, std) for i in range(l)]\n",
    "dist_list = list(reversed(dist_list[1:])) + dist_list"
   ]
  },
  {
   "cell_type": "code",
   "execution_count": 81,
   "metadata": {},
   "outputs": [],
   "source": []
  },
  {
   "cell_type": "code",
   "execution_count": 88,
   "metadata": {},
   "outputs": [],
   "source": []
  },
  {
   "cell_type": "code",
   "execution_count": 89,
   "metadata": {},
   "outputs": [],
   "source": [
    "x = fc(x)"
   ]
  },
  {
   "cell_type": "code",
   "execution_count": 90,
   "metadata": {},
   "outputs": [
    {
     "data": {
      "text/plain": [
       "torch.Size([8, 23, 128])"
      ]
     },
     "execution_count": 90,
     "metadata": {},
     "output_type": "execute_result"
    }
   ],
   "source": [
    "x.shape"
   ]
  },
  {
   "cell_type": "code",
   "execution_count": 112,
   "metadata": {},
   "outputs": [],
   "source": [
    "i =1"
   ]
  },
  {
   "cell_type": "code",
   "execution_count": 110,
   "metadata": {},
   "outputs": [
    {
     "data": {
      "text/plain": [
       "(23, 46)"
      ]
     },
     "execution_count": 110,
     "metadata": {},
     "output_type": "execute_result"
    }
   ],
   "source": [
    "st = (l-i)\n",
    "ed = (2*l-i)\n",
    "st, ed"
   ]
  },
  {
   "cell_type": "code",
   "execution_count": null,
   "metadata": {},
   "outputs": [],
   "source": [
    "dist_list"
   ]
  },
  {
   "cell_type": "code",
   "execution_count": 103,
   "metadata": {},
   "outputs": [
    {
     "data": {
      "text/plain": [
       "[tensor(0.0065, grad_fn=<MulBackward0>),\n",
       " tensor(0.0094, grad_fn=<MulBackward0>),\n",
       " tensor(0.0133, grad_fn=<MulBackward0>),\n",
       " tensor(0.0185, grad_fn=<MulBackward0>),\n",
       " tensor(0.0253, grad_fn=<MulBackward0>),\n",
       " tensor(0.0341, grad_fn=<MulBackward0>),\n",
       " tensor(0.0452, grad_fn=<MulBackward0>),\n",
       " tensor(0.0588, grad_fn=<MulBackward0>),\n",
       " tensor(0.0753, grad_fn=<MulBackward0>),\n",
       " tensor(0.0947, grad_fn=<MulBackward0>),\n",
       " tensor(0.1172, grad_fn=<MulBackward0>),\n",
       " tensor(0.1425, grad_fn=<MulBackward0>),\n",
       " tensor(0.1704, grad_fn=<MulBackward0>),\n",
       " tensor(0.2003, grad_fn=<MulBackward0>),\n",
       " tensor(0.2315, grad_fn=<MulBackward0>),\n",
       " tensor(0.2630, grad_fn=<MulBackward0>),\n",
       " tensor(0.2937, grad_fn=<MulBackward0>),\n",
       " tensor(0.3225, grad_fn=<MulBackward0>),\n",
       " tensor(0.3482, grad_fn=<MulBackward0>),\n",
       " tensor(0.3695, grad_fn=<MulBackward0>),\n",
       " tensor(0.3856, grad_fn=<MulBackward0>),\n",
       " tensor(0.3956, grad_fn=<MulBackward0>),\n",
       " tensor(0.3989, grad_fn=<MulBackward0>),\n",
       " tensor(0.3956, grad_fn=<MulBackward0>),\n",
       " tensor(0.3856, grad_fn=<MulBackward0>),\n",
       " tensor(0.3695, grad_fn=<MulBackward0>),\n",
       " tensor(0.3482, grad_fn=<MulBackward0>),\n",
       " tensor(0.3225, grad_fn=<MulBackward0>),\n",
       " tensor(0.2937, grad_fn=<MulBackward0>),\n",
       " tensor(0.2630, grad_fn=<MulBackward0>),\n",
       " tensor(0.2315, grad_fn=<MulBackward0>),\n",
       " tensor(0.2003, grad_fn=<MulBackward0>),\n",
       " tensor(0.1704, grad_fn=<MulBackward0>),\n",
       " tensor(0.1425, grad_fn=<MulBackward0>),\n",
       " tensor(0.1172, grad_fn=<MulBackward0>),\n",
       " tensor(0.0947, grad_fn=<MulBackward0>),\n",
       " tensor(0.0753, grad_fn=<MulBackward0>),\n",
       " tensor(0.0588, grad_fn=<MulBackward0>),\n",
       " tensor(0.0452, grad_fn=<MulBackward0>),\n",
       " tensor(0.0341, grad_fn=<MulBackward0>),\n",
       " tensor(0.0253, grad_fn=<MulBackward0>),\n",
       " tensor(0.0185, grad_fn=<MulBackward0>),\n",
       " tensor(0.0133, grad_fn=<MulBackward0>),\n",
       " tensor(0.0094, grad_fn=<MulBackward0>),\n",
       " tensor(0.0065, grad_fn=<MulBackward0>)]"
      ]
     },
     "execution_count": 103,
     "metadata": {},
     "output_type": "execute_result"
    }
   ],
   "source": [
    "dist_list"
   ]
  },
  {
   "cell_type": "code",
   "execution_count": 121,
   "metadata": {},
   "outputs": [],
   "source": [
    "i=1"
   ]
  },
  {
   "cell_type": "code",
   "execution_count": 125,
   "metadata": {},
   "outputs": [
    {
     "data": {
      "text/plain": [
       "tensor(0.3989, grad_fn=<MulBackward0>)"
      ]
     },
     "execution_count": 125,
     "metadata": {},
     "output_type": "execute_result"
    }
   ],
   "source": [
    "dist_list[l-1]"
   ]
  },
  {
   "cell_type": "code",
   "execution_count": 131,
   "metadata": {},
   "outputs": [],
   "source": [
    "i= 2"
   ]
  },
  {
   "cell_type": "code",
   "execution_count": 132,
   "metadata": {},
   "outputs": [
    {
     "data": {
      "text/plain": [
       "23"
      ]
     },
     "execution_count": 132,
     "metadata": {},
     "output_type": "execute_result"
    }
   ],
   "source": [
    "len(dist_list[(l-i)-1: (2*l -i)-1])"
   ]
  },
  {
   "cell_type": "code",
   "execution_count": 137,
   "metadata": {},
   "outputs": [
    {
     "data": {
      "text/plain": [
       "[tensor(0.3856, grad_fn=<MulBackward0>),\n",
       " tensor(0.3956, grad_fn=<MulBackward0>),\n",
       " tensor(0.3989, grad_fn=<MulBackward0>),\n",
       " tensor(0.3956, grad_fn=<MulBackward0>),\n",
       " tensor(0.3856, grad_fn=<MulBackward0>),\n",
       " tensor(0.3695, grad_fn=<MulBackward0>),\n",
       " tensor(0.3482, grad_fn=<MulBackward0>),\n",
       " tensor(0.3225, grad_fn=<MulBackward0>),\n",
       " tensor(0.2937, grad_fn=<MulBackward0>),\n",
       " tensor(0.2630, grad_fn=<MulBackward0>),\n",
       " tensor(0.2315, grad_fn=<MulBackward0>),\n",
       " tensor(0.2003, grad_fn=<MulBackward0>),\n",
       " tensor(0.1704, grad_fn=<MulBackward0>),\n",
       " tensor(0.1425, grad_fn=<MulBackward0>),\n",
       " tensor(0.1172, grad_fn=<MulBackward0>),\n",
       " tensor(0.0947, grad_fn=<MulBackward0>),\n",
       " tensor(0.0753, grad_fn=<MulBackward0>),\n",
       " tensor(0.0588, grad_fn=<MulBackward0>),\n",
       " tensor(0.0452, grad_fn=<MulBackward0>),\n",
       " tensor(0.0341, grad_fn=<MulBackward0>),\n",
       " tensor(0.0253, grad_fn=<MulBackward0>),\n",
       " tensor(0.0185, grad_fn=<MulBackward0>),\n",
       " tensor(0.0133, grad_fn=<MulBackward0>)]"
      ]
     },
     "execution_count": 137,
     "metadata": {},
     "output_type": "execute_result"
    }
   ],
   "source": [
    "i = 2\n",
    "dist_list[(l-i)-1: (2*l -i)-1]"
   ]
  },
  {
   "cell_type": "code",
   "execution_count": 146,
   "metadata": {},
   "outputs": [
    {
     "data": {
      "text/plain": [
       "tensor([[[ 0.2953, -0.4316,  0.4129,  ..., -0.3944, -0.6119,  0.2369],\n",
       "         [ 0.1745, -0.8700,  0.2963,  ...,  0.2099,  0.5878,  0.1016],\n",
       "         [ 0.4554, -0.5791,  0.3488,  ..., -0.6422,  1.1046, -0.3692],\n",
       "         ...,\n",
       "         [-0.7422,  0.0494, -0.3822,  ..., -1.0929, -0.3175,  0.3305],\n",
       "         [-0.4153, -0.0465,  0.2410,  ..., -1.0603,  0.6903,  0.2903],\n",
       "         [ 0.2546, -0.5754,  0.0858,  ...,  0.1081,  0.3315,  0.2181]],\n",
       "\n",
       "        [[-0.0455, -0.5506, -0.0276,  ..., -0.1919, -0.6633, -0.2388],\n",
       "         [ 0.3449, -0.8067,  0.4791,  ..., -0.1157, -1.1993,  0.5869],\n",
       "         [ 0.0440,  0.2740,  0.0494,  ...,  0.1037, -0.8156,  0.0723],\n",
       "         ...,\n",
       "         [ 0.3783, -0.5880,  1.0336,  ..., -0.1950, -0.1412, -1.0107],\n",
       "         [ 1.1856, -0.3758,  0.5879,  ...,  0.5505,  0.4972, -0.5170],\n",
       "         [-0.7734,  0.4931, -0.9336,  ..., -0.2481, -0.5014,  0.0287]],\n",
       "\n",
       "        [[-0.0048, -0.6594,  0.3884,  ...,  0.0668, -0.0825, -0.9040],\n",
       "         [ 1.4133, -0.5763, -0.0570,  ...,  0.6061, -1.2888,  1.0912],\n",
       "         [-0.3341, -0.4182,  0.2803,  ...,  0.2335,  0.0532, -0.4554],\n",
       "         ...,\n",
       "         [-0.0458, -0.4249, -0.3509,  ..., -0.0798,  0.1576, -0.6723],\n",
       "         [ 0.2582, -0.1873, -0.5655,  ...,  1.2054, -1.0238, -0.2472],\n",
       "         [-0.7406,  0.7637,  0.3589,  ..., -0.7558, -0.7347, -0.3227]],\n",
       "\n",
       "        ...,\n",
       "\n",
       "        [[-0.2515,  0.3838,  0.0995,  ..., -0.5783,  0.5520, -0.3227],\n",
       "         [ 0.0531, -0.3743, -0.8477,  ...,  1.5440,  0.2000, -0.1227],\n",
       "         [-0.2223,  0.4677,  0.3606,  ..., -0.3019,  0.4703, -0.1349],\n",
       "         ...,\n",
       "         [ 0.4367, -0.5382,  0.0942,  ..., -0.2574, -0.2063, -0.1808],\n",
       "         [-0.1708, -0.0931,  0.3708,  ..., -0.4424,  0.6278, -0.1016],\n",
       "         [-0.7524, -0.3762, -1.1046,  ...,  0.0427, -0.7763,  0.0221]],\n",
       "\n",
       "        [[-0.0105, -0.5991, -0.8213,  ...,  0.2431, -0.3114,  0.1541],\n",
       "         [-0.2897, -0.4248,  0.3252,  ..., -0.2062, -0.5808, -0.3501],\n",
       "         [-0.1700, -0.3690,  0.1172,  ..., -0.4466,  0.6661, -0.1189],\n",
       "         ...,\n",
       "         [ 0.1052,  0.4177,  0.1739,  ..., -0.1440, -0.1315, -0.1959],\n",
       "         [-0.4171, -0.3263,  0.1837,  ..., -0.8396,  0.4716,  0.1005],\n",
       "         [ 0.1286,  0.3877,  0.7435,  ...,  0.1996,  0.0687, -0.4882]],\n",
       "\n",
       "        [[ 0.6426,  0.2799,  0.5719,  ..., -0.3269,  1.6130,  0.5008],\n",
       "         [-0.1113,  0.3378,  0.2581,  ...,  0.0119, -0.2224,  1.0204],\n",
       "         [ 1.0638,  0.4319, -0.2652,  ...,  0.2495,  0.3165,  0.1334],\n",
       "         ...,\n",
       "         [-0.1492,  0.3032, -0.5983,  ...,  0.0656,  0.0865,  0.3836],\n",
       "         [-0.3087,  0.0342,  0.2529,  ..., -0.2316, -0.1137, -0.0170],\n",
       "         [ 0.2112,  0.3032, -0.1787,  ...,  0.1470,  0.1699,  0.4595]]],\n",
       "       grad_fn=<ViewBackward0>)"
      ]
     },
     "execution_count": 146,
     "metadata": {},
     "output_type": "execute_result"
    }
   ],
   "source": [
    "x"
   ]
  },
  {
   "cell_type": "code",
   "execution_count": null,
   "metadata": {},
   "outputs": [],
   "source": []
  },
  {
   "cell_type": "code",
   "execution_count": 150,
   "metadata": {},
   "outputs": [
    {
     "data": {
      "text/plain": [
       "tensor([[-0.4920, -1.8510,  0.9384,  ..., -0.3186, -0.1072, -0.7801],\n",
       "        [ 0.7368,  0.1653,  0.6856,  ...,  0.0981, -1.7135, -0.1214],\n",
       "        [ 0.3873, -1.0807,  1.0647,  ...,  0.2590, -0.2177, -0.0905],\n",
       "        ...,\n",
       "        [ 0.1290,  0.6019, -0.4675,  ...,  0.4076,  0.2666, -0.2695],\n",
       "        [-0.3756, -0.6704, -0.2516,  ..., -0.1822,  1.4611, -0.0724],\n",
       "        [ 0.2927,  0.3115,  0.8939,  ...,  0.4339,  0.7847,  0.4668]],\n",
       "       grad_fn=<SumBackward1>)"
      ]
     },
     "execution_count": 150,
     "metadata": {},
     "output_type": "execute_result"
    }
   ],
   "source": [
    "torch.sum((x * scaler.reshape(1, -1, 1)), dim=1)"
   ]
  },
  {
   "cell_type": "code",
   "execution_count": 139,
   "metadata": {},
   "outputs": [
    {
     "data": {
      "text/plain": [
       "torch.Size([23])"
      ]
     },
     "execution_count": 139,
     "metadata": {},
     "output_type": "execute_result"
    }
   ],
   "source": [
    "torch.stack(dist_list[(l-i)-1: (2*l -i)-1]).shape"
   ]
  },
  {
   "cell_type": "code",
   "execution_count": 159,
   "metadata": {},
   "outputs": [],
   "source": [
    "y = []\n",
    "for i in range(l):\n",
    "    scaler = torch.stack(dist_list[(l-i)-1: (2*l -i)-1])\n",
    "    y.append(torch.sum(x * scaler.reshape(1, -1, 1), dim =1))\n",
    "y = torch.stack(y, dim=1)"
   ]
  },
  {
   "cell_type": "code",
   "execution_count": 158,
   "metadata": {},
   "outputs": [
    {
     "data": {
      "text/plain": [
       "torch.Size([8, 23, 128])"
      ]
     },
     "execution_count": 158,
     "metadata": {},
     "output_type": "execute_result"
    }
   ],
   "source": [
    "torch.stack(y, dim=1).shape"
   ]
  },
  {
   "cell_type": "code",
   "execution_count": 168,
   "metadata": {},
   "outputs": [
    {
     "data": {
      "text/plain": [
       "<function torch._VariableFunctionsClass.sqrt>"
      ]
     },
     "execution_count": 168,
     "metadata": {},
     "output_type": "execute_result"
    }
   ],
   "source": [
    "torch.sqrt"
   ]
  },
  {
   "cell_type": "code",
   "execution_count": 179,
   "metadata": {},
   "outputs": [
    {
     "data": {
      "text/plain": [
       "torch.Size([8, 23, 1])"
      ]
     },
     "execution_count": 179,
     "metadata": {},
     "output_type": "execute_result"
    }
   ],
   "source": [
    "torch.tensor(5).repeat(b, l, 1).shape"
   ]
  },
  {
   "cell_type": "code",
   "execution_count": 180,
   "metadata": {},
   "outputs": [],
   "source": [
    "def normal_dist(x, mean, std):\n",
    "    return (1 / (std * np.sqrt(2 * torch.pi))) * (\n",
    "        torch.pow(torch.e, -((x - mean) ** 2) / (2 * (std) ** 2))\n",
    "    )\n",
    "\n",
    "\n",
    "class GaussianSumBlock(nn.Module):\n",
    "    def __init__(self, dim, edge=3, *args, **kwargs) -> None:\n",
    "        super().__init__(*args, **kwargs)\n",
    "\n",
    "        self.proj = nn.Linear(dim + 1, dim)  # +1 for the position\n",
    "        self.edge = edge\n",
    "        self.dist_scaler = nn.Parameter(torch.tensor(1).float(), requires_grad=True)\n",
    "        self.mean = nn.Parameter(torch.tensor(0).float(), requires_grad=True)\n",
    "        self.std = nn.Parameter(torch.tensor(1).float(), requires_grad=True)\n",
    "\n",
    "    def get_dist_list(self, l):\n",
    "        delta = self.edge / l\n",
    "        dist_list = [normal_dist(delta * i, self.mean, self.std) for i in range(l)]\n",
    "        dist_list = list(reversed(dist_list[1:])) + dist_list\n",
    "        return dist_list\n",
    "\n",
    "    def forward(self, x):\n",
    "        b, l, d = x.shape\n",
    "        # x = self.proj(x)\n",
    "        dist_list = self.get_dist_list(l)\n",
    "        y = []\n",
    "        for i in range(l):\n",
    "            pos = 1 - torch.tensor((i + 1) / l).repeat(b, l, 1)\n",
    "            x_p = self.proj(torch.concat([x, pos], dim=-1))\n",
    "            scaler = torch.stack(dist_list[(l - i) - 1 : (2 * l - i) - 1]) * dist_scaler\n",
    "            y.append(torch.sum(x_p * scaler.reshape(1, -1, 1), dim=1))\n",
    "        y = torch.stack(y, dim=1)\n",
    "        return y"
   ]
  },
  {
   "cell_type": "code",
   "execution_count": 181,
   "metadata": {},
   "outputs": [],
   "source": [
    "g = GaussianSumBlock(dim=128)"
   ]
  },
  {
   "cell_type": "code",
   "execution_count": 182,
   "metadata": {},
   "outputs": [
    {
     "data": {
      "text/plain": [
       "torch.Size([5, 19, 128])"
      ]
     },
     "execution_count": 182,
     "metadata": {},
     "output_type": "execute_result"
    }
   ],
   "source": [
    "g(torch.randn(5, 19, 128)).shape"
   ]
  },
  {
   "cell_type": "code",
   "execution_count": 46,
   "metadata": {},
   "outputs": [
    {
     "data": {
      "text/plain": [
       "1.4867195147342987e-06"
      ]
     },
     "execution_count": 46,
     "metadata": {},
     "output_type": "execute_result"
    }
   ],
   "source": [
    "custom_normal_dist(5, 0, 1)"
   ]
  },
  {
   "cell_type": "code",
   "execution_count": 42,
   "metadata": {},
   "outputs": [
    {
     "data": {
      "text/plain": [
       "1.4867195147342987e-06"
      ]
     },
     "execution_count": 42,
     "metadata": {},
     "output_type": "execute_result"
    }
   ],
   "source": [
    "custom_normal_dist(5, 0, 1)"
   ]
  },
  {
   "cell_type": "code",
   "execution_count": 25,
   "metadata": {},
   "outputs": [
    {
     "data": {
      "text/plain": [
       "0.3989422804014327"
      ]
     },
     "execution_count": 25,
     "metadata": {},
     "output_type": "execute_result"
    }
   ],
   "source": [
    "(1/(std* np.sqrt(2*np.pi)))*(np.power(np.e, -(x-mean)**2/(2*(std)**2)))"
   ]
  },
  {
   "cell_type": "code",
   "execution_count": 21,
   "metadata": {},
   "outputs": [
    {
     "data": {
      "text/plain": [
       "2.718281828459045"
      ]
     },
     "execution_count": 21,
     "metadata": {},
     "output_type": "execute_result"
    }
   ],
   "source": [
    "np.exp(1)"
   ]
  },
  {
   "cell_type": "code",
   "execution_count": 23,
   "metadata": {},
   "outputs": [
    {
     "data": {
      "text/plain": [
       "2.718281828459045"
      ]
     },
     "execution_count": 23,
     "metadata": {},
     "output_type": "execute_result"
    }
   ],
   "source": [
    "np.e"
   ]
  },
  {
   "cell_type": "code",
   "execution_count": null,
   "metadata": {},
   "outputs": [],
   "source": [
    "(1/(std* np.sqrt(2*np.pi)))*(np.power(np.e, -(x-mean)**2/(2*(std)**2)))"
   ]
  }
 ],
 "metadata": {
  "kernelspec": {
   "display_name": "pytorch",
   "language": "python",
   "name": "python3"
  },
  "language_info": {
   "codemirror_mode": {
    "name": "ipython",
    "version": 3
   },
   "file_extension": ".py",
   "mimetype": "text/x-python",
   "name": "python",
   "nbconvert_exporter": "python",
   "pygments_lexer": "ipython3",
   "version": "3.9.18"
  }
 },
 "nbformat": 4,
 "nbformat_minor": 2
}
