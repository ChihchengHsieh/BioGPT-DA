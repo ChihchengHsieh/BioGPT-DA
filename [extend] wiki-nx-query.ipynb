{
 "cells": [
  {
   "cell_type": "code",
   "execution_count": 1,
   "metadata": {},
   "outputs": [],
   "source": [
    "import re\n",
    "import os\n",
    "from langchain.vectorstores.neo4j_vector import Neo4jVector\n",
    "from langchain.document_loaders import WikipediaLoader\n",
    "from langchain.embeddings.openai import OpenAIEmbeddings\n",
    "from langchain.text_splitter import (\n",
    "    CharacterTextSplitter,\n",
    "    RecursiveCharacterTextSplitter,\n",
    ")\n",
    "from transformers import AutoModelForSeq2SeqLM, AutoTokenizer\n",
    "from langchain.text_splitter import TokenTextSplitter\n",
    "\n",
    "from secret import *\n",
    "import chromadb\n",
    "\n",
    "os.environ[\"OPENAI_API_KEY\"] = OPENAI_API_KEY"
   ]
  },
  {
   "cell_type": "code",
   "execution_count": 2,
   "metadata": {},
   "outputs": [],
   "source": [
    "raw_documents = WikipediaLoader(query=\"Atelectasis\").load()\n",
    "text_splitter = TokenTextSplitter(chunk_size=2048, chunk_overlap=24)\n",
    "documents = text_splitter.split_documents(raw_documents) # should I only take the first? which is the most relevant?"
   ]
  },
  {
   "cell_type": "code",
   "execution_count": 4,
   "metadata": {},
   "outputs": [],
   "source": [
    "from langchain.indexes import GraphIndexCreator\n",
    "from langchain.graphs.networkx_graph import KnowledgeTriple\n",
    "from langchain.llms import OpenAI"
   ]
  },
  {
   "cell_type": "code",
   "execution_count": 5,
   "metadata": {},
   "outputs": [],
   "source": [
    "index_creator = GraphIndexCreator(llm=OpenAI(temperature=0))"
   ]
  },
  {
   "cell_type": "code",
   "execution_count": 6,
   "metadata": {},
   "outputs": [],
   "source": [
    "graph = None\n",
    "for d in documents:\n",
    "    g_temp = index_creator.from_text(d.page_content)\n",
    "    if graph is None:\n",
    "        graph = g_temp\n",
    "    else:\n",
    "        triplets = graph.get_triples()\n",
    "        for t in triplets:\n",
    "            graph.add_triple(knowledge_triple=KnowledgeTriple(*t))"
   ]
  },
  {
   "cell_type": "code",
   "execution_count": 10,
   "metadata": {},
   "outputs": [],
   "source": [
    "from langchain.chains import GraphQAChain"
   ]
  },
  {
   "cell_type": "code",
   "execution_count": 11,
   "metadata": {},
   "outputs": [],
   "source": [
    "chain = GraphQAChain.from_llm(OpenAI(temperature=0), graph=graph, verbose=True)"
   ]
  },
  {
   "cell_type": "code",
   "execution_count": 13,
   "metadata": {},
   "outputs": [
    {
     "name": "stdout",
     "output_type": "stream",
     "text": [
      "\n",
      "\n",
      "\u001b[1m> Entering new GraphQAChain chain...\u001b[0m\n",
      "Entities Extracted:\n",
      "\u001b[32;1m\u001b[1;3m Atelectasis\u001b[0m\n",
      "Full Context:\n",
      "\u001b[32;1m\u001b[1;3mAtelectasis is the collapse or closure of a lung\n",
      "Atelectasis is usually unilateral\n",
      "Atelectasis is a condition where the alveoli are deflated down to little or no volume\n",
      "Atelectasis is often called a collapsed lung\n",
      "Atelectasis is not synonymous with a pneumothorax\n",
      "Atelectasis may occur as a post-operative complication or as a result of surfactant deficiency\n",
      "Atelectasis leads to infant respiratory distress syndrome\n",
      "Atelectasis is caused by normal exhalation\n",
      "Atelectasis is caused by various medical conditions\n",
      "Atelectasis is associated with post-op fever\n",
      "Atelectasis a lung is the collapse or closure of\n",
      "Atelectasis unilateral is usually\n",
      "Atelectasis the alveoli are deflated down to little or no volume is a condition where\n",
      "Atelectasis a collapsed lung is often called\n",
      "Atelectasis a pneumothorax is not synonymous with\n",
      "Atelectasis or as a result of surfactant deficiency may occur as a post-operative complication\n",
      "Atelectasis infant respiratory distress syndrome leads to\n",
      "Atelectasis various medical conditions is caused by\n",
      "Atelectasis post-op fever is associated with\u001b[0m\n",
      "\n",
      "\u001b[1m> Finished chain.\u001b[0m\n"
     ]
    },
    {
     "data": {
      "text/plain": [
       "' Atelectasis is the collapse or closure of a lung, where the alveoli are deflated down to little or no volume. It is usually unilateral and is often called a collapsed lung. It is not synonymous with a pneumothorax and may occur as a post-operative complication or as a result of surfactant deficiency. It can lead to infant respiratory distress syndrome and is caused by various medical conditions, including post-op fever.'"
      ]
     },
     "execution_count": 13,
     "metadata": {},
     "output_type": "execute_result"
    }
   ],
   "source": [
    "chain.run(\"What is Atelectasis?\")"
   ]
  },
  {
   "cell_type": "code",
   "execution_count": 12,
   "metadata": {},
   "outputs": [
    {
     "name": "stdout",
     "output_type": "stream",
     "text": [
      "\n",
      "\n",
      "\u001b[1m> Entering new GraphQAChain chain...\u001b[0m\n",
      "Entities Extracted:\n",
      "\u001b[32;1m\u001b[1;3m Atelectasis\u001b[0m\n",
      "Full Context:\n",
      "\u001b[32;1m\u001b[1;3mAtelectasis is the collapse or closure of a lung\n",
      "Atelectasis is usually unilateral\n",
      "Atelectasis is a condition where the alveoli are deflated down to little or no volume\n",
      "Atelectasis is often called a collapsed lung\n",
      "Atelectasis is not synonymous with a pneumothorax\n",
      "Atelectasis may occur as a post-operative complication or as a result of surfactant deficiency\n",
      "Atelectasis leads to infant respiratory distress syndrome\n",
      "Atelectasis is caused by normal exhalation\n",
      "Atelectasis is caused by various medical conditions\n",
      "Atelectasis is associated with post-op fever\n",
      "Atelectasis a lung is the collapse or closure of\n",
      "Atelectasis unilateral is usually\n",
      "Atelectasis the alveoli are deflated down to little or no volume is a condition where\n",
      "Atelectasis a collapsed lung is often called\n",
      "Atelectasis a pneumothorax is not synonymous with\n",
      "Atelectasis or as a result of surfactant deficiency may occur as a post-operative complication\n",
      "Atelectasis infant respiratory distress syndrome leads to\n",
      "Atelectasis various medical conditions is caused by\n",
      "Atelectasis post-op fever is associated with\u001b[0m\n",
      "\n",
      "\u001b[1m> Finished chain.\u001b[0m\n"
     ]
    },
    {
     "data": {
      "text/plain": [
       "' Symptoms of Atelectasis include shortness of breath, chest pain, coughing, and difficulty breathing.'"
      ]
     },
     "execution_count": 12,
     "metadata": {},
     "output_type": "execute_result"
    }
   ],
   "source": [
    "chain.run(\"What are the symptoms of Atelectasis?\")"
   ]
  },
  {
   "cell_type": "code",
   "execution_count": 14,
   "metadata": {},
   "outputs": [
    {
     "name": "stdout",
     "output_type": "stream",
     "text": [
      "\n",
      "\n",
      "\u001b[1m> Entering new GraphQAChain chain...\u001b[0m\n",
      "Entities Extracted:\n",
      "\u001b[32;1m\u001b[1;3m Atelectasis\u001b[0m\n",
      "Full Context:\n",
      "\u001b[32;1m\u001b[1;3mAtelectasis is the collapse or closure of a lung\n",
      "Atelectasis is usually unilateral\n",
      "Atelectasis is a condition where the alveoli are deflated down to little or no volume\n",
      "Atelectasis is often called a collapsed lung\n",
      "Atelectasis is not synonymous with a pneumothorax\n",
      "Atelectasis may occur as a post-operative complication or as a result of surfactant deficiency\n",
      "Atelectasis leads to infant respiratory distress syndrome\n",
      "Atelectasis is caused by normal exhalation\n",
      "Atelectasis is caused by various medical conditions\n",
      "Atelectasis is associated with post-op fever\n",
      "Atelectasis a lung is the collapse or closure of\n",
      "Atelectasis unilateral is usually\n",
      "Atelectasis the alveoli are deflated down to little or no volume is a condition where\n",
      "Atelectasis a collapsed lung is often called\n",
      "Atelectasis a pneumothorax is not synonymous with\n",
      "Atelectasis or as a result of surfactant deficiency may occur as a post-operative complication\n",
      "Atelectasis infant respiratory distress syndrome leads to\n",
      "Atelectasis various medical conditions is caused by\n",
      "Atelectasis post-op fever is associated with\u001b[0m\n",
      "\n",
      "\u001b[1m> Finished chain.\u001b[0m\n"
     ]
    },
    {
     "data": {
      "text/plain": [
       "' Atelectasis can be caused by normal exhalation, various medical conditions, and as a result of surfactant deficiency. It can also be a post-operative complication or lead to infant respiratory distress syndrome.'"
      ]
     },
     "execution_count": 14,
     "metadata": {},
     "output_type": "execute_result"
    }
   ],
   "source": [
    "chain.run(\"What can cause Atelectasis?\")"
   ]
  },
  {
   "cell_type": "code",
   "execution_count": 15,
   "metadata": {},
   "outputs": [
    {
     "name": "stdout",
     "output_type": "stream",
     "text": [
      "\n",
      "\n",
      "\u001b[1m> Entering new GraphQAChain chain...\u001b[0m\n",
      "Entities Extracted:\n",
      "\u001b[32;1m\u001b[1;3m Atelectasis\u001b[0m\n",
      "Full Context:\n",
      "\u001b[32;1m\u001b[1;3mAtelectasis is the collapse or closure of a lung\n",
      "Atelectasis is usually unilateral\n",
      "Atelectasis is a condition where the alveoli are deflated down to little or no volume\n",
      "Atelectasis is often called a collapsed lung\n",
      "Atelectasis is not synonymous with a pneumothorax\n",
      "Atelectasis may occur as a post-operative complication or as a result of surfactant deficiency\n",
      "Atelectasis leads to infant respiratory distress syndrome\n",
      "Atelectasis is caused by normal exhalation\n",
      "Atelectasis is caused by various medical conditions\n",
      "Atelectasis is associated with post-op fever\n",
      "Atelectasis a lung is the collapse or closure of\n",
      "Atelectasis unilateral is usually\n",
      "Atelectasis the alveoli are deflated down to little or no volume is a condition where\n",
      "Atelectasis a collapsed lung is often called\n",
      "Atelectasis a pneumothorax is not synonymous with\n",
      "Atelectasis or as a result of surfactant deficiency may occur as a post-operative complication\n",
      "Atelectasis infant respiratory distress syndrome leads to\n",
      "Atelectasis various medical conditions is caused by\n",
      "Atelectasis post-op fever is associated with\u001b[0m\n",
      "\n",
      "\u001b[1m> Finished chain.\u001b[0m\n"
     ]
    },
    {
     "data": {
      "text/plain": [
       "' Radiologists need to look for signs of collapse or closure of a lung, usually unilateral, with the alveoli deflated down to little or no volume. They should also be aware of the various medical conditions that can cause Atelectasis, as well as post-operative complications and surfactant deficiency. Additionally, they should look for signs of infant respiratory distress syndrome and post-op fever.'"
      ]
     },
     "execution_count": 15,
     "metadata": {},
     "output_type": "execute_result"
    }
   ],
   "source": [
    "chain.run(\"What clinical features radiologists need for diagnosing Atelectasis?\")"
   ]
  },
  {
   "cell_type": "code",
   "execution_count": 16,
   "metadata": {},
   "outputs": [
    {
     "name": "stdout",
     "output_type": "stream",
     "text": [
      "\n",
      "\n",
      "\u001b[1m> Entering new GraphQAChain chain...\u001b[0m\n",
      "Entities Extracted:\n",
      "\u001b[32;1m\u001b[1;3m Atelectasis\u001b[0m\n",
      "Full Context:\n",
      "\u001b[32;1m\u001b[1;3mAtelectasis is the collapse or closure of a lung\n",
      "Atelectasis is usually unilateral\n",
      "Atelectasis is a condition where the alveoli are deflated down to little or no volume\n",
      "Atelectasis is often called a collapsed lung\n",
      "Atelectasis is not synonymous with a pneumothorax\n",
      "Atelectasis may occur as a post-operative complication or as a result of surfactant deficiency\n",
      "Atelectasis leads to infant respiratory distress syndrome\n",
      "Atelectasis is caused by normal exhalation\n",
      "Atelectasis is caused by various medical conditions\n",
      "Atelectasis is associated with post-op fever\n",
      "Atelectasis a lung is the collapse or closure of\n",
      "Atelectasis unilateral is usually\n",
      "Atelectasis the alveoli are deflated down to little or no volume is a condition where\n",
      "Atelectasis a collapsed lung is often called\n",
      "Atelectasis a pneumothorax is not synonymous with\n",
      "Atelectasis or as a result of surfactant deficiency may occur as a post-operative complication\n",
      "Atelectasis infant respiratory distress syndrome leads to\n",
      "Atelectasis various medical conditions is caused by\n",
      "Atelectasis post-op fever is associated with\u001b[0m\n",
      "\n",
      "\u001b[1m> Finished chain.\u001b[0m\n"
     ]
    },
    {
     "data": {
      "text/plain": [
       "' Radiographic features of Atelectasis include decreased lung volume, increased density of the affected area, and air bronchograms.'"
      ]
     },
     "execution_count": 16,
     "metadata": {},
     "output_type": "execute_result"
    }
   ],
   "source": [
    "chain.run(\"what are radiographic features of Atelectasis?\")"
   ]
  },
  {
   "cell_type": "code",
   "execution_count": null,
   "metadata": {},
   "outputs": [],
   "source": []
  }
 ],
 "metadata": {
  "kernelspec": {
   "display_name": "pytorch",
   "language": "python",
   "name": "python3"
  },
  "language_info": {
   "codemirror_mode": {
    "name": "ipython",
    "version": 3
   },
   "file_extension": ".py",
   "mimetype": "text/x-python",
   "name": "python",
   "nbconvert_exporter": "python",
   "pygments_lexer": "ipython3",
   "version": "3.9.18"
  }
 },
 "nbformat": 4,
 "nbformat_minor": 2
}
