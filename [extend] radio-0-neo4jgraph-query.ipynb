{
 "cells": [
  {
   "cell_type": "code",
   "execution_count": 1,
   "metadata": {},
   "outputs": [],
   "source": [
    "import re\n",
    "import os\n",
    "from langchain.vectorstores.neo4j_vector import Neo4jVector\n",
    "from langchain.document_loaders import WikipediaLoader\n",
    "from langchain.embeddings.openai import OpenAIEmbeddings\n",
    "from langchain.text_splitter import (\n",
    "    CharacterTextSplitter,\n",
    "    RecursiveCharacterTextSplitter,\n",
    ")\n",
    "from langchain.graphs import Neo4jGraph\n",
    "from transformers import AutoModelForSeq2SeqLM, AutoTokenizer\n",
    "from langchain.text_splitter import TokenTextSplitter\n",
    "\n",
    "from secret import *\n",
    "import chromadb\n",
    "\n",
    "os.environ[\"OPENAI_API_KEY\"] = OPENAI_API_KEY"
   ]
  },
  {
   "cell_type": "code",
   "execution_count": 2,
   "metadata": {},
   "outputs": [
    {
     "name": "stdout",
     "output_type": "stream",
     "text": [
      "\n",
      "        Node properties are the following:\n",
      "        []\n",
      "        Relationship properties are the following:\n",
      "        []\n",
      "        The relationships are the following:\n",
      "        []\n",
      "        \n"
     ]
    }
   ],
   "source": [
    "graph = Neo4jGraph(url=\"bolt://localhost:7687\", username=\"neo4j\", password=\"test1234\")\n",
    "graph.query(\n",
    "    \"\"\"\n",
    "MATCH (n)\n",
    "DETACH DELETE n\n",
    "\"\"\"\n",
    ")\n",
    "graph.refresh_schema()\n",
    "print(graph.schema)"
   ]
  },
  {
   "cell_type": "code",
   "execution_count": 3,
   "metadata": {},
   "outputs": [
    {
     "data": {
      "text/plain": [
       "['https://radiopaedia.org/articles/atelectasis-summary?lang=gb',\n",
       " 'https://radiopaedia.org/articles/linear-atelectasis?lang=gb',\n",
       " 'https://radiopaedia.org/articles/lung-atelectasis?lang=gb',\n",
       " 'https://radiopaedia.org/articles/subsegmental-atelectasis?lang=gb',\n",
       " 'https://radiopaedia.org/articles/round-atelectasis?lang=gb',\n",
       " 'https://radiopaedia.org/articles/passive-atelectasis-1?lang=gb',\n",
       " 'https://radiopaedia.org/articles/compressive-atelectasis?lang=gb',\n",
       " 'https://radiopaedia.org/articles/cicatrisation-atelectasis?lang=gb',\n",
       " 'https://radiopaedia.org/articles/segmental-atelectasis?lang=gb',\n",
       " 'https://radiopaedia.org/articles/adhesive-atelectasis?lang=gb',\n",
       " 'https://radiopaedia.org/articles/resorptive-obstructive-atelectasis?lang=gb',\n",
       " 'https://radiopaedia.org/articles/chronic-maxillary-atelectasis?lang=gb',\n",
       " 'https://radiopaedia.org/articles/middle-ear-atelectasis?lang=gb',\n",
       " 'https://radiopaedia.org/articles/gravity-dependent-atelectasis-1?lang=gb',\n",
       " 'https://radiopaedia.org/articles/crow-feet-sign-round-atelectasis?lang=gb',\n",
       " 'https://radiopaedia.org/articles/osteophyte-induced-adjacent-pulmonary-atelectasis-and-fibrosis-1?lang=gb',\n",
       " 'https://radiopaedia.org/articles/lobar-lung-collapse?lang=gb',\n",
       " 'https://radiopaedia.org/articles/anectasis?lang=gb',\n",
       " 'https://radiopaedia.org/articles/right-middle-lobe-collapse?lang=gb',\n",
       " 'https://radiopaedia.org/articles/left-lower-lobe-collapse?lang=gb']"
      ]
     },
     "execution_count": 3,
     "metadata": {},
     "output_type": "execute_result"
    }
   ],
   "source": [
    "import logging\n",
    "from urllib.parse import urljoin\n",
    "import requests\n",
    "from bs4 import BeautifulSoup\n",
    "\n",
    "search_query = \"atelectasis\"\n",
    "URL = f\"https://radiopaedia.org/search?lang=gb&q={search_query}&scope=articles\"\n",
    "page = requests.get(URL)\n",
    "soup = BeautifulSoup(page.content, \"html.parser\")\n",
    "radio_address = \"https://radiopaedia.org\"\n",
    "all_address = [\n",
    "    f\"{radio_address}{e['href']}\"\n",
    "    for e in soup.find_all(\"a\", class_=\"search-result search-result-article\")\n",
    "]\n",
    "all_address"
   ]
  },
  {
   "cell_type": "code",
   "execution_count": 4,
   "metadata": {},
   "outputs": [],
   "source": [
    "from langchain.document_loaders import DiffbotLoader\n",
    "\n",
    "raw_documents = DiffbotLoader(\n",
    "    urls=[all_address[0]],\n",
    "    api_token=DIFFBOT_API_TOKEN,\n",
    ").load()\n",
    "text_splitter = TokenTextSplitter(chunk_size=2048, chunk_overlap=24)\n",
    "documents = text_splitter.split_documents(\n",
    "    raw_documents\n",
    ")  # should I only take the first? which is the most relevant?"
   ]
  },
  {
   "cell_type": "code",
   "execution_count": 13,
   "metadata": {},
   "outputs": [
    {
     "data": {
      "text/plain": [
       "1"
      ]
     },
     "execution_count": 13,
     "metadata": {},
     "output_type": "execute_result"
    }
   ],
   "source": []
  },
  {
   "cell_type": "code",
   "execution_count": 5,
   "metadata": {},
   "outputs": [
    {
     "name": "stderr",
     "output_type": "stream",
     "text": [
      "100%|██████████| 1/1 [00:16<00:00, 16.20s/it]"
     ]
    },
    {
     "name": "stdout",
     "output_type": "stream",
     "text": [
      "\n",
      "        Node properties are the following:\n",
      "        [{'labels': 'Medicalterm', 'properties': [{'property': 'id', 'type': 'STRING'}, {'property': 'name', 'type': 'STRING'}]}, {'labels': 'Imagingtechnique', 'properties': [{'property': 'id', 'type': 'STRING'}, {'property': 'name', 'type': 'STRING'}]}, {'labels': 'Topic', 'properties': [{'property': 'id', 'type': 'STRING'}, {'property': 'name', 'type': 'STRING'}]}]\n",
      "        Relationship properties are the following:\n",
      "        []\n",
      "        The relationships are the following:\n",
      "        ['(:Medicalterm)-[:HAS]->(:Topic)', '(:Medicalterm)-[:DESCRIBES]->(:Medicalterm)', '(:Topic)-[:HAS]->(:Imagingtechnique)']\n",
      "        \n"
     ]
    },
    {
     "name": "stderr",
     "output_type": "stream",
     "text": [
      "\n"
     ]
    }
   ],
   "source": [
    "from tqdm import tqdm\n",
    "from aug.graph_doc import (\n",
    "    get_extraction_chain,\n",
    "    data_to_graph_doc,\n",
    "    chain_run,\n",
    "    add_graph_documents,\n",
    ")\n",
    "from langchain.chat_models import ChatOpenAI\n",
    "\n",
    "llm = ChatOpenAI(model=\"gpt-3.5-turbo-16k\", temperature=0)\n",
    "\n",
    "allowed_nodes = None\n",
    "allowed_rels = None\n",
    "# allowed_nodes = [\"Symptom\", \"Disease\"]\n",
    "# allowed_rels = [\"CAN_CAUSE\", \"DESCRIBE\", \"HAS\"]\n",
    "\n",
    "extract_chain = get_extraction_chain(llm, allowed_nodes, allowed_rels)\n",
    "gds = []\n",
    "\n",
    "for d in tqdm(documents, total=len(documents)):\n",
    "    data = chain_run(extract_chain, d.page_content)\n",
    "    # data = extract_chain.run(d.page_content)\n",
    "    # graph_document = GraphDocument(\n",
    "    #     nodes=[map_to_base_node(node) for node in data.nodes],\n",
    "    #     relationships=[map_to_base_relationship(rel) for rel in data.rels],\n",
    "    #     source=d,\n",
    "    # )\n",
    "    graph_document = data_to_graph_doc(data, d)\n",
    "    # add_graph_document(graph, graph_document)\n",
    "    gds.append(graph_document)\n",
    "\n",
    "add_graph_documents(graph, gds)\n",
    "\n",
    "graph.refresh_schema()\n",
    "print(graph.schema)"
   ]
  },
  {
   "cell_type": "code",
   "execution_count": 6,
   "metadata": {},
   "outputs": [],
   "source": [
    "from langchain.chains import GraphCypherQAChain\n",
    "chain = GraphCypherQAChain.from_llm(\n",
    "    graph=graph,\n",
    "    cypher_llm=ChatOpenAI(temperature=0, model=\"gpt-3.5-turbo-16k\"),\n",
    "    qa_llm=ChatOpenAI(temperature=0, model=\"gpt-3.5-turbo-16k\"),\n",
    "    validate_cypher=True,  # Validate relationship directions\n",
    "    verbose=True,\n",
    ")"
   ]
  },
  {
   "cell_type": "code",
   "execution_count": 7,
   "metadata": {},
   "outputs": [
    {
     "name": "stdout",
     "output_type": "stream",
     "text": [
      "\n",
      "\n",
      "\u001b[1m> Entering new GraphCypherQAChain chain...\u001b[0m\n",
      "Generated Cypher:\n",
      "\u001b[32;1m\u001b[1;3mMATCH (m:Medicalterm {name: 'Atelectasis'}) RETURN m\u001b[0m\n",
      "Full Context:\n",
      "\u001b[32;1m\u001b[1;3m[{'m': {'name': 'Atelectasis', 'id': 'Atelectasis'}}]\u001b[0m\n",
      "\n",
      "\u001b[1m> Finished chain.\u001b[0m\n"
     ]
    },
    {
     "data": {
      "text/plain": [
       "'Atelectasis is a medical condition characterized by the collapse or closure of a lung or a part of it.'"
      ]
     },
     "execution_count": 7,
     "metadata": {},
     "output_type": "execute_result"
    }
   ],
   "source": [
    "chain.run(\"What is Atelectasis?\")"
   ]
  },
  {
   "cell_type": "code",
   "execution_count": 8,
   "metadata": {},
   "outputs": [
    {
     "name": "stdout",
     "output_type": "stream",
     "text": [
      "\n",
      "\n",
      "\u001b[1m> Entering new GraphCypherQAChain chain...\u001b[0m\n",
      "Generated Cypher:\n",
      "\u001b[32;1m\u001b[1;3mMATCH (m:Medicalterm {name: 'Atelectasis'})-[:DESCRIBES]->(s:Medicalterm)\n",
      "RETURN s.name AS Symptom\u001b[0m\n",
      "Full Context:\n",
      "\u001b[32;1m\u001b[1;3m[{'Symptom': 'Collapse'}]\u001b[0m\n",
      "\n",
      "\u001b[1m> Finished chain.\u001b[0m\n"
     ]
    },
    {
     "data": {
      "text/plain": [
       "'The symptom of Atelectasis is collapse.'"
      ]
     },
     "execution_count": 8,
     "metadata": {},
     "output_type": "execute_result"
    }
   ],
   "source": [
    "chain.run(\"What are the symptoms of Atelectasis?\")"
   ]
  },
  {
   "cell_type": "code",
   "execution_count": 9,
   "metadata": {},
   "outputs": [
    {
     "name": "stdout",
     "output_type": "stream",
     "text": [
      "\n",
      "\n",
      "\u001b[1m> Entering new GraphCypherQAChain chain...\u001b[0m\n",
      "Generated Cypher:\n",
      "\u001b[32;1m\u001b[1;3mMATCH (m:Medicalterm {name: 'Atelectasis'})-[:DESCRIBES]->(m2:Medicalterm)\n",
      "RETURN m2.name\u001b[0m\n",
      "Full Context:\n",
      "\u001b[32;1m\u001b[1;3m[{'m2.name': 'Collapse'}]\u001b[0m\n",
      "\n",
      "\u001b[1m> Finished chain.\u001b[0m\n"
     ]
    },
    {
     "data": {
      "text/plain": [
       "'A possible cause of Atelectasis is a condition called Collapse.'"
      ]
     },
     "execution_count": 9,
     "metadata": {},
     "output_type": "execute_result"
    }
   ],
   "source": [
    "chain.run(\"What can cause Atelectasis?\")"
   ]
  },
  {
   "cell_type": "code",
   "execution_count": 10,
   "metadata": {},
   "outputs": [
    {
     "name": "stdout",
     "output_type": "stream",
     "text": [
      "\n",
      "\n",
      "\u001b[1m> Entering new GraphCypherQAChain chain...\u001b[0m\n",
      "Generated Cypher:\n",
      "\u001b[32;1m\u001b[1;3mMATCH (m:Medicalterm {name: 'Atelectasis'})-[:DESCRIBES]->(m2:Medicalterm)-[:HAS]->(t:Topic)-[:HAS]->(i:Imagingtechnique)\n",
      "RETURN i.name\u001b[0m\n",
      "Full Context:\n",
      "\u001b[32;1m\u001b[1;3m[]\u001b[0m\n",
      "\n",
      "\u001b[1m> Finished chain.\u001b[0m\n"
     ]
    },
    {
     "data": {
      "text/plain": [
       "'To diagnose Atelectasis, radiologists typically look for certain clinical features. These may include signs such as lung collapse, airway obstruction, and reduced lung volume. Additionally, they may also consider the presence of symptoms such as shortness of breath, coughing, and decreased breath sounds. By evaluating these clinical features, radiologists can help in diagnosing Atelectasis.'"
      ]
     },
     "execution_count": 10,
     "metadata": {},
     "output_type": "execute_result"
    }
   ],
   "source": [
    "chain.run(\"What clinical features radiologists need for diagnosing Atelectasis?\")"
   ]
  },
  {
   "cell_type": "code",
   "execution_count": 11,
   "metadata": {},
   "outputs": [
    {
     "name": "stdout",
     "output_type": "stream",
     "text": [
      "\n",
      "\n",
      "\u001b[1m> Entering new GraphCypherQAChain chain...\u001b[0m\n",
      "Generated Cypher:\n",
      "\u001b[32;1m\u001b[1;3mMATCH (m:Medicalterm {name: 'Atelectasis'})-[:DESCRIBES]->(m2:Medicalterm)-[:HAS]->(t:Topic)-[:HAS]->(i:Imagingtechnique)\n",
      "RETURN i.name\u001b[0m\n",
      "Full Context:\n",
      "\u001b[32;1m\u001b[1;3m[]\u001b[0m\n",
      "\n",
      "\u001b[1m> Finished chain.\u001b[0m\n"
     ]
    },
    {
     "data": {
      "text/plain": [
       "\"I'm sorry, but I don't have the information to answer your question about the radiographic features of Atelectasis.\""
      ]
     },
     "execution_count": 11,
     "metadata": {},
     "output_type": "execute_result"
    }
   ],
   "source": [
    "chain.run(\"what are radiographic features of Atelectasis?\")"
   ]
  },
  {
   "cell_type": "code",
   "execution_count": null,
   "metadata": {},
   "outputs": [],
   "source": []
  }
 ],
 "metadata": {
  "kernelspec": {
   "display_name": "pytorch",
   "language": "python",
   "name": "python3"
  },
  "language_info": {
   "codemirror_mode": {
    "name": "ipython",
    "version": 3
   },
   "file_extension": ".py",
   "mimetype": "text/x-python",
   "name": "python",
   "nbconvert_exporter": "python",
   "pygments_lexer": "ipython3",
   "version": "3.9.18"
  }
 },
 "nbformat": 4,
 "nbformat_minor": 2
}
