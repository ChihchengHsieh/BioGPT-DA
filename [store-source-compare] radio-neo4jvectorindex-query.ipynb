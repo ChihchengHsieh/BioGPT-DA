{
 "cells": [
  {
   "cell_type": "code",
   "execution_count": 1,
   "metadata": {},
   "outputs": [],
   "source": [
    "import re\n",
    "import os\n",
    "from langchain.vectorstores.neo4j_vector import Neo4jVector\n",
    "from langchain.document_loaders import WikipediaLoader\n",
    "from langchain.embeddings.openai import OpenAIEmbeddings\n",
    "from langchain.text_splitter import (\n",
    "    CharacterTextSplitter,\n",
    "    RecursiveCharacterTextSplitter,\n",
    ")\n",
    "from langchain.graphs import Neo4jGraph\n",
    "from transformers import AutoModelForSeq2SeqLM, AutoTokenizer\n",
    "from langchain.text_splitter import TokenTextSplitter\n",
    "\n",
    "from secret import *\n",
    "import chromadb\n",
    "\n",
    "os.environ[\"OPENAI_API_KEY\"] = OPENAI_API_KEY"
   ]
  },
  {
   "cell_type": "code",
   "execution_count": 2,
   "metadata": {},
   "outputs": [
    {
     "name": "stdout",
     "output_type": "stream",
     "text": [
      "Node properties are the following:\n",
      "\n",
      "Relationship properties are the following:\n",
      "\n",
      "The relationships are the following:\n",
      "\n"
     ]
    }
   ],
   "source": [
    "graph = Neo4jGraph(url=\"bolt://localhost:7687\", username=\"neo4j\", password=\"test1234\")\n",
    "graph.query(\n",
    "    \"\"\"\n",
    "MATCH (n)\n",
    "DETACH DELETE n\n",
    "\"\"\"\n",
    ")\n",
    "graph.refresh_schema()\n",
    "print(graph.schema)"
   ]
  },
  {
   "cell_type": "code",
   "execution_count": 3,
   "metadata": {},
   "outputs": [],
   "source": [
    "import logging\n",
    "from urllib.parse import urljoin\n",
    "import requests\n",
    "from bs4 import BeautifulSoup\n",
    "\n",
    "from loader.radiopaedia import RadioWebLoader\n",
    "\n",
    "search_query = \"atelectasis\"\n",
    "loader = RadioWebLoader(search_query)\n",
    "raw_documents = loader.load()\n",
    "text_splitter = TokenTextSplitter(chunk_size=2048, chunk_overlap=24)\n",
    "documents = text_splitter.split_documents(\n",
    "    raw_documents\n",
    ")  # should I only take the first? which is the most relevant?\n"
   ]
  },
  {
   "cell_type": "code",
   "execution_count": 4,
   "metadata": {},
   "outputs": [],
   "source": [
    "# from langchain.document_loaders import DiffbotLoader\n",
    "\n",
    "# raw_documents = DiffbotLoader(\n",
    "#     urls=all_address,\n",
    "#     api_token=DIFFBOT_API_TOKEN,\n",
    "# ).load()\n",
    "# text_splitter = TokenTextSplitter(chunk_size=2048, chunk_overlap=24)\n",
    "# documents = text_splitter.split_documents(\n",
    "#     raw_documents\n",
    "# )  # should I only take the first? which is the most relevant?"
   ]
  },
  {
   "cell_type": "code",
   "execution_count": 5,
   "metadata": {},
   "outputs": [
    {
     "name": "stderr",
     "output_type": "stream",
     "text": [
      "c:\\Users\\mike8\\anaconda3\\envs\\pytorch\\lib\\site-packages\\langchain_core\\_api\\deprecation.py:115: LangChainDeprecationWarning: The class `OpenAIEmbeddings` was deprecated in LangChain 0.1.0 and will be removed in 0.2.0. Use langchain_openai.OpenAIEmbeddings instead.\n",
      "  warn_deprecated(\n"
     ]
    }
   ],
   "source": [
    "db = Neo4jVector.from_documents(\n",
    "    documents, OpenAIEmbeddings(), url=NOE4J_URL, username=\"neo4j\", password=\"test1234\"\n",
    ")\n",
    "\n",
    "retriever = db.as_retriever()\n",
    "# 4s"
   ]
  },
  {
   "cell_type": "code",
   "execution_count": 6,
   "metadata": {},
   "outputs": [],
   "source": [
    "from langchain.chains import RetrievalQAWithSourcesChain\n",
    "from langchain.chat_models import ChatOpenAI"
   ]
  },
  {
   "cell_type": "code",
   "execution_count": 7,
   "metadata": {},
   "outputs": [
    {
     "name": "stderr",
     "output_type": "stream",
     "text": [
      "c:\\Users\\mike8\\anaconda3\\envs\\pytorch\\lib\\site-packages\\langchain_core\\_api\\deprecation.py:115: LangChainDeprecationWarning: The class `ChatOpenAI` was deprecated in LangChain 0.1.0 and will be removed in 0.2.0. Use langchain_openai.ChatOpenAI instead.\n",
      "  warn_deprecated(\n"
     ]
    }
   ],
   "source": [
    "chain = RetrievalQAWithSourcesChain.from_chain_type(\n",
    "    ChatOpenAI(temperature=0, model=\"gpt-3.5-turbo-16k\"), chain_type=\"stuff\", retriever=retriever\n",
    ")"
   ]
  },
  {
   "cell_type": "code",
   "execution_count": 8,
   "metadata": {},
   "outputs": [],
   "source": [
    "lesion = \"Atelectasis\"\n",
    "questions = [\n",
    "    f\"What is {lesion}?\",\n",
    "    f\"What are the symptoms associated with {lesion}?\",\n",
    "    f\"What can cause {lesion}?\",\n",
    "    f\"What are the patient’s symptoms that are relevant for {lesion}?\",\n",
    "    f\"What are the relevant clinical signs for the etiological diagnosis of {lesion}?\",\n",
    "    f\"What are the relevant laboratory data for the etiological diagnosis of {lesion}?\",\n",
    "    f\"What are the relevant clinical characteristics for the etiological diagnosis of {lesion}\",\n",
    "    f\"What are the patient’s personal relevant history for the etiological diagnosis of {lesion}\",\n",
    "]"
   ]
  },
  {
   "cell_type": "code",
   "execution_count": 9,
   "metadata": {},
   "outputs": [
    {
     "name": "stderr",
     "output_type": "stream",
     "text": [
      "c:\\Users\\mike8\\anaconda3\\envs\\pytorch\\lib\\site-packages\\langchain_core\\_api\\deprecation.py:115: LangChainDeprecationWarning: The function `__call__` was deprecated in LangChain 0.1.0 and will be removed in 0.2.0. Use invoke instead.\n",
      "  warn_deprecated(\n"
     ]
    }
   ],
   "source": [
    "res_dict = {}\n",
    "for q in questions:\n",
    "    res = chain(\n",
    "        {\"question\": q},\n",
    "        return_only_outputs=True,\n",
    "    )\n",
    "    res_dict[q] = res[\"answer\"].strip()"
   ]
  },
  {
   "cell_type": "code",
   "execution_count": 10,
   "metadata": {},
   "outputs": [
    {
     "name": "stdout",
     "output_type": "stream",
     "text": [
      "Atelectasis refers to collapse or incomplete expansion of pulmonary parenchyma. It can be caused by various factors, including resorptive (obstructive) atelectasis, passive (relaxation) atelectasis, compressive atelectasis, cicatrisation atelectasis, adhesive atelectasis, and gravity-dependent atelectasis. Passive atelectasis, also known as relaxation atelectasis, occurs when there is a loss of negative pressure in the pleural space, causing the lung to relax back to its normal volume. It can be caused by conditions such as simple pneumothorax, diaphragmatic abnormalities, and conditions of hypoventilation. The clinical presentation of atelectasis depends on the extent and speed of development, ranging from asymptomatic to features of hypoxia and respiratory failure. Radiographic features of atelectasis include small volume linear shadows on chest x-rays and a more accurate depiction on CT scans.\n",
      "The symptoms associated with Atelectasis include breathlessness, cough, and chest pain. However, it is important to note that the specific symptoms can vary depending on the underlying cause of the atelectasis.\n",
      "Atelectasis can be caused by various factors, including hypoventilation, postoperative status, chest wall trauma, pleuritic chest disease, pulmonary embolism, pneumonia, aspiration, and bronchogenic carcinoma. Linear atelectasis, also known as discoid, plate, or band atelectasis, is a focal area of subsegmental atelectasis that has a linear shape. It is commonly seen in the lung bases and can resolve quickly. Linear atelectasis is often a result of subsegmental bronchial obstruction.\n",
      "The relevant symptoms for Atelectasis include breathlessness and cough. However, the specific symptoms of the patient in question are not provided in the extracted parts of the document.\n",
      "The relevant clinical signs for the etiological diagnosis of Atelectasis include diminished movement of the affected area, dullness on percussion, decreased or absent breath sounds, and deviation of the trachea to the affected site. However, the clinical presentation may vary depending on the extent and speed of development of atelectasis. Small and gradual areas of atelectasis may be asymptomatic or present with a non-productive cough, while larger and more rapidly developing areas can lead to hypoxia and respiratory failure.\n",
      "The relevant laboratory data for the etiological diagnosis of Atelectasis are not provided in the extracted parts of the document.\n",
      "The relevant clinical characteristics for the etiological diagnosis of Atelectasis include hypoventilatory change in patients who are not taking deep breaths, postoperative status, chest wall trauma, pleuritic chest disease, pulmonary embolism, pneumonia, aspiration, and bronchogenic carcinoma. Linear atelectasis is a common form of atelectasis that appears primarily in the lung bases and is secondary to hypoventilation. It can resolve as quickly as it occurs. Linear atelectasis is also known as plate, discoid, or band atelectasis. It is characterized by a focal area of subsegmental atelectasis that has a linear shape. It may appear to be horizontal, oblique, or perpendicular. Linear atelectasis is usually caused by subsegmental bronchial obstruction. (\"Linear atelectasis | Radiology Reference Article | Radiopaedia.org\")\n",
      "The patient's personal relevant history for the etiological diagnosis of Atelectasis is not provided in the extracted parts of the document.\n"
     ]
    }
   ],
   "source": [
    "for q in questions:\n",
    "    print(res_dict[q])"
   ]
  },
  {
   "cell_type": "code",
   "execution_count": null,
   "metadata": {},
   "outputs": [],
   "source": []
  },
  {
   "cell_type": "code",
   "execution_count": null,
   "metadata": {},
   "outputs": [],
   "source": []
  },
  {
   "cell_type": "code",
   "execution_count": 11,
   "metadata": {},
   "outputs": [
    {
     "ename": "StopIteration",
     "evalue": "",
     "output_type": "error",
     "traceback": [
      "\u001b[1;31m---------------------------------------------------------------------------\u001b[0m",
      "\u001b[1;31mStopIteration\u001b[0m                             Traceback (most recent call last)",
      "Cell \u001b[1;32mIn[11], line 1\u001b[0m\n\u001b[1;32m----> 1\u001b[0m \u001b[38;5;28;01mraise\u001b[39;00m \u001b[38;5;167;01mStopIteration\u001b[39;00m()\n",
      "\u001b[1;31mStopIteration\u001b[0m: "
     ]
    }
   ],
   "source": [
    "raise StopIteration()"
   ]
  },
  {
   "cell_type": "code",
   "execution_count": null,
   "metadata": {},
   "outputs": [
    {
     "data": {
      "text/plain": [
       "{'answer': 'Atelectasis refers to collapse or incomplete expansion of pulmonary parenchyma. It can be classified based on underlying mechanism (resorptive, passive, compressive, cicatrisation, adhesive, gravity dependent) or by morphology (linear, round, lung, lobar, segmental, subsegmental). The radiographic features of atelectasis vary depending on the underlying mechanism and type. It is better appreciated on CT scans. Segmental atelectasis specifically refers to the collapse of one or several segments of a lung lobe. \\n',\n",
       " 'sources': ''}"
      ]
     },
     "execution_count": 8,
     "metadata": {},
     "output_type": "execute_result"
    }
   ],
   "source": [
    "chain(\n",
    "    {\"question\": \"What is Atelectasis?\"},\n",
    "    return_only_outputs=True,\n",
    ")"
   ]
  },
  {
   "cell_type": "code",
   "execution_count": null,
   "metadata": {},
   "outputs": [
    {
     "data": {
      "text/plain": [
       "{'answer': 'The symptoms of Atelectasis can vary depending on the underlying cause. Common symptoms include breathlessness and cough, but it can also be asymptomatic. The presentation of symptoms also depends on the extent and speed of development of atelectasis. Physical examination may reveal diminished movement of the affected area, dullness on percussion, decreased or absent breath sounds, and deviation of the trachea. Treatment involves managing the underlying cause and may include deeper breathing exercises. Imaging, such as chest x-ray or CT, can confirm the presence of atelectasis and help determine the cause. \\n',\n",
       " 'sources': ''}"
      ]
     },
     "execution_count": 9,
     "metadata": {},
     "output_type": "execute_result"
    }
   ],
   "source": [
    "chain(\n",
    "    {\"question\": \"What are the symptoms of Atelectasis?\"},\n",
    "    return_only_outputs=True,\n",
    ")"
   ]
  },
  {
   "cell_type": "code",
   "execution_count": null,
   "metadata": {},
   "outputs": [
    {
     "data": {
      "text/plain": [
       "{'answer': 'Atelectasis can be caused by various factors, including adjacent compression (such as a lung tumor or dilated aorta), passive atelectasis (when the lung relaxes away from the pleural surface), dependent atelectasis (due to patients not fully expanding their lungs while lying for long periods), and adhesive atelectasis (due to a decrease or absence of pulmonary surfactant). Other causes include simple pneumothorax, diaphragmatic abnormalities, conditions of hypoventilation, pleural effusion, and chest wall mass lesions. Cicatrisation atelectasis can occur as a result of scarring or fibrosis. \\n',\n",
       " 'sources': ''}"
      ]
     },
     "execution_count": 10,
     "metadata": {},
     "output_type": "execute_result"
    }
   ],
   "source": [
    "chain(\n",
    "    {\"question\": \"What can cause Atelectasis?\"},\n",
    "    return_only_outputs=True,\n",
    ")"
   ]
  },
  {
   "cell_type": "code",
   "execution_count": null,
   "metadata": {},
   "outputs": [
    {
     "data": {
      "text/plain": [
       "{'answer': 'Radiologists need to look for the following clinical features for diagnosing Atelectasis:\\n- Small volume linear shadows on chest x-rays, usually peripherally or at the lung bases.\\n- Triangular opacity in the posteromedial aspect of the left lung (retrocardiac sail sign) for left lower lobe collapse.\\n- Linear bands radiating from a mass into adjacent lung tissue resembling the feet of a crow for round atelectasis.\\n- Loss of negative intrapleural pressure leading to relaxation of the lung and possible hypoxia and respiratory failure for passive atelectasis.\\n',\n",
       " 'sources': ''}"
      ]
     },
     "execution_count": 11,
     "metadata": {},
     "output_type": "execute_result"
    }
   ],
   "source": [
    "chain(\n",
    "    {\"question\": \"What clinical features radiologists need for diagnosing Atelectasis?\"},\n",
    "    return_only_outputs=True,\n",
    ")"
   ]
  },
  {
   "cell_type": "code",
   "execution_count": null,
   "metadata": {},
   "outputs": [
    {
     "data": {
      "text/plain": [
       "{'answer': 'Radiographic features of atelectasis include small volume linear shadows on chest x-rays, usually peripherally or at the lung bases. CT scans can provide a more accurate depiction of the involved lung and can help determine the cause of atelectasis. Other radiographic features may include displacement of interlobar fissures, crowding of pulmonary vessels and bronchi, and compensatory hyperexpansion of the surrounding or contralateral lung. Linear atelectasis, also known as Fleischner lines, may appear as thin, linear densities in the lung bases parallel to the diaphragm. Segmental atelectasis refers to the collapse of one or several segments of a lung lobe. The crow feet sign is a characteristic feature seen in round atelectasis on CT scans, appearing as linear bands radiating from a mass into adjacent lung tissue. \\n',\n",
       " 'sources': ''}"
      ]
     },
     "execution_count": 12,
     "metadata": {},
     "output_type": "execute_result"
    }
   ],
   "source": [
    "chain(\n",
    "    {\"question\": \"what are radiographic features of Atelectasis?\"},\n",
    "    return_only_outputs=True,\n",
    ")"
   ]
  },
  {
   "cell_type": "code",
   "execution_count": null,
   "metadata": {},
   "outputs": [],
   "source": []
  }
 ],
 "metadata": {
  "kernelspec": {
   "display_name": "pytorch",
   "language": "python",
   "name": "python3"
  },
  "language_info": {
   "codemirror_mode": {
    "name": "ipython",
    "version": 3
   },
   "file_extension": ".py",
   "mimetype": "text/x-python",
   "name": "python",
   "nbconvert_exporter": "python",
   "pygments_lexer": "ipython3",
   "version": "3.9.18"
  }
 },
 "nbformat": 4,
 "nbformat_minor": 2
}
