{
 "cells": [
  {
   "cell_type": "code",
   "execution_count": 1,
   "metadata": {},
   "outputs": [],
   "source": [
    "import re\n",
    "import os\n",
    "from langchain.vectorstores.neo4j_vector import Neo4jVector\n",
    "from langchain.document_loaders import WikipediaLoader\n",
    "from langchain.embeddings.openai import OpenAIEmbeddings\n",
    "from langchain.text_splitter import (\n",
    "    CharacterTextSplitter,\n",
    "    RecursiveCharacterTextSplitter,\n",
    ")\n",
    "from transformers import AutoModelForSeq2SeqLM, AutoTokenizer\n",
    "from langchain.text_splitter import TokenTextSplitter\n",
    "from langchain.document_loaders import DiffbotLoader\n",
    "from secret import *\n",
    "\n",
    "os.environ[\"OPENAI_API_KEY\"] = OPENAI_API_KEY"
   ]
  },
  {
   "cell_type": "code",
   "execution_count": 2,
   "metadata": {},
   "outputs": [
    {
     "data": {
      "text/plain": [
       "['https://radiopaedia.org/articles/atelectasis-summary?lang=gb',\n",
       " 'https://radiopaedia.org/articles/linear-atelectasis?lang=gb',\n",
       " 'https://radiopaedia.org/articles/lung-atelectasis?lang=gb',\n",
       " 'https://radiopaedia.org/articles/subsegmental-atelectasis?lang=gb',\n",
       " 'https://radiopaedia.org/articles/round-atelectasis?lang=gb',\n",
       " 'https://radiopaedia.org/articles/passive-atelectasis-1?lang=gb',\n",
       " 'https://radiopaedia.org/articles/compressive-atelectasis?lang=gb',\n",
       " 'https://radiopaedia.org/articles/cicatrisation-atelectasis?lang=gb',\n",
       " 'https://radiopaedia.org/articles/segmental-atelectasis?lang=gb',\n",
       " 'https://radiopaedia.org/articles/adhesive-atelectasis?lang=gb',\n",
       " 'https://radiopaedia.org/articles/resorptive-obstructive-atelectasis?lang=gb',\n",
       " 'https://radiopaedia.org/articles/chronic-maxillary-atelectasis?lang=gb',\n",
       " 'https://radiopaedia.org/articles/middle-ear-atelectasis?lang=gb',\n",
       " 'https://radiopaedia.org/articles/gravity-dependent-atelectasis-1?lang=gb',\n",
       " 'https://radiopaedia.org/articles/crow-feet-sign-round-atelectasis?lang=gb',\n",
       " 'https://radiopaedia.org/articles/osteophyte-induced-adjacent-pulmonary-atelectasis-and-fibrosis-1?lang=gb',\n",
       " 'https://radiopaedia.org/articles/lobar-lung-collapse?lang=gb',\n",
       " 'https://radiopaedia.org/articles/anectasis?lang=gb',\n",
       " 'https://radiopaedia.org/articles/right-middle-lobe-collapse?lang=gb',\n",
       " 'https://radiopaedia.org/articles/left-lower-lobe-collapse?lang=gb']"
      ]
     },
     "execution_count": 2,
     "metadata": {},
     "output_type": "execute_result"
    }
   ],
   "source": [
    "import logging\n",
    "from urllib.parse import urljoin\n",
    "import requests\n",
    "from bs4 import BeautifulSoup\n",
    "\n",
    "search_query = \"atelectasis\"\n",
    "URL = f\"https://radiopaedia.org/search?lang=gb&q={search_query}&scope=articles\"\n",
    "page = requests.get(URL)\n",
    "soup = BeautifulSoup(page.content, \"html.parser\")\n",
    "radio_address = \"https://radiopaedia.org\"\n",
    "all_address = [\n",
    "    f\"{radio_address}{e['href']}\"\n",
    "    for e in soup.find_all(\"a\", class_=\"search-result search-result-article\")\n",
    "]\n",
    "all_address"
   ]
  },
  {
   "cell_type": "code",
   "execution_count": 3,
   "metadata": {},
   "outputs": [],
   "source": [
    "raw_documents = DiffbotLoader(\n",
    "    urls=all_address,\n",
    "    api_token=DIFFBOT_API_TOKEN,\n",
    ").load()\n",
    "text_splitter = TokenTextSplitter(chunk_size=2048, chunk_overlap=24)\n",
    "documents = text_splitter.split_documents(\n",
    "    raw_documents\n",
    ")  # should I only take the first? which is the most relevant?"
   ]
  },
  {
   "cell_type": "code",
   "execution_count": 4,
   "metadata": {},
   "outputs": [],
   "source": [
    "from langchain.indexes import GraphIndexCreator\n",
    "from langchain.graphs.networkx_graph import KnowledgeTriple\n",
    "from langchain.llms import OpenAI"
   ]
  },
  {
   "cell_type": "code",
   "execution_count": 5,
   "metadata": {},
   "outputs": [],
   "source": [
    "index_creator = GraphIndexCreator(llm=OpenAI(temperature=0))"
   ]
  },
  {
   "cell_type": "code",
   "execution_count": 6,
   "metadata": {},
   "outputs": [],
   "source": [
    "graph = None\n",
    "for d in documents:\n",
    "    g_temp = index_creator.from_text(d.page_content)\n",
    "    if graph is None:\n",
    "        graph = g_temp\n",
    "    else:\n",
    "        triplets = graph.get_triples()\n",
    "        for t in triplets:\n",
    "            graph.add_triple(knowledge_triple=KnowledgeTriple(*t))"
   ]
  },
  {
   "cell_type": "code",
   "execution_count": 7,
   "metadata": {},
   "outputs": [],
   "source": [
    "from langchain.chains import GraphQAChain"
   ]
  },
  {
   "cell_type": "code",
   "execution_count": 8,
   "metadata": {},
   "outputs": [],
   "source": [
    "chain = GraphQAChain.from_llm(OpenAI(temperature=0), graph=graph, verbose=True)"
   ]
  },
  {
   "cell_type": "code",
   "execution_count": 9,
   "metadata": {},
   "outputs": [
    {
     "name": "stdout",
     "output_type": "stream",
     "text": [
      "\n",
      "\n",
      "\u001b[1m> Entering new GraphQAChain chain...\u001b[0m\n",
      "Entities Extracted:\n",
      "\u001b[32;1m\u001b[1;3m Atelectasis\u001b[0m\n",
      "Full Context:\n",
      "\u001b[32;1m\u001b[1;3mAtelectasis describes small areas of collapsed lung\n",
      "Atelectasis is caused by adjacent compression\n",
      "Atelectasis is caused by passive atelectasis\n",
      "Atelectasis is caused by dependent atelectasis\n",
      "Atelectasis is usually seen on chest x-rays as small volume linear shadows\n",
      "Atelectasis is often helpful to determine the cause or confirm that there is no proximal obstruction CT is\n",
      "Atelectasis small areas of collapsed lung describes\n",
      "Atelectasis dependent atelectasis is caused by\n",
      "Atelectasis small volume linear shadows is usually seen on chest x-rays as\n",
      "Atelectasis CT is is often helpful to determine the cause or confirm that there is no proximal obstruction\u001b[0m\n",
      "\n",
      "\u001b[1m> Finished chain.\u001b[0m\n"
     ]
    },
    {
     "data": {
      "text/plain": [
       "' Atelectasis is a condition in which small areas of the lung collapse due to adjacent compression, passive atelectasis, or dependent atelectasis. It is usually seen on chest x-rays as small volume linear shadows and CT is often helpful to determine the cause or confirm that there is no proximal obstruction.'"
      ]
     },
     "execution_count": 9,
     "metadata": {},
     "output_type": "execute_result"
    }
   ],
   "source": [
    "chain.run(\"What is Atelectasis?\")"
   ]
  },
  {
   "cell_type": "code",
   "execution_count": 10,
   "metadata": {},
   "outputs": [
    {
     "name": "stdout",
     "output_type": "stream",
     "text": [
      "\n",
      "\n",
      "\u001b[1m> Entering new GraphQAChain chain...\u001b[0m\n",
      "Entities Extracted:\n",
      "\u001b[32;1m\u001b[1;3m Atelectasis\u001b[0m\n",
      "Full Context:\n",
      "\u001b[32;1m\u001b[1;3mAtelectasis describes small areas of collapsed lung\n",
      "Atelectasis is caused by adjacent compression\n",
      "Atelectasis is caused by passive atelectasis\n",
      "Atelectasis is caused by dependent atelectasis\n",
      "Atelectasis is usually seen on chest x-rays as small volume linear shadows\n",
      "Atelectasis is often helpful to determine the cause or confirm that there is no proximal obstruction CT is\n",
      "Atelectasis small areas of collapsed lung describes\n",
      "Atelectasis dependent atelectasis is caused by\n",
      "Atelectasis small volume linear shadows is usually seen on chest x-rays as\n",
      "Atelectasis CT is is often helpful to determine the cause or confirm that there is no proximal obstruction\u001b[0m\n",
      "\n",
      "\u001b[1m> Finished chain.\u001b[0m\n"
     ]
    },
    {
     "data": {
      "text/plain": [
       "' Atelectasis is usually asymptomatic, but some people may experience shortness of breath, chest pain, and coughing.'"
      ]
     },
     "execution_count": 10,
     "metadata": {},
     "output_type": "execute_result"
    }
   ],
   "source": [
    "chain.run(\"What are the symptoms of Atelectasis?\")"
   ]
  },
  {
   "cell_type": "code",
   "execution_count": 11,
   "metadata": {},
   "outputs": [
    {
     "name": "stdout",
     "output_type": "stream",
     "text": [
      "\n",
      "\n",
      "\u001b[1m> Entering new GraphQAChain chain...\u001b[0m\n",
      "Entities Extracted:\n",
      "\u001b[32;1m\u001b[1;3m Atelectasis\u001b[0m\n",
      "Full Context:\n",
      "\u001b[32;1m\u001b[1;3mAtelectasis describes small areas of collapsed lung\n",
      "Atelectasis is caused by adjacent compression\n",
      "Atelectasis is caused by passive atelectasis\n",
      "Atelectasis is caused by dependent atelectasis\n",
      "Atelectasis is usually seen on chest x-rays as small volume linear shadows\n",
      "Atelectasis is often helpful to determine the cause or confirm that there is no proximal obstruction CT is\n",
      "Atelectasis small areas of collapsed lung describes\n",
      "Atelectasis dependent atelectasis is caused by\n",
      "Atelectasis small volume linear shadows is usually seen on chest x-rays as\n",
      "Atelectasis CT is is often helpful to determine the cause or confirm that there is no proximal obstruction\u001b[0m\n",
      "\n",
      "\u001b[1m> Finished chain.\u001b[0m\n"
     ]
    },
    {
     "data": {
      "text/plain": [
       "' Atelectasis can be caused by adjacent compression, passive atelectasis, and dependent atelectasis.'"
      ]
     },
     "execution_count": 11,
     "metadata": {},
     "output_type": "execute_result"
    }
   ],
   "source": [
    "chain.run(\"What can cause Atelectasis?\")"
   ]
  },
  {
   "cell_type": "code",
   "execution_count": 12,
   "metadata": {},
   "outputs": [
    {
     "name": "stdout",
     "output_type": "stream",
     "text": [
      "\n",
      "\n",
      "\u001b[1m> Entering new GraphQAChain chain...\u001b[0m\n",
      "Entities Extracted:\n",
      "\u001b[32;1m\u001b[1;3m Atelectasis\u001b[0m\n",
      "Full Context:\n",
      "\u001b[32;1m\u001b[1;3mAtelectasis describes small areas of collapsed lung\n",
      "Atelectasis is caused by adjacent compression\n",
      "Atelectasis is caused by passive atelectasis\n",
      "Atelectasis is caused by dependent atelectasis\n",
      "Atelectasis is usually seen on chest x-rays as small volume linear shadows\n",
      "Atelectasis is often helpful to determine the cause or confirm that there is no proximal obstruction CT is\n",
      "Atelectasis small areas of collapsed lung describes\n",
      "Atelectasis dependent atelectasis is caused by\n",
      "Atelectasis small volume linear shadows is usually seen on chest x-rays as\n",
      "Atelectasis CT is is often helpful to determine the cause or confirm that there is no proximal obstruction\u001b[0m\n",
      "\n",
      "\u001b[1m> Finished chain.\u001b[0m\n"
     ]
    },
    {
     "data": {
      "text/plain": [
       "' Radiologists need to look for small areas of collapsed lung, small volume linear shadows, and adjacent compression on chest x-rays to diagnose Atelectasis. CT scans may also be helpful to determine the cause or confirm that there is no proximal obstruction.'"
      ]
     },
     "execution_count": 12,
     "metadata": {},
     "output_type": "execute_result"
    }
   ],
   "source": [
    "chain.run(\"What clinical features radiologists need for diagnosing Atelectasis?\")"
   ]
  },
  {
   "cell_type": "code",
   "execution_count": 13,
   "metadata": {},
   "outputs": [
    {
     "name": "stdout",
     "output_type": "stream",
     "text": [
      "\n",
      "\n",
      "\u001b[1m> Entering new GraphQAChain chain...\u001b[0m\n",
      "Entities Extracted:\n",
      "\u001b[32;1m\u001b[1;3m Atelectasis\u001b[0m\n",
      "Full Context:\n",
      "\u001b[32;1m\u001b[1;3mAtelectasis describes small areas of collapsed lung\n",
      "Atelectasis is caused by adjacent compression\n",
      "Atelectasis is caused by passive atelectasis\n",
      "Atelectasis is caused by dependent atelectasis\n",
      "Atelectasis is usually seen on chest x-rays as small volume linear shadows\n",
      "Atelectasis is often helpful to determine the cause or confirm that there is no proximal obstruction CT is\n",
      "Atelectasis small areas of collapsed lung describes\n",
      "Atelectasis dependent atelectasis is caused by\n",
      "Atelectasis small volume linear shadows is usually seen on chest x-rays as\n",
      "Atelectasis CT is is often helpful to determine the cause or confirm that there is no proximal obstruction\u001b[0m\n",
      "\n",
      "\u001b[1m> Finished chain.\u001b[0m\n"
     ]
    },
    {
     "data": {
      "text/plain": [
       "' Atelectasis is usually seen on chest x-rays as small volume linear shadows.'"
      ]
     },
     "execution_count": 13,
     "metadata": {},
     "output_type": "execute_result"
    }
   ],
   "source": [
    "chain.run(\"what are radiographic features of Atelectasis?\")"
   ]
  },
  {
   "cell_type": "code",
   "execution_count": null,
   "metadata": {},
   "outputs": [],
   "source": []
  }
 ],
 "metadata": {
  "kernelspec": {
   "display_name": "pytorch",
   "language": "python",
   "name": "python3"
  },
  "language_info": {
   "codemirror_mode": {
    "name": "ipython",
    "version": 3
   },
   "file_extension": ".py",
   "mimetype": "text/x-python",
   "name": "python",
   "nbconvert_exporter": "python",
   "pygments_lexer": "ipython3",
   "version": "3.9.18"
  }
 },
 "nbformat": 4,
 "nbformat_minor": 2
}
