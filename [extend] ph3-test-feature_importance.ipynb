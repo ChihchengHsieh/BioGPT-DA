{
 "cells": [
  {
   "cell_type": "code",
   "execution_count": 1,
   "metadata": {},
   "outputs": [],
   "source": [
    "# load both dataframes\n",
    "import pandas as pd\n",
    "from sklearn.linear_model import LogisticRegression\n",
    "from sklearn.ensemble import RandomForestClassifier\n",
    "from sklearn.tree import DecisionTreeClassifier\n",
    "import matplotlib.pyplot as plt\n",
    "import numpy as np\n",
    "\n",
    "original_df = pd.read_csv(\"./spreadsheets/reflacx_clinical.csv\")\n",
    "original_clinical_cols = [\n",
    "    \"temperature\",\n",
    "    \"heartrate\",\n",
    "    \"resprate\",\n",
    "    \"o2sat\",\n",
    "    \"sbp\",\n",
    "    \"dbp\",\n",
    "]\n",
    "chexpert_label_cols = [col for col in original_df if col.endswith(\"chexpert\")]\n",
    "auged_features = []\n",
    "extended_clinical_features = original_clinical_cols + []"
   ]
  },
  {
   "cell_type": "code",
   "execution_count": 2,
   "metadata": {},
   "outputs": [],
   "source": [
    "from torchmetrics.classification import MultilabelAccuracy\n",
    "from torchmetrics.classification import MultilabelAUROC\n",
    "import torch\n",
    "\n",
    "\n",
    "def get_acc_auc(df, input_cols, label_cols, cls):\n",
    "    cls = cls.fit(\n",
    "        df[df[\"split\"] == \"train\"][input_cols],\n",
    "        df[df[\"split\"] == \"train\"][label_cols],\n",
    "    )\n",
    "\n",
    "    pred = cls.predict(df[df[\"split\"] == \"test\"][original_clinical_cols])\n",
    "\n",
    "    mla = MultilabelAccuracy(num_labels=len(chexpert_label_cols), average=\"micro\")\n",
    "    acc = mla(\n",
    "        torch.tensor(pred),\n",
    "        (\n",
    "            torch.tensor(np.array(df[df[\"split\"] == \"test\"][chexpert_label_cols] > 0))\n",
    "        ).float(),\n",
    "    )\n",
    "\n",
    "    ml_auroc = MultilabelAUROC(num_labels=len(chexpert_label_cols), average=\"micro\")\n",
    "    auc = ml_auroc(\n",
    "        torch.tensor(pred),\n",
    "        (\n",
    "            torch.tensor(np.array(df[df[\"split\"] == \"test\"][chexpert_label_cols] > 0))\n",
    "        ).long(),\n",
    "    )\n",
    "\n",
    "    feature_importance_dict = {\n",
    "        c: i for c, i in zip(original_clinical_cols, cls.feature_importances_)\n",
    "    }\n",
    "    return feature_importance_dict, acc, auc"
   ]
  },
  {
   "cell_type": "code",
   "execution_count": 7,
   "metadata": {},
   "outputs": [],
   "source": [
    "rf_fi, rf_acc, rf_auc = get_acc_auc(original_df, original_clinical_cols, chexpert_label_cols, RandomForestClassifier())"
   ]
  },
  {
   "cell_type": "code",
   "execution_count": 14,
   "metadata": {},
   "outputs": [
    {
     "data": {
      "text/plain": [
       "({'temperature': 0.1959343325506267,\n",
       "  'heartrate': 0.19756715439384445,\n",
       "  'resprate': 0.06896893914749759,\n",
       "  'o2sat': 0.10162402829359589,\n",
       "  'sbp': 0.22925800592404355,\n",
       "  'dbp': 0.20664753969039196},\n",
       " tensor(0.8792),\n",
       " tensor(0.6624))"
      ]
     },
     "execution_count": 14,
     "metadata": {},
     "output_type": "execute_result"
    }
   ],
   "source": [
    "tr_fi, tr_acc, tr_auc =get_acc_auc(original_df, original_clinical_cols, chexpert_label_cols, DecisionTreeClassifier())\n",
    "tr_fi, tr_acc, tr_auc"
   ]
  },
  {
   "cell_type": "code",
   "execution_count": 10,
   "metadata": {},
   "outputs": [
    {
     "data": {
      "text/html": [
       "<div>\n",
       "<style scoped>\n",
       "    .dataframe tbody tr th:only-of-type {\n",
       "        vertical-align: middle;\n",
       "    }\n",
       "\n",
       "    .dataframe tbody tr th {\n",
       "        vertical-align: top;\n",
       "    }\n",
       "\n",
       "    .dataframe thead th {\n",
       "        text-align: right;\n",
       "    }\n",
       "</style>\n",
       "<table border=\"1\" class=\"dataframe\">\n",
       "  <thead>\n",
       "    <tr style=\"text-align: right;\">\n",
       "      <th></th>\n",
       "      <th>temperature</th>\n",
       "      <th>heartrate</th>\n",
       "      <th>resprate</th>\n",
       "      <th>o2sat</th>\n",
       "      <th>sbp</th>\n",
       "      <th>dbp</th>\n",
       "    </tr>\n",
       "  </thead>\n",
       "  <tbody>\n",
       "    <tr>\n",
       "      <th>0</th>\n",
       "      <td>0.179844</td>\n",
       "      <td>0.19902</td>\n",
       "      <td>0.097702</td>\n",
       "      <td>0.108819</td>\n",
       "      <td>0.213383</td>\n",
       "      <td>0.201232</td>\n",
       "    </tr>\n",
       "  </tbody>\n",
       "</table>\n",
       "</div>"
      ],
      "text/plain": [
       "   temperature  heartrate  resprate     o2sat       sbp       dbp\n",
       "0     0.179844    0.19902  0.097702  0.108819  0.213383  0.201232"
      ]
     },
     "execution_count": 10,
     "metadata": {},
     "output_type": "execute_result"
    }
   ],
   "source": [
    "pd.DataFrame([rf_fi])"
   ]
  },
  {
   "cell_type": "code",
   "execution_count": 13,
   "metadata": {},
   "outputs": [
    {
     "data": {
      "image/png": "[encoded data removed]",
      "text/plain": [
       "<Figure size 640x480 with 1 Axes>"
      ]
     },
     "metadata": {},
     "output_type": "display_data"
    }
   ],
   "source": [
    "plt.bar(\n",
    "    list(rf_fi.keys()),\n",
    "    list(rf_fi.values()),\n",
    ")\n",
    "plt.show()"
   ]
  },
  {
   "cell_type": "code",
   "execution_count": 15,
   "metadata": {},
   "outputs": [
    {
     "data": {
      "image/png": "[encoded data removed]",
      "text/plain": [
       "<Figure size 640x480 with 1 Axes>"
      ]
     },
     "metadata": {},
     "output_type": "display_data"
    }
   ],
   "source": [
    "plt.bar(\n",
    "    list(tr_fi.keys()),\n",
    "    list(tr_fi.values()),\n",
    ")\n",
    "plt.show()"
   ]
  },
  {
   "cell_type": "code",
   "execution_count": null,
   "metadata": {},
   "outputs": [],
   "source": []
  },
  {
   "cell_type": "code",
   "execution_count": null,
   "metadata": {},
   "outputs": [],
   "source": []
  }
 ],
 "metadata": {
  "kernelspec": {
   "display_name": "pytorch",
   "language": "python",
   "name": "python3"
  },
  "language_info": {
   "codemirror_mode": {
    "name": "ipython",
    "version": 3
   },
   "file_extension": ".py",
   "mimetype": "text/x-python",
   "name": "python",
   "nbconvert_exporter": "python",
   "pygments_lexer": "ipython3",
   "version": "3.9.18"
  }
 },
 "nbformat": 4,
 "nbformat_minor": 2
}
