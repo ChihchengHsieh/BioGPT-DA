{
 "cells": [
  {
   "cell_type": "code",
   "execution_count": 4,
   "metadata": {},
   "outputs": [],
   "source": [
    "# load both dataframes\n",
    "import pandas as pd\n",
    "from sklearn.linear_model import LogisticRegression\n",
    "from sklearn.ensemble import RandomForestClassifier\n",
    "from sklearn.tree import DecisionTreeClassifier\n",
    "import numpy as np\n",
    "\n",
    "original_df = pd.read_csv(\"./spreadsheets/reflacx_clinical.csv\")\n",
    "original_clinical_cols = [\n",
    "    \"temperature\",\n",
    "    \"heartrate\",\n",
    "    \"resprate\",\n",
    "    \"o2sat\",\n",
    "    \"sbp\",\n",
    "    \"dbp\",\n",
    "]\n",
    "chexpert_label_cols = [col for col in original_df if col.endswith(\"chexpert\")]\n",
    "auged_features = []\n",
    "extended_clinical_features = original_clinical_cols + []"
   ]
  },
  {
   "cell_type": "code",
   "execution_count": 12,
   "metadata": {},
   "outputs": [],
   "source": [
    "from torchmetrics.classification import MultilabelAccuracy\n",
    "from torchmetrics.classification import MultilabelAUROC\n",
    "import torch\n",
    "\n",
    "\n",
    "def get_acc_auc(df, input_cols, label_cols, cls):\n",
    "    cls = cls.fit(\n",
    "        df[df[\"split\"] == \"train\"][input_cols],\n",
    "        df[df[\"split\"] == \"train\"][label_cols],\n",
    "    )\n",
    "\n",
    "    pred = cls.predict(df[df[\"split\"] == \"test\"][original_clinical_cols])\n",
    "\n",
    "    mla = MultilabelAccuracy(num_labels=len(chexpert_label_cols), average=\"micro\")\n",
    "    acc = mla(\n",
    "        torch.tensor(pred),\n",
    "        (\n",
    "            torch.tensor(np.array(df[df[\"split\"] == \"test\"][chexpert_label_cols] > 0))\n",
    "        ).float(),\n",
    "    )\n",
    "\n",
    "    ml_auroc = MultilabelAUROC(num_labels=len(chexpert_label_cols), average=\"micro\")\n",
    "    auc = ml_auroc(\n",
    "        torch.tensor(pred),\n",
    "        (\n",
    "            torch.tensor(np.array(df[df[\"split\"] == \"test\"][chexpert_label_cols] > 0))\n",
    "        ).long(),\n",
    "    )\n",
    "\n",
    "    feature_importance_dict = {\n",
    "        c: i for c, i in zip(original_clinical_cols, cls.feature_importances_)\n",
    "    }\n",
    "    return feature_importance_dict, acc, auc"
   ]
  },
  {
   "cell_type": "code",
   "execution_count": 13,
   "metadata": {},
   "outputs": [
    {
     "data": {
      "text/plain": [
       "({'temperature': 0.18047536313756044,\n",
       "  'heartrate': 0.19388825026802414,\n",
       "  'resprate': 0.09835030061680662,\n",
       "  'o2sat': 0.10989466313676344,\n",
       "  'sbp': 0.21898688381459713,\n",
       "  'dbp': 0.19840453902624824},\n",
       " tensor(0.9167),\n",
       " tensor(0.6337))"
      ]
     },
     "execution_count": 13,
     "metadata": {},
     "output_type": "execute_result"
    }
   ],
   "source": [
    "get_acc_auc(original_df, original_clinical_cols, chexpert_label_cols, RandomForestClassifier())"
   ]
  },
  {
   "cell_type": "code",
   "execution_count": 14,
   "metadata": {},
   "outputs": [
    {
     "data": {
      "text/plain": [
       "({'temperature': 0.2033609512252407,\n",
       "  'heartrate': 0.19171308294411565,\n",
       "  'resprate': 0.06108838368969653,\n",
       "  'o2sat': 0.12356266913056456,\n",
       "  'sbp': 0.24519643351944334,\n",
       "  'dbp': 0.17507847949093927},\n",
       " tensor(0.8774),\n",
       " tensor(0.6653))"
      ]
     },
     "execution_count": 14,
     "metadata": {},
     "output_type": "execute_result"
    }
   ],
   "source": [
    "get_acc_auc(original_df, original_clinical_cols, chexpert_label_cols, DecisionTreeClassifier())"
   ]
  },
  {
   "cell_type": "code",
   "execution_count": null,
   "metadata": {},
   "outputs": [],
   "source": []
  },
  {
   "cell_type": "code",
   "execution_count": null,
   "metadata": {},
   "outputs": [],
   "source": []
  },
  {
   "cell_type": "code",
   "execution_count": null,
   "metadata": {},
   "outputs": [],
   "source": []
  },
  {
   "cell_type": "code",
   "execution_count": null,
   "metadata": {},
   "outputs": [],
   "source": []
  }
 ],
 "metadata": {
  "kernelspec": {
   "display_name": "pytorch",
   "language": "python",
   "name": "python3"
  },
  "language_info": {
   "codemirror_mode": {
    "name": "ipython",
    "version": 3
   },
   "file_extension": ".py",
   "mimetype": "text/x-python",
   "name": "python",
   "nbconvert_exporter": "python",
   "pygments_lexer": "ipython3",
   "version": "3.9.18"
  }
 },
 "nbformat": 4,
 "nbformat_minor": 2
}
