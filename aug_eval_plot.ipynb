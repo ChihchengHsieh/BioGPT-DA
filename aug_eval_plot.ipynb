{
 "cells": [
  {
   "cell_type": "code",
   "execution_count": 1,
   "metadata": {},
   "outputs": [],
   "source": [
    "import pandas as pd\n",
    "from sklearn.metrics import mean_squared_error\n",
    "from collections import OrderedDict\n",
    "import warnings\n",
    "warnings.filterwarnings(\"ignore\")"
   ]
  },
  {
   "cell_type": "code",
   "execution_count": 2,
   "metadata": {},
   "outputs": [],
   "source": [
    "aug_features =  [\n",
    "            \"temperature\",\n",
    "            \"heartrate\",\n",
    "            \"resprate\",\n",
    "            \"o2sat\",\n",
    "            \"sbp\",\n",
    "            \"dbp\",\n",
    "        ]"
   ]
  },
  {
   "cell_type": "code",
   "execution_count": 3,
   "metadata": {},
   "outputs": [],
   "source": [
    "df_paths = [\n",
    "    \"./spreadsheets/biogpt_aug_text.csv\",\n",
    "    \"./spreadsheets/biogpt_aug_report.csv\",\n",
    "    \"./spreadsheets/cb_aug_text.csv\",\n",
    "    \"./spreadsheets/cb_aug_report.csv\",\n",
    "    \"./spreadsheets/bcb_aug_text.csv\",\n",
    "    \"./spreadsheets/bcb_aug_report.csv\",\n",
    "    \"./spreadsheets/mistral_aug_text.csv\",\n",
    "    \"./spreadsheets/mistral_aug_report.csv\",\n",
    "    \"./spreadsheets/zephyr_aug_text.csv\",\n",
    "    \"./spreadsheets/zephyr_aug_report.csv\",\n",
    "    \"./spreadsheets/llama2_aug_text.csv\",\n",
    "    \"./spreadsheets/llama2_aug_report.csv\",\n",
    "    \"./spreadsheets/gpt3_5_aug_text.csv\",\n",
    "    \"./spreadsheets/gpt3_5_aug_report.csv\",\n",
    "    \"./spreadsheets/gpt4_aug_text.csv\",\n",
    "    \"./spreadsheets/gpt4_aug_report.csv\",\n",
    "    \"./spreadsheets/meditron_aug_text.csv\",\n",
    "    \"./spreadsheets/meditron_aug_report.csv\",\n",
    "    # \"./spreadsheets/multimodal-transformer.csv\",\n",
    "    # \"./spreadsheets/multimodal-transformer-test.csv\",\n",
    "    \"./spreadsheets/multimodal-transformer-sep.csv\",\n",
    "    \"./spreadsheets/multimodal-transformer-sep-test.csv\",\n",
    "    \"./spreadsheets/1D-core.csv\",\n",
    "    \"./spreadsheets/1D-core-test.csv\",\n",
    "    \"./spreadsheets/gaussian_aug.csv\",\n",
    "    \"./spreadsheets/mean_aug.csv\",\n",
    "]"
   ]
  },
  {
   "cell_type": "code",
   "execution_count": 4,
   "metadata": {},
   "outputs": [],
   "source": [
    "path_to_name = OrderedDict(\n",
    "    {\n",
    "        \"./spreadsheets/biogpt_aug_text.csv\": \"BioGPT\\nplain-text\",\n",
    "        \"./spreadsheets/biogpt_aug_report.csv\": \"BioGPT\\nreport-template\",\n",
    "        \"./spreadsheets/cb_aug_text.csv\": \"ClinicalBERT\\nplain-text\",\n",
    "        \"./spreadsheets/cb_aug_report.csv\": \"ClinicalBERT\\nreport-template\",\n",
    "        \"./spreadsheets/bcb_aug_text.csv\": \"BioClinicalBERT\\nplain-text\",\n",
    "        \"./spreadsheets/bcb_aug_report.csv\": \"BioClinicalBERT\\nreport-template\",\n",
    "        \"./spreadsheets/mistral_aug_text.csv\": \"Mistral\\nplain-text\",\n",
    "        \"./spreadsheets/mistral_aug_report.csv\": \"Mistral\\nreport-template\",\n",
    "        \"./spreadsheets/zephyr_aug_text.csv\": \"Zephyr\\nplain-text\",\n",
    "        \"./spreadsheets/zephyr_aug_report.csv\": \"Zephyr\\nreport-template\",\n",
    "        \"./spreadsheets/llama2_aug_text.csv\": \"Llama2\\nplain-text\",\n",
    "        \"./spreadsheets/llama2_aug_report.csv\": \"Llama2\\nreport-template\",\n",
    "        \"./spreadsheets/gpt3_5_aug_text.csv\": \"GPT3.5\\nplain-text\",\n",
    "        \"./spreadsheets/gpt3_5_aug_report.csv\": \"GPT3.5\\nreport-template\",\n",
    "        \"./spreadsheets/gpt4_aug_text.csv\": \"GPT4\\nplain-text\",\n",
    "        \"./spreadsheets/gpt4_aug_report.csv\": \"GPT4\\nreport-template\",\n",
    "        \"./spreadsheets/meditron_aug_text.csv\": \"Meditron\\nplain-text\",\n",
    "        \"./spreadsheets/meditron_aug_report.csv\": \"Meditron\\nreport-template\",\n",
    "        # \"./spreadsheets/multimodal-transformer.csv\": \"MMTF\",\n",
    "        # \"./spreadsheets/multimodal-transformer-test.csv\": \"MMTF (test)\",\n",
    "        \"./spreadsheets/multimodal-transformer-sep.csv\": \"MMTF\",\n",
    "        \"./spreadsheets/multimodal-transformer-sep-test.csv\": \"MMTF (test)\",\n",
    "        \"./spreadsheets/1D-core.csv\": \"1D-Core\",\n",
    "        \"./spreadsheets/1D-core-test.csv\": \"1D-Core (test)\",\n",
    "        \"./spreadsheets/gaussian_aug.csv\": \"Gaussian\",\n",
    "        \"./spreadsheets/mean_aug.csv\": \"Mean\",\n",
    "    }\n",
    ")"
   ]
  },
  {
   "cell_type": "code",
   "execution_count": 5,
   "metadata": {},
   "outputs": [],
   "source": [
    "path_to_df = OrderedDict({\n",
    "    p: pd.read_csv(p) for p in df_paths\n",
    "})"
   ]
  },
  {
   "cell_type": "code",
   "execution_count": 6,
   "metadata": {},
   "outputs": [],
   "source": [
    "g_df = pd.read_csv(\"./spreadsheets/gaussian_aug.csv\")"
   ]
  },
  {
   "cell_type": "code",
   "execution_count": 7,
   "metadata": {},
   "outputs": [],
   "source": [
    "import seaborn as sns\n",
    "import matplotlib.pyplot as plt\n",
    "sns.set(rc={'figure.figsize':(30,5)})"
   ]
  },
  {
   "cell_type": "code",
   "execution_count": 8,
   "metadata": {},
   "outputs": [
    {
     "data": {
      "text/plain": [
       "<Figure size 3000x500 with 0 Axes>"
      ]
     },
     "metadata": {},
     "output_type": "display_data"
    }
   ],
   "source": [
    "for f in aug_features:\n",
    "    f_df = OrderedDict({})\n",
    "    f_df.update({path_to_name[p] :df[f'aug_{f}']  for p, df in path_to_df.items()})\n",
    "    f_df['Ground-truth'] = g_df[f]\n",
    "    f_df = pd.DataFrame(f_df)\n",
    "    v_plot = sns.violinplot(data=f_df)\n",
    "    fig = v_plot.get_figure()\n",
    "    fig.savefig(f\"./figures/{f}_violin.png\", bbox_inches='tight')\n",
    "    plt.clf()\n",
    "\n",
    "    fig = sns.boxplot(data=f_df)\n",
    "    fig = v_plot.get_figure()\n",
    "    fig.savefig(f\"./figures/{f}_box.png\", bbox_inches='tight')\n",
    "    plt.clf()"
   ]
  },
  {
   "cell_type": "code",
   "execution_count": null,
   "metadata": {},
   "outputs": [],
   "source": []
  }
 ],
 "metadata": {
  "kernelspec": {
   "display_name": "pytorch",
   "language": "python",
   "name": "python3"
  },
  "language_info": {
   "codemirror_mode": {
    "name": "ipython",
    "version": 3
   },
   "file_extension": ".py",
   "mimetype": "text/x-python",
   "name": "python",
   "nbconvert_exporter": "python",
   "pygments_lexer": "ipython3",
   "version": "3.9.18"
  },
  "orig_nbformat": 4
 },
 "nbformat": 4,
 "nbformat_minor": 2
}
