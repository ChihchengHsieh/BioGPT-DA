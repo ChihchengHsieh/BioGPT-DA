{
 "cells": [
  {
   "cell_type": "code",
   "execution_count": 1,
   "metadata": {},
   "outputs": [],
   "source": [
    "import re\n",
    "import os\n",
    "from langchain.vectorstores.neo4j_vector import Neo4jVector\n",
    "from langchain.document_loaders import WikipediaLoader\n",
    "from langchain.embeddings.openai import OpenAIEmbeddings\n",
    "from langchain.text_splitter import (\n",
    "    CharacterTextSplitter,\n",
    "    RecursiveCharacterTextSplitter,\n",
    ")\n",
    "from langchain.graphs import Neo4jGraph\n",
    "from transformers import AutoModelForSeq2SeqLM, AutoTokenizer\n",
    "from langchain.text_splitter import TokenTextSplitter\n",
    "\n",
    "from secret import *\n",
    "import chromadb\n",
    "\n",
    "os.environ[\"OPENAI_API_KEY\"] = OPENAI_API_KEY"
   ]
  },
  {
   "cell_type": "code",
   "execution_count": 2,
   "metadata": {},
   "outputs": [
    {
     "name": "stdout",
     "output_type": "stream",
     "text": [
      "Node properties are the following:\n",
      "\n",
      "Relationship properties are the following:\n",
      "\n",
      "The relationships are the following:\n",
      "\n"
     ]
    }
   ],
   "source": [
    "graph = Neo4jGraph(url=\"bolt://localhost:7687\", username=\"neo4j\", password=\"test1234\")\n",
    "graph.query(\n",
    "    \"\"\"\n",
    "MATCH (n)\n",
    "DETACH DELETE n\n",
    "\"\"\"\n",
    ")\n",
    "graph.refresh_schema()\n",
    "print(graph.schema)"
   ]
  },
  {
   "cell_type": "code",
   "execution_count": 3,
   "metadata": {},
   "outputs": [],
   "source": [
    "import logging\n",
    "from urllib.parse import urljoin\n",
    "import requests\n",
    "from bs4 import BeautifulSoup\n",
    "\n",
    "from loader.radiopaedia import RadioWebLoader\n",
    "\n",
    "search_query = \"atelectasis\"\n",
    "loader = RadioWebLoader(search_query)\n",
    "raw_documents = loader.load()\n",
    "text_splitter = TokenTextSplitter(chunk_size=2048, chunk_overlap=24)\n",
    "documents = text_splitter.split_documents(\n",
    "    raw_documents\n",
    ")  "
   ]
  },
  {
   "cell_type": "code",
   "execution_count": 4,
   "metadata": {},
   "outputs": [],
   "source": [
    "# from langchain.document_loaders import DiffbotLoader\n",
    "\n",
    "# raw_documents = DiffbotLoader(\n",
    "#     urls=all_address,\n",
    "#     api_token=DIFFBOT_API_TOKEN,\n",
    "# ).load()\n",
    "# text_splitter = TokenTextSplitter(chunk_size=2048, chunk_overlap=24)\n",
    "# documents = text_splitter.split_documents(\n",
    "#     raw_documents\n",
    "# )  # should I only take the first? which is the most relevant?"
   ]
  },
  {
   "cell_type": "code",
   "execution_count": 5,
   "metadata": {},
   "outputs": [
    {
     "data": {
      "text/plain": [
       "20"
      ]
     },
     "execution_count": 5,
     "metadata": {},
     "output_type": "execute_result"
    }
   ],
   "source": [
    "len(raw_documents)"
   ]
  },
  {
   "cell_type": "code",
   "execution_count": 6,
   "metadata": {},
   "outputs": [
    {
     "name": "stderr",
     "output_type": "stream",
     "text": [
      "c:\\Users\\mike8\\anaconda3\\envs\\pytorch\\lib\\site-packages\\langchain_core\\_api\\deprecation.py:115: LangChainDeprecationWarning: The class `ChatOpenAI` was deprecated in LangChain 0.1.0 and will be removed in 0.2.0. Use langchain_openai.ChatOpenAI instead.\n",
      "  warn_deprecated(\n",
      "  0%|          | 0/53 [00:00<?, ?it/s]c:\\Users\\mike8\\anaconda3\\envs\\pytorch\\lib\\site-packages\\langchain_core\\_api\\deprecation.py:115: LangChainDeprecationWarning: The function `run` was deprecated in LangChain 0.1.0 and will be removed in 0.2.0. Use invoke instead.\n",
      "  warn_deprecated(\n",
      "  6%|▌         | 3/53 [02:15<35:59, 43.19s/it]  Retrying langchain_community.chat_models.openai.ChatOpenAI.completion_with_retry.<locals>._completion_with_retry in 4.0 seconds as it raised Timeout: Request timed out: HTTPSConnectionPool(host='api.openai.com', port=443): Read timed out. (read timeout=600).\n",
      " 25%|██▍       | 13/53 [28:15<1:31:08, 136.72s/it]"
     ]
    },
    {
     "name": "stdout",
     "output_type": "stream",
     "text": [
      "Not working for doc 13\n"
     ]
    },
    {
     "name": "stderr",
     "output_type": "stream",
     "text": [
      " 96%|█████████▌| 51/53 [1:10:44<02:46, 83.17s/it] "
     ]
    },
    {
     "name": "stdout",
     "output_type": "stream",
     "text": [
      "Not working for doc 51\n"
     ]
    },
    {
     "name": "stderr",
     "output_type": "stream",
     "text": [
      "100%|██████████| 53/53 [1:11:47<00:00, 81.27s/it]\n"
     ]
    },
    {
     "name": "stdout",
     "output_type": "stream",
     "text": [
      "Node properties are the following:\n",
      "Condition {name: STRING, id: STRING},Section {name: STRING, title: STRING, id: STRING, reference3: STRING, reference1: STRING, reference2: STRING},Symptom {id: STRING, name: STRING},Cause {id: STRING, name: STRING},Anatomy {name: STRING, id: STRING},Concept {id: STRING, name: STRING, organization: STRING, year: STRING},Procedure {id: STRING, name: STRING},Measurement {name: STRING, id: STRING},Organization {id: STRING, name: STRING},Medical condition {name: STRING, id: STRING},Person {id: STRING, name: STRING},Location {name: STRING, id: STRING},Disease {id: STRING, name: STRING},Term {id: STRING, name: STRING},Medicalterm {id: STRING, name: STRING},Category {id: STRING, name: STRING},Medicalcondition {summary: STRING, id: STRING, name: STRING},Imaging technique {name: STRING, id: STRING},Attribute {id: STRING, name: STRING, mnemonic: STRING},Imaging {name: STRING, id: STRING},Body part {id: STRING, name: STRING},Finding {name: STRING, id: STRING},Presentation {id: STRING, name: STRING},Event {name: STRING, id: STRING},Injury {id: STRING, name: STRING},Medical specialty {name: STRING, id: STRING},Date {id: STRING, name: STRING},Book {name: STRING, id: STRING, title: STRING, purchaselink: STRING, publicationdate: STRING, publisher: STRING, isbn: STRING, pages: STRING},Journalarticle {name: STRING, id: STRING, citation: STRING, journal: STRING, title: STRING, publicationdate: STRING, volume: STRING, pages: STRING, issue: STRING, doi: STRING},Article {lastrevisedby: STRING, lastrevisedon: STRING, name: STRING, id: STRING, title: STRING, url: STRING, synonyms: STRING, citation: STRING, doi: STRING},Website {name: STRING, id: STRING},Adenocarcinoma {id: STRING, name: STRING},Imaging feature {name: STRING, id: STRING},Carcinoma {name: STRING, id: STRING},Tumour {name: STRING, id: STRING},Lesion {name: STRING, id: STRING},Pattern {name: STRING, id: STRING},Neoplasm {name: STRING, id: STRING},Metastasis {name: STRING, id: STRING},Screening {name: STRING, id: STRING},Staging {name: STRING, id: STRING},Case {name: STRING, id: STRING},Multiple choice question {id: STRING, name: STRING},Related article {id: STRING, name: STRING},Sign {name: STRING, id: STRING},Edition {status: STRING, id: STRING, name: STRING},Classification {id: STRING, name: STRING, year: STRING},Syndrome {id: STRING, name: STRING},Terminology {id: STRING, name: STRING},Page {id: STRING, name: STRING},Socialmedia {id: STRING, name: STRING},Communication {id: STRING, name: STRING},Issue {name: STRING, id: STRING},Medical_term {id: STRING, name: STRING},Criteria {id: STRING, name: STRING},Guideline {id: STRING, name: STRING},Mechanism-based atelectasis {id: STRING, name: STRING},Morphology-based atelectasis {name: STRING, id: STRING},Radiography projection {id: STRING, name: STRING},Approach {id: STRING, name: STRING},Medical device {name: STRING, id: STRING},Diagnosticcriteria {name: STRING, id: STRING}\n",
      "Relationship properties are the following:\n",
      "\n",
      "The relationships are the following:\n",
      "(:Condition)-[:RELATED_TO]->(:Condition),(:Cause)-[:DUE_TO]->(:Cause),(:Concept)-[:PUBLISHED_ON]->(:Concept),(:Concept)-[:SOURCE]->(:Concept),(:Concept)-[:ARTICLE_CREATED_BY]->(:Person),(:Concept)-[:ARTICLE_CREATED_ON]->(:Date),(:Concept)-[:ASSOCIATED_WITH]->(:Concept),(:Concept)-[:LAST_REVISED_BY]->(:Person),(:Concept)-[:REFERENCE]->(:Concept),(:Concept)-[:LAST_REVISED_ON]->(:Date),(:Concept)-[:SUBTYPE]->(:Syndrome),(:Concept)-[:HAS]->(:Concept),(:Medical condition)-[:DUE_TO]->(:Cause),(:Person)-[:LAST_REVISED_ON]->(:Date),(:Person)-[:ARTICLE_CREATED_ON]->(:Date),(:Medicalcondition)-[:HASREFERENCE]->(:Article),(:Medicalcondition)-[:ASSOCIATEDWITH]->(:Medicalcondition),(:Medicalcondition)-[:SUBTYPEOF]->(:Medicalcondition),(:Medicalcondition)-[:CAUSEOF]->(:Medicalcondition),(:Article)-[:PUBLISHEDON]->(:Website),(:Article)-[:HAS_SECTION]->(:Section)\n"
     ]
    }
   ],
   "source": [
    "from tqdm import tqdm\n",
    "from aug.graph_doc import (\n",
    "    get_extraction_chain,\n",
    "    data_to_graph_doc,\n",
    "    chain_run,\n",
    "    add_graph_documents,\n",
    ")\n",
    "from langchain.chat_models import ChatOpenAI\n",
    "\n",
    "llm = ChatOpenAI(model=\"gpt-3.5-turbo-16k\", temperature=0)\n",
    "\n",
    "allowed_nodes = None\n",
    "allowed_rels = None\n",
    "# allowed_nodes = [\"Symptom\", \"Disease\"]\n",
    "# allowed_rels = [\"CAN_CAUSE\", \"DESCRIBE\", \"HAS\"]\n",
    "\n",
    "extract_chain = get_extraction_chain(llm, allowed_nodes, allowed_rels)\n",
    "gds = []\n",
    "i = 0\n",
    "for d in tqdm(documents, total=len(documents)):\n",
    "    # data = chain_run(extract_chain, d.page_content)\n",
    "    # data = extract_chain.run(d.page_content)\n",
    "    # graph_document = GraphDocument(\n",
    "    #     nodes=[map_to_base_node(node) for node in data.nodes],\n",
    "    #     relationships=[map_to_base_relationship(rel) for rel in data.rels],\n",
    "    #     source=d,\n",
    "    # )\n",
    "    i += 1\n",
    "    try:\n",
    "        data = chain_run(extract_chain, d.page_content)\n",
    "        graph_document = data_to_graph_doc(data, d)\n",
    "        # add_graph_document(graph, graph_document)\n",
    "        gds.append(graph_document)\n",
    "    except:\n",
    "        print(f\"Not working for doc {i}\")\n",
    "\n",
    "add_graph_documents(graph, gds)\n",
    "\n",
    "graph.refresh_schema()\n",
    "print(graph.schema)\n",
    "\n",
    "# 12m46.2s"
   ]
  },
  {
   "cell_type": "code",
   "execution_count": 7,
   "metadata": {},
   "outputs": [],
   "source": [
    "from langchain.chains import GraphCypherQAChain\n",
    "chain = GraphCypherQAChain.from_llm(\n",
    "    graph=graph,\n",
    "    cypher_llm=ChatOpenAI(temperature=0, model=\"gpt-3.5-turbo-16k\"),\n",
    "    qa_llm=ChatOpenAI(temperature=0, model=\"gpt-3.5-turbo-16k\"),\n",
    "    validate_cypher=True,  # Validate relationship directions\n",
    "    verbose=True,\n",
    ")"
   ]
  },
  {
   "cell_type": "code",
   "execution_count": 8,
   "metadata": {},
   "outputs": [],
   "source": [
    "lesion = \"Atelectasis\"\n",
    "questions = [\n",
    "    f\"What is {lesion}?\",\n",
    "    f\"What are the symptoms associated with {lesion}?\",\n",
    "    f\"What can cause {lesion}?\",\n",
    "    f\"What are the patient’s symptoms that are relevant for {lesion}?\",\n",
    "    f\"What are the relevant clinical signs for the etiological diagnosis of {lesion}?\",\n",
    "    f\"What are the relevant laboratory data for the etiological diagnosis of {lesion}?\",\n",
    "    f\"What are the relevant clinical characteristics for the etiological diagnosis of {lesion}\",\n",
    "    f\"What are the patient’s personal relevant history for the etiological diagnosis of {lesion}\",\n",
    "]"
   ]
  },
  {
   "cell_type": "code",
   "execution_count": 9,
   "metadata": {},
   "outputs": [
    {
     "name": "stdout",
     "output_type": "stream",
     "text": [
      "\n",
      "\n",
      "\u001b[1m> Entering new GraphCypherQAChain chain...\u001b[0m\n",
      "Generated Cypher:\n",
      "\u001b[32;1m\u001b[1;3mMATCH (a:Medicalcondition {name: \"Atelectasis\"})\n",
      "RETURN a\u001b[0m\n",
      "Full Context:\n",
      "\u001b[32;1m\u001b[1;3m[{'a': {'summary': 'Atelectasis describes small areas of collapsed lung. Atelectasis and collapse both describe the same pathophysiology, though atelectasis tends to be used to describe small areas of lung that are not fully expanded, whereas collapse tends to be used to describe larger more confluent areas.', 'name': 'Atelectasis', 'id': 'Atelectasis'}}]\u001b[0m\n",
      "\n",
      "\u001b[1m> Finished chain.\u001b[0m\n",
      "\n",
      "\n",
      "\u001b[1m> Entering new GraphCypherQAChain chain...\u001b[0m\n",
      "Generated Cypher:\n",
      "\u001b[32;1m\u001b[1;3m\u001b[0m\n",
      "Full Context:\n",
      "\u001b[32;1m\u001b[1;3m[]\u001b[0m\n",
      "\n",
      "\u001b[1m> Finished chain.\u001b[0m\n",
      "\n",
      "\n",
      "\u001b[1m> Entering new GraphCypherQAChain chain...\u001b[0m\n",
      "Generated Cypher:\n",
      "\u001b[32;1m\u001b[1;3mMATCH (c:Medicalcondition {name: \"Atelectasis\"})-[:CAUSEOF]->(cause:Medicalcondition)\n",
      "RETURN cause.name\u001b[0m\n",
      "Full Context:\n",
      "\u001b[32;1m\u001b[1;3m[]\u001b[0m\n",
      "\n",
      "\u001b[1m> Finished chain.\u001b[0m\n",
      "\n",
      "\n",
      "\u001b[1m> Entering new GraphCypherQAChain chain...\u001b[0m\n",
      "Generated Cypher:\n",
      "\u001b[32;1m\u001b[1;3m\u001b[0m\n",
      "Full Context:\n",
      "\u001b[32;1m\u001b[1;3m[]\u001b[0m\n",
      "\n",
      "\u001b[1m> Finished chain.\u001b[0m\n",
      "\n",
      "\n",
      "\u001b[1m> Entering new GraphCypherQAChain chain...\u001b[0m\n",
      "Generated Cypher:\n",
      "\u001b[32;1m\u001b[1;3m\u001b[0m\n",
      "Full Context:\n",
      "\u001b[32;1m\u001b[1;3m[]\u001b[0m\n",
      "\n",
      "\u001b[1m> Finished chain.\u001b[0m\n",
      "\n",
      "\n",
      "\u001b[1m> Entering new GraphCypherQAChain chain...\u001b[0m\n",
      "Generated Cypher:\n",
      "\u001b[32;1m\u001b[1;3mMATCH (mc:Medicalcondition {name: \"Atelectasis\"})-[:HASREFERENCE]->(a:Article)-[:HAS_SECTION]->(s:Section)\n",
      "WHERE s.title = \"Laboratory Data\"\n",
      "RETURN a.name AS Article, s.title AS Section\u001b[0m\n",
      "Full Context:\n",
      "\u001b[32;1m\u001b[1;3m[]\u001b[0m\n",
      "\n",
      "\u001b[1m> Finished chain.\u001b[0m\n",
      "\n",
      "\n",
      "\u001b[1m> Entering new GraphCypherQAChain chain...\u001b[0m\n",
      "Generated Cypher:\n",
      "\u001b[32;1m\u001b[1;3mMATCH (c:Condition {name: \"Atelectasis\"})-[:RELATED_TO]->(cc:Condition)\n",
      "RETURN cc.name AS Clinical_Characteristics\u001b[0m\n",
      "Full Context:\n",
      "\u001b[32;1m\u001b[1;3m[]\u001b[0m\n",
      "\n",
      "\u001b[1m> Finished chain.\u001b[0m\n",
      "\n",
      "\n",
      "\u001b[1m> Entering new GraphCypherQAChain chain...\u001b[0m\n",
      "Generated Cypher:\n",
      "\u001b[32;1m\u001b[1;3m\u001b[0m\n",
      "Full Context:\n",
      "\u001b[32;1m\u001b[1;3m[]\u001b[0m\n",
      "\n",
      "\u001b[1m> Finished chain.\u001b[0m\n"
     ]
    }
   ],
   "source": [
    "res_dict = {}\n",
    "for q in questions:\n",
    "    try:\n",
    "        res = chain.run(q)\n",
    "        res_dict[q] = res.strip()\n",
    "    except:\n",
    "        res_dict[q] = \"Generated Cypher Statement is not valid\"\n",
    "# res = chain.run(\"What is Atelectasis?\")"
   ]
  },
  {
   "cell_type": "code",
   "execution_count": 10,
   "metadata": {},
   "outputs": [
    {
     "name": "stdout",
     "output_type": "stream",
     "text": [
      "Atelectasis is a condition that describes small areas of collapsed lung. It is often used to describe areas of the lung that are not fully expanded. Atelectasis and collapse are terms that refer to the same underlying issue, but atelectasis is typically used for smaller areas while collapse is used for larger, more confluent areas.\n",
      "I'm sorry, but I don't have the information to answer your question. It would be best to consult a medical professional for accurate information on the symptoms associated with Atelectasis.\n",
      "There are several factors that can cause atelectasis. Some common causes include blockage of the airways due to mucus, a foreign object, or a tumor, as well as lung diseases such as chronic obstructive pulmonary disease (COPD) or pneumonia. Additionally, certain medical procedures, such as anesthesia or prolonged bed rest, can also contribute to the development of atelectasis. It is important to consult with a healthcare professional for a proper diagnosis and treatment plan.\n",
      "I'm sorry, but I don't have the information to answer your question. Atelectasis is a condition where the lung or a portion of it collapses, and the symptoms can vary depending on the severity and location of the collapse. It is best to consult a healthcare professional for a proper diagnosis and understanding of the relevant symptoms.\n",
      "I'm sorry, but I don't have the information to answer your question.\n",
      "I'm sorry, but I don't have the information to answer your question.\n",
      "I'm sorry, but I don't have the information to answer your question.\n",
      "I'm sorry, but I don't have access to the patient's personal relevant history for the etiological diagnosis of Atelectasis.\n"
     ]
    }
   ],
   "source": [
    "for q in questions:\n",
    "    print(res_dict[q])"
   ]
  },
  {
   "cell_type": "code",
   "execution_count": null,
   "metadata": {},
   "outputs": [],
   "source": []
  },
  {
   "cell_type": "code",
   "execution_count": null,
   "metadata": {},
   "outputs": [],
   "source": []
  },
  {
   "cell_type": "code",
   "execution_count": 11,
   "metadata": {},
   "outputs": [
    {
     "ename": "StopIteration",
     "evalue": "",
     "output_type": "error",
     "traceback": [
      "\u001b[1;31m---------------------------------------------------------------------------\u001b[0m",
      "\u001b[1;31mStopIteration\u001b[0m                             Traceback (most recent call last)",
      "Cell \u001b[1;32mIn[11], line 1\u001b[0m\n\u001b[1;32m----> 1\u001b[0m \u001b[38;5;28;01mraise\u001b[39;00m \u001b[38;5;167;01mStopIteration\u001b[39;00m()\n",
      "\u001b[1;31mStopIteration\u001b[0m: "
     ]
    }
   ],
   "source": [
    "raise StopIteration()"
   ]
  },
  {
   "cell_type": "code",
   "execution_count": null,
   "metadata": {},
   "outputs": [
    {
     "name": "stdout",
     "output_type": "stream",
     "text": [
      "\n",
      "\n",
      "\u001b[1m> Entering new GraphCypherQAChain chain...\u001b[0m\n",
      "Generated Cypher:\n",
      "\u001b[32;1m\u001b[1;3mMATCH (c:Condition {name: 'Atelectasis'})\n",
      "RETURN c\u001b[0m\n",
      "Full Context:\n",
      "\u001b[32;1m\u001b[1;3m[{'c': {'name': 'Atelectasis', 'id': 'Atelectasis'}}]\u001b[0m\n",
      "\n",
      "\u001b[1m> Finished chain.\u001b[0m\n"
     ]
    },
    {
     "data": {
      "text/plain": [
       "'Atelectasis is a medical condition characterized by the collapse or closure of a lung or a part of it.'"
      ]
     },
     "execution_count": 7,
     "metadata": {},
     "output_type": "execute_result"
    }
   ],
   "source": [
    "chain.run(\"What is Atelectasis?\")"
   ]
  },
  {
   "cell_type": "code",
   "execution_count": null,
   "metadata": {},
   "outputs": [
    {
     "name": "stdout",
     "output_type": "stream",
     "text": [
      "\n",
      "\n",
      "\u001b[1m> Entering new GraphCypherQAChain chain...\u001b[0m\n",
      "Generated Cypher:\n",
      "\u001b[32;1m\u001b[1;3mMATCH (c:Condition {name: 'Atelectasis'})-[:HAS_SYMPTOM]->(s:Symptom)\n",
      "RETURN s.name\u001b[0m\n",
      "Full Context:\n",
      "\u001b[32;1m\u001b[1;3m[]\u001b[0m\n",
      "\n",
      "\u001b[1m> Finished chain.\u001b[0m\n"
     ]
    },
    {
     "data": {
      "text/plain": [
       "\"I'm sorry, but I don't have the information to answer your question. It would be best to consult a medical professional for accurate information on the symptoms of Atelectasis.\""
      ]
     },
     "execution_count": 8,
     "metadata": {},
     "output_type": "execute_result"
    }
   ],
   "source": [
    "chain.run(\"What are the symptoms of Atelectasis?\")"
   ]
  },
  {
   "cell_type": "code",
   "execution_count": null,
   "metadata": {},
   "outputs": [
    {
     "name": "stdout",
     "output_type": "stream",
     "text": [
      "\n",
      "\n",
      "\u001b[1m> Entering new GraphCypherQAChain chain...\u001b[0m\n",
      "Generated Cypher:\n",
      "\u001b[32;1m\u001b[1;3m\u001b[0m\n",
      "Full Context:\n",
      "\u001b[32;1m\u001b[1;3m[]\u001b[0m\n",
      "\n",
      "\u001b[1m> Finished chain.\u001b[0m\n"
     ]
    },
    {
     "data": {
      "text/plain": [
       "'There are several factors that can cause atelectasis. Some common causes include blockage of the airways due to mucus, a foreign object, or a tumor, as well as lung diseases such as chronic obstructive pulmonary disease (COPD) or pneumonia. Additionally, certain medical procedures, such as anesthesia or prolonged bed rest, can also contribute to the development of atelectasis. It is important to consult with a healthcare professional for a proper diagnosis and treatment plan.'"
      ]
     },
     "execution_count": 9,
     "metadata": {},
     "output_type": "execute_result"
    }
   ],
   "source": [
    "chain.run(\"What can cause Atelectasis?\")"
   ]
  },
  {
   "cell_type": "code",
   "execution_count": null,
   "metadata": {},
   "outputs": [
    {
     "name": "stdout",
     "output_type": "stream",
     "text": [
      "\n",
      "\n",
      "\u001b[1m> Entering new GraphCypherQAChain chain...\u001b[0m\n",
      "Generated Cypher:\n",
      "\u001b[32;1m\u001b[1;3mMATCH (c:Condition)-[:HAS_SYMPTOM]->(s:Symptom)\n",
      "WHERE c.name = 'Atelectasis'\n",
      "RETURN s.name\u001b[0m\n",
      "Full Context:\n",
      "\u001b[32;1m\u001b[1;3m[]\u001b[0m\n",
      "\n",
      "\u001b[1m> Finished chain.\u001b[0m\n"
     ]
    },
    {
     "data": {
      "text/plain": [
       "'To diagnose Atelectasis, radiologists typically look for certain clinical features. These may include signs such as lung collapse, airway obstruction, and reduced lung volume. Additionally, they may also consider the presence of symptoms such as shortness of breath, coughing, and decreased breath sounds. By evaluating these clinical features, radiologists can help in diagnosing Atelectasis.'"
      ]
     },
     "execution_count": 10,
     "metadata": {},
     "output_type": "execute_result"
    }
   ],
   "source": [
    "chain.run(\"What clinical features radiologists need for diagnosing Atelectasis?\")"
   ]
  },
  {
   "cell_type": "code",
   "execution_count": null,
   "metadata": {},
   "outputs": [
    {
     "name": "stdout",
     "output_type": "stream",
     "text": [
      "\n",
      "\n",
      "\u001b[1m> Entering new GraphCypherQAChain chain...\u001b[0m\n",
      "Generated Cypher:\n",
      "\u001b[32;1m\u001b[1;3m\u001b[0m\n",
      "Full Context:\n",
      "\u001b[32;1m\u001b[1;3m[]\u001b[0m\n",
      "\n",
      "\u001b[1m> Finished chain.\u001b[0m\n"
     ]
    },
    {
     "data": {
      "text/plain": [
       "\"I'm sorry, but I don't have the information to answer your question about the radiographic features of Atelectasis.\""
      ]
     },
     "execution_count": 11,
     "metadata": {},
     "output_type": "execute_result"
    }
   ],
   "source": [
    "chain.run(\"what are radiographic features of Atelectasis?\")"
   ]
  },
  {
   "cell_type": "code",
   "execution_count": null,
   "metadata": {},
   "outputs": [],
   "source": []
  }
 ],
 "metadata": {
  "kernelspec": {
   "display_name": "pytorch",
   "language": "python",
   "name": "python3"
  },
  "language_info": {
   "codemirror_mode": {
    "name": "ipython",
    "version": 3
   },
   "file_extension": ".py",
   "mimetype": "text/x-python",
   "name": "python",
   "nbconvert_exporter": "python",
   "pygments_lexer": "ipython3",
   "version": "3.9.18"
  }
 },
 "nbformat": 4,
 "nbformat_minor": 2
}
