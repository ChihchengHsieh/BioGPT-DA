{
 "cells": [
  {
   "cell_type": "code",
   "execution_count": 1,
   "metadata": {},
   "outputs": [],
   "source": [
    "import re\n",
    "import os\n",
    "from langchain.vectorstores.neo4j_vector import Neo4jVector\n",
    "from langchain.document_loaders import WikipediaLoader\n",
    "from langchain.embeddings.openai import OpenAIEmbeddings\n",
    "from langchain.text_splitter import (\n",
    "    CharacterTextSplitter,\n",
    "    RecursiveCharacterTextSplitter,\n",
    ")\n",
    "from langchain.graphs import Neo4jGraph\n",
    "from transformers import AutoModelForSeq2SeqLM, AutoTokenizer\n",
    "from langchain.text_splitter import TokenTextSplitter\n",
    "\n",
    "from secret import *\n",
    "import chromadb\n",
    "\n",
    "os.environ[\"OPENAI_API_KEY\"] = OPENAI_API_KEY"
   ]
  },
  {
   "cell_type": "code",
   "execution_count": 2,
   "metadata": {},
   "outputs": [
    {
     "name": "stdout",
     "output_type": "stream",
     "text": [
      "\n",
      "        Node properties are the following:\n",
      "        []\n",
      "        Relationship properties are the following:\n",
      "        []\n",
      "        The relationships are the following:\n",
      "        []\n",
      "        \n"
     ]
    }
   ],
   "source": [
    "graph = Neo4jGraph(url=\"bolt://localhost:7687\", username=\"neo4j\", password=\"test1234\")\n",
    "graph.query(\n",
    "    \"\"\"\n",
    "MATCH (n)\n",
    "DETACH DELETE n\n",
    "\"\"\"\n",
    ")\n",
    "graph.refresh_schema()\n",
    "print(graph.schema)"
   ]
  },
  {
   "cell_type": "code",
   "execution_count": 3,
   "metadata": {},
   "outputs": [
    {
     "data": {
      "text/plain": [
       "['https://radiopaedia.org/articles/atelectasis-summary?lang=gb',\n",
       " 'https://radiopaedia.org/articles/linear-atelectasis?lang=gb',\n",
       " 'https://radiopaedia.org/articles/lung-atelectasis?lang=gb',\n",
       " 'https://radiopaedia.org/articles/subsegmental-atelectasis?lang=gb',\n",
       " 'https://radiopaedia.org/articles/round-atelectasis?lang=gb',\n",
       " 'https://radiopaedia.org/articles/passive-atelectasis-1?lang=gb',\n",
       " 'https://radiopaedia.org/articles/compressive-atelectasis?lang=gb',\n",
       " 'https://radiopaedia.org/articles/cicatrisation-atelectasis?lang=gb',\n",
       " 'https://radiopaedia.org/articles/segmental-atelectasis?lang=gb',\n",
       " 'https://radiopaedia.org/articles/adhesive-atelectasis?lang=gb',\n",
       " 'https://radiopaedia.org/articles/resorptive-obstructive-atelectasis?lang=gb',\n",
       " 'https://radiopaedia.org/articles/chronic-maxillary-atelectasis?lang=gb',\n",
       " 'https://radiopaedia.org/articles/middle-ear-atelectasis?lang=gb',\n",
       " 'https://radiopaedia.org/articles/gravity-dependent-atelectasis-1?lang=gb',\n",
       " 'https://radiopaedia.org/articles/crow-feet-sign-round-atelectasis?lang=gb',\n",
       " 'https://radiopaedia.org/articles/osteophyte-induced-adjacent-pulmonary-atelectasis-and-fibrosis-1?lang=gb',\n",
       " 'https://radiopaedia.org/articles/lobar-lung-collapse?lang=gb',\n",
       " 'https://radiopaedia.org/articles/anectasis?lang=gb',\n",
       " 'https://radiopaedia.org/articles/right-middle-lobe-collapse?lang=gb',\n",
       " 'https://radiopaedia.org/articles/left-lower-lobe-collapse?lang=gb']"
      ]
     },
     "execution_count": 3,
     "metadata": {},
     "output_type": "execute_result"
    }
   ],
   "source": [
    "import logging\n",
    "from urllib.parse import urljoin\n",
    "import requests\n",
    "from bs4 import BeautifulSoup\n",
    "\n",
    "search_query = \"atelectasis\"\n",
    "URL = f\"https://radiopaedia.org/search?lang=gb&q={search_query}&scope=articles\"\n",
    "page = requests.get(URL)\n",
    "soup = BeautifulSoup(page.content, \"html.parser\")\n",
    "radio_address = \"https://radiopaedia.org\"\n",
    "all_address = [\n",
    "    f\"{radio_address}{e['href']}\"\n",
    "    for e in soup.find_all(\"a\", class_=\"search-result search-result-article\")\n",
    "]\n",
    "all_address"
   ]
  },
  {
   "cell_type": "code",
   "execution_count": 4,
   "metadata": {},
   "outputs": [],
   "source": [
    "from langchain.document_loaders import DiffbotLoader\n",
    "\n",
    "raw_documents = DiffbotLoader(\n",
    "    urls=all_address,\n",
    "    api_token=DIFFBOT_API_TOKEN,\n",
    ").load()\n",
    "text_splitter = TokenTextSplitter(chunk_size=2048, chunk_overlap=24)\n",
    "documents = text_splitter.split_documents(\n",
    "    raw_documents\n",
    ")  # should I only take the first? which is the most relevant?"
   ]
  },
  {
   "cell_type": "code",
   "execution_count": 12,
   "metadata": {},
   "outputs": [
    {
     "data": {
      "text/plain": [
       "20"
      ]
     },
     "execution_count": 12,
     "metadata": {},
     "output_type": "execute_result"
    }
   ],
   "source": [
    "len(raw_documents)"
   ]
  },
  {
   "cell_type": "code",
   "execution_count": 5,
   "metadata": {},
   "outputs": [
    {
     "name": "stderr",
     "output_type": "stream",
     "text": [
      "100%|██████████| 20/20 [12:38<00:00, 37.95s/it]\n"
     ]
    },
    {
     "name": "stdout",
     "output_type": "stream",
     "text": [
      "\n",
      "        Node properties are the following:\n",
      "        [{'labels': 'Condition', 'properties': [{'property': 'name', 'type': 'STRING'}, {'property': 'description', 'type': 'STRING'}, {'property': 'alsoknownas', 'type': 'STRING'}, {'property': 'id', 'type': 'STRING'}, {'property': 'alsoKnownAs', 'type': 'STRING'}, {'property': 'definition', 'type': 'STRING'}, {'property': 'stage', 'type': 'STRING'}]}, {'labels': 'Section', 'properties': [{'property': 'name', 'type': 'STRING'}, {'property': 'id', 'type': 'STRING'}, {'property': 'title', 'type': 'STRING'}, {'property': 'content', 'type': 'STRING'}]}, {'labels': 'Symptom', 'properties': [{'property': 'id', 'type': 'STRING'}, {'property': 'name', 'type': 'STRING'}]}, {'labels': 'Cause', 'properties': [{'property': 'id', 'type': 'STRING'}, {'property': 'name', 'type': 'STRING'}, {'property': 'category', 'type': 'STRING'}]}, {'labels': 'Diagnosis', 'properties': [{'property': 'name', 'type': 'STRING'}, {'property': 'id', 'type': 'STRING'}]}, {'labels': 'Concept', 'properties': [{'property': 'id', 'type': 'STRING'}, {'property': 'name', 'type': 'STRING'}, {'property': 'description', 'type': 'STRING'}, {'property': 'definition', 'type': 'STRING'}, {'property': 'subtype_of', 'type': 'STRING'}]}, {'labels': 'Procedure', 'properties': [{'property': 'name', 'type': 'STRING'}, {'property': 'id', 'type': 'STRING'}]}, {'labels': 'Medical condition', 'properties': [{'property': 'description', 'type': 'STRING'}, {'property': 'name', 'type': 'STRING'}, {'property': 'id', 'type': 'STRING'}, {'property': 'references', 'type': 'STRING'}]}, {'labels': 'Substance', 'properties': [{'property': 'name', 'type': 'STRING'}, {'property': 'id', 'type': 'STRING'}]}, {'labels': 'Organ', 'properties': [{'property': 'id', 'type': 'STRING'}, {'property': 'name', 'type': 'STRING'}]}, {'labels': 'Person', 'properties': [{'property': 'name', 'type': 'STRING'}, {'property': 'id', 'type': 'STRING'}, {'property': 'nationality', 'type': 'STRING'}, {'property': 'birthdate', 'type': 'STRING'}, {'property': 'occupation', 'type': 'STRING'}, {'property': 'deathdate', 'type': 'STRING'}]}, {'labels': 'Location', 'properties': [{'property': 'id', 'type': 'STRING'}, {'property': 'name', 'type': 'STRING'}]}, {'labels': 'Disease', 'properties': [{'property': 'id', 'type': 'STRING'}, {'property': 'name', 'type': 'STRING'}]}, {'labels': 'Term', 'properties': [{'property': 'id', 'type': 'STRING'}, {'property': 'name', 'type': 'STRING'}]}, {'labels': 'Effect', 'properties': [{'property': 'id', 'type': 'STRING'}, {'property': 'name', 'type': 'STRING'}]}, {'labels': 'Process', 'properties': [{'property': 'id', 'type': 'STRING'}, {'property': 'name', 'type': 'STRING'}]}, {'labels': 'Property', 'properties': [{'property': 'id', 'type': 'STRING'}, {'property': 'name', 'type': 'STRING'}]}, {'labels': 'Medicalterm', 'properties': [{'property': 'id', 'type': 'STRING'}, {'property': 'name', 'type': 'STRING'}, {'property': 'plural', 'type': 'STRING'}, {'property': 'alsoknownas', 'type': 'STRING'}]}, {'labels': 'Imagingtechnique', 'properties': [{'property': 'id', 'type': 'STRING'}, {'property': 'name', 'type': 'STRING'}]}, {'labels': 'Atelectasistype', 'properties': [{'property': 'name', 'type': 'STRING'}, {'property': 'id', 'type': 'STRING'}]}, {'labels': 'Anatomicalstructure', 'properties': [{'property': 'id', 'type': 'STRING'}, {'property': 'name', 'type': 'STRING'}]}, {'labels': 'Language', 'properties': [{'property': 'id', 'type': 'STRING'}, {'property': 'name', 'type': 'STRING'}]}, {'labels': 'Medical term', 'properties': [{'property': 'name', 'type': 'STRING'}, {'property': 'id', 'type': 'STRING'}, {'property': 'plural', 'type': 'STRING'}, {'property': 'description', 'type': 'STRING'}, {'property': 'synonyms', 'type': 'STRING'}]}, {'labels': 'Pathology', 'properties': [{'property': 'name', 'type': 'STRING'}, {'property': 'aetiology', 'type': 'STRING'}, {'property': 'id', 'type': 'STRING'}, {'property': 'description', 'type': 'STRING'}]}, {'labels': 'Radiographic feature', 'properties': [{'property': 'name', 'type': 'STRING'}, {'property': 'id', 'type': 'STRING'}, {'property': 'description', 'type': 'STRING'}]}, {'labels': 'Differential diagnosis', 'properties': [{'property': 'name', 'type': 'STRING'}, {'property': 'id', 'type': 'STRING'}, {'property': 'possibleMimickingPattern', 'type': 'STRING'}]}, {'labels': 'Association', 'properties': [{'property': 'name', 'type': 'STRING'}, {'property': 'id', 'type': 'STRING'}, {'property': 'associatedcondition', 'type': 'STRING'}]}, {'labels': 'Aetiology', 'properties': [{'property': 'name', 'type': 'STRING'}, {'property': 'associatedconditions', 'type': 'STRING'}, {'property': 'id', 'type': 'STRING'}]}, {'labels': 'Radiographicfeature', 'properties': [{'property': 'id', 'type': 'STRING'}, {'property': 'name', 'type': 'STRING'}, {'property': 'description', 'type': 'STRING'}]}, {'labels': 'Nuclearmedicine', 'properties': [{'property': 'description', 'type': 'STRING'}, {'property': 'id', 'type': 'STRING'}, {'property': 'name', 'type': 'STRING'}]}, {'labels': 'Historyandetymology', 'properties': [{'property': 'description', 'type': 'STRING'}, {'property': 'id', 'type': 'STRING'}, {'property': 'name', 'type': 'STRING'}]}, {'labels': 'Anatomical structure', 'properties': [{'property': 'id', 'type': 'STRING'}, {'property': 'name', 'type': 'STRING'}]}, {'labels': 'Category', 'properties': [{'property': 'id', 'type': 'STRING'}, {'property': 'name', 'type': 'STRING'}]}, {'labels': 'Cell type', 'properties': [{'property': 'name', 'type': 'STRING'}, {'property': 'id', 'type': 'STRING'}]}, {'labels': 'Structure', 'properties': [{'property': 'id', 'type': 'STRING'}, {'property': 'name', 'type': 'STRING'}]}, {'labels': 'Age group', 'properties': [{'property': 'id', 'type': 'STRING'}, {'property': 'name', 'type': 'STRING'}]}, {'labels': 'Abbreviation', 'properties': [{'property': 'id', 'type': 'STRING'}, {'property': 'name', 'type': 'STRING'}]}, {'labels': 'Medicalcondition', 'properties': [{'property': 'name', 'type': 'STRING'}, {'property': 'definition', 'type': 'STRING'}, {'property': 'id', 'type': 'STRING'}]}, {'labels': 'Clinicoradiological stage', 'properties': [{'property': 'description', 'type': 'STRING'}, {'property': 'id', 'type': 'STRING'}, {'property': 'name', 'type': 'STRING'}]}, {'labels': 'Medical procedure', 'properties': [{'property': 'description', 'type': 'STRING'}, {'property': 'name', 'type': 'STRING'}, {'property': 'id', 'type': 'STRING'}]}, {'labels': 'Anatomical location', 'properties': [{'property': 'name', 'type': 'STRING'}, {'property': 'id', 'type': 'STRING'}]}, {'labels': 'Imaging technique', 'properties': [{'property': 'id', 'type': 'STRING'}, {'property': 'name', 'type': 'STRING'}]}, {'labels': 'Population', 'properties': [{'property': 'name', 'type': 'STRING'}, {'property': 'id', 'type': 'STRING'}]}, {'labels': 'Patient position', 'properties': [{'property': 'id', 'type': 'STRING'}, {'property': 'name', 'type': 'STRING'}]}, {'labels': 'Patient population', 'properties': [{'property': 'name', 'type': 'STRING'}, {'property': 'id', 'type': 'STRING'}]}, {'labels': 'Attribute', 'properties': [{'property': 'name', 'type': 'STRING'}, {'property': 'id', 'type': 'STRING'}]}, {'labels': 'Radiographic technique', 'properties': [{'property': 'name', 'type': 'STRING'}, {'property': 'id', 'type': 'STRING'}]}, {'labels': 'Lobe', 'properties': [{'property': 'name', 'type': 'STRING'}, {'property': 'id', 'type': 'STRING'}]}, {'labels': 'Feature', 'properties': [{'property': 'name', 'type': 'STRING'}, {'property': 'id', 'type': 'STRING'}]}, {'labels': 'Radiographic finding', 'properties': [{'property': 'id', 'type': 'STRING'}, {'property': 'name', 'type': 'STRING'}]}, {'labels': 'Radiation', 'properties': [{'property': 'id', 'type': 'STRING'}, {'property': 'name', 'type': 'STRING'}]}, {'labels': 'Medical imaging', 'properties': [{'property': 'name', 'type': 'STRING'}, {'property': 'id', 'type': 'STRING'}]}]\n",
      "        Relationship properties are the following:\n",
      "        [{'properties': [{'property': 'dueTo', 'type': 'STRING'}, {'property': 'producedBy', 'type': 'STRING'}], 'type': 'CAUSE'}, {'properties': [{'property': 'imagingTechnique', 'type': 'STRING'}, {'property': 'population', 'type': 'STRING'}], 'type': 'COMMONLY_SEEN_IN'}, {'properties': [{'property': 'patientPosition', 'type': 'STRING'}], 'type': 'EXISTS_BETWEEN'}, {'properties': [{'property': 'attribute', 'type': 'STRING'}], 'type': 'LIKELIHOOD_OF'}]\n",
      "        The relationships are the following:\n",
      "        ['(:Condition)-[:ASSOCIATEDWITH]->(:Association)', '(:Condition)-[:SUBTYPE_OF]->(:Condition)', '(:Condition)-[:IS_DUE_TO]->(:Cause)', '(:Condition)-[:DOES_NOT_SIGNIFICANTLY_INCREASE]->(:Property)', '(:Condition)-[:DECREASES]->(:Process)', '(:Condition)-[:REFERS_TO]->(:Condition)', '(:Condition)-[:DESCRIBED_AS]->(:Condition)', '(:Condition)-[:DUE_TO]->(:Process)', '(:Condition)-[:DUE_TO]->(:Condition)', '(:Condition)-[:SUBTYPE]->(:Cause)', '(:Condition)-[:SUBTYPE]->(:Condition)', '(:Condition)-[:CAUSE]->(:Structure)', '(:Condition)-[:CAUSE]->(:Substance)', '(:Condition)-[:GREATER_THAN]->(:Condition)', '(:Condition)-[:OCCURS_AS_A_RESULT_OF]->(:Cause)', '(:Condition)-[:IS_A_FORM_OF]->(:Condition)', '(:Condition)-[:REDUCES]->(:Effect)', '(:Condition)-[:IS_CLASSIC_IN]->(:Disease)', '(:Condition)-[:IS_CLOSELY_RELATED_TO]->(:Condition)', '(:Condition)-[:COLLAPSED_FROM_THE_SAME_PROCESS]->(:Condition)', '(:Condition)-[:ASSOCIATED_WITH]->(:Cause)', '(:Condition)-[:ASSOCIATED_WITH]->(:Anatomical structure)', '(:Condition)-[:IS_STAGE_OF]->(:Condition)', '(:Condition)-[:CONTRIBUTES_TO]->(:Concept)', '(:Condition)-[:COMMONLY_SEEN_IN]->(:Anatomical location)', '(:Condition)-[:EXISTS_IN]->(:Concept)', '(:Condition)-[:OCCURS_IN]->(:Anatomical location)', '(:Condition)-[:INCREASES]->(:Concept)', '(:Condition)-[:HAS_SYMPTOM]->(:Symptom)', '(:Condition)-[:MORE_COMMON_IN]->(:Population)', '(:Condition)-[:HAS_PATHOLOGY]->(:Pathology)', '(:Condition)-[:TYPICALLY_SEEN_IN]->(:Anatomical structure)', '(:Condition)-[:PROTECTIVE_MEASURE_AGAINST]->(:Anatomical structure)', '(:Condition)-[:LIKELIHOOD_OF]->(:Condition)', '(:Condition)-[:NOT_THOUGHT_TO_BE]->(:Attribute)', '(:Condition)-[:NOT_APPEAR_TO]->(:Attribute)', '(:Condition)-[:PRE-CLINICAL_FORM_OF]->(:Condition)', '(:Section)-[:CAN_PRESENT_WITH]->(:Condition)', '(:Section)-[:CAN_PRESENT_WITH]->(:Symptom)', '(:Section)-[:DEPENDS_ON]->(:Property)', '(:Section)-[:MAY_BE]->(:Property)', '(:Section)-[:MAY_PRESENT_AS]->(:Property)', '(:Section)-[:MAY_REVEAL]->(:Property)', '(:Section)-[:CAN_BE_GROUPED_INTO]->(:Property)', '(:Section)-[:INCLUDES]->(:Patient population)', '(:Section)-[:INCLUDES]->(:Cause)', '(:Section)-[:RELATED_TO]->(:Condition)', '(:Cause)-[:SUBTYPE]->(:Procedure)', '(:Cause)-[:NO_LONGER_HOLDS]->(:Anatomical structure)', '(:Cause)-[:AFFECTS]->(:Organ)', '(:Cause)-[:OCCURS_IN]->(:Anatomical structure)', '(:Diagnosis)-[:SHOULD_BE_DISTINGUISHED_FROM]->(:Medical condition)', '(:Diagnosis)-[:SHOULD_BE_DISTINGUISHED_FROM]->(:Radiographic finding)', '(:Concept)-[:INCLUDE]->(:Medical imaging)', '(:Concept)-[:HASFEATURE]->(:Medicalterm)', '(:Concept)-[:DESCRIBES]->(:Imagingtechnique)', '(:Concept)-[:SUBCATEGORISEDAS]->(:Atelectasistype)', '(:Concept)-[:HASSIGN]->(:Medicalterm)', '(:Concept)-[:HASSIGN]->(:Anatomicalstructure)', '(:Concept)-[:EXISTS_BETWEEN]->(:Anatomical location)', '(:Concept)-[:CAUSES]->(:Condition)', '(:Concept)-[:CAUSES]->(:Concept)', '(:Concept)-[:CAUSES]->(:Anatomical structure)', '(:Concept)-[:IS_A_CHARACTERISTIC_OF]->(:Concept)', '(:Concept)-[:SEEN_ON]->(:Concept)', '(:Concept)-[:MAKES_IDENTIFICATION_DIFFICULT]->(:Concept)', '(:Concept)-[:RADIATING_INTO]->(:Concept)', '(:Concept)-[:OCCURRING_IN]->(:Concept)', '(:Concept)-[:CAUSED_BY]->(:Concept)', '(:Concept)-[:IDENTIFIED_BY]->(:Concept)', '(:Concept)-[:AETIOLOGY]->(:Concept)', '(:Concept)-[:SUBTYPE_OF]->(:Concept)', '(:Concept)-[:HAS]->(:Concept)', '(:Concept)-[:MAY_BE_INFLUENCED_BY]->(:Concept)', '(:Concept)-[:COLLAPSES_IN_PRESENCE_OF]->(:Concept)', '(:Concept)-[:COLLAPSES_ADJACENT_TO]->(:Concept)', '(:Concept)-[:FOLLOWS]->(:Concept)', '(:Concept)-[:REQUIRES]->(:Concept)', '(:Concept)-[:POINTS_TO]->(:Concept)', '(:Concept)-[:MAINTAINS]->(:Concept)', '(:Concept)-[:NOT_SYNONYMOUS_WITH]->(:Concept)', '(:Concept)-[:INDICATES]->(:Concept)', '(:Concept)-[:SUGGESTS]->(:Concept)', '(:Concept)-[:COMPENSATES_FOR]->(:Concept)', '(:Concept)-[:TOWARDS]->(:Concept)', '(:Concept)-[:OBSTRUCTS]->(:Concept)', '(:Concept)-[:REFER_TO]->(:Concept)', '(:Concept)-[:IS_ALSO_KNOWN_AS]->(:Concept)', '(:Concept)-[:IS_SEEN_IN]->(:Anatomical structure)', '(:Concept)-[:IS_SEEN_IN]->(:Medical imaging)', '(:Concept)-[:IS_LOCATED_IN]->(:Anatomical structure)', '(:Concept)-[:IS_A_FEATURE_OF]->(:Medical condition)', '(:Concept)-[:POINTS_TOWARDS]->(:Anatomical structure)', '(:Concept)-[:IS_CREATED_BY]->(:Medical condition)', '(:Concept)-[:RESULTS_IN]->(:Concept)', '(:Concept)-[:ARE_ALSO_FOUND_IN]->(:Medical condition)', '(:Concept)-[:IS_USED_TO_VISUALIZE]->(:Concept)', '(:Concept)-[:OCCURS_IN]->(:Anatomical structure)', '(:Concept)-[:IS_ASSOCIATED_WITH]->(:Medical condition)', '(:Concept)-[:IS_OBSCURED_BY]->(:Anatomical structure)', '(:Concept)-[:APPEAR_DENSER_THAN_NORMAL_IN]->(:Anatomical structure)', '(:Concept)-[:IS_THINNER_AT]->(:Anatomical structure)', '(:Concept)-[:IS_LOCATED_AGAINST]->(:Anatomical structure)', '(:Medical condition)-[:CLASSIFIED_INTO]->(:Clinicoradiological stage)', '(:Medical condition)-[:INCLUDES]->(:Medical condition)', '(:Medical condition)-[:TREATED_WITH]->(:Medical procedure)', '(:Medical condition)-[:MOST_LIKELY_TO_BE_CHRONICALLY_COLLAPSED]->(:Lobe)', '(:Medical condition)-[:SYNONYM]->(:Medical condition)', '(:Medical condition)-[:HAS_DISTINCTIVE_FEATURES]->(:Radiographic technique)', '(:Medical condition)-[:REFERRED_TO_AS]->(:Medical condition)', '(:Medical condition)-[:SIGNS_OF]->(:Lobe)', '(:Medical condition)-[:SIGNS_OF]->(:Medical condition)', '(:Medical condition)-[:REQUIRES_ATTENTION_TO]->(:Anatomical structure)', '(:Medical condition)-[:HAS]->(:Concept)', '(:Medical condition)-[:CAN_BE_IDENTIFIED_ON]->(:Medical imaging)', '(:Medical condition)-[:ARE]->(:Concept)', '(:Medical condition)-[:CAN_BE_GROUPED_TOGETHER_WITH]->(:Concept)', '(:Medical condition)-[:CAN_BE_PRESENT_WITH]->(:Medical condition)', '(:Medical condition)-[:IS]->(:Anatomical structure)', '(:Medical condition)-[:CAUSES]->(:Anatomical structure)', '(:Medical condition)-[:RESULTS_IN]->(:Anatomical structure)', '(:Organ)-[:RELAXES_BACK_TO]->(:Property)', '(:Person)-[:HAS]->(:Anatomical structure)', '(:Person)-[:HAS]->(:Medical condition)', '(:Person)-[:ARE]->(:Medical condition)', '(:Location)-[:LOCATEDIN]->(:Condition)', '(:Term)-[:REFERS_TO]->(:Organ)', '(:Term)-[:DESCRIBES]->(:Condition)', '(:Medicalterm)-[:ORIGINATESFROM]->(:Medicalterm)', '(:Medicalterm)-[:ORIGINATESFROM]->(:Language)', '(:Medicalterm)-[:SYNONYM]->(:Medicalterm)', '(:Medicalterm)-[:DESCRIBES]->(:Concept)', '(:Medicalterm)-[:ISSUBTYPEOF]->(:Medicalterm)', '(:Medicalterm)-[:HASCAUSE]->(:Medicalterm)', '(:Medicalterm)-[:HASCAUSE]->(:Organ)', '(:Medicalterm)-[:HASSHAPE]->(:Medicalterm)', '(:Medicalterm)-[:ALSOKNOWNAS]->(:Medicalterm)', '(:Medicalterm)-[:SEENON]->(:Medicalterm)', '(:Medicalterm)-[:NAMEDAFTER]->(:Person)', '(:Medicalterm)-[:REFERSTO]->(:Medicalterm)', '(:Medicalterm)-[:REFERSTO]->(:Organ)', '(:Medicalterm)-[:HASFEATURE]->(:Concept)', '(:Medicalterm)-[:SUBTYPE_OF]->(:Medicalterm)', '(:Medicalterm)-[:BETTER_APPRECIATED_ON]->(:Medicalterm)', '(:Medicalterm)-[:CAN_RANGE_FROM]->(:Medicalterm)', '(:Medicalterm)-[:REFERS_TO]->(:Anatomicalstructure)', '(:Medicalterm)-[:IS_A]->(:Medicalterm)', '(:Medicalterm)-[:DOES_NOT_ABUT]->(:Anatomicalstructure)', '(:Atelectasistype)-[:HASCAUSE]->(:Medicalterm)', '(:Atelectasistype)-[:HASCAUSE]->(:Anatomicalstructure)', '(:Atelectasistype)-[:HASCAUSE]->(:Organ)', '(:Atelectasistype)-[:HASSIGN]->(:Medicalterm)', '(:Atelectasistype)-[:HASSIGN]->(:Anatomicalstructure)', '(:Medical term)-[:SUBTYPE]->(:Medical term)', '(:Medical term)-[:SUPERTYPE]->(:Medical term)', '(:Pathology)-[:SUBTYPE]->(:Pathology)', '(:Pathology)-[:SUPERTYPE]->(:Pathology)', '(:Pathology)-[:CAUSES]->(:Condition)', '(:Radiographic feature)-[:SUBTYPE]->(:Radiographic feature)', '(:Radiographic feature)-[:SUPERTYPE]->(:Radiographic feature)', '(:Differential diagnosis)-[:POSSIBLE_MIMICKING]->(:Differential diagnosis)', '(:Association)-[:ASSOCIATEDCONDITION]->(:Condition)', '(:Aetiology)-[:ASSOCIATEDCONDITION]->(:Condition)', '(:Radiographicfeature)-[:HASFEATURE]->(:Condition)', '(:Nuclearmedicine)-[:HASFEATURE]->(:Condition)', '(:Historyandetymology)-[:DESCRIBEDBY]->(:Condition)', '(:Anatomical structure)-[:ROTATES_POSTERIORLY_WITH]->(:Concept)', '(:Anatomical structure)-[:IS_DISPLACED_INFERIORLY_BY]->(:Medical condition)', '(:Anatomical structure)-[:IS_DISPLACED_BY]->(:Concept)', '(:Anatomical structure)-[:MAY_BE_INVISIBLE_WITH]->(:Concept)', '(:Anatomical structure)-[:IS_NON-TANGENTIAL_TO]->(:Concept)', '(:Anatomical structure)-[:IS_OBSCURED_BY]->(:Medical condition)', '(:Anatomical structure)-[:CONTACT]->(:Concept)', '(:Anatomical structure)-[:ARE_NOT_OBSCURED_BY]->(:Medical condition)', '(:Anatomical structure)-[:IS_NOT_VISIBLE_IN]->(:Medical condition)', '(:Category)-[:BELONGS_TO]->(:Condition)', '(:Category)-[:DUE_TO]->(:Condition)', '(:Age group)-[:ASSOCIATED_WITH]->(:Condition)', '(:Medicalcondition)-[:HASSECTION]->(:Section)', '(:Radiographic technique)-[:RENDERS_IT_NON-TANGENTAL]->(:Radiation)', '(:Radiographic technique)-[:FINDINGS_ARE_SUBTLE]->(:Radiographic finding)', '(:Radiographic technique)-[:NO_LONGER_VISIBLE]->(:Anatomical structure)', '(:Radiographic technique)-[:MAY_HELP_IDENTIFY]->(:Radiographic technique)', '(:Radiographic technique)-[:OBSCURATION_OF]->(:Anatomical structure)', '(:Radiographic technique)-[:INCREASED_OPACITY_ADJACENT_TO]->(:Radiographic finding)', '(:Radiographic technique)-[:REQUIRES_A_DEGREE_OF]->(:Medical condition)', '(:Radiographic technique)-[:REQUIRES_A_DEGREE_OF]->(:Radiographic finding)', '(:Radiographic technique)-[:MAY_ALSO_BE_PRESENT]->(:Medical condition)', '(:Radiographic technique)-[:MAY_BE_PRESENT]->(:Radiographic finding)', '(:Radiographic technique)-[:USUALLY_RELATIVELY_EASY_TO_IDENTIFY]->(:Medical condition)', '(:Radiographic technique)-[:APEX_AT]->(:Anatomical structure)', '(:Radiographic technique)-[:APPEARING_AS]->(:Radiographic finding)', '(:Radiographic technique)-[:OVERLYING]->(:Anatomical structure)', '(:Radiographic technique)-[:ROTATES]->(:Lobe)', '(:Radiographic technique)-[:ROTATES]->(:Anatomical structure)', '(:Radiographic technique)-[:BOWS]->(:Anatomical structure)', '(:Radiographic technique)-[:IN_AXIAL_IMAGES]->(:Radiographic finding)', '(:Feature)-[:INCLUDES]->(:Radiographic technique)', '(:Radiographic finding)-[:SUGGESTS]->(:Medical condition)', '(:Medical imaging)-[:IS_USED_TO_IDENTIFY]->(:Medical condition)', '(:Medical imaging)-[:IS_TAKEN_OF]->(:Person)', '(:Medical imaging)-[:ARE_ASSOCIATED_WITH]->(:Medical condition)', '(:Medical imaging)-[:IS_USED_TO_VISUALIZE]->(:Concept)']\n",
      "        \n"
     ]
    }
   ],
   "source": [
    "from tqdm import tqdm\n",
    "from aug.graph_doc import (\n",
    "    get_extraction_chain,\n",
    "    data_to_graph_doc,\n",
    "    chain_run,\n",
    "    add_graph_documents,\n",
    ")\n",
    "from langchain.chat_models import ChatOpenAI\n",
    "\n",
    "llm = ChatOpenAI(model=\"gpt-3.5-turbo-16k\", temperature=0)\n",
    "\n",
    "allowed_nodes = None\n",
    "allowed_rels = None\n",
    "# allowed_nodes = [\"Symptom\", \"Disease\"]\n",
    "# allowed_rels = [\"CAN_CAUSE\", \"DESCRIBE\", \"HAS\"]\n",
    "\n",
    "extract_chain = get_extraction_chain(llm, allowed_nodes, allowed_rels)\n",
    "gds = []\n",
    "\n",
    "for d in tqdm(documents, total=len(documents)):\n",
    "    data = chain_run(extract_chain, d.page_content)\n",
    "    # data = extract_chain.run(d.page_content)\n",
    "    # graph_document = GraphDocument(\n",
    "    #     nodes=[map_to_base_node(node) for node in data.nodes],\n",
    "    #     relationships=[map_to_base_relationship(rel) for rel in data.rels],\n",
    "    #     source=d,\n",
    "    # )\n",
    "    graph_document = data_to_graph_doc(data, d)\n",
    "    # add_graph_document(graph, graph_document)\n",
    "    gds.append(graph_document)\n",
    "\n",
    "add_graph_documents(graph, gds)\n",
    "\n",
    "graph.refresh_schema()\n",
    "print(graph.schema)\n",
    "\n",
    "# 12m46.2s"
   ]
  },
  {
   "cell_type": "code",
   "execution_count": 6,
   "metadata": {},
   "outputs": [],
   "source": [
    "from langchain.chains import GraphCypherQAChain\n",
    "chain = GraphCypherQAChain.from_llm(\n",
    "    graph=graph,\n",
    "    cypher_llm=ChatOpenAI(temperature=0, model=\"gpt-3.5-turbo-16k\"),\n",
    "    qa_llm=ChatOpenAI(temperature=0, model=\"gpt-3.5-turbo-16k\"),\n",
    "    validate_cypher=True,  # Validate relationship directions\n",
    "    verbose=True,\n",
    ")"
   ]
  },
  {
   "cell_type": "code",
   "execution_count": 7,
   "metadata": {},
   "outputs": [
    {
     "name": "stdout",
     "output_type": "stream",
     "text": [
      "\n",
      "\n",
      "\u001b[1m> Entering new GraphCypherQAChain chain...\u001b[0m\n",
      "Generated Cypher:\n",
      "\u001b[32;1m\u001b[1;3mMATCH (c:Condition {name: 'Atelectasis'})\n",
      "RETURN c\u001b[0m\n",
      "Full Context:\n",
      "\u001b[32;1m\u001b[1;3m[{'c': {'name': 'Atelectasis', 'id': 'Atelectasis'}}]\u001b[0m\n",
      "\n",
      "\u001b[1m> Finished chain.\u001b[0m\n"
     ]
    },
    {
     "data": {
      "text/plain": [
       "'Atelectasis is a medical condition characterized by the collapse or closure of a lung or a part of it.'"
      ]
     },
     "execution_count": 7,
     "metadata": {},
     "output_type": "execute_result"
    }
   ],
   "source": [
    "chain.run(\"What is Atelectasis?\")"
   ]
  },
  {
   "cell_type": "code",
   "execution_count": 8,
   "metadata": {},
   "outputs": [
    {
     "name": "stdout",
     "output_type": "stream",
     "text": [
      "\n",
      "\n",
      "\u001b[1m> Entering new GraphCypherQAChain chain...\u001b[0m\n",
      "Generated Cypher:\n",
      "\u001b[32;1m\u001b[1;3mMATCH (c:Condition {name: 'Atelectasis'})-[:HAS_SYMPTOM]->(s:Symptom)\n",
      "RETURN s.name\u001b[0m\n",
      "Full Context:\n",
      "\u001b[32;1m\u001b[1;3m[]\u001b[0m\n",
      "\n",
      "\u001b[1m> Finished chain.\u001b[0m\n"
     ]
    },
    {
     "data": {
      "text/plain": [
       "\"I'm sorry, but I don't have the information to answer your question. It would be best to consult a medical professional for accurate information on the symptoms of Atelectasis.\""
      ]
     },
     "execution_count": 8,
     "metadata": {},
     "output_type": "execute_result"
    }
   ],
   "source": [
    "chain.run(\"What are the symptoms of Atelectasis?\")"
   ]
  },
  {
   "cell_type": "code",
   "execution_count": 9,
   "metadata": {},
   "outputs": [
    {
     "name": "stdout",
     "output_type": "stream",
     "text": [
      "\n",
      "\n",
      "\u001b[1m> Entering new GraphCypherQAChain chain...\u001b[0m\n",
      "Generated Cypher:\n",
      "\u001b[32;1m\u001b[1;3m\u001b[0m\n",
      "Full Context:\n",
      "\u001b[32;1m\u001b[1;3m[]\u001b[0m\n",
      "\n",
      "\u001b[1m> Finished chain.\u001b[0m\n"
     ]
    },
    {
     "data": {
      "text/plain": [
       "'There are several factors that can cause atelectasis. Some common causes include blockage of the airways due to mucus, a foreign object, or a tumor, as well as lung diseases such as chronic obstructive pulmonary disease (COPD) or pneumonia. Additionally, certain medical procedures, such as anesthesia or prolonged bed rest, can also contribute to the development of atelectasis. It is important to consult with a healthcare professional for a proper diagnosis and treatment plan.'"
      ]
     },
     "execution_count": 9,
     "metadata": {},
     "output_type": "execute_result"
    }
   ],
   "source": [
    "chain.run(\"What can cause Atelectasis?\")"
   ]
  },
  {
   "cell_type": "code",
   "execution_count": 10,
   "metadata": {},
   "outputs": [
    {
     "name": "stdout",
     "output_type": "stream",
     "text": [
      "\n",
      "\n",
      "\u001b[1m> Entering new GraphCypherQAChain chain...\u001b[0m\n",
      "Generated Cypher:\n",
      "\u001b[32;1m\u001b[1;3mMATCH (c:Condition)-[:HAS_SYMPTOM]->(s:Symptom)\n",
      "WHERE c.name = 'Atelectasis'\n",
      "RETURN s.name\u001b[0m\n",
      "Full Context:\n",
      "\u001b[32;1m\u001b[1;3m[]\u001b[0m\n",
      "\n",
      "\u001b[1m> Finished chain.\u001b[0m\n"
     ]
    },
    {
     "data": {
      "text/plain": [
       "'To diagnose Atelectasis, radiologists typically look for certain clinical features. These may include signs such as lung collapse, airway obstruction, and reduced lung volume. Additionally, they may also consider the presence of symptoms such as shortness of breath, coughing, and decreased breath sounds. By evaluating these clinical features, radiologists can help in diagnosing Atelectasis.'"
      ]
     },
     "execution_count": 10,
     "metadata": {},
     "output_type": "execute_result"
    }
   ],
   "source": [
    "chain.run(\"What clinical features radiologists need for diagnosing Atelectasis?\")"
   ]
  },
  {
   "cell_type": "code",
   "execution_count": 11,
   "metadata": {},
   "outputs": [
    {
     "name": "stdout",
     "output_type": "stream",
     "text": [
      "\n",
      "\n",
      "\u001b[1m> Entering new GraphCypherQAChain chain...\u001b[0m\n",
      "Generated Cypher:\n",
      "\u001b[32;1m\u001b[1;3m\u001b[0m\n",
      "Full Context:\n",
      "\u001b[32;1m\u001b[1;3m[]\u001b[0m\n",
      "\n",
      "\u001b[1m> Finished chain.\u001b[0m\n"
     ]
    },
    {
     "data": {
      "text/plain": [
       "\"I'm sorry, but I don't have the information to answer your question about the radiographic features of Atelectasis.\""
      ]
     },
     "execution_count": 11,
     "metadata": {},
     "output_type": "execute_result"
    }
   ],
   "source": [
    "chain.run(\"what are radiographic features of Atelectasis?\")"
   ]
  },
  {
   "cell_type": "code",
   "execution_count": null,
   "metadata": {},
   "outputs": [],
   "source": []
  }
 ],
 "metadata": {
  "kernelspec": {
   "display_name": "pytorch",
   "language": "python",
   "name": "python3"
  },
  "language_info": {
   "codemirror_mode": {
    "name": "ipython",
    "version": 3
   },
   "file_extension": ".py",
   "mimetype": "text/x-python",
   "name": "python",
   "nbconvert_exporter": "python",
   "pygments_lexer": "ipython3",
   "version": "3.9.18"
  }
 },
 "nbformat": 4,
 "nbformat_minor": 2
}
