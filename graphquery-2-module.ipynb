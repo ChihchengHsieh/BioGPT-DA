{
 "cells": [
  {
   "cell_type": "code",
   "execution_count": 1,
   "metadata": {},
   "outputs": [],
   "source": [
    "import re\n",
    "import os\n",
    "from langchain.vectorstores.neo4j_vector import Neo4jVector\n",
    "from langchain.document_loaders import WikipediaLoader\n",
    "from langchain.embeddings.openai import OpenAIEmbeddings\n",
    "from langchain.text_splitter import (\n",
    "    CharacterTextSplitter,\n",
    "    RecursiveCharacterTextSplitter,\n",
    ")\n",
    "from transformers import AutoModelForSeq2SeqLM, AutoTokenizer\n",
    "from secret import *\n",
    "# from langchain.graphs.graph_document import (\n",
    "#     GraphDocument,\n",
    "#     Node as BaseNode,\n",
    "#     Relationship as BaseRelationship,\n",
    "# )\n",
    "# from typing import List, Dict, Any, Optional\n",
    "# from langchain.pydantic_v1 import Field, BaseModel\n",
    "# import chromadb\n",
    "\n",
    "from langchain.graphs import Neo4jGraph\n",
    "\n",
    "os.environ[\"OPENAI_API_KEY\"] = OPENAI_API_KEY"
   ]
  },
  {
   "cell_type": "code",
   "execution_count": 2,
   "metadata": {},
   "outputs": [
    {
     "name": "stdout",
     "output_type": "stream",
     "text": [
      "\n",
      "        Node properties are the following:\n",
      "        []\n",
      "        Relationship properties are the following:\n",
      "        []\n",
      "        The relationships are the following:\n",
      "        []\n",
      "        \n"
     ]
    }
   ],
   "source": [
    "graph = Neo4jGraph(url=\"bolt://localhost:7687\", username=\"neo4j\", password=\"test1234\")\n",
    "graph.query(\n",
    "    \"\"\"\n",
    "MATCH (n)\n",
    "DETACH DELETE n\n",
    "\"\"\"\n",
    ")\n",
    "graph.refresh_schema()\n",
    "print(graph.schema)"
   ]
  },
  {
   "cell_type": "code",
   "execution_count": 3,
   "metadata": {},
   "outputs": [],
   "source": [
    "# class Property(BaseModel):\n",
    "#     \"\"\"A single property consisting of key and value\"\"\"\n",
    "\n",
    "#     key: str = Field(..., description=\"key\")\n",
    "#     value: str = Field(..., description=\"value\")\n",
    "\n",
    "\n",
    "# class Node(BaseNode):\n",
    "#     properties: Optional[List[Property]] = Field(\n",
    "#         None, description=\"List of node properties\"\n",
    "#     )\n",
    "\n",
    "\n",
    "# class Relationship(BaseRelationship):\n",
    "#     properties: Optional[List[Property]] = Field(\n",
    "#         None, description=\"List of relationship properties\"\n",
    "#     )\n",
    "\n",
    "\n",
    "# class KnowledgeGraph(BaseModel):\n",
    "#     \"\"\"Generate a knowledge graph with entities and relationships.\"\"\"\n",
    "\n",
    "#     nodes: List[Node] = Field(..., description=\"List of nodes in the knowledge graph\")\n",
    "#     rels: List[Relationship] = Field(\n",
    "#         ..., description=\"List of relationships in the knowledge graph\"\n",
    "#     )"
   ]
  },
  {
   "cell_type": "code",
   "execution_count": null,
   "metadata": {},
   "outputs": [],
   "source": []
  },
  {
   "cell_type": "code",
   "execution_count": 4,
   "metadata": {},
   "outputs": [],
   "source": [
    "# from langchain.prompts.chat import ChatPromptTemplate\n",
    "# from langchain.chains.openai_functions import create_structured_output_chain\n",
    "# from langchain.chat_models import ChatOpenAI\n",
    "\n",
    "# llm = ChatOpenAI(model=\"gpt-3.5-turbo-16k\", temperature=0)\n",
    "\n",
    "\n",
    "# def get_extraction_chain(\n",
    "#     allowed_nodes: Optional[List[str]] = None, allowed_rels: Optional[List[str]] = None\n",
    "# ):\n",
    "#     prompt = ChatPromptTemplate.from_messages(\n",
    "#         [\n",
    "#             (\n",
    "#                 \"system\",\n",
    "#                 f\"\"\"# Knowledge Graph Instructions for GPT\n",
    "# ## 1. Overview\n",
    "# You are a top-tier algorithm designed for extracting information in structured formats to build a knowledge graph.\n",
    "# - **Nodes** represent entities and concepts. They're akin to Wikipedia nodes.\n",
    "# - The aim is to achieve simplicity and clarity in the knowledge graph, making it accessible for a vast audience.\n",
    "# ## 2. Labeling Nodes\n",
    "# - **Consistency**: Ensure you use basic or elementary types for node labels.\n",
    "#   - For example, when you identify an entity representing a person, always label it as **\"person\"**. Avoid using more specific terms like \"mathematician\" or \"scientist\".\n",
    "# - **Node IDs**: Never utilize integers as node IDs. Node IDs should be names or human-readable identifiers found in the text.\n",
    "# {'- **Allowed Node Labels:**' + \", \".join(allowed_nodes) if allowed_nodes else \"\"}\n",
    "# {'- **Allowed Relationship Types**:' + \", \".join(allowed_rels) if allowed_rels else \"\"}\n",
    "# ## 3. Handling Numerical Data and Dates\n",
    "# - Numerical data, like age or other related information, should be incorporated as attributes or properties of the respective nodes.\n",
    "# - **No Separate Nodes for Dates/Numbers**: Do not create separate nodes for dates or numerical values. Always attach them as attributes or properties of nodes.\n",
    "# - **Property Format**: Properties must be in a key-value format.\n",
    "# - **Quotation Marks**: Never use escaped single or double quotes within property values.\n",
    "# - **Naming Convention**: Use camelCase for property keys, e.g., `birthDate`.\n",
    "# ## 4. Coreference Resolution\n",
    "# - **Maintain Entity Consistency**: When extracting entities, it's vital to ensure consistency.\n",
    "# If an entity, such as \"John Doe\", is mentioned multiple times in the text but is referred to by different names or pronouns (e.g., \"Joe\", \"he\"), \n",
    "# always use the most complete identifier for that entity throughout the knowledge graph. In this example, use \"John Doe\" as the entity ID.  \n",
    "# Remember, the knowledge graph should be coherent and easily understandable, so maintaining consistency in entity references is crucial. \n",
    "# ## 5. Strict Compliance\n",
    "# Adhere to the rules strictly. Non-compliance will result in termination.\"\"\",\n",
    "#             ),\n",
    "#             (\n",
    "#                 \"human\",\n",
    "#                 \"Use the given format to extract information from the following input: {input}\",\n",
    "#             ),\n",
    "#             (\"human\", \"Tip: Make sure to answer in the correct format\"),\n",
    "#         ]\n",
    "#     )\n",
    "#     return create_structured_output_chain(KnowledgeGraph, llm, prompt, verbose=False)"
   ]
  },
  {
   "cell_type": "code",
   "execution_count": 5,
   "metadata": {},
   "outputs": [],
   "source": [
    "def format_property_key(s: str) -> str:\n",
    "#     words = s.split()\n",
    "#     if not words:\n",
    "#         return s\n",
    "#     first_word = words[0].lower()\n",
    "#     capitalized_words = [word.capitalize() for word in words[1:]]\n",
    "#     return \"\".join([first_word] + capitalized_words)\n",
    "\n",
    "# def props_to_dict(props) -> dict:\n",
    "#     \"\"\"Convert properties to a dictionary.\"\"\"\n",
    "#     properties = {}\n",
    "#     if not props:\n",
    "#         return properties\n",
    "#     for p in props:\n",
    "#         properties[format_property_key(p.key)] = p.value\n",
    "#     return properties\n",
    "\n",
    "# def map_to_base_node(node: Node) -> BaseNode:\n",
    "#     \"\"\"Map the KnowledgeGraph Node to the base Node.\"\"\"\n",
    "#     properties = props_to_dict(node.properties) if node.properties else {}\n",
    "#     # Add name property for better Cypher statement generation\n",
    "#     properties[\"name\"] = node.id.title()\n",
    "#     return BaseNode(\n",
    "#         id=node.id.title(), type=node.type.capitalize(), properties=properties\n",
    "#     )\n",
    "\n",
    "\n",
    "# def map_to_base_relationship(rel: Relationship) -> BaseRelationship:\n",
    "#     \"\"\"Map the KnowledgeGraph Relationship to the base Relationship.\"\"\"\n",
    "#     source = map_to_base_node(rel.source)\n",
    "#     target = map_to_base_node(rel.target)\n",
    "#     properties = props_to_dict(rel.properties) if rel.properties else {}\n",
    "#     return BaseRelationship(\n",
    "#         source=source, target=target, type=rel.type, properties=properties\n",
    "#     )# "
   ]
  },
  {
   "cell_type": "code",
   "execution_count": 6,
   "metadata": {},
   "outputs": [],
   "source": [
    "# from langchain.schema.document import Document\n",
    "# from langchain.graphs import Neo4jGraph\n",
    "\n",
    "# def extract_and_store_graph(\n",
    "#     graph: Neo4jGraph,\n",
    "#     document: Document,\n",
    "#     nodes: Optional[List[str]] = None,\n",
    "#     rels: Optional[List[str]] = None,\n",
    "# ) -> None:\n",
    "#     # Extract graph data using OpenAI functions\n",
    "#     extract_chain = get_extraction_chain(nodes, rels)\n",
    "#     # return extract_chain\n",
    "#     data = extract_chain.run(document.page_content)\n",
    "#     # Construct a graph document\n",
    "#     graph_document = GraphDocument(\n",
    "#         nodes=[map_to_base_node(node) for node in data.nodes],\n",
    "#         relationships=[map_to_base_relationship(rel) for rel in data.rels],\n",
    "#         source=document,\n",
    "#     )\n",
    "#     # Store information into a graph\n",
    "#     graph.add_graph_documents([graph_document])"
   ]
  },
  {
   "cell_type": "code",
   "execution_count": 7,
   "metadata": {},
   "outputs": [],
   "source": [
    "from langchain.document_loaders import WikipediaLoader\n",
    "from langchain.text_splitter import TokenTextSplitter\n",
    "raw_documents = WikipediaLoader(query=\"Atelectasis\").load()\n",
    "text_splitter = TokenTextSplitter(chunk_size=2048, chunk_overlap=24)\n",
    "documents = text_splitter.split_documents(raw_documents)"
   ]
  },
  {
   "cell_type": "code",
   "execution_count": 8,
   "metadata": {},
   "outputs": [],
   "source": [
    "# from langchain.graphs import Neo4jGraph\n",
    "# graph = Neo4jGraph(url=NOE4J_URL, username=\"neo4j\", password=NOE4J_PASSWORD)\n",
    "# print(graph.schema)"
   ]
  },
  {
   "cell_type": "code",
   "execution_count": 9,
   "metadata": {},
   "outputs": [],
   "source": [
    "# from pydantic.v1.error_wrappers import ValidationError"
   ]
  },
  {
   "cell_type": "code",
   "execution_count": 10,
   "metadata": {},
   "outputs": [],
   "source": [
    "# from tenacity import (\n",
    "#     retry,\n",
    "#     stop_after_attempt,\n",
    "#     wait_random_exponential,\n",
    "#     retry_if_exception_type\n",
    "# )  # for exponential backoff\n",
    "# from http.client import SERVICE_UNAVAILABLE\n",
    "# from pydantic.v1.error_wrappers import ValidationError\n",
    "\n",
    "# @retry(\n",
    "#     retry=retry_if_exception_type((SERVICE_UNAVAILABLE)), \n",
    "#     wait=wait_random_exponential(multiplier=1, max=60), \n",
    "#     stop=stop_after_attempt(10)\n",
    "# )\n",
    "# def add_graph_document(graph, graph_document):\n",
    "#     graph.add_graph_documents([graph_document])\n",
    "#     return graph\n",
    "\n",
    "\n",
    "# @retry(\n",
    "#     retry=retry_if_exception_type((SERVICE_UNAVAILABLE)), \n",
    "#     wait=wait_random_exponential(multiplier=1, max=60), \n",
    "#     stop=stop_after_attempt(10)\n",
    "# )\n",
    "# def add_graph_documents(graph, graph_documents):\n",
    "#     graph.add_graph_documents(graph_documents)\n",
    "#     return graph\n",
    "\n",
    "# @retry(\n",
    "#     retry=retry_if_exception_type((ValidationError)), \n",
    "#     wait=wait_random_exponential(multiplier=1, max=60), \n",
    "#     stop=stop_after_attempt(10)\n",
    "# )\n",
    "# def chain_run(chain, content):\n",
    "#     return chain.run(content)\n"
   ]
  },
  {
   "cell_type": "code",
   "execution_count": 11,
   "metadata": {},
   "outputs": [
    {
     "name": "stderr",
     "output_type": "stream",
     "text": [
      "100%|██████████| 10/10 [07:47<00:00, 46.72s/it]\n"
     ]
    },
    {
     "data": {
      "text/plain": [
       "<langchain.graphs.neo4j_graph.Neo4jGraph at 0x280beb7b760>"
      ]
     },
     "execution_count": 11,
     "metadata": {},
     "output_type": "execute_result"
    }
   ],
   "source": [
    "from tqdm import tqdm\n",
    "from aug.graph_doc import (\n",
    "    get_extraction_chain,\n",
    "    data_to_graph_doc,\n",
    "    chain_run,\n",
    "    add_graph_documents,\n",
    ")\n",
    "from langchain.chat_models import ChatOpenAI\n",
    "\n",
    "llm = ChatOpenAI(model=\"gpt-3.5-turbo-16k\", temperature=0)\n",
    "\n",
    "allowed_nodes = None\n",
    "allowed_rels = None\n",
    "# allowed_nodes = [\"Symptom\", \"Disease\"]\n",
    "# allowed_rels = [\"CAN_CAUSE\", \"DESCRIBE\", \"HAS\"]\n",
    "\n",
    "extract_chain = get_extraction_chain(llm, allowed_nodes, allowed_rels)\n",
    "gds = []\n",
    "\n",
    "for d in tqdm(documents, total=len(documents)):\n",
    "    data = chain_run(extract_chain, d.page_content)\n",
    "    # data = extract_chain.run(d.page_content)\n",
    "    # graph_document = GraphDocument(\n",
    "    #     nodes=[map_to_base_node(node) for node in data.nodes],\n",
    "    #     relationships=[map_to_base_relationship(rel) for rel in data.rels],\n",
    "    #     source=d,\n",
    "    # )\n",
    "    graph_document = data_to_graph_doc(data, d)\n",
    "    # add_graph_document(graph, graph_document)\n",
    "    gds.append(graph_document)\n",
    "\n",
    "add_graph_documents(graph, gds)"
   ]
  },
  {
   "cell_type": "code",
   "execution_count": 12,
   "metadata": {},
   "outputs": [
    {
     "name": "stdout",
     "output_type": "stream",
     "text": [
      "\n",
      "        Node properties are the following:\n",
      "        [{'labels': 'Condition', 'properties': [{'property': 'name', 'type': 'STRING'}, {'property': 'id', 'type': 'STRING'}, {'property': 'prevalence', 'type': 'STRING'}, {'property': 'history', 'type': 'STRING'}, {'property': 'mechanism', 'type': 'STRING'}, {'property': 'treatment', 'type': 'STRING'}, {'property': 'epidemiology', 'type': 'STRING'}, {'property': 'diagnosis', 'type': 'STRING'}, {'property': 'signsandsymptoms', 'type': 'STRING'}, {'property': 'description', 'type': 'STRING'}, {'property': 'definition', 'type': 'STRING'}, {'property': 'causedBy', 'type': 'STRING'}, {'property': 'affects', 'type': 'STRING'}, {'property': 'unilateral', 'type': 'STRING'}, {'property': 'alsoKnownAs', 'type': 'STRING'}]}, {'labels': 'Section', 'properties': [{'property': 'id', 'type': 'STRING'}, {'property': 'name', 'type': 'STRING'}, {'property': 'description', 'type': 'STRING'}]}, {'labels': 'Symptom', 'properties': [{'property': 'description', 'type': 'STRING'}, {'property': 'id', 'type': 'STRING'}, {'property': 'name', 'type': 'STRING'}, {'property': 'prominence', 'type': 'STRING'}, {'property': 'common', 'type': 'STRING'}, {'property': 'type', 'type': 'STRING'}, {'property': 'timing', 'type': 'STRING'}]}, {'labels': 'Cause', 'properties': [{'property': 'name', 'type': 'STRING'}, {'property': 'id', 'type': 'STRING'}, {'property': 'characterizedBy', 'type': 'STRING'}, {'property': 'developsIn', 'type': 'STRING'}, {'property': 'location', 'type': 'STRING'}, {'property': 'description', 'type': 'STRING'}]}, {'labels': 'Risk factor', 'properties': [{'property': 'id', 'type': 'STRING'}, {'property': 'name', 'type': 'STRING'}, {'property': 'description', 'type': 'STRING'}]}, {'labels': 'Type', 'properties': [{'property': 'characteristics', 'type': 'STRING'}, {'property': 'name', 'type': 'STRING'}, {'property': 'id', 'type': 'STRING'}, {'property': 'description', 'type': 'STRING'}]}, {'labels': 'Associated factor', 'properties': [{'property': 'id', 'type': 'STRING'}, {'property': 'name', 'type': 'STRING'}, {'property': 'type', 'type': 'STRING'}]}, {'labels': 'Diagnosis', 'properties': [{'property': 'pattern', 'type': 'STRING'}, {'property': 'name', 'type': 'STRING'}, {'property': 'id', 'type': 'STRING'}]}, {'labels': 'Anatomy', 'properties': [{'property': 'id', 'type': 'STRING'}, {'property': 'name', 'type': 'STRING'}, {'property': 'definition', 'type': 'STRING'}, {'property': 'plural', 'type': 'STRING'}, {'property': 'description', 'type': 'STRING'}]}, {'labels': 'Factor', 'properties': [{'property': 'description', 'type': 'STRING'}, {'property': 'name', 'type': 'STRING'}, {'property': 'id', 'type': 'STRING'}]}, {'labels': 'Concept', 'properties': [{'property': 'description', 'type': 'STRING'}, {'property': 'id', 'type': 'STRING'}, {'property': 'name', 'type': 'STRING'}, {'property': 'definition', 'type': 'STRING'}]}, {'labels': 'Procedure', 'properties': [{'property': 'description', 'type': 'STRING'}, {'property': 'id', 'type': 'STRING'}, {'property': 'name', 'type': 'STRING'}]}, {'labels': 'Device', 'properties': [{'property': 'description', 'type': 'STRING'}, {'property': 'id', 'type': 'STRING'}, {'property': 'name', 'type': 'STRING'}]}, {'labels': 'Risk', 'properties': [{'property': 'description', 'type': 'STRING'}, {'property': 'id', 'type': 'STRING'}, {'property': 'name', 'type': 'STRING'}]}, {'labels': 'Measurement', 'properties': [{'property': 'name', 'type': 'STRING'}, {'property': 'id', 'type': 'STRING'}, {'property': 'description', 'type': 'STRING'}]}, {'labels': 'Organization', 'properties': [{'property': 'name', 'type': 'STRING'}, {'property': 'id', 'type': 'STRING'}, {'property': 'description', 'type': 'STRING'}]}, {'labels': 'Profession', 'properties': [{'property': 'description', 'type': 'STRING'}, {'property': 'id', 'type': 'STRING'}, {'property': 'name', 'type': 'STRING'}]}, {'labels': 'Drug', 'properties': [{'property': 'medicaluses', 'type': 'STRING'}, {'property': 'name', 'type': 'STRING'}, {'property': 'brandname', 'type': 'STRING'}, {'property': 'legalstatus', 'type': 'STRING'}, {'property': 'id', 'type': 'STRING'}]}, {'labels': 'Enzyme', 'properties': [{'property': 'id', 'type': 'STRING'}, {'property': 'name', 'type': 'STRING'}, {'property': 'description', 'type': 'STRING'}]}, {'labels': 'Cell line', 'properties': [{'property': 'name', 'type': 'STRING'}, {'property': 'id', 'type': 'STRING'}]}, {'labels': 'Substance', 'properties': [{'property': 'id', 'type': 'STRING'}, {'property': 'name', 'type': 'STRING'}]}, {'labels': 'Organ', 'properties': [{'property': 'id', 'type': 'STRING'}, {'property': 'name', 'type': 'STRING'}, {'property': 'location', 'type': 'STRING'}]}, {'labels': 'Diagnostic test', 'properties': [{'property': 'name', 'type': 'STRING'}, {'property': 'findings', 'type': 'STRING'}, {'property': 'visibility', 'type': 'STRING'}, {'property': 'id', 'type': 'STRING'}]}, {'labels': 'Muscle', 'properties': [{'property': 'name', 'type': 'STRING'}, {'property': 'id', 'type': 'STRING'}, {'property': 'location', 'type': 'STRING'}]}, {'labels': 'Internal structure', 'properties': [{'property': 'id', 'type': 'STRING'}, {'property': 'name', 'type': 'STRING'}, {'property': 'location', 'type': 'STRING'}]}, {'labels': 'Bone', 'properties': [{'property': 'name', 'type': 'STRING'}, {'property': 'id', 'type': 'STRING'}, {'property': 'location', 'type': 'STRING'}]}, {'labels': 'External structure', 'properties': [{'property': 'location', 'type': 'STRING'}, {'property': 'id', 'type': 'STRING'}, {'property': 'name', 'type': 'STRING'}]}, {'labels': 'Part', 'properties': [{'property': 'description', 'type': 'STRING'}, {'property': 'id', 'type': 'STRING'}, {'property': 'name', 'type': 'STRING'}]}, {'labels': 'Term', 'properties': [{'property': 'name', 'type': 'STRING'}, {'property': 'id', 'type': 'STRING'}, {'property': 'description', 'type': 'STRING'}]}, {'labels': 'Effect', 'properties': [{'property': 'name', 'type': 'STRING'}, {'property': 'id', 'type': 'STRING'}]}]\n",
      "        Relationship properties are the following:\n",
      "        [{'properties': [{'property': 'oxygenContent', 'type': 'STRING'}], 'type': 'TYPICALLY_CONTAINS'}, {'properties': [{'property': 'range', 'type': 'STRING'}], 'type': 'ADEQUATE_LEVEL_FOR_MOST_CONDITIONS'}, {'properties': [{'property': 'range', 'type': 'STRING'}], 'type': 'PREFERRED_LEVEL_FOR_THOSE_AT_RISK_OF'}, {'properties': [{'property': 'range', 'type': 'STRING'}], 'type': 'RECOMMENDED_LEVEL_FOR'}, {'properties': [{'property': 'saturationsNotStartedAbove', 'type': 'STRING'}, {'property': 'saturationsGreaterThan', 'type': 'STRING'}], 'type': 'RECOMMENDED_STOPPING_POINT_FOR_OXYGEN_THERAPY'}, {'properties': [{'property': 'timeFrame', 'type': 'STRING'}], 'type': 'MOST_EFFECTIVE_IF_GIVEN_WITHIN'}, {'properties': [{'property': 'priorToPrescriptionRenewal', 'type': 'STRING'}], 'type': 'REQUIRES_RE-ASSESSMENT_BY'}, {'properties': [{'property': 'initialHypoxemiaHasResolved', 'type': 'STRING'}], 'type': 'ADDITIONAL_TREATMENT_MAY_BE_UNNECESSARY_IF'}]\n",
      "        The relationships are the following:\n",
      "        ['(:Condition)-[:CAN_CAUSE]->(:Cause)', '(:Condition)-[:CAN_CAUSE]->(:Condition)', '(:Condition)-[:COMPRISES]->(:Part)', '(:Condition)-[:DESCRIBES]->(:Term)', '(:Condition)-[:CAUSED_BY]->(:Condition)', '(:Condition)-[:CAN_INCREASE_THE_RISK_OF]->(:Risk)', '(:Condition)-[:CAN_RESULT_IN]->(:Condition)', '(:Condition)-[:USED_AS_EMERGENCY_TREATMENT_FOR]->(:Concept)', '(:Condition)-[:STANDARD_TREATMENT_FOR]->(:Procedure)', '(:Condition)-[:MAY_BE_BENEFICIAL_IN]->(:Concept)', '(:Condition)-[:ASSOCIATED_WITH]->(:Condition)', '(:Condition)-[:ASSOCIATED_WITH]->(:Symptom)', '(:Condition)-[:CLASSIFICATION]->(:Type)', '(:Condition)-[:RESULT]->(:Condition)', '(:Condition)-[:SPECIFIC_CONDITION]->(:Condition)', '(:Condition)-[:CAN_OCCUR_AS]->(:Cause)', '(:Section)-[:INCLUDE]->(:Diagnostic test)', '(:Section)-[:INCLUDE]->(:Diagnosis)', '(:Section)-[:INCLUDE]->(:Symptom)', '(:Section)-[:INCLUDE]->(:Risk factor)', '(:Section)-[:INCLUDE]->(:Cause)', '(:Section)-[:INCLUDE]->(:Type)', '(:Section)-[:INCLUDE]->(:Associated factor)', '(:Anatomy)-[:PART_OF]->(:Anatomy)', '(:Anatomy)-[:CONTAINS]->(:External structure)', '(:Anatomy)-[:CONTAINS]->(:Bone)', '(:Anatomy)-[:CONTAINS]->(:Organ)', '(:Anatomy)-[:CONTAINS]->(:Internal structure)', '(:Anatomy)-[:CONTAINS]->(:Muscle)', '(:Anatomy)-[:SUPPORTS]->(:Bone)', '(:Factor)-[:CONTRIBUTES_TO]->(:Condition)', '(:Concept)-[:INCLUDED_IN]->(:Concept)', '(:Concept)-[:USED_IN]->(:Procedure)', '(:Concept)-[:USED_IN]->(:Condition)', '(:Concept)-[:ALSO_REFERRED_TO_AS]->(:Concept)', '(:Concept)-[:ACUTE_INDICATION_FOR_THERAPY]->(:Condition)', '(:Concept)-[:PROPHYLACTICALLY_GIVEN_DURING]->(:Procedure)', '(:Concept)-[:CHRONIC_INDICATION_FOR_THERAPY]->(:Condition)', '(:Concept)-[:CAN_BE_DELIVERED_VIA]->(:Device)', '(:Concept)-[:CAN_BE_DELIVERED_VIA]->(:Procedure)', '(:Concept)-[:RISK_OF]->(:Condition)', '(:Concept)-[:CAN_DRY_OUT]->(:Anatomy)', '(:Concept)-[:CAN_REFER_TO]->(:Concept)', '(:Concept)-[:LISTED_BY]->(:Organization)', '(:Concept)-[:CAN_BE_PROVIDED_BY]->(:Device)', '(:Concept)-[:TYPICALLY_CONTAINS]->(:Concept)', '(:Concept)-[:DISORDER_OF]->(:Concept)', '(:Concept)-[:DUE_TO]->(:Concept)', '(:Concept)-[:MANIFESTATION_OF]->(:Concept)', '(:Concept)-[:DEVELOP_AFTER]->(:Concept)', '(:Concept)-[:BECOME]->(:Concept)', '(:Concept)-[:CONSIST_OF]->(:Concept)', '(:Concept)-[:COVERED_BY]->(:Concept)', '(:Concept)-[:DISTRIBUTED_ON]->(:Concept)', '(:Concept)-[:ASSOCIATED_WITH]->(:Concept)', '(:Concept)-[:INCLUDES]->(:Concept)', '(:Concept)-[:RISK_FACTOR_FOR]->(:Concept)', '(:Concept)-[:EXPOSURE_TO]->(:Concept)', '(:Concept)-[:ENTER_THE]->(:Concept)', '(:Concept)-[:CAUSE_THE]->(:Concept)', '(:Concept)-[:CLEARED_BY]->(:Concept)', '(:Concept)-[:REACH_THE]->(:Concept)', '(:Concept)-[:RETAINED_IN]->(:Concept)', '(:Concept)-[:RECOGNISED_BY]->(:Concept)', '(:Concept)-[:ACCUMULATE_IN]->(:Concept)', '(:Concept)-[:ACTIVATE_THE]->(:Concept)', '(:Concept)-[:LEAD_TO]->(:Concept)', '(:Concept)-[:ENCOMPASS]->(:Concept)', '(:Concept)-[:REMAIN_UNCERTAIN]->(:Concept)', '(:Concept)-[:SEEN_IN]->(:Condition)', '(:Procedure)-[:USED_TO_MONITOR]->(:Concept)', '(:Procedure)-[:ALTERNATIVE_TO]->(:Concept)', '(:Procedure)-[:MOST_EFFECTIVE_IF_GIVEN_WITHIN]->(:Condition)', '(:Procedure)-[:ADDITIONAL_TREATMENT_MAY_BE_UNNECESSARY_IF]->(:Concept)', '(:Procedure)-[:REQUIRES_RE-ASSESSMENT_BY]->(:Concept)', '(:Measurement)-[:RECOMMENDED_LEVEL_FOR]->(:Condition)', '(:Measurement)-[:ADEQUATE_LEVEL_FOR_MOST_CONDITIONS]->(:Concept)', '(:Measurement)-[:PREFERRED_LEVEL_FOR_THOSE_AT_RISK_OF]->(:Condition)', '(:Organization)-[:RECOMMENDED_STOPPING_POINT_FOR_OXYGEN_THERAPY]->(:Concept)', '(:Drug)-[:SHOWN_TO_IMPROVE_LUNG_FUNCTION_IN]->(:Condition)', '(:Drug)-[:HYDROLYZES]->(:Substance)', '(:Drug)-[:REDUCES_VISCOSITY_IN]->(:Organ)', '(:Drug)-[:PRODUCED_IN]->(:Cell line)', '(:Drug)-[:PROMOTES]->(:Effect)', '(:Drug)-[:USED_FOR]->(:Condition)', '(:Drug)-[:CONTAINS]->(:Enzyme)', '(:Term)-[:INDICATES]->(:Condition)', '(:Term)-[:CAN_BE_CAUSED_BY]->(:Condition)', '(:Term)-[:CAN_OCCUR_AS_A_RESULT_OF]->(:Condition)']\n",
      "        \n"
     ]
    }
   ],
   "source": [
    "graph.refresh_schema()\n",
    "print(graph.schema)"
   ]
  },
  {
   "cell_type": "code",
   "execution_count": 13,
   "metadata": {},
   "outputs": [],
   "source": [
    "# Query the knowledge graph in a RAG application\n",
    "from langchain.chains import GraphCypherQAChain\n",
    "\n",
    "cypher_chain = GraphCypherQAChain.from_llm(\n",
    "    graph=graph,\n",
    "    cypher_llm=ChatOpenAI(temperature=0, model=\"gpt-3.5-turbo-16k\"),\n",
    "    qa_llm=ChatOpenAI(temperature=0, model=\"gpt-3.5-turbo-16k\"),\n",
    "    validate_cypher=True,  # Validate relationship directions\n",
    "    verbose=True,\n",
    ")"
   ]
  },
  {
   "cell_type": "code",
   "execution_count": 14,
   "metadata": {},
   "outputs": [
    {
     "name": "stdout",
     "output_type": "stream",
     "text": [
      "\n",
      "\n",
      "\u001b[1m> Entering new GraphCypherQAChain chain...\u001b[0m\n",
      "Generated Cypher:\n",
      "\u001b[32;1m\u001b[1;3mMATCH (c:Condition {name: 'Atelectasis'}) RETURN c\u001b[0m\n",
      "Full Context:\n",
      "\u001b[32;1m\u001b[1;3m[{'c': {'name': 'Atelectasis', 'causedBy': 'normal exhalation or various medical conditions', 'affects': 'part or all of one lung', 'description': 'A condition where the alveoli are deflated down to little or no volume, as distinct from pulmonary consolidation, in which they are filled with liquid', 'definition': 'The collapse or closure of a lung resulting in reduced or absent gas exchange', 'unilateral': 'true', 'id': 'Atelectasis', 'alsoKnownAs': 'collapsed lung'}}]\u001b[0m\n",
      "\n",
      "\u001b[1m> Finished chain.\u001b[0m\n"
     ]
    },
    {
     "data": {
      "text/plain": [
       "'Atelectasis is a condition where part or all of one lung collapses or closes, resulting in reduced or absent gas exchange. It can be caused by normal exhalation or various medical conditions. The alveoli, which are small air sacs in the lungs, become deflated down to little or no volume. Atelectasis is also known as a collapsed lung.'"
      ]
     },
     "execution_count": 14,
     "metadata": {},
     "output_type": "execute_result"
    }
   ],
   "source": [
    "cypher_chain.run(\"What is Atelectasis?\")"
   ]
  },
  {
   "cell_type": "code",
   "execution_count": 15,
   "metadata": {},
   "outputs": [
    {
     "name": "stdout",
     "output_type": "stream",
     "text": [
      "\n",
      "\n",
      "\u001b[1m> Entering new GraphCypherQAChain chain...\u001b[0m\n",
      "Generated Cypher:\n",
      "\u001b[32;1m\u001b[1;3mMATCH (:Condition {name: 'Atelectasis'})-[:ASSOCIATED_WITH]->(s:Symptom)\n",
      "RETURN s.name\u001b[0m\n",
      "Full Context:\n",
      "\u001b[32;1m\u001b[1;3m[]\u001b[0m\n",
      "\n",
      "\u001b[1m> Finished chain.\u001b[0m\n"
     ]
    },
    {
     "data": {
      "text/plain": [
       "\"I'm sorry, but I don't have the information to answer your question. It would be best to consult a medical professional for accurate information on the symptoms of Atelectasis.\""
      ]
     },
     "execution_count": 15,
     "metadata": {},
     "output_type": "execute_result"
    }
   ],
   "source": [
    "cypher_chain.run(\"What are the symptoms of Atelectasis?\")"
   ]
  },
  {
   "cell_type": "code",
   "execution_count": 16,
   "metadata": {},
   "outputs": [
    {
     "name": "stdout",
     "output_type": "stream",
     "text": [
      "\n",
      "\n",
      "\u001b[1m> Entering new GraphCypherQAChain chain...\u001b[0m\n",
      "Generated Cypher:\n",
      "\u001b[32;1m\u001b[1;3mMATCH (:Condition {name: 'Atelectasis'})-[:CAN_CAUSE]->(cause:Cause)\n",
      "RETURN cause.name\u001b[0m\n",
      "Full Context:\n",
      "\u001b[32;1m\u001b[1;3m[]\u001b[0m\n",
      "\n",
      "\u001b[1m> Finished chain.\u001b[0m\n"
     ]
    },
    {
     "data": {
      "text/plain": [
       "'There are several factors that can cause atelectasis. Some common causes include blockage of the airways due to mucus, a foreign object, or a tumor, as well as lung diseases such as chronic obstructive pulmonary disease (COPD) or pneumonia. Additionally, certain medical procedures, such as anesthesia or prolonged bed rest, can also contribute to the development of atelectasis. It is important to consult with a healthcare professional for a proper diagnosis and treatment plan.'"
      ]
     },
     "execution_count": 16,
     "metadata": {},
     "output_type": "execute_result"
    }
   ],
   "source": [
    "cypher_chain.run(\"What can cause Atelectasis?\")"
   ]
  },
  {
   "cell_type": "code",
   "execution_count": null,
   "metadata": {},
   "outputs": [],
   "source": []
  }
 ],
 "metadata": {
  "kernelspec": {
   "display_name": "pytorch",
   "language": "python",
   "name": "python3"
  },
  "language_info": {
   "codemirror_mode": {
    "name": "ipython",
    "version": 3
   },
   "file_extension": ".py",
   "mimetype": "text/x-python",
   "name": "python",
   "nbconvert_exporter": "python",
   "pygments_lexer": "ipython3",
   "version": "3.9.18"
  }
 },
 "nbformat": 4,
 "nbformat_minor": 2
}
