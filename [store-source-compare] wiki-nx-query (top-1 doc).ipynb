{
 "cells": [
  {
   "cell_type": "code",
   "execution_count": 1,
   "metadata": {},
   "outputs": [],
   "source": [
    "import re\n",
    "import os\n",
    "from langchain.vectorstores.neo4j_vector import Neo4jVector\n",
    "from langchain.document_loaders import WikipediaLoader\n",
    "from langchain.embeddings.openai import OpenAIEmbeddings\n",
    "from langchain.text_splitter import (\n",
    "    CharacterTextSplitter,\n",
    "    RecursiveCharacterTextSplitter,\n",
    ")\n",
    "from transformers import AutoModelForSeq2SeqLM, AutoTokenizer\n",
    "from langchain.text_splitter import TokenTextSplitter\n",
    "\n",
    "from secret import *\n",
    "import chromadb\n",
    "\n",
    "os.environ[\"OPENAI_API_KEY\"] = OPENAI_API_KEY"
   ]
  },
  {
   "cell_type": "code",
   "execution_count": 2,
   "metadata": {},
   "outputs": [
    {
     "name": "stderr",
     "output_type": "stream",
     "text": [
      "c:\\Users\\mike8\\anaconda3\\envs\\pytorch\\lib\\site-packages\\wikipedia\\wikipedia.py:389: GuessedAtParserWarning: No parser was explicitly specified, so I'm using the best available HTML parser for this system (\"html.parser\"). This usually isn't a problem, but if you run this code on another system, or in a different virtual environment, it may use a different parser and behave differently.\n",
      "\n",
      "The code that caused this warning is on line 389 of the file c:\\Users\\mike8\\anaconda3\\envs\\pytorch\\lib\\site-packages\\wikipedia\\wikipedia.py. To get rid of this warning, pass the additional argument 'features=\"html.parser\"' to the BeautifulSoup constructor.\n",
      "\n",
      "  lis = BeautifulSoup(html).find_all('li')\n"
     ]
    }
   ],
   "source": [
    "tokenizer = AutoTokenizer.from_pretrained(\"bert-base-uncased\")\n",
    "raw_documents = WikipediaLoader(query=\"Atelectasis\").load()\n",
    "text_splitter = TokenTextSplitter(chunk_size=2048, chunk_overlap=24)\n",
    "documents = text_splitter.split_documents([raw_documents[0]]) # should I only take the first? which is the most relevant?"
   ]
  },
  {
   "cell_type": "code",
   "execution_count": 3,
   "metadata": {},
   "outputs": [],
   "source": [
    "from langchain.indexes import GraphIndexCreator\n",
    "from langchain.graphs.networkx_graph import KnowledgeTriple\n",
    "from langchain.llms import OpenAI"
   ]
  },
  {
   "cell_type": "code",
   "execution_count": 4,
   "metadata": {},
   "outputs": [
    {
     "name": "stderr",
     "output_type": "stream",
     "text": [
      "c:\\Users\\mike8\\anaconda3\\envs\\pytorch\\lib\\site-packages\\langchain_core\\_api\\deprecation.py:115: LangChainDeprecationWarning: The class `OpenAI` was deprecated in LangChain 0.1.0 and will be removed in 0.2.0. Use langchain_openai.OpenAI instead.\n",
      "  warn_deprecated(\n"
     ]
    }
   ],
   "source": [
    "index_creator = GraphIndexCreator(llm=OpenAI(temperature=0))"
   ]
  },
  {
   "cell_type": "code",
   "execution_count": 5,
   "metadata": {},
   "outputs": [],
   "source": [
    "graph = None\n",
    "for d in documents:\n",
    "    g_temp = index_creator.from_text(d.page_content)\n",
    "    if graph is None:\n",
    "        graph = g_temp\n",
    "    else:\n",
    "        triplets = graph.get_triples()\n",
    "        for t in triplets:\n",
    "            graph.add_triple(knowledge_triple=KnowledgeTriple(*t))"
   ]
  },
  {
   "cell_type": "code",
   "execution_count": 6,
   "metadata": {},
   "outputs": [],
   "source": [
    "from langchain.chains import GraphQAChain"
   ]
  },
  {
   "cell_type": "code",
   "execution_count": 7,
   "metadata": {},
   "outputs": [],
   "source": [
    "chain = GraphQAChain.from_llm(OpenAI(temperature=0), graph=graph, verbose=True)"
   ]
  },
  {
   "cell_type": "code",
   "execution_count": 8,
   "metadata": {},
   "outputs": [],
   "source": [
    "lesion = \"Atelectasis\"\n",
    "questions = [\n",
    "    f\"What is {lesion}?\",\n",
    "    f\"What are the symptoms associated with {lesion}?\",\n",
    "    f\"What can cause {lesion}?\",\n",
    "    f\"What are the patient’s symptoms that are relevant for {lesion}?\",\n",
    "    f\"What are the relevant clinical signs for the etiological diagnosis of {lesion}?\",\n",
    "    f\"What are the relevant laboratory data for the etiological diagnosis of {lesion}?\",\n",
    "    f\"What are the relevant clinical characteristics for the etiological diagnosis of {lesion}\",\n",
    "    f\"What are the patient’s personal relevant history for the etiological diagnosis of {lesion}\",\n",
    "]"
   ]
  },
  {
   "cell_type": "code",
   "execution_count": 9,
   "metadata": {},
   "outputs": [
    {
     "name": "stderr",
     "output_type": "stream",
     "text": [
      "c:\\Users\\mike8\\anaconda3\\envs\\pytorch\\lib\\site-packages\\langchain_core\\_api\\deprecation.py:115: LangChainDeprecationWarning: The function `run` was deprecated in LangChain 0.1.0 and will be removed in 0.2.0. Use invoke instead.\n",
      "  warn_deprecated(\n"
     ]
    },
    {
     "name": "stdout",
     "output_type": "stream",
     "text": [
      "\n",
      "\n",
      "\u001b[1m> Entering new GraphQAChain chain...\u001b[0m\n",
      "Entities Extracted:\n",
      "\u001b[32;1m\u001b[1;3m Atelectasis\u001b[0m\n",
      "Full Context:\n",
      "\u001b[32;1m\u001b[1;3mAtelectasis is the partial collapse or closure of a lung resulting in reduced or absent gas exchange\n",
      "Atelectasis is usually unilateral\n",
      "Atelectasis affects part or all of one lung\n",
      "Atelectasis is a condition\n",
      "Atelectasis is where the alveoli are deflated down to little or no volume\n",
      "Atelectasis is distinct from pulmonary consolidation\n",
      "Atelectasis is often referred to informally as a collapsed lung\n",
      "Atelectasis is a very common finding in chest X-rays and other radiological studies\n",
      "Atelectasis may be caused by normal exhalation\n",
      "Atelectasis may be caused by various medical conditions\n",
      "Atelectasis is not synonymous with a pneumothorax\n",
      "Atelectasis may occur as a post-operative complication\n",
      "Atelectasis may occur as a result of surfactant deficiency\n",
      "Atelectasis leads to infant respiratory distress syndrome\n",
      "Atelectasis uses combining form\u001b[0m\n",
      "\n",
      "\u001b[1m> Finished chain.\u001b[0m\n",
      "\n",
      "\n",
      "\u001b[1m> Entering new GraphQAChain chain...\u001b[0m\n",
      "Entities Extracted:\n",
      "\u001b[32;1m\u001b[1;3m Atelectasis\u001b[0m\n",
      "Full Context:\n",
      "\u001b[32;1m\u001b[1;3mAtelectasis is the partial collapse or closure of a lung resulting in reduced or absent gas exchange\n",
      "Atelectasis is usually unilateral\n",
      "Atelectasis affects part or all of one lung\n",
      "Atelectasis is a condition\n",
      "Atelectasis is where the alveoli are deflated down to little or no volume\n",
      "Atelectasis is distinct from pulmonary consolidation\n",
      "Atelectasis is often referred to informally as a collapsed lung\n",
      "Atelectasis is a very common finding in chest X-rays and other radiological studies\n",
      "Atelectasis may be caused by normal exhalation\n",
      "Atelectasis may be caused by various medical conditions\n",
      "Atelectasis is not synonymous with a pneumothorax\n",
      "Atelectasis may occur as a post-operative complication\n",
      "Atelectasis may occur as a result of surfactant deficiency\n",
      "Atelectasis leads to infant respiratory distress syndrome\n",
      "Atelectasis uses combining form\u001b[0m\n",
      "\n",
      "\u001b[1m> Finished chain.\u001b[0m\n",
      "\n",
      "\n",
      "\u001b[1m> Entering new GraphQAChain chain...\u001b[0m\n",
      "Entities Extracted:\n",
      "\u001b[32;1m\u001b[1;3m Atelectasis\u001b[0m\n",
      "Full Context:\n",
      "\u001b[32;1m\u001b[1;3mAtelectasis is the partial collapse or closure of a lung resulting in reduced or absent gas exchange\n",
      "Atelectasis is usually unilateral\n",
      "Atelectasis affects part or all of one lung\n",
      "Atelectasis is a condition\n",
      "Atelectasis is where the alveoli are deflated down to little or no volume\n",
      "Atelectasis is distinct from pulmonary consolidation\n",
      "Atelectasis is often referred to informally as a collapsed lung\n",
      "Atelectasis is a very common finding in chest X-rays and other radiological studies\n",
      "Atelectasis may be caused by normal exhalation\n",
      "Atelectasis may be caused by various medical conditions\n",
      "Atelectasis is not synonymous with a pneumothorax\n",
      "Atelectasis may occur as a post-operative complication\n",
      "Atelectasis may occur as a result of surfactant deficiency\n",
      "Atelectasis leads to infant respiratory distress syndrome\n",
      "Atelectasis uses combining form\u001b[0m\n",
      "\n",
      "\u001b[1m> Finished chain.\u001b[0m\n",
      "\n",
      "\n",
      "\u001b[1m> Entering new GraphQAChain chain...\u001b[0m\n",
      "Entities Extracted:\n",
      "\u001b[32;1m\u001b[1;3m Atelectasis\u001b[0m\n",
      "Full Context:\n",
      "\u001b[32;1m\u001b[1;3mAtelectasis is the partial collapse or closure of a lung resulting in reduced or absent gas exchange\n",
      "Atelectasis is usually unilateral\n",
      "Atelectasis affects part or all of one lung\n",
      "Atelectasis is a condition\n",
      "Atelectasis is where the alveoli are deflated down to little or no volume\n",
      "Atelectasis is distinct from pulmonary consolidation\n",
      "Atelectasis is often referred to informally as a collapsed lung\n",
      "Atelectasis is a very common finding in chest X-rays and other radiological studies\n",
      "Atelectasis may be caused by normal exhalation\n",
      "Atelectasis may be caused by various medical conditions\n",
      "Atelectasis is not synonymous with a pneumothorax\n",
      "Atelectasis may occur as a post-operative complication\n",
      "Atelectasis may occur as a result of surfactant deficiency\n",
      "Atelectasis leads to infant respiratory distress syndrome\n",
      "Atelectasis uses combining form\u001b[0m\n",
      "\n",
      "\u001b[1m> Finished chain.\u001b[0m\n",
      "\n",
      "\n",
      "\u001b[1m> Entering new GraphQAChain chain...\u001b[0m\n",
      "Entities Extracted:\n",
      "\u001b[32;1m\u001b[1;3m Atelectasis\u001b[0m\n",
      "Full Context:\n",
      "\u001b[32;1m\u001b[1;3mAtelectasis is the partial collapse or closure of a lung resulting in reduced or absent gas exchange\n",
      "Atelectasis is usually unilateral\n",
      "Atelectasis affects part or all of one lung\n",
      "Atelectasis is a condition\n",
      "Atelectasis is where the alveoli are deflated down to little or no volume\n",
      "Atelectasis is distinct from pulmonary consolidation\n",
      "Atelectasis is often referred to informally as a collapsed lung\n",
      "Atelectasis is a very common finding in chest X-rays and other radiological studies\n",
      "Atelectasis may be caused by normal exhalation\n",
      "Atelectasis may be caused by various medical conditions\n",
      "Atelectasis is not synonymous with a pneumothorax\n",
      "Atelectasis may occur as a post-operative complication\n",
      "Atelectasis may occur as a result of surfactant deficiency\n",
      "Atelectasis leads to infant respiratory distress syndrome\n",
      "Atelectasis uses combining form\u001b[0m\n",
      "\n",
      "\u001b[1m> Finished chain.\u001b[0m\n",
      "\n",
      "\n",
      "\u001b[1m> Entering new GraphQAChain chain...\u001b[0m\n",
      "Entities Extracted:\n",
      "\u001b[32;1m\u001b[1;3m Atelectasis\u001b[0m\n",
      "Full Context:\n",
      "\u001b[32;1m\u001b[1;3mAtelectasis is the partial collapse or closure of a lung resulting in reduced or absent gas exchange\n",
      "Atelectasis is usually unilateral\n",
      "Atelectasis affects part or all of one lung\n",
      "Atelectasis is a condition\n",
      "Atelectasis is where the alveoli are deflated down to little or no volume\n",
      "Atelectasis is distinct from pulmonary consolidation\n",
      "Atelectasis is often referred to informally as a collapsed lung\n",
      "Atelectasis is a very common finding in chest X-rays and other radiological studies\n",
      "Atelectasis may be caused by normal exhalation\n",
      "Atelectasis may be caused by various medical conditions\n",
      "Atelectasis is not synonymous with a pneumothorax\n",
      "Atelectasis may occur as a post-operative complication\n",
      "Atelectasis may occur as a result of surfactant deficiency\n",
      "Atelectasis leads to infant respiratory distress syndrome\n",
      "Atelectasis uses combining form\u001b[0m\n",
      "\n",
      "\u001b[1m> Finished chain.\u001b[0m\n",
      "\n",
      "\n",
      "\u001b[1m> Entering new GraphQAChain chain...\u001b[0m\n",
      "Entities Extracted:\n",
      "\u001b[32;1m\u001b[1;3m Atelectasis\u001b[0m\n",
      "Full Context:\n",
      "\u001b[32;1m\u001b[1;3mAtelectasis is the partial collapse or closure of a lung resulting in reduced or absent gas exchange\n",
      "Atelectasis is usually unilateral\n",
      "Atelectasis affects part or all of one lung\n",
      "Atelectasis is a condition\n",
      "Atelectasis is where the alveoli are deflated down to little or no volume\n",
      "Atelectasis is distinct from pulmonary consolidation\n",
      "Atelectasis is often referred to informally as a collapsed lung\n",
      "Atelectasis is a very common finding in chest X-rays and other radiological studies\n",
      "Atelectasis may be caused by normal exhalation\n",
      "Atelectasis may be caused by various medical conditions\n",
      "Atelectasis is not synonymous with a pneumothorax\n",
      "Atelectasis may occur as a post-operative complication\n",
      "Atelectasis may occur as a result of surfactant deficiency\n",
      "Atelectasis leads to infant respiratory distress syndrome\n",
      "Atelectasis uses combining form\u001b[0m\n",
      "\n",
      "\u001b[1m> Finished chain.\u001b[0m\n",
      "\n",
      "\n",
      "\u001b[1m> Entering new GraphQAChain chain...\u001b[0m\n",
      "Entities Extracted:\n",
      "\u001b[32;1m\u001b[1;3m NONE\u001b[0m\n",
      "Full Context:\n",
      "\u001b[32;1m\u001b[1;3m\u001b[0m\n",
      "\n",
      "\u001b[1m> Finished chain.\u001b[0m\n"
     ]
    }
   ],
   "source": [
    "res_dict = {}\n",
    "for q in questions:\n",
    "    res = chain.run(q)\n",
    "    res_dict[q] = res.strip()"
   ]
  },
  {
   "cell_type": "code",
   "execution_count": 10,
   "metadata": {},
   "outputs": [
    {
     "name": "stdout",
     "output_type": "stream",
     "text": [
      "Atelectasis is a condition where part or all of one lung is partially collapsed or closed, resulting in reduced or absent gas exchange. It is often referred to informally as a collapsed lung and is a very common finding in chest X-rays and other radiological studies. It can be caused by normal exhalation, various medical conditions, or as a post-operative complication. It is distinct from a pneumothorax and may occur as a result of surfactant deficiency, leading to infant respiratory distress syndrome. Atelectasis is also a combining form used in medical terminology.\n",
      "Reduced or absent gas exchange, unilateral collapse or closure of a lung, deflated alveoli, and infant respiratory distress syndrome.\n",
      "Various medical conditions, normal exhalation, post-operative complication, and surfactant deficiency can all cause Atelectasis.\n",
      "Reduced or absent gas exchange, unilateral lung collapse, deflated alveoli, and respiratory distress syndrome.\n",
      "Reduced or absent gas exchange, unilateral presentation, and deflated alveoli on imaging studies are all relevant clinical signs for the etiological diagnosis of Atelectasis.\n",
      "There is no specific laboratory data for the etiological diagnosis of Atelectasis. Diagnosis is typically made through imaging studies such as chest X-rays or CT scans, and may also involve a physical exam and medical history. Laboratory tests may be used to identify underlying medical conditions that can contribute to the development of atelectasis, such as infections or surfactant deficiency.\n",
      "1. Unilateral presentation\n",
      "2. Reduced or absent gas exchange\n",
      "3. Deflated alveoli with little or no volume\n",
      "4. Common finding in chest X-rays and other radiological studies\n",
      "5. Occurs as a post-operative complication\n",
      "6. May be caused by various medical conditions\n",
      "7. Not synonymous with a pneumothorax\n",
      "8. May occur as a result of surfactant deficiency\n",
      "9. Can lead to infant respiratory distress syndrome.\n",
      "I don't know.\n"
     ]
    }
   ],
   "source": [
    "for q in questions:\n",
    "    print(res_dict[q])"
   ]
  },
  {
   "cell_type": "code",
   "execution_count": null,
   "metadata": {},
   "outputs": [],
   "source": []
  },
  {
   "cell_type": "code",
   "execution_count": null,
   "metadata": {},
   "outputs": [],
   "source": []
  },
  {
   "cell_type": "code",
   "execution_count": 11,
   "metadata": {},
   "outputs": [
    {
     "ename": "StopIteration",
     "evalue": "",
     "output_type": "error",
     "traceback": [
      "\u001b[1;31m---------------------------------------------------------------------------\u001b[0m",
      "\u001b[1;31mStopIteration\u001b[0m                             Traceback (most recent call last)",
      "Cell \u001b[1;32mIn[11], line 1\u001b[0m\n\u001b[1;32m----> 1\u001b[0m \u001b[38;5;28;01mraise\u001b[39;00m \u001b[38;5;167;01mStopIteration\u001b[39;00m()\n",
      "\u001b[1;31mStopIteration\u001b[0m: "
     ]
    }
   ],
   "source": [
    "raise StopIteration()"
   ]
  },
  {
   "cell_type": "code",
   "execution_count": null,
   "metadata": {},
   "outputs": [
    {
     "name": "stdout",
     "output_type": "stream",
     "text": [
      "\n",
      "\n",
      "\u001b[1m> Entering new GraphQAChain chain...\u001b[0m\n",
      "Entities Extracted:\n",
      "\u001b[32;1m\u001b[1;3m Atelectasis\u001b[0m\n",
      "Full Context:\n",
      "\u001b[32;1m\u001b[1;3mAtelectasis is the collapse or closure of a lung\n",
      "Atelectasis is usually unilateral\n",
      "Atelectasis is a condition where the alveoli are deflated down to little or no volume\n",
      "Atelectasis is often called a collapsed lung\n",
      "Atelectasis is not synonymous with a pneumothorax\n",
      "Atelectasis may occur as a post-operative complication or as a result of surfactant deficiency\n",
      "Atelectasis leads to infant respiratory distress syndrome\n",
      "Atelectasis is caused by normal exhalation\n",
      "Atelectasis is caused by various medical conditions\n",
      "Atelectasis is associated with post-op fever\u001b[0m\n",
      "\n",
      "\u001b[1m> Finished chain.\u001b[0m\n"
     ]
    },
    {
     "data": {
      "text/plain": [
       "' Atelectasis is the collapse or closure of a lung, where the alveoli are deflated down to little or no volume. It is often called a collapsed lung and is not synonymous with a pneumothorax. It may occur as a post-operative complication or as a result of surfactant deficiency and can lead to infant respiratory distress syndrome. It is caused by normal exhalation and various medical conditions and is associated with post-op fever.'"
      ]
     },
     "execution_count": 8,
     "metadata": {},
     "output_type": "execute_result"
    }
   ],
   "source": [
    "chain.run(\"What is Atelectasis?\")"
   ]
  },
  {
   "cell_type": "code",
   "execution_count": null,
   "metadata": {},
   "outputs": [
    {
     "name": "stdout",
     "output_type": "stream",
     "text": [
      "\n",
      "\n",
      "\u001b[1m> Entering new GraphQAChain chain...\u001b[0m\n",
      "Entities Extracted:\n",
      "\u001b[32;1m\u001b[1;3m Atelectasis\u001b[0m\n",
      "Full Context:\n",
      "\u001b[32;1m\u001b[1;3mAtelectasis is the collapse or closure of a lung\n",
      "Atelectasis is usually unilateral\n",
      "Atelectasis is a condition where the alveoli are deflated down to little or no volume\n",
      "Atelectasis is often called a collapsed lung\n",
      "Atelectasis is not synonymous with a pneumothorax\n",
      "Atelectasis may occur as a post-operative complication or as a result of surfactant deficiency\n",
      "Atelectasis leads to infant respiratory distress syndrome\n",
      "Atelectasis is caused by normal exhalation\n",
      "Atelectasis is caused by various medical conditions\n",
      "Atelectasis is associated with post-op fever\u001b[0m\n",
      "\n",
      "\u001b[1m> Finished chain.\u001b[0m\n"
     ]
    },
    {
     "data": {
      "text/plain": [
       "' Symptoms of Atelectasis include shortness of breath, chest pain, coughing, and difficulty breathing.'"
      ]
     },
     "execution_count": 9,
     "metadata": {},
     "output_type": "execute_result"
    }
   ],
   "source": [
    "chain.run(\"What are the symptoms of Atelectasis?\")"
   ]
  },
  {
   "cell_type": "code",
   "execution_count": null,
   "metadata": {},
   "outputs": [
    {
     "name": "stdout",
     "output_type": "stream",
     "text": [
      "\n",
      "\n",
      "\u001b[1m> Entering new GraphQAChain chain...\u001b[0m\n",
      "Entities Extracted:\n",
      "\u001b[32;1m\u001b[1;3m Atelectasis\u001b[0m\n",
      "Full Context:\n",
      "\u001b[32;1m\u001b[1;3mAtelectasis is the collapse or closure of a lung\n",
      "Atelectasis is usually unilateral\n",
      "Atelectasis is a condition where the alveoli are deflated down to little or no volume\n",
      "Atelectasis is often called a collapsed lung\n",
      "Atelectasis is not synonymous with a pneumothorax\n",
      "Atelectasis may occur as a post-operative complication or as a result of surfactant deficiency\n",
      "Atelectasis leads to infant respiratory distress syndrome\n",
      "Atelectasis is caused by normal exhalation\n",
      "Atelectasis is caused by various medical conditions\n",
      "Atelectasis is associated with post-op fever\u001b[0m\n",
      "\n",
      "\u001b[1m> Finished chain.\u001b[0m\n"
     ]
    },
    {
     "data": {
      "text/plain": [
       "' Atelectasis can be caused by normal exhalation, various medical conditions, and surfactant deficiency. It can also occur as a post-operative complication or as a result of infant respiratory distress syndrome.'"
      ]
     },
     "execution_count": 10,
     "metadata": {},
     "output_type": "execute_result"
    }
   ],
   "source": [
    "chain.run(\"What can cause Atelectasis?\")"
   ]
  },
  {
   "cell_type": "code",
   "execution_count": null,
   "metadata": {},
   "outputs": [
    {
     "name": "stdout",
     "output_type": "stream",
     "text": [
      "\n",
      "\n",
      "\u001b[1m> Entering new GraphQAChain chain...\u001b[0m\n",
      "Entities Extracted:\n",
      "\u001b[32;1m\u001b[1;3m Atelectasis\u001b[0m\n",
      "Full Context:\n",
      "\u001b[32;1m\u001b[1;3mAtelectasis is the collapse or closure of a lung\n",
      "Atelectasis is usually unilateral\n",
      "Atelectasis is a condition where the alveoli are deflated down to little or no volume\n",
      "Atelectasis is often called a collapsed lung\n",
      "Atelectasis is not synonymous with a pneumothorax\n",
      "Atelectasis may occur as a post-operative complication or as a result of surfactant deficiency\n",
      "Atelectasis leads to infant respiratory distress syndrome\n",
      "Atelectasis is caused by normal exhalation\n",
      "Atelectasis is caused by various medical conditions\n",
      "Atelectasis is associated with post-op fever\u001b[0m\n",
      "\n",
      "\u001b[1m> Finished chain.\u001b[0m\n"
     ]
    },
    {
     "data": {
      "text/plain": [
       "' Radiologists need to look for signs of unilateral collapse or closure of a lung, deflated alveoli, and post-operative fever. They may also need to consider other medical conditions that could be causing the Atelectasis.'"
      ]
     },
     "execution_count": 11,
     "metadata": {},
     "output_type": "execute_result"
    }
   ],
   "source": [
    "chain.run(\"What clinical features radiologists need for diagnosing Atelectasis?\")"
   ]
  },
  {
   "cell_type": "code",
   "execution_count": null,
   "metadata": {},
   "outputs": [
    {
     "name": "stdout",
     "output_type": "stream",
     "text": [
      "\n",
      "\n",
      "\u001b[1m> Entering new GraphQAChain chain...\u001b[0m\n",
      "Entities Extracted:\n",
      "\u001b[32;1m\u001b[1;3m Atelectasis\u001b[0m\n",
      "Full Context:\n",
      "\u001b[32;1m\u001b[1;3mAtelectasis is the collapse or closure of a lung\n",
      "Atelectasis is usually unilateral\n",
      "Atelectasis is a condition where the alveoli are deflated down to little or no volume\n",
      "Atelectasis is often called a collapsed lung\n",
      "Atelectasis is not synonymous with a pneumothorax\n",
      "Atelectasis may occur as a post-operative complication or as a result of surfactant deficiency\n",
      "Atelectasis leads to infant respiratory distress syndrome\n",
      "Atelectasis is caused by normal exhalation\n",
      "Atelectasis is caused by various medical conditions\n",
      "Atelectasis is associated with post-op fever\u001b[0m\n",
      "\n",
      "\u001b[1m> Finished chain.\u001b[0m\n"
     ]
    },
    {
     "data": {
      "text/plain": [
       "' Radiographic features of Atelectasis include a decrease in lung volume, a decrease in the size of the affected lung, and a decrease in the density of the affected lung.'"
      ]
     },
     "execution_count": 12,
     "metadata": {},
     "output_type": "execute_result"
    }
   ],
   "source": [
    "chain.run(\"what are radiographic features of Atelectasis?\")"
   ]
  },
  {
   "cell_type": "code",
   "execution_count": null,
   "metadata": {},
   "outputs": [],
   "source": []
  }
 ],
 "metadata": {
  "kernelspec": {
   "display_name": "pytorch",
   "language": "python",
   "name": "python3"
  },
  "language_info": {
   "codemirror_mode": {
    "name": "ipython",
    "version": 3
   },
   "file_extension": ".py",
   "mimetype": "text/x-python",
   "name": "python",
   "nbconvert_exporter": "python",
   "pygments_lexer": "ipython3",
   "version": "3.9.18"
  }
 },
 "nbformat": 4,
 "nbformat_minor": 2
}
