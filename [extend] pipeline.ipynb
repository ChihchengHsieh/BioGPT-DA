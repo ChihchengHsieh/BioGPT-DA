{
 "cells": [
  {
   "cell_type": "code",
   "execution_count": 1,
   "metadata": {},
   "outputs": [],
   "source": [
    "from aug.features import *\n",
    "import warnings\n",
    "warnings.filterwarnings(\"ignore\")"
   ]
  },
  {
   "cell_type": "code",
   "execution_count": 2,
   "metadata": {},
   "outputs": [],
   "source": [
    "def get_questions_by_lesion(lesion: str):\n",
    "    questions = [\n",
    "        # f\"What is {lesion}?\", # don't need the first one for extending features.\n",
    "        f\"What are the symptoms associated with {lesion}?\",\n",
    "        f\"What can cause {lesion}?\",        \n",
    "        f\"What are the patient’s symptoms that are relevant for {lesion}?\",\n",
    "        f\"What are the relevant clinical signs for the etiological diagnosis of {lesion}?\",\n",
    "        f\"What are the relevant laboratory data for the etiological diagnosis of {lesion}?\",\n",
    "        f\"What are the relevant clinical characteristics for the etiological diagnosis of {lesion}\",\n",
    "        f\"What are the patient’s personal relevant history for the etiological diagnosis of {lesion}\",\n",
    "    ]\n",
    "    return questions"
   ]
  },
  {
   "cell_type": "code",
   "execution_count": 3,
   "metadata": {},
   "outputs": [
    {
     "name": "stdout",
     "output_type": "stream",
     "text": [
      "Node properties are the following:\n",
      "\n",
      "Relationship properties are the following:\n",
      "\n",
      "The relationships are the following:\n",
      "\n"
     ]
    },
    {
     "data": {
      "text/plain": [
       "{'age',\n",
       " 'asthma',\n",
       " 'asymptomatic',\n",
       " 'blockage of a bronchiole or bronchus',\n",
       " 'breathing difficulty',\n",
       " 'bronchoscopy',\n",
       " 'certain types of surgery',\n",
       " 'chest pain',\n",
       " 'chest x-ray',\n",
       " 'chronic obstructive pulmonary disease',\n",
       " 'compression from the outside',\n",
       " 'cough',\n",
       " 'ct chest',\n",
       " 'cyanosis',\n",
       " 'fever',\n",
       " 'foreign body',\n",
       " 'high oxygen',\n",
       " 'increased heart rate',\n",
       " 'low oxygen saturation',\n",
       " 'lower lung segments',\n",
       " 'mucus plug',\n",
       " 'muscle relaxation',\n",
       " 'obesity',\n",
       " 'old age',\n",
       " 'pleural effusion',\n",
       " 'poor surfactant spreading',\n",
       " 'post-surgical complications',\n",
       " 'proximal obstruction',\n",
       " 'pulmonary tuberculosis',\n",
       " 'small volume linear shadows',\n",
       " 'smoking',\n",
       " 'surfactant deficiency',\n",
       " 'tumor',\n",
       " 'type of anesthetic'}"
      ]
     },
     "execution_count": 3,
     "metadata": {},
     "output_type": "execute_result"
    }
   ],
   "source": [
    "lesion = \"atelectasis\"\n",
    "## adding prior knowledge from 8 questions.\n",
    "questions = get_questions_by_lesion(lesion)\n",
    "documents = request_documents(lesion)\n",
    "responses = neo4jvector_get_responses(questions, documents) # let's try to get the responses from other LLMs to predict the keywords.\n",
    "keywords = responses_to_keywords(lesion, responses)\n",
    "keywords"
   ]
  },
  {
   "cell_type": "code",
   "execution_count": 4,
   "metadata": {},
   "outputs": [
    {
     "data": {
      "text/plain": [
       "{'What are the symptoms associated with atelectasis?': 'The symptoms associated with atelectasis may include cough (not prominent), chest pain (not common), breathing difficulty (fast and shallow), low oxygen saturation, pleural effusion (transudate type), cyanosis (late sign), and increased heart rate. However, atelectasis can also be asymptomatic. Fever is not a symptom of atelectasis.',\n",
       " 'What can cause atelectasis?': 'Atelectasis can be caused by various medical conditions, including post-surgical complications, surfactant deficiency, and poor surfactant spreading during inspiration. It can also be caused by blockage of a bronchiole or bronchus, such as by a foreign body, mucus plug, tumor, or compression from the outside. Risk factors for atelectasis include certain types of surgery, muscle relaxation, obesity, high oxygen, lower lung segments, age, chronic obstructive pulmonary disease or asthma, and type of anesthetic.',\n",
       " 'What are the patient’s symptoms that are relevant for atelectasis?': 'The relevant symptoms for atelectasis include cough (not prominent), chest pain (not common), breathing difficulty (fast and shallow), low oxygen saturation, pleural effusion (transudate type), cyanosis (late sign), and increased heart rate.',\n",
       " 'What are the relevant clinical signs for the etiological diagnosis of atelectasis?': 'The relevant clinical signs for the etiological diagnosis of atelectasis may include cough, chest pain (not common), breathing difficulty (fast and shallow), low oxygen saturation, pleural effusion (transudate type), cyanosis (late sign), and increased heart rate. However, it is important to note that atelectasis can also be asymptomatic.',\n",
       " 'What are the relevant laboratory data for the etiological diagnosis of atelectasis?': 'The relevant laboratory data for the etiological diagnosis of atelectasis are not provided in the given information.',\n",
       " 'What are the relevant clinical characteristics for the etiological diagnosis of atelectasis': 'The relevant clinical characteristics for the etiological diagnosis of atelectasis include cough (not prominent), chest pain (not common), breathing difficulty (fast and shallow), low oxygen saturation, pleural effusion (transudate type), cyanosis (late sign), and increased heart rate. It is important to note that atelectasis does not cause fever. The incidence of fever actually decreases as the incidence of atelectasis increases. There is no clinical evidence supporting the speculation that atelectasis causes fever.',\n",
       " 'What are the patient’s personal relevant history for the etiological diagnosis of atelectasis': \"The patient's personal relevant history for the etiological diagnosis of atelectasis includes post-surgical atelectasis as a common cause, as well as pulmonary tuberculosis, smoking, and old age as risk factors. Other factors associated with the development of atelectasis include the presence of chronic obstructive pulmonary disease or asthma, and the type of anesthesia used. The diagnosis of atelectasis is generally confirmed through chest X-ray, which shows small volume linear shadows, usually peripherally or at the lung bases. CT chest or bronchoscopy may be necessary to determine the cause or confirm the absence of proximal obstruction.\"}"
      ]
     },
     "execution_count": 4,
     "metadata": {},
     "output_type": "execute_result"
    }
   ],
   "source": [
    "responses"
   ]
  },
  {
   "cell_type": "code",
   "execution_count": 5,
   "metadata": {},
   "outputs": [],
   "source": [
    "# identified_keywords = {\n",
    "#     \"boolean\": [\n",
    "#         \"blockage of the airways\",\n",
    "#         \"chest pain\",\n",
    "#         \"chronic obstructive pulmonary disease (copd)\",\n",
    "#         \"collapse or closure of a lung\",\n",
    "#         \"coughing\",\n",
    "#         \"foreign object\",\n",
    "#         \"pneumonia\",\n",
    "#         \"prolonged bed rest\",\n",
    "#         \"rapid breathing\",\n",
    "#         \"reduced or absent gas exchange\",\n",
    "#         \"shortness of breath\",\n",
    "#     ],\n",
    "#     \"numerical\": [\"oxygen saturation (%)\"],  # 'low oxygen levels',\n",
    "#     # 'lung diseases',\n",
    "#     # 'mucus',\n",
    "#     # 'pneumonia',\n",
    "#     # 'surgery',\n",
    "#     # 'tumor'\n",
    "# }"
   ]
  },
  {
   "cell_type": "code",
   "execution_count": 6,
   "metadata": {},
   "outputs": [],
   "source": [
    "# identified_keywords = {  # networkx\n",
    "#     \"boolean\": [\n",
    "#         \"abnormal chest x-ray findings\",\n",
    "#         \"abnormal lung sounds\",\n",
    "#         \"collapsed lung tissue\" \"bluish skin color\",\n",
    "#         \"chest pain\",\n",
    "#         \"coughing\",\n",
    "#         \"coughing up blood\",\n",
    "#         \"crackling sounds in the lungs\",\n",
    "#         \"decreased appetite\",\n",
    "#         \"decreased breath sounds\",\n",
    "#         \"decreased oxygen saturation\",\n",
    "#         \"difficulty breathing\",\n",
    "#         \"difficulty speaking\",\n",
    "#         \"dyspnea\",\n",
    "#         \"fatigue\",\n",
    "#         \"history of being on mechanical ventilation\",\n",
    "#         \"history of chest trauma or injury\",\n",
    "#         \"history of chronic obstructive pulmonary disease (copd)\",\n",
    "#         \"history of lung cancer\",\n",
    "#         \"history of lung diseases\",\n",
    "#         \"history of neuromuscular disorders\",\n",
    "#         \"history of prolonged bed rest or immobility\",\n",
    "#         \"history of recent surgery\",\n",
    "#         \"history of respiratory infections\",\n",
    "#         \"history of smoking for 20 years\",\n",
    "#         \"advanced age\",\n",
    "#         \"low oxygen levels\",\n",
    "#         \"obesity\",\n",
    "#         \"fungi in sputum culture\",\n",
    "#         \"presence of bacteria\",\n",
    "#         \"rapid breathing\",\n",
    "#         \"shortness of breath\",\n",
    "#         \"smoking\",\n",
    "#         \"tachypnea\",\n",
    "#         \"underlying lung diseases\",\n",
    "#         \"viruses\",\n",
    "#         \"wheezing\",\n",
    "#         \"white-out appearance in the affected area of the lung\",\n",
    "#     ],\n",
    "#     \"numerical\": [\"levels of oxygen and carbon dioxide in the blood\"],\n",
    "#     #  'amount of air that can be inhaled and exhaled',\n",
    "#     #  'use of accessory muscles',\n",
    "#     #  'viruses',\n",
    "# }"
   ]
  },
  {
   "cell_type": "code",
   "execution_count": 7,
   "metadata": {},
   "outputs": [],
   "source": [
    "identified_keywords = {  # Neo4jVector\n",
    "    \"boolean\": [\n",
    "        \"anesthesia\",\n",
    "        \"asthma\",\n",
    "        \"asymptomatic\",\n",
    "        \"breathing difficulty\",\n",
    "        \"chest pain\",\n",
    "        \"chronic obstructive pulmonary disease\",\n",
    "        \"cough\",\n",
    "        \"cyanosis\",\n",
    "        \"fever\",\n",
    "        \"pleural effusion\",\n",
    "        \"pulmonary tuberculosis\",\n",
    "        \"small volume linear shadows\",\n",
    "        \"smoking\"\n",
    "        # Response: Risk factors for atelectasis include certain types of surgery, muscle relaxation, obesity, high oxygen, and lower lung segments.',\n",
    "        # \"high oxygen\",  # A cause, not a symptom. Has the patient been the situation with high oxygen. # remove this for not causing confusion to LLMs.\n",
    "\n",
    "    ],\n",
    "\n",
    "    \"numerical\": [\n",
    "        \"heart rate (per minute)\",  # \"increased heart rate\",\n",
    "        \"oxygen saturation (%)\",  # \"low oxygen saturation\",\n",
    "    ],\n",
    "    # 'old age', # already provided in the report.\n",
    "}"
   ]
  },
  {
   "cell_type": "code",
   "execution_count": 15,
   "metadata": {},
   "outputs": [],
   "source": [
    "import pandas as pd\n",
    "df = pd.read_csv('./spreadsheets/reflacx_clinical.csv')\n",
    "sample_df = df.iloc[:50]"
   ]
  },
  {
   "cell_type": "code",
   "execution_count": 16,
   "metadata": {},
   "outputs": [],
   "source": [
    "results = []\n",
    "all_res = []\n",
    "all_prompt = []\n",
    "for idx, data in sample_df.iterrows():\n",
    "    prompt, res, result = get_possible_values(\n",
    "        data,\n",
    "        identified_keywords,\n",
    "        responses=responses,\n",
    "    )\n",
    "    all_prompt.append(prompt)\n",
    "    all_res.append(res)\n",
    "    results.append(result)"
   ]
  },
  {
   "cell_type": "code",
   "execution_count": 17,
   "metadata": {},
   "outputs": [],
   "source": [
    "for f in identified_keywords['numerical'] + identified_keywords['boolean']:\n",
    "    sample_df[f] = None\n",
    "    sample_df[f] = [ r[f] for r in results]"
   ]
  },
  {
   "cell_type": "code",
   "execution_count": 18,
   "metadata": {},
   "outputs": [],
   "source": [
    "sample_df.to_csv('[prior-knowledge] neo4j-vector.csv')"
   ]
  },
  {
   "cell_type": "code",
   "execution_count": 21,
   "metadata": {},
   "outputs": [
    {
     "data": {
      "text/plain": [
       "(93.05882352941177, 96.36363636363636)"
      ]
     },
     "execution_count": 21,
     "metadata": {},
     "output_type": "execute_result"
    }
   ],
   "source": [
    "sample_df[sample_df['Atelectasis'] >0]['oxygen saturation (%)'].mean(), sample_df[sample_df['Atelectasis'] <=0]['oxygen saturation (%)'].mean()"
   ]
  },
  {
   "cell_type": "code",
   "execution_count": 22,
   "metadata": {},
   "outputs": [
    {
     "data": {
      "text/plain": [
       "(0.23529411764705882, 0.18181818181818182)"
      ]
     },
     "execution_count": 22,
     "metadata": {},
     "output_type": "execute_result"
    }
   ],
   "source": [
    "sample_df[sample_df['Atelectasis'] >0]['chest pain'].mean(), sample_df[sample_df['Atelectasis'] <=0]['chest pain'].mean()"
   ]
  },
  {
   "cell_type": "code",
   "execution_count": 29,
   "metadata": {},
   "outputs": [
    {
     "data": {
      "text/plain": [
       "(0.0, 0.030303030303030304)"
      ]
     },
     "execution_count": 29,
     "metadata": {},
     "output_type": "execute_result"
    }
   ],
   "source": [
    "sample_df[sample_df['Atelectasis'] >0]['fever'].mean(), sample_df[sample_df['Atelectasis'] <=0]['fever'].mean()\n"
   ]
  },
  {
   "cell_type": "code",
   "execution_count": 13,
   "metadata": {},
   "outputs": [
    {
     "name": "stdout",
     "output_type": "stream",
     "text": [
      "**Prior Knowledge:**\n",
      "=========\n",
      "Question: What are the symptoms associated with atelectasis?\n",
      "Answer: The symptoms associated with atelectasis may include cough (not prominent), chest pain (not common), breathing difficulty (fast and shallow), low oxygen saturation, pleural effusion (transudate type), cyanosis (late sign), and increased heart rate. However, atelectasis can also be asymptomatic. Fever is not a symptom of atelectasis.\n",
      "Question: What can cause atelectasis?\n",
      "Answer: Atelectasis can be caused by various medical conditions, including post-surgical complications, surfactant deficiency, and poor surfactant spreading during inspiration. It can also be caused by blockage of a bronchiole or bronchus, such as by a foreign body, mucus plug, tumor, or compression from the outside. Risk factors for atelectasis include certain types of surgery, muscle relaxation, obesity, high oxygen, lower lung segments, age, chronic obstructive pulmonary disease or asthma, and type of anesthetic.\n",
      "Question: What are the patient’s symptoms that are relevant for atelectasis?\n",
      "Answer: The relevant symptoms for atelectasis include cough (not prominent), chest pain (not common), breathing difficulty (fast and shallow), low oxygen saturation, pleural effusion (transudate type), cyanosis (late sign), and increased heart rate.\n",
      "Question: What are the relevant clinical signs for the etiological diagnosis of atelectasis?\n",
      "Answer: The relevant clinical signs for the etiological diagnosis of atelectasis may include cough, chest pain (not common), breathing difficulty (fast and shallow), low oxygen saturation, pleural effusion (transudate type), cyanosis (late sign), and increased heart rate. However, it is important to note that atelectasis can also be asymptomatic.\n",
      "Question: What are the relevant laboratory data for the etiological diagnosis of atelectasis?\n",
      "Answer: The relevant laboratory data for the etiological diagnosis of atelectasis are not provided in the given information.\n",
      "Question: What are the relevant clinical characteristics for the etiological diagnosis of atelectasis\n",
      "Answer: The relevant clinical characteristics for the etiological diagnosis of atelectasis include cough (not prominent), chest pain (not common), breathing difficulty (fast and shallow), low oxygen saturation, pleural effusion (transudate type), cyanosis (late sign), and increased heart rate. It is important to note that atelectasis does not cause fever. The incidence of fever actually decreases as the incidence of atelectasis increases. There is no clinical evidence supporting the speculation that atelectasis causes fever.\n",
      "Question: What are the patient’s personal relevant history for the etiological diagnosis of atelectasis\n",
      "Answer: The patient's personal relevant history for the etiological diagnosis of atelectasis includes post-surgical atelectasis as a common cause, as well as pulmonary tuberculosis, smoking, and old age as risk factors. Other factors associated with the development of atelectasis include the presence of chronic obstructive pulmonary disease or asthma, and the type of anesthesia used. The diagnosis of atelectasis is generally confirmed through chest X-ray, which shows small volume linear shadows, usually peripherally or at the lung bases. CT chest or bronchoscopy may be necessary to determine the cause or confirm the absence of proximal obstruction.\n",
      "=========\n",
      "\n",
      "\n",
      "\n",
      "**Report:**\n",
      "=========\n",
      "INDICATION:  Central venous line placement.  TECHNIQUE:  Frontal chest radiograph.  COMPARISON:  Chest radiograph 12:42 today.  FINDINGS:   A right subclavian catheter has been placed in the interim. The catheter terminates at the confluence of the brachiocephalic vein and superior vena cava and if indicated could be advanced 3.7 cm for termination within the low SVC.  There is no pleural effusion or pneumothorax. The cardiac silhouette remains mildly enlarged. There is no focal airspace consolidation worrisome for pneumonia.  High density material is again seen in the paritally imaged colon in the left abdomen. Cholecystectomy clips are noted. There are carotid calcifications left greater than right. LESIONS: Enlarged cardiac silhouett. AGE: 69. GENDER: Female.\n",
      "=========\n",
      "\n",
      "\n",
      "According to the report and prior knowledge above, does the patient has the following attributes? (Return True or False only, and separate the answer for each attribute by comma.)\n",
      "1. anesthesia.\n",
      "2. asthma.\n",
      "3. asymptomatic.\n",
      "4. breathing difficulty.\n",
      "5. chest pain.\n",
      "6. chronic obstructive pulmonary disease.\n",
      "7. cough.\n",
      "8. cyanosis.\n",
      "9. fever.\n",
      "10. pleural effusion.\n",
      "11. pulmonary tuberculosis.\n",
      "12. small volume linear shadows.\n",
      "13. smoking.\n",
      "\n"
     ]
    }
   ],
   "source": [
    "print(all_prompt[0]['boolean'])"
   ]
  },
  {
   "cell_type": "code",
   "execution_count": 14,
   "metadata": {},
   "outputs": [
    {
     "name": "stdout",
     "output_type": "stream",
     "text": [
      "**Prior Knowledge:**\n",
      "=========\n",
      "Question: What are the symptoms associated with atelectasis?\n",
      "Answer: The symptoms associated with atelectasis may include cough (not prominent), chest pain (not common), breathing difficulty (fast and shallow), low oxygen saturation, pleural effusion (transudate type), cyanosis (late sign), and increased heart rate. However, atelectasis can also be asymptomatic. Fever is not a symptom of atelectasis.\n",
      "Question: What can cause atelectasis?\n",
      "Answer: Atelectasis can be caused by various medical conditions, including post-surgical complications, surfactant deficiency, and poor surfactant spreading during inspiration. It can also be caused by blockage of a bronchiole or bronchus, such as by a foreign body, mucus plug, tumor, or compression from the outside. Risk factors for atelectasis include certain types of surgery, muscle relaxation, obesity, high oxygen, lower lung segments, age, chronic obstructive pulmonary disease or asthma, and type of anesthetic.\n",
      "Question: What are the patient’s symptoms that are relevant for atelectasis?\n",
      "Answer: The relevant symptoms for atelectasis include cough (not prominent), chest pain (not common), breathing difficulty (fast and shallow), low oxygen saturation, pleural effusion (transudate type), cyanosis (late sign), and increased heart rate.\n",
      "Question: What are the relevant clinical signs for the etiological diagnosis of atelectasis?\n",
      "Answer: The relevant clinical signs for the etiological diagnosis of atelectasis may include cough, chest pain (not common), breathing difficulty (fast and shallow), low oxygen saturation, pleural effusion (transudate type), cyanosis (late sign), and increased heart rate. However, it is important to note that atelectasis can also be asymptomatic.\n",
      "Question: What are the relevant laboratory data for the etiological diagnosis of atelectasis?\n",
      "Answer: The relevant laboratory data for the etiological diagnosis of atelectasis are not provided in the given information.\n",
      "Question: What are the relevant clinical characteristics for the etiological diagnosis of atelectasis\n",
      "Answer: The relevant clinical characteristics for the etiological diagnosis of atelectasis include cough (not prominent), chest pain (not common), breathing difficulty (fast and shallow), low oxygen saturation, pleural effusion (transudate type), cyanosis (late sign), and increased heart rate. It is important to note that atelectasis does not cause fever. The incidence of fever actually decreases as the incidence of atelectasis increases. There is no clinical evidence supporting the speculation that atelectasis causes fever.\n",
      "Question: What are the patient’s personal relevant history for the etiological diagnosis of atelectasis\n",
      "Answer: The patient's personal relevant history for the etiological diagnosis of atelectasis includes post-surgical atelectasis as a common cause, as well as pulmonary tuberculosis, smoking, and old age as risk factors. Other factors associated with the development of atelectasis include the presence of chronic obstructive pulmonary disease or asthma, and the type of anesthesia used. The diagnosis of atelectasis is generally confirmed through chest X-ray, which shows small volume linear shadows, usually peripherally or at the lung bases. CT chest or bronchoscopy may be necessary to determine the cause or confirm the absence of proximal obstruction.\n",
      "=========\n",
      "\n",
      "\n",
      "\n",
      "**Report:**\n",
      "=========\n",
      "INDICATION:  Central venous line placement.  TECHNIQUE:  Frontal chest radiograph.  COMPARISON:  Chest radiograph 12:42 today.  FINDINGS:   A right subclavian catheter has been placed in the interim. The catheter terminates at the confluence of the brachiocephalic vein and superior vena cava and if indicated could be advanced 3.7 cm for termination within the low SVC.  There is no pleural effusion or pneumothorax. The cardiac silhouette remains mildly enlarged. There is no focal airspace consolidation worrisome for pneumonia.  High density material is again seen in the paritally imaged colon in the left abdomen. Cholecystectomy clips are noted. There are carotid calcifications left greater than right. LESIONS: Enlarged cardiac silhouett. AGE: 69. GENDER: Female.\n",
      "HEART RATE (PER MINUTE): [MASK].\n",
      "OXYGEN SATURATION (%): [MASK].\n",
      "=========\n",
      "\n",
      "\n",
      "According to the report and prior knowledge above, please speculate be the numerical values covered by the token [MASK]? Please return only one single numerical values (not range) for each [MASK], and separate the answers by comma. Try to speculate the number instead of answering you don't know.\n"
     ]
    }
   ],
   "source": [
    "print(all_prompt[0]['numerical'])"
   ]
  },
  {
   "cell_type": "code",
   "execution_count": null,
   "metadata": {},
   "outputs": [],
   "source": []
  }
 ],
 "metadata": {
  "kernelspec": {
   "display_name": "pytorch",
   "language": "python",
   "name": "python3"
  },
  "language_info": {
   "codemirror_mode": {
    "name": "ipython",
    "version": 3
   },
   "file_extension": ".py",
   "mimetype": "text/x-python",
   "name": "python",
   "nbconvert_exporter": "python",
   "pygments_lexer": "ipython3",
   "version": "3.9.18"
  }
 },
 "nbformat": 4,
 "nbformat_minor": 2
}
