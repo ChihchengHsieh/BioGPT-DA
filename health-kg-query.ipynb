{
 "cells": [
  {
   "cell_type": "code",
   "execution_count": 1,
   "metadata": {},
   "outputs": [],
   "source": [
    "from langchain.chat_models import ChatOpenAI\n",
    "from langchain.chains import GraphCypherQAChain\n",
    "from langchain.graphs import Neo4jGraph\n",
    "from secret import *\n",
    "import os\n",
    "os.environ[\"OPENAI_API_KEY\"] = OPENAI_API_KEY"
   ]
  },
  {
   "cell_type": "code",
   "execution_count": 2,
   "metadata": {},
   "outputs": [],
   "source": [
    "graph = Neo4jGraph(\n",
    "    url = \"bolt://localhost:7687\",\n",
    "    username = \"neo4j\",\n",
    "    password = \"health1234\"\n",
    ")"
   ]
  },
  {
   "cell_type": "code",
   "execution_count": 3,
   "metadata": {},
   "outputs": [
    {
     "name": "stdout",
     "output_type": "stream",
     "text": [
      "\n",
      "        Node properties are the following:\n",
      "        [{'labels': 'Disease', 'properties': [{'property': 'name', 'type': 'STRING'}]}, {'labels': 'Symptom', 'properties': [{'property': 'name', 'type': 'STRING'}]}]\n",
      "        Relationship properties are the following:\n",
      "        [{'properties': [{'property': 'prob', 'type': 'FLOAT'}], 'type': 'HAS'}]\n",
      "        The relationships are the following:\n",
      "        ['(:Disease)-[:HAS]->(:Symptom)']\n",
      "        \n"
     ]
    }
   ],
   "source": [
    "print(graph.schema)"
   ]
  },
  {
   "cell_type": "code",
   "execution_count": 7,
   "metadata": {},
   "outputs": [],
   "source": [
    "import pandas as pd\n",
    "df = pd.read_csv('health-kg.csv')"
   ]
  },
  {
   "cell_type": "code",
   "execution_count": 16,
   "metadata": {},
   "outputs": [],
   "source": [
    "REFLACX_LESION_LABEL_COLS = [\n",
    "    \"Fibrosis\",\n",
    "    \"Quality issue\",\n",
    "    \"Wide mediastinum\",\n",
    "    \"Fracture\",\n",
    "    \"Airway wall thickening\",\n",
    "\n",
    "    ######################\n",
    "    \"Hiatal hernia\",\n",
    "    \"Acute fracture\",\n",
    "    \"Interstitial lung disease\",\n",
    "    \"Enlarged hilum\",\n",
    "    \"Abnormal mediastinal contour\",\n",
    "    \"High lung volume / emphysema\",\n",
    "    \"Pneumothorax\",\n",
    "    \"Lung nodule or mass\",\n",
    "    \"Groundglass opacity\",\n",
    "    ######################\n",
    "    \"Pulmonary edema\",\n",
    "    \"Enlarged cardiac silhouette\",\n",
    "    \"Consolidation\",\n",
    "    \"Atelectasis\",\n",
    "    \"Pleural abnormality\",\n",
    "    # \"Support devices\",\n",
    "]"
   ]
  },
  {
   "cell_type": "code",
   "execution_count": 15,
   "metadata": {},
   "outputs": [
    {
     "data": {
      "text/plain": [
       "False"
      ]
     },
     "execution_count": 15,
     "metadata": {},
     "output_type": "execute_result"
    }
   ],
   "source": [
    "\"atelectasis\" in [d.lower() for d in list(df.Diseases)]"
   ]
  },
  {
   "cell_type": "code",
   "execution_count": 22,
   "metadata": {},
   "outputs": [
    {
     "name": "stdout",
     "output_type": "stream",
     "text": [
      "[]\n"
     ]
    }
   ],
   "source": [
    "contain_l = []\n",
    "for l in REFLACX_LESION_LABEL_COLS:\n",
    "    if l.lower() in [d.lower() for d in list(df.Diseases)]:\n",
    "        contain_l.append(l)\n",
    "print(contain_l)"
   ]
  },
  {
   "cell_type": "code",
   "execution_count": 24,
   "metadata": {},
   "outputs": [],
   "source": [
    "CHEXPERT_LABEL_COLS = [\n",
    "    \"Atelectasis\",\n",
    "    \"Cardiomegaly\",\n",
    "    \"Consolidation\",\n",
    "    \"Edema\",\n",
    "    \"Enlarged Cardiomediastinum\",\n",
    "    \"Fracture\",\n",
    "    \"Lung Lesion\",\n",
    "    \"Lung Opacity\",\n",
    "    \"No Finding\",\n",
    "    \"Pleural Effusion\",\n",
    "    \"Pleural Other\",\n",
    "    \"Pneumonia\",\n",
    "    \"Pneumothorax\",\n",
    "    \"Support Devices\",\n",
    "]"
   ]
  },
  {
   "cell_type": "code",
   "execution_count": 25,
   "metadata": {},
   "outputs": [
    {
     "name": "stdout",
     "output_type": "stream",
     "text": [
      "['Pleural Effusion', 'Pneumonia', 'Pneumothorax']\n"
     ]
    }
   ],
   "source": [
    "contain_l = []\n",
    "for l in CHEXPERT_LABEL_COLS:\n",
    "    if l.lower() in [d.lower() for d in list(df.Diseases)]:\n",
    "        contain_l.append(l)\n",
    "print(contain_l)"
   ]
  },
  {
   "cell_type": "code",
   "execution_count": 4,
   "metadata": {},
   "outputs": [],
   "source": [
    "chain = GraphCypherQAChain.from_llm(\n",
    "    ChatOpenAI(temperature=0, model=\"gpt-3.5-turbo-16k\"), graph=graph, verbose=True\n",
    ")"
   ]
  },
  {
   "cell_type": "code",
   "execution_count": 26,
   "metadata": {},
   "outputs": [
    {
     "name": "stdout",
     "output_type": "stream",
     "text": [
      "\n",
      "\n",
      "\u001b[1m> Entering new GraphCypherQAChain chain...\u001b[0m\n",
      "Generated Cypher:\n",
      "\u001b[32;1m\u001b[1;3mMATCH (d:Disease {name: 'pleural effusion'})-[:HAS]->(s:Symptom)\n",
      "RETURN d, s\u001b[0m\n",
      "Full Context:\n",
      "\u001b[32;1m\u001b[1;3m[{'d': {'name': 'pleural effusion'}, 's': {'name': 'low oxygen in the body'}}, {'d': {'name': 'pleural effusion'}, 's': {'name': 'wheezing'}}, {'d': {'name': 'pleural effusion'}, 's': {'name': 'infection'}}, {'d': {'name': 'pleural effusion'}, 's': {'name': 'fluid in the abdomen'}}, {'d': {'name': 'pleural effusion'}, 's': {'name': 'cough with phlegm'}}, {'d': {'name': 'pleural effusion'}, 's': {'name': 'fatigue'}}, {'d': {'name': 'pleural effusion'}, 's': {'name': 'lethargy'}}, {'d': {'name': 'pleural effusion'}, 's': {'name': 'fluid in the lungs'}}, {'d': {'name': 'pleural effusion'}, 's': {'name': 'dry cough'}}, {'d': {'name': 'pleural effusion'}, 's': {'name': 'fever'}}]\u001b[0m\n",
      "\n",
      "\u001b[1m> Finished chain.\u001b[0m\n"
     ]
    },
    {
     "data": {
      "text/plain": [
       "'Pleural effusion refers to the buildup of fluid in the space between the layers of tissue that line the lungs and chest cavity. It can cause symptoms such as low oxygen in the body, wheezing, infection, fluid in the abdomen, cough with phlegm, fatigue, lethargy, fluid in the lungs, dry cough, and fever.'"
      ]
     },
     "execution_count": 26,
     "metadata": {},
     "output_type": "execute_result"
    }
   ],
   "source": [
    "chain.run(\"What is pleural effusion?\")"
   ]
  },
  {
   "cell_type": "code",
   "execution_count": 18,
   "metadata": {},
   "outputs": [
    {
     "name": "stdout",
     "output_type": "stream",
     "text": [
      "\n",
      "\n",
      "\u001b[1m> Entering new GraphCypherQAChain chain...\u001b[0m\n",
      "Generated Cypher:\n",
      "\u001b[32;1m\u001b[1;3mMATCH (d:Disease {name: 'pleural effusion'})-[:HAS]->(s:Symptom)\n",
      "RETURN s.name\u001b[0m\n",
      "Full Context:\n",
      "\u001b[32;1m\u001b[1;3m[{'s.name': 'low oxygen in the body'}, {'s.name': 'wheezing'}, {'s.name': 'infection'}, {'s.name': 'fluid in the abdomen'}, {'s.name': 'cough with phlegm'}, {'s.name': 'fatigue'}, {'s.name': 'lethargy'}, {'s.name': 'fluid in the lungs'}, {'s.name': 'dry cough'}, {'s.name': 'fever'}]\u001b[0m\n",
      "\n",
      "\u001b[1m> Finished chain.\u001b[0m\n"
     ]
    },
    {
     "data": {
      "text/plain": [
       "'The symptoms of pleural effusion may include low oxygen in the body, wheezing, infection, fluid in the abdomen, cough with phlegm, fatigue, lethargy, fluid in the lungs, dry cough, and fever.'"
      ]
     },
     "execution_count": 18,
     "metadata": {},
     "output_type": "execute_result"
    }
   ],
   "source": [
    "chain.run(\"What are the symptoms of pleural effusion?\")"
   ]
  },
  {
   "cell_type": "code",
   "execution_count": 27,
   "metadata": {},
   "outputs": [
    {
     "name": "stdout",
     "output_type": "stream",
     "text": [
      "\n",
      "\n",
      "\u001b[1m> Entering new GraphCypherQAChain chain...\u001b[0m\n",
      "Generated Cypher:\n",
      "\u001b[32;1m\u001b[1;3mMATCH (d:Disease {name: 'pleural effusion'})-[:HAS]->(s:Symptom)\n",
      "RETURN s.name\u001b[0m\n",
      "Full Context:\n",
      "\u001b[32;1m\u001b[1;3m[{'s.name': 'low oxygen in the body'}, {'s.name': 'wheezing'}, {'s.name': 'infection'}, {'s.name': 'fluid in the abdomen'}, {'s.name': 'cough with phlegm'}, {'s.name': 'fatigue'}, {'s.name': 'lethargy'}, {'s.name': 'fluid in the lungs'}, {'s.name': 'dry cough'}, {'s.name': 'fever'}]\u001b[0m\n",
      "\n",
      "\u001b[1m> Finished chain.\u001b[0m\n"
     ]
    },
    {
     "data": {
      "text/plain": [
       "'The causes of pleural effusion can include low oxygen in the body, wheezing, infection, fluid in the abdomen, cough with phlegm, fatigue, lethargy, fluid in the lungs, dry cough, and fever.'"
      ]
     },
     "execution_count": 27,
     "metadata": {},
     "output_type": "execute_result"
    }
   ],
   "source": [
    "chain.run(\"What are the causes of pleural effusion?\")"
   ]
  },
  {
   "cell_type": "code",
   "execution_count": null,
   "metadata": {},
   "outputs": [],
   "source": []
  },
  {
   "cell_type": "code",
   "execution_count": null,
   "metadata": {},
   "outputs": [],
   "source": []
  },
  {
   "cell_type": "code",
   "execution_count": null,
   "metadata": {},
   "outputs": [],
   "source": []
  },
  {
   "cell_type": "code",
   "execution_count": null,
   "metadata": {},
   "outputs": [],
   "source": []
  },
  {
   "cell_type": "code",
   "execution_count": null,
   "metadata": {},
   "outputs": [],
   "source": []
  },
  {
   "cell_type": "code",
   "execution_count": 37,
   "metadata": {},
   "outputs": [],
   "source": [
    "documents = text_splitter.create_documents([raw_documents[0].page_content])"
   ]
  },
  {
   "cell_type": "code",
   "execution_count": 25,
   "metadata": {},
   "outputs": [],
   "source": [
    "from langchain.indexes import GraphIndexCreator\n",
    "from langchain.llms import OpenAI"
   ]
  },
  {
   "cell_type": "code",
   "execution_count": 38,
   "metadata": {},
   "outputs": [],
   "source": [
    "index_creator = GraphIndexCreator(llm=OpenAI(temperature=0))"
   ]
  },
  {
   "cell_type": "code",
   "execution_count": 39,
   "metadata": {},
   "outputs": [],
   "source": [
    "graph = index_creator.from_text(documents[0].page_content)"
   ]
  },
  {
   "cell_type": "code",
   "execution_count": 28,
   "metadata": {},
   "outputs": [
    {
     "data": {
      "text/plain": [
       "<langchain.graphs.networkx_graph.NetworkxEntityGraph at 0x12611205520>"
      ]
     },
     "execution_count": 28,
     "metadata": {},
     "output_type": "execute_result"
    }
   ],
   "source": [
    "graph"
   ]
  },
  {
   "cell_type": "code",
   "execution_count": 43,
   "metadata": {},
   "outputs": [
    {
     "data": {
      "text/plain": [
       "[('Atelectasis', 'a lung', 'is the collapse or closure of'),\n",
       " ('Atelectasis', 'reduced or absent gas exchange', 'results in'),\n",
       " ('Atelectasis', 'unilateral', 'is usually'),\n",
       " ('Atelectasis', 'part or all of one lung', 'affects'),\n",
       " ('Atelectasis', 'the alveoli are deflated down', 'is a condition where')]"
      ]
     },
     "execution_count": 43,
     "metadata": {},
     "output_type": "execute_result"
    }
   ],
   "source": [
    "graph.draw_graphviz()"
   ]
  },
  {
   "cell_type": "code",
   "execution_count": 13,
   "metadata": {},
   "outputs": [],
   "source": [
    "from langchain.indexes import GraphIndexCreator\n",
    "from langchain.llms import OpenAI"
   ]
  },
  {
   "cell_type": "code",
   "execution_count": 33,
   "metadata": {},
   "outputs": [],
   "source": [
    "from langchain. graphs.neo4j_graph import Neo4jGraph"
   ]
  },
  {
   "cell_type": "code",
   "execution_count": 44,
   "metadata": {},
   "outputs": [
    {
     "ename": "ImportError",
     "evalue": "Could not import pygraphviz python package. Please install it with:`pip install pygraphviz`.",
     "output_type": "error",
     "traceback": [
      "\u001b[1;31m---------------------------------------------------------------------------\u001b[0m",
      "\u001b[1;31mModuleNotFoundError\u001b[0m                       Traceback (most recent call last)",
      "File \u001b[1;32mc:\\Users\\mike8\\anaconda3\\envs\\pytorch\\lib\\site-packages\\langchain\\graphs\\networkx_graph.py:157\u001b[0m, in \u001b[0;36mNetworkxEntityGraph.draw_graphviz\u001b[1;34m(self, **kwargs)\u001b[0m\n\u001b[0;32m    156\u001b[0m \u001b[39mtry\u001b[39;00m:\n\u001b[1;32m--> 157\u001b[0m     \u001b[39mimport\u001b[39;00m \u001b[39mpygraphviz\u001b[39;00m  \u001b[39m# noqa: F401\u001b[39;00m\n\u001b[0;32m    159\u001b[0m \u001b[39mexcept\u001b[39;00m \u001b[39mImportError\u001b[39;00m \u001b[39mas\u001b[39;00m e:\n",
      "\u001b[1;31mModuleNotFoundError\u001b[0m: No module named 'pygraphviz'",
      "\nDuring handling of the above exception, another exception occurred:\n",
      "\u001b[1;31mImportError\u001b[0m                               Traceback (most recent call last)",
      "\u001b[1;32mc:\\Users\\mike8\\OneDrive\\文件\\GitHub\\BioGPT-DA\\test.ipynb Cell 11\u001b[0m line \u001b[0;36m2\n\u001b[0;32m      <a href='vscode-notebook-cell:/c%3A/Users/mike8/OneDrive/%E6%96%87%E4%BB%B6/GitHub/BioGPT-DA/test.ipynb#X36sZmlsZQ%3D%3D?line=0'>1</a>\u001b[0m \u001b[39mfrom\u001b[39;00m \u001b[39mIPython\u001b[39;00m\u001b[39m.\u001b[39;00m\u001b[39mdisplay\u001b[39;00m \u001b[39mimport\u001b[39;00m SVG\n\u001b[1;32m----> <a href='vscode-notebook-cell:/c%3A/Users/mike8/OneDrive/%E6%96%87%E4%BB%B6/GitHub/BioGPT-DA/test.ipynb#X36sZmlsZQ%3D%3D?line=1'>2</a>\u001b[0m graph\u001b[39m.\u001b[39;49mdraw_graphviz(layout\u001b[39m=\u001b[39;49m\u001b[39m\"\u001b[39;49m\u001b[39mdot\u001b[39;49m\u001b[39m\"\u001b[39;49m, filename\u001b[39m=\u001b[39;49m\u001b[39m\"\u001b[39;49m\u001b[39mweb.svg\u001b[39;49m\u001b[39m\"\u001b[39;49m)\n\u001b[0;32m      <a href='vscode-notebook-cell:/c%3A/Users/mike8/OneDrive/%E6%96%87%E4%BB%B6/GitHub/BioGPT-DA/test.ipynb#X36sZmlsZQ%3D%3D?line=2'>3</a>\u001b[0m SVG(\u001b[39m'\u001b[39m\u001b[39mweb.svg\u001b[39m\u001b[39m'\u001b[39m)\n",
      "File \u001b[1;32mc:\\Users\\mike8\\anaconda3\\envs\\pytorch\\lib\\site-packages\\langchain\\graphs\\networkx_graph.py:172\u001b[0m, in \u001b[0;36mNetworkxEntityGraph.draw_graphviz\u001b[1;34m(self, **kwargs)\u001b[0m\n\u001b[0;32m    165\u001b[0m         \u001b[39mraise\u001b[39;00m \u001b[39mImportError\u001b[39;00m(\n\u001b[0;32m    166\u001b[0m             \u001b[39m\"\u001b[39m\u001b[39mCould not import graphviz debian package. \u001b[39m\u001b[39m\"\u001b[39m\n\u001b[0;32m    167\u001b[0m             \u001b[39m\"\u001b[39m\u001b[39mPlease install it with:\u001b[39m\u001b[39m\"\u001b[39m\n\u001b[0;32m    168\u001b[0m             \u001b[39m\"\u001b[39m\u001b[39m`sudo apt-get update`\u001b[39m\u001b[39m\"\u001b[39m\n\u001b[0;32m    169\u001b[0m             \u001b[39m\"\u001b[39m\u001b[39m`sudo apt-get install graphviz graphviz-dev`\u001b[39m\u001b[39m\"\u001b[39m\n\u001b[0;32m    170\u001b[0m         )\n\u001b[0;32m    171\u001b[0m     \u001b[39melse\u001b[39;00m:\n\u001b[1;32m--> 172\u001b[0m         \u001b[39mraise\u001b[39;00m \u001b[39mImportError\u001b[39;00m(\n\u001b[0;32m    173\u001b[0m             \u001b[39m\"\u001b[39m\u001b[39mCould not import pygraphviz python package. \u001b[39m\u001b[39m\"\u001b[39m\n\u001b[0;32m    174\u001b[0m             \u001b[39m\"\u001b[39m\u001b[39mPlease install it with:\u001b[39m\u001b[39m\"\u001b[39m\n\u001b[0;32m    175\u001b[0m             \u001b[39m\"\u001b[39m\u001b[39m`pip install pygraphviz`.\u001b[39m\u001b[39m\"\u001b[39m\n\u001b[0;32m    176\u001b[0m         )\n\u001b[0;32m    178\u001b[0m graph \u001b[39m=\u001b[39m to_agraph(\u001b[39mself\u001b[39m\u001b[39m.\u001b[39m_graph)  \u001b[39m# --> pygraphviz.agraph.AGraph\u001b[39;00m\n\u001b[0;32m    179\u001b[0m \u001b[39m# pygraphviz.github.io/documentation/stable/tutorial.html#layout-and-drawing\u001b[39;00m\n",
      "\u001b[1;31mImportError\u001b[0m: Could not import pygraphviz python package. Please install it with:`pip install pygraphviz`."
     ]
    }
   ],
   "source": [
    "from IPython.display import SVG\n",
    "graph.draw_graphviz(layout=\"dot\", filename=\"web.svg\")\n",
    "SVG('web.svg')"
   ]
  },
  {
   "cell_type": "code",
   "execution_count": null,
   "metadata": {},
   "outputs": [],
   "source": []
  },
  {
   "cell_type": "code",
   "execution_count": 14,
   "metadata": {},
   "outputs": [],
   "source": [
    "index_creator = GraphIndexCreator(llm=OpenAI(temperature=0))"
   ]
  },
  {
   "cell_type": "code",
   "execution_count": 15,
   "metadata": {},
   "outputs": [],
   "source": [
    "neo4j_vector = Neo4jVector.from_documents(\n",
    "    documents,\n",
    "    # hf,\n",
    "    OpenAIEmbeddings(),\n",
    "    url=NOE4J_URL,\n",
    "    username=\"neo4j\",\n",
    "    password=NOE4J_PASSWORD,\n",
    ")"
   ]
  },
  {
   "cell_type": "code",
   "execution_count": 16,
   "metadata": {},
   "outputs": [
    {
     "name": "stdout",
     "output_type": "stream",
     "text": [
      "Atelectasis is the collapse or closure of a lung resulting in reduced or absent gas exchange.  It is usually unilateral, affecting part or all of one lung. It is a condition where the alveoli are deflated down\n",
      "\n",
      "Atelectasis is the collapse or closure of a lung resulting in reduced or absent gas exchange.  It is usually unilateral, affecting part or all of one lung. It is a condition where the alveoli are deflated down\n"
     ]
    }
   ],
   "source": [
    "query = \"What is atelectasis?\"\n",
    "vector_results = neo4j_vector.similarity_search(query, k=2)\n",
    "for i, res in enumerate(vector_results):\n",
    "    print(res.page_content)\n",
    "    if i != len(vector_results)-1:\n",
    "        print()\n",
    "vector_result = vector_results[0].page_content"
   ]
  },
  {
   "cell_type": "code",
   "execution_count": 17,
   "metadata": {},
   "outputs": [],
   "source": [
    "from langchain.chat_models import ChatOpenAI\n",
    "from langchain.chains import GraphCypherQAChain\n",
    "from langchain.graphs import Neo4jGraph"
   ]
  },
  {
   "cell_type": "code",
   "execution_count": 18,
   "metadata": {},
   "outputs": [
    {
     "name": "stdout",
     "output_type": "stream",
     "text": [
      "\n",
      "        Node properties are the following:\n",
      "        [{'labels': 'Chunk', 'properties': [{'property': 'id', 'type': 'STRING'}, {'property': 'text', 'type': 'STRING'}, {'property': 'embedding', 'type': 'LIST'}]}]\n",
      "        Relationship properties are the following:\n",
      "        []\n",
      "        The relationships are the following:\n",
      "        []\n",
      "        \n"
     ]
    }
   ],
   "source": [
    "graph = Neo4jGraph(\n",
    "        url = NOE4J_URL,\n",
    "    username = 'neo4j',\n",
    "    password = NOE4J_PASSWORD\n",
    ")\n",
    "\n",
    "print(graph.schema)"
   ]
  },
  {
   "cell_type": "code",
   "execution_count": 19,
   "metadata": {},
   "outputs": [
    {
     "name": "stdout",
     "output_type": "stream",
     "text": [
      "\n",
      "\n",
      "\u001b[1m> Entering new GraphCypherQAChain chain...\u001b[0m\n",
      "Generated Cypher:\n",
      "\u001b[32;1m\u001b[1;3mMATCH (c:Chunk)-[:HAS_SYMPTOM]->(s:Symptom)\n",
      "WHERE c.text = 'Atelectasis'\n",
      "RETURN s.property\u001b[0m\n",
      "Full Context:\n",
      "\u001b[32;1m\u001b[1;3m[]\u001b[0m\n",
      "\n",
      "\u001b[1m> Finished chain.\u001b[0m\n"
     ]
    },
    {
     "data": {
      "text/plain": [
       "\"I'm sorry, but I don't have the information to answer your question. Atelectasis is a medical condition characterized by the collapse or closure of a lung or a part of it, resulting in reduced or absent gas exchange. The symptoms of atelectasis can vary depending on the severity and location of the collapse. Common symptoms may include shortness of breath, rapid breathing, chest pain, coughing, and low oxygen levels. However, it is always best to consult a healthcare professional for an accurate diagnosis and appropriate treatment.\""
      ]
     },
     "execution_count": 19,
     "metadata": {},
     "output_type": "execute_result"
    }
   ],
   "source": [
    "chain = GraphCypherQAChain.from_llm(\n",
    "    ChatOpenAI(temperature=0), graph=graph, verbose=True\n",
    ")\n",
    "\n",
    "graph_result = chain.run(\"What are the symptoms of Atelectasis\")\n",
    "graph_result"
   ]
  },
  {
   "cell_type": "code",
   "execution_count": null,
   "metadata": {},
   "outputs": [],
   "source": []
  }
 ],
 "metadata": {
  "kernelspec": {
   "display_name": "pytorch",
   "language": "python",
   "name": "python3"
  },
  "language_info": {
   "codemirror_mode": {
    "name": "ipython",
    "version": 3
   },
   "file_extension": ".py",
   "mimetype": "text/x-python",
   "name": "python",
   "nbconvert_exporter": "python",
   "pygments_lexer": "ipython3",
   "version": "3.9.18"
  }
 },
 "nbformat": 4,
 "nbformat_minor": 2
}
