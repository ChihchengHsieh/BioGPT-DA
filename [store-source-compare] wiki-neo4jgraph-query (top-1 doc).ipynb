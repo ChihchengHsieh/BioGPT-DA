{
 "cells": [
  {
   "cell_type": "code",
   "execution_count": 1,
   "metadata": {},
   "outputs": [],
   "source": [
    "import re\n",
    "import os\n",
    "from langchain.vectorstores.neo4j_vector import Neo4jVector\n",
    "from langchain.document_loaders import WikipediaLoader\n",
    "from langchain.embeddings.openai import OpenAIEmbeddings\n",
    "from langchain.text_splitter import (\n",
    "    CharacterTextSplitter,\n",
    "    RecursiveCharacterTextSplitter,\n",
    ")\n",
    "from langchain.graphs import Neo4jGraph\n",
    "from transformers import AutoModelForSeq2SeqLM, AutoTokenizer\n",
    "from langchain.text_splitter import TokenTextSplitter\n",
    "\n",
    "from secret import *\n",
    "import chromadb\n",
    "\n",
    "os.environ[\"OPENAI_API_KEY\"] = OPENAI_API_KEY"
   ]
  },
  {
   "cell_type": "code",
   "execution_count": 2,
   "metadata": {},
   "outputs": [
    {
     "name": "stdout",
     "output_type": "stream",
     "text": [
      "Node properties are the following:\n",
      "\n",
      "Relationship properties are the following:\n",
      "\n",
      "The relationships are the following:\n",
      "\n"
     ]
    }
   ],
   "source": [
    "graph = Neo4jGraph(url=\"bolt://localhost:7687\", username=\"neo4j\", password=\"test1234\")\n",
    "graph.query(\n",
    "    \"\"\"\n",
    "MATCH (n)\n",
    "DETACH DELETE n\n",
    "\"\"\"\n",
    ")\n",
    "graph.refresh_schema()\n",
    "print(graph.schema)"
   ]
  },
  {
   "cell_type": "code",
   "execution_count": 3,
   "metadata": {},
   "outputs": [],
   "source": [
    "raw_documents = WikipediaLoader(query=\"Atelectasis\").load()\n",
    "text_splitter = TokenTextSplitter(chunk_size=2048, chunk_overlap=24)\n",
    "documents = text_splitter.split_documents([raw_documents[0]]) # should I only take the first? which is the most relevant?"
   ]
  },
  {
   "cell_type": "code",
   "execution_count": 4,
   "metadata": {},
   "outputs": [
    {
     "data": {
      "text/plain": [
       "25"
      ]
     },
     "execution_count": 4,
     "metadata": {},
     "output_type": "execute_result"
    }
   ],
   "source": [
    "len(raw_documents)"
   ]
  },
  {
   "cell_type": "code",
   "execution_count": 5,
   "metadata": {},
   "outputs": [
    {
     "name": "stderr",
     "output_type": "stream",
     "text": [
      "c:\\Users\\mike8\\anaconda3\\envs\\pytorch\\lib\\site-packages\\langchain_core\\_api\\deprecation.py:115: LangChainDeprecationWarning: The class `ChatOpenAI` was deprecated in LangChain 0.1.0 and will be removed in 0.2.0. Use langchain_openai.ChatOpenAI instead.\n",
      "  warn_deprecated(\n",
      "  0%|          | 0/1 [00:00<?, ?it/s]c:\\Users\\mike8\\anaconda3\\envs\\pytorch\\lib\\site-packages\\langchain_core\\_api\\deprecation.py:115: LangChainDeprecationWarning: The function `run` was deprecated in LangChain 0.1.0 and will be removed in 0.2.0. Use invoke instead.\n",
      "  warn_deprecated(\n",
      "100%|██████████| 1/1 [01:26<00:00, 86.67s/it]\n"
     ]
    },
    {
     "name": "stdout",
     "output_type": "stream",
     "text": [
      "Node properties are the following:\n",
      "Condition {affects: STRING, name: STRING, description: STRING, definition: STRING, unilateral: STRING, id: STRING},Symptom {description: STRING, id: STRING, name: STRING},Cause {description: STRING, name: STRING, id: STRING},Risk factor {description: STRING, id: STRING, name: STRING},Diagnostic procedure {description: STRING, id: STRING, name: STRING}\n",
      "Relationship properties are the following:\n",
      "\n",
      "The relationships are the following:\n",
      "(:Condition)-[:CAN_CAUSE]->(:Symptom),(:Condition)-[:CAN_CAUSE]->(:Condition),(:Cause)-[:CAN_LEAD_TO]->(:Condition),(:Cause)-[:CAN_CONTRIBUTE_TO]->(:Condition),(:Cause)-[:CAN_CAUSE]->(:Condition),(:Risk factor)-[:ARE_AT_AN_INCREASED_RISK_OF]->(:Condition),(:Diagnostic procedure)-[:MAY_BE_NECESSARY_TO_EVALUATE]->(:Condition),(:Diagnostic procedure)-[:IS_COMMONLY_USED_TO_DETECT]->(:Condition)\n"
     ]
    }
   ],
   "source": [
    "from tqdm import tqdm\n",
    "from aug.graph_doc import (\n",
    "    get_extraction_chain,\n",
    "    data_to_graph_doc,\n",
    "    chain_run,\n",
    "    add_graph_documents,\n",
    ")\n",
    "from langchain.chat_models import ChatOpenAI\n",
    "\n",
    "llm = ChatOpenAI(model=\"gpt-3.5-turbo-16k\", temperature=0)\n",
    "\n",
    "allowed_nodes = None\n",
    "allowed_rels = None\n",
    "# allowed_nodes = [\"Symptom\", \"Disease\"]\n",
    "# allowed_rels = [\"CAN_CAUSE\", \"DESCRIBE\", \"HAS\"]\n",
    "\n",
    "extract_chain = get_extraction_chain(llm, allowed_nodes, allowed_rels)\n",
    "gds = []\n",
    "\n",
    "\n",
    "i = 0\n",
    "for d in tqdm(documents, total=len(documents)):\n",
    "    data = chain_run(extract_chain, d.page_content)\n",
    "    # data = extract_chain.run(d.page_content)\n",
    "    # graph_document = GraphDocument(\n",
    "    #     nodes=[map_to_base_node(node) for node in data.nodes],\n",
    "    #     relationships=[map_to_base_relationship(rel) for rel in data.rels],\n",
    "    #     source=d,\n",
    "    # )\n",
    "    i += 1\n",
    "    try:\n",
    "        data = chain_run(extract_chain, d.page_content)\n",
    "        graph_document = data_to_graph_doc(data, d)\n",
    "        # add_graph_document(graph, graph_document)\n",
    "        gds.append(graph_document)\n",
    "    except:\n",
    "        print(f\"Not working for doc {i}\")\n",
    "\n",
    "add_graph_documents(graph, gds)\n",
    "\n",
    "graph.refresh_schema()\n",
    "print(graph.schema)"
   ]
  },
  {
   "cell_type": "code",
   "execution_count": 6,
   "metadata": {},
   "outputs": [],
   "source": [
    "from langchain.chains import GraphCypherQAChain\n",
    "chain = GraphCypherQAChain.from_llm(\n",
    "    graph=graph,\n",
    "    cypher_llm=ChatOpenAI(temperature=0, model=\"gpt-3.5-turbo-16k\"),\n",
    "    qa_llm=ChatOpenAI(temperature=0, model=\"gpt-3.5-turbo-16k\"),\n",
    "    validate_cypher=True,  # Validate relationship directions\n",
    "    verbose=True,\n",
    ")"
   ]
  },
  {
   "cell_type": "code",
   "execution_count": 7,
   "metadata": {},
   "outputs": [],
   "source": [
    "lesion = \"Atelectasis\"\n",
    "questions = [\n",
    "    f\"What is {lesion}?\",\n",
    "    f\"What are the symptoms associated with {lesion}?\",\n",
    "    f\"What can cause {lesion}?\",\n",
    "    f\"What are the patient’s symptoms that are relevant for {lesion}?\",\n",
    "    f\"What are the relevant clinical signs for the etiological diagnosis of {lesion}?\",\n",
    "    f\"What are the relevant laboratory data for the etiological diagnosis of {lesion}?\",\n",
    "    f\"What are the relevant clinical characteristics for the etiological diagnosis of {lesion}\",\n",
    "    f\"What are the patient’s personal relevant history for the etiological diagnosis of {lesion}\",\n",
    "]"
   ]
  },
  {
   "cell_type": "code",
   "execution_count": 8,
   "metadata": {},
   "outputs": [
    {
     "name": "stdout",
     "output_type": "stream",
     "text": [
      "\n",
      "\n",
      "\u001b[1m> Entering new GraphCypherQAChain chain...\u001b[0m\n",
      "Generated Cypher:\n",
      "\u001b[32;1m\u001b[1;3mMATCH (c:Condition {name: \"Atelectasis\"})\n",
      "RETURN c\u001b[0m\n",
      "Full Context:\n",
      "\u001b[32;1m\u001b[1;3m[{'c': {'name': 'Atelectasis', 'affects': 'part or all of one lung', 'description': 'Atelectasis is a condition where the alveoli are deflated down to little or no volume, as distinct from pulmonary consolidation, in which they are filled with liquid. It is often referred to informally as a collapsed lung, although more accurately it usually involves only a partial collapse, and that ambiguous term is also informally used for a fully collapsed lung caused by a pneumothorax. It is a very common finding in chest X-rays and other radiological studies, and may be caused by normal exhalation or by various medical conditions. Although frequently described as a collapse of lung tissue, atelectasis is not synonymous with a pneumothorax, which is a more specific condition that can cause atelectasis.', 'definition': 'The partial collapse or closure of a lung resulting in reduced or absent gas exchange.', 'unilateral': 'true', 'id': 'Atelectasis'}}]\u001b[0m\n",
      "\n",
      "\u001b[1m> Finished chain.\u001b[0m\n",
      "\n",
      "\n",
      "\u001b[1m> Entering new GraphCypherQAChain chain...\u001b[0m\n",
      "Generated Cypher:\n",
      "\u001b[32;1m\u001b[1;3mMATCH (:Condition {name: 'Atelectasis'})-[:CAN_CAUSE]->(s:Symptom)\n",
      "RETURN s.name AS Symptom\u001b[0m\n",
      "Full Context:\n",
      "\u001b[32;1m\u001b[1;3m[{'Symptom': 'Cyanosis'}, {'Symptom': 'Increased Heart Rate'}]\u001b[0m\n",
      "\n",
      "\u001b[1m> Finished chain.\u001b[0m\n",
      "\n",
      "\n",
      "\u001b[1m> Entering new GraphCypherQAChain chain...\u001b[0m\n",
      "Generated Cypher:\n",
      "\u001b[32;1m\u001b[1;3mMATCH (c:Condition {name: \"Atelectasis\"})-[:CAN_CAUSE]->(s:Symptom)\n",
      "RETURN s.name\u001b[0m\n",
      "Full Context:\n",
      "\u001b[32;1m\u001b[1;3m[{'s.name': 'Cyanosis'}, {'s.name': 'Increased Heart Rate'}]\u001b[0m\n",
      "\n",
      "\u001b[1m> Finished chain.\u001b[0m\n",
      "\n",
      "\n",
      "\u001b[1m> Entering new GraphCypherQAChain chain...\u001b[0m\n",
      "Generated Cypher:\n",
      "\u001b[32;1m\u001b[1;3mMATCH (c:Condition {name: 'Atelectasis'})-[:CAN_CAUSE]->(s:Symptom)\n",
      "RETURN s.name AS symptom\u001b[0m\n",
      "Full Context:\n",
      "\u001b[32;1m\u001b[1;3m[{'symptom': 'Cyanosis'}, {'symptom': 'Increased Heart Rate'}]\u001b[0m\n",
      "\n",
      "\u001b[1m> Finished chain.\u001b[0m\n",
      "\n",
      "\n",
      "\u001b[1m> Entering new GraphCypherQAChain chain...\u001b[0m\n",
      "Generated Cypher:\n",
      "\u001b[32;1m\u001b[1;3mMATCH (c:Condition {name: \"Atelectasis\"})-[:CAN_CAUSE]->(s:Symptom)\n",
      "RETURN s.name AS ClinicalSigns\u001b[0m\n",
      "Full Context:\n",
      "\u001b[32;1m\u001b[1;3m[{'ClinicalSigns': 'Cyanosis'}, {'ClinicalSigns': 'Increased Heart Rate'}]\u001b[0m\n",
      "\n",
      "\u001b[1m> Finished chain.\u001b[0m\n",
      "\n",
      "\n",
      "\u001b[1m> Entering new GraphCypherQAChain chain...\u001b[0m\n",
      "Generated Cypher:\n",
      "\u001b[32;1m\u001b[1;3mMATCH (c:Condition {name: \"Atelectasis\"})-[:CAN_CAUSE]->(s:Symptom)\n",
      "RETURN s.name AS Relevant_Laboratory_Data\u001b[0m\n",
      "Full Context:\n",
      "\u001b[32;1m\u001b[1;3m[{'Relevant_Laboratory_Data': 'Cyanosis'}, {'Relevant_Laboratory_Data': 'Increased Heart Rate'}]\u001b[0m\n",
      "\n",
      "\u001b[1m> Finished chain.\u001b[0m\n",
      "\n",
      "\n",
      "\u001b[1m> Entering new GraphCypherQAChain chain...\u001b[0m\n",
      "Generated Cypher:\n",
      "\u001b[32;1m\u001b[1;3mMATCH (c:Condition {name: \"Atelectasis\"})-[:CAN_CAUSE]->(s:Symptom)\n",
      "RETURN s.name AS Relevant_Clinical_Characteristics\u001b[0m\n",
      "Full Context:\n",
      "\u001b[32;1m\u001b[1;3m[{'Relevant_Clinical_Characteristics': 'Cyanosis'}, {'Relevant_Clinical_Characteristics': 'Increased Heart Rate'}]\u001b[0m\n",
      "\n",
      "\u001b[1m> Finished chain.\u001b[0m\n",
      "\n",
      "\n",
      "\u001b[1m> Entering new GraphCypherQAChain chain...\u001b[0m\n",
      "Generated Cypher:\n",
      "\u001b[32;1m\u001b[1;3m\u001b[0m\n",
      "Full Context:\n",
      "\u001b[32;1m\u001b[1;3m[]\u001b[0m\n",
      "\n",
      "\u001b[1m> Finished chain.\u001b[0m\n"
     ]
    }
   ],
   "source": [
    "res_dict = {}\n",
    "for q in questions:\n",
    "    try:\n",
    "        res = chain.run(q)\n",
    "        res_dict[q] = res.strip()\n",
    "    except:\n",
    "        res_dict[q] = \"Generated Cypher Statement is not valid\"\n",
    "# res = chain.run(\"What is Atelectasis?\")"
   ]
  },
  {
   "cell_type": "code",
   "execution_count": 9,
   "metadata": {},
   "outputs": [
    {
     "name": "stdout",
     "output_type": "stream",
     "text": [
      "Atelectasis is a condition where part or all of one lung is affected. It is characterized by the deflation of the alveoli, which are the tiny air sacs in the lungs. This condition is often referred to as a collapsed lung, although it usually involves only a partial collapse. Atelectasis is a common finding in chest X-rays and other radiological studies. It can be caused by normal exhalation or various medical conditions. It is important to note that atelectasis is not synonymous with a pneumothorax, which is a more specific condition that can cause atelectasis.\n",
      "The symptoms associated with Atelectasis include Cyanosis and Increased Heart Rate.\n",
      "Cyanosis and increased heart rate can be potential causes of atelectasis.\n",
      "The patient's symptoms that are relevant for Atelectasis include Cyanosis and Increased Heart Rate.\n",
      "The relevant clinical signs for the etiological diagnosis of Atelectasis include Cyanosis and Increased Heart Rate.\n",
      "The relevant laboratory data for the etiological diagnosis of Atelectasis include Cyanosis and Increased Heart Rate. These findings can provide valuable information to help determine the cause of Atelectasis.\n",
      "The relevant clinical characteristics for the etiological diagnosis of Atelectasis include cyanosis and increased heart rate.\n",
      "I'm sorry, but I don't have access to the patient's personal relevant history for the etiological diagnosis of Atelectasis.\n"
     ]
    }
   ],
   "source": [
    "for q in questions:\n",
    "    print(res_dict[q])"
   ]
  },
  {
   "cell_type": "code",
   "execution_count": 10,
   "metadata": {},
   "outputs": [
    {
     "ename": "StopIteration",
     "evalue": "",
     "output_type": "error",
     "traceback": [
      "\u001b[1;31m---------------------------------------------------------------------------\u001b[0m",
      "\u001b[1;31mStopIteration\u001b[0m                             Traceback (most recent call last)",
      "Cell \u001b[1;32mIn[10], line 1\u001b[0m\n\u001b[1;32m----> 1\u001b[0m \u001b[38;5;28;01mraise\u001b[39;00m \u001b[38;5;167;01mStopIteration\u001b[39;00m()\n",
      "\u001b[1;31mStopIteration\u001b[0m: "
     ]
    }
   ],
   "source": [
    "raise StopIteration()"
   ]
  },
  {
   "cell_type": "code",
   "execution_count": null,
   "metadata": {},
   "outputs": [
    {
     "name": "stdout",
     "output_type": "stream",
     "text": [
      "\n",
      "\n",
      "\u001b[1m> Entering new GraphCypherQAChain chain...\u001b[0m\n",
      "Generated Cypher:\n",
      "\u001b[32;1m\u001b[1;3mMATCH (c:Condition {name: 'Atelectasis'})\n",
      "RETURN c\u001b[0m\n",
      "Full Context:\n",
      "\u001b[32;1m\u001b[1;3m[{'c': {'name': 'Atelectasis', 'causedBy': 'normal exhalation or various medical conditions', 'affects': 'part or all of one lung', 'description': 'A condition where the alveoli are deflated down to little or no volume, as distinct from pulmonary consolidation, in which they are filled with liquid', 'definition': 'The collapse or closure of a lung resulting in reduced or absent gas exchange', 'unilateral': 'true', 'id': 'Atelectasis', 'alsoKnownAs': 'collapsed lung'}}]\u001b[0m\n",
      "\n",
      "\u001b[1m> Finished chain.\u001b[0m\n"
     ]
    },
    {
     "data": {
      "text/plain": [
       "'Atelectasis is a condition where part or all of one lung collapses or closes, resulting in reduced or absent gas exchange. It can be caused by normal exhalation or various medical conditions. The alveoli, which are small air sacs in the lungs, become deflated down to little or no volume. Atelectasis is also known as a collapsed lung.'"
      ]
     },
     "execution_count": 6,
     "metadata": {},
     "output_type": "execute_result"
    }
   ],
   "source": [
    "chain.run(\"What is Atelectasis?\")"
   ]
  },
  {
   "cell_type": "code",
   "execution_count": null,
   "metadata": {},
   "outputs": [
    {
     "name": "stdout",
     "output_type": "stream",
     "text": [
      "\n",
      "\n",
      "\u001b[1m> Entering new GraphCypherQAChain chain...\u001b[0m\n",
      "Generated Cypher:\n",
      "\u001b[32;1m\u001b[1;3mMATCH (c:Condition {name: 'Atelectasis'})-[:HAS]->(s:Section)-[:INCLUDES]->(sym:Symptom)\n",
      "RETURN sym.name\u001b[0m\n",
      "Full Context:\n",
      "\u001b[32;1m\u001b[1;3m[{'sym.name': None}, {'sym.name': None}, {'sym.name': None}, {'sym.name': None}, {'sym.name': None}, {'sym.name': None}, {'sym.name': None}]\u001b[0m\n",
      "\n",
      "\u001b[1m> Finished chain.\u001b[0m\n"
     ]
    },
    {
     "data": {
      "text/plain": [
       "\"I'm sorry, but I don't have the information to answer your question about the symptoms of Atelectasis.\""
      ]
     },
     "execution_count": 7,
     "metadata": {},
     "output_type": "execute_result"
    }
   ],
   "source": [
    "chain.run(\"What are the symptoms of Atelectasis?\")"
   ]
  },
  {
   "cell_type": "code",
   "execution_count": null,
   "metadata": {},
   "outputs": [
    {
     "name": "stdout",
     "output_type": "stream",
     "text": [
      "\n",
      "\n",
      "\u001b[1m> Entering new GraphCypherQAChain chain...\u001b[0m\n",
      "Generated Cypher:\n",
      "\u001b[32;1m\u001b[1;3mMATCH (c:Condition {name: 'Atelectasis'})-[:HAS]->(s:Section)-[:INCLUDES]->(cause:Cause)\n",
      "RETURN cause.name\u001b[0m\n",
      "Full Context:\n",
      "\u001b[32;1m\u001b[1;3m[{'cause.name': None}, {'cause.name': None}, {'cause.name': None}, {'cause.name': None}, {'cause.name': None}, {'cause.name': None}]\u001b[0m\n",
      "\n",
      "\u001b[1m> Finished chain.\u001b[0m\n"
     ]
    },
    {
     "data": {
      "text/plain": [
       "\"I'm sorry, but I don't have any information on what can cause Atelectasis.\""
      ]
     },
     "execution_count": 8,
     "metadata": {},
     "output_type": "execute_result"
    }
   ],
   "source": [
    "chain.run(\"What can cause Atelectasis?\")"
   ]
  },
  {
   "cell_type": "code",
   "execution_count": null,
   "metadata": {},
   "outputs": [
    {
     "name": "stdout",
     "output_type": "stream",
     "text": [
      "\n",
      "\n",
      "\u001b[1m> Entering new GraphCypherQAChain chain...\u001b[0m\n",
      "Generated Cypher:\n",
      "\u001b[32;1m\u001b[1;3mMATCH (c:Condition {name: 'Atelectasis'})-[:HAS]->(s:Section)-[:INCLUDES]->(sym:Symptom)\n",
      "RETURN sym.name AS ClinicalFeaturesRadiologistsNeed\u001b[0m\n",
      "Full Context:\n",
      "\u001b[32;1m\u001b[1;3m[{'ClinicalFeaturesRadiologistsNeed': None}, {'ClinicalFeaturesRadiologistsNeed': None}, {'ClinicalFeaturesRadiologistsNeed': None}, {'ClinicalFeaturesRadiologistsNeed': None}, {'ClinicalFeaturesRadiologistsNeed': None}, {'ClinicalFeaturesRadiologistsNeed': None}, {'ClinicalFeaturesRadiologistsNeed': None}]\u001b[0m\n",
      "\n",
      "\u001b[1m> Finished chain.\u001b[0m\n"
     ]
    },
    {
     "data": {
      "text/plain": [
       "\"I'm sorry, but I don't have the information on the clinical features that radiologists need for diagnosing Atelectasis.\""
      ]
     },
     "execution_count": 9,
     "metadata": {},
     "output_type": "execute_result"
    }
   ],
   "source": [
    "chain.run(\"What clinical features radiologists need for diagnosing Atelectasis?\")"
   ]
  },
  {
   "cell_type": "code",
   "execution_count": null,
   "metadata": {},
   "outputs": [
    {
     "name": "stdout",
     "output_type": "stream",
     "text": [
      "\n",
      "\n",
      "\u001b[1m> Entering new GraphCypherQAChain chain...\u001b[0m\n",
      "Generated Cypher:\n",
      "\u001b[32;1m\u001b[1;3mMATCH (c:Condition {name: 'Atelectasis'})-[:HAS]->(s:Section)-[:INCLUDES]->(df:Diagnostic finding)\n",
      "RETURN df.name\u001b[0m\n"
     ]
    },
    {
     "ename": "ValueError",
     "evalue": "Generated Cypher Statement is not valid\n{code: Neo.ClientError.Statement.SyntaxError} {message: Invalid input 'finding': expected \")\", \"WHERE\", \"{\" or a parameter (line 1, column 91 (offset: 90))\r\n\"MATCH (c:Condition {name: 'Atelectasis'})-[:HAS]->(s:Section)-[:INCLUDES]->(df:Diagnostic finding)\"\r\n                                                                                           ^}",
     "output_type": "error",
     "traceback": [
      "\u001b[1;31m---------------------------------------------------------------------------\u001b[0m",
      "\u001b[1;31mCypherSyntaxError\u001b[0m                         Traceback (most recent call last)",
      "File \u001b[1;32mc:\\Users\\mike8\\anaconda3\\envs\\pytorch\\lib\\site-packages\\langchain\\graphs\\neo4j_graph.py:112\u001b[0m, in \u001b[0;36mNeo4jGraph.query\u001b[1;34m(self, query, params)\u001b[0m\n\u001b[0;32m    111\u001b[0m \u001b[39mtry\u001b[39;00m:\n\u001b[1;32m--> 112\u001b[0m     data \u001b[39m=\u001b[39m session\u001b[39m.\u001b[39;49mrun(query, params)\n\u001b[0;32m    113\u001b[0m     \u001b[39mreturn\u001b[39;00m [r\u001b[39m.\u001b[39mdata() \u001b[39mfor\u001b[39;00m r \u001b[39min\u001b[39;00m data]\n",
      "File \u001b[1;32mc:\\Users\\mike8\\anaconda3\\envs\\pytorch\\lib\\site-packages\\neo4j\\_sync\\work\\session.py:312\u001b[0m, in \u001b[0;36mSession.run\u001b[1;34m(self, query, parameters, **kwargs)\u001b[0m\n\u001b[0;32m    311\u001b[0m parameters \u001b[39m=\u001b[39m \u001b[39mdict\u001b[39m(parameters \u001b[39mor\u001b[39;00m {}, \u001b[39m*\u001b[39m\u001b[39m*\u001b[39mkwargs)\n\u001b[1;32m--> 312\u001b[0m \u001b[39mself\u001b[39;49m\u001b[39m.\u001b[39;49m_auto_result\u001b[39m.\u001b[39;49m_run(\n\u001b[0;32m    313\u001b[0m     query, parameters, \u001b[39mself\u001b[39;49m\u001b[39m.\u001b[39;49m_config\u001b[39m.\u001b[39;49mdatabase,\n\u001b[0;32m    314\u001b[0m     \u001b[39mself\u001b[39;49m\u001b[39m.\u001b[39;49m_config\u001b[39m.\u001b[39;49mimpersonated_user, \u001b[39mself\u001b[39;49m\u001b[39m.\u001b[39;49m_config\u001b[39m.\u001b[39;49mdefault_access_mode,\n\u001b[0;32m    315\u001b[0m     bookmarks, \u001b[39mself\u001b[39;49m\u001b[39m.\u001b[39;49m_config\u001b[39m.\u001b[39;49mnotifications_min_severity,\n\u001b[0;32m    316\u001b[0m     \u001b[39mself\u001b[39;49m\u001b[39m.\u001b[39;49m_config\u001b[39m.\u001b[39;49mnotifications_disabled_categories,\n\u001b[0;32m    317\u001b[0m )\n\u001b[0;32m    319\u001b[0m \u001b[39mreturn\u001b[39;00m \u001b[39mself\u001b[39m\u001b[39m.\u001b[39m_auto_result\n",
      "File \u001b[1;32mc:\\Users\\mike8\\anaconda3\\envs\\pytorch\\lib\\site-packages\\neo4j\\_sync\\work\\result.py:181\u001b[0m, in \u001b[0;36mResult._run\u001b[1;34m(self, query, parameters, db, imp_user, access_mode, bookmarks, notifications_min_severity, notifications_disabled_categories)\u001b[0m\n\u001b[0;32m    180\u001b[0m \u001b[39mself\u001b[39m\u001b[39m.\u001b[39m_connection\u001b[39m.\u001b[39msend_all()\n\u001b[1;32m--> 181\u001b[0m \u001b[39mself\u001b[39;49m\u001b[39m.\u001b[39;49m_attach()\n",
      "File \u001b[1;32mc:\\Users\\mike8\\anaconda3\\envs\\pytorch\\lib\\site-packages\\neo4j\\_sync\\work\\result.py:292\u001b[0m, in \u001b[0;36mResult._attach\u001b[1;34m(self)\u001b[0m\n\u001b[0;32m    291\u001b[0m \u001b[39mwhile\u001b[39;00m \u001b[39mself\u001b[39m\u001b[39m.\u001b[39m_attached \u001b[39mis\u001b[39;00m \u001b[39mFalse\u001b[39;00m:\n\u001b[1;32m--> 292\u001b[0m     \u001b[39mself\u001b[39;49m\u001b[39m.\u001b[39;49m_connection\u001b[39m.\u001b[39;49mfetch_message()\n",
      "File \u001b[1;32mc:\\Users\\mike8\\anaconda3\\envs\\pytorch\\lib\\site-packages\\neo4j\\_sync\\io\\_common.py:180\u001b[0m, in \u001b[0;36mConnectionErrorHandler.__getattr__.<locals>.outer.<locals>.inner\u001b[1;34m(*args, **kwargs)\u001b[0m\n\u001b[0;32m    179\u001b[0m \u001b[39mtry\u001b[39;00m:\n\u001b[1;32m--> 180\u001b[0m     func(\u001b[39m*\u001b[39margs, \u001b[39m*\u001b[39m\u001b[39m*\u001b[39mkwargs)\n\u001b[0;32m    181\u001b[0m \u001b[39mexcept\u001b[39;00m (Neo4jError, ServiceUnavailable, SessionExpired) \u001b[39mas\u001b[39;00m exc:\n",
      "File \u001b[1;32mc:\\Users\\mike8\\anaconda3\\envs\\pytorch\\lib\\site-packages\\neo4j\\_sync\\io\\_bolt.py:851\u001b[0m, in \u001b[0;36mBolt.fetch_message\u001b[1;34m(self)\u001b[0m\n\u001b[0;32m    848\u001b[0m tag, fields \u001b[39m=\u001b[39m \u001b[39mself\u001b[39m\u001b[39m.\u001b[39minbox\u001b[39m.\u001b[39mpop(\n\u001b[0;32m    849\u001b[0m     hydration_hooks\u001b[39m=\u001b[39m\u001b[39mself\u001b[39m\u001b[39m.\u001b[39mresponses[\u001b[39m0\u001b[39m]\u001b[39m.\u001b[39mhydration_hooks\n\u001b[0;32m    850\u001b[0m )\n\u001b[1;32m--> 851\u001b[0m res \u001b[39m=\u001b[39m \u001b[39mself\u001b[39;49m\u001b[39m.\u001b[39;49m_process_message(tag, fields)\n\u001b[0;32m    852\u001b[0m \u001b[39mself\u001b[39m\u001b[39m.\u001b[39midle_since \u001b[39m=\u001b[39m perf_counter()\n",
      "File \u001b[1;32mc:\\Users\\mike8\\anaconda3\\envs\\pytorch\\lib\\site-packages\\neo4j\\_sync\\io\\_bolt5.py:376\u001b[0m, in \u001b[0;36mBolt5x0._process_message\u001b[1;34m(self, tag, fields)\u001b[0m\n\u001b[0;32m    375\u001b[0m \u001b[39mtry\u001b[39;00m:\n\u001b[1;32m--> 376\u001b[0m     response\u001b[39m.\u001b[39;49mon_failure(summary_metadata \u001b[39mor\u001b[39;49;00m {})\n\u001b[0;32m    377\u001b[0m \u001b[39mexcept\u001b[39;00m (ServiceUnavailable, DatabaseUnavailable):\n",
      "File \u001b[1;32mc:\\Users\\mike8\\anaconda3\\envs\\pytorch\\lib\\site-packages\\neo4j\\_sync\\io\\_common.py:247\u001b[0m, in \u001b[0;36mResponse.on_failure\u001b[1;34m(self, metadata)\u001b[0m\n\u001b[0;32m    246\u001b[0m Util\u001b[39m.\u001b[39mcallback(handler)\n\u001b[1;32m--> 247\u001b[0m \u001b[39mraise\u001b[39;00m Neo4jError\u001b[39m.\u001b[39mhydrate(\u001b[39m*\u001b[39m\u001b[39m*\u001b[39mmetadata)\n",
      "\u001b[1;31mCypherSyntaxError\u001b[0m: {code: Neo.ClientError.Statement.SyntaxError} {message: Invalid input 'finding': expected \")\", \"WHERE\", \"{\" or a parameter (line 1, column 91 (offset: 90))\r\n\"MATCH (c:Condition {name: 'Atelectasis'})-[:HAS]->(s:Section)-[:INCLUDES]->(df:Diagnostic finding)\"\r\n                                                                                           ^}",
      "\nDuring handling of the above exception, another exception occurred:\n",
      "\u001b[1;31mValueError\u001b[0m                                Traceback (most recent call last)",
      "\u001b[1;32mc:\\Users\\mike8\\OneDrive\\文件\\GitHub\\BioGPT-DA\\[extend] wiki-0-neo4jgraph-query.ipynb Cell 10\u001b[0m line \u001b[0;36m1\n\u001b[1;32m----> <a href='vscode-notebook-cell:/c%3A/Users/mike8/OneDrive/%E6%96%87%E4%BB%B6/GitHub/BioGPT-DA/%5Bextend%5D%20wiki-0-neo4jgraph-query.ipynb#X26sZmlsZQ%3D%3D?line=0'>1</a>\u001b[0m chain\u001b[39m.\u001b[39;49mrun(\u001b[39m\"\u001b[39;49m\u001b[39mwhat are radiographic features of Atelectasis?\u001b[39;49m\u001b[39m\"\u001b[39;49m)\n",
      "File \u001b[1;32mc:\\Users\\mike8\\anaconda3\\envs\\pytorch\\lib\\site-packages\\langchain\\chains\\base.py:505\u001b[0m, in \u001b[0;36mChain.run\u001b[1;34m(self, callbacks, tags, metadata, *args, **kwargs)\u001b[0m\n\u001b[0;32m    503\u001b[0m     \u001b[39mif\u001b[39;00m \u001b[39mlen\u001b[39m(args) \u001b[39m!=\u001b[39m \u001b[39m1\u001b[39m:\n\u001b[0;32m    504\u001b[0m         \u001b[39mraise\u001b[39;00m \u001b[39mValueError\u001b[39;00m(\u001b[39m\"\u001b[39m\u001b[39m`run` supports only one positional argument.\u001b[39m\u001b[39m\"\u001b[39m)\n\u001b[1;32m--> 505\u001b[0m     \u001b[39mreturn\u001b[39;00m \u001b[39mself\u001b[39;49m(args[\u001b[39m0\u001b[39;49m], callbacks\u001b[39m=\u001b[39;49mcallbacks, tags\u001b[39m=\u001b[39;49mtags, metadata\u001b[39m=\u001b[39;49mmetadata)[\n\u001b[0;32m    506\u001b[0m         _output_key\n\u001b[0;32m    507\u001b[0m     ]\n\u001b[0;32m    509\u001b[0m \u001b[39mif\u001b[39;00m kwargs \u001b[39mand\u001b[39;00m \u001b[39mnot\u001b[39;00m args:\n\u001b[0;32m    510\u001b[0m     \u001b[39mreturn\u001b[39;00m \u001b[39mself\u001b[39m(kwargs, callbacks\u001b[39m=\u001b[39mcallbacks, tags\u001b[39m=\u001b[39mtags, metadata\u001b[39m=\u001b[39mmetadata)[\n\u001b[0;32m    511\u001b[0m         _output_key\n\u001b[0;32m    512\u001b[0m     ]\n",
      "File \u001b[1;32mc:\\Users\\mike8\\anaconda3\\envs\\pytorch\\lib\\site-packages\\langchain\\chains\\base.py:310\u001b[0m, in \u001b[0;36mChain.__call__\u001b[1;34m(self, inputs, return_only_outputs, callbacks, tags, metadata, run_name, include_run_info)\u001b[0m\n\u001b[0;32m    308\u001b[0m \u001b[39mexcept\u001b[39;00m \u001b[39mBaseException\u001b[39;00m \u001b[39mas\u001b[39;00m e:\n\u001b[0;32m    309\u001b[0m     run_manager\u001b[39m.\u001b[39mon_chain_error(e)\n\u001b[1;32m--> 310\u001b[0m     \u001b[39mraise\u001b[39;00m e\n\u001b[0;32m    311\u001b[0m run_manager\u001b[39m.\u001b[39mon_chain_end(outputs)\n\u001b[0;32m    312\u001b[0m final_outputs: Dict[\u001b[39mstr\u001b[39m, Any] \u001b[39m=\u001b[39m \u001b[39mself\u001b[39m\u001b[39m.\u001b[39mprep_outputs(\n\u001b[0;32m    313\u001b[0m     inputs, outputs, return_only_outputs\n\u001b[0;32m    314\u001b[0m )\n",
      "File \u001b[1;32mc:\\Users\\mike8\\anaconda3\\envs\\pytorch\\lib\\site-packages\\langchain\\chains\\base.py:304\u001b[0m, in \u001b[0;36mChain.__call__\u001b[1;34m(self, inputs, return_only_outputs, callbacks, tags, metadata, run_name, include_run_info)\u001b[0m\n\u001b[0;32m    297\u001b[0m run_manager \u001b[39m=\u001b[39m callback_manager\u001b[39m.\u001b[39mon_chain_start(\n\u001b[0;32m    298\u001b[0m     dumpd(\u001b[39mself\u001b[39m),\n\u001b[0;32m    299\u001b[0m     inputs,\n\u001b[0;32m    300\u001b[0m     name\u001b[39m=\u001b[39mrun_name,\n\u001b[0;32m    301\u001b[0m )\n\u001b[0;32m    302\u001b[0m \u001b[39mtry\u001b[39;00m:\n\u001b[0;32m    303\u001b[0m     outputs \u001b[39m=\u001b[39m (\n\u001b[1;32m--> 304\u001b[0m         \u001b[39mself\u001b[39;49m\u001b[39m.\u001b[39;49m_call(inputs, run_manager\u001b[39m=\u001b[39;49mrun_manager)\n\u001b[0;32m    305\u001b[0m         \u001b[39mif\u001b[39;00m new_arg_supported\n\u001b[0;32m    306\u001b[0m         \u001b[39melse\u001b[39;00m \u001b[39mself\u001b[39m\u001b[39m.\u001b[39m_call(inputs)\n\u001b[0;32m    307\u001b[0m     )\n\u001b[0;32m    308\u001b[0m \u001b[39mexcept\u001b[39;00m \u001b[39mBaseException\u001b[39;00m \u001b[39mas\u001b[39;00m e:\n\u001b[0;32m    309\u001b[0m     run_manager\u001b[39m.\u001b[39mon_chain_error(e)\n",
      "File \u001b[1;32mc:\\Users\\mike8\\anaconda3\\envs\\pytorch\\lib\\site-packages\\langchain\\chains\\graph_qa\\cypher.py:245\u001b[0m, in \u001b[0;36mGraphCypherQAChain._call\u001b[1;34m(self, inputs, run_manager)\u001b[0m\n\u001b[0;32m    242\u001b[0m \u001b[39m# Retrieve and limit the number of results\u001b[39;00m\n\u001b[0;32m    243\u001b[0m \u001b[39m# Generated Cypher be null if query corrector identifies invalid schema\u001b[39;00m\n\u001b[0;32m    244\u001b[0m \u001b[39mif\u001b[39;00m generated_cypher:\n\u001b[1;32m--> 245\u001b[0m     context \u001b[39m=\u001b[39m \u001b[39mself\u001b[39;49m\u001b[39m.\u001b[39;49mgraph\u001b[39m.\u001b[39;49mquery(generated_cypher)[: \u001b[39mself\u001b[39m\u001b[39m.\u001b[39mtop_k]\n\u001b[0;32m    246\u001b[0m \u001b[39melse\u001b[39;00m:\n\u001b[0;32m    247\u001b[0m     context \u001b[39m=\u001b[39m []\n",
      "File \u001b[1;32mc:\\Users\\mike8\\anaconda3\\envs\\pytorch\\lib\\site-packages\\langchain\\graphs\\neo4j_graph.py:115\u001b[0m, in \u001b[0;36mNeo4jGraph.query\u001b[1;34m(self, query, params)\u001b[0m\n\u001b[0;32m    113\u001b[0m     \u001b[39mreturn\u001b[39;00m [r\u001b[39m.\u001b[39mdata() \u001b[39mfor\u001b[39;00m r \u001b[39min\u001b[39;00m data]\n\u001b[0;32m    114\u001b[0m \u001b[39mexcept\u001b[39;00m CypherSyntaxError \u001b[39mas\u001b[39;00m e:\n\u001b[1;32m--> 115\u001b[0m     \u001b[39mraise\u001b[39;00m \u001b[39mValueError\u001b[39;00m(\u001b[39mf\u001b[39m\u001b[39m\"\u001b[39m\u001b[39mGenerated Cypher Statement is not valid\u001b[39m\u001b[39m\\n\u001b[39;00m\u001b[39m{\u001b[39;00me\u001b[39m}\u001b[39;00m\u001b[39m\"\u001b[39m)\n",
      "\u001b[1;31mValueError\u001b[0m: Generated Cypher Statement is not valid\n{code: Neo.ClientError.Statement.SyntaxError} {message: Invalid input 'finding': expected \")\", \"WHERE\", \"{\" or a parameter (line 1, column 91 (offset: 90))\r\n\"MATCH (c:Condition {name: 'Atelectasis'})-[:HAS]->(s:Section)-[:INCLUDES]->(df:Diagnostic finding)\"\r\n                                                                                           ^}"
     ]
    }
   ],
   "source": [
    "chain.run(\"what are radiographic features of Atelectasis?\")"
   ]
  },
  {
   "cell_type": "code",
   "execution_count": null,
   "metadata": {},
   "outputs": [],
   "source": []
  }
 ],
 "metadata": {
  "kernelspec": {
   "display_name": "pytorch",
   "language": "python",
   "name": "python3"
  },
  "language_info": {
   "codemirror_mode": {
    "name": "ipython",
    "version": 3
   },
   "file_extension": ".py",
   "mimetype": "text/x-python",
   "name": "python",
   "nbconvert_exporter": "python",
   "pygments_lexer": "ipython3",
   "version": "3.9.18"
  }
 },
 "nbformat": 4,
 "nbformat_minor": 2
}
