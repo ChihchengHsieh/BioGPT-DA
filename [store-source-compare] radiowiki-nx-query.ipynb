{
 "cells": [
  {
   "cell_type": "code",
   "execution_count": 1,
   "metadata": {},
   "outputs": [],
   "source": [
    "import re\n",
    "import os\n",
    "from langchain.vectorstores.neo4j_vector import Neo4jVector\n",
    "from langchain.document_loaders import WikipediaLoader\n",
    "from langchain.embeddings.openai import OpenAIEmbeddings\n",
    "from langchain.text_splitter import (\n",
    "    CharacterTextSplitter,\n",
    "    RecursiveCharacterTextSplitter,\n",
    ")\n",
    "from transformers import AutoModelForSeq2SeqLM, AutoTokenizer\n",
    "from langchain.text_splitter import TokenTextSplitter\n",
    "from langchain.document_loaders import DiffbotLoader\n",
    "from secret import *\n",
    "\n",
    "os.environ[\"OPENAI_API_KEY\"] = OPENAI_API_KEY"
   ]
  },
  {
   "cell_type": "code",
   "execution_count": 2,
   "metadata": {},
   "outputs": [
    {
     "name": "stderr",
     "output_type": "stream",
     "text": [
      "c:\\Users\\mike8\\anaconda3\\envs\\pytorch\\lib\\site-packages\\wikipedia\\wikipedia.py:389: GuessedAtParserWarning: No parser was explicitly specified, so I'm using the best available HTML parser for this system (\"lxml\"). This usually isn't a problem, but if you run this code on another system, or in a different virtual environment, it may use a different parser and behave differently.\n",
      "\n",
      "The code that caused this warning is on line 389 of the file c:\\Users\\mike8\\anaconda3\\envs\\pytorch\\lib\\site-packages\\wikipedia\\wikipedia.py. To get rid of this warning, pass the additional argument 'features=\"lxml\"' to the BeautifulSoup constructor.\n",
      "\n",
      "  lis = BeautifulSoup(html).find_all('li')\n"
     ]
    }
   ],
   "source": [
    "from loader.radiopaedia import RadioWebLoader\n",
    "search_query = \"Atelectasis\"\n",
    "radio_raw_documents = RadioWebLoader(search_query).load()\n",
    "wiki_raw_documents = WikipediaLoader(query=\"Atelectasis\").load()\n",
    "raw_documents = radio_raw_documents + wiki_raw_documents"
   ]
  },
  {
   "cell_type": "code",
   "execution_count": 3,
   "metadata": {},
   "outputs": [
    {
     "data": {
      "text/plain": [
       "(20, 24)"
      ]
     },
     "execution_count": 3,
     "metadata": {},
     "output_type": "execute_result"
    }
   ],
   "source": [
    "len(radio_raw_documents), len(wiki_raw_documents)"
   ]
  },
  {
   "cell_type": "code",
   "execution_count": 4,
   "metadata": {},
   "outputs": [],
   "source": [
    "text_splitter = TokenTextSplitter(chunk_size=2048, chunk_overlap=24)\n",
    "documents = text_splitter.split_documents(\n",
    "    raw_documents\n",
    ")  # should I only take the first? which is the most relevant?"
   ]
  },
  {
   "cell_type": "code",
   "execution_count": 5,
   "metadata": {},
   "outputs": [],
   "source": [
    "from langchain.indexes import GraphIndexCreator\n",
    "from langchain.graphs.networkx_graph import KnowledgeTriple\n",
    "from langchain.llms import OpenAI"
   ]
  },
  {
   "cell_type": "code",
   "execution_count": 6,
   "metadata": {},
   "outputs": [
    {
     "name": "stderr",
     "output_type": "stream",
     "text": [
      "c:\\Users\\mike8\\anaconda3\\envs\\pytorch\\lib\\site-packages\\langchain_core\\_api\\deprecation.py:115: LangChainDeprecationWarning: The class `OpenAI` was deprecated in LangChain 0.1.0 and will be removed in 0.2.0. Use langchain_openai.OpenAI instead.\n",
      "  warn_deprecated(\n"
     ]
    }
   ],
   "source": [
    "index_creator = GraphIndexCreator(llm=OpenAI(temperature=0))"
   ]
  },
  {
   "cell_type": "code",
   "execution_count": 7,
   "metadata": {},
   "outputs": [],
   "source": [
    "graph = None\n",
    "for d in documents:\n",
    "    g_temp = index_creator.from_text(d.page_content)\n",
    "    if graph is None:\n",
    "        graph = g_temp\n",
    "    else:\n",
    "        triplets = graph.get_triples()\n",
    "        for t in triplets:\n",
    "            graph.add_triple(knowledge_triple=KnowledgeTriple(*t))"
   ]
  },
  {
   "cell_type": "code",
   "execution_count": 8,
   "metadata": {},
   "outputs": [],
   "source": [
    "from langchain.chains import GraphQAChain"
   ]
  },
  {
   "cell_type": "code",
   "execution_count": 9,
   "metadata": {},
   "outputs": [],
   "source": [
    "chain = GraphQAChain.from_llm(OpenAI(temperature=0), graph=graph, verbose=True)"
   ]
  },
  {
   "cell_type": "code",
   "execution_count": 10,
   "metadata": {},
   "outputs": [],
   "source": [
    "lesion = \"Atelectasis\"\n",
    "questions = [\n",
    "    f\"What is {lesion}?\",\n",
    "    f\"What are the symptoms associated with {lesion}?\",\n",
    "    f\"What can cause {lesion}?\",\n",
    "    f\"What are the patient’s symptoms that are relevant for {lesion}?\",\n",
    "    f\"What are the relevant clinical signs for the etiological diagnosis of {lesion}?\",\n",
    "    f\"What are the relevant laboratory data for the etiological diagnosis of {lesion}?\",\n",
    "    f\"What are the relevant clinical characteristics for the etiological diagnosis of {lesion}\",\n",
    "    f\"What are the patient’s personal relevant history for the etiological diagnosis of {lesion}\",\n",
    "]"
   ]
  },
  {
   "cell_type": "code",
   "execution_count": 11,
   "metadata": {},
   "outputs": [
    {
     "name": "stderr",
     "output_type": "stream",
     "text": [
      "c:\\Users\\mike8\\anaconda3\\envs\\pytorch\\lib\\site-packages\\langchain_core\\_api\\deprecation.py:115: LangChainDeprecationWarning: The function `run` was deprecated in LangChain 0.1.0 and will be removed in 0.2.0. Use invoke instead.\n",
      "  warn_deprecated(\n"
     ]
    },
    {
     "name": "stdout",
     "output_type": "stream",
     "text": [
      "\n",
      "\n",
      "\u001b[1m> Entering new GraphQAChain chain...\u001b[0m\n",
      "Entities Extracted:\n",
      "\u001b[32;1m\u001b[1;3m Atelectasis\u001b[0m\n",
      "Full Context:\n",
      "\u001b[32;1m\u001b[1;3mAtelectasis describes small areas of collapsed lung\n",
      "Atelectasis is usually seen on chest x-rays\n",
      "Atelectasis small areas of collapsed lung describes\n",
      "Atelectasis chest x-rays is usually seen on\u001b[0m\n",
      "\n",
      "\u001b[1m> Finished chain.\u001b[0m\n",
      "\n",
      "\n",
      "\u001b[1m> Entering new GraphQAChain chain...\u001b[0m\n",
      "Entities Extracted:\n",
      "\u001b[32;1m\u001b[1;3m Atelectasis\u001b[0m\n",
      "Full Context:\n",
      "\u001b[32;1m\u001b[1;3mAtelectasis describes small areas of collapsed lung\n",
      "Atelectasis is usually seen on chest x-rays\n",
      "Atelectasis small areas of collapsed lung describes\n",
      "Atelectasis chest x-rays is usually seen on\u001b[0m\n",
      "\n",
      "\u001b[1m> Finished chain.\u001b[0m\n",
      "\n",
      "\n",
      "\u001b[1m> Entering new GraphQAChain chain...\u001b[0m\n",
      "Entities Extracted:\n",
      "\u001b[32;1m\u001b[1;3m Atelectasis\u001b[0m\n",
      "Full Context:\n",
      "\u001b[32;1m\u001b[1;3mAtelectasis describes small areas of collapsed lung\n",
      "Atelectasis is usually seen on chest x-rays\n",
      "Atelectasis small areas of collapsed lung describes\n",
      "Atelectasis chest x-rays is usually seen on\u001b[0m\n",
      "\n",
      "\u001b[1m> Finished chain.\u001b[0m\n",
      "\n",
      "\n",
      "\u001b[1m> Entering new GraphQAChain chain...\u001b[0m\n",
      "Entities Extracted:\n",
      "\u001b[32;1m\u001b[1;3m Atelectasis\u001b[0m\n",
      "Full Context:\n",
      "\u001b[32;1m\u001b[1;3mAtelectasis describes small areas of collapsed lung\n",
      "Atelectasis is usually seen on chest x-rays\n",
      "Atelectasis small areas of collapsed lung describes\n",
      "Atelectasis chest x-rays is usually seen on\u001b[0m\n",
      "\n",
      "\u001b[1m> Finished chain.\u001b[0m\n",
      "\n",
      "\n",
      "\u001b[1m> Entering new GraphQAChain chain...\u001b[0m\n",
      "Entities Extracted:\n",
      "\u001b[32;1m\u001b[1;3m Atelectasis\u001b[0m\n",
      "Full Context:\n",
      "\u001b[32;1m\u001b[1;3mAtelectasis describes small areas of collapsed lung\n",
      "Atelectasis is usually seen on chest x-rays\n",
      "Atelectasis small areas of collapsed lung describes\n",
      "Atelectasis chest x-rays is usually seen on\u001b[0m\n",
      "\n",
      "\u001b[1m> Finished chain.\u001b[0m\n",
      "\n",
      "\n",
      "\u001b[1m> Entering new GraphQAChain chain...\u001b[0m\n",
      "Entities Extracted:\n",
      "\u001b[32;1m\u001b[1;3m Atelectasis\u001b[0m\n",
      "Full Context:\n",
      "\u001b[32;1m\u001b[1;3mAtelectasis describes small areas of collapsed lung\n",
      "Atelectasis is usually seen on chest x-rays\n",
      "Atelectasis small areas of collapsed lung describes\n",
      "Atelectasis chest x-rays is usually seen on\u001b[0m\n",
      "\n",
      "\u001b[1m> Finished chain.\u001b[0m\n",
      "\n",
      "\n",
      "\u001b[1m> Entering new GraphQAChain chain...\u001b[0m\n",
      "Entities Extracted:\n",
      "\u001b[32;1m\u001b[1;3m Atelectasis\u001b[0m\n",
      "Full Context:\n",
      "\u001b[32;1m\u001b[1;3mAtelectasis describes small areas of collapsed lung\n",
      "Atelectasis is usually seen on chest x-rays\n",
      "Atelectasis small areas of collapsed lung describes\n",
      "Atelectasis chest x-rays is usually seen on\u001b[0m\n",
      "\n",
      "\u001b[1m> Finished chain.\u001b[0m\n",
      "\n",
      "\n",
      "\u001b[1m> Entering new GraphQAChain chain...\u001b[0m\n",
      "Entities Extracted:\n",
      "\u001b[32;1m\u001b[1;3m NONE\u001b[0m\n",
      "Full Context:\n",
      "\u001b[32;1m\u001b[1;3m\u001b[0m\n",
      "\n",
      "\u001b[1m> Finished chain.\u001b[0m\n"
     ]
    }
   ],
   "source": [
    "res_dict = {}\n",
    "for q in questions:\n",
    "    res = chain.run(q)\n",
    "    res_dict[q] = res.strip()"
   ]
  },
  {
   "cell_type": "code",
   "execution_count": 12,
   "metadata": {},
   "outputs": [
    {
     "name": "stdout",
     "output_type": "stream",
     "text": [
      "Atelectasis is a condition where small areas of the lung collapse, and it is typically seen on chest x-rays.\n",
      "The knowledge triplets do not provide information about symptoms associated with Atelectasis.\n",
      "There are several potential causes of atelectasis, including blockage of the airway, lung diseases, and surgery.\n",
      "The patient may experience difficulty breathing, chest pain, and a cough.\n",
      "The relevant clinical signs for the etiological diagnosis of Atelectasis are small areas of collapsed lung and the presence of atelectasis on chest x-rays.\n",
      "There is no specific laboratory data for the etiological diagnosis of Atelectasis. It is usually diagnosed through imaging techniques such as chest x-rays or CT scans. Other diagnostic tests, such as blood tests or pulmonary function tests, may be used to determine the underlying cause of the atelectasis.\n",
      "The relevant clinical characteristics for the etiological diagnosis of Atelectasis are small areas of collapsed lung and being usually seen on chest x-rays.\n",
      "I don't know.\n"
     ]
    }
   ],
   "source": [
    "for q in questions:\n",
    "    print(res_dict[q])"
   ]
  },
  {
   "cell_type": "code",
   "execution_count": 13,
   "metadata": {},
   "outputs": [
    {
     "ename": "StopIteration",
     "evalue": "",
     "output_type": "error",
     "traceback": [
      "\u001b[1;31m---------------------------------------------------------------------------\u001b[0m",
      "\u001b[1;31mStopIteration\u001b[0m                             Traceback (most recent call last)",
      "Cell \u001b[1;32mIn[13], line 1\u001b[0m\n\u001b[1;32m----> 1\u001b[0m \u001b[38;5;28;01mraise\u001b[39;00m \u001b[38;5;167;01mStopIteration\u001b[39;00m()\n",
      "\u001b[1;31mStopIteration\u001b[0m: "
     ]
    }
   ],
   "source": [
    "raise StopIteration()"
   ]
  },
  {
   "cell_type": "code",
   "execution_count": null,
   "metadata": {},
   "outputs": [
    {
     "name": "stdout",
     "output_type": "stream",
     "text": [
      "\n",
      "\n",
      "\u001b[1m> Entering new GraphQAChain chain...\u001b[0m\n",
      "Entities Extracted:\n",
      "\u001b[32;1m\u001b[1;3m Atelectasis\u001b[0m\n",
      "Full Context:\n",
      "\u001b[32;1m\u001b[1;3mAtelectasis describes small areas of collapsed lung\n",
      "Atelectasis is caused by adjacent compression\n",
      "Atelectasis is caused by passive atelectasis\n",
      "Atelectasis is caused by dependent atelectasis\n",
      "Atelectasis is usually seen on chest x-rays as small volume linear shadows\n",
      "Atelectasis is often helpful to determine the cause or confirm that there is no proximal obstruction CT is\n",
      "Atelectasis small areas of collapsed lung describes\n",
      "Atelectasis dependent atelectasis is caused by\n",
      "Atelectasis small volume linear shadows is usually seen on chest x-rays as\n",
      "Atelectasis CT is is often helpful to determine the cause or confirm that there is no proximal obstruction\u001b[0m\n",
      "\n",
      "\u001b[1m> Finished chain.\u001b[0m\n"
     ]
    },
    {
     "data": {
      "text/plain": [
       "' Atelectasis is a condition in which small areas of the lung collapse due to adjacent compression, passive atelectasis, or dependent atelectasis. It is usually seen on chest x-rays as small volume linear shadows and CT is often helpful to determine the cause or confirm that there is no proximal obstruction.'"
      ]
     },
     "execution_count": 10,
     "metadata": {},
     "output_type": "execute_result"
    }
   ],
   "source": [
    "chain.run(\"What is Atelectasis?\")"
   ]
  },
  {
   "cell_type": "code",
   "execution_count": null,
   "metadata": {},
   "outputs": [
    {
     "name": "stdout",
     "output_type": "stream",
     "text": [
      "\n",
      "\n",
      "\u001b[1m> Entering new GraphQAChain chain...\u001b[0m\n",
      "Entities Extracted:\n",
      "\u001b[32;1m\u001b[1;3m Atelectasis\u001b[0m\n",
      "Full Context:\n",
      "\u001b[32;1m\u001b[1;3mAtelectasis describes small areas of collapsed lung\n",
      "Atelectasis is caused by adjacent compression\n",
      "Atelectasis is caused by passive atelectasis\n",
      "Atelectasis is caused by dependent atelectasis\n",
      "Atelectasis is usually seen on chest x-rays as small volume linear shadows\n",
      "Atelectasis is often helpful to determine the cause or confirm that there is no proximal obstruction CT is\n",
      "Atelectasis small areas of collapsed lung describes\n",
      "Atelectasis dependent atelectasis is caused by\n",
      "Atelectasis small volume linear shadows is usually seen on chest x-rays as\n",
      "Atelectasis CT is is often helpful to determine the cause or confirm that there is no proximal obstruction\u001b[0m\n",
      "\n",
      "\u001b[1m> Finished chain.\u001b[0m\n"
     ]
    },
    {
     "data": {
      "text/plain": [
       "' Atelectasis is usually asymptomatic, but some people may experience shortness of breath, chest pain, and coughing.'"
      ]
     },
     "execution_count": 11,
     "metadata": {},
     "output_type": "execute_result"
    }
   ],
   "source": [
    "chain.run(\"What are the symptoms of Atelectasis?\")"
   ]
  },
  {
   "cell_type": "code",
   "execution_count": null,
   "metadata": {},
   "outputs": [
    {
     "name": "stdout",
     "output_type": "stream",
     "text": [
      "\n",
      "\n",
      "\u001b[1m> Entering new GraphQAChain chain...\u001b[0m\n",
      "Entities Extracted:\n",
      "\u001b[32;1m\u001b[1;3m Atelectasis\u001b[0m\n",
      "Full Context:\n",
      "\u001b[32;1m\u001b[1;3mAtelectasis describes small areas of collapsed lung\n",
      "Atelectasis is caused by adjacent compression\n",
      "Atelectasis is caused by passive atelectasis\n",
      "Atelectasis is caused by dependent atelectasis\n",
      "Atelectasis is usually seen on chest x-rays as small volume linear shadows\n",
      "Atelectasis is often helpful to determine the cause or confirm that there is no proximal obstruction CT is\n",
      "Atelectasis small areas of collapsed lung describes\n",
      "Atelectasis dependent atelectasis is caused by\n",
      "Atelectasis small volume linear shadows is usually seen on chest x-rays as\n",
      "Atelectasis CT is is often helpful to determine the cause or confirm that there is no proximal obstruction\u001b[0m\n",
      "\n",
      "\u001b[1m> Finished chain.\u001b[0m\n"
     ]
    },
    {
     "data": {
      "text/plain": [
       "' Atelectasis can be caused by adjacent compression, passive atelectasis, and dependent atelectasis.'"
      ]
     },
     "execution_count": 12,
     "metadata": {},
     "output_type": "execute_result"
    }
   ],
   "source": [
    "chain.run(\"What can cause Atelectasis?\")"
   ]
  },
  {
   "cell_type": "code",
   "execution_count": null,
   "metadata": {},
   "outputs": [
    {
     "name": "stdout",
     "output_type": "stream",
     "text": [
      "\n",
      "\n",
      "\u001b[1m> Entering new GraphQAChain chain...\u001b[0m\n",
      "Entities Extracted:\n",
      "\u001b[32;1m\u001b[1;3m Atelectasis\u001b[0m\n",
      "Full Context:\n",
      "\u001b[32;1m\u001b[1;3mAtelectasis describes small areas of collapsed lung\n",
      "Atelectasis is caused by adjacent compression\n",
      "Atelectasis is caused by passive atelectasis\n",
      "Atelectasis is caused by dependent atelectasis\n",
      "Atelectasis is usually seen on chest x-rays as small volume linear shadows\n",
      "Atelectasis is often helpful to determine the cause or confirm that there is no proximal obstruction CT is\n",
      "Atelectasis small areas of collapsed lung describes\n",
      "Atelectasis dependent atelectasis is caused by\n",
      "Atelectasis small volume linear shadows is usually seen on chest x-rays as\n",
      "Atelectasis CT is is often helpful to determine the cause or confirm that there is no proximal obstruction\u001b[0m\n",
      "\n",
      "\u001b[1m> Finished chain.\u001b[0m\n"
     ]
    },
    {
     "data": {
      "text/plain": [
       "' Radiologists need to look for small areas of collapsed lung, small volume linear shadows, and adjacent compression on chest x-rays to diagnose Atelectasis. CT scans may also be helpful to determine the cause or confirm that there is no proximal obstruction.'"
      ]
     },
     "execution_count": 13,
     "metadata": {},
     "output_type": "execute_result"
    }
   ],
   "source": [
    "chain.run(\"What clinical features radiologists need for diagnosing Atelectasis?\")"
   ]
  },
  {
   "cell_type": "code",
   "execution_count": null,
   "metadata": {},
   "outputs": [
    {
     "name": "stdout",
     "output_type": "stream",
     "text": [
      "\n",
      "\n",
      "\u001b[1m> Entering new GraphQAChain chain...\u001b[0m\n",
      "Entities Extracted:\n",
      "\u001b[32;1m\u001b[1;3m Atelectasis\u001b[0m\n",
      "Full Context:\n",
      "\u001b[32;1m\u001b[1;3mAtelectasis describes small areas of collapsed lung\n",
      "Atelectasis is caused by adjacent compression\n",
      "Atelectasis is caused by passive atelectasis\n",
      "Atelectasis is caused by dependent atelectasis\n",
      "Atelectasis is usually seen on chest x-rays as small volume linear shadows\n",
      "Atelectasis is often helpful to determine the cause or confirm that there is no proximal obstruction CT is\n",
      "Atelectasis small areas of collapsed lung describes\n",
      "Atelectasis dependent atelectasis is caused by\n",
      "Atelectasis small volume linear shadows is usually seen on chest x-rays as\n",
      "Atelectasis CT is is often helpful to determine the cause or confirm that there is no proximal obstruction\u001b[0m\n",
      "\n",
      "\u001b[1m> Finished chain.\u001b[0m\n"
     ]
    },
    {
     "data": {
      "text/plain": [
       "' Atelectasis is usually seen on chest x-rays as small volume linear shadows.'"
      ]
     },
     "execution_count": 14,
     "metadata": {},
     "output_type": "execute_result"
    }
   ],
   "source": [
    "chain.run(\"what are radiographic features of Atelectasis?\")"
   ]
  },
  {
   "cell_type": "code",
   "execution_count": null,
   "metadata": {},
   "outputs": [],
   "source": []
  }
 ],
 "metadata": {
  "kernelspec": {
   "display_name": "pytorch",
   "language": "python",
   "name": "python3"
  },
  "language_info": {
   "codemirror_mode": {
    "name": "ipython",
    "version": 3
   },
   "file_extension": ".py",
   "mimetype": "text/x-python",
   "name": "python",
   "nbconvert_exporter": "python",
   "pygments_lexer": "ipython3",
   "version": "3.9.18"
  }
 },
 "nbformat": 4,
 "nbformat_minor": 2
}
