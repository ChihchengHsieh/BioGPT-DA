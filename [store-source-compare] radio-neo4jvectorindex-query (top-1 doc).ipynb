{
 "cells": [
  {
   "cell_type": "code",
   "execution_count": 1,
   "metadata": {},
   "outputs": [],
   "source": [
    "import re\n",
    "import os\n",
    "from langchain.vectorstores.neo4j_vector import Neo4jVector\n",
    "from langchain.document_loaders import WikipediaLoader\n",
    "from langchain.embeddings.openai import OpenAIEmbeddings\n",
    "from langchain.text_splitter import (\n",
    "    CharacterTextSplitter,\n",
    "    RecursiveCharacterTextSplitter,\n",
    ")\n",
    "from langchain.graphs import Neo4jGraph\n",
    "from transformers import AutoModelForSeq2SeqLM, AutoTokenizer\n",
    "from langchain.text_splitter import TokenTextSplitter\n",
    "\n",
    "from secret import *\n",
    "import chromadb\n",
    "\n",
    "os.environ[\"OPENAI_API_KEY\"] = OPENAI_API_KEY"
   ]
  },
  {
   "cell_type": "code",
   "execution_count": 2,
   "metadata": {},
   "outputs": [
    {
     "name": "stdout",
     "output_type": "stream",
     "text": [
      "Node properties are the following:\n",
      "\n",
      "Relationship properties are the following:\n",
      "\n",
      "The relationships are the following:\n",
      "\n"
     ]
    }
   ],
   "source": [
    "graph = Neo4jGraph(url=\"bolt://localhost:7687\", username=\"neo4j\", password=\"test1234\")\n",
    "graph.query(\n",
    "    \"\"\"\n",
    "MATCH (n)\n",
    "DETACH DELETE n\n",
    "\"\"\"\n",
    ")\n",
    "graph.refresh_schema()\n",
    "print(graph.schema)"
   ]
  },
  {
   "cell_type": "code",
   "execution_count": 3,
   "metadata": {},
   "outputs": [],
   "source": [
    "import logging\n",
    "from urllib.parse import urljoin\n",
    "import requests\n",
    "from bs4 import BeautifulSoup\n",
    "from loader.radiopaedia import RadioWebLoader\n",
    "\n",
    "search_query = \"atelectasis\"\n",
    "loader = RadioWebLoader(\n",
    "    search_query,\n",
    "    only_first=True,\n",
    ")\n",
    "raw_documents = loader.load()\n",
    "text_splitter = TokenTextSplitter(chunk_size=2048, chunk_overlap=24)\n",
    "documents = text_splitter.split_documents(\n",
    "    raw_documents\n",
    ")  # should I only take the first? which is the most relevant?"
   ]
  },
  {
   "cell_type": "code",
   "execution_count": 4,
   "metadata": {},
   "outputs": [],
   "source": [
    "# from langchain.document_loaders import DiffbotLoader\n",
    "\n",
    "# raw_documents = DiffbotLoader(\n",
    "#     urls=[all_address[0]],\n",
    "#     api_token=DIFFBOT_API_TOKEN,\n",
    "# ).load()\n",
    "# text_splitter = TokenTextSplitter(chunk_size=2048, chunk_overlap=24)\n",
    "# documents = text_splitter.split_documents(\n",
    "#     raw_documents\n",
    "# )  # should I only take the first? which is the most relevant?"
   ]
  },
  {
   "cell_type": "code",
   "execution_count": 5,
   "metadata": {},
   "outputs": [
    {
     "name": "stderr",
     "output_type": "stream",
     "text": [
      "c:\\Users\\mike8\\anaconda3\\envs\\pytorch\\lib\\site-packages\\langchain_core\\_api\\deprecation.py:115: LangChainDeprecationWarning: The class `OpenAIEmbeddings` was deprecated in LangChain 0.1.0 and will be removed in 0.2.0. Use langchain_openai.OpenAIEmbeddings instead.\n",
      "  warn_deprecated(\n"
     ]
    }
   ],
   "source": [
    "db = Neo4jVector.from_documents(\n",
    "    documents, OpenAIEmbeddings(), url=NOE4J_URL, username=\"neo4j\", password=\"test1234\"\n",
    ")\n",
    "\n",
    "retriever = db.as_retriever()"
   ]
  },
  {
   "cell_type": "code",
   "execution_count": 6,
   "metadata": {},
   "outputs": [],
   "source": [
    "from langchain.chains import RetrievalQAWithSourcesChain\n",
    "from langchain.chat_models import ChatOpenAI"
   ]
  },
  {
   "cell_type": "code",
   "execution_count": 7,
   "metadata": {},
   "outputs": [
    {
     "name": "stderr",
     "output_type": "stream",
     "text": [
      "c:\\Users\\mike8\\anaconda3\\envs\\pytorch\\lib\\site-packages\\langchain_core\\_api\\deprecation.py:115: LangChainDeprecationWarning: The class `ChatOpenAI` was deprecated in LangChain 0.1.0 and will be removed in 0.2.0. Use langchain_openai.ChatOpenAI instead.\n",
      "  warn_deprecated(\n"
     ]
    }
   ],
   "source": [
    "chain = RetrievalQAWithSourcesChain.from_chain_type(\n",
    "    ChatOpenAI(temperature=0, model=\"gpt-3.5-turbo-16k\"), chain_type=\"stuff\", retriever=retriever\n",
    ")"
   ]
  },
  {
   "cell_type": "code",
   "execution_count": 8,
   "metadata": {},
   "outputs": [],
   "source": [
    "lesion = \"Atelectasis\"\n",
    "questions = [\n",
    "    f\"What is {lesion}?\",\n",
    "    f\"What are the symptoms associated with {lesion}?\",\n",
    "    f\"What can cause {lesion}?\",\n",
    "    f\"What are the patient’s symptoms that are relevant for {lesion}?\",\n",
    "    f\"What are the relevant clinical signs for the etiological diagnosis of {lesion}?\",\n",
    "    f\"What are the relevant laboratory data for the etiological diagnosis of {lesion}?\",\n",
    "    f\"What are the relevant clinical characteristics for the etiological diagnosis of {lesion}\",\n",
    "    f\"What are the patient’s personal relevant history for the etiological diagnosis of {lesion}\",\n",
    "]"
   ]
  },
  {
   "cell_type": "code",
   "execution_count": 10,
   "metadata": {},
   "outputs": [
    {
     "name": "stderr",
     "output_type": "stream",
     "text": [
      "c:\\Users\\mike8\\anaconda3\\envs\\pytorch\\lib\\site-packages\\langchain_core\\_api\\deprecation.py:115: LangChainDeprecationWarning: The function `__call__` was deprecated in LangChain 0.1.0 and will be removed in 0.2.0. Use invoke instead.\n",
      "  warn_deprecated(\n"
     ]
    }
   ],
   "source": [
    "res_dict = {}\n",
    "for q in questions:\n",
    "    res = chain(\n",
    "        {\"question\": q},\n",
    "        return_only_outputs=True,\n",
    "    )\n",
    "    res_dict[q] = res[\"answer\"].strip()"
   ]
  },
  {
   "cell_type": "code",
   "execution_count": 11,
   "metadata": {},
   "outputs": [
    {
     "name": "stdout",
     "output_type": "stream",
     "text": [
      "Atelectasis is a condition that describes small areas of collapsed lung. It can be caused by adjacent compression, passive atelectasis, or dependent atelectasis. The presentation of atelectasis can vary, but it is usually characterized by breathlessness. Imaging, such as chest x-rays or CT scans, can confirm the presence of atelectasis and help determine the underlying cause. Treatment involves managing the underlying cause and promoting deeper breathing if the cause is due to hypoventilation.\n",
      "The symptoms associated with Atelectasis are usually breathlessness, but it can also be asymptomatic depending on the underlying cause. Other symptoms may vary depending on the specific case.\n",
      "The document does not provide information about what can cause Atelectasis.\n",
      "There is no information provided about the patient's symptoms relevant to Atelectasis.\n",
      "The relevant clinical signs for the etiological diagnosis of Atelectasis are usually breathlessness, but it can also be asymptomatic and presentation depends on the underlying cause. Other signs may include adjacent compression, passive atelectasis, and dependent atelectasis. Imaging, such as chest x-ray or CT scan, can help confirm the diagnosis and determine the cause. Treatment involves managing the underlying cause and promoting deeper breathing if the cause is due to hypoventilation.\n",
      "There is no relevant laboratory data mentioned for the etiological diagnosis of Atelectasis in the provided content.\n",
      "The relevant clinical characteristics for the etiological diagnosis of Atelectasis include adjacent compression (e.g. lung tumor, dilated aorta, large osteophyte), passive atelectasis (e.g. pleural effusion, pneumothorax), and dependent atelectasis in the posterior portions of the lung due to patients not fully expanding their lungs while lying for long periods. Imaging, such as chest x-ray and CT, can confirm atelectasis and help determine the cause. Treatment involves managing the underlying cause and promoting deeper breathing if the cause is due to hypoventilation.\n",
      "There is no relevant information provided about the patient's personal history for the etiological diagnosis of Atelectasis.\n"
     ]
    }
   ],
   "source": [
    "for q in questions:\n",
    "    print(res_dict[q])"
   ]
  },
  {
   "cell_type": "code",
   "execution_count": null,
   "metadata": {},
   "outputs": [],
   "source": []
  },
  {
   "cell_type": "code",
   "execution_count": null,
   "metadata": {},
   "outputs": [],
   "source": []
  },
  {
   "cell_type": "code",
   "execution_count": null,
   "metadata": {},
   "outputs": [],
   "source": [
    "raise StopIteration()"
   ]
  },
  {
   "cell_type": "code",
   "execution_count": null,
   "metadata": {},
   "outputs": [
    {
     "data": {
      "text/plain": [
       "{'answer': 'Atelectasis is a condition that describes small areas of collapsed lung. It can be caused by adjacent compression, passive atelectasis, or dependent atelectasis. The presentation of atelectasis can vary depending on the underlying cause, but it is usually characterized by breathlessness. Imaging, such as chest x-rays or CT scans, can confirm the presence of atelectasis and help determine the cause. Treatment involves managing the underlying cause and promoting deeper breathing if hypoventilation is a factor. \\n',\n",
       " 'sources': 'https://radiopaedia.org/articles/atelectasis-summary?lang=gb'}"
      ]
     },
     "execution_count": 8,
     "metadata": {},
     "output_type": "execute_result"
    }
   ],
   "source": [
    "chain(\n",
    "    {\"question\": \"What is Atelectasis?\"},\n",
    "    return_only_outputs=True,\n",
    ")"
   ]
  },
  {
   "cell_type": "code",
   "execution_count": null,
   "metadata": {},
   "outputs": [
    {
     "data": {
      "text/plain": [
       "{'answer': 'The symptoms of Atelectasis can vary depending on the underlying cause. Common symptoms include breathlessness, but it can also be asymptomatic. The presentation of symptoms also depends on the underlying cause. \\n',\n",
       " 'sources': 'https://radiopaedia.org/articles/atelectasis-summary?lang=gb'}"
      ]
     },
     "execution_count": 9,
     "metadata": {},
     "output_type": "execute_result"
    }
   ],
   "source": [
    "chain(\n",
    "    {\"question\": \"What are the symptoms of Atelectasis?\"},\n",
    "    return_only_outputs=True,\n",
    ")"
   ]
  },
  {
   "cell_type": "code",
   "execution_count": null,
   "metadata": {},
   "outputs": [
    {
     "data": {
      "text/plain": [
       "{'answer': 'Atelectasis can be caused by adjacent compression (e.g. lung tumor, dilated aorta, large osteophyte), passive atelectasis (e.g. pleural effusion, pneumothorax), and dependent atelectasis (in the posterior portions of the lung due to patients not fully expanding their lungs while lying for long periods). \\n',\n",
       " 'sources': 'https://radiopaedia.org/articles/atelectasis-summary?lang=gb'}"
      ]
     },
     "execution_count": 10,
     "metadata": {},
     "output_type": "execute_result"
    }
   ],
   "source": [
    "chain(\n",
    "    {\"question\": \"What can cause Atelectasis?\"},\n",
    "    return_only_outputs=True,\n",
    ")"
   ]
  },
  {
   "cell_type": "code",
   "execution_count": null,
   "metadata": {},
   "outputs": [
    {
     "data": {
      "text/plain": [
       "{'answer': 'For diagnosing atelectasis, radiologists need to look for small volume linear shadows on chest x-rays, usually peripherally or at the lung bases. The underlying cause may also be visible on the x-ray. CT scans can provide a more accurate depiction of the involved lung and can be helpful in determining the cause or confirming the absence of proximal obstruction. However, most cases of atelectasis are diagnosed and managed without CT investigation.\\n',\n",
       " 'sources': 'https://radiopaedia.org/articles/atelectasis-summary?lang=gb'}"
      ]
     },
     "execution_count": 11,
     "metadata": {},
     "output_type": "execute_result"
    }
   ],
   "source": [
    "chain(\n",
    "    {\"question\": \"What clinical features radiologists need for diagnosing Atelectasis?\"},\n",
    "    return_only_outputs=True,\n",
    ")"
   ]
  },
  {
   "cell_type": "code",
   "execution_count": null,
   "metadata": {},
   "outputs": [
    {
     "data": {
      "text/plain": [
       "{'answer': 'Radiographic features of atelectasis on a chest x-ray include small volume linear shadows, usually peripherally or at the lung bases. Lobar collapse will have a more typical appearance based on the lobe involved, whereas atelectasis can be more eccentric in position and appearance. CT chest allows for a more accurate depiction of the involved lung and can be helpful in determining the cause or confirming the absence of proximal obstruction. However, most cases of atelectasis are diagnosed and managed without CT investigation.\\n',\n",
       " 'sources': 'https://radiopaedia.org/articles/atelectasis-summary?lang=gb'}"
      ]
     },
     "execution_count": 12,
     "metadata": {},
     "output_type": "execute_result"
    }
   ],
   "source": [
    "chain(\n",
    "    {\"question\": \"what are radiographic features of Atelectasis?\"},\n",
    "    return_only_outputs=True,\n",
    ")"
   ]
  },
  {
   "cell_type": "code",
   "execution_count": null,
   "metadata": {},
   "outputs": [],
   "source": []
  }
 ],
 "metadata": {
  "kernelspec": {
   "display_name": "pytorch",
   "language": "python",
   "name": "python3"
  },
  "language_info": {
   "codemirror_mode": {
    "name": "ipython",
    "version": 3
   },
   "file_extension": ".py",
   "mimetype": "text/x-python",
   "name": "python",
   "nbconvert_exporter": "python",
   "pygments_lexer": "ipython3",
   "version": "3.9.18"
  }
 },
 "nbformat": 4,
 "nbformat_minor": 2
}
