{
 "cells": [
  {
   "cell_type": "code",
   "execution_count": 1,
   "metadata": {},
   "outputs": [],
   "source": [
    "import pandas as pd\n",
    "from sklearn.metrics import mean_squared_error\n",
    "from collections import OrderedDict\n",
    "from aug.gpt import *\n",
    "\n",
    "MIMIC_EYE_PATH = \"F:\\\\mimic-eye\"\n",
    "pd.set_option(\"display.precision\", 2)"
   ]
  },
  {
   "cell_type": "code",
   "execution_count": 2,
   "metadata": {},
   "outputs": [],
   "source": [
    "aug_features =  [\n",
    "            \"temperature\",\n",
    "            \"heartrate\",\n",
    "            \"resprate\",\n",
    "            \"o2sat\",\n",
    "            \"sbp\",\n",
    "            \"dbp\",\n",
    "        ]\n",
    "\n",
    "REFLACX_LESION_LABEL_COLS = [\n",
    "    # \"Fibrosis\",\n",
    "    # \"Quality issue\",\n",
    "    # \"Wide mediastinum\",\n",
    "    # \"Fracture\",\n",
    "    # \"Airway wall thickening\",\n",
    "\n",
    "    ######################\n",
    "    # \"Hiatal hernia\",\n",
    "    # \"Acute fracture\",\n",
    "    # \"Interstitial lung disease\",\n",
    "    # \"Enlarged hilum\",\n",
    "    # \"Abnormal mediastinal contour\",\n",
    "    # \"High lung volume / emphysema\",\n",
    "    # \"Pneumothorax\",\n",
    "    # \"Lung nodule or mass\",\n",
    "    # \"Groundglass opacity\",\n",
    "    ######################\n",
    "    \"Pulmonary edema\",\n",
    "    \"Enlarged cardiac silhouette\",\n",
    "    \"Consolidation\",\n",
    "    \"Atelectasis\",\n",
    "    \"Pleural abnormality\",\n",
    "    # \"Support devices\",\n",
    "]\n",
    "\n",
    "feature_to_name_map = {\n",
    "    \"temperature_c\": \"body temperature in degrees Celsius\",\n",
    "    \"heartrate\": \"heart rate in beats per minute\",\n",
    "    \"resprate\": \"respiratory rate in breaths per minute\",\n",
    "    \"o2sat\": \"peripheral oxygen saturation (%)\",\n",
    "    \"sbp\": \"systolic blood pressure (mmHg)\",\n",
    "    \"dbp\":\"diastolic blood pressure (mmHg)\",\n",
    "}\n",
    "\n",
    "feature = \"aug_temperature_c\""
   ]
  },
  {
   "cell_type": "code",
   "execution_count": 3,
   "metadata": {},
   "outputs": [],
   "source": [
    "df = pd.read_csv(\"./spreadsheets/gpt4_aug_report.csv\")"
   ]
  },
  {
   "cell_type": "code",
   "execution_count": 4,
   "metadata": {},
   "outputs": [],
   "source": [
    "def get_prompt(\n",
    "    mimic_eye_path,\n",
    "    data,\n",
    "    label_cols,\n",
    "    report_format=False,\n",
    "):\n",
    "    # reflacx_id = data['id']\n",
    "    patient_id = data[\"subject_id\"]\n",
    "    study_id = data[\"study_id\"]\n",
    "    # dicom_id = data['dicom_id']\n",
    "    report_path = os.path.join(\n",
    "        mimic_eye_path,\n",
    "        f\"patient_{patient_id}\",\n",
    "        \"CXR-DICOM\",\n",
    "        f\"s{study_id}.txt\",\n",
    "    )\n",
    "    with open(report_path) as f:\n",
    "        report = f.read()\n",
    "\n",
    "    report = report.strip().replace(\"FINAL REPORT\\n\", \"\").replace(\"\\n\", \"\").strip()\n",
    "\n",
    "    age = data[\"age\"]\n",
    "    gender = \"Female\" if data[\"gender\"] == \"F\" else \"Male\"\n",
    "    if report_format:\n",
    "        return re.sub(\n",
    "            \"[^0-9A-Za-z.\\s\\:']\",\n",
    "            \"\",\n",
    "            f\"{report} LESIONS:{get_diagnosis(data, label_cols)}. AGE: {age}. GENDER: {gender}.\",\n",
    "        )\n",
    "    else:\n",
    "        return re.sub(\n",
    "            \"[^0-9A-Za-z.\\s\\:']\",\n",
    "            \"\",\n",
    "            f\"A {age} years old {gender} patient diagnosed with{get_diagnosis(data, label_cols)}. And, This patient has the radiology report: \\n{report}\",\n",
    "        )\n"
   ]
  },
  {
   "cell_type": "code",
   "execution_count": 5,
   "metadata": {},
   "outputs": [
    {
     "name": "stderr",
     "output_type": "stream",
     "text": [
      "100%|██████████| 799/799 [00:02<00:00, 366.42it/s] \n"
     ]
    }
   ],
   "source": [
    "report_format = True\n",
    "df['prompt'] =None\n",
    "for idx, data in tqdm(df.iterrows(), total=df.shape[0]):\n",
    "    prompt = get_prompt(\n",
    "                MIMIC_EYE_PATH,\n",
    "                data,\n",
    "                REFLACX_LESION_LABEL_COLS,\n",
    "                report_format=report_format,\n",
    "            )\n",
    "\n",
    "    df.at[idx, 'prompt'] = prompt"
   ]
  },
  {
   "cell_type": "code",
   "execution_count": 6,
   "metadata": {},
   "outputs": [
    {
     "data": {
      "text/plain": [
       "aug_temperature_c\n",
       "37.5    627\n",
       "36.5    109\n",
       "38.5     38\n",
       "37.2     14\n",
       "37.0      8\n",
       "38.9      1\n",
       "38.4      1\n",
       "38.3      1\n",
       "Name: count, dtype: int64"
      ]
     },
     "execution_count": 6,
     "metadata": {},
     "output_type": "execute_result"
    }
   ],
   "source": [
    "# word\n",
    "# clinical features*1\n",
    "# features values\n",
    "\n",
    "df[feature].value_counts()"
   ]
  },
  {
   "cell_type": "code",
   "execution_count": 7,
   "metadata": {},
   "outputs": [],
   "source": [
    "# value = list(df[f'aug_temperature_c'].value_counts().keys())[:3]\n",
    "unique_values = list(df[feature].value_counts().keys())[:3]"
   ]
  },
  {
   "cell_type": "code",
   "execution_count": 8,
   "metadata": {},
   "outputs": [],
   "source": [
    "import nltk\n",
    "from nltk.corpus import stopwords\n",
    "\n",
    "# nltk.download('stopwords')\n",
    "sws = list(set(stopwords.words(\"english\")))\n",
    "titles = [\n",
    "    \"\",\n",
    "    \"GENDER:\",\n",
    "    \"AGE:\",\n",
    "    \"LESIONS:\",\n",
    "    \"IMPRESSION:\",\n",
    "    \"FINDINGS:\",\n",
    "    \"COMPARISON:\",\n",
    "    \".\",\n",
    "    \"TECHNIQUE:\",\n",
    "    \"INDICATION:\",\n",
    "]\n",
    "\n",
    "titles = [\n",
    "    \"\",\n",
    "    \"GENDER\",\n",
    "    \"AGE\",\n",
    "    \"LESIONS\",\n",
    "    \"IMPRESSION\",\n",
    "    \"FINDINGS\",\n",
    "    \"COMPARISON\",\n",
    "    \".\",\n",
    "    \"TECHNIQUE\",\n",
    "    \"INDICATION\",\n",
    "]\n",
    "\n",
    "to_remove = lambda k: (k.lower() in sws) or (k in titles) or (len(k) <= 3)\n",
    "\n",
    "\n",
    "def get_word_list(df):\n",
    "    s = \"\"\n",
    "\n",
    "    for i, d in tqdm(\n",
    "        df.iterrows(),\n",
    "        total=df.shape[0],\n",
    "        desc=\"observing tokens\\t\",\n",
    "    ):\n",
    "        s += d[\"prompt\"]\n",
    "\n",
    "    words = s.replace(\".\", \" \").replace(\":\", \" \").split(\" \")\n",
    "    words = set(words)\n",
    "\n",
    "    # remove stop words\n",
    "    words = [w for w in words if not to_remove(w)]\n",
    "    words = set([w.lower() for w in words])\n",
    "    return words\n",
    "\n",
    "\n",
    "def get_percentage_dict(df):\n",
    "    s = \"\"\n",
    "\n",
    "    for i, d in tqdm(\n",
    "        df.iterrows(),\n",
    "        total=df.shape[0],\n",
    "        desc=\"observing tokens\\t\",\n",
    "    ):\n",
    "        s += d[\"prompt\"]\n",
    "\n",
    "    words = s.replace(\".\", \"\").replace(\":\", \"\").split(\" \")\n",
    "    words = set(words)\n",
    "\n",
    "    # remove stop words\n",
    "    words = [w for w in words if not to_remove(w)]\n",
    "    words = set([w.lower() for w in words])\n",
    "\n",
    "    count_dict = {w: 0 for w in words}\n",
    "\n",
    "    for w in tqdm(words, desc=\"counting tokens\\t\\t\"):\n",
    "        for i, d in df.iterrows():\n",
    "            if w in d[\"prompt\"].lower().split(\" \"):\n",
    "                count_dict[w] += 1\n",
    "\n",
    "    df_len = len(df)\n",
    "    sorted_dict = OrderedDict(\n",
    "        {\n",
    "            k: v / df_len\n",
    "            for k, v in reversed(sorted(count_dict.items(), key=lambda item: item[1]))\n",
    "        }\n",
    "    )\n",
    "    return sorted_dict\n",
    "\n",
    "\n",
    "def get_top_n(sorted_dict, n):\n",
    "    return OrderedDict({k: sorted_dict[k] for k in list(sorted_dict.keys())[:n]})\n",
    "    # return [(k, v) for k, v in sorted_dict.items()][:n]\n",
    "\n",
    "# for each word (token) here. we then count how many times it occurs in each document"
   ]
  },
  {
   "cell_type": "code",
   "execution_count": 9,
   "metadata": {},
   "outputs": [
    {
     "name": "stderr",
     "output_type": "stream",
     "text": [
      "observing tokens\t: 100%|██████████| 799/799 [00:00<00:00, 59298.40it/s]\n"
     ]
    }
   ],
   "source": [
    "words = get_word_list(df)"
   ]
  },
  {
   "cell_type": "code",
   "execution_count": 10,
   "metadata": {},
   "outputs": [
    {
     "data": {
      "text/plain": [
       "1874"
      ]
     },
     "execution_count": 10,
     "metadata": {},
     "output_type": "execute_result"
    }
   ],
   "source": [
    "len(words)"
   ]
  },
  {
   "cell_type": "code",
   "execution_count": 11,
   "metadata": {},
   "outputs": [
    {
     "name": "stderr",
     "output_type": "stream",
     "text": [
      "counting words for unique values...: 100%|██████████| 799/799 [00:06<00:00, 117.35it/s]\n"
     ]
    }
   ],
   "source": [
    "# clinical value\n",
    "# words\n",
    "word_uv_count = { w: { u_v: 0 for u_v in unique_values} for w in words}\n",
    "# word_value_count = { w: { u_v: 0 for u_v in unique_values} for w in words}\n",
    "for i, d in tqdm(df.iterrows(), total=df.shape[0], desc=\"counting words for unique values...\"):\n",
    "    for w in words:\n",
    "        if w in d['prompt'].lower().replace(\".\", \"\").replace(\":\", \"\").split(\" \"):\n",
    "            if d[feature] in word_uv_count[w]:\n",
    "                word_uv_count[w][d[feature]] +=1\n"
   ]
  },
  {
   "cell_type": "code",
   "execution_count": 12,
   "metadata": {},
   "outputs": [],
   "source": [
    "# count_thres = 10"
   ]
  },
  {
   "cell_type": "code",
   "execution_count": 13,
   "metadata": {},
   "outputs": [],
   "source": [
    "# all_totals = {}\n",
    "# percentage_map = {}\n",
    "# for w, u_v_c in word_uv_count.items():\n",
    "#     total = sum(list(u_v_c.values()))\n",
    "#     all_totals[w] = total\n",
    "#     if total> count_thres:\n",
    "#         if total == 0:\n",
    "#             percentage_map[w] = { u_v: 0  for u_v, c in u_v_c.items()}\n",
    "#         else:\n",
    "#             percentage_map[w] = { u_v: c/total  for u_v, c in u_v_c.items()}"
   ]
  },
  {
   "cell_type": "code",
   "execution_count": 14,
   "metadata": {},
   "outputs": [],
   "source": [
    "# import numpy as np\n",
    "# np.array(list(all_totals.values())).min(), np.array(list(all_totals.values())).max(), np.array(list(all_totals.values())).mean()"
   ]
  },
  {
   "cell_type": "code",
   "execution_count": 15,
   "metadata": {},
   "outputs": [],
   "source": [
    "# uv_word_percentage = {}\n",
    "\n",
    "# for w, u_v_p in tqdm(percentage_map.items()):\n",
    "#     for u_v, p in u_v_p.items():\n",
    "#         if not u_v in uv_word_percentage:\n",
    "#             uv_word_percentage[u_v] = {}\n",
    "#         uv_word_percentage[u_v][w] = p"
   ]
  },
  {
   "cell_type": "code",
   "execution_count": 16,
   "metadata": {},
   "outputs": [],
   "source": [
    "from collections import OrderedDict"
   ]
  },
  {
   "cell_type": "code",
   "execution_count": 17,
   "metadata": {},
   "outputs": [],
   "source": [
    "def sort_dict(d):\n",
    "    return OrderedDict(sorted(d.items(), key=lambda x:x[1], reverse=True))"
   ]
  },
  {
   "cell_type": "code",
   "execution_count": 18,
   "metadata": {},
   "outputs": [],
   "source": [
    "# sorted_uv = sort_dict(uv_word_percentage[36.5])\n",
    "# uv_word_percentage[36.5]"
   ]
  },
  {
   "cell_type": "code",
   "execution_count": 19,
   "metadata": {},
   "outputs": [
    {
     "data": {
      "text/plain": [
       "{37.5: 38, 36.5: 0, 38.5: 35}"
      ]
     },
     "execution_count": 19,
     "metadata": {},
     "output_type": "execute_result"
    }
   ],
   "source": [
    "word_uv_count['fever']"
   ]
  },
  {
   "cell_type": "code",
   "execution_count": 20,
   "metadata": {},
   "outputs": [],
   "source": [
    "count_thres = 20\n",
    "word_uv_count = { w: uv_c for w, uv_c in word_uv_count.items() if sum(list(uv_c.values())) > count_thres}"
   ]
  },
  {
   "cell_type": "code",
   "execution_count": 21,
   "metadata": {},
   "outputs": [],
   "source": [
    "value_counts_dict = dict(df[feature].value_counts())"
   ]
  },
  {
   "cell_type": "code",
   "execution_count": 22,
   "metadata": {},
   "outputs": [],
   "source": [
    "word_uv_percentage = {\n",
    "    w: {u_v: c / value_counts_dict[u_v] for u_v, c in u_v_c.items()}\n",
    "    for w, u_v_c in word_uv_count.items()\n",
    "}"
   ]
  },
  {
   "cell_type": "code",
   "execution_count": 23,
   "metadata": {},
   "outputs": [
    {
     "data": {
      "text/plain": [
       "{37.5: 0.06060606060606061, 36.5: 0.0, 38.5: 0.9210526315789473}"
      ]
     },
     "execution_count": 23,
     "metadata": {},
     "output_type": "execute_result"
    }
   ],
   "source": [
    "word_uv_percentage['fever']"
   ]
  },
  {
   "cell_type": "code",
   "execution_count": 24,
   "metadata": {},
   "outputs": [
    {
     "data": {
      "text/plain": [
       "{37.5: 627, 36.5: 109, 38.5: 38, 37.2: 14, 37.0: 8, 38.9: 1, 38.4: 1, 38.3: 1}"
      ]
     },
     "execution_count": 24,
     "metadata": {},
     "output_type": "execute_result"
    }
   ],
   "source": [
    "value_counts_dict"
   ]
  },
  {
   "cell_type": "code",
   "execution_count": 25,
   "metadata": {},
   "outputs": [],
   "source": [
    "# all_totals = {}\n",
    "percentage_map = {}\n",
    "for w, u_v_c in word_uv_percentage.items():\n",
    "    total = sum(list(u_v_c.values()))\n",
    "    # all_totals[w] = total\n",
    "    # if total> count_thres:\n",
    "    if total == 0:\n",
    "        percentage_map[w] = { u_v: 0  for u_v, c in u_v_c.items()}\n",
    "    else:\n",
    "        percentage_map[w] = { u_v: c/total  for u_v, c in u_v_c.items()}"
   ]
  },
  {
   "cell_type": "code",
   "execution_count": 26,
   "metadata": {},
   "outputs": [
    {
     "name": "stderr",
     "output_type": "stream",
     "text": [
      "100%|██████████| 269/269 [00:00<?, ?it/s]\n"
     ]
    }
   ],
   "source": [
    "uv_word_percentage = {}\n",
    "for w, u_v_p in tqdm(percentage_map.items()):\n",
    "    for u_v, p in u_v_p.items():\n",
    "        if not u_v in uv_word_percentage:\n",
    "            uv_word_percentage[u_v] = {}\n",
    "        uv_word_percentage[u_v][w] = p"
   ]
  },
  {
   "cell_type": "code",
   "execution_count": 27,
   "metadata": {},
   "outputs": [
    {
     "data": {
      "text/plain": [
       "{37.5: 0.4082934609250399, 36.5: 0.7155963302752294, 38.5: 0.2894736842105263}"
      ]
     },
     "execution_count": 27,
     "metadata": {},
     "output_type": "execute_result"
    }
   ],
   "source": [
    "word_uv_percentage['clear']"
   ]
  },
  {
   "cell_type": "code",
   "execution_count": 28,
   "metadata": {},
   "outputs": [
    {
     "data": {
      "text/plain": [
       "{37.5: 0.2888807217876979, 36.5: 0.5063073602261022, 38.5: 0.2048119179861999}"
      ]
     },
     "execution_count": 28,
     "metadata": {},
     "output_type": "execute_result"
    }
   ],
   "source": [
    "percentage_map['clear']"
   ]
  },
  {
   "cell_type": "code",
   "execution_count": 29,
   "metadata": {},
   "outputs": [
    {
     "data": {
      "text/plain": [
       "0.16631987793036482"
      ]
     },
     "execution_count": 29,
     "metadata": {},
     "output_type": "execute_result"
    }
   ],
   "source": [
    "uv_word_percentage[38.5]['none']"
   ]
  },
  {
   "cell_type": "code",
   "execution_count": 30,
   "metadata": {},
   "outputs": [
    {
     "data": {
      "text/plain": [
       "0.4783603828547649"
      ]
     },
     "execution_count": 30,
     "metadata": {},
     "output_type": "execute_result"
    }
   ],
   "source": [
    "uv_word_percentage[36.5]['none']"
   ]
  },
  {
   "cell_type": "code",
   "execution_count": 31,
   "metadata": {},
   "outputs": [
    {
     "data": {
      "text/plain": [
       "OrderedDict([('degenerative', 0.6874420173737034),\n",
       "             ('displaced', 0.6425497028079524),\n",
       "             ('along', 0.6331201615617638),\n",
       "             ('question', 0.6247848537005164),\n",
       "             ('fractures', 0.6150676868746322),\n",
       "             ('bases', 0.6134279075455545),\n",
       "             ('thoracic', 0.6126854401705606),\n",
       "             ('available', 0.6107142857142858),\n",
       "             ('fall', 0.6000957090445047),\n",
       "             ('spine', 0.596637766969761),\n",
       "             ('terminating', 0.5898400752587017),\n",
       "             ('disease', 0.5760573301074939),\n",
       "             ('please', 0.5703456640388114),\n",
       "             ('pain', 0.5671454100205175),\n",
       "             ('ventricle', 0.5610738255033557),\n",
       "             ('anterior', 0.545861575772651),\n",
       "             ('cardiopulmonary', 0.5408513880702158),\n",
       "             ('changes', 0.5320720810662407),\n",
       "             ('vascularity', 0.5228267667292058),\n",
       "             ('visualized', 0.5198735554749444),\n",
       "             ('found', 0.5177844629269156),\n",
       "             ('lesion', 0.5177844629269156),\n",
       "             ('free', 0.5165071921931437),\n",
       "             ('imaged', 0.5137472687545521),\n",
       "             ('present', 0.5112107623318386),\n",
       "             ('clear', 0.5063073602261022),\n",
       "             ('weakness', 0.5028319382487093),\n",
       "             ('demonstrate', 0.500099700897308),\n",
       "             ('though', 0.4924544179523142),\n",
       "             ('crowding', 0.4894613583138173),\n",
       "             ('costophrenic', 0.4894613583138173),\n",
       "             ('knob', 0.4894613583138173),\n",
       "             ('structures', 0.48477393733855806),\n",
       "             ('atrium', 0.4826170622193714),\n",
       "             ('provided', 0.4820043329373122),\n",
       "             ('leads', 0.48127110838194664),\n",
       "             ('none', 0.4783603828547649),\n",
       "             ('definite', 0.47784431137724553),\n",
       "             ('abnormality', 0.47690106666183746),\n",
       "             ('portacath', 0.4759615384615385),\n",
       "             ('fracture', 0.471894256550167),\n",
       "             ('evaluation', 0.4694870834893299),\n",
       "             ('calcified', 0.4694870834893299),\n",
       "             ('process', 0.46568627450980393),\n",
       "             ('lungs', 0.46514184587333085),\n",
       "             ('appear', 0.4624106937082277),\n",
       "             ('evidence', 0.4541761148904006),\n",
       "             ('calcification', 0.4510791366906475),\n",
       "             ('appears', 0.44473819963889605),\n",
       "             ('views', 0.44055310669645553),\n",
       "             ('since', 0.43879030242439393),\n",
       "             ('identified', 0.43532364879299296),\n",
       "             ('size', 0.43054795156126763),\n",
       "             ('aortic', 0.43045119951180444),\n",
       "             ('partially', 0.42866909753874205),\n",
       "             ('blunting', 0.42866909753874205),\n",
       "             ('bony', 0.428669097538742),\n",
       "             ('acute', 0.4243788416587309),\n",
       "             ('wall', 0.42134265170351454),\n",
       "             ('normal', 0.4187076749435666),\n",
       "             ('congestion', 0.4182788525683789),\n",
       "             ('male', 0.41559802218361613),\n",
       "             ('without', 0.4141720462393034),\n",
       "             ('unremarkable', 0.4134683864841339),\n",
       "             ('region', 0.41081081081081083),\n",
       "             ('quadrant', 0.40838037342596617),\n",
       "             ('back', 0.39893955461293745),\n",
       "             ('trace', 0.3932575460603685),\n",
       "             ('vascular', 0.3932575460603685),\n",
       "             ('cardiomediastinal', 0.39309758027197683),\n",
       "             ('clips', 0.38992537313432835),\n",
       "             ('excluded', 0.3880465054595288),\n",
       "             ('minimal', 0.38773511981448083),\n",
       "             ('demonstrated', 0.38730001853110135),\n",
       "             ('lateral', 0.38526191050933745),\n",
       "             ('multiple', 0.38470978034114617),\n",
       "             ('position', 0.3834276104571167),\n",
       "             ('history', 0.38274074491463345),\n",
       "             ('dated', 0.3825169949450933),\n",
       "             ('intact', 0.38236564604243434),\n",
       "             ('although', 0.3813095479424286),\n",
       "             ('aorta', 0.3804688606161128),\n",
       "             ('chronic', 0.37714285714285717),\n",
       "             ('slight', 0.37714285714285717),\n",
       "             ('superior', 0.37714285714285717),\n",
       "             ('vasculature', 0.3771428571428571),\n",
       "             ('diffuse', 0.37306624355414514),\n",
       "             ('better', 0.37306624355414514),\n",
       "             ('hilar', 0.37152168463274005),\n",
       "             ('focal', 0.36996495791337014),\n",
       "             ('examination', 0.36851385390428215),\n",
       "             ('osseous', 0.3655130436273544),\n",
       "             ('pneumothorax', 0.36477708838122563),\n",
       "             ('contours', 0.3576045627376426),\n",
       "             ('rightsided', 0.3566806513546185),\n",
       "             ('chest', 0.3528418683173889),\n",
       "             ('markings', 0.35034457068355374),\n",
       "             ('effusion', 0.34979830057505795),\n",
       "             ('upper', 0.3485753995830438),\n",
       "             ('surgical', 0.34595489344092695),\n",
       "             ('radiograph', 0.34560378988767393),\n",
       "             ('limits', 0.3437681220543425),\n",
       "             ('enlargement', 0.34337349397590367),\n",
       "             ('contour', 0.34337349397590367),\n",
       "             ('technique', 0.3425746885044371),\n",
       "             ('silhouette', 0.3417083750417084),\n",
       "             ('airspace', 0.3399909624943516),\n",
       "             ('leftsided', 0.33733254425135845),\n",
       "             ('woman', 0.33342196224408405),\n",
       "             ('placement', 0.33342196224408405),\n",
       "             ('lower', 0.3290867449184083),\n",
       "             ('comparison', 0.3285595625003484),\n",
       "             ('hemidiaphragm', 0.3273235760231193),\n",
       "             ('mild', 0.3263288009888751),\n",
       "             ('elevation', 0.324031007751938),\n",
       "             ('consolidation', 0.3232324145883736),\n",
       "             ('findings', 0.3220355523140848),\n",
       "             ('bilaterally', 0.32176534736031814),\n",
       "             ('within', 0.3212232026923179),\n",
       "             ('previously', 0.32101715163409855),\n",
       "             ('made', 0.32101715163409855),\n",
       "             ('projecting', 0.32042109566639415),\n",
       "             ('expanded', 0.3195311504650274),\n",
       "             ('abnormalities', 0.31903886925795055),\n",
       "             ('mediastinal', 0.3169230625225234),\n",
       "             ('overt', 0.31689073081977154),\n",
       "             ('performed', 0.31660004207868714),\n",
       "             ('calcifications', 0.31230283911671924),\n",
       "             ('pleural', 0.3114975159687722),\n",
       "             ('tortuous', 0.31136369906475014),\n",
       "             ('eval', 0.30839604544783833),\n",
       "             ('previous', 0.30573248407643316),\n",
       "             ('infectious', 0.3027157513578757),\n",
       "             ('status', 0.3027157513578757),\n",
       "             ('stable', 0.30172336010105566),\n",
       "             ('yearold', 0.30119168591224016),\n",
       "             ('comparisons', 0.300519238450273),\n",
       "             ('pulmonary', 0.29897896537542246),\n",
       "             ('heart', 0.29749713336760114),\n",
       "             ('well', 0.29668344302490646),\n",
       "             ('unchanged', 0.2963543415799097),\n",
       "             ('large', 0.29461139232395717),\n",
       "             ('bronchovascular', 0.2936997423686471),\n",
       "             ('abdomen', 0.2912215513237344),\n",
       "             ('single', 0.29122155132373434),\n",
       "             ('right', 0.2888947065291377),\n",
       "             ('moderate', 0.2883023726319662),\n",
       "             ('hyperinflated', 0.2866859086102935),\n",
       "             ('frontal', 0.28647997961496896),\n",
       "             ('cabg', 0.2840317100792752),\n",
       "             ('otherwise', 0.28286777698409715),\n",
       "             ('slightly', 0.2822893803815634),\n",
       "             ('exam', 0.28034040270056787),\n",
       "             ('post', 0.2749798991301805),\n",
       "             ('known', 0.2749798991301805),\n",
       "             ('intrathoracic', 0.2749798991301805),\n",
       "             ('consistent', 0.2749798991301805),\n",
       "             ('radiographs', 0.2735631933158084),\n",
       "             ('left', 0.26723753802041966),\n",
       "             ('cannot', 0.26648721399730824),\n",
       "             ('catheter', 0.26648721399730824),\n",
       "             ('cardiac', 0.2649529007835197),\n",
       "             ('female', 0.26380030346568556),\n",
       "             ('effusions', 0.2631014546810892),\n",
       "             ('sternotomy', 0.25658163961260405),\n",
       "             ('likely', 0.2500747831289261),\n",
       "             ('clinical', 0.2491720757716254),\n",
       "             ('patchy', 0.24527637601220517),\n",
       "             ('study', 0.24320235832589893),\n",
       "             ('noted', 0.24284523478744097),\n",
       "             ('base', 0.24217844727694093),\n",
       "             ('infiltrate', 0.2421784472769409),\n",
       "             ('bilateral', 0.2399336706492623),\n",
       "             ('persistent', 0.23718554946094195),\n",
       "             ('prior', 0.23514433752775724),\n",
       "             ('seen', 0.23350420609884331),\n",
       "             ('patient', 0.2306472008276814),\n",
       "             ('view', 0.22915410339345432),\n",
       "             ('underlying', 0.2233701460634129),\n",
       "             ('moderately', 0.2233701460634129),\n",
       "             ('information', 0.2219338092147956),\n",
       "             ('lung', 0.21554603950406925),\n",
       "             ('however', 0.21502057613168726),\n",
       "             ('apex', 0.21502057613168724),\n",
       "             ('hiatal', 0.21502057613168724),\n",
       "             ('compared', 0.21302981398114332),\n",
       "             ('edema', 0.21277286375071006),\n",
       "             ('central', 0.21237439313537318),\n",
       "             ('suggest', 0.20915686765073807),\n",
       "             ('detected', 0.20802229521250126),\n",
       "             ('subtle', 0.2072727272727273),\n",
       "             ('failure', 0.2072727272727273),\n",
       "             ('atelectasis', 0.20582169541357734),\n",
       "             ('dyspnea', 0.20360448124695568),\n",
       "             ('device', 0.19833926453143536),\n",
       "             ('severe', 0.1933395004625347),\n",
       "             ('compatible', 0.1933395004625347),\n",
       "             ('obtained', 0.1926201529219006),\n",
       "             ('also', 0.19150050176709282),\n",
       "             ('small', 0.1874879856468528),\n",
       "             ('hernia', 0.18705250596658712),\n",
       "             ('body', 0.18332663279850886),\n",
       "             ('mediastinum', 0.1825991991263196),\n",
       "             ('read', 0.18187751550092462),\n",
       "             ('upright', 0.18052978437519995),\n",
       "             (\"patient's\", 0.1804511278195489),\n",
       "             ('limited', 0.17766443523536288),\n",
       "             ('represent', 0.17698115870439632),\n",
       "             ('volumes', 0.17429981235666134),\n",
       "             ('silhouettes', 0.17322617104106494),\n",
       "             ('evaluate', 0.17255693415590673),\n",
       "             ('median', 0.17212664714494877),\n",
       "             ('prominence', 0.16793893129770993),\n",
       "             ('tube', 0.16552270327349528),\n",
       "             ('basilar', 0.16202597066993993),\n",
       "             ('retrocardiac', 0.16089299461123943),\n",
       "             ('lobe', 0.1590395062250312),\n",
       "             ('scarring', 0.15867392129571048),\n",
       "             ('remains', 0.15493436293436294),\n",
       "             ('assessed', 0.147801830825443),\n",
       "             ('pneumonia', 0.14717158281824583),\n",
       "             ('opacity', 0.14500741997032013),\n",
       "             ('grossly', 0.14470343872605584),\n",
       "             ('wires', 0.14470343872605584),\n",
       "             ('appropriate', 0.14409928371701078),\n",
       "             ('cardiomegaly', 0.14261073939991284),\n",
       "             ('mildly', 0.13678905687544998),\n",
       "             ('fluid', 0.1361415698621214),\n",
       "             ('abdominal', 0.1361415698621214),\n",
       "             ('lead', 0.13299395482023543),\n",
       "             ('enlarged', 0.13031580162808154),\n",
       "             ('interstitial', 0.12782223128280923),\n",
       "             ('presenting', 0.1271160669031931),\n",
       "             ('interval', 0.1156186612576065),\n",
       "             ('cough', 0.11176755201303827),\n",
       "             ('assess', 0.11008691071898868),\n",
       "             ('abnormalit', 0.10684919834699008),\n",
       "             ('overlying', 0.105381103112132),\n",
       "             ('bibasilar', 0.1042983565107459),\n",
       "             ('opacification', 0.10135790494665374),\n",
       "             ('linear', 0.10091337061924115),\n",
       "             ('could', 0.09763060234085072),\n",
       "             ('portable', 0.09566859300795331),\n",
       "             ('significant', 0.09507562834072558),\n",
       "             ('infection', 0.09421912332637085),\n",
       "             ('reflect', 0.09215619028954976),\n",
       "             ('silhouett', 0.09166666666666667),\n",
       "             ('opacities', 0.08276408276408277),\n",
       "             ('aspiration', 0.07773128777312878),\n",
       "             ('setting', 0.07235380665262672),\n",
       "             ('increased', 0.0712338104976142),\n",
       "             ('similar', 0.0684778156996587),\n",
       "             ('recent', 0.06708034663528406),\n",
       "             ('shortness', 0.06708034663528406),\n",
       "             ('breath', 0.06481290055819725),\n",
       "             ('superimposed', 0.06168527719022087),\n",
       "             ('atelectasi', 0.05723544581117781),\n",
       "             ('change', 0.05625588802655781),\n",
       "             ('somewhat', 0.05571104891376784),\n",
       "             ('demonstrates', 0.05193836978131213),\n",
       "             ('appearance', 0.05079185062173438),\n",
       "             ('valve', 0.0),\n",
       "             ('possible', 0.0),\n",
       "             ('concerning', 0.0),\n",
       "             ('terminates', 0.0),\n",
       "             ('venous', 0.0),\n",
       "             ('consolidatio', 0.0),\n",
       "             ('fever', 0.0),\n",
       "             ('prominent', 0.0)])"
      ]
     },
     "execution_count": 31,
     "metadata": {},
     "output_type": "execute_result"
    }
   ],
   "source": [
    "sort_dict(uv_word_percentage[36.5])"
   ]
  },
  {
   "cell_type": "code",
   "execution_count": 37,
   "metadata": {},
   "outputs": [],
   "source": [
    "sd = sort_dict(uv_word_percentage[38.5])"
   ]
  },
  {
   "cell_type": "code",
   "execution_count": 46,
   "metadata": {},
   "outputs": [],
   "source": [
    "pd.DataFrame([{\"token\": k,\"formula-here\": v} for k, v in  get_top_n(sd, 40).items()]).to_csv(\"study-percentage.csv\")"
   ]
  },
  {
   "cell_type": "code",
   "execution_count": null,
   "metadata": {},
   "outputs": [],
   "source": []
  },
  {
   "cell_type": "code",
   "execution_count": 33,
   "metadata": {},
   "outputs": [],
   "source": [
    "# uv_word_count = { w: { u_v: 0 for u_v in unique_values} for w in words}"
   ]
  },
  {
   "cell_type": "code",
   "execution_count": 34,
   "metadata": {},
   "outputs": [],
   "source": [
    "# # clinical value\n",
    "# # words\n",
    "# uv_word_count = { u_v: { w: 0 for w in words} for u_v in unique_values}\n",
    "# # word_value_count = { w: { u_v: 0 for u_v in unique_values} for w in words}\n",
    "# for i, d in tqdm(df.iterrows(), total=df.shape[0], desc=\"counting words for unique values...\"):\n",
    "#     for w in words:\n",
    "#         if w in d['prompt'].lower().split(\" \"):\n",
    "#             uv_word_count[d[feature]][w] +=1\n",
    "\n",
    "# uv_word_count"
   ]
  },
  {
   "cell_type": "code",
   "execution_count": null,
   "metadata": {},
   "outputs": [],
   "source": []
  },
  {
   "cell_type": "code",
   "execution_count": null,
   "metadata": {},
   "outputs": [],
   "source": []
  },
  {
   "cell_type": "code",
   "execution_count": null,
   "metadata": {},
   "outputs": [],
   "source": []
  }
 ],
 "metadata": {
  "kernelspec": {
   "display_name": "pytorch",
   "language": "python",
   "name": "python3"
  },
  "language_info": {
   "codemirror_mode": {
    "name": "ipython",
    "version": 3
   },
   "file_extension": ".py",
   "mimetype": "text/x-python",
   "name": "python",
   "nbconvert_exporter": "python",
   "pygments_lexer": "ipython3",
   "version": "3.9.18"
  },
  "orig_nbformat": 4
 },
 "nbformat": 4,
 "nbformat_minor": 2
}
